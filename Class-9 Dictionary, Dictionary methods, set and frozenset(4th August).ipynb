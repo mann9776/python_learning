{
 "cells": [
  {
   "cell_type": "markdown",
   "id": "4b352d87-018a-4faa-900f-9482c6819335",
   "metadata": {},
   "source": [
    "### Dictionary (mapping datatype)\n",
    "\n",
    "- A dictionary is a collection of keys and value pair (key:value) and is kept inside a curly bracket ({})\n",
    "- Each key:value pair is known as an element or an item of a dictionary\n",
    "- Keys should not duplicated whereas values can be duplicated\n",
    "- If the key is duplicated, the value associated with that key will be updated with the last value that has been assigned to it\n",
    "- Keys should be of immutable datatype (int, float, complex, string, tuple) while values can have any kind of a datatype\n",
    "- A dictionary is a container datatype that can store multiple elements (keys:values) in it\n",
    "- A dictionary is not an ordered collection of data which means it will not follow the concept of indexing\n",
    "- In the dictionary, values are mapped to keys and we can access any value by using the keys\n",
    "- It is not a sequential datatype\n",
    "- In a dictionary, length is the only operation that we can apply\n",
    "\n",
    "__Note:__ We cannot use concatenation, Repetition, Indexing and Slicing concept over a dictionary"
   ]
  },
  {
   "cell_type": "code",
   "execution_count": 17,
   "id": "282a3905-e3af-43da-8ca2-f0bd3adb7a46",
   "metadata": {},
   "outputs": [
    {
     "name": "stdout",
     "output_type": "stream",
     "text": [
      "{1: 100, 2: 200, 3: 300, 4: 400} <class 'dict'>\n"
     ]
    }
   ],
   "source": [
    "d = {1:100, 2:200, 3:300, 4:400}\n",
    "print(d, type(d))"
   ]
  },
  {
   "cell_type": "code",
   "execution_count": 19,
   "id": "df3e496a-21db-49c8-b7b1-354fb688a39f",
   "metadata": {},
   "outputs": [
    {
     "name": "stdout",
     "output_type": "stream",
     "text": [
      "{1: 100, 2: 200, 3: 300, 4: 200} <class 'dict'>\n"
     ]
    }
   ],
   "source": [
    "d = {1:100, 2:200, 3:300, 4:200}\n",
    "print(d, type(d))"
   ]
  },
  {
   "cell_type": "code",
   "execution_count": 21,
   "id": "7e65a704-5b4b-4691-88b3-21a467830ce8",
   "metadata": {},
   "outputs": [
    {
     "name": "stdout",
     "output_type": "stream",
     "text": [
      "{1: 100, 2: 500, 3: 300} <class 'dict'>\n"
     ]
    }
   ],
   "source": [
    "d = {1:100, 2:200, 3:300, 2:500}\n",
    "print(d, type(d))"
   ]
  },
  {
   "cell_type": "code",
   "execution_count": 24,
   "id": "0b084024-6d0a-46d2-8cce-286e1c1b15be",
   "metadata": {},
   "outputs": [
    {
     "name": "stdout",
     "output_type": "stream",
     "text": [
      "{1: 100, 2.0: 200, (3+8j): 300, '4': 200} <class 'dict'>\n"
     ]
    }
   ],
   "source": [
    "d = {1:100, 2.0:200, 3+8j:300, '4':200}\n",
    "print(d, type(d))"
   ]
  },
  {
   "cell_type": "code",
   "execution_count": 26,
   "id": "6dabf204-9d32-421c-8883-882e099dbfe5",
   "metadata": {},
   "outputs": [
    {
     "ename": "TypeError",
     "evalue": "unhashable type: 'list'",
     "output_type": "error",
     "traceback": [
      "\u001b[1;31m---------------------------------------------------------------------------\u001b[0m",
      "\u001b[1;31mTypeError\u001b[0m                                 Traceback (most recent call last)",
      "Cell \u001b[1;32mIn[26], line 1\u001b[0m\n\u001b[1;32m----> 1\u001b[0m d \u001b[38;5;241m=\u001b[39m {[\u001b[38;5;241m1\u001b[39m,\u001b[38;5;241m2\u001b[39m,\u001b[38;5;241m3\u001b[39m]:\u001b[38;5;241m100\u001b[39m, \u001b[38;5;241m2.0\u001b[39m:\u001b[38;5;241m200\u001b[39m, \u001b[38;5;241m3\u001b[39m\u001b[38;5;241m+\u001b[39m\u001b[38;5;241m8\u001b[39mj:\u001b[38;5;241m300\u001b[39m, \u001b[38;5;124m'\u001b[39m\u001b[38;5;124m4\u001b[39m\u001b[38;5;124m'\u001b[39m:\u001b[38;5;241m200\u001b[39m}\n\u001b[0;32m      2\u001b[0m \u001b[38;5;28mprint\u001b[39m(d, \u001b[38;5;28mtype\u001b[39m(d))\n",
      "\u001b[1;31mTypeError\u001b[0m: unhashable type: 'list'"
     ]
    }
   ],
   "source": [
    "d = {[1,2,3]:100, 2.0:200, 3+8j:300, '4':200}\n",
    "print(d, type(d))"
   ]
  },
  {
   "cell_type": "code",
   "execution_count": 28,
   "id": "dc988b4a-0482-4b9d-ad25-e7713debc79a",
   "metadata": {},
   "outputs": [
    {
     "name": "stdout",
     "output_type": "stream",
     "text": [
      "{(1, 2, 3): 100, 2.0: 200, (3+8j): 300, '4': 200} <class 'dict'>\n"
     ]
    }
   ],
   "source": [
    "d = {(1,2,3):100, 2.0:200, 3+8j:300, '4':200}\n",
    "print(d, type(d))"
   ]
  },
  {
   "cell_type": "code",
   "execution_count": 30,
   "id": "8effa185-ed08-406b-9bff-56d0031d3231",
   "metadata": {},
   "outputs": [
    {
     "name": "stdout",
     "output_type": "stream",
     "text": [
      "{1: 100, 2: 200, 3: 300, 4: 200} <class 'dict'>\n"
     ]
    }
   ],
   "source": [
    "d = {1:100, 2:200, 3:300, 4:200}\n",
    "print(d, type(d))"
   ]
  },
  {
   "cell_type": "code",
   "execution_count": 34,
   "id": "7d12b127-6ec4-4da4-8f11-863621104343",
   "metadata": {},
   "outputs": [
    {
     "ename": "KeyError",
     "evalue": "0",
     "output_type": "error",
     "traceback": [
      "\u001b[1;31m---------------------------------------------------------------------------\u001b[0m",
      "\u001b[1;31mKeyError\u001b[0m                                  Traceback (most recent call last)",
      "Cell \u001b[1;32mIn[34], line 1\u001b[0m\n\u001b[1;32m----> 1\u001b[0m d[\u001b[38;5;241m0\u001b[39m]\n",
      "\u001b[1;31mKeyError\u001b[0m: 0"
     ]
    }
   ],
   "source": [
    "d[0]"
   ]
  },
  {
   "cell_type": "code",
   "execution_count": 36,
   "id": "232ba88f-0582-4064-b48c-dfc24ea95afd",
   "metadata": {},
   "outputs": [
    {
     "data": {
      "text/plain": [
       "300"
      ]
     },
     "execution_count": 36,
     "metadata": {},
     "output_type": "execute_result"
    }
   ],
   "source": [
    "d[3]"
   ]
  },
  {
   "cell_type": "code",
   "execution_count": 38,
   "id": "1352f733-b31a-4441-8661-2b79c8613f60",
   "metadata": {},
   "outputs": [
    {
     "data": {
      "text/plain": [
       "{1: 100, 2: 200, 3: 300, 4: 200}"
      ]
     },
     "execution_count": 38,
     "metadata": {},
     "output_type": "execute_result"
    }
   ],
   "source": [
    "d"
   ]
  },
  {
   "cell_type": "code",
   "execution_count": 40,
   "id": "aa863a47-33c6-4c46-8862-fd5b96fb2665",
   "metadata": {},
   "outputs": [
    {
     "data": {
      "text/plain": [
       "4"
      ]
     },
     "execution_count": 40,
     "metadata": {},
     "output_type": "execute_result"
    }
   ],
   "source": [
    "len(d)"
   ]
  },
  {
   "cell_type": "code",
   "execution_count": 42,
   "id": "2ec5e924-90c9-4983-8a13-62b75e9809b1",
   "metadata": {},
   "outputs": [
    {
     "data": {
      "text/plain": [
       "{1: 100, 2: 200, 3: 300, 4: 200}"
      ]
     },
     "execution_count": 42,
     "metadata": {},
     "output_type": "execute_result"
    }
   ],
   "source": [
    "d"
   ]
  },
  {
   "cell_type": "code",
   "execution_count": 44,
   "id": "8bc46065-1743-450b-a9fc-0ae22c7587c2",
   "metadata": {},
   "outputs": [
    {
     "ename": "TypeError",
     "evalue": "unsupported operand type(s) for +: 'dict' and 'dict'",
     "output_type": "error",
     "traceback": [
      "\u001b[1;31m---------------------------------------------------------------------------\u001b[0m",
      "\u001b[1;31mTypeError\u001b[0m                                 Traceback (most recent call last)",
      "Cell \u001b[1;32mIn[44], line 3\u001b[0m\n\u001b[0;32m      1\u001b[0m d1 \u001b[38;5;241m=\u001b[39m {\u001b[38;5;241m5\u001b[39m:\u001b[38;5;241m500\u001b[39m}\n\u001b[1;32m----> 3\u001b[0m \u001b[38;5;28mprint\u001b[39m(d\u001b[38;5;241m+\u001b[39md1)\n",
      "\u001b[1;31mTypeError\u001b[0m: unsupported operand type(s) for +: 'dict' and 'dict'"
     ]
    }
   ],
   "source": [
    "d1 = {5:500}\n",
    "\n",
    "print(d+d1)"
   ]
  },
  {
   "cell_type": "code",
   "execution_count": 46,
   "id": "64d2e6a6-9b04-4f62-8088-6b7db236e520",
   "metadata": {},
   "outputs": [
    {
     "data": {
      "text/plain": [
       "{1: 100, 2: 200, 3: 300, 4: 200}"
      ]
     },
     "execution_count": 46,
     "metadata": {},
     "output_type": "execute_result"
    }
   ],
   "source": [
    "d"
   ]
  },
  {
   "cell_type": "code",
   "execution_count": 48,
   "id": "5885a7d3-ab13-40c3-bccf-e8b8296a26c8",
   "metadata": {},
   "outputs": [
    {
     "ename": "TypeError",
     "evalue": "unsupported operand type(s) for *: 'dict' and 'int'",
     "output_type": "error",
     "traceback": [
      "\u001b[1;31m---------------------------------------------------------------------------\u001b[0m",
      "\u001b[1;31mTypeError\u001b[0m                                 Traceback (most recent call last)",
      "Cell \u001b[1;32mIn[48], line 1\u001b[0m\n\u001b[1;32m----> 1\u001b[0m d\u001b[38;5;241m*\u001b[39m\u001b[38;5;241m3\u001b[39m\n",
      "\u001b[1;31mTypeError\u001b[0m: unsupported operand type(s) for *: 'dict' and 'int'"
     ]
    }
   ],
   "source": [
    "d*3"
   ]
  },
  {
   "cell_type": "code",
   "execution_count": 50,
   "id": "2558e0ef-ae37-4cc1-b1d2-1229e7558562",
   "metadata": {},
   "outputs": [
    {
     "data": {
      "text/plain": [
       "{'Name': ['Mayank', 'Rishabh'], 'City': ['Bengalurur', 'Noida']}"
      ]
     },
     "execution_count": 50,
     "metadata": {},
     "output_type": "execute_result"
    }
   ],
   "source": [
    "emp = {'Name':['Mayank', 'Rishabh'], 'City':['Bengalurur', 'Noida']}\n",
    "emp"
   ]
  },
  {
   "cell_type": "markdown",
   "id": "d4d13b07-16ab-4550-ae78-1768d05ac79b",
   "metadata": {},
   "source": [
    "### How to create a Dictionary\n",
    "\n",
    "#### Case-1\n",
    "\n",
    "- When we already know all the elements"
   ]
  },
  {
   "cell_type": "code",
   "execution_count": 52,
   "id": "49b9f80d-a6e6-4cb5-afb5-887752cf852e",
   "metadata": {},
   "outputs": [
    {
     "data": {
      "text/plain": [
       "{1: 100, 2: 200, 3: 300, 4: 400}"
      ]
     },
     "execution_count": 52,
     "metadata": {},
     "output_type": "execute_result"
    }
   ],
   "source": [
    "d = {1:100, 2:200, 3:300, 4:400}\n",
    "d"
   ]
  },
  {
   "cell_type": "markdown",
   "id": "e9d877ab-a051-4a6a-b311-d274ac4ca19e",
   "metadata": {},
   "source": [
    "#### Case-2\n",
    "\n",
    "- using typecasting, we will use dict()\n",
    "- only an iterable objects (list, tuple) can be converted to a dictionary\n",
    "- The iterable object should be pass a dict(), but the iterable object that we are passing should have one more iterable in it\n",
    "- The inner iterable should have two elements in it, the first element will become the key and the second element will become the values"
   ]
  },
  {
   "cell_type": "code",
   "execution_count": null,
   "id": "adbddc12-c9d8-4210-9a61-9fd1d94a91c6",
   "metadata": {},
   "outputs": [],
   "source": [
    "# list of a list\n",
    "# list of a tuple\n",
    "# tuple of a list\n",
    "# tuple of a tuple"
   ]
  },
  {
   "cell_type": "code",
   "execution_count": 54,
   "id": "ae036c2e-1d09-4927-8591-9f04126a8f6a",
   "metadata": {},
   "outputs": [
    {
     "data": {
      "text/plain": [
       "[1, 2, 3, 4, 5, 6, 7, 8, 9, 10]"
      ]
     },
     "execution_count": 54,
     "metadata": {},
     "output_type": "execute_result"
    }
   ],
   "source": [
    "lst = [i for i in range(1,11)]\n",
    "lst"
   ]
  },
  {
   "cell_type": "code",
   "execution_count": 56,
   "id": "074f2f8b-7632-43dd-aca5-252547b29c41",
   "metadata": {
    "scrolled": true
   },
   "outputs": [
    {
     "ename": "TypeError",
     "evalue": "cannot convert dictionary update sequence element #0 to a sequence",
     "output_type": "error",
     "traceback": [
      "\u001b[1;31m---------------------------------------------------------------------------\u001b[0m",
      "\u001b[1;31mTypeError\u001b[0m                                 Traceback (most recent call last)",
      "Cell \u001b[1;32mIn[56], line 1\u001b[0m\n\u001b[1;32m----> 1\u001b[0m d \u001b[38;5;241m=\u001b[39m \u001b[38;5;28mdict\u001b[39m(lst)\n",
      "\u001b[1;31mTypeError\u001b[0m: cannot convert dictionary update sequence element #0 to a sequence"
     ]
    }
   ],
   "source": [
    "d = dict(lst)"
   ]
  },
  {
   "cell_type": "code",
   "execution_count": 58,
   "id": "df4fd30e-587c-48c1-8555-1b8dab2df357",
   "metadata": {},
   "outputs": [
    {
     "data": {
      "text/plain": [
       "{1: 100, 2: 200, 3: 300, 4: 400}"
      ]
     },
     "execution_count": 58,
     "metadata": {},
     "output_type": "execute_result"
    }
   ],
   "source": [
    "lst = [[1,100], [2,200], [3, 300], [4, 400]]\n",
    "d = dict(lst)\n",
    "d"
   ]
  },
  {
   "cell_type": "code",
   "execution_count": 60,
   "id": "89ace86b-e3a7-4606-a9d7-65161242da80",
   "metadata": {},
   "outputs": [
    {
     "data": {
      "text/plain": [
       "{1: 100, 2: 200, 3: 300, 4: 400}"
      ]
     },
     "execution_count": 60,
     "metadata": {},
     "output_type": "execute_result"
    }
   ],
   "source": [
    "lst = [(1,100), (2,200), (3, 300), (4, 400)]\n",
    "d = dict(lst)\n",
    "d"
   ]
  },
  {
   "cell_type": "code",
   "execution_count": 62,
   "id": "7fac5c4c-3a64-4406-afa1-9ddc7f5ed522",
   "metadata": {},
   "outputs": [
    {
     "data": {
      "text/plain": [
       "{1: 100, 2: 200, 3: 300, 4: 400}"
      ]
     },
     "execution_count": 62,
     "metadata": {},
     "output_type": "execute_result"
    }
   ],
   "source": [
    "lst = ([1,100], [2,200], [3, 300], [4, 400])\n",
    "d = dict(lst)\n",
    "d"
   ]
  },
  {
   "cell_type": "code",
   "execution_count": 64,
   "id": "2f22faa2-7625-4a9c-b438-0a4eb108b3e7",
   "metadata": {},
   "outputs": [
    {
     "data": {
      "text/plain": [
       "{1: 100, 2: 200, 3: 300, 4: 400}"
      ]
     },
     "execution_count": 64,
     "metadata": {},
     "output_type": "execute_result"
    }
   ],
   "source": [
    "lst = ((1,100), (2,200), (3, 300), (4, 400))\n",
    "d = dict(lst)\n",
    "d"
   ]
  },
  {
   "cell_type": "markdown",
   "id": "7d1d8b76-b9bd-413d-89bc-2a457ae7bb06",
   "metadata": {},
   "source": [
    "#### Case-3\n",
    "\n",
    "- By using the enumerate() function inside a dictionary\n",
    "\n",
    "__Syntax:__\n",
    "\n",
    "            dict(enumerate(iterable_object)) ---> iterable objet (String, rannge, list, tuple , set, frozenet)"
   ]
  },
  {
   "cell_type": "code",
   "execution_count": 70,
   "id": "73b47ecf-ce1e-4d65-a9c9-8b808c635d7f",
   "metadata": {},
   "outputs": [
    {
     "data": {
      "text/plain": [
       "<enumerate at 0x1fa2075e980>"
      ]
     },
     "execution_count": 70,
     "metadata": {},
     "output_type": "execute_result"
    }
   ],
   "source": [
    "a = 'Mayank'\n",
    "e = (enumerate(a))\n",
    "e"
   ]
  },
  {
   "cell_type": "code",
   "execution_count": 66,
   "id": "e644b236-eea7-41ae-8981-baaf8bf80434",
   "metadata": {},
   "outputs": [
    {
     "data": {
      "text/plain": [
       "[(0, 'M'), (1, 'a'), (2, 'y'), (3, 'a'), (4, 'n'), (5, 'k')]"
      ]
     },
     "execution_count": 66,
     "metadata": {},
     "output_type": "execute_result"
    }
   ],
   "source": [
    "a = 'Mayank'\n",
    "e = list(enumerate(a))\n",
    "e"
   ]
  },
  {
   "cell_type": "markdown",
   "id": "e4664694-7544-46c5-9131-35929ffbb6f9",
   "metadata": {},
   "source": [
    "#### enumerate() function\n",
    "\n",
    "- it takes an iterable object as an argument\n",
    "- It returns an enuemrate object\n",
    "- To fetch the values from an enumerate object we need to pass them in either a list or a tuple or a dict\n",
    "- It maps the element of an iterable one by one from 0 to len(iterable)-1"
   ]
  },
  {
   "cell_type": "code",
   "execution_count": 68,
   "id": "11b6ba69-f449-40cb-bb5f-87c1905ef483",
   "metadata": {},
   "outputs": [
    {
     "data": {
      "text/plain": [
       "{0: 'M', 1: 'a', 2: 'y', 3: 'a', 4: 'n', 5: 'k'}"
      ]
     },
     "execution_count": 68,
     "metadata": {},
     "output_type": "execute_result"
    }
   ],
   "source": [
    "a = 'Mayank'\n",
    "e = dict(enumerate(a))\n",
    "e"
   ]
  },
  {
   "cell_type": "code",
   "execution_count": 72,
   "id": "9f5d268d-7510-4da6-82b6-5bc68fd95693",
   "metadata": {},
   "outputs": [
    {
     "data": {
      "text/plain": [
       "[1, 2, 3, 4, 5, 6, 7, 8, 9, 10]"
      ]
     },
     "execution_count": 72,
     "metadata": {},
     "output_type": "execute_result"
    }
   ],
   "source": [
    "lst = [i for i in range(1,11)]\n",
    "lst"
   ]
  },
  {
   "cell_type": "code",
   "execution_count": 74,
   "id": "57c15199-8f22-456c-9bed-72b8810146ed",
   "metadata": {},
   "outputs": [
    {
     "data": {
      "text/plain": [
       "<enumerate at 0x1fa2075f0b0>"
      ]
     },
     "execution_count": 74,
     "metadata": {},
     "output_type": "execute_result"
    }
   ],
   "source": [
    "e = enumerate(lst)\n",
    "e"
   ]
  },
  {
   "cell_type": "code",
   "execution_count": 76,
   "id": "96380bfb-129f-46bd-a959-ea3b51c60d7e",
   "metadata": {},
   "outputs": [
    {
     "data": {
      "text/plain": [
       "{0: 1, 1: 2, 2: 3, 3: 4, 4: 5, 5: 6, 6: 7, 7: 8, 8: 9, 9: 10}"
      ]
     },
     "execution_count": 76,
     "metadata": {},
     "output_type": "execute_result"
    }
   ],
   "source": [
    "dict(e)"
   ]
  },
  {
   "cell_type": "markdown",
   "id": "f6e055c0-78ee-47dc-a004-ab9af330b69a",
   "metadata": {},
   "source": [
    "#### Case-4\n",
    "\n",
    "##### Using zip() function\n",
    "\n",
    "- It take two iterable object as an argument\n",
    "- It maps all the elements of both the iterable one by one in a sequence and return a zip object\n",
    "- To fetch out the values, we can pass the zip object to a list, tuple or a dictionary\n",
    "\n",
    "__Note:__ While creating a dictionary using zip() function we should remember that it should have two iterable objects as an argument"
   ]
  },
  {
   "cell_type": "code",
   "execution_count": 97,
   "id": "35148208-287a-4e0a-97f8-9a660962c107",
   "metadata": {},
   "outputs": [
    {
     "data": {
      "text/plain": [
       "<zip at 0x1fa20726900>"
      ]
     },
     "execution_count": 97,
     "metadata": {},
     "output_type": "execute_result"
    }
   ],
   "source": [
    "a = 'mayank'\n",
    "b = [10,20,30,40, 50, 60]\n",
    "\n",
    "z = zip(b,a)\n",
    "z"
   ]
  },
  {
   "cell_type": "markdown",
   "id": "e8f19ecc-999d-441e-a334-ed06f31cba2f",
   "metadata": {},
   "source": [
    "                                           M  A  Y  A  N  K\n",
    "                                           0  1  2  3  4  5\n",
    "                                          10  20 30 40 50 60"
   ]
  },
  {
   "cell_type": "code",
   "execution_count": 99,
   "id": "241e0e23-53e9-45df-9a7d-fe6ba86f1ead",
   "metadata": {},
   "outputs": [
    {
     "data": {
      "text/plain": [
       "[(10, 'm'), (20, 'a'), (30, 'y'), (40, 'a'), (50, 'n'), (60, 'k')]"
      ]
     },
     "execution_count": 99,
     "metadata": {},
     "output_type": "execute_result"
    }
   ],
   "source": [
    "lst = list(z)\n",
    "lst"
   ]
  },
  {
   "cell_type": "code",
   "execution_count": 101,
   "id": "181c7de1-cb53-4062-9d17-d05d6000f5dd",
   "metadata": {},
   "outputs": [
    {
     "data": {
      "text/plain": [
       "((10, 'm'), (20, 'a'), (30, 'y'), (40, 'a'), (50, 'n'), (60, 'k'))"
      ]
     },
     "execution_count": 101,
     "metadata": {},
     "output_type": "execute_result"
    }
   ],
   "source": [
    "t = tuple(zip(b,a))\n",
    "t"
   ]
  },
  {
   "cell_type": "code",
   "execution_count": 107,
   "id": "738779b6-9c6f-44ed-a624-a2d988a0a62e",
   "metadata": {},
   "outputs": [
    {
     "data": {
      "text/plain": [
       "{10: 'm', 20: 'a', 30: 'y', 40: 'a', 50: 'n', 60: 'k'}"
      ]
     },
     "execution_count": 107,
     "metadata": {},
     "output_type": "execute_result"
    }
   ],
   "source": [
    "d = dict(zip(b,a))\n",
    "d"
   ]
  },
  {
   "cell_type": "code",
   "execution_count": 109,
   "id": "33a8f269-906a-4f50-8d08-5a40b84b7bbe",
   "metadata": {},
   "outputs": [
    {
     "data": {
      "text/plain": [
       "<zip at 0x1fa207ae980>"
      ]
     },
     "execution_count": 109,
     "metadata": {},
     "output_type": "execute_result"
    }
   ],
   "source": [
    "a = 'mayank'\n",
    "b = [10,20,30,40]\n",
    "\n",
    "z = zip(b,a)\n",
    "z"
   ]
  },
  {
   "cell_type": "markdown",
   "id": "9d26e13c-c45b-4dac-94f4-e96c095adc5d",
   "metadata": {},
   "source": [
    "                                           M  A  Y  A  N  K\n",
    "                                           0  1  2  3  4  5\n",
    "                                          10  20 30 40"
   ]
  },
  {
   "cell_type": "code",
   "execution_count": 111,
   "id": "be6a3c71-a246-4397-80a6-d3d7cbce423c",
   "metadata": {},
   "outputs": [
    {
     "data": {
      "text/plain": [
       "{10: 'm', 20: 'a', 30: 'y', 40: 'a'}"
      ]
     },
     "execution_count": 111,
     "metadata": {},
     "output_type": "execute_result"
    }
   ],
   "source": [
    "d = dict(z)\n",
    "d"
   ]
  },
  {
   "cell_type": "markdown",
   "id": "124ae621-bf37-4c62-8c0d-7b0666a84964",
   "metadata": {},
   "source": [
    "#### Case-5\n",
    "\n",
    "- By taking input from the user"
   ]
  },
  {
   "cell_type": "code",
   "execution_count": 114,
   "id": "22a21518-eafe-4260-8d67-d8a7b8d2b907",
   "metadata": {},
   "outputs": [
    {
     "name": "stdin",
     "output_type": "stream",
     "text": [
      "Enter the number of elements you want the dictionary to have:  4\n",
      "Enter a key:  1\n",
      "Enter a value:  100\n",
      "Enter a key:  2\n",
      "Enter a value:  200\n",
      "Enter a key:  3\n",
      "Enter a value:  300\n",
      "Enter a key:  4\n",
      "Enter a value:  400\n"
     ]
    },
    {
     "data": {
      "text/plain": [
       "{1: 100, 2: 200, 3: 300, 4: 400}"
      ]
     },
     "execution_count": 114,
     "metadata": {},
     "output_type": "execute_result"
    }
   ],
   "source": [
    "n = int(input('Enter the number of elements you want the dictionary to have: '))\n",
    "\n",
    "key = []\n",
    "value = []\n",
    "\n",
    "for i in range(n):\n",
    "    a = eval(input('Enter a key: '))\n",
    "    key.append(a)\n",
    "\n",
    "    b = eval(input('Enter a value: '))\n",
    "    value.append(b)\n",
    "\n",
    "z = dict(zip(key, value))\n",
    "z"
   ]
  },
  {
   "cell_type": "code",
   "execution_count": 118,
   "id": "1add96db-169d-4b64-8641-643df9d71aba",
   "metadata": {},
   "outputs": [
    {
     "name": "stdin",
     "output_type": "stream",
     "text": [
      "Enter the number of elements you want the dictionary to have:  3\n",
      "Enter a key:  'India'\n",
      "Enter a value:  'New Delhi'\n",
      "Enter a key:  \"Russia\"\n",
      "Enter a value:  'Moscow'\n",
      "Enter a key:  'China'\n",
      "Enter a value:  'Beijing'\n"
     ]
    },
    {
     "data": {
      "text/plain": [
       "{'India': 'New Delhi', 'Russia': 'Moscow', 'China': 'Beijing'}"
      ]
     },
     "execution_count": 118,
     "metadata": {},
     "output_type": "execute_result"
    }
   ],
   "source": [
    "n = int(input('Enter the number of elements you want the dictionary to have: '))\n",
    "\n",
    "country= []\n",
    "capital = []\n",
    "\n",
    "for i in range(n):\n",
    "    a = eval(input('Enter a key: '))\n",
    "    country.append(a)\n",
    "\n",
    "    b = eval(input('Enter a value: '))\n",
    "    capital.append(b)\n",
    "\n",
    "z = dict(zip(country, capital))\n",
    "z"
   ]
  },
  {
   "cell_type": "markdown",
   "id": "3644d1e9-7fb0-4fcd-badf-236e1c357232",
   "metadata": {},
   "source": [
    "#### Case-6\n",
    "\n",
    "- using dictionary comprehension\n",
    "- This is the easiest way to create a dictionary using loops\n",
    "\n",
    "__Syntax:__\n",
    "\n",
    "        {i:operation for i in range() condition)"
   ]
  },
  {
   "cell_type": "code",
   "execution_count": 122,
   "id": "a15dcb19-ef77-4d12-9cda-0977eddddd70",
   "metadata": {},
   "outputs": [
    {
     "name": "stdout",
     "output_type": "stream",
     "text": [
      "{'A': 65, 'B': 66, 'C': 67, 'D': 68, 'E': 69, 'F': 70, 'G': 71, 'H': 72, 'I': 73, 'J': 74, 'K': 75, 'L': 76, 'M': 77, 'N': 78, 'O': 79, 'P': 80, 'Q': 81, 'R': 82, 'S': 83, 'T': 84, 'U': 85, 'V': 86, 'W': 87, 'X': 88, 'Y': 89, 'Z': 90}\n"
     ]
    }
   ],
   "source": [
    "# WAP that is going to take all the letters from A-Z as keys and their associated ASCII values as the values of the key\n",
    "\n",
    "# Conventional way\n",
    "d = {}\n",
    "\n",
    "for i in range(ord('A'), ord('Z')+1):\n",
    "    d[chr(i)] = i\n",
    "\n",
    "print(d)"
   ]
  },
  {
   "cell_type": "code",
   "execution_count": 128,
   "id": "f6f0501c-d2c7-4de0-9f1c-1a52237b5520",
   "metadata": {},
   "outputs": [
    {
     "name": "stdout",
     "output_type": "stream",
     "text": [
      "{'A': 65, 'B': 66, 'C': 67, 'D': 68, 'E': 69, 'F': 70, 'G': 71, 'H': 72, 'I': 73, 'J': 74, 'K': 75, 'L': 76, 'M': 77, 'N': 78, 'O': 79, 'P': 80, 'Q': 81, 'R': 82, 'S': 83, 'T': 84, 'U': 85, 'V': 86, 'W': 87, 'X': 88, 'Y': 89, 'Z': 90}\n"
     ]
    }
   ],
   "source": [
    "# dictionary comprehension\n",
    "\n",
    "d1= {chr(i):i for i in range(ord('A'), ord('Z')+1)}\n",
    "print(d1)"
   ]
  },
  {
   "cell_type": "markdown",
   "id": "f77753e6-3ce5-48fc-b856-359ba3012454",
   "metadata": {},
   "source": [
    "#### WAP to create a dictionary which is going to have 1-10 as key and when the number is even we will have square value and when the number is odd, then cube of the value"
   ]
  },
  {
   "cell_type": "code",
   "execution_count": 130,
   "id": "78b4f13b-4171-444d-9d32-8fff4200072a",
   "metadata": {},
   "outputs": [
    {
     "name": "stdout",
     "output_type": "stream",
     "text": [
      "{1: 1, 2: 4, 3: 27, 4: 16, 5: 125, 6: 36, 7: 343, 8: 64, 9: 729, 10: 100}\n"
     ]
    }
   ],
   "source": [
    "d = {}\n",
    "\n",
    "# Iterate through the numbers from 1 to 10\n",
    "for i in range(1, 11):\n",
    "    if i % 2 == 0:  # Check if the number is even\n",
    "        d[i] = i ** 2  # Square the number\n",
    "    else:  # The number is odd\n",
    "        d[i] = i ** 3  # Cube the number\n",
    "\n",
    "# Print the resulting dictionary\n",
    "print(d)\n"
   ]
  },
  {
   "cell_type": "code",
   "execution_count": 132,
   "id": "6294787a-031c-41eb-995e-69158bf11ebb",
   "metadata": {},
   "outputs": [
    {
     "data": {
      "text/plain": [
       "{1: 1, 2: 4, 3: 27, 4: 16, 5: 125, 6: 36, 7: 343, 8: 64, 9: 729, 10: 100}"
      ]
     },
     "execution_count": 132,
     "metadata": {},
     "output_type": "execute_result"
    }
   ],
   "source": [
    "d2 = {i:i**2 if i%2 == 0 else i**3 for i in range(1,11)}\n",
    "d2"
   ]
  },
  {
   "cell_type": "markdown",
   "id": "b834cf09-aab1-4400-9188-63b5491fd5ba",
   "metadata": {},
   "source": [
    "### We can map multiple values to a key"
   ]
  },
  {
   "cell_type": "code",
   "execution_count": 134,
   "id": "420e63e8-09f4-477b-886d-102b11f79231",
   "metadata": {},
   "outputs": [
    {
     "name": "stdin",
     "output_type": "stream",
     "text": [
      "Enter the number of elements you want the dictionary to have:  4\n",
      "Enter a key:  'Name'\n",
      "Enter a value:  ['Mayank', 'Geetika', 'Abha', 'Rishabh']\n",
      "Enter a key:  'Age'\n",
      "Enter a value:  [29, 27, 29, 30]\n",
      "Enter a key:  'City'\n",
      "Enter a value:  ['Bengaluru', 'Ambala', 'Panchkula', 'Noida']\n",
      "Enter a key:  'Salary'\n",
      "Enter a value:  [8000, 9000, 12000, 7600]\n"
     ]
    },
    {
     "data": {
      "text/plain": [
       "{'Name': ['Mayank', 'Geetika', 'Abha', 'Rishabh'],\n",
       " 'Age': [29, 27, 29, 30],\n",
       " 'City': ['Bengaluru', 'Ambala', 'Panchkula', 'Noida'],\n",
       " 'Salary': [8000, 9000, 12000, 7600]}"
      ]
     },
     "execution_count": 134,
     "metadata": {},
     "output_type": "execute_result"
    }
   ],
   "source": [
    "n = int(input('Enter the number of elements you want the dictionary to have: '))\n",
    "\n",
    "key= []\n",
    "value = []\n",
    "\n",
    "for i in range(n):\n",
    "    a = eval(input('Enter a key: '))\n",
    "    key.append(a)\n",
    "\n",
    "    b = eval(input('Enter a value: '))\n",
    "    value.append(b)\n",
    "\n",
    "z = dict(zip(key, value))\n",
    "z"
   ]
  },
  {
   "cell_type": "markdown",
   "id": "7200479f-a1c9-4ef3-8d63-e116ffb26e8d",
   "metadata": {},
   "source": [
    "#### Dictionary are mutable\n",
    "\n",
    "- If we add or remove elements from the same dictionary, it will not create a new object and the changes are brought in the same memory location\n"
   ]
  },
  {
   "cell_type": "code",
   "execution_count": 138,
   "id": "62142417-6e0c-496f-b4e2-d9900e47369d",
   "metadata": {},
   "outputs": [
    {
     "name": "stdout",
     "output_type": "stream",
     "text": [
      "{'Name': 'Rajesh', 'Age': 29, 'City': 'Mumbai', 'Salary': 45000} 2173802815424\n"
     ]
    }
   ],
   "source": [
    "emp = {'Name':'Rajesh', 'Age':29, 'City':'Mumbai', 'Salary' :45000}\n",
    "print(emp, id(emp))"
   ]
  },
  {
   "cell_type": "code",
   "execution_count": 140,
   "id": "2cadabb8-6576-45db-9c3e-5fdedcee100b",
   "metadata": {},
   "outputs": [],
   "source": [
    "emp['City'] = 'Pune'"
   ]
  },
  {
   "cell_type": "code",
   "execution_count": 142,
   "id": "c314b11e-0483-474b-9868-c80eccf55e17",
   "metadata": {},
   "outputs": [
    {
     "name": "stdout",
     "output_type": "stream",
     "text": [
      "{'Name': 'Rajesh', 'Age': 29, 'City': 'Pune', 'Salary': 45000} 2173802815424\n"
     ]
    }
   ],
   "source": [
    "print(emp, id(emp))"
   ]
  },
  {
   "cell_type": "markdown",
   "id": "d4998fcf-7829-408b-bcd3-fc099ceb484f",
   "metadata": {},
   "source": [
    "#### How to add keys in an already existing dictionary"
   ]
  },
  {
   "cell_type": "code",
   "execution_count": 144,
   "id": "ad6524be-bc52-4546-8cbb-8adcac13b946",
   "metadata": {},
   "outputs": [],
   "source": [
    "emp['Hobby'] = ['Cricket', 'Signing']"
   ]
  },
  {
   "cell_type": "code",
   "execution_count": 146,
   "id": "6512d6ff-c6c6-4c87-98dd-205d91adc326",
   "metadata": {},
   "outputs": [
    {
     "name": "stdout",
     "output_type": "stream",
     "text": [
      "{'Name': 'Rajesh', 'Age': 29, 'City': 'Pune', 'Salary': 45000, 'Hobby': ['Cricket', 'Signing']} 2173802815424\n"
     ]
    }
   ],
   "source": [
    "print(emp, id(emp))"
   ]
  },
  {
   "cell_type": "markdown",
   "id": "a32179c3-ea98-4e81-bc74-d31e031a3ddf",
   "metadata": {},
   "source": [
    "#### Nested Dictionary\n",
    "\n",
    "- A dictionary within another dictionary is known as a nested dictionary\n",
    "- where a dictionary is mapped to a key of another dictionary as a values\n",
    "\n",
    "__Syntax:__\n",
    "\n",
    "                {key:{key:value}}"
   ]
  },
  {
   "cell_type": "code",
   "execution_count": 148,
   "id": "35219a11-5c72-4486-b820-77fb01847165",
   "metadata": {},
   "outputs": [],
   "source": [
    "emp1 = {'Name':'Rajesh', 'Age':29, 'City':'Mumbai', 'Salary' :45000}\n",
    "emp2 = {'Name':'Mayank', 'Age':29, 'City':'Bengaluru', 'Salary' :55000}\n",
    "emp3 = {'Name':'Deepak', 'Age':25, 'City':'Noida', 'Salary' :50000}"
   ]
  },
  {
   "cell_type": "code",
   "execution_count": 150,
   "id": "d858853b-f82c-4103-b227-0fe2a90bf926",
   "metadata": {},
   "outputs": [
    {
     "data": {
      "text/plain": [
       "{'emp1_detail': {'Name': 'Rajesh',\n",
       "  'Age': 29,\n",
       "  'City': 'Mumbai',\n",
       "  'Salary': 45000},\n",
       " 'emp2_detail': {'Name': 'Mayank',\n",
       "  'Age': 29,\n",
       "  'City': 'Bengaluru',\n",
       "  'Salary': 55000},\n",
       " 'emp3_detail': {'Name': 'Deepak',\n",
       "  'Age': 25,\n",
       "  'City': 'Noida',\n",
       "  'Salary': 50000}}"
      ]
     },
     "execution_count": 150,
     "metadata": {},
     "output_type": "execute_result"
    }
   ],
   "source": [
    "emp_details = {'emp1_detail':emp1, 'emp2_detail':emp2, 'emp3_detail':emp3}\n",
    "emp_details"
   ]
  },
  {
   "cell_type": "markdown",
   "id": "5ba30958-c32e-4163-801a-442d5e863154",
   "metadata": {},
   "source": [
    "### How to fetch out the values from a nested dictionary"
   ]
  },
  {
   "cell_type": "code",
   "execution_count": 152,
   "id": "aadf930e-3444-4195-b3e6-7c341faad187",
   "metadata": {},
   "outputs": [
    {
     "data": {
      "text/plain": [
       "{1: 1, 2: 4, 3: 27, 4: 16, 5: 125, 6: 36, 7: 343, 8: 64, 9: 729, 10: 100}"
      ]
     },
     "execution_count": 152,
     "metadata": {},
     "output_type": "execute_result"
    }
   ],
   "source": [
    "d"
   ]
  },
  {
   "cell_type": "code",
   "execution_count": 154,
   "id": "b721e417-9437-4b95-a2f0-49a44415d1fc",
   "metadata": {},
   "outputs": [
    {
     "name": "stdout",
     "output_type": "stream",
     "text": [
      "1\n",
      "2\n",
      "3\n",
      "4\n",
      "5\n",
      "6\n",
      "7\n",
      "8\n",
      "9\n",
      "10\n"
     ]
    }
   ],
   "source": [
    "for i in d:\n",
    "    print(i)"
   ]
  },
  {
   "cell_type": "code",
   "execution_count": 156,
   "id": "c8e117ae-81ab-4b7a-b382-4358bd8b19f4",
   "metadata": {},
   "outputs": [
    {
     "data": {
      "text/plain": [
       "{'emp1_detail': {'Name': 'Rajesh',\n",
       "  'Age': 29,\n",
       "  'City': 'Mumbai',\n",
       "  'Salary': 45000},\n",
       " 'emp2_detail': {'Name': 'Mayank',\n",
       "  'Age': 29,\n",
       "  'City': 'Bengaluru',\n",
       "  'Salary': 55000},\n",
       " 'emp3_detail': {'Name': 'Deepak',\n",
       "  'Age': 25,\n",
       "  'City': 'Noida',\n",
       "  'Salary': 50000}}"
      ]
     },
     "execution_count": 156,
     "metadata": {},
     "output_type": "execute_result"
    }
   ],
   "source": [
    "emp_details"
   ]
  },
  {
   "cell_type": "code",
   "execution_count": 158,
   "id": "fb4ab742-a1f1-4b12-84a9-b9f822259317",
   "metadata": {},
   "outputs": [
    {
     "name": "stdout",
     "output_type": "stream",
     "text": [
      "emp1_detail\n",
      "emp2_detail\n",
      "emp3_detail\n"
     ]
    }
   ],
   "source": [
    "for i in emp_details:\n",
    "    print(i)"
   ]
  },
  {
   "cell_type": "code",
   "execution_count": 160,
   "id": "3d86d0b6-4f2d-4bb6-a927-4ebdb0fbc803",
   "metadata": {},
   "outputs": [
    {
     "name": "stdout",
     "output_type": "stream",
     "text": [
      "{'Name': 'Rajesh', 'Age': 29, 'City': 'Mumbai', 'Salary': 45000}\n",
      "{'Name': 'Mayank', 'Age': 29, 'City': 'Bengaluru', 'Salary': 55000}\n",
      "{'Name': 'Deepak', 'Age': 25, 'City': 'Noida', 'Salary': 50000}\n"
     ]
    }
   ],
   "source": [
    "# I wqnt to fetch out the names of each employee\n",
    "\n",
    "for i in emp_details:\n",
    "    print(emp_details[i])"
   ]
  },
  {
   "cell_type": "code",
   "execution_count": 164,
   "id": "1f1d7011-6dfc-43a2-8e22-939bea9d098e",
   "metadata": {},
   "outputs": [
    {
     "name": "stdout",
     "output_type": "stream",
     "text": [
      "Rajesh\n",
      "Mayank\n",
      "Deepak\n"
     ]
    }
   ],
   "source": [
    "# I wqnt to fetch out the names of each employee\n",
    "\n",
    "for i in emp_details:\n",
    "    print(emp_details[i]['Name'])"
   ]
  },
  {
   "cell_type": "markdown",
   "id": "c114296c-8b62-44c4-bab7-8a218072df7e",
   "metadata": {},
   "source": [
    "#### How to iterate over a nested dictionary"
   ]
  },
  {
   "cell_type": "code",
   "execution_count": 168,
   "id": "97810f31-35be-41c3-bdd0-172c7892db96",
   "metadata": {},
   "outputs": [
    {
     "name": "stdout",
     "output_type": "stream",
     "text": [
      "Name Rajesh\n",
      "Age 29\n",
      "City Mumbai\n",
      "Salary 45000\n",
      "Name Mayank\n",
      "Age 29\n",
      "City Bengaluru\n",
      "Salary 55000\n",
      "Name Deepak\n",
      "Age 25\n",
      "City Noida\n",
      "Salary 50000\n"
     ]
    }
   ],
   "source": [
    "for i in emp_details: # this loop is going to iterate over the keys of the emp_details [emp1_detail, emp2_Detail, emp3_detail]\n",
    "    for j in emp_details[i]: # this loop is  going to iterate over the keys of the inner dictionary [name, age, city, salary]\n",
    "        print(j, emp_details[i][j])"
   ]
  },
  {
   "cell_type": "markdown",
   "id": "45849590-c74f-4e96-a528-d785d9b94759",
   "metadata": {},
   "source": [
    "### Dictionary Methods"
   ]
  },
  {
   "cell_type": "code",
   "execution_count": 170,
   "id": "91c19b41-3069-4fd1-b0ee-94be65cac5db",
   "metadata": {},
   "outputs": [
    {
     "name": "stdout",
     "output_type": "stream",
     "text": [
      "['__class__', '__class_getitem__', '__contains__', '__delattr__', '__delitem__', '__dir__', '__doc__', '__eq__', '__format__', '__ge__', '__getattribute__', '__getitem__', '__getstate__', '__gt__', '__hash__', '__init__', '__init_subclass__', '__ior__', '__iter__', '__le__', '__len__', '__lt__', '__ne__', '__new__', '__or__', '__reduce__', '__reduce_ex__', '__repr__', '__reversed__', '__ror__', '__setattr__', '__setitem__', '__sizeof__', '__str__', '__subclasshook__', 'clear', 'copy', 'fromkeys', 'get', 'items', 'keys', 'pop', 'popitem', 'setdefault', 'update', 'values']\n"
     ]
    }
   ],
   "source": [
    "print(dir(dict))"
   ]
  },
  {
   "cell_type": "markdown",
   "id": "e9e68bae-8e64-4239-966b-46b362b8ade0",
   "metadata": {},
   "source": [
    "### keys()\n",
    "\n",
    "- It returns a key inside a dictionary object containing a list from the dictionary"
   ]
  },
  {
   "cell_type": "code",
   "execution_count": 172,
   "id": "f2acc07d-caa5-42e0-8528-b6fb774f6b20",
   "metadata": {},
   "outputs": [
    {
     "data": {
      "text/plain": [
       "{1: 1, 2: 4, 3: 27, 4: 16, 5: 125, 6: 36, 7: 343, 8: 64, 9: 729, 10: 100}"
      ]
     },
     "execution_count": 172,
     "metadata": {},
     "output_type": "execute_result"
    }
   ],
   "source": [
    "d"
   ]
  },
  {
   "cell_type": "code",
   "execution_count": 174,
   "id": "9f3075c5-8e1c-4eea-b33b-7aba65bec935",
   "metadata": {},
   "outputs": [
    {
     "data": {
      "text/plain": [
       "dict_keys([1, 2, 3, 4, 5, 6, 7, 8, 9, 10])"
      ]
     },
     "execution_count": 174,
     "metadata": {},
     "output_type": "execute_result"
    }
   ],
   "source": [
    "d.keys()"
   ]
  },
  {
   "cell_type": "code",
   "execution_count": 178,
   "id": "2eca81df-36b4-4c87-98b4-18c2f6970d17",
   "metadata": {},
   "outputs": [
    {
     "name": "stdout",
     "output_type": "stream",
     "text": [
      "<class 'dict_keys'>\n"
     ]
    }
   ],
   "source": [
    "print(type(d.keys()))"
   ]
  },
  {
   "cell_type": "markdown",
   "id": "80cafa7c-94b7-4655-9cc5-b0be806f6b90",
   "metadata": {},
   "source": [
    "#### Inner Keys"
   ]
  },
  {
   "cell_type": "code",
   "execution_count": 184,
   "id": "6bd46974-7720-4043-a860-6551d7972555",
   "metadata": {},
   "outputs": [
    {
     "data": {
      "text/plain": [
       "{'emp1_detail': {'Name': 'Rajesh',\n",
       "  'Age': 29,\n",
       "  'City': 'Mumbai',\n",
       "  'Salary': 45000},\n",
       " 'emp2_detail': {'Name': 'Mayank',\n",
       "  'Age': 29,\n",
       "  'City': 'Bengaluru',\n",
       "  'Salary': 55000},\n",
       " 'emp3_detail': {'Name': 'Deepak',\n",
       "  'Age': 25,\n",
       "  'City': 'Noida',\n",
       "  'Salary': 50000}}"
      ]
     },
     "execution_count": 184,
     "metadata": {},
     "output_type": "execute_result"
    }
   ],
   "source": [
    "emp_details"
   ]
  },
  {
   "cell_type": "code",
   "execution_count": 186,
   "id": "c904c852-65b9-4b6c-bcf2-df0e717cbf5e",
   "metadata": {},
   "outputs": [
    {
     "name": "stdout",
     "output_type": "stream",
     "text": [
      "dict_keys(['Name', 'Age', 'City', 'Salary'])\n",
      "dict_keys(['Name', 'Age', 'City', 'Salary'])\n",
      "dict_keys(['Name', 'Age', 'City', 'Salary'])\n"
     ]
    }
   ],
   "source": [
    "for i in emp_details:\n",
    "    print(emp_details[i].keys())"
   ]
  },
  {
   "cell_type": "markdown",
   "id": "387deeb0-d762-4be0-ba0e-18c3be1d7493",
   "metadata": {},
   "source": [
    "### Values\n",
    "\n",
    "- It returns a dictionary object, containing a list of the values from the dictionary"
   ]
  },
  {
   "cell_type": "code",
   "execution_count": 188,
   "id": "2b5a3cee-4ff9-47cd-9928-3332174e97dd",
   "metadata": {},
   "outputs": [
    {
     "data": {
      "text/plain": [
       "{1: 1, 2: 4, 3: 27, 4: 16, 5: 125, 6: 36, 7: 343, 8: 64, 9: 729, 10: 100}"
      ]
     },
     "execution_count": 188,
     "metadata": {},
     "output_type": "execute_result"
    }
   ],
   "source": [
    "d"
   ]
  },
  {
   "cell_type": "code",
   "execution_count": 190,
   "id": "822fc19f-0ca6-4424-b4a4-cf18412672ec",
   "metadata": {},
   "outputs": [
    {
     "data": {
      "text/plain": [
       "dict_values([1, 4, 27, 16, 125, 36, 343, 64, 729, 100])"
      ]
     },
     "execution_count": 190,
     "metadata": {},
     "output_type": "execute_result"
    }
   ],
   "source": [
    "d.values()"
   ]
  },
  {
   "cell_type": "markdown",
   "id": "cc9f5012-2708-456f-a7a4-728350f646cd",
   "metadata": {},
   "source": [
    "#### Inner values"
   ]
  },
  {
   "cell_type": "code",
   "execution_count": 192,
   "id": "dfa3538d-4718-4a3b-9e18-7f16adad089a",
   "metadata": {},
   "outputs": [
    {
     "data": {
      "text/plain": [
       "dict_values([{'Name': 'Rajesh', 'Age': 29, 'City': 'Mumbai', 'Salary': 45000}, {'Name': 'Mayank', 'Age': 29, 'City': 'Bengaluru', 'Salary': 55000}, {'Name': 'Deepak', 'Age': 25, 'City': 'Noida', 'Salary': 50000}])"
      ]
     },
     "execution_count": 192,
     "metadata": {},
     "output_type": "execute_result"
    }
   ],
   "source": [
    "emp_details.values()"
   ]
  },
  {
   "cell_type": "code",
   "execution_count": 194,
   "id": "c5477086-a49c-4828-9e15-ddc3b4a65968",
   "metadata": {},
   "outputs": [
    {
     "name": "stdout",
     "output_type": "stream",
     "text": [
      "dict_values(['Rajesh', 29, 'Mumbai', 45000])\n",
      "dict_values(['Mayank', 29, 'Bengaluru', 55000])\n",
      "dict_values(['Deepak', 25, 'Noida', 50000])\n"
     ]
    }
   ],
   "source": [
    "for i in emp_details:\n",
    "    print(emp_details[i].values())"
   ]
  },
  {
   "cell_type": "markdown",
   "id": "6216c6cc-4999-44a5-8e0a-581022163145",
   "metadata": {},
   "source": [
    "### items()\n",
    "\n",
    "- It returns a dictionary object, that contains a list of tuples where every tuple has two values in it.\n",
    "- The first element of the tuple is the key and the second element of the tuple is the value associated to that key"
   ]
  },
  {
   "cell_type": "code",
   "execution_count": 196,
   "id": "97fbeafc-701f-4812-9825-d06f8e8a7293",
   "metadata": {},
   "outputs": [
    {
     "data": {
      "text/plain": [
       "{1: 1, 2: 4, 3: 27, 4: 16, 5: 125, 6: 36, 7: 343, 8: 64, 9: 729, 10: 100}"
      ]
     },
     "execution_count": 196,
     "metadata": {},
     "output_type": "execute_result"
    }
   ],
   "source": [
    "d"
   ]
  },
  {
   "cell_type": "code",
   "execution_count": 198,
   "id": "9cd68a12-9526-4e4e-92c5-a9d69b2feef9",
   "metadata": {},
   "outputs": [
    {
     "data": {
      "text/plain": [
       "dict_items([(1, 1), (2, 4), (3, 27), (4, 16), (5, 125), (6, 36), (7, 343), (8, 64), (9, 729), (10, 100)])"
      ]
     },
     "execution_count": 198,
     "metadata": {},
     "output_type": "execute_result"
    }
   ],
   "source": [
    "d.items()"
   ]
  },
  {
   "cell_type": "code",
   "execution_count": 200,
   "id": "86e0545b-50ab-4d07-9df6-d710edbd7b27",
   "metadata": {},
   "outputs": [
    {
     "data": {
      "text/plain": [
       "dict_items([('emp1_detail', {'Name': 'Rajesh', 'Age': 29, 'City': 'Mumbai', 'Salary': 45000}), ('emp2_detail', {'Name': 'Mayank', 'Age': 29, 'City': 'Bengaluru', 'Salary': 55000}), ('emp3_detail', {'Name': 'Deepak', 'Age': 25, 'City': 'Noida', 'Salary': 50000})])"
      ]
     },
     "execution_count": 200,
     "metadata": {},
     "output_type": "execute_result"
    }
   ],
   "source": [
    "emp_details.items()"
   ]
  },
  {
   "cell_type": "markdown",
   "id": "e3db3ac0-f0d9-4681-bdc8-f9cf41883c6a",
   "metadata": {},
   "source": [
    "#### Inner items"
   ]
  },
  {
   "cell_type": "code",
   "execution_count": 202,
   "id": "894baac1-bb7a-458b-9960-a0215f17063d",
   "metadata": {},
   "outputs": [
    {
     "name": "stdout",
     "output_type": "stream",
     "text": [
      "dict_items([('Name', 'Rajesh'), ('Age', 29), ('City', 'Mumbai'), ('Salary', 45000)])\n",
      "dict_items([('Name', 'Mayank'), ('Age', 29), ('City', 'Bengaluru'), ('Salary', 55000)])\n",
      "dict_items([('Name', 'Deepak'), ('Age', 25), ('City', 'Noida'), ('Salary', 50000)])\n"
     ]
    }
   ],
   "source": [
    "for i in emp_details:\n",
    "    print(emp_details[i].items())"
   ]
  },
  {
   "cell_type": "markdown",
   "id": "1f21175c-fc8b-4d75-bb41-0edad5e3752d",
   "metadata": {},
   "source": [
    "### update()\n",
    "\n",
    "- It is used to update the elements of one dictionary to another dictionary\n",
    "- It is used to combine two dictionary\n",
    "\n",
    "__Syntax:__\n",
    "        \n",
    "        dict_1.update(dict_2)\n",
    "        \n",
    "__Note:__\n",
    "\n",
    "- update() method takes a dictionary as an argument or input\n",
    "- The elements of the dictionary 2 will be updated in dictionary 1\n",
    "\n",
    "        "
   ]
  },
  {
   "cell_type": "code",
   "execution_count": 204,
   "id": "56af1740-68be-4f0b-9f0e-18b9c7efc02d",
   "metadata": {},
   "outputs": [
    {
     "name": "stdout",
     "output_type": "stream",
     "text": [
      "{2: 4, 4: 8, 6: 12, 8: 16, 10: 20}\n",
      "--------------------\n",
      "{1: 3, 3: 9, 5: 15, 7: 21, 9: 27}\n"
     ]
    }
   ],
   "source": [
    "d = {i:i*2 for i in range(1,11) if i%2 == 0}\n",
    "d1 = {i:i*3 for i in range(1,11) if i%2 != 0}\n",
    "\n",
    "print(d)\n",
    "print('-'*20)\n",
    "print(d1)"
   ]
  },
  {
   "cell_type": "code",
   "execution_count": 206,
   "id": "2ce2b09f-941c-4d4b-ac8b-c77f30c2c714",
   "metadata": {},
   "outputs": [],
   "source": [
    "d.update(d1)"
   ]
  },
  {
   "cell_type": "code",
   "execution_count": 208,
   "id": "e5753dfd-dacd-4383-8663-2a13a4252b6a",
   "metadata": {},
   "outputs": [
    {
     "data": {
      "text/plain": [
       "{2: 4, 4: 8, 6: 12, 8: 16, 10: 20, 1: 3, 3: 9, 5: 15, 7: 21, 9: 27}"
      ]
     },
     "execution_count": 208,
     "metadata": {},
     "output_type": "execute_result"
    }
   ],
   "source": [
    "d"
   ]
  },
  {
   "cell_type": "code",
   "execution_count": 210,
   "id": "bab886de-73cd-4492-81e3-085a3a4c5162",
   "metadata": {},
   "outputs": [
    {
     "name": "stdout",
     "output_type": "stream",
     "text": [
      "{2: 4, 4: 8, 6: 12, 8: 16, 10: 20}\n",
      "--------------------\n",
      "{1: 3, 3: 9, 5: 15, 7: 21, 9: 27}\n"
     ]
    }
   ],
   "source": [
    "d = {i:i*2 for i in range(1,11) if i%2 == 0}\n",
    "d1 = {i:i*3 for i in range(1,11) if i%2 != 0}\n",
    "\n",
    "print(d)\n",
    "print('-'*20)\n",
    "print(d1)"
   ]
  },
  {
   "cell_type": "code",
   "execution_count": 212,
   "id": "79fa18d8-17a9-424b-bffb-de8dc4ed967a",
   "metadata": {},
   "outputs": [
    {
     "name": "stdout",
     "output_type": "stream",
     "text": [
      "{1: 3, 3: 9, 5: 15, 7: 21, 9: 27, 2: 4, 4: 8, 6: 12, 8: 16, 10: 20}\n"
     ]
    }
   ],
   "source": [
    "d1.update(d)\n",
    "print(d1)"
   ]
  },
  {
   "cell_type": "markdown",
   "id": "fff47fd4-83d2-42d0-a0e1-e73e55086c4f",
   "metadata": {},
   "source": [
    "### pop()\n",
    "\n",
    "- It returns the value at a specified key from the dictionary and removes the element at that particular key from the dictionary\n",
    "- For an invalid key it will raise an error"
   ]
  },
  {
   "cell_type": "code",
   "execution_count": 214,
   "id": "4650d79b-bb4a-4cf2-9aa1-39665d1bfcc4",
   "metadata": {},
   "outputs": [
    {
     "data": {
      "text/plain": [
       "{1: 1, 2: 4, 3: 9, 4: 16, 5: 25, 6: 36, 7: 49, 8: 64, 9: 81, 10: 100}"
      ]
     },
     "execution_count": 214,
     "metadata": {},
     "output_type": "execute_result"
    }
   ],
   "source": [
    "d = {i:i**2 for i in range(1,11)}\n",
    "d"
   ]
  },
  {
   "cell_type": "code",
   "execution_count": 216,
   "id": "f1f16c3e-74b1-42d4-8a97-97184ce43561",
   "metadata": {},
   "outputs": [
    {
     "name": "stdout",
     "output_type": "stream",
     "text": [
      "49\n"
     ]
    }
   ],
   "source": [
    "x = d.pop(7)\n",
    "print(x)"
   ]
  },
  {
   "cell_type": "code",
   "execution_count": 218,
   "id": "3f0cc20c-1f92-4c7f-a9a3-2137eee87794",
   "metadata": {},
   "outputs": [
    {
     "data": {
      "text/plain": [
       "{1: 1, 2: 4, 3: 9, 4: 16, 5: 25, 6: 36, 8: 64, 9: 81, 10: 100}"
      ]
     },
     "execution_count": 218,
     "metadata": {},
     "output_type": "execute_result"
    }
   ],
   "source": [
    "d"
   ]
  },
  {
   "cell_type": "code",
   "execution_count": 220,
   "id": "d86c1c1d-1cb8-4892-8606-983aa09849c0",
   "metadata": {},
   "outputs": [
    {
     "ename": "KeyError",
     "evalue": "11",
     "output_type": "error",
     "traceback": [
      "\u001b[1;31m---------------------------------------------------------------------------\u001b[0m",
      "\u001b[1;31mKeyError\u001b[0m                                  Traceback (most recent call last)",
      "Cell \u001b[1;32mIn[220], line 1\u001b[0m\n\u001b[1;32m----> 1\u001b[0m d\u001b[38;5;241m.\u001b[39mpop(\u001b[38;5;241m11\u001b[39m)\n",
      "\u001b[1;31mKeyError\u001b[0m: 11"
     ]
    }
   ],
   "source": [
    "d.pop(11)"
   ]
  },
  {
   "cell_type": "code",
   "execution_count": 222,
   "id": "df80258f-9404-408b-91de-03d9fc3275dc",
   "metadata": {},
   "outputs": [
    {
     "ename": "TypeError",
     "evalue": "pop expected at least 1 argument, got 0",
     "output_type": "error",
     "traceback": [
      "\u001b[1;31m---------------------------------------------------------------------------\u001b[0m",
      "\u001b[1;31mTypeError\u001b[0m                                 Traceback (most recent call last)",
      "Cell \u001b[1;32mIn[222], line 1\u001b[0m\n\u001b[1;32m----> 1\u001b[0m d\u001b[38;5;241m.\u001b[39mpop()\n",
      "\u001b[1;31mTypeError\u001b[0m: pop expected at least 1 argument, got 0"
     ]
    }
   ],
   "source": [
    "d.pop()"
   ]
  },
  {
   "cell_type": "markdown",
   "id": "096f615c-ea51-4ac3-ad7d-a6901f8427de",
   "metadata": {},
   "source": [
    "### popitem()\n",
    "\n",
    "- It returns the last element and removes the element from the dictionary\n",
    "- It will not take an kind of arguments in it"
   ]
  },
  {
   "cell_type": "code",
   "execution_count": 224,
   "id": "7f405531-58a6-4867-8133-0f79483413cf",
   "metadata": {},
   "outputs": [
    {
     "data": {
      "text/plain": [
       "{1: 1, 2: 4, 3: 9, 4: 16, 5: 25, 6: 36, 8: 64, 9: 81, 10: 100}"
      ]
     },
     "execution_count": 224,
     "metadata": {},
     "output_type": "execute_result"
    }
   ],
   "source": [
    "d"
   ]
  },
  {
   "cell_type": "code",
   "execution_count": 226,
   "id": "50a8ff02-2d82-497e-a09f-afdf4d000e88",
   "metadata": {},
   "outputs": [
    {
     "data": {
      "text/plain": [
       "(10, 100)"
      ]
     },
     "execution_count": 226,
     "metadata": {},
     "output_type": "execute_result"
    }
   ],
   "source": [
    "y = d.popitem()\n",
    "y"
   ]
  },
  {
   "cell_type": "code",
   "execution_count": 228,
   "id": "3780ea1b-deaa-46fb-a87a-990d463d8ec8",
   "metadata": {},
   "outputs": [
    {
     "data": {
      "text/plain": [
       "{1: 1, 2: 4, 3: 9, 4: 16, 5: 25, 6: 36, 8: 64, 9: 81}"
      ]
     },
     "execution_count": 228,
     "metadata": {},
     "output_type": "execute_result"
    }
   ],
   "source": [
    "d"
   ]
  },
  {
   "cell_type": "code",
   "execution_count": 232,
   "id": "5af49dd4-bb57-479c-b23b-871c34e9278f",
   "metadata": {},
   "outputs": [
    {
     "ename": "TypeError",
     "evalue": "dict.popitem() takes no arguments (1 given)",
     "output_type": "error",
     "traceback": [
      "\u001b[1;31m---------------------------------------------------------------------------\u001b[0m",
      "\u001b[1;31mTypeError\u001b[0m                                 Traceback (most recent call last)",
      "Cell \u001b[1;32mIn[232], line 1\u001b[0m\n\u001b[1;32m----> 1\u001b[0m d\u001b[38;5;241m.\u001b[39mpopitem(\u001b[38;5;241m4\u001b[39m)\n",
      "\u001b[1;31mTypeError\u001b[0m: dict.popitem() takes no arguments (1 given)"
     ]
    }
   ],
   "source": [
    "d.popitem(4)"
   ]
  },
  {
   "cell_type": "markdown",
   "id": "bc4ad280-0112-49ca-9814-4b0500294957",
   "metadata": {},
   "source": [
    "### fromkeys()\n",
    "\n",
    "- It is used to assign the same value to multiple keys\n",
    "\n",
    "    __Syntax:__\n",
    "        \n",
    "        dict.fromkeys(iterable, value)\n",
    "  \n",
    "__Note:__ The iterable should have keys"
   ]
  },
  {
   "cell_type": "code",
   "execution_count": 238,
   "id": "f78a0607-07da-4408-ba7e-c9d130f6af3e",
   "metadata": {},
   "outputs": [
    {
     "data": {
      "text/plain": [
       "{'Mayank': 'Learnbay',\n",
       " 'Palak': 'Learnbay',\n",
       " 'Shanthi': 'Learnbay',\n",
       " 'Sahil': 'Learnbay',\n",
       " 'Abhishek': 'Learnbay'}"
      ]
     },
     "execution_count": 238,
     "metadata": {},
     "output_type": "execute_result"
    }
   ],
   "source": [
    "name = ['Mayank', 'Palak', 'Shanthi', 'Sahil', 'Abhishek']\n",
    "\n",
    "d1 = dict.fromkeys(name, 'Learnbay')\n",
    "d1"
   ]
  },
  {
   "cell_type": "code",
   "execution_count": 240,
   "id": "7c9ee3f1-4325-446a-b047-68fec2f72243",
   "metadata": {},
   "outputs": [
    {
     "data": {
      "text/plain": [
       "{'Mayank': 'Indian',\n",
       " 'Palak': 'Indian',\n",
       " 'Shanthi': 'Indian',\n",
       " 'Sahil': 'Indian',\n",
       " 'Abhishek': 'Indian'}"
      ]
     },
     "execution_count": 240,
     "metadata": {},
     "output_type": "execute_result"
    }
   ],
   "source": [
    "dict.fromkeys(d1, 'Indian')"
   ]
  },
  {
   "cell_type": "markdown",
   "id": "f7c34b48-2c07-479b-a184-aeb6a07af340",
   "metadata": {},
   "source": [
    "### get()\n",
    "\n",
    "- It takes a key as an argument and returns the value associated to that key\n",
    "- For any invalid key, it will return a None"
   ]
  },
  {
   "cell_type": "code",
   "execution_count": 242,
   "id": "f159df76-929d-434f-9593-9ec49941cc80",
   "metadata": {},
   "outputs": [
    {
     "data": {
      "text/plain": [
       "{1: 1, 2: 4, 3: 9, 4: 16, 5: 25, 6: 36, 8: 64, 9: 81}"
      ]
     },
     "execution_count": 242,
     "metadata": {},
     "output_type": "execute_result"
    }
   ],
   "source": [
    "d"
   ]
  },
  {
   "cell_type": "code",
   "execution_count": 244,
   "id": "2344551a-6a90-4829-8f73-3e99cdd7feb3",
   "metadata": {},
   "outputs": [
    {
     "data": {
      "text/plain": [
       "4"
      ]
     },
     "execution_count": 244,
     "metadata": {},
     "output_type": "execute_result"
    }
   ],
   "source": [
    "d[2]"
   ]
  },
  {
   "cell_type": "code",
   "execution_count": 246,
   "id": "140782f3-4cf1-4d64-a4a3-579cebc5ed70",
   "metadata": {},
   "outputs": [
    {
     "data": {
      "text/plain": [
       "4"
      ]
     },
     "execution_count": 246,
     "metadata": {},
     "output_type": "execute_result"
    }
   ],
   "source": [
    "d.get(2)"
   ]
  },
  {
   "cell_type": "markdown",
   "id": "5e04a42c-872a-48a9-9f15-d60982c2ebbc",
   "metadata": {},
   "source": [
    "### setdefault()\n",
    "\n",
    "- It takes a key as an argument\n",
    "- If the key already exist, then it will return the value at that particular key\n",
    "- If the key doesn't exist, then it creates one and assign a None value to it\n",
    "- We can pass key and values both"
   ]
  },
  {
   "cell_type": "code",
   "execution_count": 250,
   "id": "511a57e6-3f70-4a96-9611-3f01b1758cc1",
   "metadata": {},
   "outputs": [
    {
     "data": {
      "text/plain": [
       "['Mayank', 'Palak', 'Shanthi', 'Sahil', 'Abhishek']"
      ]
     },
     "execution_count": 250,
     "metadata": {},
     "output_type": "execute_result"
    }
   ],
   "source": [
    "name"
   ]
  },
  {
   "cell_type": "code",
   "execution_count": 254,
   "id": "a8c3000c-4f36-4c95-8de1-0dc39102ab98",
   "metadata": {},
   "outputs": [
    {
     "data": {
      "text/plain": [
       "{'Mayank': 'Chandigarh',\n",
       " 'Palak': 'Aligarh',\n",
       " 'Shanthi': 'Bengaluru',\n",
       " 'Sahil': 'Lucknow',\n",
       " 'Abhishek': 'Pune'}"
      ]
     },
     "execution_count": 254,
     "metadata": {},
     "output_type": "execute_result"
    }
   ],
   "source": [
    "city = ['Chandigarh', 'Aligarh', 'Bengaluru', 'Lucknow', 'Pune']\n",
    "\n",
    "z = dict(zip(name, city))\n",
    "z"
   ]
  },
  {
   "cell_type": "code",
   "execution_count": 256,
   "id": "1a51b23a-b447-427d-b624-d29c1b47f8bc",
   "metadata": {},
   "outputs": [
    {
     "data": {
      "text/plain": [
       "'Aligarh'"
      ]
     },
     "execution_count": 256,
     "metadata": {},
     "output_type": "execute_result"
    }
   ],
   "source": [
    "z.setdefault('Palak')"
   ]
  },
  {
   "cell_type": "code",
   "execution_count": 258,
   "id": "bc20007b-5ce9-4dc1-b07d-87b0b392dec8",
   "metadata": {},
   "outputs": [],
   "source": [
    "z.setdefault('Chandni')"
   ]
  },
  {
   "cell_type": "code",
   "execution_count": 260,
   "id": "86280a95-dab0-4971-90a2-4729d5cb1c1c",
   "metadata": {},
   "outputs": [
    {
     "data": {
      "text/plain": [
       "{'Mayank': 'Chandigarh',\n",
       " 'Palak': 'Aligarh',\n",
       " 'Shanthi': 'Bengaluru',\n",
       " 'Sahil': 'Lucknow',\n",
       " 'Abhishek': 'Pune',\n",
       " 'Chandni': None}"
      ]
     },
     "execution_count": 260,
     "metadata": {},
     "output_type": "execute_result"
    }
   ],
   "source": [
    "z"
   ]
  },
  {
   "cell_type": "markdown",
   "id": "cee2d360-f9c2-49f6-a3f4-5d811bef30bb",
   "metadata": {},
   "source": [
    "#### we can pass both keys and values also in the setdefault method"
   ]
  },
  {
   "cell_type": "code",
   "execution_count": 262,
   "id": "e1476775-3418-498a-af86-8eea27ba9cb4",
   "metadata": {},
   "outputs": [
    {
     "data": {
      "text/plain": [
       "'Surat'"
      ]
     },
     "execution_count": 262,
     "metadata": {},
     "output_type": "execute_result"
    }
   ],
   "source": [
    "z.setdefault('Priya', 'Surat')"
   ]
  },
  {
   "cell_type": "code",
   "execution_count": 264,
   "id": "1e46b1bd-9969-4850-80f9-4857ca3328ff",
   "metadata": {},
   "outputs": [
    {
     "data": {
      "text/plain": [
       "{'Mayank': 'Chandigarh',\n",
       " 'Palak': 'Aligarh',\n",
       " 'Shanthi': 'Bengaluru',\n",
       " 'Sahil': 'Lucknow',\n",
       " 'Abhishek': 'Pune',\n",
       " 'Chandni': None,\n",
       " 'Priya': 'Surat'}"
      ]
     },
     "execution_count": 264,
     "metadata": {},
     "output_type": "execute_result"
    }
   ],
   "source": [
    "z"
   ]
  },
  {
   "cell_type": "markdown",
   "id": "0c265563-a151-4332-aa6b-ee11a4603c06",
   "metadata": {},
   "source": [
    "### clear()\n",
    "\n",
    "- It removes all the elements from the dictionary and makes the dictioanry empty"
   ]
  },
  {
   "cell_type": "code",
   "execution_count": 266,
   "id": "5d89f785-8173-43a2-aec2-336f70bf6ea0",
   "metadata": {},
   "outputs": [
    {
     "data": {
      "text/plain": [
       "{}"
      ]
     },
     "execution_count": 266,
     "metadata": {},
     "output_type": "execute_result"
    }
   ],
   "source": [
    "z.clear()\n",
    "z"
   ]
  },
  {
   "cell_type": "markdown",
   "id": "7e671412-de0d-4c26-8c9c-00301b824409",
   "metadata": {},
   "source": [
    "### copy()\n",
    "\n",
    "- It copies all the element of the dictionary and creates a new dictionary"
   ]
  },
  {
   "cell_type": "code",
   "execution_count": 270,
   "id": "2f4a870c-13e4-45b7-8789-eae4e8a6109a",
   "metadata": {},
   "outputs": [
    {
     "name": "stdout",
     "output_type": "stream",
     "text": [
      "{1: 1, 2: 4, 3: 9, 4: 16, 5: 25, 6: 36, 8: 64, 9: 81} 2173802778112\n"
     ]
    }
   ],
   "source": [
    "print(d, id(d))"
   ]
  },
  {
   "cell_type": "code",
   "execution_count": 272,
   "id": "a0e1681a-e2ec-4720-9c3c-ad8ba91a75c1",
   "metadata": {},
   "outputs": [
    {
     "name": "stdout",
     "output_type": "stream",
     "text": [
      "{1: 1, 2: 4, 3: 9, 4: 16, 5: 25, 6: 36, 8: 64, 9: 81} 2173788993408\n"
     ]
    }
   ],
   "source": [
    "d1 = d.copy()\n",
    "print(d1, id(d1))"
   ]
  },
  {
   "cell_type": "markdown",
   "id": "b108377f-be02-4541-a0d8-e574c44967f0",
   "metadata": {},
   "source": [
    "### Set"
   ]
  },
  {
   "cell_type": "markdown",
   "id": "585409ac-52fa-4e99-9eb3-cfcabd23940b",
   "metadata": {},
   "source": [
    "\n",
    "- set is unorderd collection of Unique values(Duplication is not allowed)\n",
    "- it is not a seq data type --------> no indexing, slicing\n",
    "- it can not contain a list and dictionary  inside it\n",
    "- though set is a mutable datatype, the elements of set should be immutable in nature\n",
    "- It also uses curly brackets, the difference is set do not have a key:value pair"
   ]
  },
  {
   "cell_type": "code",
   "execution_count": 276,
   "id": "64317e77-99d7-48b1-bdf2-f23485668649",
   "metadata": {},
   "outputs": [
    {
     "name": "stdout",
     "output_type": "stream",
     "text": [
      "{1, 2, 3, 4, 5}\n"
     ]
    }
   ],
   "source": [
    "s = {1,2,3,4,5,1,2,4,5,2,4,2,1,2,4,2,1,3,4}\n",
    "print(s)"
   ]
  },
  {
   "cell_type": "code",
   "execution_count": 278,
   "id": "9397aa8d-8848-4013-a37b-7aea73e38f67",
   "metadata": {},
   "outputs": [
    {
     "ename": "TypeError",
     "evalue": "unhashable type: 'list'",
     "output_type": "error",
     "traceback": [
      "\u001b[1;31m---------------------------------------------------------------------------\u001b[0m",
      "\u001b[1;31mTypeError\u001b[0m                                 Traceback (most recent call last)",
      "Cell \u001b[1;32mIn[278], line 1\u001b[0m\n\u001b[1;32m----> 1\u001b[0m s \u001b[38;5;241m=\u001b[39m {[\u001b[38;5;241m1\u001b[39m,\u001b[38;5;241m2\u001b[39m,\u001b[38;5;241m3\u001b[39m], \u001b[38;5;241m3\u001b[39m,\u001b[38;5;241m4\u001b[39m,\u001b[38;5;241m5\u001b[39m}\n",
      "\u001b[1;31mTypeError\u001b[0m: unhashable type: 'list'"
     ]
    }
   ],
   "source": [
    "s = {[1,2,3], 3,4,5}"
   ]
  },
  {
   "cell_type": "code",
   "execution_count": 280,
   "id": "a56318a4-8b7d-46c9-935d-956f48dc6795",
   "metadata": {},
   "outputs": [],
   "source": [
    "s = {(1,2,3), 3,4,5}"
   ]
  },
  {
   "cell_type": "code",
   "execution_count": 282,
   "id": "b1c8f1c5-c724-41bd-9bf1-0bc3f96ffaba",
   "metadata": {},
   "outputs": [
    {
     "data": {
      "text/plain": [
       "{(1, 2, 3), 3, 4, 5}"
      ]
     },
     "execution_count": 282,
     "metadata": {},
     "output_type": "execute_result"
    }
   ],
   "source": [
    "s"
   ]
  },
  {
   "cell_type": "code",
   "execution_count": 286,
   "id": "27101d7e-c436-4d6d-a7e6-d2a4a6cc8722",
   "metadata": {},
   "outputs": [
    {
     "ename": "TypeError",
     "evalue": "unhashable type: 'dict'",
     "output_type": "error",
     "traceback": [
      "\u001b[1;31m---------------------------------------------------------------------------\u001b[0m",
      "\u001b[1;31mTypeError\u001b[0m                                 Traceback (most recent call last)",
      "Cell \u001b[1;32mIn[286], line 1\u001b[0m\n\u001b[1;32m----> 1\u001b[0m s \u001b[38;5;241m=\u001b[39m {{\u001b[38;5;241m1\u001b[39m:\u001b[38;5;241m100\u001b[39m},\u001b[38;5;241m2\u001b[39m,\u001b[38;5;241m3\u001b[39m}\n",
      "\u001b[1;31mTypeError\u001b[0m: unhashable type: 'dict'"
     ]
    }
   ],
   "source": [
    "s = {{1:100},2,3}"
   ]
  },
  {
   "cell_type": "markdown",
   "id": "b942db1e-a94e-492e-b161-2998f23d2d2c",
   "metadata": {},
   "source": [
    "### Operations on set"
   ]
  },
  {
   "cell_type": "code",
   "execution_count": 292,
   "id": "f2ace7d9-f019-4f2d-b1ab-f7fa8e50aa6b",
   "metadata": {},
   "outputs": [
    {
     "data": {
      "text/plain": [
       "{(1, 2, 3), 3, 4, 5}"
      ]
     },
     "execution_count": 292,
     "metadata": {},
     "output_type": "execute_result"
    }
   ],
   "source": [
    "s"
   ]
  },
  {
   "cell_type": "code",
   "execution_count": 296,
   "id": "ef84eabf-7f7c-49b9-beb2-ab6592a074f1",
   "metadata": {},
   "outputs": [
    {
     "data": {
      "text/plain": [
       "4"
      ]
     },
     "execution_count": 296,
     "metadata": {},
     "output_type": "execute_result"
    }
   ],
   "source": [
    "len(s)"
   ]
  },
  {
   "cell_type": "code",
   "execution_count": 298,
   "id": "34a5cccb-9c62-4741-85ab-78dbf140b35f",
   "metadata": {},
   "outputs": [
    {
     "ename": "TypeError",
     "evalue": "unsupported operand type(s) for +: 'set' and 'set'",
     "output_type": "error",
     "traceback": [
      "\u001b[1;31m---------------------------------------------------------------------------\u001b[0m",
      "\u001b[1;31mTypeError\u001b[0m                                 Traceback (most recent call last)",
      "Cell \u001b[1;32mIn[298], line 4\u001b[0m\n\u001b[0;32m      1\u001b[0m s \u001b[38;5;241m=\u001b[39m {\u001b[38;5;241m1\u001b[39m,\u001b[38;5;241m2\u001b[39m,\u001b[38;5;241m3\u001b[39m}\n\u001b[0;32m      2\u001b[0m s1 \u001b[38;5;241m=\u001b[39m {\u001b[38;5;241m2\u001b[39m,\u001b[38;5;241m3\u001b[39m,\u001b[38;5;241m4\u001b[39m}\n\u001b[1;32m----> 4\u001b[0m \u001b[38;5;28mprint\u001b[39m(s\u001b[38;5;241m+\u001b[39ms1)\n",
      "\u001b[1;31mTypeError\u001b[0m: unsupported operand type(s) for +: 'set' and 'set'"
     ]
    }
   ],
   "source": [
    "s = {1,2,3}\n",
    "s1 = {2,3,4}\n",
    "\n",
    "print(s+s1)"
   ]
  },
  {
   "cell_type": "code",
   "execution_count": 300,
   "id": "47d5a02a-01e7-46ef-8c2c-d3e4a367ab43",
   "metadata": {},
   "outputs": [
    {
     "data": {
      "text/plain": [
       "{1, 2, 3}"
      ]
     },
     "execution_count": 300,
     "metadata": {},
     "output_type": "execute_result"
    }
   ],
   "source": [
    "s"
   ]
  },
  {
   "cell_type": "code",
   "execution_count": 302,
   "id": "994f5f23-13a6-4777-a6d7-965671c08d0e",
   "metadata": {},
   "outputs": [
    {
     "ename": "TypeError",
     "evalue": "unsupported operand type(s) for *: 'set' and 'int'",
     "output_type": "error",
     "traceback": [
      "\u001b[1;31m---------------------------------------------------------------------------\u001b[0m",
      "\u001b[1;31mTypeError\u001b[0m                                 Traceback (most recent call last)",
      "Cell \u001b[1;32mIn[302], line 1\u001b[0m\n\u001b[1;32m----> 1\u001b[0m s\u001b[38;5;241m*\u001b[39m\u001b[38;5;241m5\u001b[39m\n",
      "\u001b[1;31mTypeError\u001b[0m: unsupported operand type(s) for *: 'set' and 'int'"
     ]
    }
   ],
   "source": [
    "s*5"
   ]
  },
  {
   "cell_type": "code",
   "execution_count": 304,
   "id": "18708a5c-ab67-42e1-804c-9e783fa8058c",
   "metadata": {},
   "outputs": [
    {
     "data": {
      "text/plain": [
       "{1, 2, 3}"
      ]
     },
     "execution_count": 304,
     "metadata": {},
     "output_type": "execute_result"
    }
   ],
   "source": [
    "s"
   ]
  },
  {
   "cell_type": "code",
   "execution_count": 306,
   "id": "70ed79a8-f8b6-4515-b591-d03056dbf1e0",
   "metadata": {},
   "outputs": [
    {
     "ename": "TypeError",
     "evalue": "'set' object is not subscriptable",
     "output_type": "error",
     "traceback": [
      "\u001b[1;31m---------------------------------------------------------------------------\u001b[0m",
      "\u001b[1;31mTypeError\u001b[0m                                 Traceback (most recent call last)",
      "Cell \u001b[1;32mIn[306], line 1\u001b[0m\n\u001b[1;32m----> 1\u001b[0m s[\u001b[38;5;241m1\u001b[39m]\n",
      "\u001b[1;31mTypeError\u001b[0m: 'set' object is not subscriptable"
     ]
    }
   ],
   "source": [
    "s[1]"
   ]
  },
  {
   "cell_type": "markdown",
   "id": "2038b690-4aad-45f1-8730-f8463bdfe872",
   "metadata": {},
   "source": [
    "## Methods"
   ]
  },
  {
   "cell_type": "code",
   "execution_count": 308,
   "id": "fd8c2a81-b649-44c5-b5c1-dc734b61ec8a",
   "metadata": {},
   "outputs": [
    {
     "name": "stdout",
     "output_type": "stream",
     "text": [
      "['__and__', '__class__', '__class_getitem__', '__contains__', '__delattr__', '__dir__', '__doc__', '__eq__', '__format__', '__ge__', '__getattribute__', '__getstate__', '__gt__', '__hash__', '__iand__', '__init__', '__init_subclass__', '__ior__', '__isub__', '__iter__', '__ixor__', '__le__', '__len__', '__lt__', '__ne__', '__new__', '__or__', '__rand__', '__reduce__', '__reduce_ex__', '__repr__', '__ror__', '__rsub__', '__rxor__', '__setattr__', '__sizeof__', '__str__', '__sub__', '__subclasshook__', '__xor__', 'add', 'clear', 'copy', 'difference', 'difference_update', 'discard', 'intersection', 'intersection_update', 'isdisjoint', 'issubset', 'issuperset', 'pop', 'remove', 'symmetric_difference', 'symmetric_difference_update', 'union', 'update']\n"
     ]
    }
   ],
   "source": [
    "print(dir(set))"
   ]
  },
  {
   "cell_type": "markdown",
   "id": "2cf0993e-bc95-4ab3-add0-6709586ff27f",
   "metadata": {},
   "source": [
    "### 1. add"
   ]
  },
  {
   "cell_type": "code",
   "execution_count": 311,
   "id": "b3ab9573-5c81-46fd-ab8f-cf792a241146",
   "metadata": {},
   "outputs": [
    {
     "data": {
      "text/plain": [
       "{1, 2, 3}"
      ]
     },
     "execution_count": 311,
     "metadata": {},
     "output_type": "execute_result"
    }
   ],
   "source": [
    "s"
   ]
  },
  {
   "cell_type": "code",
   "execution_count": 313,
   "id": "592e718e-0552-4ad8-973b-910efa74969c",
   "metadata": {},
   "outputs": [
    {
     "data": {
      "text/plain": [
       "{1, 2, 3}"
      ]
     },
     "execution_count": 313,
     "metadata": {},
     "output_type": "execute_result"
    }
   ],
   "source": [
    "s.add(2)\n",
    "s"
   ]
  },
  {
   "cell_type": "code",
   "execution_count": 315,
   "id": "37fd9c71-fda1-42ac-8506-df530a67201f",
   "metadata": {},
   "outputs": [],
   "source": [
    "s.add(10)"
   ]
  },
  {
   "cell_type": "code",
   "execution_count": 317,
   "id": "b0c409fb-6e50-431e-9704-af2af1d61b5a",
   "metadata": {},
   "outputs": [
    {
     "data": {
      "text/plain": [
       "{1, 2, 3, 10}"
      ]
     },
     "execution_count": 317,
     "metadata": {},
     "output_type": "execute_result"
    }
   ],
   "source": [
    "s"
   ]
  },
  {
   "cell_type": "markdown",
   "id": "e6ccb1af-6740-43df-910b-6b88e0a38559",
   "metadata": {},
   "source": [
    "### 2. pop()\n",
    "\n",
    "- It is going to return the arbitrary element to you "
   ]
  },
  {
   "cell_type": "code",
   "execution_count": 346,
   "id": "0ebe8fdc-a229-4b40-b675-66f2af3d5983",
   "metadata": {},
   "outputs": [
    {
     "data": {
      "text/plain": [
       "{1, 2, 3, 10}"
      ]
     },
     "execution_count": 346,
     "metadata": {},
     "output_type": "execute_result"
    }
   ],
   "source": [
    "s = {1,2,3,10}\n",
    "s"
   ]
  },
  {
   "cell_type": "code",
   "execution_count": 348,
   "id": "7a3a6405-7388-464b-8229-298ad3ba2b88",
   "metadata": {},
   "outputs": [
    {
     "data": {
      "text/plain": [
       "3"
      ]
     },
     "execution_count": 348,
     "metadata": {},
     "output_type": "execute_result"
    }
   ],
   "source": [
    "x = s.pop()\n",
    "x"
   ]
  },
  {
   "cell_type": "code",
   "execution_count": 350,
   "id": "15e64128-02a4-4a64-961d-6cb26f1267d2",
   "metadata": {},
   "outputs": [
    {
     "data": {
      "text/plain": [
       "1"
      ]
     },
     "execution_count": 350,
     "metadata": {},
     "output_type": "execute_result"
    }
   ],
   "source": [
    "y = s.pop()\n",
    "y"
   ]
  },
  {
   "cell_type": "code",
   "execution_count": 352,
   "id": "1cd6fdd2-db8b-4e12-a626-ba1e7485e8c2",
   "metadata": {},
   "outputs": [
    {
     "data": {
      "text/plain": [
       "10"
      ]
     },
     "execution_count": 352,
     "metadata": {},
     "output_type": "execute_result"
    }
   ],
   "source": [
    "s.pop()"
   ]
  },
  {
   "cell_type": "code",
   "execution_count": 354,
   "id": "66490ea9-5687-4448-9a17-65928697ec9d",
   "metadata": {},
   "outputs": [
    {
     "data": {
      "text/plain": [
       "2"
      ]
     },
     "execution_count": 354,
     "metadata": {},
     "output_type": "execute_result"
    }
   ],
   "source": [
    "s.pop()"
   ]
  },
  {
   "cell_type": "code",
   "execution_count": 356,
   "id": "a7df6640-05c9-426d-a05d-c1996ce2fc02",
   "metadata": {},
   "outputs": [
    {
     "ename": "KeyError",
     "evalue": "'pop from an empty set'",
     "output_type": "error",
     "traceback": [
      "\u001b[1;31m---------------------------------------------------------------------------\u001b[0m",
      "\u001b[1;31mKeyError\u001b[0m                                  Traceback (most recent call last)",
      "Cell \u001b[1;32mIn[356], line 1\u001b[0m\n\u001b[1;32m----> 1\u001b[0m s\u001b[38;5;241m.\u001b[39mpop()\n",
      "\u001b[1;31mKeyError\u001b[0m: 'pop from an empty set'"
     ]
    }
   ],
   "source": [
    "s.pop()"
   ]
  },
  {
   "cell_type": "markdown",
   "id": "776347a3-1b9b-48f8-9e96-31057d474825",
   "metadata": {},
   "source": [
    "### remove"
   ]
  },
  {
   "cell_type": "code",
   "execution_count": 359,
   "id": "876f79a8-77f3-4280-9da7-98cdf4951a8a",
   "metadata": {},
   "outputs": [
    {
     "data": {
      "text/plain": [
       "{1, 3, 10}"
      ]
     },
     "execution_count": 359,
     "metadata": {},
     "output_type": "execute_result"
    }
   ],
   "source": [
    "s = {1,2,3,10}\n",
    "s.remove(2)\n",
    "s"
   ]
  },
  {
   "cell_type": "code",
   "execution_count": 361,
   "id": "4932623b-d710-4ca9-9e0d-ca6571a08335",
   "metadata": {},
   "outputs": [
    {
     "ename": "KeyError",
     "evalue": "4",
     "output_type": "error",
     "traceback": [
      "\u001b[1;31m---------------------------------------------------------------------------\u001b[0m",
      "\u001b[1;31mKeyError\u001b[0m                                  Traceback (most recent call last)",
      "Cell \u001b[1;32mIn[361], line 2\u001b[0m\n\u001b[0;32m      1\u001b[0m s \u001b[38;5;241m=\u001b[39m {\u001b[38;5;241m1\u001b[39m,\u001b[38;5;241m2\u001b[39m,\u001b[38;5;241m3\u001b[39m,\u001b[38;5;241m10\u001b[39m}\n\u001b[1;32m----> 2\u001b[0m s\u001b[38;5;241m.\u001b[39mremove(\u001b[38;5;241m4\u001b[39m)\n\u001b[0;32m      3\u001b[0m s\n",
      "\u001b[1;31mKeyError\u001b[0m: 4"
     ]
    }
   ],
   "source": [
    "s = {1,2,3,10}\n",
    "s.remove(4)\n",
    "s"
   ]
  },
  {
   "cell_type": "code",
   "execution_count": 367,
   "id": "d9dea4c0-c5ee-4302-831d-a001e7844ae9",
   "metadata": {},
   "outputs": [
    {
     "name": "stdout",
     "output_type": "stream",
     "text": [
      "{1, 2, 3, 4, 5, 6, 7}\n"
     ]
    }
   ],
   "source": [
    "s = {1,2,3,4}\n",
    "s1 = {4,5,6,7}\n",
    "\n",
    "print(s.union(s1))"
   ]
  },
  {
   "cell_type": "code",
   "execution_count": 369,
   "id": "2d630a53-745f-429f-a1ae-644cf2eeb5bc",
   "metadata": {},
   "outputs": [
    {
     "data": {
      "text/plain": [
       "{1, 2, 3, 4}"
      ]
     },
     "execution_count": 369,
     "metadata": {},
     "output_type": "execute_result"
    }
   ],
   "source": [
    "s"
   ]
  },
  {
   "cell_type": "code",
   "execution_count": 374,
   "id": "8f354fa2-07f4-40ac-85be-1eeb402e16d2",
   "metadata": {},
   "outputs": [
    {
     "data": {
      "text/plain": [
       "{1, 2, 3, 4}"
      ]
     },
     "execution_count": 374,
     "metadata": {},
     "output_type": "execute_result"
    }
   ],
   "source": [
    "s"
   ]
  },
  {
   "cell_type": "code",
   "execution_count": 376,
   "id": "acde2cf5-e42a-4796-82d3-c1438cc796b1",
   "metadata": {},
   "outputs": [
    {
     "data": {
      "text/plain": [
       "{4, 5, 6, 7}"
      ]
     },
     "execution_count": 376,
     "metadata": {},
     "output_type": "execute_result"
    }
   ],
   "source": [
    "s1"
   ]
  },
  {
   "cell_type": "code",
   "execution_count": 378,
   "id": "043ccd60-30d3-4eda-ac87-8e4175077991",
   "metadata": {},
   "outputs": [
    {
     "name": "stdout",
     "output_type": "stream",
     "text": [
      "{4}\n"
     ]
    }
   ],
   "source": [
    "print(s.intersection(s1))"
   ]
  },
  {
   "cell_type": "code",
   "execution_count": 380,
   "id": "62cffbdb-cfb5-409c-b15e-045e4a4a94a2",
   "metadata": {},
   "outputs": [],
   "source": [
    "s.intersection_update(s1)"
   ]
  },
  {
   "cell_type": "code",
   "execution_count": 382,
   "id": "3ec0f95d-6f62-4256-a06e-458a00a2ac2a",
   "metadata": {},
   "outputs": [
    {
     "data": {
      "text/plain": [
       "{4}"
      ]
     },
     "execution_count": 382,
     "metadata": {},
     "output_type": "execute_result"
    }
   ],
   "source": [
    "s"
   ]
  },
  {
   "cell_type": "code",
   "execution_count": 384,
   "id": "d88ffbc8-e638-4b5a-8603-25173db0ffe9",
   "metadata": {},
   "outputs": [
    {
     "name": "stdout",
     "output_type": "stream",
     "text": [
      "{1, 2, 3, 5, 6, 7}\n"
     ]
    }
   ],
   "source": [
    "s = {1,2,3,4}\n",
    "s1 = {4,5,6,7}\n",
    "\n",
    "print(s.symmetric_difference(s1))"
   ]
  },
  {
   "cell_type": "code",
   "execution_count": 386,
   "id": "0190d98a-4bf8-418e-8fde-0722fe6707c0",
   "metadata": {},
   "outputs": [],
   "source": [
    "s.symmetric_difference_update(s1)"
   ]
  },
  {
   "cell_type": "code",
   "execution_count": 388,
   "id": "7163d2d8-3649-47f7-b7e2-16cca2c59ae0",
   "metadata": {},
   "outputs": [
    {
     "data": {
      "text/plain": [
       "{1, 2, 3, 5, 6, 7}"
      ]
     },
     "execution_count": 388,
     "metadata": {},
     "output_type": "execute_result"
    }
   ],
   "source": [
    "s"
   ]
  },
  {
   "cell_type": "code",
   "execution_count": 372,
   "id": "8dff039e-ba37-4531-8742-6a7e1fc5aaba",
   "metadata": {},
   "outputs": [
    {
     "ename": "AttributeError",
     "evalue": "'set' object has no attribute 'union_update'",
     "output_type": "error",
     "traceback": [
      "\u001b[1;31m---------------------------------------------------------------------------\u001b[0m",
      "\u001b[1;31mAttributeError\u001b[0m                            Traceback (most recent call last)",
      "Cell \u001b[1;32mIn[372], line 4\u001b[0m\n\u001b[0;32m      1\u001b[0m s \u001b[38;5;241m=\u001b[39m {\u001b[38;5;241m1\u001b[39m,\u001b[38;5;241m2\u001b[39m,\u001b[38;5;241m3\u001b[39m,\u001b[38;5;241m4\u001b[39m}\n\u001b[0;32m      2\u001b[0m s1 \u001b[38;5;241m=\u001b[39m {\u001b[38;5;241m4\u001b[39m,\u001b[38;5;241m5\u001b[39m,\u001b[38;5;241m6\u001b[39m,\u001b[38;5;241m7\u001b[39m}\n\u001b[1;32m----> 4\u001b[0m \u001b[38;5;28mprint\u001b[39m(s\u001b[38;5;241m.\u001b[39munion_update(s1))\n\u001b[0;32m      5\u001b[0m \u001b[38;5;28mprint\u001b[39m(s)\n",
      "\u001b[1;31mAttributeError\u001b[0m: 'set' object has no attribute 'union_update'"
     ]
    }
   ],
   "source": [
    "s = {1,2,3,4}\n",
    "s1 = {4,5,6,7}\n",
    "\n",
    "print(s."
   ]
  },
  {
   "cell_type": "markdown",
   "id": "07f5dd1b-7103-4181-b214-f8ce91921fb5",
   "metadata": {},
   "source": [
    "## Frozenset\n",
    "\n",
    "- the immutable version of the set"
   ]
  },
  {
   "cell_type": "code",
   "execution_count": 390,
   "id": "6d2c901f-a070-4242-9ab9-586cbbdf414f",
   "metadata": {},
   "outputs": [
    {
     "data": {
      "text/plain": [
       "{1, 2, 3, 5, 6, 7}"
      ]
     },
     "execution_count": 390,
     "metadata": {},
     "output_type": "execute_result"
    }
   ],
   "source": [
    "s "
   ]
  },
  {
   "cell_type": "code",
   "execution_count": 392,
   "id": "715636a9-78cb-43e5-9d4a-6bf6cd154705",
   "metadata": {},
   "outputs": [
    {
     "data": {
      "text/plain": [
       "frozenset({1, 2, 3, 5, 6, 7})"
      ]
     },
     "execution_count": 392,
     "metadata": {},
     "output_type": "execute_result"
    }
   ],
   "source": [
    "fs = frozenset(s)\n",
    "fs"
   ]
  },
  {
   "cell_type": "code",
   "execution_count": 394,
   "id": "d15288ba-7a39-4ff3-9917-2b9219d8fc61",
   "metadata": {},
   "outputs": [
    {
     "name": "stdout",
     "output_type": "stream",
     "text": [
      "<class 'frozenset'>\n"
     ]
    }
   ],
   "source": [
    "print(type(fs))"
   ]
  },
  {
   "cell_type": "code",
   "execution_count": 396,
   "id": "a343f461-4026-480c-83cb-806301ccb579",
   "metadata": {},
   "outputs": [
    {
     "data": {
      "text/plain": [
       "frozenset({' ', 'M', 'a', 'g', 'h', 'i', 'k', 'l', 'n', 't', 'u', 'y'})"
      ]
     },
     "execution_count": 396,
     "metadata": {},
     "output_type": "execute_result"
    }
   ],
   "source": [
    "s = 'Mayank atul ghai'\n",
    "fs = frozenset(s)\n",
    "fs"
   ]
  },
  {
   "cell_type": "code",
   "execution_count": 398,
   "id": "f8cb1a01-4ea2-417c-97ac-2c9a1165a06e",
   "metadata": {},
   "outputs": [
    {
     "data": {
      "text/plain": [
       "12"
      ]
     },
     "execution_count": 398,
     "metadata": {},
     "output_type": "execute_result"
    }
   ],
   "source": [
    "len(fs)"
   ]
  },
  {
   "cell_type": "code",
   "execution_count": 400,
   "id": "972ebbe6-efc2-4a39-afe8-a85a240280d0",
   "metadata": {},
   "outputs": [
    {
     "name": "stdout",
     "output_type": "stream",
     "text": [
      "['__and__', '__class__', '__class_getitem__', '__contains__', '__delattr__', '__dir__', '__doc__', '__eq__', '__format__', '__ge__', '__getattribute__', '__getstate__', '__gt__', '__hash__', '__init__', '__init_subclass__', '__iter__', '__le__', '__len__', '__lt__', '__ne__', '__new__', '__or__', '__rand__', '__reduce__', '__reduce_ex__', '__repr__', '__ror__', '__rsub__', '__rxor__', '__setattr__', '__sizeof__', '__str__', '__sub__', '__subclasshook__', '__xor__', 'copy', 'difference', 'intersection', 'isdisjoint', 'issubset', 'issuperset', 'symmetric_difference', 'union']\n"
     ]
    }
   ],
   "source": [
    "print(dir(frozenset))"
   ]
  },
  {
   "cell_type": "code",
   "execution_count": null,
   "id": "68baee4d-b05a-4a87-a458-4c654b46672a",
   "metadata": {},
   "outputs": [],
   "source": []
  }
 ],
 "metadata": {
  "kernelspec": {
   "display_name": "Python 3 (ipykernel)",
   "language": "python",
   "name": "python3"
  },
  "language_info": {
   "codemirror_mode": {
    "name": "ipython",
    "version": 3
   },
   "file_extension": ".py",
   "mimetype": "text/x-python",
   "name": "python",
   "nbconvert_exporter": "python",
   "pygments_lexer": "ipython3",
   "version": "3.12.4"
  }
 },
 "nbformat": 4,
 "nbformat_minor": 5
}
