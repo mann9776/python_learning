{
 "cells": [
  {
   "cell_type": "markdown",
   "id": "7db6b929-8482-4bd7-9cc9-192245e6c7bb",
   "metadata": {},
   "source": [
    "### OOPs (Object Oriented Programming)\n"
   ]
  },
  {
   "cell_type": "markdown",
   "id": "3a6022b3-6879-4515-bfbb-33bbb095f2fc",
   "metadata": {},
   "source": [
    "#### Class and Objects "
   ]
  },
  {
   "cell_type": "markdown",
   "id": "3c681765-4fe9-45cf-8bf4-3b836e08ce08",
   "metadata": {},
   "source": [
    "##### Class \n",
    "\n",
    "- It is a userdefined blueprint or a plan from which we will create objects\n",
    "- A class provides a means of binding the data and the functionality together "
   ]
  },
  {
   "cell_type": "markdown",
   "id": "6593000e-d00f-4d3c-a944-ef304ea8b3fa",
   "metadata": {},
   "source": [
    "##### Objects\n",
    "\n",
    "- It is a physical existence of a class (blueprint or a plan)"
   ]
  },
  {
   "cell_type": "code",
   "execution_count": 1,
   "id": "acb646d8-064c-4c88-811e-bc19e7e8e14c",
   "metadata": {},
   "outputs": [],
   "source": [
    "# A layout of a building on a paper is a class \n",
    "# Once we construct a building using this plan is an object "
   ]
  },
  {
   "cell_type": "markdown",
   "id": "4f6fced1-3770-4aba-ba49-5b58e2b40828",
   "metadata": {},
   "source": [
    " A class contains two things: \n",
    "\n",
    "- variable \n",
    "- methods "
   ]
  },
  {
   "cell_type": "code",
   "execution_count": null,
   "id": "8fbd4d42-11f4-446c-b13e-1cd6131b727c",
   "metadata": {},
   "outputs": [],
   "source": [
    "I want to manufacture a car \n",
    "\n",
    "- Variables (features/ properties/ characterstics/ attributes)\n",
    "    - color \n",
    "    - shape \n",
    "    - model \n",
    "    - size \n",
    "\n",
    "- Methods \n",
    "    - carriage \n",
    "    - speed "
   ]
  },
  {
   "cell_type": "code",
   "execution_count": null,
   "id": "8bddb94d-e64a-4e00-895a-45e79c8ff9be",
   "metadata": {},
   "outputs": [],
   "source": [
    "I want a student \n",
    "\n",
    "- Attributes \n",
    "    - Name\n",
    "    - Roll No\n",
    "    - Grade \n",
    "    - Section\n",
    "    - Steam \n",
    "    - Gender \n",
    "\n",
    "- Methods \n",
    "    - Read\n",
    "    - Write\n",
    "    - Play\n",
    "    - Study \n",
    "    - Dance\n",
    "    - Debate\n",
    "    - Speech "
   ]
  },
  {
   "cell_type": "code",
   "execution_count": null,
   "id": "0f722006-c29d-406b-879c-59532a4158a8",
   "metadata": {},
   "outputs": [],
   "source": [
    "In a class, we define the attributes and the behaviour of the object "
   ]
  },
  {
   "cell_type": "markdown",
   "id": "8459e33f-1a72-49b7-929f-a0dd0a8fadc8",
   "metadata": {},
   "source": [
    "### How to define a class "
   ]
  },
  {
   "cell_type": "code",
   "execution_count": null,
   "id": "a429a5e4-38b5-4d86-8926-b03592b4dd05",
   "metadata": {},
   "outputs": [],
   "source": [
    "class class_name: (class_name should starts with a capital letter)\n",
    "        variables(attributes/charactertstics)\n",
    "        method(behaviour/functionality)"
   ]
  },
  {
   "cell_type": "code",
   "execution_count": 2,
   "id": "3d0ae002-7fe5-4646-b098-0863988ca22e",
   "metadata": {},
   "outputs": [],
   "source": [
    "class Student:\n",
    "\n",
    "    def __init__(self):\n",
    "        self.name = 'Mayank'\n",
    "        self.roll_no = 101\n",
    "        self.age = 24\n",
    "        self.marks = 98\n",
    "\n",
    "    def talk(self):\n",
    "        print(f'I am {self.name}')\n",
    "        print(f'My roll number is {self.roll_no}')\n",
    "        print(f'My age is {self.age}')\n",
    "        print(f'I have got {self.marks} marks')"
   ]
  },
  {
   "cell_type": "markdown",
   "id": "4c275ddf-0d34-4248-b380-3049d3c29572",
   "metadata": {},
   "source": [
    "### How to create an object from class \n",
    "\n",
    "Syntax:\n",
    "\n",
    "        variable = class_name()"
   ]
  },
  {
   "cell_type": "code",
   "execution_count": 7,
   "id": "bfded2bf-ef00-4452-ba8a-c7823846e8dc",
   "metadata": {},
   "outputs": [],
   "source": [
    "s = Student()"
   ]
  },
  {
   "cell_type": "code",
   "execution_count": 8,
   "id": "d74ecb76-4aad-414a-82fd-7f9dcab029cd",
   "metadata": {},
   "outputs": [
    {
     "data": {
      "text/plain": [
       "'Mayank'"
      ]
     },
     "execution_count": 8,
     "metadata": {},
     "output_type": "execute_result"
    }
   ],
   "source": [
    "s.name"
   ]
  },
  {
   "cell_type": "code",
   "execution_count": 9,
   "id": "860eef32-a58f-420b-abce-ed4fb834758a",
   "metadata": {},
   "outputs": [
    {
     "data": {
      "text/plain": [
       "101"
      ]
     },
     "execution_count": 9,
     "metadata": {},
     "output_type": "execute_result"
    }
   ],
   "source": [
    "s.roll_no"
   ]
  },
  {
   "cell_type": "code",
   "execution_count": 10,
   "id": "78dfb6ed-7a7f-476f-9c70-14a7ca3c30a8",
   "metadata": {},
   "outputs": [
    {
     "data": {
      "text/plain": [
       "24"
      ]
     },
     "execution_count": 10,
     "metadata": {},
     "output_type": "execute_result"
    }
   ],
   "source": [
    "s.age"
   ]
  },
  {
   "cell_type": "code",
   "execution_count": 11,
   "id": "170e4d41-190a-4493-9d56-5649d94ee625",
   "metadata": {},
   "outputs": [
    {
     "data": {
      "text/plain": [
       "98"
      ]
     },
     "execution_count": 11,
     "metadata": {},
     "output_type": "execute_result"
    }
   ],
   "source": [
    "s.marks"
   ]
  },
  {
   "cell_type": "code",
   "execution_count": 12,
   "id": "cb854555-1a38-4ab0-9340-a4ff9f6a1e9b",
   "metadata": {},
   "outputs": [
    {
     "name": "stdout",
     "output_type": "stream",
     "text": [
      "I am Mayank\n",
      "My roll number is 101\n",
      "My age is 24\n",
      "I have got 98 marks\n"
     ]
    }
   ],
   "source": [
    "s.talk()"
   ]
  },
  {
   "cell_type": "markdown",
   "id": "fc078c31-ce27-4a71-b533-c4ebd6b55357",
   "metadata": {},
   "source": [
    "#### Method"
   ]
  },
  {
   "cell_type": "code",
   "execution_count": null,
   "id": "70a595cd-dc0c-4e94-b208-30a19bf0d552",
   "metadata": {},
   "outputs": [],
   "source": [
    "Methods are nothing but functions only, the only difference is that methods are defined within a class"
   ]
  },
  {
   "cell_type": "code",
   "execution_count": 13,
   "id": "61d8fbec-2d12-4cf8-901c-640e9b824be7",
   "metadata": {},
   "outputs": [],
   "source": [
    "def add(x,y):\n",
    "    return x+y\n"
   ]
  },
  {
   "cell_type": "code",
   "execution_count": 14,
   "id": "be14cf24-662a-4c71-8720-b46ad67062dc",
   "metadata": {},
   "outputs": [],
   "source": [
    "class Test:\n",
    "    def dummy(self):\n",
    "        pass"
   ]
  },
  {
   "cell_type": "code",
   "execution_count": 15,
   "id": "120e06d2-0614-4ecd-8387-5b8f6a491d30",
   "metadata": {},
   "outputs": [
    {
     "data": {
      "text/plain": [
       "3"
      ]
     },
     "execution_count": 15,
     "metadata": {},
     "output_type": "execute_result"
    }
   ],
   "source": [
    "add(1,2)"
   ]
  },
  {
   "cell_type": "code",
   "execution_count": 16,
   "id": "d5a53814-b5c9-410c-841b-7a21b16b38f7",
   "metadata": {},
   "outputs": [
    {
     "ename": "NameError",
     "evalue": "name 'dummy' is not defined",
     "output_type": "error",
     "traceback": [
      "\u001b[1;31m---------------------------------------------------------------------------\u001b[0m",
      "\u001b[1;31mNameError\u001b[0m                                 Traceback (most recent call last)",
      "Cell \u001b[1;32mIn[16], line 1\u001b[0m\n\u001b[1;32m----> 1\u001b[0m dummy()\n",
      "\u001b[1;31mNameError\u001b[0m: name 'dummy' is not defined"
     ]
    }
   ],
   "source": [
    "dummy()"
   ]
  },
  {
   "cell_type": "code",
   "execution_count": 18,
   "id": "e658526a-059a-46ef-b64f-31e93ff2dd67",
   "metadata": {},
   "outputs": [],
   "source": [
    "t = Test()"
   ]
  },
  {
   "cell_type": "code",
   "execution_count": null,
   "id": "6453bc08-655c-40dd-88ff-f31ff53098d1",
   "metadata": {},
   "outputs": [],
   "source": [
    "t.dummy()"
   ]
  },
  {
   "cell_type": "code",
   "execution_count": 19,
   "id": "2bd4e2e7-e803-45e5-8137-37c93f2e8839",
   "metadata": {},
   "outputs": [
    {
     "name": "stdout",
     "output_type": "stream",
     "text": [
      "3\n"
     ]
    }
   ],
   "source": [
    "t = add(1,2)\n",
    "print(t)"
   ]
  },
  {
   "cell_type": "markdown",
   "id": "2089ac3e-2184-412c-bc63-347c44157d9d",
   "metadata": {},
   "source": [
    "### Types of variables in a class \n",
    "\n",
    "- In a class, we have 3 types of variables\n",
    "    - Instance variable (object level variables)\n",
    "    - static variable (class level variable)\n",
    "    - local variable (Method level variables)"
   ]
  },
  {
   "cell_type": "markdown",
   "id": "d9b7f77a-d013-4c1a-974d-5979733dba8b",
   "metadata": {},
   "source": [
    "### Types of Methods in a class \n",
    "\n",
    "- In python, we have 3 types of methods\n",
    "    - Instance Method\n",
    "    - Static Method\n",
    "    - Class method"
   ]
  },
  {
   "cell_type": "markdown",
   "id": "72c454b6-bbd8-4a7b-a3da-88ba1de2474d",
   "metadata": {},
   "source": [
    "### Constructor \n",
    "\n",
    "- A constructor is a special method in Python\n",
    "- The name of the constructor is fixed i.e. __init__().\n",
    "- Whenever we create an object, the constructor is automatically executed\n",
    "- The main objective of a constructor is to declare an instance (object-level variable)\n",
    "- The constructor gets executed only once for each object when the object is created\n",
    "- A constructor must have atleast one argument (self)\n",
    "- A constructor is optional "
   ]
  },
  {
   "cell_type": "code",
   "execution_count": 20,
   "id": "4566b3ee-5c59-47d7-b890-ad45602f927e",
   "metadata": {},
   "outputs": [],
   "source": [
    "class Student:\n",
    "\n",
    "    def __init__(self):\n",
    "        print('Constructor Executed....')\n",
    "        self.name = 'Mayank' # Instance variable\n",
    "        self.roll_no = 101 # Instance varibale \n",
    "        self.age = 24 # Instance\n",
    "        self.marks = 98\n",
    "\n",
    "    def talk(self):\n",
    "        print(f'I am {self.name}')\n",
    "        print(f'My roll number is {self.roll_no}')\n",
    "        print(f'My age is {self.age}')\n",
    "        print(f'I have got {self.marks} marks')"
   ]
  },
  {
   "cell_type": "code",
   "execution_count": 21,
   "id": "74c33ce1-3f4a-411d-b67c-b59630f0cd29",
   "metadata": {},
   "outputs": [
    {
     "name": "stdout",
     "output_type": "stream",
     "text": [
      "Constructor Executed....\n"
     ]
    }
   ],
   "source": [
    "s = Student()"
   ]
  },
  {
   "cell_type": "code",
   "execution_count": 23,
   "id": "d917b543-f969-42fc-9774-317212545fa8",
   "metadata": {},
   "outputs": [
    {
     "name": "stdout",
     "output_type": "stream",
     "text": [
      "Constructor Executed....\n"
     ]
    }
   ],
   "source": [
    "s1 = Student()"
   ]
  },
  {
   "cell_type": "code",
   "execution_count": 24,
   "id": "3766704a-c1b8-40e1-8715-664cb8ebc768",
   "metadata": {},
   "outputs": [
    {
     "data": {
      "text/plain": [
       "'Mayank'"
      ]
     },
     "execution_count": 24,
     "metadata": {},
     "output_type": "execute_result"
    }
   ],
   "source": [
    "s.name"
   ]
  },
  {
   "cell_type": "code",
   "execution_count": 25,
   "id": "24fbb469-37d8-4455-ac98-6a9a148d75b3",
   "metadata": {},
   "outputs": [
    {
     "data": {
      "text/plain": [
       "'Mayank'"
      ]
     },
     "execution_count": 25,
     "metadata": {},
     "output_type": "execute_result"
    }
   ],
   "source": [
    "s1.name"
   ]
  },
  {
   "cell_type": "markdown",
   "id": "e8c7526f-269f-41f0-b58e-ecfda913842f",
   "metadata": {},
   "source": [
    "### Passing arguments to a class"
   ]
  },
  {
   "cell_type": "code",
   "execution_count": 47,
   "id": "af64a4e9-6a98-47d3-ba52-70206c90d13a",
   "metadata": {},
   "outputs": [],
   "source": [
    "class Student:\n",
    "\n",
    "    def __init__(self, a, b, c, d):\n",
    "        print('Constructor Executed....')\n",
    "        self.name = a # Instance variable\n",
    "        self.roll_no = b # Instance varibale \n",
    "        self.age = c # Instance\n",
    "        self.marks = d\n",
    "\n",
    "    def talk(self):\n",
    "        print(f'I am {self.name}')\n",
    "        print(f'My roll number is {self.roll_no}')\n",
    "        print(f'My age is {self.age}')\n",
    "        print(f'I have got {self.marks} marks')"
   ]
  },
  {
   "cell_type": "code",
   "execution_count": 48,
   "id": "f33793ed-15ff-46cb-95bb-1202a707a0cd",
   "metadata": {},
   "outputs": [
    {
     "ename": "TypeError",
     "evalue": "Student.__init__() takes 4 positional arguments but 5 were given",
     "output_type": "error",
     "traceback": [
      "\u001b[1;31m---------------------------------------------------------------------------\u001b[0m",
      "\u001b[1;31mTypeError\u001b[0m                                 Traceback (most recent call last)",
      "Cell \u001b[1;32mIn[48], line 1\u001b[0m\n\u001b[1;32m----> 1\u001b[0m s \u001b[38;5;241m=\u001b[39m Student(\u001b[38;5;124m'\u001b[39m\u001b[38;5;124mMayank\u001b[39m\u001b[38;5;124m'\u001b[39m, \u001b[38;5;241m101\u001b[39m, \u001b[38;5;241m24\u001b[39m, \u001b[38;5;241m98\u001b[39m)\n",
      "\u001b[1;31mTypeError\u001b[0m: Student.__init__() takes 4 positional arguments but 5 were given"
     ]
    }
   ],
   "source": [
    "s = Student('Mayank', 101, 24, 98)"
   ]
  },
  {
   "cell_type": "code",
   "execution_count": 29,
   "id": "2e150159-f5f1-42b2-82c2-fb0a5208a787",
   "metadata": {},
   "outputs": [
    {
     "data": {
      "text/plain": [
       "'Mayank'"
      ]
     },
     "execution_count": 29,
     "metadata": {},
     "output_type": "execute_result"
    }
   ],
   "source": [
    "s.name"
   ]
  },
  {
   "cell_type": "code",
   "execution_count": 32,
   "id": "20092f86-46be-4f18-9797-82bcb725aab9",
   "metadata": {},
   "outputs": [
    {
     "name": "stdout",
     "output_type": "stream",
     "text": [
      "I am Mayank\n",
      "My roll number is 101\n",
      "My age is 24\n",
      "I have got 98 marks\n"
     ]
    }
   ],
   "source": [
    "s.talk()"
   ]
  },
  {
   "cell_type": "code",
   "execution_count": 30,
   "id": "2ac2ba21-91ed-45e7-80ff-bc911522fdbc",
   "metadata": {},
   "outputs": [
    {
     "name": "stdout",
     "output_type": "stream",
     "text": [
      "Constructor Executed....\n"
     ]
    }
   ],
   "source": [
    "s1 = Student('Abha', 110, 23, 87)"
   ]
  },
  {
   "cell_type": "code",
   "execution_count": 31,
   "id": "14a64ac2-be79-4503-8eee-0a416bd05ec3",
   "metadata": {},
   "outputs": [
    {
     "data": {
      "text/plain": [
       "'Abha'"
      ]
     },
     "execution_count": 31,
     "metadata": {},
     "output_type": "execute_result"
    }
   ],
   "source": [
    "s1.name"
   ]
  },
  {
   "cell_type": "code",
   "execution_count": 34,
   "id": "c9c01d71-f661-47c5-97d3-1c125ce2b754",
   "metadata": {},
   "outputs": [
    {
     "name": "stdout",
     "output_type": "stream",
     "text": [
      "I am Abha\n",
      "My roll number is 110\n",
      "My age is 23\n",
      "I have got 87 marks\n"
     ]
    }
   ],
   "source": [
    "s1.talk()"
   ]
  },
  {
   "cell_type": "markdown",
   "id": "115f812f-c3b6-4b89-bd6a-a472c8e6a487",
   "metadata": {},
   "source": [
    "### Self\n",
    "\n",
    "- Self is an implicit variable provided by Python that always points to the current object\n",
    "- Using self variable, we access the instance varibale and the methods "
   ]
  },
  {
   "cell_type": "code",
   "execution_count": 41,
   "id": "a175f755-3993-42a4-a1f1-96a6a27722be",
   "metadata": {},
   "outputs": [],
   "source": [
    "class Test:\n",
    "    def __init__(self):\n",
    "        pass\n",
    "\n",
    "    def greet():\n",
    "        pass"
   ]
  },
  {
   "cell_type": "code",
   "execution_count": 42,
   "id": "9b4c6ab5-03f5-4a5a-88bb-e93ce5a8d7a5",
   "metadata": {},
   "outputs": [],
   "source": [
    "t = Test()"
   ]
  },
  {
   "cell_type": "code",
   "execution_count": 43,
   "id": "55c90727-84d2-457a-91cb-aada5866f1a1",
   "metadata": {},
   "outputs": [
    {
     "ename": "TypeError",
     "evalue": "Test.greet() takes 0 positional arguments but 1 was given",
     "output_type": "error",
     "traceback": [
      "\u001b[1;31m---------------------------------------------------------------------------\u001b[0m",
      "\u001b[1;31mTypeError\u001b[0m                                 Traceback (most recent call last)",
      "Cell \u001b[1;32mIn[43], line 1\u001b[0m\n\u001b[1;32m----> 1\u001b[0m t\u001b[38;5;241m.\u001b[39mgreet()\n",
      "\u001b[1;31mTypeError\u001b[0m: Test.greet() takes 0 positional arguments but 1 was given"
     ]
    }
   ],
   "source": [
    "t.greet()"
   ]
  },
  {
   "cell_type": "code",
   "execution_count": 44,
   "id": "8ee9bb74-030e-4bbc-9760-2325526762f3",
   "metadata": {},
   "outputs": [],
   "source": [
    "class Test:\n",
    "    def __init__(self):\n",
    "        pass\n",
    "\n",
    "    def greet(self):\n",
    "        pass"
   ]
  },
  {
   "cell_type": "code",
   "execution_count": 45,
   "id": "235c9fc3-f1b4-4639-b398-a34c5158c456",
   "metadata": {},
   "outputs": [],
   "source": [
    "t1 = Test()"
   ]
  },
  {
   "cell_type": "code",
   "execution_count": 46,
   "id": "11641732-06ad-400b-b16a-8aa9ffa98b8b",
   "metadata": {},
   "outputs": [],
   "source": [
    "t1.greet()"
   ]
  },
  {
   "cell_type": "code",
   "execution_count": 53,
   "id": "c5aaf5af-1e06-44be-8743-df3b918f91a2",
   "metadata": {},
   "outputs": [],
   "source": [
    "class Test:\n",
    "    def __init__(self, a, b):\n",
    "        self.name = a\n",
    "        self.age = b\n",
    "\n",
    "    def my_name(self):\n",
    "        print(f'I am {self.name}')"
   ]
  },
  {
   "cell_type": "code",
   "execution_count": 54,
   "id": "e281fce5-7583-49a9-8a6d-87bcf7aefa9a",
   "metadata": {},
   "outputs": [],
   "source": [
    "t = Test('Prabha', 25)"
   ]
  },
  {
   "cell_type": "code",
   "execution_count": 55,
   "id": "180a48dd-b51c-4088-b51f-df2f0ee8fdfb",
   "metadata": {},
   "outputs": [
    {
     "name": "stdout",
     "output_type": "stream",
     "text": [
      "I am Prabha\n"
     ]
    }
   ],
   "source": [
    "t.my_name()"
   ]
  },
  {
   "cell_type": "markdown",
   "id": "77da4667-776a-4767-b8fa-bd9f50d01bc2",
   "metadata": {},
   "source": [
    "##### Can we use any name instead self ---> yes we can "
   ]
  },
  {
   "cell_type": "code",
   "execution_count": 62,
   "id": "715ce662-dfee-4c05-a61d-35880bfbb827",
   "metadata": {},
   "outputs": [],
   "source": [
    "class Test:\n",
    "    def __init__(a,b,c):\n",
    "        a.name = b\n",
    "        a.age = c"
   ]
  },
  {
   "cell_type": "code",
   "execution_count": 63,
   "id": "caae0b42-d125-4e70-a01b-c3fffab7af76",
   "metadata": {},
   "outputs": [
    {
     "ename": "NameError",
     "evalue": "name 'self' is not defined",
     "output_type": "error",
     "traceback": [
      "\u001b[1;31m---------------------------------------------------------------------------\u001b[0m",
      "\u001b[1;31mNameError\u001b[0m                                 Traceback (most recent call last)",
      "Cell \u001b[1;32mIn[63], line 1\u001b[0m\n\u001b[1;32m----> 1\u001b[0m t \u001b[38;5;241m=\u001b[39m Test(\u001b[38;5;124m'\u001b[39m\u001b[38;5;124mAmit\u001b[39m\u001b[38;5;124m'\u001b[39m, \u001b[38;5;241m28\u001b[39m)\n",
      "Cell \u001b[1;32mIn[62], line 3\u001b[0m, in \u001b[0;36mTest.__init__\u001b[1;34m(a, b, c)\u001b[0m\n\u001b[0;32m      2\u001b[0m \u001b[38;5;28;01mdef\u001b[39;00m \u001b[38;5;21m__init__\u001b[39m(a,b,c):\n\u001b[1;32m----> 3\u001b[0m     \u001b[38;5;28mself\u001b[39m\u001b[38;5;241m.\u001b[39mname \u001b[38;5;241m=\u001b[39m b\n\u001b[0;32m      4\u001b[0m     \u001b[38;5;28mself\u001b[39m\u001b[38;5;241m.\u001b[39mage \u001b[38;5;241m=\u001b[39m c\n",
      "\u001b[1;31mNameError\u001b[0m: name 'self' is not defined"
     ]
    }
   ],
   "source": [
    "t = Test('Amit', 28)"
   ]
  },
  {
   "cell_type": "code",
   "execution_count": 60,
   "id": "adc31d72-8768-4028-9353-b6fac976381f",
   "metadata": {},
   "outputs": [
    {
     "data": {
      "text/plain": [
       "'Amit'"
      ]
     },
     "execution_count": 60,
     "metadata": {},
     "output_type": "execute_result"
    }
   ],
   "source": [
    "t.name"
   ]
  },
  {
   "cell_type": "code",
   "execution_count": 61,
   "id": "c97dcb54-074f-449c-a176-52b326c630bf",
   "metadata": {},
   "outputs": [
    {
     "data": {
      "text/plain": [
       "28"
      ]
     },
     "execution_count": 61,
     "metadata": {},
     "output_type": "execute_result"
    }
   ],
   "source": [
    "t.age"
   ]
  },
  {
   "cell_type": "code",
   "execution_count": null,
   "id": "28168b3b-e8bd-414d-b46d-0593806e3adf",
   "metadata": {},
   "outputs": [],
   "source": []
  }
 ],
 "metadata": {
  "kernelspec": {
   "display_name": "Python 3 (ipykernel)",
   "language": "python",
   "name": "python3"
  },
  "language_info": {
   "codemirror_mode": {
    "name": "ipython",
    "version": 3
   },
   "file_extension": ".py",
   "mimetype": "text/x-python",
   "name": "python",
   "nbconvert_exporter": "python",
   "pygments_lexer": "ipython3",
   "version": "3.12.4"
  }
 },
 "nbformat": 4,
 "nbformat_minor": 5
}
