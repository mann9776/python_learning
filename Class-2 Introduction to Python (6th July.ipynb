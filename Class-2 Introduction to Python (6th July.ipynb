{
  "cells": [
    {
      "cell_type": "markdown",
      "id": "364a2f35-4f56-4b9b-8790-c1b13e5e3470",
      "metadata": {
        "id": "364a2f35-4f56-4b9b-8790-c1b13e5e3470"
      },
      "source": [
        "### Variables and Constants\n",
        "\n",
        "####  Variable\n",
        "\n",
        "- A variable is a container that is going to hold some value in it for a time being, we can change the value stored in the variable at any point of time\n",
        "- A varaiable will retain the same value until a new value is assigned to it"
      ]
    },
    {
      "cell_type": "code",
      "execution_count": null,
      "id": "7d7928df-226e-4149-aa49-9a60d7a39a0d",
      "metadata": {
        "id": "7d7928df-226e-4149-aa49-9a60d7a39a0d",
        "outputId": "3eb90d4b-a10b-46f3-eb5b-9b70284a99bc"
      },
      "outputs": [
        {
          "name": "stdout",
          "output_type": "stream",
          "text": [
            "10\n"
          ]
        }
      ],
      "source": [
        "a = 10\n",
        "print(a)"
      ]
    },
    {
      "cell_type": "code",
      "execution_count": null,
      "id": "f671f15f-34e3-4883-aba7-58d1c391e2d5",
      "metadata": {
        "id": "f671f15f-34e3-4883-aba7-58d1c391e2d5",
        "outputId": "61800942-3456-45b5-c6b3-8f551207df96"
      },
      "outputs": [
        {
          "name": "stdout",
          "output_type": "stream",
          "text": [
            "11\n"
          ]
        }
      ],
      "source": [
        "a = a+1\n",
        "print(a)"
      ]
    },
    {
      "cell_type": "code",
      "execution_count": null,
      "id": "7ccae770-1a8c-42e5-8ae4-67f3226d1c99",
      "metadata": {
        "id": "7ccae770-1a8c-42e5-8ae4-67f3226d1c99",
        "outputId": "f2d6580c-427c-4312-850b-a1a7f4e0ef94"
      },
      "outputs": [
        {
          "data": {
            "text/plain": [
              "11"
            ]
          },
          "execution_count": 3,
          "metadata": {},
          "output_type": "execute_result"
        }
      ],
      "source": [
        "a"
      ]
    },
    {
      "cell_type": "code",
      "execution_count": null,
      "id": "d07718d3-7525-4471-848c-c866bd6c4125",
      "metadata": {
        "id": "d07718d3-7525-4471-848c-c866bd6c4125",
        "outputId": "2f9e277d-54c7-4768-ebc0-ef65c84b51a5"
      },
      "outputs": [
        {
          "data": {
            "text/plain": [
              "11"
            ]
          },
          "execution_count": 4,
          "metadata": {},
          "output_type": "execute_result"
        }
      ],
      "source": [
        "a"
      ]
    },
    {
      "cell_type": "code",
      "execution_count": null,
      "id": "96a92613-ac93-473c-aabc-e3ee1a0e8869",
      "metadata": {
        "id": "96a92613-ac93-473c-aabc-e3ee1a0e8869"
      },
      "outputs": [],
      "source": [
        "a =12"
      ]
    },
    {
      "cell_type": "code",
      "execution_count": null,
      "id": "1f356bb1-65c6-4aaf-adf5-e3320521acc1",
      "metadata": {
        "id": "1f356bb1-65c6-4aaf-adf5-e3320521acc1",
        "outputId": "d2ddcc04-d2a8-4e77-a623-d9057aa8b521"
      },
      "outputs": [
        {
          "data": {
            "text/plain": [
              "12"
            ]
          },
          "execution_count": 7,
          "metadata": {},
          "output_type": "execute_result"
        }
      ],
      "source": [
        "a"
      ]
    },
    {
      "cell_type": "markdown",
      "id": "f19b3b02-f946-4722-85d1-76fcc4407c4b",
      "metadata": {
        "id": "f19b3b02-f946-4722-85d1-76fcc4407c4b"
      },
      "source": [
        "#### Constanst\n",
        "\n",
        "- The values stored in the variable, whose value we are not allowed to change in the progarm\n",
        "- We will use Upper letter ot upper case for constansts"
      ]
    },
    {
      "cell_type": "code",
      "execution_count": null,
      "id": "39dd21ef-9f28-44ce-bed0-6a44e999a04a",
      "metadata": {
        "id": "39dd21ef-9f28-44ce-bed0-6a44e999a04a"
      },
      "outputs": [],
      "source": [
        "PI = 3.14"
      ]
    },
    {
      "cell_type": "code",
      "execution_count": null,
      "id": "e6544fb7-9fb8-4b4a-a22c-688963a6000c",
      "metadata": {
        "id": "e6544fb7-9fb8-4b4a-a22c-688963a6000c",
        "outputId": "c97d050f-252d-4fcd-ec63-b7c377152a36"
      },
      "outputs": [
        {
          "data": {
            "text/plain": [
              "28.26"
            ]
          },
          "execution_count": 9,
          "metadata": {},
          "output_type": "execute_result"
        }
      ],
      "source": [
        "a = 3\n",
        "area = PI*(a**2)\n",
        "area"
      ]
    },
    {
      "cell_type": "code",
      "execution_count": null,
      "id": "fd5746ec-d033-46f5-b23c-ad0a0d9f1da2",
      "metadata": {
        "id": "fd5746ec-d033-46f5-b23c-ad0a0d9f1da2",
        "outputId": "dfd83461-f6b1-4857-a80a-07a8fbbe2212"
      },
      "outputs": [
        {
          "data": {
            "text/plain": [
              "18.84"
            ]
          },
          "execution_count": 10,
          "metadata": {},
          "output_type": "execute_result"
        }
      ],
      "source": [
        "circumference = 2*PI*a\n",
        "circumference"
      ]
    },
    {
      "cell_type": "markdown",
      "id": "174d9234-f696-40a0-8910-5b07ccb5db40",
      "metadata": {
        "id": "174d9234-f696-40a0-8910-5b07ccb5db40"
      },
      "source": [
        "### Data-Types\n",
        "\n",
        "- A datatype is a type identifier of the value that a variable is going to hold\n",
        "- __type()__ function is used to tell us that which type of data, we have stored in a variable"
      ]
    },
    {
      "cell_type": "code",
      "execution_count": null,
      "id": "e6ede695-9654-4c1d-bfa2-59c5e4e9c0fd",
      "metadata": {
        "id": "e6ede695-9654-4c1d-bfa2-59c5e4e9c0fd",
        "outputId": "bdef89df-1e84-468d-dd8c-1696db1afcec"
      },
      "outputs": [
        {
          "data": {
            "text/plain": [
              "int"
            ]
          },
          "execution_count": 11,
          "metadata": {},
          "output_type": "execute_result"
        }
      ],
      "source": [
        "a = 10\n",
        "type(a)"
      ]
    },
    {
      "cell_type": "markdown",
      "id": "37fa7319-88ea-41da-af18-f9f920395a5f",
      "metadata": {
        "id": "37fa7319-88ea-41da-af18-f9f920395a5f"
      },
      "source": [
        "### Types of Data\n",
        "\n",
        "- Basic Datatypes or Fundamental Datatypes or Primitive Datatypes\n",
        "    \n",
        "    - int\n",
        "    - float\n",
        "    - complex\n",
        "    - string\n",
        "    - boolean\n",
        "    - None\n",
        "    - range"
      ]
    },
    {
      "cell_type": "markdown",
      "id": "e9ef38cf-3f5e-4c8c-acef-c36b86c29e3b",
      "metadata": {
        "id": "e9ef38cf-3f5e-4c8c-acef-c36b86c29e3b"
      },
      "source": [
        "#### Integer Datatypes `\n",
        "\n",
        "- Any number +ve, -ve or zero without a decimal value is known as Integer Datatype"
      ]
    },
    {
      "cell_type": "code",
      "execution_count": null,
      "id": "e7d7b447-98ce-45c0-afe8-2a979c475aae",
      "metadata": {
        "id": "e7d7b447-98ce-45c0-afe8-2a979c475aae",
        "outputId": "15cb1f78-3d90-4686-b854-2f490c42ee21"
      },
      "outputs": [
        {
          "name": "stdout",
          "output_type": "stream",
          "text": [
            "10 <class 'int'>\n"
          ]
        }
      ],
      "source": [
        "a = 10\n",
        "print(a, type(a))"
      ]
    },
    {
      "cell_type": "code",
      "execution_count": null,
      "id": "1a01b627-e21f-422b-b99d-13e010a05fc7",
      "metadata": {
        "id": "1a01b627-e21f-422b-b99d-13e010a05fc7",
        "outputId": "cfe84c20-8231-4333-a4a6-c1f39bf3dcb2"
      },
      "outputs": [
        {
          "name": "stdout",
          "output_type": "stream",
          "text": [
            "-100 <class 'int'>\n"
          ]
        }
      ],
      "source": [
        "a = -100\n",
        "print(a, type(a))\n"
      ]
    },
    {
      "cell_type": "code",
      "execution_count": null,
      "id": "e3caa3d8-22f9-4771-8978-81dc0394418d",
      "metadata": {
        "id": "e3caa3d8-22f9-4771-8978-81dc0394418d",
        "outputId": "5c5bd1d5-5459-4c7a-a84c-732556cfe231"
      },
      "outputs": [
        {
          "name": "stdout",
          "output_type": "stream",
          "text": [
            "0 <class 'int'>\n"
          ]
        }
      ],
      "source": [
        "a = 0\n",
        "print(a, type(a))"
      ]
    },
    {
      "cell_type": "markdown",
      "id": "fe284796-aa49-45ec-9fc8-84098c345bc3",
      "metadata": {
        "id": "fe284796-aa49-45ec-9fc8-84098c345bc3"
      },
      "source": [
        "#### Float Datatype\n",
        "\n",
        "- Any number +ve, -ve or zero with decimal points are called as float datatypes\n",
        "- all the float values are internally stored in the form of exponentials"
      ]
    },
    {
      "cell_type": "code",
      "execution_count": null,
      "id": "969ab200-cd26-46ce-8009-371d1c113a19",
      "metadata": {
        "id": "969ab200-cd26-46ce-8009-371d1c113a19",
        "outputId": "4af18689-313a-4852-d1bb-85a565e1faf2"
      },
      "outputs": [
        {
          "name": "stdout",
          "output_type": "stream",
          "text": [
            "10.0 <class 'float'>\n"
          ]
        }
      ],
      "source": [
        "a = 10.0\n",
        "print(a, type(a))"
      ]
    },
    {
      "cell_type": "code",
      "execution_count": null,
      "id": "02f2903b-0458-4069-a739-31c09de6d628",
      "metadata": {
        "id": "02f2903b-0458-4069-a739-31c09de6d628",
        "outputId": "e50ec32f-9ab0-423b-fc3a-9eec97b99c54"
      },
      "outputs": [
        {
          "data": {
            "text/plain": [
              "10.0"
            ]
          },
          "execution_count": 17,
          "metadata": {},
          "output_type": "execute_result"
        }
      ],
      "source": [
        "1e1 # 1*10^1"
      ]
    },
    {
      "cell_type": "code",
      "execution_count": null,
      "id": "11b7836a-79cd-44cd-a60f-4dbd346f01da",
      "metadata": {
        "id": "11b7836a-79cd-44cd-a60f-4dbd346f01da",
        "outputId": "3900c7c1-dee4-4c66-9eaa-5fe4de4a750e"
      },
      "outputs": [
        {
          "data": {
            "text/plain": [
              "0.1"
            ]
          },
          "execution_count": 18,
          "metadata": {},
          "output_type": "execute_result"
        }
      ],
      "source": [
        "1e-1 # 1*10^(-1)"
      ]
    },
    {
      "cell_type": "code",
      "execution_count": null,
      "id": "57b0563e-7e6f-4aad-8a58-4372159a7446",
      "metadata": {
        "id": "57b0563e-7e6f-4aad-8a58-4372159a7446",
        "outputId": "0dc52ebc-efad-4168-bcb7-35f9910a409d"
      },
      "outputs": [
        {
          "name": "stdout",
          "output_type": "stream",
          "text": [
            "<class 'int'> <class 'float'>\n"
          ]
        }
      ],
      "source": [
        "a = 1\n",
        "b = 1e0\n",
        "print(type(a), type(b))"
      ]
    },
    {
      "cell_type": "code",
      "execution_count": null,
      "id": "405cd0b7-ac35-4229-a6e3-416f02761dad",
      "metadata": {
        "id": "405cd0b7-ac35-4229-a6e3-416f02761dad",
        "outputId": "1a5d57d1-4635-48bd-b127-553571f527a3"
      },
      "outputs": [
        {
          "data": {
            "text/plain": [
              "105.02"
            ]
          },
          "execution_count": 21,
          "metadata": {},
          "output_type": "execute_result"
        }
      ],
      "source": [
        "a = 10502e-2\n",
        "a"
      ]
    },
    {
      "cell_type": "markdown",
      "id": "0afe9664-5fb6-47fe-b221-e6d7d9ddc732",
      "metadata": {
        "id": "0afe9664-5fb6-47fe-b221-e6d7d9ddc732"
      },
      "source": [
        "#### Complex Datatype (though we are not going to use in the data science)\n",
        "\n",
        "- any nummber stored in the form of a+bj or a+bJ is considered a complex number\n",
        "- where a is the real number and b is the imaginary number"
      ]
    },
    {
      "cell_type": "code",
      "execution_count": null,
      "id": "f19e0d8c-e7a9-4a44-b6c0-fd264da9c35d",
      "metadata": {
        "id": "f19e0d8c-e7a9-4a44-b6c0-fd264da9c35d",
        "outputId": "8524a739-7c2e-46c2-eb3a-c73dc8b98de7"
      },
      "outputs": [
        {
          "name": "stdout",
          "output_type": "stream",
          "text": [
            "<class 'complex'>\n"
          ]
        }
      ],
      "source": [
        "a = 10+7j\n",
        "print(type(a))"
      ]
    },
    {
      "cell_type": "code",
      "execution_count": null,
      "id": "a1179612-43cc-428c-beaf-caf94c155bef",
      "metadata": {
        "id": "a1179612-43cc-428c-beaf-caf94c155bef",
        "outputId": "49a00a6a-f0b8-45c6-a85d-a774915c13d5"
      },
      "outputs": [
        {
          "data": {
            "text/plain": [
              "10.0"
            ]
          },
          "execution_count": 24,
          "metadata": {},
          "output_type": "execute_result"
        }
      ],
      "source": [
        "a.real"
      ]
    },
    {
      "cell_type": "code",
      "execution_count": null,
      "id": "753ecd2f-8596-467e-bcdd-c53bb2993227",
      "metadata": {
        "id": "753ecd2f-8596-467e-bcdd-c53bb2993227",
        "outputId": "4ecf2036-68e1-4513-c802-88ad237a48e1"
      },
      "outputs": [
        {
          "data": {
            "text/plain": [
              "7.0"
            ]
          },
          "execution_count": 25,
          "metadata": {},
          "output_type": "execute_result"
        }
      ],
      "source": [
        "a.imag"
      ]
    },
    {
      "cell_type": "markdown",
      "id": "1ca04506-424f-4ece-90b7-f8a10fee4a23",
      "metadata": {
        "id": "1ca04506-424f-4ece-90b7-f8a10fee4a23"
      },
      "source": [
        "#### String\n",
        "\n",
        "- anythiing that we are going to write in '...', \"....\" ,'''.....''' or \"\"\".....\"\"\"\n",
        "- It can store a character, it can store a word, it can store a setenece or a paragraph or any other datatype\n",
        "- '....' and \"...\" will be used extensively to represnt a string datatype\n",
        "- '''...''' and \"\"\"...\"\"\" these are either used to write docstrings (documentatioanl string or multi-line comments )\n",
        "- In some cases, if we want to write a multi-line string statement, then also we will use either '''......''' or \"\"\".......\"\"\""
      ]
    },
    {
      "cell_type": "code",
      "execution_count": null,
      "id": "39457a78-55dc-421b-9162-7ca378716111",
      "metadata": {
        "id": "39457a78-55dc-421b-9162-7ca378716111",
        "outputId": "e3e323ae-c803-4578-98a9-bcbd21780f8d"
      },
      "outputs": [
        {
          "name": "stdout",
          "output_type": "stream",
          "text": [
            "<class 'str'>\n"
          ]
        }
      ],
      "source": [
        "a = 'learnbay'\n",
        "print(type(a))"
      ]
    },
    {
      "cell_type": "code",
      "execution_count": null,
      "id": "b4ec04b0-77b3-4404-92b4-895245fc9da6",
      "metadata": {
        "id": "b4ec04b0-77b3-4404-92b4-895245fc9da6",
        "outputId": "4b67e26b-d0b6-4187-fbbb-5c4b57031877"
      },
      "outputs": [
        {
          "name": "stdout",
          "output_type": "stream",
          "text": [
            "<class 'str'>\n"
          ]
        }
      ],
      "source": [
        "a = \"Mayank\"\n",
        "print(type(a))"
      ]
    },
    {
      "cell_type": "code",
      "execution_count": null,
      "id": "4f695de5-877c-4e89-bacd-ffe57d2bb2c2",
      "metadata": {
        "id": "4f695de5-877c-4e89-bacd-ffe57d2bb2c2",
        "outputId": "a3e2f343-1269-425c-dd42-da71cecb66a1"
      },
      "outputs": [
        {
          "name": "stdout",
          "output_type": "stream",
          "text": [
            "Hi, \n",
            "My name is Mayank Atul Ghai\n",
            "and i am your Python trainer <class 'str'>\n"
          ]
        }
      ],
      "source": [
        "a = '''Hi,\n",
        "My name is Mayank Atul Ghai\n",
        "and i am your Python trainer'''\n",
        "\n",
        "print(a,type(a))"
      ]
    },
    {
      "cell_type": "code",
      "execution_count": null,
      "id": "513701d8-b10b-48d0-ab50-92014c20447a",
      "metadata": {
        "id": "513701d8-b10b-48d0-ab50-92014c20447a",
        "outputId": "d1d69083-92e9-46a6-d0df-46a821996ecd"
      },
      "outputs": [
        {
          "name": "stdout",
          "output_type": "stream",
          "text": [
            "<class 'str'>\n"
          ]
        }
      ],
      "source": [
        "a = '1'\n",
        "print(type(a))"
      ]
    },
    {
      "cell_type": "code",
      "execution_count": null,
      "id": "42edc1eb-0813-4dc8-ab68-bd001903d359",
      "metadata": {
        "id": "42edc1eb-0813-4dc8-ab68-bd001903d359",
        "outputId": "920db84d-de34-4e0d-ffbe-ff3a6f9e9fc7"
      },
      "outputs": [
        {
          "ename": "SyntaxError",
          "evalue": "unterminated string literal (detected at line 1) (156502212.py, line 1)",
          "output_type": "error",
          "traceback": [
            "\u001b[1;36m  Cell \u001b[1;32mIn[31], line 1\u001b[1;36m\u001b[0m\n\u001b[1;33m    a = 'Hi,\u001b[0m\n\u001b[1;37m        ^\u001b[0m\n\u001b[1;31mSyntaxError\u001b[0m\u001b[1;31m:\u001b[0m unterminated string literal (detected at line 1)\n"
          ]
        }
      ],
      "source": [
        "a = 'Hi,\n",
        "My name is Mayank Atul Ghai\n",
        "and i am your Python trainer'\n",
        "print(a)"
      ]
    },
    {
      "cell_type": "code",
      "execution_count": null,
      "id": "4e7c97ca-cace-40fc-99e1-358cf3f48171",
      "metadata": {
        "id": "4e7c97ca-cace-40fc-99e1-358cf3f48171"
      },
      "outputs": [],
      "source": [
        "print()"
      ]
    },
    {
      "cell_type": "code",
      "execution_count": null,
      "id": "91c02a3c-1ec2-4cff-ae38-7914a0d9ff52",
      "metadata": {
        "id": "91c02a3c-1ec2-4cff-ae38-7914a0d9ff52"
      },
      "outputs": [],
      "source": [
        "def add(a,b):\n",
        "    '''Functionality: This function takes two value from the user and gives me the sum of these two numbers'''\n",
        "    c = a+b\n",
        "    return c"
      ]
    },
    {
      "cell_type": "code",
      "execution_count": null,
      "id": "d5214871-99d1-4c84-9e58-a80daa422d29",
      "metadata": {
        "id": "d5214871-99d1-4c84-9e58-a80daa422d29"
      },
      "outputs": [],
      "source": [
        "add()"
      ]
    },
    {
      "cell_type": "code",
      "execution_count": null,
      "id": "0d7eb4dd-dd60-40ec-a247-fb80a0c2ef72",
      "metadata": {
        "id": "0d7eb4dd-dd60-40ec-a247-fb80a0c2ef72"
      },
      "outputs": [],
      "source": [
        "a = 'mayank' # 'M'+'a'+'y'+'a'+'n'+'k'"
      ]
    },
    {
      "cell_type": "code",
      "execution_count": null,
      "id": "b00159fc-845a-486f-a3de-2b8d383d0b01",
      "metadata": {
        "id": "b00159fc-845a-486f-a3de-2b8d383d0b01",
        "outputId": "0f3f013f-f3bd-49c2-e305-94565d5b03b4"
      },
      "outputs": [
        {
          "data": {
            "text/plain": [
              "'Mayank'"
            ]
          },
          "execution_count": 34,
          "metadata": {},
          "output_type": "execute_result"
        }
      ],
      "source": [
        "'M'+'a'+'y'+'a'+'n'+'k'"
      ]
    },
    {
      "cell_type": "code",
      "execution_count": null,
      "id": "42b115ca-62ed-4721-b0b2-1f13d880557d",
      "metadata": {
        "id": "42b115ca-62ed-4721-b0b2-1f13d880557d",
        "outputId": "958e3465-41c1-4135-d464-18430981d052"
      },
      "outputs": [
        {
          "ename": "NameError",
          "evalue": "name 'M' is not defined",
          "output_type": "error",
          "traceback": [
            "\u001b[1;31m---------------------------------------------------------------------------\u001b[0m",
            "\u001b[1;31mNameError\u001b[0m                                 Traceback (most recent call last)",
            "Cell \u001b[1;32mIn[35], line 1\u001b[0m\n\u001b[1;32m----> 1\u001b[0m M\u001b[38;5;241m+\u001b[39ma\u001b[38;5;241m+\u001b[39my\u001b[38;5;241m+\u001b[39ma\n",
            "\u001b[1;31mNameError\u001b[0m: name 'M' is not defined"
          ]
        }
      ],
      "source": [
        "M+a+y+a"
      ]
    },
    {
      "cell_type": "markdown",
      "id": "f2c7e141-0c26-462b-8c06-f9fb429c5f3c",
      "metadata": {
        "id": "f2c7e141-0c26-462b-8c06-f9fb429c5f3c"
      },
      "source": [
        " To read the docstring of any function, write the function name, come in the brackets and press __lshift+tab__"
      ]
    },
    {
      "cell_type": "markdown",
      "id": "c9a16feb-6ba6-4e6c-9fcd-f979d4ac16b5",
      "metadata": {
        "id": "c9a16feb-6ba6-4e6c-9fcd-f979d4ac16b5"
      },
      "source": [
        "#### Boolean Datatype\n",
        "\n",
        "- It is going to have two values in it\n",
        "- __True__ or __False__"
      ]
    },
    {
      "cell_type": "code",
      "execution_count": null,
      "id": "069b120e-3e7b-4533-9d3f-1f3e382f958e",
      "metadata": {
        "id": "069b120e-3e7b-4533-9d3f-1f3e382f958e",
        "outputId": "724c80c4-5cc2-4212-b709-d20d7cb21256"
      },
      "outputs": [
        {
          "name": "stdout",
          "output_type": "stream",
          "text": [
            "<class 'bool'>\n"
          ]
        }
      ],
      "source": [
        "a = True\n",
        "print(type(a))"
      ]
    },
    {
      "cell_type": "code",
      "execution_count": null,
      "id": "b306948c-cf49-4191-a89b-86b0e412d271",
      "metadata": {
        "id": "b306948c-cf49-4191-a89b-86b0e412d271",
        "outputId": "bd9dce67-81c5-4360-e4d7-48156d73e8e4"
      },
      "outputs": [
        {
          "name": "stdout",
          "output_type": "stream",
          "text": [
            "<class 'bool'>\n"
          ]
        }
      ],
      "source": [
        "a = False\n",
        "print(type(a))"
      ]
    },
    {
      "cell_type": "code",
      "execution_count": null,
      "id": "969bc1b0-3264-447e-ba63-f136c15d0cde",
      "metadata": {
        "id": "969bc1b0-3264-447e-ba63-f136c15d0cde",
        "outputId": "bf40b5ed-1ba0-4f3b-ee98-0241e47006d2"
      },
      "outputs": [
        {
          "ename": "NameError",
          "evalue": "name 'true' is not defined",
          "output_type": "error",
          "traceback": [
            "\u001b[1;31m---------------------------------------------------------------------------\u001b[0m",
            "\u001b[1;31mNameError\u001b[0m                                 Traceback (most recent call last)",
            "Cell \u001b[1;32mIn[39], line 1\u001b[0m\n\u001b[1;32m----> 1\u001b[0m a \u001b[38;5;241m=\u001b[39m true\n\u001b[0;32m      2\u001b[0m \u001b[38;5;28mprint\u001b[39m(\u001b[38;5;28mtype\u001b[39m(a))\n",
            "\u001b[1;31mNameError\u001b[0m: name 'true' is not defined"
          ]
        }
      ],
      "source": [
        "a = true\n",
        "print(type(a))"
      ]
    },
    {
      "cell_type": "code",
      "execution_count": null,
      "id": "0c3a29d7-165c-4fa7-b609-7e3156f0cbe4",
      "metadata": {
        "id": "0c3a29d7-165c-4fa7-b609-7e3156f0cbe4"
      },
      "outputs": [],
      "source": [
        "Mayank\n",
        "mayank\n",
        "MAYANK"
      ]
    },
    {
      "cell_type": "code",
      "execution_count": null,
      "id": "942665c6-ac2d-490e-b6b2-194725f5698f",
      "metadata": {
        "id": "942665c6-ac2d-490e-b6b2-194725f5698f",
        "outputId": "9556b0ba-072b-4fd5-d9b5-12b76e2eb2b8"
      },
      "outputs": [
        {
          "data": {
            "text/plain": [
              "False"
            ]
          },
          "execution_count": 41,
          "metadata": {},
          "output_type": "execute_result"
        }
      ],
      "source": [
        "a = 'Mayank'\n",
        "b = 'MAYANK'\n",
        "\n",
        "a == b"
      ]
    },
    {
      "cell_type": "markdown",
      "id": "4ddab3ce-4af9-45ec-8e2f-cf32af38a4e4",
      "metadata": {
        "id": "4ddab3ce-4af9-45ec-8e2f-cf32af38a4e4"
      },
      "source": [
        "#### None Datatype\n",
        "\n",
        "- None is a nonedatatype\n",
        "- It is used to represent a missing value or a null value in python"
      ]
    },
    {
      "cell_type": "code",
      "execution_count": null,
      "id": "143f8bf0-9e92-4f07-b8ac-6496df2337f1",
      "metadata": {
        "id": "143f8bf0-9e92-4f07-b8ac-6496df2337f1",
        "outputId": "672e05e1-1600-4203-9617-c4f550f92a0a"
      },
      "outputs": [
        {
          "data": {
            "text/plain": [
              "140724761824016"
            ]
          },
          "execution_count": 44,
          "metadata": {},
          "output_type": "execute_result"
        }
      ],
      "source": [
        "a = None\n",
        "id(a)"
      ]
    },
    {
      "cell_type": "code",
      "execution_count": null,
      "id": "1fb4ec4a-363d-4d08-9dec-83a44dac5232",
      "metadata": {
        "id": "1fb4ec4a-363d-4d08-9dec-83a44dac5232"
      },
      "outputs": [],
      "source": [
        "a = 10"
      ]
    },
    {
      "cell_type": "code",
      "execution_count": null,
      "id": "9b61fa98-1fe5-4112-8812-fc9c95ab5c73",
      "metadata": {
        "id": "9b61fa98-1fe5-4112-8812-fc9c95ab5c73"
      },
      "outputs": [],
      "source": [
        "a = a+1"
      ]
    },
    {
      "cell_type": "markdown",
      "id": "8cd9ca9a-492d-492b-b716-a986ceecb965",
      "metadata": {
        "id": "8cd9ca9a-492d-492b-b716-a986ceecb965"
      },
      "source": [
        "#### Range\n",
        "\n",
        "- This datatype will generate a series of number between a specified numbers or range\n",
        "- It can only happen for integer values\n",
        "\n",
        "__Syntax:__\n",
        "\n",
        "                range(start, stop(n+1), skip)\n",
        "\n",
        "                By default, if we don't give the start value it will take it as 0\n",
        "                by default, if we don't give the skip values, it will take it as 1\n",
        "                ending values is excluded"
      ]
    },
    {
      "cell_type": "code",
      "execution_count": null,
      "id": "ecbbbad5-c0cc-4a85-939d-992734c834f4",
      "metadata": {
        "id": "ecbbbad5-c0cc-4a85-939d-992734c834f4",
        "outputId": "318b77b5-2062-4153-ca1c-5a432059a607"
      },
      "outputs": [
        {
          "data": {
            "text/plain": [
              "range(0, 5)"
            ]
          },
          "execution_count": 46,
          "metadata": {},
          "output_type": "execute_result"
        }
      ],
      "source": [
        "a = range(5)\n",
        "a"
      ]
    },
    {
      "cell_type": "code",
      "execution_count": null,
      "id": "290b7d2c-c29e-4711-8499-a9c8dcce3189",
      "metadata": {
        "id": "290b7d2c-c29e-4711-8499-a9c8dcce3189"
      },
      "outputs": [],
      "source": [
        "[0,inf) --- 0 is included"
      ]
    },
    {
      "cell_type": "code",
      "execution_count": null,
      "id": "23e794c1-9440-4630-be16-c87fcf9eb5eb",
      "metadata": {
        "id": "23e794c1-9440-4630-be16-c87fcf9eb5eb",
        "outputId": "d5bccab3-ccff-48ee-ec0a-bff84eb80c64"
      },
      "outputs": [
        {
          "name": "stdout",
          "output_type": "stream",
          "text": [
            "1\n",
            "3\n"
          ]
        }
      ],
      "source": [
        "a = range(1,5,2) #[1,5)\n",
        "a\n",
        "# [1,5)\n",
        "# start = 1\n",
        "# stop = 5\n",
        "# skip = 2\n",
        "\n",
        "# 1,3\n",
        "\n",
        "for i in a:\n",
        "    print(i)"
      ]
    },
    {
      "cell_type": "code",
      "execution_count": null,
      "id": "bc5004f3-d13f-45f3-bb94-ecc8feedd15a",
      "metadata": {
        "id": "bc5004f3-d13f-45f3-bb94-ecc8feedd15a",
        "outputId": "b2fb3b82-1334-452c-b5ad-8f9ab5a32172"
      },
      "outputs": [
        {
          "name": "stdout",
          "output_type": "stream",
          "text": [
            "0\n",
            "1\n",
            "2\n",
            "3\n",
            "4\n"
          ]
        }
      ],
      "source": [
        "for i in a:\n",
        "    print(i)"
      ]
    },
    {
      "cell_type": "code",
      "execution_count": null,
      "id": "eea44373-66fd-47e9-b0a0-764466c92805",
      "metadata": {
        "id": "eea44373-66fd-47e9-b0a0-764466c92805",
        "outputId": "390637ab-4eef-489a-c78a-b06ae0982643"
      },
      "outputs": [
        {
          "name": "stdout",
          "output_type": "stream",
          "text": [
            "10\n",
            "11\n",
            "12\n",
            "13\n",
            "14\n",
            "15\n",
            "16\n",
            "17\n",
            "18\n",
            "19\n"
          ]
        }
      ],
      "source": [
        "a = range(10,20)\n",
        "for i in a:\n",
        "    print(i)"
      ]
    },
    {
      "cell_type": "code",
      "execution_count": null,
      "id": "3a9edc7c-fd48-4336-bc1b-9d24a4835056",
      "metadata": {
        "id": "3a9edc7c-fd48-4336-bc1b-9d24a4835056",
        "outputId": "ac04e416-f664-4462-acf1-cfa1548f5d00"
      },
      "outputs": [
        {
          "name": "stdout",
          "output_type": "stream",
          "text": [
            "5\n",
            "4\n",
            "3\n",
            "2\n",
            "1\n"
          ]
        }
      ],
      "source": [
        "a = range(5,0,-1)\n",
        "for i in a:\n",
        "    print(i)"
      ]
    },
    {
      "cell_type": "code",
      "execution_count": null,
      "id": "6f34715f-4401-4052-9fe1-9b20789efa16",
      "metadata": {
        "id": "6f34715f-4401-4052-9fe1-9b20789efa16"
      },
      "outputs": [],
      "source": [
        "a = range(0,5,-1) #[0,5)\n",
        "for i in a:\n",
        "    print(i)\n",
        "\n",
        "# i  = 0\n",
        "# i = 0-1 = -1"
      ]
    },
    {
      "cell_type": "code",
      "execution_count": null,
      "id": "8ae71dc6-6f24-4caf-9e18-589c08e4bcac",
      "metadata": {
        "id": "8ae71dc6-6f24-4caf-9e18-589c08e4bcac",
        "outputId": "e79bc688-fb2e-40d5-b7ce-a2da0bdad836"
      },
      "outputs": [
        {
          "name": "stdout",
          "output_type": "stream",
          "text": [
            "0\n",
            "3\n"
          ]
        }
      ],
      "source": [
        "a = range(0,6,3)\n",
        "for i in a:\n",
        "    print(i)"
      ]
    },
    {
      "cell_type": "code",
      "execution_count": null,
      "id": "889e76d6-c6d2-4348-933c-bc87c010ced6",
      "metadata": {
        "id": "889e76d6-c6d2-4348-933c-bc87c010ced6",
        "outputId": "2e6a3ce2-733a-4691-ecc3-9f483388ced7"
      },
      "outputs": [
        {
          "ename": "TypeError",
          "evalue": "'float' object cannot be interpreted as an integer",
          "output_type": "error",
          "traceback": [
            "\u001b[1;31m---------------------------------------------------------------------------\u001b[0m",
            "\u001b[1;31mTypeError\u001b[0m                                 Traceback (most recent call last)",
            "Cell \u001b[1;32mIn[57], line 1\u001b[0m\n\u001b[1;32m----> 1\u001b[0m \u001b[38;5;28mrange\u001b[39m(\u001b[38;5;241m1.0\u001b[39m, \u001b[38;5;241m5\u001b[39m)\n",
            "\u001b[1;31mTypeError\u001b[0m: 'float' object cannot be interpreted as an integer"
          ]
        }
      ],
      "source": [
        "range(1.0, 5)"
      ]
    },
    {
      "cell_type": "code",
      "execution_count": null,
      "id": "b3892184-166c-41c3-972c-0ef24144b0f0",
      "metadata": {
        "id": "b3892184-166c-41c3-972c-0ef24144b0f0",
        "outputId": "6bbf19ef-e9c3-4275-f334-88c21b706b54"
      },
      "outputs": [
        {
          "name": "stdout",
          "output_type": "stream",
          "text": [
            "0\n",
            "-1\n",
            "-2\n",
            "-3\n",
            "-4\n"
          ]
        }
      ],
      "source": [
        "for i in range(0,-5, -1):\n",
        "    print(i)"
      ]
    },
    {
      "cell_type": "code",
      "execution_count": null,
      "id": "558bc01a-19c5-44af-9500-34bf2ceaed9e",
      "metadata": {
        "id": "558bc01a-19c5-44af-9500-34bf2ceaed9e",
        "outputId": "214907e1-f945-4451-b04b-586e2da532ed"
      },
      "outputs": [
        {
          "name": "stdout",
          "output_type": "stream",
          "text": [
            "0\n",
            "-1\n",
            "-2\n",
            "-3\n",
            "-4\n"
          ]
        }
      ],
      "source": [
        "for i in range(0,-5,-1):\n",
        "    print(i)"
      ]
    },
    {
      "cell_type": "markdown",
      "id": "e176d788-ab10-4cae-925a-5ee248c7742e",
      "metadata": {
        "id": "e176d788-ab10-4cae-925a-5ee248c7742e"
      },
      "source": [
        "#### In python, we assign memory location to the values not to the variables, variables are just a name tag"
      ]
    },
    {
      "cell_type": "code",
      "execution_count": null,
      "id": "75bdba4c-969f-43c9-9dae-587165e0a870",
      "metadata": {
        "id": "75bdba4c-969f-43c9-9dae-587165e0a870",
        "outputId": "f84524fe-fac4-4564-9567-6a8222873769"
      },
      "outputs": [
        {
          "name": "stdout",
          "output_type": "stream",
          "text": [
            "140724763214632\n",
            "140724763214632\n"
          ]
        }
      ],
      "source": [
        "a = 1\n",
        "print(id(a))\n",
        "b = 1\n",
        "print(id(b))"
      ]
    },
    {
      "cell_type": "markdown",
      "id": "f9683bf1-44d7-4f1c-92a7-cf7d3509f224",
      "metadata": {
        "id": "f9683bf1-44d7-4f1c-92a7-cf7d3509f224"
      },
      "source": [
        "### Derived Datatypes\n",
        "\n",
        "- These are container datatypes that are used to store multiple values or element in it\n",
        "    \n",
        "    - list\n",
        "    - tuple\n",
        "    - dictionary\n",
        "    - set\n",
        "    - frozenset"
      ]
    },
    {
      "cell_type": "markdown",
      "id": "1f786b99-fbcb-4942-845e-29a47194567a",
      "metadata": {
        "id": "1f786b99-fbcb-4942-845e-29a47194567a"
      },
      "source": [
        "#### list\n",
        "\n",
        "- anything written inside a square bracket [......] is considered a list datatype\n",
        "- each element or values are seperated by each other with a comma(,)\n",
        "- a list can contain both homogenous (same type of data) or heterogenous values ( different type of data)\n",
        "- a list can have duplicate values in it\n",
        "- we can add anything or remove anything from the list, that means they are mutable"
      ]
    },
    {
      "cell_type": "code",
      "execution_count": null,
      "id": "454c0d77-2dcd-4ba5-93a7-f214a5f381d6",
      "metadata": {
        "id": "454c0d77-2dcd-4ba5-93a7-f214a5f381d6",
        "outputId": "70523cd2-3b18-49fb-9ca9-89d4d1b11354"
      },
      "outputs": [
        {
          "name": "stdout",
          "output_type": "stream",
          "text": [
            "[1] <class 'list'>\n"
          ]
        }
      ],
      "source": [
        "a = [1]\n",
        "print(a, type(a))"
      ]
    },
    {
      "cell_type": "code",
      "execution_count": null,
      "id": "9424dd5d-853b-48d4-b97b-274ae7644ad6",
      "metadata": {
        "id": "9424dd5d-853b-48d4-b97b-274ae7644ad6",
        "outputId": "9433aff3-c89f-499a-8a8a-4bf714e07634"
      },
      "outputs": [
        {
          "name": "stdout",
          "output_type": "stream",
          "text": [
            "[1, 2, 3, 4, 5, 6] <class 'list'>\n"
          ]
        }
      ],
      "source": [
        "a = [1,2,3,4,5,6]\n",
        "print(a, type(a))"
      ]
    },
    {
      "cell_type": "code",
      "execution_count": null,
      "id": "a54b9d47-4f9c-4c05-ac47-c8075a2678a4",
      "metadata": {
        "id": "a54b9d47-4f9c-4c05-ac47-c8075a2678a4",
        "outputId": "174386e9-2233-40a4-8b32-daae512b19ec"
      },
      "outputs": [
        {
          "name": "stdout",
          "output_type": "stream",
          "text": [
            "[1, 2.0, (3+7j), 'python', None, True, range(1, 4), [1, 2, 3, 4]] <class 'list'>\n"
          ]
        }
      ],
      "source": [
        "a = [1, 2.0, 3+7j, 'python', None, True, range(1,4), [1,2,3,4]]\n",
        "print(a, type(a))"
      ]
    },
    {
      "cell_type": "code",
      "execution_count": null,
      "id": "60cb1e5d-123d-4187-a9c1-f648f0cb2845",
      "metadata": {
        "id": "60cb1e5d-123d-4187-a9c1-f648f0cb2845",
        "outputId": "7ba9ee1f-5d6a-4dc9-b010-8ed0c602ef89"
      },
      "outputs": [
        {
          "name": "stdout",
          "output_type": "stream",
          "text": [
            "[1, 2, 3, 4, 5, 4, 3, 2, 1, 2, 1, 3, 4, 5] <class 'list'>\n"
          ]
        }
      ],
      "source": [
        "a = [1,2,3,4,5,4,3,2,1,2,1,3,4,5]\n",
        "print(a, type(a))"
      ]
    },
    {
      "cell_type": "code",
      "execution_count": null,
      "id": "35ce3148-df22-4f3d-ae6e-96f7e904d990",
      "metadata": {
        "id": "35ce3148-df22-4f3d-ae6e-96f7e904d990",
        "outputId": "90171223-3a41-4290-e644-74d8648cc615"
      },
      "outputs": [
        {
          "data": {
            "text/plain": [
              "2265845586304"
            ]
          },
          "execution_count": 71,
          "metadata": {},
          "output_type": "execute_result"
        }
      ],
      "source": [
        "a = [1,2,3,4,5]\n",
        "id(a)"
      ]
    },
    {
      "cell_type": "code",
      "execution_count": null,
      "id": "1b0b9039-29d5-4742-a9c3-483b6d605b1a",
      "metadata": {
        "id": "1b0b9039-29d5-4742-a9c3-483b6d605b1a",
        "outputId": "fcfb6ed5-56ad-46e3-dc82-466dccb0500b"
      },
      "outputs": [
        {
          "name": "stdout",
          "output_type": "stream",
          "text": [
            "[1, 2, 3, 4, 5, 100] 2265845586304\n"
          ]
        }
      ],
      "source": [
        "a.append(100)\n",
        "print(a, id(a))"
      ]
    },
    {
      "cell_type": "code",
      "execution_count": null,
      "id": "de2bd441-a278-4b7e-84fc-621d118e9c47",
      "metadata": {
        "id": "de2bd441-a278-4b7e-84fc-621d118e9c47",
        "outputId": "314f857e-f2d1-4968-afe4-ef10af9df575"
      },
      "outputs": [
        {
          "name": "stdout",
          "output_type": "stream",
          "text": [
            "1 140724763214632\n",
            "2 140724763214664\n",
            "3 140724763214696\n",
            "4 140724763214728\n",
            "5 140724763214760\n",
            "100 140724763217800\n"
          ]
        }
      ],
      "source": [
        "for i in a:\n",
        "    print(i, id(i))"
      ]
    },
    {
      "cell_type": "markdown",
      "id": "7f68aa63-6b69-434c-b8d3-9d0a82cc75c3",
      "metadata": {
        "id": "7f68aa63-6b69-434c-b8d3-9d0a82cc75c3"
      },
      "source": [
        "#### Tuples\n",
        "\n",
        "- anything written inside a round bracket (......) is considered a tuple datatype\n",
        "- each element or values are seperated by each other with a comma(,)\n",
        "- a tuple can contain both homogenous (same type of data) or heterogenous values ( different type of data)\n",
        "- a tuple can have duplicate values in it\n",
        "- we cannot add anything or remove anything from the tuple, that means they are immutable"
      ]
    },
    {
      "cell_type": "code",
      "execution_count": null,
      "id": "0e349cc5-4a67-4940-8106-8b5dc8692502",
      "metadata": {
        "id": "0e349cc5-4a67-4940-8106-8b5dc8692502",
        "outputId": "27c2ba1c-20c7-436b-abc5-fffd0623fa1e"
      },
      "outputs": [
        {
          "name": "stdout",
          "output_type": "stream",
          "text": [
            "<class 'tuple'>\n"
          ]
        }
      ],
      "source": [
        "a = (1,2,3,4)\n",
        "print(type(a))"
      ]
    },
    {
      "cell_type": "code",
      "execution_count": null,
      "id": "653d13ed-2bd8-43ce-818e-35c6d19ac43d",
      "metadata": {
        "id": "653d13ed-2bd8-43ce-818e-35c6d19ac43d",
        "outputId": "a87e4adb-6090-44cd-bfa7-8155031ccd31"
      },
      "outputs": [
        {
          "name": "stdout",
          "output_type": "stream",
          "text": [
            "<class 'int'>\n"
          ]
        }
      ],
      "source": [
        "a = (1)\n",
        "print(type(a))"
      ]
    },
    {
      "cell_type": "code",
      "execution_count": null,
      "id": "7ade0608-a0b3-4242-9489-0683c6a80a88",
      "metadata": {
        "id": "7ade0608-a0b3-4242-9489-0683c6a80a88",
        "outputId": "861a05e7-8c2f-4358-9f1c-5f61e09a786e"
      },
      "outputs": [
        {
          "name": "stdout",
          "output_type": "stream",
          "text": [
            "<class 'tuple'>\n"
          ]
        }
      ],
      "source": [
        "a = (1,)\n",
        "print(type(a))"
      ]
    },
    {
      "cell_type": "code",
      "execution_count": null,
      "id": "0b0f9c73-685a-471f-969d-720f8f34aeaf",
      "metadata": {
        "id": "0b0f9c73-685a-471f-969d-720f8f34aeaf",
        "outputId": "9040f8f7-f9b2-4bdc-dfcf-a0dfb466ea01"
      },
      "outputs": [
        {
          "ename": "AttributeError",
          "evalue": "'tuple' object has no attribute 'append'",
          "output_type": "error",
          "traceback": [
            "\u001b[1;31m---------------------------------------------------------------------------\u001b[0m",
            "\u001b[1;31mAttributeError\u001b[0m                            Traceback (most recent call last)",
            "Cell \u001b[1;32mIn[80], line 1\u001b[0m\n\u001b[1;32m----> 1\u001b[0m a\u001b[38;5;241m.\u001b[39mappend(\u001b[38;5;241m100\u001b[39m)\n",
            "\u001b[1;31mAttributeError\u001b[0m: 'tuple' object has no attribute 'append'"
          ]
        }
      ],
      "source": [
        "a.append(100)"
      ]
    },
    {
      "cell_type": "markdown",
      "id": "c6ff2e97-229c-45f2-bc9f-f27ce8cde8bd",
      "metadata": {
        "id": "c6ff2e97-229c-45f2-bc9f-f27ce8cde8bd"
      },
      "source": [
        "#### How the list and tuples are differnt from each other?"
      ]
    },
    {
      "cell_type": "code",
      "execution_count": null,
      "id": "e5297a82-7ecb-4f0e-ba35-11525727fe3f",
      "metadata": {
        "id": "e5297a82-7ecb-4f0e-ba35-11525727fe3f",
        "outputId": "2a8dadba-3528-4746-8f33-a590d6671a9f"
      },
      "outputs": [
        {
          "name": "stdout",
          "output_type": "stream",
          "text": [
            "[1, 2, 3, 4] <class 'list'> 2265846073024\n"
          ]
        }
      ],
      "source": [
        "a = [1,2,3,4]\n",
        "print(a, type(a), id(a))"
      ]
    },
    {
      "cell_type": "code",
      "execution_count": null,
      "id": "8b5304f9-5376-4e03-8394-6f2c10ec84d7",
      "metadata": {
        "id": "8b5304f9-5376-4e03-8394-6f2c10ec84d7",
        "outputId": "9176561d-f1f0-4553-c0bf-aabe3bca5a60"
      },
      "outputs": [
        {
          "data": {
            "text/plain": [
              "[1, 2, 3, 4, 1]"
            ]
          },
          "execution_count": 82,
          "metadata": {},
          "output_type": "execute_result"
        }
      ],
      "source": [
        "a.append(1)\n",
        "a"
      ]
    },
    {
      "cell_type": "code",
      "execution_count": null,
      "id": "e530b1e2-3e9c-4080-954c-431e6f8a5050",
      "metadata": {
        "id": "e530b1e2-3e9c-4080-954c-431e6f8a5050",
        "outputId": "53a1c783-e7cd-42a0-e250-ba2557e5cb7a"
      },
      "outputs": [
        {
          "data": {
            "text/plain": [
              "2265846073024"
            ]
          },
          "execution_count": 83,
          "metadata": {},
          "output_type": "execute_result"
        }
      ],
      "source": [
        "id(a)"
      ]
    },
    {
      "cell_type": "code",
      "execution_count": null,
      "id": "6462e4f1-1a64-408f-8b3c-556f5eabfa55",
      "metadata": {
        "id": "6462e4f1-1a64-408f-8b3c-556f5eabfa55",
        "outputId": "47944529-4ede-4f45-eabb-ab5564e6f0f7"
      },
      "outputs": [
        {
          "name": "stdout",
          "output_type": "stream",
          "text": [
            "[1, 2, 4, 1] 2265846073024\n"
          ]
        }
      ],
      "source": [
        "a.remove(3)\n",
        "print(a, id(a))"
      ]
    },
    {
      "cell_type": "code",
      "execution_count": null,
      "id": "fa73e029-185e-45f0-a7b4-dd40fdbe3b79",
      "metadata": {
        "id": "fa73e029-185e-45f0-a7b4-dd40fdbe3b79",
        "outputId": "37712571-8682-43c7-d559-17b28f795cab"
      },
      "outputs": [
        {
          "name": "stdout",
          "output_type": "stream",
          "text": [
            "(1, 2, 3, 4) <class 'tuple'> 2265846105648\n"
          ]
        }
      ],
      "source": [
        "t = (1,2,3,4)\n",
        "print(t, type(t), id(t))"
      ]
    },
    {
      "cell_type": "code",
      "execution_count": null,
      "id": "6b19d77b-16e3-443f-82ee-000e65ceea12",
      "metadata": {
        "id": "6b19d77b-16e3-443f-82ee-000e65ceea12",
        "outputId": "3e95c924-b7f6-479d-de32-ac6e9f2efc93"
      },
      "outputs": [
        {
          "ename": "AttributeError",
          "evalue": "'tuple' object has no attribute 'append'",
          "output_type": "error",
          "traceback": [
            "\u001b[1;31m---------------------------------------------------------------------------\u001b[0m",
            "\u001b[1;31mAttributeError\u001b[0m                            Traceback (most recent call last)",
            "Cell \u001b[1;32mIn[88], line 1\u001b[0m\n\u001b[1;32m----> 1\u001b[0m t\u001b[38;5;241m.\u001b[39mappend(\u001b[38;5;241m1\u001b[39m)\n",
            "\u001b[1;31mAttributeError\u001b[0m: 'tuple' object has no attribute 'append'"
          ]
        }
      ],
      "source": [
        "t.append(1)"
      ]
    },
    {
      "cell_type": "code",
      "execution_count": null,
      "id": "115566f5-5644-4e43-81b7-83d1709f08b9",
      "metadata": {
        "id": "115566f5-5644-4e43-81b7-83d1709f08b9",
        "outputId": "70b8ded7-bedd-4d46-8b80-936acef5e73c"
      },
      "outputs": [
        {
          "ename": "AttributeError",
          "evalue": "'tuple' object has no attribute 'remove'",
          "output_type": "error",
          "traceback": [
            "\u001b[1;31m---------------------------------------------------------------------------\u001b[0m",
            "\u001b[1;31mAttributeError\u001b[0m                            Traceback (most recent call last)",
            "Cell \u001b[1;32mIn[89], line 1\u001b[0m\n\u001b[1;32m----> 1\u001b[0m t\u001b[38;5;241m.\u001b[39mremove(\u001b[38;5;241m2\u001b[39m)\n",
            "\u001b[1;31mAttributeError\u001b[0m: 'tuple' object has no attribute 'remove'"
          ]
        }
      ],
      "source": [
        "t.remove(2)"
      ]
    },
    {
      "cell_type": "code",
      "execution_count": null,
      "id": "fbdb85bd-fe8f-4362-a60e-5609f2ccf613",
      "metadata": {
        "id": "fbdb85bd-fe8f-4362-a60e-5609f2ccf613",
        "outputId": "d5e6810f-d822-4ae3-cecc-5433b30f4435"
      },
      "outputs": [
        {
          "name": "stdout",
          "output_type": "stream",
          "text": [
            "(1, 2, 3, 4, 1) 2265846337184\n"
          ]
        }
      ],
      "source": [
        "t_1 = t+(1,)\n",
        "print(t_1, id(t_1))"
      ]
    },
    {
      "cell_type": "markdown",
      "id": "26ad6633-dfc8-4ca3-80ca-cf4ba57ccaa6",
      "metadata": {
        "id": "26ad6633-dfc8-4ca3-80ca-cf4ba57ccaa6"
      },
      "source": [
        "#### Dictionary\n",
        "\n",
        "- A dictionary is a collection of key and value pairs\n",
        "- It will have curly brackets {}\n",
        "- Every key: value pair is separated by a comma\n",
        "    - key can have immutable datatype and non container datatype(except string) such as int, float, string etc\n",
        "    - values can be of any datatype (mutable and immutable datatype)\n",
        "    - we cannot use a container datatype as a key\n",
        "    - keys cannot be duplicated but the values can have duplicated values\n",
        "    - if we pass duplicate keys, then it will be going to take the last assigned values"
      ]
    },
    {
      "cell_type": "code",
      "execution_count": null,
      "id": "97e29c18-4f5c-4651-8e18-bb0b7532b82e",
      "metadata": {
        "id": "97e29c18-4f5c-4651-8e18-bb0b7532b82e",
        "outputId": "f5d4b9b2-aba4-43e5-95f0-9d6d6bddc4db"
      },
      "outputs": [
        {
          "name": "stdout",
          "output_type": "stream",
          "text": [
            "{1: 100, 2: 200, 3: 300} <class 'dict'>\n"
          ]
        }
      ],
      "source": [
        "a = {1:100, 2:200, 3:300}\n",
        "print(a, type(a))"
      ]
    },
    {
      "cell_type": "code",
      "execution_count": null,
      "id": "f07aa93f-ebd1-44c1-9cbd-638184fa759b",
      "metadata": {
        "id": "f07aa93f-ebd1-44c1-9cbd-638184fa759b",
        "outputId": "c93121fa-4f92-4f4b-a296-1b402c992692"
      },
      "outputs": [
        {
          "data": {
            "text/plain": [
              "{'Name': 'Mayank', 'Age': 29, 'D.O.B': '1st Jan', 'City': 'Bengaluru'}"
            ]
          },
          "execution_count": 95,
          "metadata": {},
          "output_type": "execute_result"
        }
      ],
      "source": [
        "a = {'Name':'Mayank','Age':29, 'D.O.B': '1st Jan', 'City': 'Bengaluru'}\n",
        "a"
      ]
    },
    {
      "cell_type": "code",
      "execution_count": null,
      "id": "3d8f3a37-9ce5-4d08-8c5e-f97c218b3493",
      "metadata": {
        "id": "3d8f3a37-9ce5-4d08-8c5e-f97c218b3493",
        "outputId": "cf58bd6d-01be-4966-e7bf-cc97ee52c805"
      },
      "outputs": [
        {
          "ename": "TypeError",
          "evalue": "unhashable type: 'list'",
          "output_type": "error",
          "traceback": [
            "\u001b[1;31m---------------------------------------------------------------------------\u001b[0m",
            "\u001b[1;31mTypeError\u001b[0m                                 Traceback (most recent call last)",
            "Cell \u001b[1;32mIn[96], line 1\u001b[0m\n\u001b[1;32m----> 1\u001b[0m a \u001b[38;5;241m=\u001b[39m{[\u001b[38;5;241m1\u001b[39m,\u001b[38;5;241m2\u001b[39m,\u001b[38;5;241m3\u001b[39m]:\u001b[38;5;241m100\u001b[39m}\n",
            "\u001b[1;31mTypeError\u001b[0m: unhashable type: 'list'"
          ]
        }
      ],
      "source": [
        "a ={[1,2,3]:100}"
      ]
    },
    {
      "cell_type": "code",
      "execution_count": null,
      "id": "8313c9ef-ac8a-4e7b-8676-2c69820892ba",
      "metadata": {
        "id": "8313c9ef-ac8a-4e7b-8676-2c69820892ba",
        "outputId": "cc684dab-4afa-424a-d140-40d4c39b4ef1"
      },
      "outputs": [
        {
          "data": {
            "text/plain": [
              "{1: 400, 2: 200, 3: 300}"
            ]
          },
          "execution_count": 97,
          "metadata": {},
          "output_type": "execute_result"
        }
      ],
      "source": [
        "a = {1:100, 2:200, 3:300, 1:400}\n",
        "a"
      ]
    },
    {
      "cell_type": "code",
      "execution_count": null,
      "id": "19dd0f53-4513-4ac0-af3f-666c011e8877",
      "metadata": {
        "id": "19dd0f53-4513-4ac0-af3f-666c011e8877",
        "outputId": "0960e355-7daa-47ae-f9fb-5bfbdc07bfc1"
      },
      "outputs": [
        {
          "data": {
            "text/plain": [
              "{1: 100, 2: 200, 3: 300, 4: 200}"
            ]
          },
          "execution_count": 98,
          "metadata": {},
          "output_type": "execute_result"
        }
      ],
      "source": [
        "a = {1:100, 2:200, 3:300, 4:200}\n",
        "a"
      ]
    },
    {
      "cell_type": "markdown",
      "id": "62fa3834-6d7a-418d-aaca-6c3cad80c3f9",
      "metadata": {
        "id": "62fa3834-6d7a-418d-aaca-6c3cad80c3f9"
      },
      "source": [
        "### Set\n",
        "\n",
        "- Anything written inside a curly bracket is a set datatype\n",
        "- comma is used to seperate different elements inside the set datatype\n",
        "- set datatype does not allow duplicate elements inside it, it will return only the unique values\n",
        "- a set can contain heterogenous datatypes\n",
        "- a non sequential datatype, meaning we cannot use indexing here\n",
        "- sets are muatble datatype"
      ]
    },
    {
      "cell_type": "code",
      "execution_count": null,
      "id": "731d2913-6f2e-4815-a841-dbc59d1bf3cf",
      "metadata": {
        "id": "731d2913-6f2e-4815-a841-dbc59d1bf3cf",
        "outputId": "b5427a37-623f-4910-b565-bb480de73ff9"
      },
      "outputs": [
        {
          "name": "stdout",
          "output_type": "stream",
          "text": [
            "{1, 2, 3, 4, 5} <class 'set'>\n"
          ]
        }
      ],
      "source": [
        "a = {1,2,3,4,5}\n",
        "print(a, type(a))"
      ]
    },
    {
      "cell_type": "code",
      "execution_count": null,
      "id": "f70fb593-a535-499b-9cfb-2e15129f2e28",
      "metadata": {
        "id": "f70fb593-a535-499b-9cfb-2e15129f2e28",
        "outputId": "1b2bd551-30cb-478f-a63d-1fb3f516e969"
      },
      "outputs": [
        {
          "data": {
            "text/plain": [
              "{1, 2, 3, 4, 5}"
            ]
          },
          "execution_count": 100,
          "metadata": {},
          "output_type": "execute_result"
        }
      ],
      "source": [
        "a = {1,2,3,4,5,2,3,2,1,3,5,5}\n",
        "a"
      ]
    },
    {
      "cell_type": "code",
      "execution_count": null,
      "id": "fcc07dd5-00fe-4225-84c5-a129c69b622b",
      "metadata": {
        "id": "fcc07dd5-00fe-4225-84c5-a129c69b622b",
        "outputId": "c5b3f67f-440b-481f-af31-9b9d387a0e7c"
      },
      "outputs": [
        {
          "data": {
            "text/plain": [
              "[0, 100, 1, 2, 2000]"
            ]
          },
          "execution_count": 101,
          "metadata": {},
          "output_type": "execute_result"
        }
      ],
      "source": [
        "a = [0,100, 1, 2, 2000]\n",
        "a"
      ]
    },
    {
      "cell_type": "code",
      "execution_count": null,
      "id": "a0eee66b-74dc-4238-9e1a-70c464bca6bc",
      "metadata": {
        "id": "a0eee66b-74dc-4238-9e1a-70c464bca6bc",
        "outputId": "be4700b2-24c4-4c79-e858-b5b48dd81098"
      },
      "outputs": [
        {
          "data": {
            "text/plain": [
              "{0, 1, 2, 100, 2000}"
            ]
          },
          "execution_count": 102,
          "metadata": {},
          "output_type": "execute_result"
        }
      ],
      "source": [
        "a = {0,100, 1, 2, 2000}\n",
        "a"
      ]
    },
    {
      "cell_type": "code",
      "execution_count": null,
      "id": "46c6355c-f55f-44d1-a502-2f42791401a3",
      "metadata": {
        "id": "46c6355c-f55f-44d1-a502-2f42791401a3",
        "outputId": "7bb06ded-a36c-4cb8-d2d5-ebd17577476f"
      },
      "outputs": [
        {
          "data": {
            "text/plain": [
              "{'M', 'a', 'k', 'n', 'y'}"
            ]
          },
          "execution_count": 104,
          "metadata": {},
          "output_type": "execute_result"
        }
      ],
      "source": [
        "a = set('Mayank')\n",
        "a"
      ]
    },
    {
      "cell_type": "code",
      "execution_count": null,
      "id": "f84d2764-5afa-4f9f-aad9-8a6417facd9e",
      "metadata": {
        "id": "f84d2764-5afa-4f9f-aad9-8a6417facd9e",
        "outputId": "2d3dc547-ae34-40f1-8a3a-8e57af112224"
      },
      "outputs": [
        {
          "name": "stdout",
          "output_type": "stream",
          "text": [
            "{'k', 'n', 'a', 'y', 'M'}\n"
          ]
        }
      ],
      "source": [
        "print(a)"
      ]
    },
    {
      "cell_type": "markdown",
      "id": "afe97d87-55d9-480c-8b34-fdfa8af37a73",
      "metadata": {
        "id": "afe97d87-55d9-480c-8b34-fdfa8af37a73"
      },
      "source": [
        "#### frozenset\n",
        "\n",
        "- when we pass an iterable object(string, tuple, list, set, range) inside a frozenset() then it is a frozenset datatype\n",
        "- comma is used to seperate different elements inside the set datatype\n",
        "- set datatype does not allow duplicate elements inside it, it will return only the unique values\n",
        "- a set can contain heterogenous datatypes\n",
        "- a non sequential datatype, meaning we cannot use indexing here\n",
        "- sets are immuatble datatype"
      ]
    },
    {
      "cell_type": "code",
      "execution_count": null,
      "id": "57c8c4ae-8dd6-4717-801a-449f26fcd42a",
      "metadata": {
        "id": "57c8c4ae-8dd6-4717-801a-449f26fcd42a",
        "outputId": "a0d77568-1e6f-4ff6-f0d7-c9749776f738"
      },
      "outputs": [
        {
          "data": {
            "text/plain": [
              "frozenset({'M', 'a', 'k', 'n', 'y'})"
            ]
          },
          "execution_count": 106,
          "metadata": {},
          "output_type": "execute_result"
        }
      ],
      "source": [
        "a = frozenset('Mayank')\n",
        "a"
      ]
    },
    {
      "cell_type": "code",
      "execution_count": null,
      "id": "0e8dbde0-0fb7-4c6e-8424-ee1a815de2f6",
      "metadata": {
        "id": "0e8dbde0-0fb7-4c6e-8424-ee1a815de2f6",
        "outputId": "e56eb78c-cd88-48da-d7b5-1a31c62d8f21"
      },
      "outputs": [
        {
          "name": "stdout",
          "output_type": "stream",
          "text": [
            "frozenset({'k', 'n', 'a', 'y', 'M'})\n"
          ]
        }
      ],
      "source": [
        "a = frozenset('Mayank')\n",
        "print(a)"
      ]
    },
    {
      "cell_type": "markdown",
      "id": "6d68ae3b-4a23-4aca-9797-bd8097bd3d3a",
      "metadata": {
        "id": "6d68ae3b-4a23-4aca-9797-bd8097bd3d3a"
      },
      "source": [
        "- Numeric Data\n",
        "\n",
        "    - int\n",
        "    - float\n",
        "    - complex\n",
        "\n",
        "- Sequential Datatype\n",
        "\n",
        "    - string\n",
        "    - range\n",
        "    - list\n",
        "    - tuple\n",
        "\n",
        "- Mapping Datatype\n",
        "    - Dictionary\n",
        "\n",
        "- Non-sequential Datatype\n",
        "    - Set\n",
        "    - frozenset\n",
        "\n",
        "- boolean\n",
        "- None"
      ]
    },
    {
      "cell_type": "markdown",
      "id": "99fdf035-2367-4879-bb98-251056c93619",
      "metadata": {
        "id": "99fdf035-2367-4879-bb98-251056c93619"
      },
      "source": [
        "### Muatble and Immutable\n",
        "\n",
        "#### Mutable datatypes\n",
        "\n",
        "- Any datatype where we can change the values i.e. we can add a value or we can remove a values, they are called mutable datatypes\n",
        "- if something is added or removed, the memory space where the things are stored remain same\n",
        "- Sometimes, people may denote them as unhashable datatypes\n",
        "- __Example:__ list, dictionary and set\n",
        "\n",
        "#### Immutable datatype\n",
        "\n",
        "- Those datatypes in which we cannot bring any kind of a change, means we cannot remove or add values in it\n",
        "- That object once created the memory location of these objects are fixed and change will create a new object pointing to some other memory location\n",
        "- They are also known as hashable datatypes\n",
        "- __Example:__ int, float, complex, boolean, None string, tuples and frozenset"
      ]
    },
    {
      "cell_type": "code",
      "execution_count": null,
      "id": "2c033c79-9559-4cb7-bc8f-3d3076b2dba2",
      "metadata": {
        "id": "2c033c79-9559-4cb7-bc8f-3d3076b2dba2",
        "outputId": "84db5ca4-fb4a-427e-d471-ac4dea596685"
      },
      "outputs": [
        {
          "name": "stdout",
          "output_type": "stream",
          "text": [
            "11 140724763214952\n"
          ]
        }
      ],
      "source": [
        "a = 11\n",
        "print(a, id(a))"
      ]
    },
    {
      "cell_type": "markdown",
      "id": "41cdb66a-86dd-49f0-98bc-6ca8345f0f22",
      "metadata": {
        "id": "41cdb66a-86dd-49f0-98bc-6ca8345f0f22"
      },
      "source": [
        "### Type Casting\n",
        "\n",
        "- Conversion of one datatype to another datatype is known as Type casting"
      ]
    },
    {
      "cell_type": "markdown",
      "id": "952a7435-d8d0-4234-a585-5c93d5517e0a",
      "metadata": {
        "id": "952a7435-d8d0-4234-a585-5c93d5517e0a"
      },
      "source": [
        "### Type of Type casting\n",
        "\n",
        "- Implicit type casting ---> which is done by the compiler itself (only seen in numeric datatype)\n",
        "- Explicit type casting --> where we are going the conversion manually"
      ]
    },
    {
      "cell_type": "markdown",
      "id": "bbeb6de9-4de8-441e-9000-0f6ef241cbfd",
      "metadata": {
        "id": "bbeb6de9-4de8-441e-9000-0f6ef241cbfd"
      },
      "source": [
        "#### Implicit typecasting\n",
        "\n",
        "Precedence --> int<float<complex"
      ]
    },
    {
      "cell_type": "code",
      "execution_count": null,
      "id": "b20debe1-6c5d-465c-a493-882441158bfe",
      "metadata": {
        "id": "b20debe1-6c5d-465c-a493-882441158bfe",
        "outputId": "fbcce3bf-a51b-42c3-8180-90096b095b78"
      },
      "outputs": [
        {
          "name": "stdout",
          "output_type": "stream",
          "text": [
            "2.0\n"
          ]
        }
      ],
      "source": [
        "a = 1 # 1.0\n",
        "b = 1.0\n",
        "print(a+b)"
      ]
    },
    {
      "cell_type": "code",
      "execution_count": null,
      "id": "65f88a6d-5676-4b9d-a5a0-bcf565f08aa7",
      "metadata": {
        "id": "65f88a6d-5676-4b9d-a5a0-bcf565f08aa7",
        "outputId": "0fb7cdf4-eae6-40d0-e9fa-10a0e10b0e08"
      },
      "outputs": [
        {
          "name": "stdout",
          "output_type": "stream",
          "text": [
            "(2+8j)\n"
          ]
        }
      ],
      "source": [
        "a = 1.0 # 1+0j\n",
        "b = 1+8j\n",
        "print(a+b)"
      ]
    },
    {
      "cell_type": "markdown",
      "id": "919d3963-2dca-46af-bfa1-243115531315",
      "metadata": {
        "id": "919d3963-2dca-46af-bfa1-243115531315"
      },
      "source": [
        "### Input and Output Statement\n",
        "\n",
        "#### Input Statement\n",
        "\n",
        "- input() function is used to take an input from the user\n",
        "- By default, input() function will take the value in string format"
      ]
    },
    {
      "cell_type": "code",
      "execution_count": null,
      "id": "d2b185e5-973c-465a-9a13-d823dff7f78b",
      "metadata": {
        "id": "d2b185e5-973c-465a-9a13-d823dff7f78b",
        "outputId": "dcdac52b-a8b5-434e-c141-7761c69deb43"
      },
      "outputs": [
        {
          "name": "stdin",
          "output_type": "stream",
          "text": [
            "Enter a number:  10\n"
          ]
        },
        {
          "data": {
            "text/plain": [
              "'10'"
            ]
          },
          "execution_count": 112,
          "metadata": {},
          "output_type": "execute_result"
        }
      ],
      "source": [
        "a = input('Enter a number: ')\n",
        "a"
      ]
    },
    {
      "cell_type": "markdown",
      "id": "294906e8-7089-44ac-9c71-85150bfda489",
      "metadata": {
        "id": "294906e8-7089-44ac-9c71-85150bfda489"
      },
      "source": [
        "### Explicit Type casting"
      ]
    },
    {
      "cell_type": "code",
      "execution_count": null,
      "id": "ce0889e5-96fb-4dcc-b5e6-4b26f20327df",
      "metadata": {
        "id": "ce0889e5-96fb-4dcc-b5e6-4b26f20327df",
        "outputId": "5da6bdce-7c7e-4f3d-f4a6-ba8c8fea3a5b"
      },
      "outputs": [
        {
          "name": "stdin",
          "output_type": "stream",
          "text": [
            "Enter a number:  10\n"
          ]
        },
        {
          "name": "stdout",
          "output_type": "stream",
          "text": [
            "10 <class 'int'>\n"
          ]
        }
      ],
      "source": [
        "a = int(input('Enter a number: '))\n",
        "print(a, type(a))"
      ]
    },
    {
      "cell_type": "code",
      "execution_count": null,
      "id": "ac8e19e4-5c72-4ec1-a4ea-cc05ffbdf5f7",
      "metadata": {
        "id": "ac8e19e4-5c72-4ec1-a4ea-cc05ffbdf5f7",
        "outputId": "9fb0c792-1252-446e-fbb0-478e09f1b174"
      },
      "outputs": [
        {
          "name": "stdin",
          "output_type": "stream",
          "text": [
            "Enter a number:  10\n"
          ]
        },
        {
          "name": "stdout",
          "output_type": "stream",
          "text": [
            "10.0 <class 'float'>\n"
          ]
        }
      ],
      "source": [
        "a = float(input('Enter a number: '))\n",
        "print(a, type(a))"
      ]
    },
    {
      "cell_type": "code",
      "execution_count": null,
      "id": "8cbc2b54-d5f8-4360-9772-541660f69ecb",
      "metadata": {
        "id": "8cbc2b54-d5f8-4360-9772-541660f69ecb",
        "outputId": "949cd3eb-70ff-4795-864c-b14eb8ab46f0"
      },
      "outputs": [
        {
          "name": "stdin",
          "output_type": "stream",
          "text": [
            "Enter a number:  10\n"
          ]
        },
        {
          "name": "stdout",
          "output_type": "stream",
          "text": [
            "(10+0j) <class 'complex'>\n"
          ]
        }
      ],
      "source": [
        "a = complex(input('Enter a number: '))\n",
        "print(a, type(a))"
      ]
    },
    {
      "cell_type": "code",
      "execution_count": null,
      "id": "d286cf83-dafb-405d-adc3-42a1c35dd544",
      "metadata": {
        "id": "d286cf83-dafb-405d-adc3-42a1c35dd544",
        "outputId": "231fd520-4d8c-4944-e788-7b870090fecf"
      },
      "outputs": [
        {
          "name": "stdin",
          "output_type": "stream",
          "text": [
            "Enter a number:  10\n"
          ]
        },
        {
          "name": "stdout",
          "output_type": "stream",
          "text": [
            "['1', '0'] <class 'list'>\n"
          ]
        }
      ],
      "source": [
        "a = list(input('Enter a number: '))\n",
        "print(a, type(a))"
      ]
    },
    {
      "cell_type": "code",
      "execution_count": null,
      "id": "2af76b37-5579-4875-ba18-e8571a3fda56",
      "metadata": {
        "id": "2af76b37-5579-4875-ba18-e8571a3fda56"
      },
      "outputs": [],
      "source": [
        "'10'---> '1'+'0'"
      ]
    },
    {
      "cell_type": "markdown",
      "id": "3aa437d7-cd5a-4bb8-abc2-d4c4e2f9828d",
      "metadata": {
        "id": "3aa437d7-cd5a-4bb8-abc2-d4c4e2f9828d"
      },
      "source": [
        "#### Output function\n",
        "\n",
        "- print() function is used to display an output to the user\n",
        "- type of print() function is a none dataype"
      ]
    },
    {
      "cell_type": "code",
      "execution_count": null,
      "id": "4a976e4f-46d9-49db-95e7-58b7a1a71e12",
      "metadata": {
        "id": "4a976e4f-46d9-49db-95e7-58b7a1a71e12",
        "outputId": "1b8e3fbf-33f9-4748-fd41-927e97a93c51"
      },
      "outputs": [
        {
          "name": "stdout",
          "output_type": "stream",
          "text": [
            "learnbay\n",
            "None\n"
          ]
        }
      ],
      "source": [
        "a = print('learnbay')\n",
        "print(a)"
      ]
    },
    {
      "cell_type": "markdown",
      "id": "26044104-51df-497f-9c9c-15b11ebeac70",
      "metadata": {
        "id": "26044104-51df-497f-9c9c-15b11ebeac70"
      },
      "source": [
        "### Different ways of writing an Ouput"
      ]
    },
    {
      "cell_type": "code",
      "execution_count": null,
      "id": "48e28c80-ab06-48b5-9f9f-d01dce9816ba",
      "metadata": {
        "id": "48e28c80-ab06-48b5-9f9f-d01dce9816ba",
        "outputId": "abdc9052-8b31-4343-9857-e73a3096f854"
      },
      "outputs": [
        {
          "name": "stdout",
          "output_type": "stream",
          "text": [
            "30\n"
          ]
        }
      ],
      "source": [
        "a = 10\n",
        "b = 20\n",
        "c = a+b\n",
        "print(c)"
      ]
    },
    {
      "cell_type": "code",
      "execution_count": null,
      "id": "13006ced-7022-478e-aecd-5339d22bb2c7",
      "metadata": {
        "id": "13006ced-7022-478e-aecd-5339d22bb2c7",
        "outputId": "2e3c73cb-0956-4a4d-aac5-f15fa25a3180"
      },
      "outputs": [
        {
          "ename": "TypeError",
          "evalue": "can only concatenate str (not \"int\") to str",
          "output_type": "error",
          "traceback": [
            "\u001b[1;31m---------------------------------------------------------------------------\u001b[0m",
            "\u001b[1;31mTypeError\u001b[0m                                 Traceback (most recent call last)",
            "Cell \u001b[1;32mIn[120], line 1\u001b[0m\n\u001b[1;32m----> 1\u001b[0m \u001b[38;5;28mprint\u001b[39m(\u001b[38;5;124m'\u001b[39m\u001b[38;5;124mThe sum of\u001b[39m\u001b[38;5;124m'\u001b[39m \u001b[38;5;241m+\u001b[39m a\u001b[38;5;241m+\u001b[39m\u001b[38;5;124m'\u001b[39m\u001b[38;5;124mand\u001b[39m\u001b[38;5;124m'\u001b[39m\u001b[38;5;241m+\u001b[39m b\u001b[38;5;241m+\u001b[39m \u001b[38;5;124m'\u001b[39m\u001b[38;5;124mis\u001b[39m\u001b[38;5;124m'\u001b[39m\u001b[38;5;241m+\u001b[39m c)\n",
            "\u001b[1;31mTypeError\u001b[0m: can only concatenate str (not \"int\") to str"
          ]
        }
      ],
      "source": [
        "print('The sum of' + a+'and'+ b+ 'is'+ c)"
      ]
    },
    {
      "cell_type": "code",
      "execution_count": null,
      "id": "7b779c31-f767-4b61-8292-5fabcd6ad251",
      "metadata": {
        "id": "7b779c31-f767-4b61-8292-5fabcd6ad251",
        "outputId": "7f3cc40c-b05d-488f-c287-aabd637dc8c4"
      },
      "outputs": [
        {
          "name": "stdout",
          "output_type": "stream",
          "text": [
            "The sum of 10 and 20 is 30\n"
          ]
        }
      ],
      "source": [
        "print('The sum of'+' ' + str(a)+' '+'and'+' ' +str(b)+' '+'is'+' '+ str(c))"
      ]
    },
    {
      "cell_type": "markdown",
      "id": "19612505-059b-4e63-ba67-d7a3d89aa7bb",
      "metadata": {
        "id": "19612505-059b-4e63-ba67-d7a3d89aa7bb"
      },
      "source": [
        "#### Format function"
      ]
    },
    {
      "cell_type": "code",
      "execution_count": null,
      "id": "fc0d2551-d91b-486f-b8fe-d1b5c97c25c1",
      "metadata": {
        "id": "fc0d2551-d91b-486f-b8fe-d1b5c97c25c1",
        "outputId": "8a34f9e2-704f-415c-8630-1a1ce95c8479"
      },
      "outputs": [
        {
          "name": "stdout",
          "output_type": "stream",
          "text": [
            "The sum of 10 and 20 is 30\n"
          ]
        }
      ],
      "source": [
        "print('The sum of {} and {} is {}'.format(a,b,c))"
      ]
    },
    {
      "cell_type": "code",
      "execution_count": null,
      "id": "fd368e36-4b2e-4f27-8997-0c9e33d797b6",
      "metadata": {
        "id": "fd368e36-4b2e-4f27-8997-0c9e33d797b6",
        "outputId": "b14293fa-303b-4251-a930-5b056d59188c"
      },
      "outputs": [
        {
          "name": "stdout",
          "output_type": "stream",
          "text": [
            "The sum of 20 and 10 is 30\n"
          ]
        }
      ],
      "source": [
        "print('The sum of {} and {} is {}'.format(b,a,c))"
      ]
    },
    {
      "cell_type": "code",
      "execution_count": null,
      "id": "df536015-556f-4d34-af23-116e5241ea0e",
      "metadata": {
        "id": "df536015-556f-4d34-af23-116e5241ea0e",
        "outputId": "02950285-ad43-405b-8496-28f856ac775e"
      },
      "outputs": [
        {
          "name": "stdout",
          "output_type": "stream",
          "text": [
            "The sum of 30 and 10 is 20\n"
          ]
        }
      ],
      "source": [
        "print('The sum of {} and {} is {}'.format(c, a,b))"
      ]
    },
    {
      "cell_type": "markdown",
      "id": "4a9df776-4dc9-4374-a01d-a282b38eb529",
      "metadata": {
        "id": "4a9df776-4dc9-4374-a01d-a282b38eb529"
      },
      "source": [
        "#### f-formatting"
      ]
    },
    {
      "cell_type": "code",
      "execution_count": null,
      "id": "99460721-09e8-47be-8d02-ac3ab5567078",
      "metadata": {
        "id": "99460721-09e8-47be-8d02-ac3ab5567078"
      },
      "outputs": [],
      "source": [
        "pr"
      ]
    },
    {
      "cell_type": "markdown",
      "id": "b23e8450-6c0b-4280-bb66-7c45611ed023",
      "metadata": {
        "jp-MarkdownHeadingCollapsed": true,
        "id": "b23e8450-6c0b-4280-bb66-7c45611ed023"
      },
      "source": []
    },
    {
      "cell_type": "markdown",
      "id": "cf92136b-1a0c-4254-bcd6-d608b71eda88",
      "metadata": {
        "id": "cf92136b-1a0c-4254-bcd6-d608b71eda88"
      },
      "source": []
    },
    {
      "cell_type": "code",
      "execution_count": null,
      "id": "f637a71f-6334-4b73-b08b-9b3066564ec8",
      "metadata": {
        "id": "f637a71f-6334-4b73-b08b-9b3066564ec8",
        "outputId": "70d12d81-067b-4a0d-d2f0-57c71839c1fa"
      },
      "outputs": [
        {
          "data": {
            "text/plain": [
              "140724761824016"
            ]
          },
          "execution_count": 45,
          "metadata": {},
          "output_type": "execute_result"
        }
      ],
      "source": [
        "b = None\n",
        "id(b)"
      ]
    },
    {
      "cell_type": "code",
      "execution_count": null,
      "id": "5da45d8b-70ca-4cf0-b130-e66f4acb1b5b",
      "metadata": {
        "id": "5da45d8b-70ca-4cf0-b130-e66f4acb1b5b"
      },
      "outputs": [],
      "source": []
    }
  ],
  "metadata": {
    "kernelspec": {
      "display_name": "Python 3 (ipykernel)",
      "language": "python",
      "name": "python3"
    },
    "language_info": {
      "codemirror_mode": {
        "name": "ipython",
        "version": 3
      },
      "file_extension": ".py",
      "mimetype": "text/x-python",
      "name": "python",
      "nbconvert_exporter": "python",
      "pygments_lexer": "ipython3",
      "version": "3.11.7"
    },
    "colab": {
      "provenance": []
    }
  },
  "nbformat": 4,
  "nbformat_minor": 5
}