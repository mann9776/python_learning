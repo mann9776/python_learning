{
 "cells": [
  {
   "cell_type": "markdown",
   "id": "493655e7-5cad-4dd1-bbf5-a51bb5f2aa51",
   "metadata": {},
   "source": [
    "### Method overloading \n",
    "\n",
    "- Two methods are said to be overloaded when they have the same name but they take different types of argument"
   ]
  },
  {
   "cell_type": "code",
   "execution_count": null,
   "id": "98adf285-e87d-429b-b83b-84f3119d0105",
   "metadata": {},
   "outputs": [],
   "source": [
    "m1(a = int)\n",
    "m1(a = float)"
   ]
  },
  {
   "cell_type": "code",
   "execution_count": 2,
   "id": "5f4bbfbc-0f2d-443b-ad2b-4fbdc8ac831a",
   "metadata": {},
   "outputs": [
    {
     "name": "stdout",
     "output_type": "stream",
     "text": [
      "<function m1 at 0x000001F459CE13A0>\n"
     ]
    }
   ],
   "source": [
    "def m1(a):\n",
    "    print(a, type(a))\n",
    "\n",
    "print(m1)"
   ]
  },
  {
   "cell_type": "code",
   "execution_count": 3,
   "id": "268c069b-5462-4693-b2e3-3e7e062ae7c9",
   "metadata": {},
   "outputs": [
    {
     "name": "stdout",
     "output_type": "stream",
     "text": [
      "<function m1 at 0x000001F459CE14E0>\n"
     ]
    }
   ],
   "source": [
    "def m1(a):\n",
    "    print(a, type(a))\n",
    "\n",
    "print(m1)"
   ]
  },
  {
   "cell_type": "code",
   "execution_count": 4,
   "id": "2ac144aa-a10d-4707-9e31-b027577ae82c",
   "metadata": {},
   "outputs": [],
   "source": [
    "class Test:\n",
    "    def m1(self):\n",
    "        print('No argument')\n",
    "\n",
    "    def m1(self):\n",
    "        print('How are you')"
   ]
  },
  {
   "cell_type": "code",
   "execution_count": 5,
   "id": "dd266069-65a1-4f95-bc1a-d3121d98cca3",
   "metadata": {},
   "outputs": [],
   "source": [
    "t = Test()"
   ]
  },
  {
   "cell_type": "code",
   "execution_count": 6,
   "id": "0a7bf567-7501-45fd-9fd7-0b16146d99e2",
   "metadata": {},
   "outputs": [
    {
     "name": "stdout",
     "output_type": "stream",
     "text": [
      "How are you\n"
     ]
    }
   ],
   "source": [
    "t.m1()"
   ]
  },
  {
   "cell_type": "code",
   "execution_count": 7,
   "id": "efcd80d9-efb4-48b3-b92a-9a3bcaeb6ff1",
   "metadata": {},
   "outputs": [],
   "source": [
    "class Test:\n",
    "    def m1(self):\n",
    "        print('No argument')\n",
    "\n",
    "    def m1(self, a):\n",
    "        print('How are you')"
   ]
  },
  {
   "cell_type": "code",
   "execution_count": 8,
   "id": "cb229af6-9951-41a4-b4f9-6e3265ecfc29",
   "metadata": {},
   "outputs": [],
   "source": [
    "t = Test()"
   ]
  },
  {
   "cell_type": "code",
   "execution_count": 10,
   "id": "67072fb6-6907-481b-bf2f-c7d6e7611c5a",
   "metadata": {},
   "outputs": [
    {
     "name": "stdout",
     "output_type": "stream",
     "text": [
      "How are you\n"
     ]
    }
   ],
   "source": [
    "t.m1(5)"
   ]
  },
  {
   "cell_type": "code",
   "execution_count": 11,
   "id": "cddda4af-aac5-49b1-99a8-5b5032e1bb05",
   "metadata": {},
   "outputs": [],
   "source": [
    "class MathOperation:\n",
    "\n",
    "    def add(self, a = None, b = None, c = None):\n",
    "        if c is not None:\n",
    "            return a+b+c\n",
    "        elif b is not None:\n",
    "            return a+b\n",
    "        else:\n",
    "            return 'Insufficient argument'"
   ]
  },
  {
   "cell_type": "code",
   "execution_count": 12,
   "id": "27252440-92a9-426b-9404-de0efbdc6f67",
   "metadata": {},
   "outputs": [],
   "source": [
    "math_op = MathOperation()"
   ]
  },
  {
   "cell_type": "code",
   "execution_count": 13,
   "id": "6ed3addd-aec1-4b94-a31f-99125fea4b41",
   "metadata": {},
   "outputs": [
    {
     "data": {
      "text/plain": [
       "15"
      ]
     },
     "execution_count": 13,
     "metadata": {},
     "output_type": "execute_result"
    }
   ],
   "source": [
    "math_op.add(5,10)"
   ]
  },
  {
   "cell_type": "code",
   "execution_count": 15,
   "id": "757be3e8-3adf-424e-9c75-d35e8549ad26",
   "metadata": {},
   "outputs": [
    {
     "data": {
      "text/plain": [
       "30.0"
      ]
     },
     "execution_count": 15,
     "metadata": {},
     "output_type": "execute_result"
    }
   ],
   "source": [
    "math_op.add(5,10.0,15)"
   ]
  },
  {
   "cell_type": "code",
   "execution_count": null,
   "id": "4e08b337-71d7-4f22-a775-e83b50cb9a31",
   "metadata": {},
   "outputs": [],
   "source": [
    "Python does not support method overloading in the traditional sense like languages such  as Java or C++\n",
    "- In python, if we define multiple methods by the same name, the last method defined will overwrite the previous one "
   ]
  },
  {
   "cell_type": "markdown",
   "id": "82d5c175-049f-4717-a6d8-5fc4ad4f5602",
   "metadata": {},
   "source": [
    "### Constructor overloding \n",
    "\n",
    "- It refers to defining multiple constructors with different signtures in a class allowing objects to be initialised in various ways but just like method overloading, Python does not support constructor overloading as well "
   ]
  },
  {
   "cell_type": "code",
   "execution_count": 16,
   "id": "f4eb1f57-7aad-40d0-beac-d0826022634a",
   "metadata": {},
   "outputs": [],
   "source": [
    "class Student:\n",
    "\n",
    "    def __init__(self, name = 'Unknown', age = 0):\n",
    "        self.name = name\n",
    "        self.age = age\n",
    "\n",
    "    def display(self):\n",
    "        print(f'Name:{self.name},Age:{self.age}')"
   ]
  },
  {
   "cell_type": "code",
   "execution_count": 17,
   "id": "7c5601a2-8dd8-460c-8ed5-f2e678f6b29c",
   "metadata": {},
   "outputs": [],
   "source": [
    "s = Student()"
   ]
  },
  {
   "cell_type": "code",
   "execution_count": 20,
   "id": "42ec661a-6125-4ac6-b1c2-38be250f5d41",
   "metadata": {},
   "outputs": [
    {
     "name": "stdout",
     "output_type": "stream",
     "text": [
      "Name:Unknown,Age:0\n"
     ]
    }
   ],
   "source": [
    "s.display()"
   ]
  },
  {
   "cell_type": "code",
   "execution_count": 18,
   "id": "33308a1b-e749-469b-8432-dad0528d466f",
   "metadata": {},
   "outputs": [],
   "source": [
    "s2 = Student('Alice')\n",
    "s3 = Student('Mayank', 29)"
   ]
  },
  {
   "cell_type": "code",
   "execution_count": 21,
   "id": "ab4dba67-978a-410f-8728-156af3340236",
   "metadata": {},
   "outputs": [
    {
     "name": "stdout",
     "output_type": "stream",
     "text": [
      "Name:Alice,Age:0\n"
     ]
    }
   ],
   "source": [
    "s2.display()"
   ]
  },
  {
   "cell_type": "code",
   "execution_count": 22,
   "id": "29a73989-f829-4783-abc8-74c061ded0b0",
   "metadata": {},
   "outputs": [
    {
     "name": "stdout",
     "output_type": "stream",
     "text": [
      "Name:Mayank,Age:29\n"
     ]
    }
   ],
   "source": [
    "s3.display()"
   ]
  },
  {
   "cell_type": "markdown",
   "id": "cbda7e56-c551-4eea-801b-fb5e62bf859e",
   "metadata": {},
   "source": [
    "### Over-ridding\n",
    "\n",
    "- It is a feature of OOPs, that allows a sub-class(child class) to provide a specific implementation of a method that is defined in its super-class(parent class)\n",
    "- Over-riddig is applicable when we have Parent class and child class (Inheritance)\n",
    "\n",
    "# Type of Over-ridding \n",
    "\n",
    "- Method over-ridding\n",
    "- Constructor over-ridding "
   ]
  },
  {
   "cell_type": "code",
   "execution_count": 38,
   "id": "a1eb48d1-1d2b-4a2d-9ddb-fef4ea4b967e",
   "metadata": {},
   "outputs": [],
   "source": [
    "class Animal:\n",
    "    def sound(self):\n",
    "        return 'Some generic sound'\n",
    "\n",
    "class Dog(Animal):\n",
    "    def sound(self):\n",
    "        return 'Bark'\n",
    "\n",
    "class Cat(Animal):\n",
    "    def sound(self):\n",
    "        return 'Meow'"
   ]
  },
  {
   "cell_type": "code",
   "execution_count": 39,
   "id": "b2269328-0961-45ca-a682-43e419d02b74",
   "metadata": {},
   "outputs": [],
   "source": [
    "dog = Dog()"
   ]
  },
  {
   "cell_type": "code",
   "execution_count": 40,
   "id": "a13eddff-a76c-4cc7-ab26-ff6b36c67dc9",
   "metadata": {},
   "outputs": [
    {
     "data": {
      "text/plain": [
       "'Bark'"
      ]
     },
     "execution_count": 40,
     "metadata": {},
     "output_type": "execute_result"
    }
   ],
   "source": [
    "dog.sound()"
   ]
  },
  {
   "cell_type": "code",
   "execution_count": 44,
   "id": "b31982d5-7f05-4136-80f2-4a8a8dac64ac",
   "metadata": {},
   "outputs": [],
   "source": [
    "class Animal:\n",
    "    def sound(self):\n",
    "        return 'Some generic sound'\n",
    "\n",
    "class Dog(Animal):\n",
    "    def sound(self):\n",
    "        return super().sound() +'- Specifically a Bark'"
   ]
  },
  {
   "cell_type": "code",
   "execution_count": 45,
   "id": "83fbf9da-621d-46e1-a17b-aa35043a0691",
   "metadata": {},
   "outputs": [],
   "source": [
    "d = Dog()"
   ]
  },
  {
   "cell_type": "code",
   "execution_count": 46,
   "id": "586a2738-239f-4459-ad6d-5f224074c56c",
   "metadata": {},
   "outputs": [
    {
     "data": {
      "text/plain": [
       "'Some generic sound- Specifically a Bark'"
      ]
     },
     "execution_count": 46,
     "metadata": {},
     "output_type": "execute_result"
    }
   ],
   "source": [
    "d.sound()"
   ]
  },
  {
   "cell_type": "code",
   "execution_count": 47,
   "id": "f637dd5e-f443-4613-b694-513da9d474ea",
   "metadata": {},
   "outputs": [],
   "source": [
    "class Animal:\n",
    "    def __init__(self, name):\n",
    "        self.name = name\n",
    "\n",
    "class Dog(Animal):\n",
    "    def __init__(self, name, breed):\n",
    "        self.name = name\n",
    "        self.breed = breed"
   ]
  },
  {
   "cell_type": "code",
   "execution_count": 48,
   "id": "5a69a7ed-d1f8-45de-bb28-4c1ffc1cb51d",
   "metadata": {},
   "outputs": [],
   "source": [
    "d = Dog('Pluto', 'Golden Retriever')"
   ]
  },
  {
   "cell_type": "code",
   "execution_count": 49,
   "id": "b8c2d030-4edd-4f11-aa08-b6234402d976",
   "metadata": {},
   "outputs": [
    {
     "name": "stdout",
     "output_type": "stream",
     "text": [
      "Name: Pluto, Breed: Golden Retriever\n"
     ]
    }
   ],
   "source": [
    "print(f'Name: {d.name}, Breed: {d.breed}')"
   ]
  },
  {
   "cell_type": "code",
   "execution_count": 50,
   "id": "97021f37-94bd-494e-964d-92f48a36c717",
   "metadata": {},
   "outputs": [],
   "source": [
    "class Animal:\n",
    "    def __init__(self, name):\n",
    "        self.name = name\n",
    "\n",
    "class Dog(Animal):\n",
    "    def __init__(self, name, breed):\n",
    "        super().__init__(name)\n",
    "        self.name = name\n",
    "        self.breed = breed"
   ]
  },
  {
   "cell_type": "code",
   "execution_count": 52,
   "id": "598be4d3-19d3-4902-9eb0-06aabe50e3d6",
   "metadata": {},
   "outputs": [],
   "source": [
    "a = Animal('Pluto')"
   ]
  },
  {
   "cell_type": "markdown",
   "id": "f7c70e06-42e1-4377-b943-dcc693a3cb48",
   "metadata": {},
   "source": [
    "### Over-ridding vs Overloading \n",
    "\n",
    "- __Over-ridding__:- Redefining a method in a sub-class(child class) with the same parameter as in the superclass (Parent class), python support the concept of over-ridding\n",
    "- __Over-loading__:- Providing multiple methods in the same class with same name but differenr parameters, python doesn't support overloading directly"
   ]
  },
  {
   "cell_type": "markdown",
   "id": "95d6af53-909a-42c0-91b4-d35c54c37bb5",
   "metadata": {},
   "source": [
    "### Abstract Classes \n",
    "\n",
    "- It serves as a blueprint for other classes\n",
    "\n",
    "### Abstract Method \n",
    "\n",
    "- The method that has just the declaration but does not have the implementation is known as abstract method "
   ]
  },
  {
   "cell_type": "code",
   "execution_count": null,
   "id": "b6098478-175e-43c6-8e15-68ec0b028653",
   "metadata": {},
   "outputs": [],
   "source": [
    "class Test:\n",
    "    def m1():\n",
    "        pass"
   ]
  },
  {
   "cell_type": "markdown",
   "id": "18eef252-e562-456d-b979-3aa408ac131e",
   "metadata": {},
   "source": [
    "### How to use abstract method \n",
    "\n",
    "- We use @abstractmethod decorator to define the abstract method\n",
    "- This decorator is available inside the abc module "
   ]
  },
  {
   "cell_type": "code",
   "execution_count": 54,
   "id": "80ac14d7-326d-4511-9f0b-8049f46998d5",
   "metadata": {},
   "outputs": [],
   "source": [
    "from abc import ABC, abstractmethod\n",
    "\n",
    "class Animal(ABC):\n",
    "    @abstractmethod\n",
    "    def sound(self): # Abstract method \n",
    "        pass\n",
    "\n",
    "class Dog(Animal):\n",
    "    def sound(self): # Over-ridding the abstract method \n",
    "        return 'Bark'\n",
    "\n",
    "class Cat(Animal):\n",
    "    def sound(self): # Over-ridding the abstract method \n",
    "        return 'Meow'"
   ]
  },
  {
   "cell_type": "code",
   "execution_count": 57,
   "id": "5955ca50-236f-479d-89d8-da65a10fbe75",
   "metadata": {},
   "outputs": [],
   "source": [
    "d = Dog()"
   ]
  },
  {
   "cell_type": "code",
   "execution_count": 58,
   "id": "f0ca48c2-e8c0-4b23-997c-7404ffcc943d",
   "metadata": {},
   "outputs": [
    {
     "data": {
      "text/plain": [
       "'Bark'"
      ]
     },
     "execution_count": 58,
     "metadata": {},
     "output_type": "execute_result"
    }
   ],
   "source": [
    "d.sound()"
   ]
  },
  {
   "cell_type": "code",
   "execution_count": 59,
   "id": "4d643b52-2609-4d49-8d7e-000380e74bec",
   "metadata": {},
   "outputs": [],
   "source": [
    "c = Cat()"
   ]
  },
  {
   "cell_type": "code",
   "execution_count": 60,
   "id": "7956d44d-ad32-48d6-b07c-a223633c5753",
   "metadata": {},
   "outputs": [
    {
     "data": {
      "text/plain": [
       "'Meow'"
      ]
     },
     "execution_count": 60,
     "metadata": {},
     "output_type": "execute_result"
    }
   ],
   "source": [
    "c.sound()"
   ]
  },
  {
   "cell_type": "code",
   "execution_count": 61,
   "id": "96a5da16-38f7-4c24-a2d0-82081cec6139",
   "metadata": {},
   "outputs": [
    {
     "ename": "TypeError",
     "evalue": "Can't instantiate abstract class Animal without an implementation for abstract method 'sound'",
     "output_type": "error",
     "traceback": [
      "\u001b[1;31m---------------------------------------------------------------------------\u001b[0m",
      "\u001b[1;31mTypeError\u001b[0m                                 Traceback (most recent call last)",
      "Cell \u001b[1;32mIn[61], line 1\u001b[0m\n\u001b[1;32m----> 1\u001b[0m a \u001b[38;5;241m=\u001b[39m Animal()\n",
      "\u001b[1;31mTypeError\u001b[0m: Can't instantiate abstract class Animal without an implementation for abstract method 'sound'"
     ]
    }
   ],
   "source": [
    "a = Animal()"
   ]
  },
  {
   "cell_type": "markdown",
   "id": "851511dd-6e3f-4317-a94b-d91915bec3fc",
   "metadata": {},
   "source": [
    "- An abstarct class may have 0 or more abstract method \n",
    "- An abstract class may have normal methods \n",
    "- An abstract method can be a part of a normal class as well "
   ]
  },
  {
   "cell_type": "code",
   "execution_count": 71,
   "id": "cca7888a-a381-42f0-8ba3-11954da42278",
   "metadata": {},
   "outputs": [],
   "source": [
    "from abc import ABC\n",
    "\n",
    "class Test(ABC): # abstract class with normal method\n",
    "    def m1(self):\n",
    "        print('Normal method')"
   ]
  },
  {
   "cell_type": "code",
   "execution_count": 72,
   "id": "3374cf7a-fef4-47b8-9a52-6d355aba49c9",
   "metadata": {},
   "outputs": [],
   "source": [
    "c = Test()"
   ]
  },
  {
   "cell_type": "code",
   "execution_count": 73,
   "id": "780430a5-ff08-4f22-9c5e-49d1113ed23d",
   "metadata": {},
   "outputs": [
    {
     "name": "stdout",
     "output_type": "stream",
     "text": [
      "Normal method\n"
     ]
    }
   ],
   "source": [
    "c.m1()"
   ]
  },
  {
   "cell_type": "code",
   "execution_count": 74,
   "id": "307ba60e-69b8-4ae3-bdec-0e1b6d1225f6",
   "metadata": {},
   "outputs": [],
   "source": [
    "from abc import ABC, abstractmethod\n",
    "\n",
    "class Test(ABC): # abstract class with abstract method\n",
    "    @abstractmethod\n",
    "    def m1(self):\n",
    "        print('Normal method')"
   ]
  },
  {
   "cell_type": "code",
   "execution_count": 75,
   "id": "f1ec6a49-2faf-4de1-94ca-b3770ed276d2",
   "metadata": {},
   "outputs": [
    {
     "ename": "TypeError",
     "evalue": "Can't instantiate abstract class Test without an implementation for abstract method 'm1'",
     "output_type": "error",
     "traceback": [
      "\u001b[1;31m---------------------------------------------------------------------------\u001b[0m",
      "\u001b[1;31mTypeError\u001b[0m                                 Traceback (most recent call last)",
      "Cell \u001b[1;32mIn[75], line 1\u001b[0m\n\u001b[1;32m----> 1\u001b[0m c \u001b[38;5;241m=\u001b[39m Test()\n",
      "\u001b[1;31mTypeError\u001b[0m: Can't instantiate abstract class Test without an implementation for abstract method 'm1'"
     ]
    }
   ],
   "source": [
    "c = Test()"
   ]
  },
  {
   "cell_type": "markdown",
   "id": "8e3a0f94-13c8-439a-a0c3-2bf1585176d4",
   "metadata": {},
   "source": [
    "- If we have an abstract class and an abstract method, then object creatio is not possible\n",
    "- If either one is missing then we can create an object"
   ]
  },
  {
   "cell_type": "code",
   "execution_count": 77,
   "id": "dcb94897-c2f5-4213-9deb-d80ac3217990",
   "metadata": {},
   "outputs": [],
   "source": [
    "from abc import ABC, abstractmethod\n",
    "\n",
    "class Test: # normal class with abstract method \n",
    "    @abstractmethod\n",
    "    def m1(self):\n",
    "        print('Normal method')"
   ]
  },
  {
   "cell_type": "code",
   "execution_count": 78,
   "id": "79166b7e-0215-4ca3-9e3c-b240e0e19a75",
   "metadata": {},
   "outputs": [],
   "source": [
    "c = Test()"
   ]
  },
  {
   "cell_type": "markdown",
   "id": "3098550c-23ac-45ae-82b0-0deab74edbbf",
   "metadata": {},
   "source": [
    "- When we have an abstract class and an abstract method, then they are not responsible for the implemntation \n",
    "- In the case of abstract class and abstract method child class is responsible for the implementation"
   ]
  },
  {
   "cell_type": "code",
   "execution_count": 81,
   "id": "ee48712c-2997-4de8-8db7-abbb31aefb80",
   "metadata": {},
   "outputs": [],
   "source": [
    "from abc import ABC, abstractmethod\n",
    "\n",
    "class Vehicle(ABC):\n",
    "    @abstractmethod\n",
    "    def get_wheels(self):\n",
    "        pass\n",
    "\n",
    "class Bus(Vehicle):\n",
    "    def get_wheels(self):\n",
    "        return 6\n",
    "\n",
    "class Auto(Vehicle):\n",
    "    def get_wheels(self):\n",
    "        return 3\n",
    "    def price(self):\n",
    "        return '3 lakhs'"
   ]
  },
  {
   "cell_type": "code",
   "execution_count": 82,
   "id": "53a0f6f8-3e26-4006-bfb0-751951e93aa2",
   "metadata": {},
   "outputs": [],
   "source": [
    "b = Bus()"
   ]
  },
  {
   "cell_type": "code",
   "execution_count": 83,
   "id": "9372a1d0-7acb-4a9a-8f64-5b671ac0a2cf",
   "metadata": {},
   "outputs": [
    {
     "data": {
      "text/plain": [
       "6"
      ]
     },
     "execution_count": 83,
     "metadata": {},
     "output_type": "execute_result"
    }
   ],
   "source": [
    "b.get_wheels()"
   ]
  },
  {
   "cell_type": "code",
   "execution_count": 85,
   "id": "0387a276-12c1-4cfe-aaf7-a3e9a91b65ca",
   "metadata": {},
   "outputs": [],
   "source": [
    "c = Auto()"
   ]
  },
  {
   "cell_type": "code",
   "execution_count": 86,
   "id": "3d239fb0-d5ff-4188-b6a5-3a363d96be76",
   "metadata": {},
   "outputs": [
    {
     "data": {
      "text/plain": [
       "3"
      ]
     },
     "execution_count": 86,
     "metadata": {},
     "output_type": "execute_result"
    }
   ],
   "source": [
    "c.get_wheels()"
   ]
  },
  {
   "cell_type": "code",
   "execution_count": 87,
   "id": "bb347b41-49af-4e18-8e26-8434945f5166",
   "metadata": {},
   "outputs": [
    {
     "data": {
      "text/plain": [
       "'3 lakhs'"
      ]
     },
     "execution_count": 87,
     "metadata": {},
     "output_type": "execute_result"
    }
   ],
   "source": [
    "c.price()"
   ]
  },
  {
   "cell_type": "markdown",
   "id": "e0802a1b-603f-48ed-b987-3327d3368287",
   "metadata": {},
   "source": [
    "### Interface\n",
    "\n",
    "- Interface is an abstract class that contains only abstract methods "
   ]
  },
  {
   "cell_type": "markdown",
   "id": "b4ecd6c3-e8fd-46a1-80d4-6fe7bbb17892",
   "metadata": {},
   "source": [
    "### Abstract class vs Interface\n",
    "\n",
    "\n",
    "- It contains abstract and normal method\n",
    "- Interface is an abstract class that contains only abstract methods "
   ]
  },
  {
   "cell_type": "markdown",
   "id": "d8c248b1-03d0-4600-b864-3b062af411cf",
   "metadata": {},
   "source": [
    "### Abstract class vs Interface vs Concrete class\n",
    "\n",
    "\n",
    "\n",
    "#### Interface \n",
    "\n",
    "- It is a contract the specifies a set of methods that a class must implemet\n",
    "- The method in an interface typically have no body(no implementation)\n",
    "- The purpose of an interface is to define a common structure that different class must adhere to, with dictating how the method should execute\n",
    "\n"
   ]
  },
  {
   "cell_type": "code",
   "execution_count": 89,
   "id": "0ae05724-26aa-4a37-a46f-42fc5fc5921f",
   "metadata": {},
   "outputs": [],
   "source": [
    "from abc import ABC, abstractmethod\n",
    "\n",
    "class Flyable(ABC):\n",
    "    @abstractmethod\n",
    "    def fly(self):\n",
    "        pass\n",
    "\n",
    "class Bird(Flyable):\n",
    "    def fly(self):\n",
    "        return 'Flying'"
   ]
  },
  {
   "cell_type": "markdown",
   "id": "cd61cacf-5971-4e3c-95a3-592a5e09c606",
   "metadata": {},
   "source": [
    "### Abstract Class\n",
    "\n",
    "- It is a class that cannot be instantiated(that means we cannot create an object for this method) and is meant to be inherited by the child class\n",
    "- It can contain both the abstract method (method without implementation) and concrete methods (normal method)\n",
    "- The purpose of an abstarct class is to provide common functionalities to its child classes while still enforcing certain methods to be implemented by the child class "
   ]
  },
  {
   "cell_type": "code",
   "execution_count": 95,
   "id": "c40dd37c-c49c-43f6-9153-1819f5441b54",
   "metadata": {},
   "outputs": [],
   "source": [
    "from abc import ABC, abstractmethod\n",
    "\n",
    "class Animal(ABC):\n",
    "    def eat(self):\n",
    "        return 'Eating'\n",
    "\n",
    "    @abstractmethod\n",
    "    def sound(self):\n",
    "        pass\n",
    "\n",
    "class Dog(Animal):\n",
    "    def sound(self):\n",
    "        return'Bark'\n",
    "\n",
    "\n",
    "class Cat(Animal):\n",
    "    def sound(self):\n",
    "        return 'Meow'"
   ]
  },
  {
   "cell_type": "code",
   "execution_count": 92,
   "id": "69324723-12a7-48fe-8ea8-9cb5225caf1a",
   "metadata": {},
   "outputs": [],
   "source": [
    "d = Dog()"
   ]
  },
  {
   "cell_type": "code",
   "execution_count": 93,
   "id": "402bac8e-d06e-4e8b-a10a-e3dde02e6491",
   "metadata": {},
   "outputs": [
    {
     "data": {
      "text/plain": [
       "'Eating'"
      ]
     },
     "execution_count": 93,
     "metadata": {},
     "output_type": "execute_result"
    }
   ],
   "source": [
    "d.eat()"
   ]
  },
  {
   "cell_type": "code",
   "execution_count": 94,
   "id": "218f7955-5194-491f-a73c-7d374b12076f",
   "metadata": {},
   "outputs": [
    {
     "data": {
      "text/plain": [
       "'Bark'"
      ]
     },
     "execution_count": 94,
     "metadata": {},
     "output_type": "execute_result"
    }
   ],
   "source": [
    "d.sound()"
   ]
  },
  {
   "cell_type": "code",
   "execution_count": 96,
   "id": "396b82f6-9bd5-4e6f-a076-152678b35c13",
   "metadata": {},
   "outputs": [],
   "source": [
    "c =Cat()"
   ]
  },
  {
   "cell_type": "code",
   "execution_count": 97,
   "id": "30de0ef9-661f-4fce-a157-ff240efb50f4",
   "metadata": {},
   "outputs": [
    {
     "data": {
      "text/plain": [
       "'Eating'"
      ]
     },
     "execution_count": 97,
     "metadata": {},
     "output_type": "execute_result"
    }
   ],
   "source": [
    "c.eat()"
   ]
  },
  {
   "cell_type": "code",
   "execution_count": 98,
   "id": "05260188-29d0-4c86-9db7-348c7ddce70f",
   "metadata": {},
   "outputs": [
    {
     "data": {
      "text/plain": [
       "'Meow'"
      ]
     },
     "execution_count": 98,
     "metadata": {},
     "output_type": "execute_result"
    }
   ],
   "source": [
    "c.sound()"
   ]
  },
  {
   "cell_type": "markdown",
   "id": "7f5952eb-3dde-43e6-ba4c-158523a9b258",
   "metadata": {},
   "source": [
    "### Concrete class \n",
    "\n",
    "- It is a class that provides implementation for its method and can be instantiated to create an object\n",
    "- It doesn't contain any abstract class\n",
    "- It most cases, concrete classes are the ones we instantiate and use directly in our applications"
   ]
  },
  {
   "cell_type": "code",
   "execution_count": 99,
   "id": "2062be7d-7c96-4d6b-9b9a-167d5256abf6",
   "metadata": {},
   "outputs": [],
   "source": [
    "class Car:\n",
    "    def start(self):\n",
    "        return 'car starting....'\n"
   ]
  },
  {
   "cell_type": "code",
   "execution_count": 101,
   "id": "1ef61eab-898a-47d0-8013-8cea5c732545",
   "metadata": {},
   "outputs": [],
   "source": [
    "c = Car()"
   ]
  },
  {
   "cell_type": "code",
   "execution_count": 102,
   "id": "c8bae3b9-c503-443e-8bdd-13a12755a01a",
   "metadata": {},
   "outputs": [
    {
     "data": {
      "text/plain": [
       "'car starting....'"
      ]
     },
     "execution_count": 102,
     "metadata": {},
     "output_type": "execute_result"
    }
   ],
   "source": [
    "c.start()"
   ]
  },
  {
   "cell_type": "markdown",
   "id": "b53a4e04-e30d-4ccf-b526-1e6190952310",
   "metadata": {},
   "source": [
    "### Encapsulation \n",
    "\n",
    "- It is a way to bind or wrap the data with the method\n",
    "- It is used to prevent accidental modification by limiting the acces to the variable or methods\n",
    "\n",
    "#### Types of Access Specifier \n",
    "\n",
    "__1.Public member__:\n",
    "- These can be accessed from outside the class\n",
    "- By default, all the members in python are public\n",
    "\n",
    "__2.Private Members__:\n",
    "- These cannot be accessed directly from outside the class\n",
    "- To declare a private member, prefix the variable or the method name with two underscores '_ _'\n",
    "\n",
    "__3. Protected Members__ :\n",
    "- These can be accessed from within the class and by subclasses as well\n",
    "- Prefix the variable or the method name with a single underscore '_' to indicate that it is protected"
   ]
  },
  {
   "cell_type": "markdown",
   "id": "cbfbd055-78e1-4b9a-b125-9923082ad0f1",
   "metadata": {},
   "source": [
    "#### Benefits of Encapsulation \n",
    "\n",
    "- Control over the data\n",
    "- Security\n",
    "- Flexibility "
   ]
  },
  {
   "cell_type": "markdown",
   "id": "2ca98493-6b5b-4b0f-8401-8430fd3bccb2",
   "metadata": {},
   "source": [
    "#### Public member\n",
    "\n",
    "- Members means variable(class attributes) and methods(class methods)\n",
    "- These can be accessed from anywhere (both inside and outside  the class)\n",
    "- By default, all the varibales and methods in python are public unless defined explicitly as protected or private\n",
    "\n",
    "##### Public variable\n",
    "- Public variable can be accessed directly both inside and outside the class\n",
    "- There is not special symbol to define a public variable\n",
    "\n",
    "##### Public Method\n",
    "- They can be called outside the class without any restriction\n",
    "- Just like your public variable they do not require any special syntax"
   ]
  },
  {
   "cell_type": "code",
   "execution_count": 103,
   "id": "695ffb4f-fae3-47cc-b0e9-3fb47ff08789",
   "metadata": {},
   "outputs": [],
   "source": [
    "class Person:\n",
    "    # Public variable \n",
    "    def __init__(self, name, age):\n",
    "        self.name = name\n",
    "        self.age = age\n",
    "\n",
    "    # Public method \n",
    "    def introduce(self):\n",
    "        return f'My name is {self.name} and I am {self.age} years old'"
   ]
  },
  {
   "cell_type": "code",
   "execution_count": 105,
   "id": "7ce955a4-a0be-4673-ad0a-5d17f8ca23fa",
   "metadata": {},
   "outputs": [],
   "source": [
    "p = Person('Mayank', 29)"
   ]
  },
  {
   "cell_type": "code",
   "execution_count": 106,
   "id": "c6b8f11e-3842-4e2e-b6ae-e8bd5c8a1ada",
   "metadata": {},
   "outputs": [
    {
     "data": {
      "text/plain": [
       "'My name is Mayank and I am 29 years old'"
      ]
     },
     "execution_count": 106,
     "metadata": {},
     "output_type": "execute_result"
    }
   ],
   "source": [
    "p.introduce()"
   ]
  },
  {
   "cell_type": "markdown",
   "id": "83f879ff-7cdd-4458-87fb-d9ee62c32116",
   "metadata": {},
   "source": [
    "### Proteted Members \n",
    "\n",
    "- They are intended to be accessed only within the class and its sub-class\n",
    "- They are not meant to be accessed directly from outside the class\n",
    "- To indicate that a specific member is protected, we use a single underscore '_' as a prefix to the varibale or the method name"
   ]
  },
  {
   "cell_type": "code",
   "execution_count": 115,
   "id": "09ef8695-d2ce-4d25-bacd-a1300562c954",
   "metadata": {},
   "outputs": [],
   "source": [
    "class Animal:\n",
    "    def __init__(self, species):\n",
    "        self._species = species  # Protected variable \n",
    "\n",
    "    def _describe(self): # Protected method\n",
    "        return f'This is a {self.species}'\n",
    "\n",
    "class Dog(Animal):\n",
    "    def get_species(self):\n",
    "        return self._species\n",
    "\n",
    "    def describe_animal(self):\n",
    "        return self._describe()\n",
    "    "
   ]
  },
  {
   "cell_type": "code",
   "execution_count": 119,
   "id": "8204336c-7ff6-4ea1-b0d1-f1933f0cca5a",
   "metadata": {},
   "outputs": [],
   "source": [
    "d = Dog('Dog')"
   ]
  },
  {
   "cell_type": "code",
   "execution_count": 120,
   "id": "a3a4ecc8-4d06-4f54-894c-65b806142eea",
   "metadata": {},
   "outputs": [
    {
     "data": {
      "text/plain": [
       "'Dog'"
      ]
     },
     "execution_count": 120,
     "metadata": {},
     "output_type": "execute_result"
    }
   ],
   "source": [
    "d.get_species()"
   ]
  },
  {
   "cell_type": "code",
   "execution_count": 121,
   "id": "9c6473f7-1fc4-4d55-9061-d3175e408b64",
   "metadata": {},
   "outputs": [
    {
     "ename": "AttributeError",
     "evalue": "'Dog' object has no attribute 'species'",
     "output_type": "error",
     "traceback": [
      "\u001b[1;31m---------------------------------------------------------------------------\u001b[0m",
      "\u001b[1;31mAttributeError\u001b[0m                            Traceback (most recent call last)",
      "Cell \u001b[1;32mIn[121], line 1\u001b[0m\n\u001b[1;32m----> 1\u001b[0m d\u001b[38;5;241m.\u001b[39mdescribe_animal()\n",
      "Cell \u001b[1;32mIn[115], line 13\u001b[0m, in \u001b[0;36mDog.describe_animal\u001b[1;34m(self)\u001b[0m\n\u001b[0;32m     12\u001b[0m \u001b[38;5;28;01mdef\u001b[39;00m \u001b[38;5;21mdescribe_animal\u001b[39m(\u001b[38;5;28mself\u001b[39m):\n\u001b[1;32m---> 13\u001b[0m     \u001b[38;5;28;01mreturn\u001b[39;00m \u001b[38;5;28mself\u001b[39m\u001b[38;5;241m.\u001b[39m_describe()\n",
      "Cell \u001b[1;32mIn[115], line 6\u001b[0m, in \u001b[0;36mAnimal._describe\u001b[1;34m(self)\u001b[0m\n\u001b[0;32m      5\u001b[0m \u001b[38;5;28;01mdef\u001b[39;00m \u001b[38;5;21m_describe\u001b[39m(\u001b[38;5;28mself\u001b[39m): \u001b[38;5;66;03m# Protected method\u001b[39;00m\n\u001b[1;32m----> 6\u001b[0m     \u001b[38;5;28;01mreturn\u001b[39;00m \u001b[38;5;124mf\u001b[39m\u001b[38;5;124m'\u001b[39m\u001b[38;5;124mThis is a \u001b[39m\u001b[38;5;132;01m{\u001b[39;00m\u001b[38;5;28mself\u001b[39m\u001b[38;5;241m.\u001b[39mspecies\u001b[38;5;132;01m}\u001b[39;00m\u001b[38;5;124m'\u001b[39m\n",
      "\u001b[1;31mAttributeError\u001b[0m: 'Dog' object has no attribute 'species'"
     ]
    }
   ],
   "source": [
    "d.describe_animal()"
   ]
  },
  {
   "cell_type": "code",
   "execution_count": 122,
   "id": "9f95fc1c-bfcc-4a30-9332-62809a4a7953",
   "metadata": {},
   "outputs": [],
   "source": [
    "class Animal:\n",
    "    def __init__(self, species):\n",
    "        self._species = species  # Protected variable \n",
    "\n",
    "    def _describe(self): # Protected method\n",
    "        return f'This is a {self._species}'\n",
    "\n",
    "class Dog(Animal):\n",
    "    def get_species(self):\n",
    "        return self._species\n",
    "\n",
    "    def describe_animal(self):\n",
    "        return self._describe()"
   ]
  },
  {
   "cell_type": "code",
   "execution_count": 123,
   "id": "de1502fb-fa73-43fa-a593-c3962cc921cb",
   "metadata": {},
   "outputs": [],
   "source": [
    "d = Dog('Dog')"
   ]
  },
  {
   "cell_type": "code",
   "execution_count": 124,
   "id": "c2857eab-8eba-4629-9c94-fac8ef1d1beb",
   "metadata": {},
   "outputs": [
    {
     "data": {
      "text/plain": [
       "'This is a Dog'"
      ]
     },
     "execution_count": 124,
     "metadata": {},
     "output_type": "execute_result"
    }
   ],
   "source": [
    "d.describe_animal()"
   ]
  },
  {
   "cell_type": "markdown",
   "id": "f8d68f24-cf54-400a-ad82-741425858199",
   "metadata": {},
   "source": [
    "### Private Members \n",
    "\n",
    "- It is intended to be completely hidden from outside access and even from the subclasses as well\n",
    "- To achieve this, we will use the prefix of '_ _'\n",
    "- Private members are not directly accessible from outside the class and attempting to access them will result in an error "
   ]
  },
  {
   "cell_type": "code",
   "execution_count": 133,
   "id": "b8a53c04-e7e9-404c-a0f1-db16f77d2f35",
   "metadata": {},
   "outputs": [],
   "source": [
    "class BankAccount:\n",
    "    def __init__(self, balance):\n",
    "        self.__balance = balance # Private variable\n",
    "\n",
    "    def __calculate_interest(self): # Private Method\n",
    "        return self.__balance*0.05\n",
    "\n",
    "    def get_balance(self):\n",
    "        # This is a public method to access a private variable \n",
    "        return f'Balance: {self.__balance}'\n",
    "\n",
    "    def calcaulate_yearly_interest(self):\n",
    "        # Public method to access a private method \n",
    "        return f'Interest: {self.__calculate_interest()}'"
   ]
  },
  {
   "cell_type": "code",
   "execution_count": 134,
   "id": "6fe3ecaf-0801-4807-b6c9-6f110abbcab5",
   "metadata": {},
   "outputs": [],
   "source": [
    "account = BankAccount(5000)"
   ]
  },
  {
   "cell_type": "code",
   "execution_count": 129,
   "id": "9490d130-4a91-47ec-a715-96668f5c8c60",
   "metadata": {},
   "outputs": [
    {
     "ename": "AttributeError",
     "evalue": "'BankAccount' object has no attribute '__balance'",
     "output_type": "error",
     "traceback": [
      "\u001b[1;31m---------------------------------------------------------------------------\u001b[0m",
      "\u001b[1;31mAttributeError\u001b[0m                            Traceback (most recent call last)",
      "Cell \u001b[1;32mIn[129], line 1\u001b[0m\n\u001b[1;32m----> 1\u001b[0m account\u001b[38;5;241m.\u001b[39m__balance\n",
      "\u001b[1;31mAttributeError\u001b[0m: 'BankAccount' object has no attribute '__balance'"
     ]
    }
   ],
   "source": [
    "account.__balance"
   ]
  },
  {
   "cell_type": "code",
   "execution_count": 130,
   "id": "912612c4-81cb-4c0c-ad96-c9c736b11f8f",
   "metadata": {},
   "outputs": [
    {
     "ename": "AttributeError",
     "evalue": "'BankAccount' object has no attribute '__calculate_interest'",
     "output_type": "error",
     "traceback": [
      "\u001b[1;31m---------------------------------------------------------------------------\u001b[0m",
      "\u001b[1;31mAttributeError\u001b[0m                            Traceback (most recent call last)",
      "Cell \u001b[1;32mIn[130], line 1\u001b[0m\n\u001b[1;32m----> 1\u001b[0m account\u001b[38;5;241m.\u001b[39m__calculate_interest()\n",
      "\u001b[1;31mAttributeError\u001b[0m: 'BankAccount' object has no attribute '__calculate_interest'"
     ]
    }
   ],
   "source": [
    "account.__calculate_interest()"
   ]
  },
  {
   "cell_type": "code",
   "execution_count": 131,
   "id": "8ab7292c-308f-4b54-b8af-634b7a625c0a",
   "metadata": {},
   "outputs": [
    {
     "data": {
      "text/plain": [
       "'Balance: 5000'"
      ]
     },
     "execution_count": 131,
     "metadata": {},
     "output_type": "execute_result"
    }
   ],
   "source": [
    "account.get_balance()"
   ]
  },
  {
   "cell_type": "code",
   "execution_count": 135,
   "id": "b4025479-196c-4561-a5f0-d350bc91c860",
   "metadata": {},
   "outputs": [
    {
     "data": {
      "text/plain": [
       "'Interest: 250.0'"
      ]
     },
     "execution_count": 135,
     "metadata": {},
     "output_type": "execute_result"
    }
   ],
   "source": [
    "account.calcaulate_yearly_interest()"
   ]
  },
  {
   "cell_type": "markdown",
   "id": "8e91d88d-9c5d-4685-9621-11e40679d7fa",
   "metadata": {},
   "source": [
    "### How we can modify a private variable or private method \n",
    "\n",
    "- using a Public method(Setters)"
   ]
  },
  {
   "cell_type": "code",
   "execution_count": 136,
   "id": "e88483f4-4e40-4163-a53d-e2334eb70501",
   "metadata": {},
   "outputs": [],
   "source": [
    "class BankAccount:\n",
    "    def __init__(self, balance):\n",
    "        self.__balance = balance # Private variable\n",
    "\n",
    "    def get_balance(self):\n",
    "        # This is a public getter method to access a private variable \n",
    "        return f'Balance: {self.__balance}'\n",
    "\n",
    "    def set_balance(self, amount):\n",
    "        # Public setter method to modify the private variable \n",
    "        if amount>0:\n",
    "            self.__balance = amount\n",
    "        else:\n",
    "            print('Invalid balance amount')"
   ]
  },
  {
   "cell_type": "code",
   "execution_count": 138,
   "id": "b00caf42-d04e-4825-9ff4-ded6aa929ff1",
   "metadata": {},
   "outputs": [],
   "source": [
    "a = BankAccount(1000)"
   ]
  },
  {
   "cell_type": "code",
   "execution_count": 139,
   "id": "0b286a71-4442-4bf0-ac6a-d3161024b9f8",
   "metadata": {},
   "outputs": [],
   "source": [
    "a.set_balance(2000)"
   ]
  },
  {
   "cell_type": "code",
   "execution_count": 140,
   "id": "f9005983-7bd2-4f67-b981-cca708dafed1",
   "metadata": {},
   "outputs": [
    {
     "ename": "AttributeError",
     "evalue": "'BankAccount' object has no attribute '__balance'",
     "output_type": "error",
     "traceback": [
      "\u001b[1;31m---------------------------------------------------------------------------\u001b[0m",
      "\u001b[1;31mAttributeError\u001b[0m                            Traceback (most recent call last)",
      "Cell \u001b[1;32mIn[140], line 1\u001b[0m\n\u001b[1;32m----> 1\u001b[0m a\u001b[38;5;241m.\u001b[39m__balance\n",
      "\u001b[1;31mAttributeError\u001b[0m: 'BankAccount' object has no attribute '__balance'"
     ]
    }
   ],
   "source": [
    "a.__balance"
   ]
  },
  {
   "cell_type": "code",
   "execution_count": 141,
   "id": "d09a0f54-1c5a-4b75-9069-59b2de37dbed",
   "metadata": {},
   "outputs": [
    {
     "data": {
      "text/plain": [
       "'Balance: 2000'"
      ]
     },
     "execution_count": 141,
     "metadata": {},
     "output_type": "execute_result"
    }
   ],
   "source": [
    "a.get_balance()"
   ]
  },
  {
   "cell_type": "markdown",
   "id": "b59e9027-c319-4fa4-a5cd-b0f1ad5bf80b",
   "metadata": {},
   "source": [
    "- Accessing Private method using a public method "
   ]
  },
  {
   "cell_type": "code",
   "execution_count": 142,
   "id": "cc3943ba-6f02-4cf0-8ff7-ebdeaa95b325",
   "metadata": {},
   "outputs": [],
   "source": [
    "class BankAccount:\n",
    "    def __init__(self, balance):\n",
    "        self.__balance = balance # Private variable\n",
    "\n",
    "    def __calculate_interest(self): # Private Method\n",
    "        return self.__balance*0.05\n",
    "\n",
    "    def get_balance(self):\n",
    "        # This is a public method to access a private variable \n",
    "        return f'Balance: {self.__balance}'\n",
    "\n",
    "    def update_balance_with_interest(self):\n",
    "        # Public method that uses the private method \n",
    "        interest = self.__calculate_interest()\n",
    "        self.__balance += interest\n"
   ]
  },
  {
   "cell_type": "code",
   "execution_count": 144,
   "id": "9f41e006-9159-4e77-97c1-f30fa580037f",
   "metadata": {},
   "outputs": [],
   "source": [
    "a = BankAccount(1000)"
   ]
  },
  {
   "cell_type": "code",
   "execution_count": 145,
   "id": "93a700ac-47f1-442c-bd90-9d9b44ef39e2",
   "metadata": {},
   "outputs": [],
   "source": [
    "a.update_balance_with_interest()"
   ]
  },
  {
   "cell_type": "code",
   "execution_count": null,
   "id": "8ebf1ca5-f65f-4f91-b72c-3343718958eb",
   "metadata": {},
   "outputs": [],
   "source": [
    "a.get_balance()"
   ]
  }
 ],
 "metadata": {
  "kernelspec": {
   "display_name": "Python 3 (ipykernel)",
   "language": "python",
   "name": "python3"
  },
  "language_info": {
   "codemirror_mode": {
    "name": "ipython",
    "version": 3
   },
   "file_extension": ".py",
   "mimetype": "text/x-python",
   "name": "python",
   "nbconvert_exporter": "python",
   "pygments_lexer": "ipython3",
   "version": "3.12.4"
  }
 },
 "nbformat": 4,
 "nbformat_minor": 5
}
