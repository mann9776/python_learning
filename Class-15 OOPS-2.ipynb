{
 "cells": [
  {
   "cell_type": "markdown",
   "id": "5086d533-eb81-4a8f-99e3-f9b83491a03e",
   "metadata": {},
   "source": [
    "### Types of variables \n",
    "\n",
    "- Instance variable\n",
    "- Static variable\n",
    "- Local variable "
   ]
  },
  {
   "cell_type": "markdown",
   "id": "0580827f-9480-43ae-9378-50466525547e",
   "metadata": {},
   "source": [
    "#### Instance Variable \n",
    "\n",
    "- The variables that are used to define the attributes are known as instance variable\n",
    "- if the value of variable varies from object to object, such variables are called instance variable\n",
    "- The variable that we want to be shared by all the objects are called as instance variable "
   ]
  },
  {
   "cell_type": "code",
   "execution_count": null,
   "id": "ae0a9ba1-e9f6-4a5e-aa1b-9b80a1c7dbbd",
   "metadata": {},
   "outputs": [],
   "source": [
    "Decalaration of a variable \n",
    "Accessing a variable\n",
    "Modifying a variable \n",
    "Deleting a variable"
   ]
  },
  {
   "cell_type": "markdown",
   "id": "06d138b6-a316-464a-897a-d0f3acefe269",
   "metadata": {},
   "source": [
    "### Decalare and initialise an instance variable \n",
    "\n",
    "- Inside the constructor by using self variable\n",
    "- Inside any instance method by using self variable\n",
    "- Outside the class by using reference variable"
   ]
  },
  {
   "cell_type": "markdown",
   "id": "af6c9688-3964-43b7-a064-49048f1c9cb6",
   "metadata": {},
   "source": [
    "#### Case-1: Declaring the instance variable inside a constructor "
   ]
  },
  {
   "cell_type": "code",
   "execution_count": 1,
   "id": "3023e1fb-93d6-4b1a-bee5-2ea0b64322f2",
   "metadata": {},
   "outputs": [],
   "source": [
    "class Test:\n",
    "\n",
    "    def __init__(self):\n",
    "        self.a = 5"
   ]
  },
  {
   "cell_type": "code",
   "execution_count": 2,
   "id": "dbad27b9-c2ee-41ce-9a7f-a35e60bb76f6",
   "metadata": {},
   "outputs": [],
   "source": [
    "t = Test() # I have created an object"
   ]
  },
  {
   "cell_type": "code",
   "execution_count": 3,
   "id": "32842e7b-ca9e-4223-9198-53ba831091fd",
   "metadata": {},
   "outputs": [
    {
     "data": {
      "text/plain": [
       "5"
      ]
     },
     "execution_count": 3,
     "metadata": {},
     "output_type": "execute_result"
    }
   ],
   "source": [
    "t.a"
   ]
  },
  {
   "cell_type": "markdown",
   "id": "35f17a1b-2b36-4727-bc24-72dd729c7639",
   "metadata": {},
   "source": [
    "#### Case-2: Declaring an instance variable inside an instance method\n",
    "\n",
    "Instance method: Any method that uses an instance variable is known as instance method"
   ]
  },
  {
   "cell_type": "code",
   "execution_count": 18,
   "id": "a76d7a3e-0408-4902-b91e-6063b923ac23",
   "metadata": {},
   "outputs": [],
   "source": [
    "class Test:\n",
    "    def __init__(self):\n",
    "        self.a = 10\n",
    "\n",
    "    def m1(self):\n",
    "        self.b = 50"
   ]
  },
  {
   "cell_type": "code",
   "execution_count": 19,
   "id": "024733a5-9453-40d2-884d-13e8f9ed911b",
   "metadata": {},
   "outputs": [],
   "source": [
    "t = Test()"
   ]
  },
  {
   "cell_type": "code",
   "execution_count": 20,
   "id": "aee5804d-8b72-4a86-b469-8d08a947c7ef",
   "metadata": {},
   "outputs": [
    {
     "data": {
      "text/plain": [
       "10"
      ]
     },
     "execution_count": 20,
     "metadata": {},
     "output_type": "execute_result"
    }
   ],
   "source": [
    "t.a"
   ]
  },
  {
   "cell_type": "code",
   "execution_count": 21,
   "id": "6d30b17e-707c-484d-84e3-73522f585dfe",
   "metadata": {},
   "outputs": [
    {
     "data": {
      "text/plain": [
       "{'a': 10}"
      ]
     },
     "execution_count": 21,
     "metadata": {},
     "output_type": "execute_result"
    }
   ],
   "source": [
    "t.__dict__"
   ]
  },
  {
   "cell_type": "code",
   "execution_count": 22,
   "id": "96b3f8d1-a2d3-48e4-851a-425b1cb03625",
   "metadata": {},
   "outputs": [],
   "source": [
    "t.m1()"
   ]
  },
  {
   "cell_type": "code",
   "execution_count": 23,
   "id": "a5eba6f8-3437-4ec8-85cf-4c9701586056",
   "metadata": {},
   "outputs": [
    {
     "data": {
      "text/plain": [
       "{'a': 10, 'b': 50}"
      ]
     },
     "execution_count": 23,
     "metadata": {},
     "output_type": "execute_result"
    }
   ],
   "source": [
    "t.__dict__"
   ]
  },
  {
   "cell_type": "markdown",
   "id": "1862d07b-1933-44ec-94d2-3780df8a8e84",
   "metadata": {},
   "source": [
    "### Case-3: Using a reference variable"
   ]
  },
  {
   "cell_type": "code",
   "execution_count": 25,
   "id": "7e055b21-d8dd-4c0c-a78d-dd10fd43b109",
   "metadata": {},
   "outputs": [],
   "source": [
    "t2 = Test()"
   ]
  },
  {
   "cell_type": "code",
   "execution_count": 26,
   "id": "05b788b1-cbf1-4f22-a1d1-bc0005224504",
   "metadata": {},
   "outputs": [],
   "source": [
    "t2.c = 1000"
   ]
  },
  {
   "cell_type": "code",
   "execution_count": 27,
   "id": "74f5c657-7586-4888-99ec-5204580d3866",
   "metadata": {},
   "outputs": [
    {
     "data": {
      "text/plain": [
       "{'a': 10, 'c': 1000}"
      ]
     },
     "execution_count": 27,
     "metadata": {},
     "output_type": "execute_result"
    }
   ],
   "source": [
    "t2.__dict__"
   ]
  },
  {
   "cell_type": "markdown",
   "id": "c105905e-399d-4fed-8bf1-cc9492bdc974",
   "metadata": {},
   "source": [
    "### Accessing the instance variable\n",
    "\n",
    "- We can access instance variable within the class by using self\n",
    "- Outside the class by using reference variable "
   ]
  },
  {
   "cell_type": "code",
   "execution_count": 30,
   "id": "80ca3782-5922-4dd0-8682-55285567486f",
   "metadata": {},
   "outputs": [],
   "source": [
    "class Test:\n",
    "\n",
    "    def __init__(self):\n",
    "        self.name = 'kuldeep'\n",
    "        self.age = 22\n",
    "        self.salary = 55000\n",
    "\n",
    "        print(self.name)\n",
    "        print(self.age)\n",
    "        print(self.salary)\n",
    "        "
   ]
  },
  {
   "cell_type": "code",
   "execution_count": 31,
   "id": "cd55dda1-de5e-4c02-b4b0-ce5d81a440b1",
   "metadata": {},
   "outputs": [
    {
     "name": "stdout",
     "output_type": "stream",
     "text": [
      "kuldeep\n",
      "22\n",
      "55000\n"
     ]
    }
   ],
   "source": [
    "t = Test()"
   ]
  },
  {
   "cell_type": "code",
   "execution_count": 32,
   "id": "21fb1ad9-8df6-4e06-be24-9196c9bf6f71",
   "metadata": {},
   "outputs": [],
   "source": [
    "class Test:\n",
    "\n",
    "    def __init__(self):\n",
    "        self.name = 'Atharv'\n",
    "        self.age = 24\n",
    "        self.salary = 62000\n",
    "\n",
    "    def display(self):\n",
    "        print(f'The name of the employee is {self.name}')\n",
    "        print(f'The age of the employee is {self.age}')\n",
    "        print(f'The salary of employee is {self.salary}')"
   ]
  },
  {
   "cell_type": "code",
   "execution_count": 33,
   "id": "e39ff03a-0e5b-4c93-9137-8fbe9bc9b165",
   "metadata": {},
   "outputs": [],
   "source": [
    "t = Test()"
   ]
  },
  {
   "cell_type": "code",
   "execution_count": 34,
   "id": "d3203274-3ed1-4467-914f-c3703b2220ff",
   "metadata": {},
   "outputs": [
    {
     "name": "stdout",
     "output_type": "stream",
     "text": [
      "The name of the employee is Atharv\n",
      "The age of the employee is 24\n",
      "The salary of employee is 62000\n"
     ]
    }
   ],
   "source": [
    "t.display()"
   ]
  },
  {
   "cell_type": "code",
   "execution_count": 35,
   "id": "29182752-1400-4ddc-ae94-8d449881abcd",
   "metadata": {},
   "outputs": [
    {
     "data": {
      "text/plain": [
       "'Atharv'"
      ]
     },
     "execution_count": 35,
     "metadata": {},
     "output_type": "execute_result"
    }
   ],
   "source": [
    "t.name"
   ]
  },
  {
   "cell_type": "markdown",
   "id": "428c8d31-7b0e-4030-9c3f-5be8dea23127",
   "metadata": {},
   "source": [
    "### Modifying an instance variable \n",
    "\n",
    "- Inside the class using a self\n",
    "- Outside the class by using a reference variable "
   ]
  },
  {
   "cell_type": "code",
   "execution_count": 36,
   "id": "0c6e08f8-7f16-4520-9e42-ef599039ba4f",
   "metadata": {},
   "outputs": [],
   "source": [
    "class Employee:\n",
    "    def __init__(self):\n",
    "        self.name = 'Anoop'\n",
    "        self.age = 28\n",
    "        self.salary = 75000\n",
    "\n",
    "        print(self.name)\n",
    "        print(self.age)\n",
    "        print(self.salary)\n",
    "\n",
    "    def modify(self):\n",
    "        self.name = 'Pushpa'\n",
    "\n",
    "    def display(self):\n",
    "        print(f'The name of the employee is {self.name}')\n",
    "        print(f'The age of the employee is {self.age}')\n",
    "        print(f'The salary of employee is {self.salary}')    "
   ]
  },
  {
   "cell_type": "code",
   "execution_count": 41,
   "id": "dd2f730c-476a-4c7c-9c5b-e074466d810f",
   "metadata": {},
   "outputs": [
    {
     "name": "stdout",
     "output_type": "stream",
     "text": [
      "Anoop\n",
      "28\n",
      "75000\n"
     ]
    }
   ],
   "source": [
    "t = Employee()"
   ]
  },
  {
   "cell_type": "code",
   "execution_count": 42,
   "id": "911447ee-7aff-42c3-9d76-4e0f8ea6db2a",
   "metadata": {},
   "outputs": [
    {
     "name": "stdout",
     "output_type": "stream",
     "text": [
      "The name of the employee is Anoop\n",
      "The age of the employee is 28\n",
      "The salary of employee is 75000\n"
     ]
    }
   ],
   "source": [
    "t.display()"
   ]
  },
  {
   "cell_type": "code",
   "execution_count": 43,
   "id": "38f00e7e-8514-4658-88c6-249897319356",
   "metadata": {},
   "outputs": [],
   "source": [
    "t.modify()"
   ]
  },
  {
   "cell_type": "code",
   "execution_count": 44,
   "id": "a56755ae-6da8-46a5-85d0-921babc9f8f6",
   "metadata": {},
   "outputs": [
    {
     "name": "stdout",
     "output_type": "stream",
     "text": [
      "The name of the employee is Pushpa\n",
      "The age of the employee is 28\n",
      "The salary of employee is 75000\n"
     ]
    }
   ],
   "source": [
    "t.display()"
   ]
  },
  {
   "cell_type": "code",
   "execution_count": 39,
   "id": "c9d8912e-915a-4456-9fa2-01dede9e0fcf",
   "metadata": {},
   "outputs": [
    {
     "data": {
      "text/plain": [
       "'Pushpa'"
      ]
     },
     "execution_count": 39,
     "metadata": {},
     "output_type": "execute_result"
    }
   ],
   "source": [
    "t.name "
   ]
  },
  {
   "cell_type": "markdown",
   "id": "cf566103-37a3-40e7-b83a-c48f069d7591",
   "metadata": {},
   "source": [
    "### Deleting an instance variable \n",
    "\n",
    "- Delete it inside the class variable using del self.variable_name\n",
    "- Delete outside the class using del reference_variable.instanace variable "
   ]
  },
  {
   "cell_type": "code",
   "execution_count": 45,
   "id": "f4c016ef-4eff-4d68-8dda-b5a40f7a6a20",
   "metadata": {},
   "outputs": [],
   "source": [
    "class Test:\n",
    "    def __init__(self):\n",
    "        self.a = 10\n",
    "        self.b = 20\n",
    "        self.c = 30\n",
    "        self.d = 40\n",
    "\n",
    "    def remove(self):\n",
    "        del self.a"
   ]
  },
  {
   "cell_type": "code",
   "execution_count": 47,
   "id": "d1020ab9-38f4-4363-a5fb-4fbe9a9387da",
   "metadata": {},
   "outputs": [],
   "source": [
    "t = Test()"
   ]
  },
  {
   "cell_type": "code",
   "execution_count": 48,
   "id": "58945905-62b0-4b3c-b7ed-875f5b242f54",
   "metadata": {},
   "outputs": [
    {
     "data": {
      "text/plain": [
       "{'a': 10, 'b': 20, 'c': 30, 'd': 40}"
      ]
     },
     "execution_count": 48,
     "metadata": {},
     "output_type": "execute_result"
    }
   ],
   "source": [
    "t.__dict__"
   ]
  },
  {
   "cell_type": "code",
   "execution_count": 49,
   "id": "3c23b711-f8b4-421e-b0f9-6f7b4184518f",
   "metadata": {},
   "outputs": [],
   "source": [
    "t.remove()"
   ]
  },
  {
   "cell_type": "code",
   "execution_count": 50,
   "id": "86462537-1d9c-4357-b961-a47a7d7bc4a9",
   "metadata": {},
   "outputs": [
    {
     "data": {
      "text/plain": [
       "{'b': 20, 'c': 30, 'd': 40}"
      ]
     },
     "execution_count": 50,
     "metadata": {},
     "output_type": "execute_result"
    }
   ],
   "source": [
    "t.__dict__"
   ]
  },
  {
   "cell_type": "code",
   "execution_count": 51,
   "id": "b7614756-b78a-4afb-8ea9-acfb19d39fc3",
   "metadata": {},
   "outputs": [],
   "source": [
    "class Test:\n",
    "    def __init__(self):\n",
    "        self.a = 10\n",
    "        self.b = 20\n",
    "        self.c = 30\n",
    "        self.d = 40\n",
    "\n",
    "    def remove(self):\n",
    "        del self.a\n",
    "\n",
    "    def func(self):\n",
    "        self.e = 55\n",
    "        self.f = 1000\n",
    "        del self.c\n",
    "        del self.d"
   ]
  },
  {
   "cell_type": "code",
   "execution_count": 52,
   "id": "d01cc41f-99cc-40de-ba8a-99782be4e10c",
   "metadata": {},
   "outputs": [],
   "source": [
    "t = Test()"
   ]
  },
  {
   "cell_type": "code",
   "execution_count": 53,
   "id": "9437bcef-85a6-458e-9cbf-4d46d816fbf9",
   "metadata": {},
   "outputs": [
    {
     "data": {
      "text/plain": [
       "{'a': 10, 'b': 20, 'c': 30, 'd': 40}"
      ]
     },
     "execution_count": 53,
     "metadata": {},
     "output_type": "execute_result"
    }
   ],
   "source": [
    "t.__dict__"
   ]
  },
  {
   "cell_type": "code",
   "execution_count": 54,
   "id": "94ebee6f-e5e2-454e-b21c-5c6a184b2908",
   "metadata": {},
   "outputs": [],
   "source": [
    "t.remove()"
   ]
  },
  {
   "cell_type": "code",
   "execution_count": 55,
   "id": "f7dec01f-e6d2-4b3f-b5f2-3eab1a5876e5",
   "metadata": {},
   "outputs": [
    {
     "data": {
      "text/plain": [
       "{'b': 20, 'c': 30, 'd': 40}"
      ]
     },
     "execution_count": 55,
     "metadata": {},
     "output_type": "execute_result"
    }
   ],
   "source": [
    "t.__dict__"
   ]
  },
  {
   "cell_type": "code",
   "execution_count": 57,
   "id": "af592fa2-5308-45c5-ab12-9a3c6304a3f8",
   "metadata": {},
   "outputs": [],
   "source": [
    "t.func()"
   ]
  },
  {
   "cell_type": "code",
   "execution_count": 58,
   "id": "97ca3101-6073-46e0-9e8d-83224cb1d85b",
   "metadata": {},
   "outputs": [
    {
     "data": {
      "text/plain": [
       "{'b': 20, 'e': 55, 'f': 1000}"
      ]
     },
     "execution_count": 58,
     "metadata": {},
     "output_type": "execute_result"
    }
   ],
   "source": [
    "t.__dict__"
   ]
  },
  {
   "cell_type": "code",
   "execution_count": 60,
   "id": "1c5cb395-94c2-4252-9b22-855f48c26e6e",
   "metadata": {},
   "outputs": [],
   "source": [
    "del t.f"
   ]
  },
  {
   "cell_type": "code",
   "execution_count": 61,
   "id": "0b929f2f-c7db-4755-b23a-224d2494c799",
   "metadata": {},
   "outputs": [
    {
     "data": {
      "text/plain": [
       "{'b': 20, 'e': 55}"
      ]
     },
     "execution_count": 61,
     "metadata": {},
     "output_type": "execute_result"
    }
   ],
   "source": [
    "t.__dict__"
   ]
  },
  {
   "cell_type": "markdown",
   "id": "d644168e-c675-4495-b80a-eb3d174be609",
   "metadata": {},
   "source": [
    "### Static Variable (Class level variable)"
   ]
  },
  {
   "cell_type": "code",
   "execution_count": 62,
   "id": "eb61752b-300c-47e8-b42f-0d8d25d1ec84",
   "metadata": {},
   "outputs": [],
   "source": [
    "class Customer:\n",
    "    def __init__(self, name, amt):\n",
    "\n",
    "        self.bankname = 'SBI'\n",
    "        self.name = name\n",
    "        self.amount = amt\n",
    "\n",
    "    def display(self):\n",
    "        print(f'Welcome to {self.bankname}')\n",
    "        print(f'The customer is - {self.name}')\n",
    "        print(f'The amount in users account - {self.amount}')"
   ]
  },
  {
   "cell_type": "code",
   "execution_count": 64,
   "id": "9efe0172-3d01-4858-81b4-979b4319a06c",
   "metadata": {},
   "outputs": [],
   "source": [
    "t = Customer('Kuldeep', 25000)"
   ]
  },
  {
   "cell_type": "code",
   "execution_count": 65,
   "id": "a35fd3c5-ebc6-4afb-8350-d72f7c83e626",
   "metadata": {},
   "outputs": [
    {
     "name": "stdout",
     "output_type": "stream",
     "text": [
      "Welcome to SBI\n",
      "The customer is - Kuldeep\n",
      "The amount in users account - 25000\n"
     ]
    }
   ],
   "source": [
    "t.display()"
   ]
  },
  {
   "cell_type": "code",
   "execution_count": null,
   "id": "ebc08a18-48e1-45a9-af2e-2f391812facb",
   "metadata": {},
   "outputs": [],
   "source": [
    "- If any value we want to be same for all the objects then isntance variable is not recommended\n",
    "- As for each object it will stored seperately "
   ]
  },
  {
   "cell_type": "code",
   "execution_count": 77,
   "id": "d165810d-2c87-49c6-8c2a-1126865bb6d7",
   "metadata": {},
   "outputs": [],
   "source": [
    "class Customer:\n",
    "\n",
    "    bank = 'SBI' # static variable \n",
    "    def __init__(self, name, amt):\n",
    "\n",
    "        self.name = name\n",
    "        self.amount = amt\n",
    "\n",
    "    def display(self):\n",
    "        print(f'Welcome to {Customer.bank}')\n",
    "        print(f'The customer is - {self.name}')\n",
    "        print(f'The amount in users account - {self.amount}')"
   ]
  },
  {
   "cell_type": "code",
   "execution_count": 68,
   "id": "0558c66f-f22c-4a02-bb19-9838bf55f0f2",
   "metadata": {},
   "outputs": [
    {
     "name": "stdout",
     "output_type": "stream",
     "text": [
      "{'__module__': '__main__', 'bank': 'SBI', '__init__': <function Customer.__init__ at 0x000001C3E69D0F40>, 'display': <function Customer.display at 0x000001C3E5C50C20>, '__dict__': <attribute '__dict__' of 'Customer' objects>, '__weakref__': <attribute '__weakref__' of 'Customer' objects>, '__doc__': None}\n"
     ]
    }
   ],
   "source": [
    "print(Customer.__dict__)"
   ]
  },
  {
   "cell_type": "code",
   "execution_count": 78,
   "id": "eb12fc39-88be-440a-8398-316e69e45e81",
   "metadata": {},
   "outputs": [],
   "source": [
    "t =Customer('Mayank', 75000)"
   ]
  },
  {
   "cell_type": "code",
   "execution_count": 79,
   "id": "7a7086d0-742a-44ef-bc0b-27bfac01f85c",
   "metadata": {
    "scrolled": true
   },
   "outputs": [
    {
     "name": "stdout",
     "output_type": "stream",
     "text": [
      "Welcome to SBI\n",
      "The customer is - Mayank\n",
      "The amount in users account - 75000\n"
     ]
    }
   ],
   "source": [
    "t.display()"
   ]
  },
  {
   "cell_type": "markdown",
   "id": "02cc7ca5-5109-4a60-8488-60e9f300a4d1",
   "metadata": {},
   "source": [
    "### How to declare and intialise a static variable \n",
    "\n",
    "- Generally we declare a static variable inside the clas before any method \n",
    "- Inside an instace method by using a class name\n",
    "- Inside a class method by using class name or cls variable \n",
    "- Inside the static method by using class name\n",
    "- Outside the class by using class name "
   ]
  },
  {
   "cell_type": "markdown",
   "id": "92244f9b-812c-4000-9690-dd7063607bcb",
   "metadata": {},
   "source": [
    "### How to access it \n",
    "\n",
    "- refernce_variable.\n",
    "- class name"
   ]
  },
  {
   "cell_type": "code",
   "execution_count": 81,
   "id": "1bef8a40-80e7-43d1-a776-c8b00c2a9ef8",
   "metadata": {},
   "outputs": [],
   "source": [
    "class Customer:\n",
    "\n",
    "    bank = 'SBI' # static variable \n",
    "    def __init__(self, name, amt):\n",
    "\n",
    "        self.name = name\n",
    "        self.amount = amt\n",
    "\n",
    "    def display(self):\n",
    "        print(f'Welcome to {self.bank}')\n",
    "        print(f'The customer is - {self.name}')\n",
    "        print(f'The amount in users account - {self.amount}')"
   ]
  },
  {
   "cell_type": "code",
   "execution_count": 83,
   "id": "aae16524-e297-4b97-8633-7d061ea2cb29",
   "metadata": {},
   "outputs": [],
   "source": [
    "t = Customer('Mayank', 75000)"
   ]
  },
  {
   "cell_type": "code",
   "execution_count": 84,
   "id": "7ac64517-2d75-44db-a93e-02dd9e9e0db9",
   "metadata": {},
   "outputs": [
    {
     "name": "stdout",
     "output_type": "stream",
     "text": [
      "Welcome to SBI\n",
      "The customer is - Mayank\n",
      "The amount in users account - 75000\n"
     ]
    }
   ],
   "source": [
    "t.display()"
   ]
  },
  {
   "cell_type": "code",
   "execution_count": 85,
   "id": "09798735-ef04-4ef5-a245-64d2045735f7",
   "metadata": {},
   "outputs": [],
   "source": [
    "class Customer:\n",
    "\n",
    "    bank = 'SBI' # static variable \n",
    "    def __init__(self, name, amt):\n",
    "\n",
    "        self.name = name\n",
    "        self.amount = amt\n",
    "\n",
    "    def display(self):\n",
    "        print(f'Welcome to {Customer.bank}')\n",
    "        print(f'The customer is - {self.name}')\n",
    "        print(f'The amount in users account - {self.amount}')"
   ]
  },
  {
   "cell_type": "code",
   "execution_count": 90,
   "id": "828f1514-34d0-4358-af53-029376af0a77",
   "metadata": {},
   "outputs": [],
   "source": [
    "t1 = Customer('Mayank', 75000)"
   ]
  },
  {
   "cell_type": "code",
   "execution_count": 91,
   "id": "9e40d955-2e88-463e-a48b-dc2d7f6b927d",
   "metadata": {},
   "outputs": [
    {
     "name": "stdout",
     "output_type": "stream",
     "text": [
      "Welcome to SBI\n",
      "The customer is - Mayank\n",
      "The amount in users account - 75000\n"
     ]
    }
   ],
   "source": [
    "t1.display()"
   ]
  },
  {
   "cell_type": "markdown",
   "id": "43d8eee5-a0e0-4017-899c-ae69a0d5eaef",
   "metadata": {},
   "source": [
    "### Case-2: Inside an instace method by using a class name"
   ]
  },
  {
   "cell_type": "code",
   "execution_count": 92,
   "id": "3a79b974-9d34-4958-8e1a-20257549d1e2",
   "metadata": {},
   "outputs": [],
   "source": [
    "class Customer:\n",
    "\n",
    "    def __init__(self):\n",
    "        pass\n",
    "\n",
    "    def method(self):\n",
    "        Customer.bank = 'SBI'"
   ]
  },
  {
   "cell_type": "code",
   "execution_count": 94,
   "id": "a1a4e9b0-11c6-4b52-b39f-f1a47964285c",
   "metadata": {},
   "outputs": [],
   "source": [
    "t = Customer()"
   ]
  },
  {
   "cell_type": "code",
   "execution_count": 95,
   "id": "f794a3fd-baf8-4b61-8460-7f6b47a6c5cb",
   "metadata": {},
   "outputs": [],
   "source": [
    "t.method()"
   ]
  },
  {
   "cell_type": "code",
   "execution_count": 96,
   "id": "b1d79e76-064e-42c9-915c-f09cc4cd1572",
   "metadata": {},
   "outputs": [
    {
     "data": {
      "text/plain": [
       "mappingproxy({'__module__': '__main__',\n",
       "              '__init__': <function __main__.Customer.__init__(self)>,\n",
       "              'method': <function __main__.Customer.method(self)>,\n",
       "              '__dict__': <attribute '__dict__' of 'Customer' objects>,\n",
       "              '__weakref__': <attribute '__weakref__' of 'Customer' objects>,\n",
       "              '__doc__': None,\n",
       "              'bank': 'SBI'})"
      ]
     },
     "execution_count": 96,
     "metadata": {},
     "output_type": "execute_result"
    }
   ],
   "source": [
    "Customer.__dict__"
   ]
  },
  {
   "cell_type": "markdown",
   "id": "620abb6b-d53a-4fb6-aac1-089fe696ace3",
   "metadata": {},
   "source": [
    "#### Case-3: Inside a class method by using class name or cls variable"
   ]
  },
  {
   "cell_type": "code",
   "execution_count": 98,
   "id": "0260ebc0-1a82-46e7-a1ec-358bc1d63c6d",
   "metadata": {},
   "outputs": [],
   "source": [
    "class Customer:\n",
    "\n",
    "    def __init__(self):\n",
    "        pass\n",
    "\n",
    "    @classmethod\n",
    "    def cls_method(cls):\n",
    "        cls.a = 'SBI'\n",
    "        Customer.b = 'RBI'"
   ]
  },
  {
   "cell_type": "code",
   "execution_count": 99,
   "id": "8b592ae4-60ef-4d74-a200-ba0c9a9a3605",
   "metadata": {},
   "outputs": [],
   "source": [
    "t = Customer()"
   ]
  },
  {
   "cell_type": "code",
   "execution_count": 100,
   "id": "baaa25c5-6b1d-4260-b115-8dd242987f3b",
   "metadata": {},
   "outputs": [],
   "source": [
    "t.cls_method()"
   ]
  },
  {
   "cell_type": "code",
   "execution_count": 101,
   "id": "f232074d-773e-4ad8-9cf7-b69b2c5cb1aa",
   "metadata": {},
   "outputs": [
    {
     "data": {
      "text/plain": [
       "mappingproxy({'__module__': '__main__',\n",
       "              '__init__': <function __main__.Customer.__init__(self)>,\n",
       "              'cls_method': <classmethod(<function Customer.cls_method at 0x000001C3E7614FE0>)>,\n",
       "              '__dict__': <attribute '__dict__' of 'Customer' objects>,\n",
       "              '__weakref__': <attribute '__weakref__' of 'Customer' objects>,\n",
       "              '__doc__': None,\n",
       "              'a': 'SBI',\n",
       "              'b': 'RBI'})"
      ]
     },
     "execution_count": 101,
     "metadata": {},
     "output_type": "execute_result"
    }
   ],
   "source": [
    "Customer.__dict__"
   ]
  },
  {
   "cell_type": "markdown",
   "id": "530d74a7-9b92-418c-a228-f70a226f7685",
   "metadata": {},
   "source": [
    "### Case-4: Inside the static method by using class name"
   ]
  },
  {
   "cell_type": "code",
   "execution_count": 103,
   "id": "64d8f1e9-98d2-4b94-a9f9-41adaea49d88",
   "metadata": {},
   "outputs": [],
   "source": [
    "class Customer:\n",
    "\n",
    "    def __init__(self):\n",
    "        pass\n",
    "\n",
    "    @staticmethod\n",
    "    def stat_method():\n",
    "        Customer.bank = 'RBI'"
   ]
  },
  {
   "cell_type": "code",
   "execution_count": 104,
   "id": "fb9fc6f9-758b-4a01-957b-3dc688ca5c85",
   "metadata": {},
   "outputs": [],
   "source": [
    "t = Customer()"
   ]
  },
  {
   "cell_type": "code",
   "execution_count": 105,
   "id": "77104507-757d-4d30-9bed-7cefed393e62",
   "metadata": {},
   "outputs": [],
   "source": [
    "t.stat_method()"
   ]
  },
  {
   "cell_type": "code",
   "execution_count": 106,
   "id": "bda5f291-6292-403a-9ef7-7bf6a933c3ed",
   "metadata": {},
   "outputs": [
    {
     "data": {
      "text/plain": [
       "mappingproxy({'__module__': '__main__',\n",
       "              '__init__': <function __main__.Customer.__init__(self)>,\n",
       "              'stat_method': <staticmethod(<function Customer.stat_method at 0x000001C3E6C66C00>)>,\n",
       "              '__dict__': <attribute '__dict__' of 'Customer' objects>,\n",
       "              '__weakref__': <attribute '__weakref__' of 'Customer' objects>,\n",
       "              '__doc__': None,\n",
       "              'bank': 'RBI'})"
      ]
     },
     "execution_count": 106,
     "metadata": {},
     "output_type": "execute_result"
    }
   ],
   "source": [
    "Customer.__dict__"
   ]
  },
  {
   "cell_type": "markdown",
   "id": "afe016c8-6bfa-48f9-a7e1-e2495af81583",
   "metadata": {},
   "source": [
    "#### Case-5: Outside the class by using class name"
   ]
  },
  {
   "cell_type": "code",
   "execution_count": 107,
   "id": "dcf6a85f-6b5d-4e4d-aa3d-8383217d5fa4",
   "metadata": {},
   "outputs": [],
   "source": [
    "Customer.x = 'HDFC'"
   ]
  },
  {
   "cell_type": "code",
   "execution_count": 108,
   "id": "f6b0cf6b-8761-44ab-9000-a74ef46aaa61",
   "metadata": {},
   "outputs": [
    {
     "data": {
      "text/plain": [
       "mappingproxy({'__module__': '__main__',\n",
       "              '__init__': <function __main__.Customer.__init__(self)>,\n",
       "              'stat_method': <staticmethod(<function Customer.stat_method at 0x000001C3E6C66C00>)>,\n",
       "              '__dict__': <attribute '__dict__' of 'Customer' objects>,\n",
       "              '__weakref__': <attribute '__weakref__' of 'Customer' objects>,\n",
       "              '__doc__': None,\n",
       "              'bank': 'RBI',\n",
       "              'x': 'HDFC'})"
      ]
     },
     "execution_count": 108,
     "metadata": {},
     "output_type": "execute_result"
    }
   ],
   "source": [
    "Customer.__dict__"
   ]
  },
  {
   "cell_type": "markdown",
   "id": "f9efb4ef-055a-4e78-8507-0cdf82f352c3",
   "metadata": {},
   "source": [
    "### Accessing the static variable \n",
    "\n",
    "- Inside the constructor by using self or class name\n",
    "- Inside the instance method by using either a self or class name\n",
    "- Inside the clas method by using class name or cls variable\n",
    "- Inside the static method by using class name\n",
    "- Outside the class by using the class name or the reference variable "
   ]
  },
  {
   "cell_type": "code",
   "execution_count": 109,
   "id": "d3a329c0-f1cf-42d0-b0b0-0ea70b397754",
   "metadata": {},
   "outputs": [],
   "source": [
    "class Test:\n",
    "    bank = 'SBI'\n",
    "\n",
    "    def __init__(self):\n",
    "        print(self.bank)\n",
    "        print(Test.bank)"
   ]
  },
  {
   "cell_type": "code",
   "execution_count": 110,
   "id": "ccc6c8e6-4531-4dc4-8846-222dd85adafa",
   "metadata": {},
   "outputs": [
    {
     "name": "stdout",
     "output_type": "stream",
     "text": [
      "SBI\n",
      "SBI\n"
     ]
    }
   ],
   "source": [
    "t = Test()"
   ]
  },
  {
   "cell_type": "code",
   "execution_count": 111,
   "id": "4118890c-1a2a-4c11-8b80-a29854a539b9",
   "metadata": {},
   "outputs": [],
   "source": [
    "class Test:\n",
    "    bank = 'SBI'\n",
    "\n",
    "    def __init__(self):\n",
    "        pass\n",
    "    def display(self):\n",
    "        print(self.bank)\n",
    "        print(Test.bank)"
   ]
  },
  {
   "cell_type": "code",
   "execution_count": 112,
   "id": "29e61748-9428-4fba-b5bb-21440b2c9170",
   "metadata": {},
   "outputs": [],
   "source": [
    "t = Test()"
   ]
  },
  {
   "cell_type": "code",
   "execution_count": 113,
   "id": "17a9b0c0-6ba6-4282-94dc-f1ef8f448e6a",
   "metadata": {},
   "outputs": [
    {
     "name": "stdout",
     "output_type": "stream",
     "text": [
      "SBI\n",
      "SBI\n"
     ]
    }
   ],
   "source": [
    "t.display()"
   ]
  },
  {
   "cell_type": "code",
   "execution_count": 114,
   "id": "16ea2807-c8ba-4726-b425-01c7c775f943",
   "metadata": {},
   "outputs": [],
   "source": [
    "class Test:\n",
    "    bank = 'SBI'\n",
    "\n",
    "    @classmethod\n",
    "    def cls_method(cls):\n",
    "        print(cls.bank)\n",
    "        print(Test.bank)\n"
   ]
  },
  {
   "cell_type": "code",
   "execution_count": 115,
   "id": "ce785fc8-49f8-4048-8099-2ddbb1a8f02a",
   "metadata": {},
   "outputs": [],
   "source": [
    "t = Test()"
   ]
  },
  {
   "cell_type": "code",
   "execution_count": 116,
   "id": "6a8e2f33-59de-4c1f-a233-180a9385c912",
   "metadata": {},
   "outputs": [
    {
     "name": "stdout",
     "output_type": "stream",
     "text": [
      "SBI\n",
      "SBI\n"
     ]
    }
   ],
   "source": [
    "t.cls_method()"
   ]
  },
  {
   "cell_type": "code",
   "execution_count": 117,
   "id": "4d169311-38ef-471a-80ac-7983f9dfff9d",
   "metadata": {},
   "outputs": [],
   "source": [
    "class Test:\n",
    "    bank = 'SBI'\n",
    "\n",
    "    @staticmethod\n",
    "    def stat():\n",
    "        print(Test.bank)"
   ]
  },
  {
   "cell_type": "code",
   "execution_count": 118,
   "id": "d9157c4e-5d9c-44ce-adb7-ed7b6981d799",
   "metadata": {},
   "outputs": [],
   "source": [
    "t = Test()"
   ]
  },
  {
   "cell_type": "code",
   "execution_count": 119,
   "id": "bb389e07-74ea-463a-81c9-407122c84782",
   "metadata": {},
   "outputs": [
    {
     "name": "stdout",
     "output_type": "stream",
     "text": [
      "SBI\n"
     ]
    }
   ],
   "source": [
    "t.stat()"
   ]
  },
  {
   "cell_type": "code",
   "execution_count": 120,
   "id": "d33d76c8-32fd-4a2c-981f-180a25457dad",
   "metadata": {},
   "outputs": [],
   "source": [
    "class Test:\n",
    "\n",
    "    bank = 'SBI'\n"
   ]
  },
  {
   "cell_type": "code",
   "execution_count": 121,
   "id": "ea90230e-3bd1-4391-b904-d45de455cbed",
   "metadata": {},
   "outputs": [
    {
     "data": {
      "text/plain": [
       "'SBI'"
      ]
     },
     "execution_count": 121,
     "metadata": {},
     "output_type": "execute_result"
    }
   ],
   "source": [
    "Test.bank"
   ]
  },
  {
   "cell_type": "markdown",
   "id": "ddc6d60f-81f4-4ed5-ae42-b4248388fd83",
   "metadata": {},
   "source": [
    "#### Modifying a static variable \n",
    "\n",
    "- Inside the class by using the class name\n",
    "- Inside the class method by using the class name or cls variable\n",
    "- Outside the class by using class name"
   ]
  },
  {
   "cell_type": "code",
   "execution_count": 123,
   "id": "d1f1fcc4-a5c0-45c2-a29d-08670c8f74ab",
   "metadata": {},
   "outputs": [],
   "source": [
    "class Test:\n",
    "    bank = 'SBI'\n",
    "\n",
    "    def __init__(self):\n",
    "        Test.bank = 'BOI'"
   ]
  },
  {
   "cell_type": "code",
   "execution_count": 124,
   "id": "67cefa71-d3c1-4311-be82-95aac20445d6",
   "metadata": {},
   "outputs": [
    {
     "data": {
      "text/plain": [
       "'SBI'"
      ]
     },
     "execution_count": 124,
     "metadata": {},
     "output_type": "execute_result"
    }
   ],
   "source": [
    "Test.bank"
   ]
  },
  {
   "cell_type": "code",
   "execution_count": 125,
   "id": "3a82a2f5-a3dd-4337-a7f8-f96604699326",
   "metadata": {},
   "outputs": [],
   "source": [
    "t = Test()"
   ]
  },
  {
   "cell_type": "code",
   "execution_count": 126,
   "id": "bdb4c049-4dd9-4cdc-b676-c84af307ff41",
   "metadata": {},
   "outputs": [
    {
     "data": {
      "text/plain": [
       "'BOI'"
      ]
     },
     "execution_count": 126,
     "metadata": {},
     "output_type": "execute_result"
    }
   ],
   "source": [
    "Test.bank"
   ]
  },
  {
   "cell_type": "code",
   "execution_count": 127,
   "id": "76a2440e-342e-4e0c-9a28-a9a11186626b",
   "metadata": {},
   "outputs": [
    {
     "data": {
      "text/plain": [
       "'BOI'"
      ]
     },
     "execution_count": 127,
     "metadata": {},
     "output_type": "execute_result"
    }
   ],
   "source": [
    "t.bank"
   ]
  },
  {
   "cell_type": "code",
   "execution_count": 128,
   "id": "f8997b92-5d66-4bbe-834c-e072b04825b2",
   "metadata": {},
   "outputs": [],
   "source": [
    "class Test:\n",
    "    bank = 'SBI'\n",
    "\n",
    "    def __init__(self):\n",
    "        self.bank = 'BOI'"
   ]
  },
  {
   "cell_type": "code",
   "execution_count": 129,
   "id": "f2e287e5-26ae-4cd8-82eb-74b3fd6b5e7d",
   "metadata": {},
   "outputs": [
    {
     "data": {
      "text/plain": [
       "'SBI'"
      ]
     },
     "execution_count": 129,
     "metadata": {},
     "output_type": "execute_result"
    }
   ],
   "source": [
    "Test.bank"
   ]
  },
  {
   "cell_type": "code",
   "execution_count": 130,
   "id": "9e3d4305-d4a8-43e2-9a36-4123a50a9342",
   "metadata": {},
   "outputs": [],
   "source": [
    "t1 = Test()"
   ]
  },
  {
   "cell_type": "code",
   "execution_count": 131,
   "id": "b36ab56e-fa34-4c5a-957d-a91ad96114d9",
   "metadata": {},
   "outputs": [
    {
     "data": {
      "text/plain": [
       "'BOI'"
      ]
     },
     "execution_count": 131,
     "metadata": {},
     "output_type": "execute_result"
    }
   ],
   "source": [
    "t1.bank"
   ]
  },
  {
   "cell_type": "code",
   "execution_count": 132,
   "id": "60f73b36-e31c-4288-aecd-ba724cc05dcd",
   "metadata": {},
   "outputs": [],
   "source": [
    "class Test:\n",
    "\n",
    "    bank = 'HDFC'\n",
    "\n",
    "    @classmethod\n",
    "    def cls_method(cls):\n",
    "        Test.bank = 'ICICI'"
   ]
  },
  {
   "cell_type": "code",
   "execution_count": 133,
   "id": "69be4ba7-b1d5-4c59-958a-263518c49569",
   "metadata": {},
   "outputs": [
    {
     "data": {
      "text/plain": [
       "'HDFC'"
      ]
     },
     "execution_count": 133,
     "metadata": {},
     "output_type": "execute_result"
    }
   ],
   "source": [
    "Test.bank"
   ]
  },
  {
   "cell_type": "code",
   "execution_count": 134,
   "id": "cc649f3d-b1ca-428e-b8c7-21148803be8e",
   "metadata": {},
   "outputs": [],
   "source": [
    "t = Test()"
   ]
  },
  {
   "cell_type": "code",
   "execution_count": 135,
   "id": "a2ad07d7-28a6-419a-9e92-740b4ec94f4f",
   "metadata": {},
   "outputs": [],
   "source": [
    "t.cls_method()"
   ]
  },
  {
   "cell_type": "code",
   "execution_count": 136,
   "id": "64811a83-9beb-4b21-83af-bc6afebf57cc",
   "metadata": {},
   "outputs": [
    {
     "data": {
      "text/plain": [
       "'ICICI'"
      ]
     },
     "execution_count": 136,
     "metadata": {},
     "output_type": "execute_result"
    }
   ],
   "source": [
    "t.bank"
   ]
  },
  {
   "cell_type": "code",
   "execution_count": 138,
   "id": "ad78c970-f095-4fff-a8ff-b035dfaefcec",
   "metadata": {},
   "outputs": [],
   "source": [
    "class Test:\n",
    "\n",
    "    bank = 'PNB'\n",
    "\n",
    "    @staticmethod\n",
    "    def stat_method():\n",
    "        Test.bank = 'IDFC'"
   ]
  },
  {
   "cell_type": "code",
   "execution_count": 139,
   "id": "26b9be16-72d8-485e-8bd8-912ec575b0bc",
   "metadata": {},
   "outputs": [
    {
     "data": {
      "text/plain": [
       "'PNB'"
      ]
     },
     "execution_count": 139,
     "metadata": {},
     "output_type": "execute_result"
    }
   ],
   "source": [
    "Test.bank"
   ]
  },
  {
   "cell_type": "code",
   "execution_count": 140,
   "id": "549b22b6-34d4-46fa-8ea0-d0f292b74923",
   "metadata": {},
   "outputs": [],
   "source": [
    "t = Test()"
   ]
  },
  {
   "cell_type": "code",
   "execution_count": 141,
   "id": "09d5e21b-9e2a-4007-9d0f-9d53d00a0e66",
   "metadata": {},
   "outputs": [],
   "source": [
    "t.stat_method()"
   ]
  },
  {
   "cell_type": "code",
   "execution_count": 142,
   "id": "50efd723-423b-4ba0-8014-797543acf44a",
   "metadata": {},
   "outputs": [
    {
     "data": {
      "text/plain": [
       "'IDFC'"
      ]
     },
     "execution_count": 142,
     "metadata": {},
     "output_type": "execute_result"
    }
   ],
   "source": [
    "t.bank"
   ]
  },
  {
   "cell_type": "code",
   "execution_count": 143,
   "id": "2bdbe12b-7625-4348-97c2-852f4008af7a",
   "metadata": {},
   "outputs": [],
   "source": [
    "class Test:\n",
    "\n",
    "    bank = 'PNB'\n",
    "\n",
    "    def __init__(self):\n",
    "        pass"
   ]
  },
  {
   "cell_type": "code",
   "execution_count": 144,
   "id": "4402101b-0b28-4fe2-affb-af5c8c7e20e6",
   "metadata": {},
   "outputs": [
    {
     "data": {
      "text/plain": [
       "'PNB'"
      ]
     },
     "execution_count": 144,
     "metadata": {},
     "output_type": "execute_result"
    }
   ],
   "source": [
    "Test.bank"
   ]
  },
  {
   "cell_type": "code",
   "execution_count": 145,
   "id": "19e2e9f2-7707-4894-a67c-9da1d20afc6d",
   "metadata": {},
   "outputs": [],
   "source": [
    "Test.bank = 'BOB'"
   ]
  },
  {
   "cell_type": "code",
   "execution_count": 146,
   "id": "f751acf8-1bd5-4802-a6f2-36c453524526",
   "metadata": {},
   "outputs": [
    {
     "data": {
      "text/plain": [
       "'BOB'"
      ]
     },
     "execution_count": 146,
     "metadata": {},
     "output_type": "execute_result"
    }
   ],
   "source": [
    "Test.bank"
   ]
  },
  {
   "cell_type": "markdown",
   "id": "db022b3a-8c49-4145-bdd8-ed8e325cf0e8",
   "metadata": {},
   "source": [
    "### Deleting a static variable \n",
    "\n",
    "- Anywhere using the class name\n",
    "- Inside the class method by using the class name or cls variable "
   ]
  },
  {
   "cell_type": "code",
   "execution_count": 148,
   "id": "97d57ee7-cc8f-4f14-b374-fbf164613894",
   "metadata": {},
   "outputs": [],
   "source": [
    "class Test:\n",
    "\n",
    "    a = 10\n",
    "    b = 20\n",
    "\n",
    "    def __init__(self):\n",
    "        del Test.a"
   ]
  },
  {
   "cell_type": "code",
   "execution_count": 149,
   "id": "1f0bb56e-847a-486d-8886-20b4da514164",
   "metadata": {},
   "outputs": [
    {
     "data": {
      "text/plain": [
       "mappingproxy({'__module__': '__main__',\n",
       "              'a': 10,\n",
       "              'b': 20,\n",
       "              '__init__': <function __main__.Test.__init__(self)>,\n",
       "              '__dict__': <attribute '__dict__' of 'Test' objects>,\n",
       "              '__weakref__': <attribute '__weakref__' of 'Test' objects>,\n",
       "              '__doc__': None})"
      ]
     },
     "execution_count": 149,
     "metadata": {},
     "output_type": "execute_result"
    }
   ],
   "source": [
    "Test.__dict__"
   ]
  },
  {
   "cell_type": "code",
   "execution_count": 150,
   "id": "93ab995b-90fd-408a-8f10-eadf5ddcec83",
   "metadata": {},
   "outputs": [],
   "source": [
    "t = Test()"
   ]
  },
  {
   "cell_type": "code",
   "execution_count": 151,
   "id": "2cedf182-c8f2-4822-aba4-2fdd2922b278",
   "metadata": {},
   "outputs": [
    {
     "data": {
      "text/plain": [
       "mappingproxy({'__module__': '__main__',\n",
       "              'b': 20,\n",
       "              '__init__': <function __main__.Test.__init__(self)>,\n",
       "              '__dict__': <attribute '__dict__' of 'Test' objects>,\n",
       "              '__weakref__': <attribute '__weakref__' of 'Test' objects>,\n",
       "              '__doc__': None})"
      ]
     },
     "execution_count": 151,
     "metadata": {},
     "output_type": "execute_result"
    }
   ],
   "source": [
    "Test.__dict__"
   ]
  },
  {
   "cell_type": "code",
   "execution_count": 152,
   "id": "0abfc2ef-8582-4fb9-a36a-2ef03010b085",
   "metadata": {},
   "outputs": [],
   "source": [
    "class Test:\n",
    "\n",
    "    a = 10\n",
    "    b = 20\n",
    "\n",
    "    def __init__(self):\n",
    "        del Test.b"
   ]
  },
  {
   "cell_type": "code",
   "execution_count": 153,
   "id": "ad5c0d3b-dc68-4a6d-9f13-ef6452fa9cee",
   "metadata": {},
   "outputs": [
    {
     "data": {
      "text/plain": [
       "mappingproxy({'__module__': '__main__',\n",
       "              'a': 10,\n",
       "              'b': 20,\n",
       "              '__init__': <function __main__.Test.__init__(self)>,\n",
       "              '__dict__': <attribute '__dict__' of 'Test' objects>,\n",
       "              '__weakref__': <attribute '__weakref__' of 'Test' objects>,\n",
       "              '__doc__': None})"
      ]
     },
     "execution_count": 153,
     "metadata": {},
     "output_type": "execute_result"
    }
   ],
   "source": [
    "Test.__dict__"
   ]
  },
  {
   "cell_type": "code",
   "execution_count": 154,
   "id": "dc2f9758-272c-477a-879d-183a03e13dd5",
   "metadata": {},
   "outputs": [],
   "source": [
    "t1 = Test()"
   ]
  },
  {
   "cell_type": "code",
   "execution_count": 155,
   "id": "859b982a-5bbb-4973-9bbb-80df4bfe5a8b",
   "metadata": {},
   "outputs": [
    {
     "data": {
      "text/plain": [
       "mappingproxy({'__module__': '__main__',\n",
       "              'a': 10,\n",
       "              '__init__': <function __main__.Test.__init__(self)>,\n",
       "              '__dict__': <attribute '__dict__' of 'Test' objects>,\n",
       "              '__weakref__': <attribute '__weakref__' of 'Test' objects>,\n",
       "              '__doc__': None})"
      ]
     },
     "execution_count": 155,
     "metadata": {},
     "output_type": "execute_result"
    }
   ],
   "source": [
    "Test.__dict__"
   ]
  },
  {
   "cell_type": "code",
   "execution_count": 156,
   "id": "ed822b9e-6d15-4194-b884-3174ab92277f",
   "metadata": {},
   "outputs": [],
   "source": [
    "class Test:\n",
    "    a = 10\n",
    "    b = 20\n",
    "    c = 30\n",
    "\n",
    "    @classmethod\n",
    "    def m1(cls):\n",
    "        del cls.a\n",
    "        del Test.b"
   ]
  },
  {
   "cell_type": "code",
   "execution_count": 157,
   "id": "c65107cd-2f6e-4e8b-8b13-001b7177ab02",
   "metadata": {},
   "outputs": [
    {
     "data": {
      "text/plain": [
       "mappingproxy({'__module__': '__main__',\n",
       "              'a': 10,\n",
       "              'b': 20,\n",
       "              'c': 30,\n",
       "              'm1': <classmethod(<function Test.m1 at 0x000001C3E6FAC220>)>,\n",
       "              '__dict__': <attribute '__dict__' of 'Test' objects>,\n",
       "              '__weakref__': <attribute '__weakref__' of 'Test' objects>,\n",
       "              '__doc__': None})"
      ]
     },
     "execution_count": 157,
     "metadata": {},
     "output_type": "execute_result"
    }
   ],
   "source": [
    "Test.__dict__"
   ]
  },
  {
   "cell_type": "code",
   "execution_count": 158,
   "id": "19bf59db-5039-4fd5-86fc-d9e4c12db78d",
   "metadata": {},
   "outputs": [],
   "source": [
    "t = Test()"
   ]
  },
  {
   "cell_type": "code",
   "execution_count": 159,
   "id": "af39c9df-cb1b-45a4-ad54-90ff5f2a8b4a",
   "metadata": {},
   "outputs": [],
   "source": [
    "t.m1()"
   ]
  },
  {
   "cell_type": "code",
   "execution_count": 160,
   "id": "2ceb9378-22f4-4133-8a27-36b9832e948b",
   "metadata": {},
   "outputs": [
    {
     "data": {
      "text/plain": [
       "mappingproxy({'__module__': '__main__',\n",
       "              'c': 30,\n",
       "              'm1': <classmethod(<function Test.m1 at 0x000001C3E6FAC220>)>,\n",
       "              '__dict__': <attribute '__dict__' of 'Test' objects>,\n",
       "              '__weakref__': <attribute '__weakref__' of 'Test' objects>,\n",
       "              '__doc__': None})"
      ]
     },
     "execution_count": 160,
     "metadata": {},
     "output_type": "execute_result"
    }
   ],
   "source": [
    "Test.__dict__"
   ]
  },
  {
   "cell_type": "code",
   "execution_count": 165,
   "id": "36649ce7-1e8d-4437-9b8e-b79748364a65",
   "metadata": {},
   "outputs": [],
   "source": [
    "class Test:\n",
    "    a = 10\n",
    "    b = 20\n",
    "    c = 30\n",
    "\n",
    "    @staticmethod\n",
    "    def stat():\n",
    "        del Test.a\n",
    "        del Test.c"
   ]
  },
  {
   "cell_type": "code",
   "execution_count": 166,
   "id": "edd8919b-55a6-4aa2-90ce-c25e6874b331",
   "metadata": {},
   "outputs": [
    {
     "data": {
      "text/plain": [
       "mappingproxy({'__module__': '__main__',\n",
       "              'a': 10,\n",
       "              'b': 20,\n",
       "              'c': 30,\n",
       "              'stat': <staticmethod(<function Test.stat at 0x000001C3E76167A0>)>,\n",
       "              '__dict__': <attribute '__dict__' of 'Test' objects>,\n",
       "              '__weakref__': <attribute '__weakref__' of 'Test' objects>,\n",
       "              '__doc__': None})"
      ]
     },
     "execution_count": 166,
     "metadata": {},
     "output_type": "execute_result"
    }
   ],
   "source": [
    "Test.__dict__"
   ]
  },
  {
   "cell_type": "code",
   "execution_count": 167,
   "id": "a2c190d2-ac43-47ec-85a3-a729f9406ab7",
   "metadata": {},
   "outputs": [],
   "source": [
    "t = Test()"
   ]
  },
  {
   "cell_type": "code",
   "execution_count": 168,
   "id": "670eb7fe-6510-4951-ab9e-f3871b2b1795",
   "metadata": {},
   "outputs": [],
   "source": [
    "t.stat()"
   ]
  },
  {
   "cell_type": "code",
   "execution_count": 169,
   "id": "47ab8ca8-921b-42f1-b22e-775867a9bd75",
   "metadata": {},
   "outputs": [
    {
     "data": {
      "text/plain": [
       "mappingproxy({'__module__': '__main__',\n",
       "              'b': 20,\n",
       "              'stat': <staticmethod(<function Test.stat at 0x000001C3E76167A0>)>,\n",
       "              '__dict__': <attribute '__dict__' of 'Test' objects>,\n",
       "              '__weakref__': <attribute '__weakref__' of 'Test' objects>,\n",
       "              '__doc__': None})"
      ]
     },
     "execution_count": 169,
     "metadata": {},
     "output_type": "execute_result"
    }
   ],
   "source": [
    "Test.__dict__"
   ]
  },
  {
   "cell_type": "markdown",
   "id": "4a09d747-6ade-494b-b30a-9811dc54286c",
   "metadata": {},
   "source": [
    "### Local variable (Method level variable)\n",
    "\n",
    "- The variable which are local to any method are called local variable\n",
    "- The local variable can be accessed inside the method only in which they have been defined "
   ]
  },
  {
   "cell_type": "code",
   "execution_count": 170,
   "id": "a85e545b-6ec0-4b28-87f1-c576ff9bb119",
   "metadata": {},
   "outputs": [],
   "source": [
    "class Test:\n",
    "\n",
    "    def __init__(self):\n",
    "        self.a = 10 # instance variable \n",
    "        b = 10 # local variable \n",
    "        print(dir())"
   ]
  },
  {
   "cell_type": "code",
   "execution_count": 171,
   "id": "231dacd5-f2e7-4b47-ad00-6f68fd1f5e1e",
   "metadata": {},
   "outputs": [
    {
     "name": "stdout",
     "output_type": "stream",
     "text": [
      "['b', 'self']\n"
     ]
    }
   ],
   "source": [
    "t = Test()"
   ]
  },
  {
   "cell_type": "code",
   "execution_count": 172,
   "id": "5c38f531-d7ac-4f5a-af4a-46f8f732fb10",
   "metadata": {},
   "outputs": [
    {
     "data": {
      "text/plain": [
       "{'a': 10}"
      ]
     },
     "execution_count": 172,
     "metadata": {},
     "output_type": "execute_result"
    }
   ],
   "source": [
    "t.__dict__"
   ]
  },
  {
   "cell_type": "code",
   "execution_count": 173,
   "id": "b35203fa-a238-4e91-b55f-f4924d3d3bcb",
   "metadata": {},
   "outputs": [
    {
     "name": "stdout",
     "output_type": "stream",
     "text": [
      "['b', 'self']\n"
     ]
    }
   ],
   "source": [
    "t1 = Test()"
   ]
  },
  {
   "cell_type": "code",
   "execution_count": 175,
   "id": "c47b67d2-be7e-422c-95c4-c6627d85c0d5",
   "metadata": {},
   "outputs": [
    {
     "data": {
      "text/plain": [
       "10"
      ]
     },
     "execution_count": 175,
     "metadata": {},
     "output_type": "execute_result"
    }
   ],
   "source": [
    "t1.a"
   ]
  },
  {
   "cell_type": "code",
   "execution_count": 184,
   "id": "64891fae-70c1-45f3-95e5-3752bfb0ff61",
   "metadata": {},
   "outputs": [],
   "source": [
    "class Test:\n",
    "    def __init__(self):\n",
    "        self.a = 55\n",
    "        b = 100\n",
    "        print(b)\n",
    "        print(self.a)\n",
    "\n",
    "    def local(self):\n",
    "        print(self.a)\n",
    "        print(b)"
   ]
  },
  {
   "cell_type": "code",
   "execution_count": 185,
   "id": "9caadf79-911f-4dea-b509-0c63b652c705",
   "metadata": {},
   "outputs": [
    {
     "name": "stdout",
     "output_type": "stream",
     "text": [
      "100\n",
      "55\n"
     ]
    }
   ],
   "source": [
    "t = Test()"
   ]
  },
  {
   "cell_type": "code",
   "execution_count": 186,
   "id": "5a3ed528-3c65-4a0b-ad0c-57b9ff1733e8",
   "metadata": {},
   "outputs": [
    {
     "name": "stdout",
     "output_type": "stream",
     "text": [
      "55\n"
     ]
    },
    {
     "ename": "NameError",
     "evalue": "name 'b' is not defined",
     "output_type": "error",
     "traceback": [
      "\u001b[1;31m---------------------------------------------------------------------------\u001b[0m",
      "\u001b[1;31mNameError\u001b[0m                                 Traceback (most recent call last)",
      "Cell \u001b[1;32mIn[186], line 1\u001b[0m\n\u001b[1;32m----> 1\u001b[0m t\u001b[38;5;241m.\u001b[39mlocal()\n",
      "Cell \u001b[1;32mIn[184], line 10\u001b[0m, in \u001b[0;36mTest.local\u001b[1;34m(self)\u001b[0m\n\u001b[0;32m      8\u001b[0m \u001b[38;5;28;01mdef\u001b[39;00m \u001b[38;5;21mlocal\u001b[39m(\u001b[38;5;28mself\u001b[39m):\n\u001b[0;32m      9\u001b[0m     \u001b[38;5;28mprint\u001b[39m(\u001b[38;5;28mself\u001b[39m\u001b[38;5;241m.\u001b[39ma)\n\u001b[1;32m---> 10\u001b[0m     \u001b[38;5;28mprint\u001b[39m(b)\n",
      "\u001b[1;31mNameError\u001b[0m: name 'b' is not defined"
     ]
    }
   ],
   "source": [
    "t.local()"
   ]
  },
  {
   "cell_type": "code",
   "execution_count": 187,
   "id": "2b5bb499-576b-4296-aa3e-c0d20b71b64a",
   "metadata": {},
   "outputs": [],
   "source": [
    "class Test:\n",
    "    def __init__(self):\n",
    "        self.a = 10\n",
    "        b = 15\n",
    "        print(self.a)\n",
    "        print(b)\n",
    "\n",
    "    def m1(self):\n",
    "        c = 22\n",
    "        print(self.a)\n",
    "        print(c)\n",
    "\n",
    "    def m2(self):\n",
    "        d = 33\n",
    "        print(self.a)\n",
    "        print(d)"
   ]
  },
  {
   "cell_type": "code",
   "execution_count": 188,
   "id": "d30d828b-b6dd-4724-8248-6edcc75aa203",
   "metadata": {},
   "outputs": [
    {
     "name": "stdout",
     "output_type": "stream",
     "text": [
      "10\n",
      "15\n"
     ]
    }
   ],
   "source": [
    "t = Test()"
   ]
  },
  {
   "cell_type": "code",
   "execution_count": 189,
   "id": "306e0b2c-351c-41e5-90b3-f945c815e286",
   "metadata": {},
   "outputs": [
    {
     "name": "stdout",
     "output_type": "stream",
     "text": [
      "10\n",
      "22\n"
     ]
    }
   ],
   "source": [
    "t.m1()"
   ]
  },
  {
   "cell_type": "code",
   "execution_count": 190,
   "id": "5d423a18-1d0f-422d-af56-fdca154b4b55",
   "metadata": {},
   "outputs": [
    {
     "name": "stdout",
     "output_type": "stream",
     "text": [
      "10\n",
      "33\n"
     ]
    }
   ],
   "source": [
    "t.m2()"
   ]
  },
  {
   "cell_type": "code",
   "execution_count": 196,
   "id": "f6a867f2-e6a0-4748-b708-1569009a0f9e",
   "metadata": {},
   "outputs": [],
   "source": [
    "class Test:\n",
    "    a = 10\n",
    "    def dummy(self):\n",
    "        self.b = 22\n",
    "        print(self.b)\n",
    "\n",
    "    @classmethod\n",
    "    def m1(cls):\n",
    "        c = 44\n",
    "        print(c)\n",
    "        print(cls.a)\n",
    "\n",
    "    @staticmethod\n",
    "    def stat():\n",
    "        d = 55\n",
    "        Test.m = 2000\n",
    "        print(Test.a)\n",
    "        print(d)\n",
    "\n",
    "    def m3(self):\n",
    "        print(self.b)"
   ]
  },
  {
   "cell_type": "code",
   "execution_count": null,
   "id": "f7dbed30-0c08-4d3c-9173-5f0ec9c42b14",
   "metadata": {},
   "outputs": [],
   "source": [
    "Static - a, m\n",
    "instance = b\n",
    "local c and d"
   ]
  },
  {
   "cell_type": "code",
   "execution_count": 192,
   "id": "4d90096c-e8bb-44e2-a80c-d5543785e3a6",
   "metadata": {},
   "outputs": [],
   "source": [
    "t = Test()"
   ]
  },
  {
   "cell_type": "code",
   "execution_count": 199,
   "id": "10c3c05d-5b06-4dc4-a99d-6de1b5c8b296",
   "metadata": {},
   "outputs": [
    {
     "name": "stdout",
     "output_type": "stream",
     "text": [
      "22\n"
     ]
    }
   ],
   "source": [
    "t.dummy()"
   ]
  },
  {
   "cell_type": "code",
   "execution_count": 195,
   "id": "812a04f0-fa14-42a7-b6d8-3094d697a4f3",
   "metadata": {},
   "outputs": [
    {
     "name": "stdout",
     "output_type": "stream",
     "text": [
      "44\n",
      "10\n"
     ]
    }
   ],
   "source": [
    "t.m1()"
   ]
  },
  {
   "cell_type": "code",
   "execution_count": 197,
   "id": "86f3bd70-0137-4c04-98a9-d5d5c033facf",
   "metadata": {},
   "outputs": [
    {
     "name": "stdout",
     "output_type": "stream",
     "text": [
      "10\n",
      "55\n"
     ]
    }
   ],
   "source": [
    "t.stat()"
   ]
  },
  {
   "cell_type": "code",
   "execution_count": 200,
   "id": "37d0a2bf-c7d0-4767-b94f-9402d46bf826",
   "metadata": {},
   "outputs": [
    {
     "name": "stdout",
     "output_type": "stream",
     "text": [
      "22\n"
     ]
    }
   ],
   "source": [
    "t.m3()"
   ]
  },
  {
   "cell_type": "code",
   "execution_count": null,
   "id": "38d9d0cf-a253-45b7-a62c-2ff2c365ac6e",
   "metadata": {},
   "outputs": [],
   "source": [
    "Instane ----> for an object\n",
    "Static ----> for a class\n",
    "local ----> a method "
   ]
  },
  {
   "cell_type": "markdown",
   "id": "48a87a33-9056-4ea1-86ef-7eeee819ee82",
   "metadata": {},
   "source": [
    "### Types of Methods \n",
    "\n",
    "- Instance Method\n",
    "- Class method\n",
    "- Static method "
   ]
  },
  {
   "cell_type": "markdown",
   "id": "1bf19468-d4c7-4157-93c6-71b199834bdc",
   "metadata": {},
   "source": [
    "### Instance Method"
   ]
  },
  {
   "cell_type": "markdown",
   "id": "18a17333-76be-4332-95ce-0ac9048fcd4c",
   "metadata": {},
   "source": [
    "- The method that uses an instance variable are known as Instance method\n",
    "- Instance methods are used to declare, access, modify or delete an instance variable \n",
    "- An instance method must have __self__ as the first argumnet"
   ]
  },
  {
   "cell_type": "code",
   "execution_count": 216,
   "id": "39eb9ae6-1856-49ec-8594-e74a95a4d944",
   "metadata": {},
   "outputs": [],
   "source": [
    "class Student:\n",
    "\n",
    "    def __init__(self, name, marks):\n",
    "        self.name = name\n",
    "        self.marks = marks\n",
    "    def display(self):\n",
    "        print(f'My name is {self.name}')\n",
    "        print(f'I have scored {self.marks} marks')"
   ]
  },
  {
   "cell_type": "code",
   "execution_count": 217,
   "id": "31f312ae-dcbd-44d7-ba25-efa4afd8035d",
   "metadata": {},
   "outputs": [],
   "source": [
    "s1 = Student('Prabha', 88)"
   ]
  },
  {
   "cell_type": "code",
   "execution_count": 218,
   "id": "72967b3f-8187-45e8-a305-d998ef4bfc7f",
   "metadata": {},
   "outputs": [],
   "source": [
    "s2 = Student('Kuldeep', 79)"
   ]
  },
  {
   "cell_type": "code",
   "execution_count": 219,
   "id": "32290042-2a66-46d4-8ed2-54642a593b1c",
   "metadata": {},
   "outputs": [
    {
     "name": "stdout",
     "output_type": "stream",
     "text": [
      "My name is Prabha\n",
      "I have scored 88 marks\n"
     ]
    }
   ],
   "source": [
    "s1.display()"
   ]
  },
  {
   "cell_type": "code",
   "execution_count": 220,
   "id": "8710adf9-5f50-4519-aa23-827a77fd856f",
   "metadata": {},
   "outputs": [
    {
     "name": "stdout",
     "output_type": "stream",
     "text": [
      "My name is Kuldeep\n",
      "I have scored 79 marks\n"
     ]
    }
   ],
   "source": [
    "s2.display()"
   ]
  },
  {
   "cell_type": "code",
   "execution_count": 221,
   "id": "5782ac25-ebf9-4a66-a918-bf5711f5ab5b",
   "metadata": {},
   "outputs": [],
   "source": [
    "class Student:\n",
    "\n",
    "    def __init__(self, name, marks):\n",
    "        self.name = name\n",
    "        self.marks = marks\n",
    "    def display(self):\n",
    "        print(f'My name is {self.name}')\n",
    "        print(f'I have scored {self.marks} marks')\n",
    "\n",
    "    def grade(self):\n",
    "        if self.marks >= 60:\n",
    "            print('First Division')\n",
    "        elif self.marks<60 and self.marks>=45:\n",
    "            print('Second Division')\n",
    "        elif self.marks<45 and self.marks>= 33:\n",
    "            print('Third Division')\n",
    "        else:\n",
    "            print('Fail')"
   ]
  },
  {
   "cell_type": "code",
   "execution_count": 222,
   "id": "5761b286-c3ac-4447-afbb-ad66eeb337fd",
   "metadata": {},
   "outputs": [],
   "source": [
    "s1 = Student('Adam', 45)\n",
    "s2 = Student('Frank', 62)\n",
    "s3 = Student('Tina', 26)\n",
    "s4 = Student('Emma', 41)"
   ]
  },
  {
   "cell_type": "code",
   "execution_count": 223,
   "id": "08ef134a-cc7a-4844-921d-4aef3eba7e4f",
   "metadata": {},
   "outputs": [
    {
     "name": "stdout",
     "output_type": "stream",
     "text": [
      "My name is Adam\n",
      "I have scored 45 marks\n"
     ]
    }
   ],
   "source": [
    "s1.display()"
   ]
  },
  {
   "cell_type": "code",
   "execution_count": 224,
   "id": "3ebc7b97-40aa-41e7-8b7b-cb875fcded56",
   "metadata": {},
   "outputs": [
    {
     "name": "stdout",
     "output_type": "stream",
     "text": [
      "Second Division\n"
     ]
    }
   ],
   "source": [
    "s1.grade()"
   ]
  },
  {
   "cell_type": "code",
   "execution_count": 225,
   "id": "6ed1b2f5-b009-4d3e-91a1-e588a4e5160b",
   "metadata": {},
   "outputs": [
    {
     "name": "stdout",
     "output_type": "stream",
     "text": [
      "My name is Frank\n",
      "I have scored 62 marks\n"
     ]
    }
   ],
   "source": [
    "s2.display()"
   ]
  },
  {
   "cell_type": "code",
   "execution_count": 226,
   "id": "dc341ef0-682f-4425-9eab-acd2807d811c",
   "metadata": {},
   "outputs": [
    {
     "name": "stdout",
     "output_type": "stream",
     "text": [
      "First Division\n"
     ]
    }
   ],
   "source": [
    "s2.grade()"
   ]
  },
  {
   "cell_type": "markdown",
   "id": "d320872d-5349-459f-9845-17048cad8b7d",
   "metadata": {},
   "source": [
    "### We can call an instance method inside another instance method "
   ]
  },
  {
   "cell_type": "markdown",
   "id": "3d50aff3-40a5-4971-a6ca-59404480c1fc",
   "metadata": {},
   "source": [
    "#### By using Self "
   ]
  },
  {
   "cell_type": "code",
   "execution_count": 227,
   "id": "f551e38a-596e-465b-99d9-d0cc653ac4c4",
   "metadata": {},
   "outputs": [],
   "source": [
    "class Student:\n",
    "\n",
    "    def __init__(self, name, marks):\n",
    "        self.name = name\n",
    "        self.marks = marks\n",
    "    def display(self):\n",
    "        print(f'My name is {self.name}')\n",
    "        print(f'I have scored {self.marks} marks')\n",
    "        self.grade() # We are calling an instance method inside another instance method \n",
    "\n",
    "    def grade(self):\n",
    "        if self.marks >= 60:\n",
    "            print('First Division')\n",
    "        elif self.marks<60 and self.marks>=45:\n",
    "            print('Second Division')\n",
    "        elif self.marks<45 and self.marks>= 33:\n",
    "            print('Third Division')\n",
    "        else:\n",
    "            print('Fail')"
   ]
  },
  {
   "cell_type": "code",
   "execution_count": 229,
   "id": "96176a3e-75a4-4ff7-835c-ca78dce9bfea",
   "metadata": {},
   "outputs": [],
   "source": [
    "s1 = Student('Adam', 45)\n",
    "s2 = Student('Frank', 62)\n",
    "s3 = Student('Tina', 26)\n",
    "s4 = Student('Emma', 41)"
   ]
  },
  {
   "cell_type": "code",
   "execution_count": 230,
   "id": "a223a44a-2502-4983-9b33-5bd4762f213b",
   "metadata": {},
   "outputs": [
    {
     "name": "stdout",
     "output_type": "stream",
     "text": [
      "My name is Adam\n",
      "I have scored 45 marks\n",
      "Second Division\n"
     ]
    }
   ],
   "source": [
    "s1.display()"
   ]
  },
  {
   "cell_type": "code",
   "execution_count": 231,
   "id": "1c83828d-7841-4964-8e55-132afa4b2fb0",
   "metadata": {},
   "outputs": [
    {
     "name": "stdout",
     "output_type": "stream",
     "text": [
      "My name is Frank\n",
      "I have scored 62 marks\n",
      "First Division\n"
     ]
    }
   ],
   "source": [
    "s2.display()"
   ]
  },
  {
   "cell_type": "code",
   "execution_count": 232,
   "id": "01687d11-b7fe-4904-bada-42b914148f3f",
   "metadata": {},
   "outputs": [
    {
     "name": "stdout",
     "output_type": "stream",
     "text": [
      "My name is Tina\n",
      "I have scored 26 marks\n",
      "Fail\n"
     ]
    }
   ],
   "source": [
    "s3.display()"
   ]
  },
  {
   "cell_type": "code",
   "execution_count": 233,
   "id": "e6a834aa-ee50-4e9e-b1b0-7930989e30b1",
   "metadata": {},
   "outputs": [
    {
     "name": "stdout",
     "output_type": "stream",
     "text": [
      "My name is Emma\n",
      "I have scored 41 marks\n",
      "Third Division\n"
     ]
    }
   ],
   "source": [
    "s4.display()"
   ]
  },
  {
   "cell_type": "markdown",
   "id": "792f11b1-1b4c-4f4c-93b8-f6df432f9a1a",
   "metadata": {},
   "source": [
    "### We can call an instance method inside the constructor as well\n",
    "\n",
    "#### By using Self \n"
   ]
  },
  {
   "cell_type": "code",
   "execution_count": 234,
   "id": "e2ce06ab-4b42-44a6-b40d-0b137b3d976d",
   "metadata": {},
   "outputs": [],
   "source": [
    "class Student:\n",
    "\n",
    "    def __init__(self, name, marks):\n",
    "        self.name = name\n",
    "        self.marks = marks\n",
    "\n",
    "        self.display() \n",
    "   \n",
    "    def display(self):\n",
    "        print(f'My name is {self.name}')\n",
    "        print(f'I have scored {self.marks} marks')\n",
    "        self.grade() # We are calling an instance method inside another instance method \n",
    "\n",
    "    def grade(self):\n",
    "        if self.marks >= 60:\n",
    "            print('First Division')\n",
    "        elif self.marks<60 and self.marks>=45:\n",
    "            print('Second Division')\n",
    "        elif self.marks<45 and self.marks>= 33:\n",
    "            print('Third Division')\n",
    "        else:\n",
    "            print('Fail')"
   ]
  },
  {
   "cell_type": "code",
   "execution_count": 235,
   "id": "da37efb2-b804-4d19-b79d-075eadb3f6e6",
   "metadata": {},
   "outputs": [
    {
     "name": "stdout",
     "output_type": "stream",
     "text": [
      "My name is Adam\n",
      "I have scored 45 marks\n",
      "Second Division\n"
     ]
    }
   ],
   "source": [
    "s1 = Student('Adam', 45)"
   ]
  },
  {
   "cell_type": "markdown",
   "id": "9175bcad-ff84-43bc-a6bb-24b0bb5d7d2e",
   "metadata": {},
   "source": [
    "### Setter and Getter Method \n",
    "\n",
    "- Setter and getter methods are instance method\n",
    "\n",
    "#### Setter Method\n",
    "\n",
    "- These methods are used to set (declare or modify) an instance variable\n",
    "\n",
    "#### Getter Method \n",
    "\n",
    "- These methods are used to access the instance variable "
   ]
  },
  {
   "cell_type": "code",
   "execution_count": 236,
   "id": "539b1905-331e-4b4b-a6c5-e31e684934a6",
   "metadata": {},
   "outputs": [],
   "source": [
    "class Details:\n",
    "\n",
    "    def __init__(self, name, city = None):\n",
    "        self.name = name\n",
    "        self.city = city\n",
    "\n",
    "    def set_city(self, city):\n",
    "        self.city = city\n",
    "\n",
    "    def get_city(self):\n",
    "        print(self.city)"
   ]
  },
  {
   "cell_type": "code",
   "execution_count": 238,
   "id": "f1c2c715-4f42-43cf-8814-9eac4418cb89",
   "metadata": {},
   "outputs": [],
   "source": [
    "e = Details('Kuldeep')"
   ]
  },
  {
   "cell_type": "code",
   "execution_count": 239,
   "id": "5ccac8eb-c1fe-4122-a5a2-1b72649e5526",
   "metadata": {},
   "outputs": [
    {
     "name": "stdout",
     "output_type": "stream",
     "text": [
      "None\n"
     ]
    }
   ],
   "source": [
    "e.get_city()"
   ]
  },
  {
   "cell_type": "code",
   "execution_count": 241,
   "id": "e378ca74-4e4f-4c9a-aef0-695aca6abe1e",
   "metadata": {},
   "outputs": [],
   "source": [
    "e.set_city('Chandigarh')"
   ]
  },
  {
   "cell_type": "code",
   "execution_count": 242,
   "id": "c44bfa42-2f37-4086-beac-004604c8597c",
   "metadata": {},
   "outputs": [
    {
     "name": "stdout",
     "output_type": "stream",
     "text": [
      "Chandigarh\n"
     ]
    }
   ],
   "source": [
    "e.get_city()"
   ]
  },
  {
   "cell_type": "code",
   "execution_count": null,
   "id": "ec772085-2a70-4c8f-8c5f-4cbbb26d510e",
   "metadata": {},
   "outputs": [],
   "source": [
    "WAP to create a class Movie, name, hero , heroine, rating, display  "
   ]
  },
  {
   "cell_type": "code",
   "execution_count": 243,
   "id": "4666fabc-016f-436a-a26f-2e4f03eb769f",
   "metadata": {},
   "outputs": [],
   "source": [
    "class Movie:\n",
    "    def __init__(self, name, hero, heroine, rating):\n",
    "        self.name = name\n",
    "        self.hero = hero\n",
    "        self.heroine = heroine\n",
    "        self.rating = rating\n",
    "\n",
    "    def display(self):\n",
    "        print(f'movie {self.movie} has {self.hero} and {self.heroine} while it rates {self.rating}')\n"
   ]
  },
  {
   "cell_type": "code",
   "execution_count": 254,
   "id": "cf5a1931-f1a0-4300-b9cc-a19a3f635207",
   "metadata": {},
   "outputs": [],
   "source": [
    "names = ['Titanic', 'Bhahubali', 'Life of Pi', 'Sholey', 'Avengers']\n",
    "hero = ['Leonardo', 'Prabhas', 'Irfan', 'Amitabh', 'RDJ']\n",
    "heroine = ['Rose', 'anushka', None, 'Jaya', 'Natasha']\n",
    "rating = [8.2, 8.4, 7.8, 7.5, 7.4]"
   ]
  },
  {
   "cell_type": "code",
   "execution_count": null,
   "id": "f43de690-7cb3-41e2-9f3e-30f9e271976b",
   "metadata": {},
   "outputs": [],
   "source": [
    "# Create a getter method that shows the movie name and ratings"
   ]
  },
  {
   "cell_type": "code",
   "execution_count": 261,
   "id": "b7c62191-b1c4-4d85-af95-0a3cb4a00740",
   "metadata": {},
   "outputs": [],
   "source": [
    "class Movie:\n",
    "    def __init__(self, name, hero, heroine, rating):\n",
    "        self.name = name\n",
    "        self.hero = hero\n",
    "        self.heroine = heroine\n",
    "        self.rating = rating\n",
    "\n",
    "    def display(self):\n",
    "        print(f'movie {self.name} has {self.hero} and {self.heroine} while it rates {self.rating}')\n",
    "\n",
    "    def get_rating(self):\n",
    "        print(self.rating)"
   ]
  },
  {
   "cell_type": "code",
   "execution_count": 255,
   "id": "7b41f489-e84c-4e4c-8505-4b327a76b4ab",
   "metadata": {},
   "outputs": [
    {
     "data": {
      "text/plain": [
       "['Leonardo', 'Prabhas', 'Irfan', 'Amitabh', 'RDJ']"
      ]
     },
     "execution_count": 255,
     "metadata": {},
     "output_type": "execute_result"
    }
   ],
   "source": [
    "hero"
   ]
  },
  {
   "cell_type": "code",
   "execution_count": 256,
   "id": "9e8ad936-e8f4-44db-b1db-4a71f65a9cab",
   "metadata": {},
   "outputs": [
    {
     "data": {
      "text/plain": [
       "['Rose', 'anushka', None, 'Jaya', 'Natasha']"
      ]
     },
     "execution_count": 256,
     "metadata": {},
     "output_type": "execute_result"
    }
   ],
   "source": [
    "heroine"
   ]
  },
  {
   "cell_type": "code",
   "execution_count": 263,
   "id": "b261972d-b5b5-40df-be3d-678fdbb00167",
   "metadata": {},
   "outputs": [],
   "source": [
    "mv_lst = [] \n",
    "\n",
    "for i in zip(names, hero, heroine, rating):\n",
    "    mv_lst.append(Movie(*i))"
   ]
  },
  {
   "cell_type": "code",
   "execution_count": 264,
   "id": "10a8f4b9-ec64-4489-884e-7cc10e5219d8",
   "metadata": {},
   "outputs": [
    {
     "name": "stdout",
     "output_type": "stream",
     "text": [
      "movie Titanic has Leonardo and Rose while it rates 8.2\n",
      "*************************\n",
      "\n",
      "movie Bhahubali has Prabhas and anushka while it rates 8.4\n",
      "*************************\n",
      "\n",
      "movie Life of Pi has Irfan and None while it rates 7.8\n",
      "*************************\n",
      "\n",
      "movie Sholey has Amitabh and Jaya while it rates 7.5\n",
      "*************************\n",
      "\n",
      "movie Avengers has RDJ and Natasha while it rates 7.4\n",
      "*************************\n",
      "\n"
     ]
    }
   ],
   "source": [
    "for i in mv_lst:\n",
    "    i.display()\n",
    "    print('*'*25)\n",
    "    print()"
   ]
  },
  {
   "cell_type": "code",
   "execution_count": 265,
   "id": "47b04758-f5c6-4b9f-b079-beb924707515",
   "metadata": {},
   "outputs": [
    {
     "name": "stdout",
     "output_type": "stream",
     "text": [
      "Titanic->>8.2\n",
      "Bhahubali->>8.4\n",
      "Life of Pi->>7.8\n",
      "Sholey->>7.5\n",
      "Avengers->>7.4\n"
     ]
    }
   ],
   "source": [
    "for i in mv_lst:\n",
    "    print(i.name, end = '->>')\n",
    "    i.get_rating()"
   ]
  },
  {
   "cell_type": "markdown",
   "id": "c5a37d3c-c664-49bc-bdd4-7b15758dfb4e",
   "metadata": {},
   "source": [
    "### Class Method \n",
    "\n",
    "- If we have only the static variable then we should go with the class method\n"
   ]
  },
  {
   "cell_type": "code",
   "execution_count": null,
   "id": "9d739d42-77f9-45aa-8057-8d6deb888aca",
   "metadata": {},
   "outputs": [],
   "source": [
    "Instance variable ----> Instance Method \n",
    "Instance variable + static variable ---> Instance variable \n",
    "Instance variablke + local variable ---> Instance variable \n",
    "Static Variable -----> Class method\n",
    "Static and local variable ----> Class method \n",
    "Local variable ----> Static method "
   ]
  },
  {
   "cell_type": "markdown",
   "id": "d88b5b68-73b3-4ad4-9faa-92bb48ca9ef3",
   "metadata": {},
   "source": [
    "### How to define a class method \n",
    "\n",
    "__Syntax:__\n",
    "\n",
    "            @classmethod\n",
    "            def func_name(cls):\n",
    "                code\n",
    "                code\n",
    "\n",
    "- cls is a special variable that points to the current class "
   ]
  },
  {
   "cell_type": "code",
   "execution_count": 266,
   "id": "21fd5d96-6083-4acd-9982-5e40c221b323",
   "metadata": {},
   "outputs": [],
   "source": [
    "class Test:\n",
    "    a = 55\n",
    "\n",
    "    @classmethod \n",
    "    def method(cls):\n",
    "        print('I am a method')\n",
    "        print(cls.a)"
   ]
  },
  {
   "cell_type": "code",
   "execution_count": 267,
   "id": "784765cf-b86e-404c-b9c0-8223f6a7b8ac",
   "metadata": {},
   "outputs": [
    {
     "data": {
      "text/plain": [
       "mappingproxy({'__module__': '__main__',\n",
       "              'a': 55,\n",
       "              'method': <classmethod(<function Test.method at 0x000001C3E5C50C20>)>,\n",
       "              '__dict__': <attribute '__dict__' of 'Test' objects>,\n",
       "              '__weakref__': <attribute '__weakref__' of 'Test' objects>,\n",
       "              '__doc__': None})"
      ]
     },
     "execution_count": 267,
     "metadata": {},
     "output_type": "execute_result"
    }
   ],
   "source": [
    "Test.__dict__"
   ]
  },
  {
   "cell_type": "code",
   "execution_count": 268,
   "id": "35444b9f-bfae-4c8b-9bdd-b97366cfa369",
   "metadata": {},
   "outputs": [],
   "source": [
    "class Test:\n",
    "    a = 55\n",
    "\n",
    "    @classmethod \n",
    "    def method(cls):\n",
    "        b = 22\n",
    "        print(dir())"
   ]
  },
  {
   "cell_type": "code",
   "execution_count": 269,
   "id": "48db5c47-3696-413f-a14f-e0dd38276cd1",
   "metadata": {},
   "outputs": [
    {
     "name": "stdout",
     "output_type": "stream",
     "text": [
      "['b', 'cls']\n"
     ]
    }
   ],
   "source": [
    "Test.method()"
   ]
  },
  {
   "cell_type": "markdown",
   "id": "4fda2bb1-a46b-463e-b3a0-caacce1f7f0d",
   "metadata": {},
   "source": [
    "#### How to access a static variable inside a class method\n",
    "\n",
    "- By using class name or by using cls variable we can access or modify a static variable"
   ]
  },
  {
   "cell_type": "code",
   "execution_count": 270,
   "id": "475a29dd-355b-4969-997b-6fac2a73b800",
   "metadata": {},
   "outputs": [],
   "source": [
    "class Test:\n",
    "    a = 55\n",
    "\n",
    "    @classmethod \n",
    "    def m1(cls):\n",
    "        print(cls.a)\n",
    "        print(Test.a)"
   ]
  },
  {
   "cell_type": "code",
   "execution_count": 271,
   "id": "53e3e8df-fb7a-4620-adcc-f0b2d0d5d155",
   "metadata": {},
   "outputs": [
    {
     "name": "stdout",
     "output_type": "stream",
     "text": [
      "55\n",
      "55\n"
     ]
    }
   ],
   "source": [
    "Test.m1()"
   ]
  },
  {
   "cell_type": "code",
   "execution_count": 272,
   "id": "86071370-a31c-47e8-82e2-acea21fcd414",
   "metadata": {},
   "outputs": [],
   "source": [
    "class Test:\n",
    "    a = 55\n",
    "\n",
    "    @classmethod \n",
    "    def m1(cls):\n",
    "        print(cls.a)\n",
    "        cls.a = 22\n",
    "        print(Test.a)"
   ]
  },
  {
   "cell_type": "code",
   "execution_count": 273,
   "id": "49c02cc7-2a3e-430b-8496-3bdeed2c5667",
   "metadata": {},
   "outputs": [
    {
     "name": "stdout",
     "output_type": "stream",
     "text": [
      "55\n",
      "22\n"
     ]
    }
   ],
   "source": [
    "Test.m1()"
   ]
  },
  {
   "cell_type": "markdown",
   "id": "5391f0fe-c593-4b3e-a9d1-5024bca85f4c",
   "metadata": {},
   "source": [
    "### Static Method \n",
    "\n",
    "- If any method is using neither instance variable nor static variable\n",
    "- Then such a method is known as static method"
   ]
  },
  {
   "cell_type": "markdown",
   "id": "e1b3aa2f-79fb-441e-b87d-4c7f94b1c9ed",
   "metadata": {},
   "source": [
    "#### How to declare a static method \n",
    "\n",
    "__Syntax:__\n",
    "\n",
    "            @staticmethod\n",
    "            def method_name():\n",
    "                code\n",
    "                code\n",
    "    \n",
    "            "
   ]
  },
  {
   "cell_type": "markdown",
   "id": "cc04d36a-2a5a-47e8-aded-56b2a38869e0",
   "metadata": {},
   "source": [
    "### Calling a static method \n",
    "\n",
    "- By using class name or we can use the reference variable "
   ]
  },
  {
   "cell_type": "code",
   "execution_count": 274,
   "id": "27ca67e8-c810-4a21-ad1d-ae04607599e8",
   "metadata": {},
   "outputs": [],
   "source": [
    "class Test:\n",
    "    @staticmethod\n",
    "    def m1():\n",
    "        print('Some Method')"
   ]
  },
  {
   "cell_type": "code",
   "execution_count": 275,
   "id": "508371ee-5368-4ea1-ac6e-f476456f5c2a",
   "metadata": {},
   "outputs": [
    {
     "name": "stdout",
     "output_type": "stream",
     "text": [
      "Some Method\n"
     ]
    }
   ],
   "source": [
    "Test.m1()"
   ]
  },
  {
   "cell_type": "code",
   "execution_count": 276,
   "id": "6e82e756-7b47-4c01-8e8d-ef4d3699ec6d",
   "metadata": {},
   "outputs": [],
   "source": [
    "t = Test()"
   ]
  },
  {
   "cell_type": "code",
   "execution_count": 277,
   "id": "5d489b26-4a65-4e90-8546-6f55797913a3",
   "metadata": {},
   "outputs": [
    {
     "name": "stdout",
     "output_type": "stream",
     "text": [
      "Some Method\n"
     ]
    }
   ],
   "source": [
    "t.m1()"
   ]
  },
  {
   "cell_type": "code",
   "execution_count": 278,
   "id": "f6098032-eef7-4aac-a053-bba8e43fd949",
   "metadata": {},
   "outputs": [],
   "source": [
    "class Test:\n",
    "    @staticmethod\n",
    "    def m1(a): # static \n",
    "        print(a)"
   ]
  },
  {
   "cell_type": "code",
   "execution_count": 279,
   "id": "e0009e26-8c95-40a8-bd40-9f3bc7982135",
   "metadata": {},
   "outputs": [
    {
     "name": "stdout",
     "output_type": "stream",
     "text": [
      "10\n"
     ]
    }
   ],
   "source": [
    "Test.m1(10)"
   ]
  },
  {
   "cell_type": "markdown",
   "id": "ee7208d4-0e1f-4f34-8a9a-c9b2d01f2201",
   "metadata": {},
   "source": [
    "- When we use @staticmethod decorator then \n",
    "    - If we call using the class name or by using the reference variable \n",
    "    - In both the cases, it will be a static method\n",
    " \n",
    "- When we don't use @staticmethod decorator then\n",
    "  \n",
    "  - It will be a static method of we call it using class name\n",
    "    - It will be the instance method, if we call it using the reference variable"
   ]
  },
  {
   "cell_type": "code",
   "execution_count": null,
   "id": "b2969143-cce6-45f8-b55c-41640d9fba2f",
   "metadata": {},
   "outputs": [],
   "source": []
  }
 ],
 "metadata": {
  "kernelspec": {
   "display_name": "Python 3 (ipykernel)",
   "language": "python",
   "name": "python3"
  },
  "language_info": {
   "codemirror_mode": {
    "name": "ipython",
    "version": 3
   },
   "file_extension": ".py",
   "mimetype": "text/x-python",
   "name": "python",
   "nbconvert_exporter": "python",
   "pygments_lexer": "ipython3",
   "version": "3.12.4"
  }
 },
 "nbformat": 4,
 "nbformat_minor": 5
}
