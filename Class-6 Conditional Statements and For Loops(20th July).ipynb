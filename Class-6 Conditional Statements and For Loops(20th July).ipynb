{
 "cells": [
  {
   "cell_type": "markdown",
   "id": "e30417fe-1131-4c81-b58b-1ff2d2a3bd54",
   "metadata": {},
   "source": [
    "### Conditional Statements or Control Statements \n",
    "\n",
    "- They are used when we want some piece of code to get executed only if a particular condition is either True or False\n",
    "- __if__ keyword is used to write a conditional statement\n",
    "\n",
    "#### Different types of conditional statements \n",
    "\n",
    "- if condition\n",
    "- if...else condition\n",
    "- multiple if condition\n",
    "- if...elif..else condition \n",
    "- Nested if...else condition or Nested if...elif...else condition "
   ]
  },
  {
   "cell_type": "markdown",
   "id": "0b084e9f-3c01-40d1-8762-e310446eadba",
   "metadata": {},
   "source": [
    "### Indentations \n",
    "\n",
    "- __Suite:__ - A group of statements written together in python\n",
    "- Indentation refers to the space that are used in the beginning of a statement, the statements with same indentations belong to the same suite\n",
    "- By default, python provides 4 spaces but it can be increased or decreased by the programmer "
   ]
  },
  {
   "cell_type": "markdown",
   "id": "a3a8519e-eba7-4fc1-88c9-46a26ae17d37",
   "metadata": {},
   "source": [
    "#### 1. if condition statement \n",
    "\n",
    "__Syntax:__\n",
    "\n",
    "        if condition:\n",
    "            code-1\n",
    "            code-2\n",
    "            code-3\n",
    "\n",
    "- When the condition in the if statement is True then the block of code written inside the if block will be executed "
   ]
  },
  {
   "cell_type": "code",
   "execution_count": 4,
   "id": "6e591dc4-f7d2-4569-a264-fd926f467334",
   "metadata": {},
   "outputs": [
    {
     "name": "stdin",
     "output_type": "stream",
     "text": [
      "Enter anything:  a\n"
     ]
    }
   ],
   "source": [
    "num = input('Enter anything: ')\n",
    "\n",
    "if num.isdigit():\n",
    "    if int(num)%2 == 0:\n",
    "        print(f'{num} is an even number')"
   ]
  },
  {
   "cell_type": "code",
   "execution_count": 5,
   "id": "04528b2a-f696-4312-8f63-21a797f21511",
   "metadata": {},
   "outputs": [
    {
     "name": "stdin",
     "output_type": "stream",
     "text": [
      "Enter anything:  2\n"
     ]
    },
    {
     "name": "stdout",
     "output_type": "stream",
     "text": [
      "2 is an even number\n"
     ]
    }
   ],
   "source": [
    "num = input('Enter anything: ')\n",
    "\n",
    "if num.isdigit():\n",
    "    if int(num)%2 == 0:\n",
    "        print(f'{num} is an even number')"
   ]
  },
  {
   "cell_type": "code",
   "execution_count": 6,
   "id": "64cd0e3f-98ef-499b-a2cf-cabf52a11c0d",
   "metadata": {},
   "outputs": [
    {
     "name": "stdin",
     "output_type": "stream",
     "text": [
      "Enter anything:  5\n"
     ]
    },
    {
     "name": "stdout",
     "output_type": "stream",
     "text": [
      "5 is an odd number\n"
     ]
    }
   ],
   "source": [
    "num = input('Enter anything: ')\n",
    "\n",
    "if num.isdigit():\n",
    "    if int(num)%2 != 0:\n",
    "        print(f'{num} is an odd number')"
   ]
  },
  {
   "cell_type": "markdown",
   "id": "94294c19-d9c6-4974-bb00-074857a61be5",
   "metadata": {},
   "source": [
    "2. Multiple if statement \n",
    "\n",
    "__Syntax:__\n",
    "\n",
    "                if condition-1:\n",
    "                    code-1\n",
    "                \n",
    "                if condition-2:\n",
    "                    code-2\n",
    "                \n",
    "                if condition-3:\n",
    "                    code-3\n",
    "                \n",
    "                .\n",
    "                .\n",
    "                .\n",
    "                .\n",
    "                .\n",
    "                .\n",
    "                \n",
    "                if condition-n:\n",
    "                    code-n"
   ]
  },
  {
   "cell_type": "code",
   "execution_count": 12,
   "id": "325905f9-3745-4f98-9358-b617527771ea",
   "metadata": {},
   "outputs": [
    {
     "name": "stdin",
     "output_type": "stream",
     "text": [
      "Enter a number:  30\n"
     ]
    },
    {
     "name": "stdout",
     "output_type": "stream",
     "text": [
      "30 is divisible by 2\n",
      "30 is divisible by 3\n",
      "30 is divisible by 5\n",
      "30 is divisible by 2,3,5\n"
     ]
    }
   ],
   "source": [
    "# take a number from user and tell that the number is divisble by 2 or divisble by 3 or divisible by 5 or by all three of them \n",
    "num = eval(input('Enter a number: '))\n",
    "\n",
    "if num%2 == 0:\n",
    "    print(f'{num} is divisible by 2')\n",
    "\n",
    "\n",
    "if num%3 == 0:\n",
    "    print(f'{num} is divisible by 3')\n",
    "\n",
    "if num%5 == 0:\n",
    "    print(f'{num} is divisible by 5')\n",
    "\n",
    "if num%2 == 0 and num%3 == 0 and num%5 == 0:\n",
    "    print(f'{num} is divisible by 2,3,5')"
   ]
  },
  {
   "cell_type": "markdown",
   "id": "230052f5-80f5-49bc-acb9-04debbbc4c77",
   "metadata": {},
   "source": [
    "### 3. if...else condition \n",
    "\n",
    "__Syntax:__\n",
    "\n",
    "            if condition:\n",
    "                code-1\n",
    "                code-2\n",
    "            else:\n",
    "                code-3\n",
    "                code-4\n",
    "\n",
    "- When the condition in the if statement is True, the code written inside the if block will get executed\n",
    "- When the condition in the if statement is False, the code written inside the else block will get executed"
   ]
  },
  {
   "cell_type": "code",
   "execution_count": 14,
   "id": "597148a4-d01a-4fbf-bc29-ff4b913d9bf6",
   "metadata": {},
   "outputs": [
    {
     "name": "stdin",
     "output_type": "stream",
     "text": [
      "Enter a number:  10\n"
     ]
    },
    {
     "name": "stdout",
     "output_type": "stream",
     "text": [
      "10 is an even number\n"
     ]
    }
   ],
   "source": [
    "num = eval(input('Enter a number: '))\n",
    "\n",
    "if num%2 == 0:\n",
    "    print(f'{num} is an even number')\n",
    "else:\n",
    "    print(f'{num} is an odd number')"
   ]
  },
  {
   "cell_type": "code",
   "execution_count": 16,
   "id": "995086a1-40bf-41d4-b50b-1f0959ebca98",
   "metadata": {},
   "outputs": [
    {
     "name": "stdin",
     "output_type": "stream",
     "text": [
      "Enter a number:  21\n"
     ]
    },
    {
     "name": "stdout",
     "output_type": "stream",
     "text": [
      "21 is an odd number\n"
     ]
    }
   ],
   "source": [
    "num = eval(input('Enter a number: '))\n",
    "\n",
    "if num%2 == 0:\n",
    "    print(f'{num} is an even number')\n",
    "else:\n",
    "    print(f'{num} is an odd number')"
   ]
  },
  {
   "cell_type": "markdown",
   "id": "36feaecc-7b95-4994-8ecb-da074fe184ee",
   "metadata": {},
   "source": [
    "#### 4. if.....elif....else statement \n",
    "\n",
    "__Syntax:__\n",
    "\n",
    "        if condition-1:\n",
    "            code-1\n",
    "        elif condition-2:\n",
    "            code-2\n",
    "        elif condition-3:\n",
    "            code-3\n",
    "        elif condition-4:\n",
    "            code-4\n",
    "        else: \n",
    "            code-5"
   ]
  },
  {
   "cell_type": "code",
   "execution_count": null,
   "id": "5e804f79-d22c-418c-814a-621e3c70879f",
   "metadata": {},
   "outputs": [],
   "source": [
    "# Taken 3 number and you do have to find out the maximum among three\n",
    "a = 10\n",
    "b = 20\n",
    "c = 15\n",
    "\n",
    "if (a>b and a>c):\n",
    "    print(f'{a} is greater than {b} and {c}')\n",
    "elif (b>a and b>c):\n",
    "    print(f'{b} is greater than {a} and {c}')\n",
    "else:\n",
    "    print(f'{c} is greater than {a} and {b}')\n",
    "\n",
    "print('Thankyou')"
   ]
  },
  {
   "cell_type": "markdown",
   "id": "d3b2af68-e598-4adc-9b93-e2250652e0db",
   "metadata": {},
   "source": [
    "#### 5. Nested if...else statement or Nested if..elif..else stataemnt\n",
    "\n",
    "\n",
    "__Syntax for nested if....else :__\n",
    "\n",
    "            if condition:\n",
    "                code\n",
    "                if condition-2:\n",
    "                    code\n",
    "                    if conditon-3\n",
    "                        code\n",
    "                    else:\n",
    "                        code\n",
    "                else:\n",
    "                    code\n",
    "            else:\n",
    "                code\n",
    "\n",
    "__Syntax for nested if..elif...else :__\n",
    "\n",
    "            if condition:\n",
    "                code\n",
    "                if condition:\n",
    "                    code\n",
    "                elif condition:\n",
    "                    code\n",
    "                else:\n",
    "                    code\n",
    "            elif condition:\n",
    "                code\n",
    "                if condition:\n",
    "                    code\n",
    "                elif condition\n",
    "                    code\n",
    "                else:\n",
    "                    code \n",
    "            else:\n",
    "                code"
   ]
  },
  {
   "cell_type": "code",
   "execution_count": 19,
   "id": "b322cd0f-ce34-4a7e-9ab0-b0314f5deb88",
   "metadata": {},
   "outputs": [
    {
     "name": "stdin",
     "output_type": "stream",
     "text": [
      "Enter anything:  a\n"
     ]
    },
    {
     "name": "stdout",
     "output_type": "stream",
     "text": [
      "Invalid Input\n"
     ]
    }
   ],
   "source": [
    "num = input('Enter anything: ')\n",
    "\n",
    "if num.isdigit():\n",
    "    if int(num)%2 == 0:\n",
    "        print(f'{num} is an even number')\n",
    "    else:\n",
    "        print(f'{num} is an odd number')\n",
    "else:\n",
    "    print('Invalid Input')"
   ]
  },
  {
   "cell_type": "code",
   "execution_count": 20,
   "id": "52c0c6f9-6b79-40c1-893e-91647588422a",
   "metadata": {},
   "outputs": [
    {
     "name": "stdin",
     "output_type": "stream",
     "text": [
      "Enter anything:  25\n"
     ]
    },
    {
     "name": "stdout",
     "output_type": "stream",
     "text": [
      "25 is an odd number\n"
     ]
    }
   ],
   "source": [
    "num = input('Enter anything: ')\n",
    "\n",
    "if num.isdigit():\n",
    "    if int(num)%2 == 0:\n",
    "        print(f'{num} is an even number')\n",
    "    else:\n",
    "        print(f'{num} is an odd number')\n",
    "else:\n",
    "    print('Invalid Input')"
   ]
  },
  {
   "cell_type": "code",
   "execution_count": 45,
   "id": "f7f3e187-28b3-4035-a179-ad84308d9d13",
   "metadata": {},
   "outputs": [
    {
     "name": "stdin",
     "output_type": "stream",
     "text": [
      "Enter a number:  9\n"
     ]
    },
    {
     "name": "stdout",
     "output_type": "stream",
     "text": [
      "9 is divisible by 3\n"
     ]
    }
   ],
   "source": [
    "# take a number from user and tell that the number is divisble by 2 and divisble by 3 and divisible by 5 or by all three of them \n",
    "num = eval(input('Enter a number: '))\n",
    "\n",
    "if num%2 == 0:\n",
    "    if num%3 == 0 and num%5 == 0:\n",
    "        print(f'{num} is divisble by 2,3 and 5')\n",
    "    elif num%5 == 0:\n",
    "         print(f'{num} is divible by 2 and 5')\n",
    "    elif num%3 == 0:\n",
    "        print(f'{num} is divible by 2 and 3')\n",
    "    else:\n",
    "        print(f'{num} is divisible by 2 only')\n",
    "elif num%3 == 0:\n",
    "    if num%5 == 0:\n",
    "        print(f'{num} is divisible by 3 and 5')\n",
    "    else:\n",
    "        print(f'{num} is divisible by 3')\n",
    "elif num%5 == 0:\n",
    "    print(f'{num} is divisible 5')\n",
    "else:\n",
    "    print(f'{num} is not divisible by 2, 3 and 5')\n",
    "        \n",
    "        "
   ]
  },
  {
   "cell_type": "code",
   "execution_count": 46,
   "id": "18880266-c41b-437a-861e-ffc8713d114b",
   "metadata": {},
   "outputs": [
    {
     "name": "stdin",
     "output_type": "stream",
     "text": [
      "Enter a number:  30\n"
     ]
    },
    {
     "name": "stdout",
     "output_type": "stream",
     "text": [
      "30 is divible by 2 and 3\n"
     ]
    }
   ],
   "source": [
    "# take a number from user and tell that the number is divisble by 2 and divisble by 3 and divisible by 5 or by all three of them \n",
    "num = eval(input('Enter a number: '))\n",
    "\n",
    "if num%2 == 0:\n",
    "    if num%3 == 0:\n",
    "        print(f'{num} is divible by 2 and 3')\n",
    "    elif num%5 == 0:\n",
    "         print(f'{num} is divible by 2 and 5')\n",
    "    elif num%3 == 0 and num%5 == 0:\n",
    "        print(f'{num} is divisble by 2,3 and 5')\n",
    "    else:\n",
    "        print(f'{num} is divisible by 2 only')\n",
    "elif num%3 == 0:\n",
    "    if num%5 == 0:\n",
    "        print(f'{num} is divisible by 3 and 5')\n",
    "    else:\n",
    "        print(f'{num} is divisible by 3')\n",
    "elif num%5 == 0:\n",
    "    print(f'{num} is divisible 5')\n",
    "else:\n",
    "    print(f'{num} is not divisible by 2, 3 and 5')"
   ]
  },
  {
   "cell_type": "markdown",
   "id": "1ad072fd-44ac-4f55-b30e-a0fbd5624dd4",
   "metadata": {},
   "source": [
    "#### WAP that takes an input from the user, if the input is a character then it will tell whether the character is a consonant or a vowel and if the input is a number then whether it is even or odd"
   ]
  },
  {
   "cell_type": "code",
   "execution_count": 49,
   "id": "9114e6dd-f531-441e-b063-11d51de83f78",
   "metadata": {},
   "outputs": [
    {
     "name": "stdin",
     "output_type": "stream",
     "text": [
      "Enter either a number or an alphabet:  @\n"
     ]
    },
    {
     "name": "stdout",
     "output_type": "stream",
     "text": [
      "Invalid Input\n"
     ]
    }
   ],
   "source": [
    "a = input('Enter either a number or an alphabet: ')\n",
    "\n",
    "if a.isalpha():\n",
    "    if a.lower() in 'aeiou':\n",
    "        print(f'{a} is a vowel')\n",
    "    else:\n",
    "        print(f'{a} is a consonant')\n",
    "\n",
    "elif a.isdigit():\n",
    "    if int(a)%2 == 0:\n",
    "        print(f'{a} is an even number')\n",
    "    else:\n",
    "        print(f'{a} is an odd number')\n",
    "\n",
    "else:\n",
    "    print('Invalid Input')"
   ]
  },
  {
   "cell_type": "markdown",
   "id": "d32c7719-7c8b-41b8-8d45-dacf4aa05414",
   "metadata": {},
   "source": [
    "1. Write a Python program that takes an integer input from the user and prints \"Even\" if the number is even, and \"Odd\" if it is odd.\n",
    "2. Write a Python program that takes three numbers as input and prints the largest among them.\n",
    "3. Write a Python program to check if a year entered by the user is a leap year or not.\n",
    "4. Write a Python program that takes two numbers as input and prints \"Equal\" if they are equal, otherwise prints \"Not Equal\".\n",
    "5. Write a Python program that takes a character as input and prints \"Vowel\" if it is a vowel, otherwise prints \"Consonant\".\n",
    "6. Write a Python program that checks if a number is positive, negative, or zero, and prints the result accordingly.\n",
    "7. Write a Python program that takes a string input and prints \"Palindrome\" if it is a palindrome, otherwise prints \"Not Palindrome\".\n",
    "8. Write a Python program that takes an age as input and determines if a person is eligible to vote (age >= 18) or not.\n",
    "9. Write a Python program that takes a number as input and checks if it is a prime number or not.\n",
    "10. Write a Python program that takes three sides of a triangle as input and determines if it is an equilateral, isosceles, or scalene triangle.\n",
    "11. Write a Python program that takes a temperature in Celsius as input and converts it to Fahrenheit if the temperature is above 0, otherwise prints \"Invalid input\".\n",
    "12. Write a Python program that checks if a given number is a perfect square or not.\n",
    "13. Write a Python program that takes two numbers as input and calculates their sum, difference, product, and quotient based on user input (+, -, *, /).\n",
    "14. Write a Python program that takes a number as input and prints \"Positive\" if it is positive, \"Negative\" if it is negative, and \"Zero\" if it is zero.\n",
    "15. Write a Python program that takes a string input and checks if it contains any digits.\n",
    "16. Write a Python program that calculates the factorial of a number using a recursive function.\n",
    "17. Write a Python program that takes a number as input and checks if it is a Fibonacci number or not.\n",
    "18. Write a Python program that takes a number as input and checks if it is an Armstrong number or not.\n",
    "19. Write a Python program that takes a list of numbers as input and prints the sum of all positive numbers in the list.\n",
    "20. Write a Python program that takes two strings as input and checks if they are anagrams of each other.\n",
    "21. Write a Python program that takes a number as input and prints its square root if it is positive, otherwise prints \"Invalid input\".\n",
    "22. Write a Python program that takes a list of integers as input and prints the count of even and odd numbers in the list.\n",
    "23. Write a Python program that takes a number as input and checks if it is a perfect number or not.\n",
    "24. Write a Python program that takes a list of integers as input and prints the maximum and minimum values in the list.\n",
    "25. Write a Python program that takes a string input and checks if it is a valid email address format (contains \"@\" and \".\")."
   ]
  },
  {
   "cell_type": "code",
   "execution_count": 51,
   "id": "3a102ad8-3495-4144-a10c-b493a1c12525",
   "metadata": {},
   "outputs": [
    {
     "name": "stdout",
     "output_type": "stream",
     "text": [
      "Hello\n",
      "Hello\n",
      "Hello\n",
      "Hello\n",
      "Hello\n"
     ]
    }
   ],
   "source": [
    "# WAP to print Hello 5 times \n",
    "print('Hello')\n",
    "print('Hello')\n",
    "print('Hello')\n",
    "print('Hello')\n",
    "print('Hello')"
   ]
  },
  {
   "cell_type": "markdown",
   "id": "13bbfd0e-0e42-444e-ad18-0f9070f4d019",
   "metadata": {},
   "source": [
    "### Loops \n",
    "\n",
    "- When we want to do a task repeatedily, in such a scenario we will use loops so that we can do the job easily.\n",
    "\n",
    "#### Types of Loops:\n",
    "    \n",
    "    - For loop \n",
    "    - While loop"
   ]
  },
  {
   "cell_type": "markdown",
   "id": "84868b26-625c-4cee-9fb1-d47495844587",
   "metadata": {},
   "source": [
    "### For loops  \n",
    "\n",
    "- They will be applied on iterable objects such as string, range, list, tuples, dictionaries, sets and frozensets\n",
    "- The number of iteration it will take will be equal to the number of elements there are in the iterable object\n",
    "- It is Known as a finite loop\n",
    "\n",
    "Syntax:\n",
    "    \n",
    "    for i(space holder) in iterable object:\n",
    "        code-1\n",
    "        code-2\n",
    "        "
   ]
  },
  {
   "cell_type": "code",
   "execution_count": null,
   "id": "9bb459b2-f330-43d0-ad49-9322bcecdbc2",
   "metadata": {},
   "outputs": [],
   "source": [
    "'Mayank' ---> 'M'+'a'+'y'+'a'+'n'+'k'"
   ]
  },
  {
   "cell_type": "code",
   "execution_count": 52,
   "id": "5f6f97b7-49d8-4609-b4ca-a70ec1f969e6",
   "metadata": {},
   "outputs": [
    {
     "name": "stdout",
     "output_type": "stream",
     "text": [
      "M\n",
      "a\n",
      "y\n",
      "a\n",
      "n\n",
      "k\n"
     ]
    }
   ],
   "source": [
    "for i in 'Mayank':\n",
    "    print(i)"
   ]
  },
  {
   "cell_type": "code",
   "execution_count": null,
   "id": "f58dda6c-bcdf-4b4f-a2c6-69a4c9839cd2",
   "metadata": {},
   "outputs": [],
   "source": [
    "1st iteration i = 'M'\n",
    "2nd iteratuon i ='a'\n",
    "3"
   ]
  },
  {
   "cell_type": "code",
   "execution_count": 53,
   "id": "a0d48ebb-c794-4962-a348-0b27b438ac7e",
   "metadata": {},
   "outputs": [
    {
     "name": "stdout",
     "output_type": "stream",
     "text": [
      "0\n",
      "1\n",
      "2\n",
      "3\n",
      "4\n"
     ]
    }
   ],
   "source": [
    "for i in range(0,5):\n",
    "    print(i)"
   ]
  },
  {
   "cell_type": "code",
   "execution_count": 54,
   "id": "803c2494-0ced-4b3e-916a-04d06f7b5883",
   "metadata": {},
   "outputs": [
    {
     "name": "stdout",
     "output_type": "stream",
     "text": [
      "1\n",
      "2.0\n",
      "(3+7j)\n",
      "Python\n",
      "True\n",
      "None\n",
      "{1: 100, 2: 200}\n"
     ]
    }
   ],
   "source": [
    "lst = [1, 2.0, 3+7j, 'Python', True, None, {1:100, 2:200}]\n",
    "\n",
    "for i in lst:\n",
    "    print(i)"
   ]
  },
  {
   "cell_type": "code",
   "execution_count": 55,
   "id": "91d71486-fe55-4a42-a677-c27a2318f5f6",
   "metadata": {},
   "outputs": [
    {
     "ename": "TypeError",
     "evalue": "'int' object is not iterable",
     "output_type": "error",
     "traceback": [
      "\u001b[1;31m---------------------------------------------------------------------------\u001b[0m",
      "\u001b[1;31mTypeError\u001b[0m                                 Traceback (most recent call last)",
      "Cell \u001b[1;32mIn[55], line 3\u001b[0m\n\u001b[0;32m      1\u001b[0m a \u001b[38;5;241m=\u001b[39m \u001b[38;5;241m11\u001b[39m\n\u001b[1;32m----> 3\u001b[0m \u001b[38;5;28;01mfor\u001b[39;00m i \u001b[38;5;129;01min\u001b[39;00m a:\n\u001b[0;32m      4\u001b[0m     \u001b[38;5;28mprint\u001b[39m(i)\n",
      "\u001b[1;31mTypeError\u001b[0m: 'int' object is not iterable"
     ]
    }
   ],
   "source": [
    "a = 11\n",
    "\n",
    "for i in a:\n",
    "    print(i)"
   ]
  },
  {
   "cell_type": "code",
   "execution_count": 56,
   "id": "67f35793-9796-48f8-a1f3-7c2d22224d7b",
   "metadata": {},
   "outputs": [
    {
     "ename": "TypeError",
     "evalue": "'float' object is not iterable",
     "output_type": "error",
     "traceback": [
      "\u001b[1;31m---------------------------------------------------------------------------\u001b[0m",
      "\u001b[1;31mTypeError\u001b[0m                                 Traceback (most recent call last)",
      "Cell \u001b[1;32mIn[56], line 3\u001b[0m\n\u001b[0;32m      1\u001b[0m a \u001b[38;5;241m=\u001b[39m \u001b[38;5;241m100.00\u001b[39m\n\u001b[1;32m----> 3\u001b[0m \u001b[38;5;28;01mfor\u001b[39;00m i \u001b[38;5;129;01min\u001b[39;00m a:\n\u001b[0;32m      4\u001b[0m     \u001b[38;5;28mprint\u001b[39m(i)\n",
      "\u001b[1;31mTypeError\u001b[0m: 'float' object is not iterable"
     ]
    }
   ],
   "source": [
    "a = 100.00\n",
    "\n",
    "for i in a:\n",
    "    print(i)"
   ]
  },
  {
   "cell_type": "code",
   "execution_count": 57,
   "id": "7a24ffcc-7c10-4870-b830-0bb9ca74c9b3",
   "metadata": {},
   "outputs": [
    {
     "ename": "TypeError",
     "evalue": "'complex' object is not iterable",
     "output_type": "error",
     "traceback": [
      "\u001b[1;31m---------------------------------------------------------------------------\u001b[0m",
      "\u001b[1;31mTypeError\u001b[0m                                 Traceback (most recent call last)",
      "Cell \u001b[1;32mIn[57], line 3\u001b[0m\n\u001b[0;32m      1\u001b[0m c \u001b[38;5;241m=\u001b[39m \u001b[38;5;241m7\u001b[39m\u001b[38;5;241m+\u001b[39m\u001b[38;5;241m8\u001b[39mj\n\u001b[1;32m----> 3\u001b[0m \u001b[38;5;28;01mfor\u001b[39;00m i \u001b[38;5;129;01min\u001b[39;00m c:\n\u001b[0;32m      4\u001b[0m     \u001b[38;5;28mprint\u001b[39m(i)\n",
      "\u001b[1;31mTypeError\u001b[0m: 'complex' object is not iterable"
     ]
    }
   ],
   "source": [
    "c = 7+8j\n",
    "\n",
    "for i in c:\n",
    "    print(i)"
   ]
  },
  {
   "cell_type": "code",
   "execution_count": 58,
   "id": "b8f17989-e54a-42ad-b455-66e7e29b1b4e",
   "metadata": {},
   "outputs": [
    {
     "ename": "TypeError",
     "evalue": "'bool' object is not iterable",
     "output_type": "error",
     "traceback": [
      "\u001b[1;31m---------------------------------------------------------------------------\u001b[0m",
      "\u001b[1;31mTypeError\u001b[0m                                 Traceback (most recent call last)",
      "Cell \u001b[1;32mIn[58], line 3\u001b[0m\n\u001b[0;32m      1\u001b[0m a \u001b[38;5;241m=\u001b[39m \u001b[38;5;28;01mTrue\u001b[39;00m\n\u001b[1;32m----> 3\u001b[0m \u001b[38;5;28;01mfor\u001b[39;00m i \u001b[38;5;129;01min\u001b[39;00m a:\n\u001b[0;32m      4\u001b[0m     \u001b[38;5;28mprint\u001b[39m(i)\n",
      "\u001b[1;31mTypeError\u001b[0m: 'bool' object is not iterable"
     ]
    }
   ],
   "source": [
    "a = True\n",
    "\n",
    "for i in a:\n",
    "    print(i)"
   ]
  },
  {
   "cell_type": "code",
   "execution_count": 59,
   "id": "26716473-486c-47d5-a139-f42f26a8ae53",
   "metadata": {},
   "outputs": [
    {
     "ename": "TypeError",
     "evalue": "'NoneType' object is not iterable",
     "output_type": "error",
     "traceback": [
      "\u001b[1;31m---------------------------------------------------------------------------\u001b[0m",
      "\u001b[1;31mTypeError\u001b[0m                                 Traceback (most recent call last)",
      "Cell \u001b[1;32mIn[59], line 3\u001b[0m\n\u001b[0;32m      1\u001b[0m a \u001b[38;5;241m=\u001b[39m \u001b[38;5;28;01mNone\u001b[39;00m\n\u001b[1;32m----> 3\u001b[0m \u001b[38;5;28;01mfor\u001b[39;00m i \u001b[38;5;129;01min\u001b[39;00m a:\n\u001b[0;32m      4\u001b[0m     \u001b[38;5;28mprint\u001b[39m(i)\n",
      "\u001b[1;31mTypeError\u001b[0m: 'NoneType' object is not iterable"
     ]
    }
   ],
   "source": [
    "a = None\n",
    "\n",
    "for i in a:\n",
    "    print(i)"
   ]
  },
  {
   "cell_type": "markdown",
   "id": "80e8d9cd-330e-4764-acf0-5509f92400fa",
   "metadata": {},
   "source": [
    "#### Two ways of using loops in Python \n",
    "\n",
    "- we want to iterate over the elememts in the iterable object \n",
    "\n",
    "    Syntax:\n",
    "        \n",
    "         for var_name in iterable object:\n",
    "              print(var_name)"
   ]
  },
  {
   "cell_type": "code",
   "execution_count": 60,
   "id": "ed034459-2e05-4b83-8bf8-c8d06a3af392",
   "metadata": {},
   "outputs": [
    {
     "name": "stdout",
     "output_type": "stream",
     "text": [
      "p\n",
      "y\n",
      "t\n",
      "h\n",
      "o\n",
      "n\n"
     ]
    }
   ],
   "source": [
    "a = 'python'\n",
    "\n",
    "for char in a:\n",
    "    print(char)"
   ]
  },
  {
   "cell_type": "markdown",
   "id": "ab4bb5a6-ab5b-4968-a29b-336123f4dff9",
   "metadata": {},
   "source": [
    "- we want to iterate over the index of element in the iterable object \n",
    "\n",
    "    Syntax:\n",
    "        \n",
    "         for var_name in range(len(iterable object)):\n",
    "              print(var_name)"
   ]
  },
  {
   "cell_type": "code",
   "execution_count": 61,
   "id": "63c74ad6-4b30-4d05-bce5-62b0ed548c40",
   "metadata": {},
   "outputs": [
    {
     "data": {
      "text/plain": [
       "'python'"
      ]
     },
     "execution_count": 61,
     "metadata": {},
     "output_type": "execute_result"
    }
   ],
   "source": [
    "a"
   ]
  },
  {
   "cell_type": "code",
   "execution_count": 62,
   "id": "b6685213-38eb-4a42-aeb4-2751135d2434",
   "metadata": {},
   "outputs": [
    {
     "name": "stdout",
     "output_type": "stream",
     "text": [
      "0\n",
      "1\n",
      "2\n",
      "3\n",
      "4\n",
      "5\n"
     ]
    }
   ],
   "source": [
    "for index in range(len(a)): # len(a) = 6, range(6) ---> range(0, 6)\n",
    "    print(index)"
   ]
  },
  {
   "cell_type": "markdown",
   "id": "26f2db10-c95d-47af-9d41-9aaa66698da6",
   "metadata": {},
   "source": [
    "#### len() function helps us to get the count of elememt in the iterable object"
   ]
  },
  {
   "cell_type": "markdown",
   "id": "bc24e5ef-5135-4ed1-bcf1-07cde2dbe8dd",
   "metadata": {},
   "source": [
    "- With this format, we can also access both the index value and the elements associated to it in the iterable object\n",
    "\n",
    "  Syntax:\n",
    "\n",
    "       for var_name in range(len(iterable object)):\n",
    "            print(var_name, var_name[i])"
   ]
  },
  {
   "cell_type": "code",
   "execution_count": 63,
   "id": "9cb03de8-ebec-43c1-9305-e9414b37c48d",
   "metadata": {},
   "outputs": [
    {
     "name": "stdout",
     "output_type": "stream",
     "text": [
      "0 p\n",
      "1 y\n",
      "2 t\n",
      "3 h\n",
      "4 o\n",
      "5 n\n"
     ]
    }
   ],
   "source": [
    "for index in range(len(a)):\n",
    "    print(index, a[index])"
   ]
  },
  {
   "cell_type": "markdown",
   "id": "acc22631-123a-4140-9b53-cb9f615d5efd",
   "metadata": {},
   "source": [
    "#### enumerate() function helps to get the index and the values associated to that index"
   ]
  },
  {
   "cell_type": "code",
   "execution_count": 64,
   "id": "f7ec58d2-c07e-4209-8f8d-4fac01ec7d25",
   "metadata": {},
   "outputs": [
    {
     "name": "stdout",
     "output_type": "stream",
     "text": [
      "0 p\n",
      "1 y\n",
      "2 t\n",
      "3 h\n",
      "4 o\n",
      "5 n\n"
     ]
    }
   ],
   "source": [
    "for i, j in enumerate(a):\n",
    "    print(i, j)"
   ]
  },
  {
   "cell_type": "code",
   "execution_count": 65,
   "id": "26e9d0d3-5af0-4483-898c-3d26e65b936b",
   "metadata": {},
   "outputs": [
    {
     "name": "stdout",
     "output_type": "stream",
     "text": [
      "0 s\n",
      "1 h\n",
      "2 e\n",
      "3  \n",
      "4 s\n",
      "5 e\n",
      "6 l\n",
      "7 l\n",
      "8 s\n",
      "9  \n",
      "10 s\n",
      "11 e\n",
      "12 a\n",
      "13  \n",
      "14 s\n",
      "15 h\n",
      "16 e\n",
      "17 l\n",
      "18 l\n",
      "19 s\n",
      "20  \n",
      "21 o\n",
      "22 n\n",
      "23  \n",
      "24 t\n",
      "25 h\n",
      "26 e\n",
      "27  \n",
      "28 s\n",
      "29 e\n",
      "30 a\n",
      "31  \n",
      "32 s\n",
      "33 h\n",
      "34 o\n",
      "35 r\n",
      "36 e\n"
     ]
    }
   ],
   "source": [
    "# WAP which give me the psoitive indexing\n",
    "a = 'she sells sea shells on the sea shore'\n",
    "\n",
    "for index in range(len(a)):\n",
    "    print(index, a[index])"
   ]
  },
  {
   "cell_type": "code",
   "execution_count": 66,
   "id": "d0d78174-5890-44d7-9a2e-b9b90553052a",
   "metadata": {},
   "outputs": [
    {
     "name": "stdout",
     "output_type": "stream",
     "text": [
      "-1 e\n",
      "-2 r\n",
      "-3 o\n",
      "-4 h\n",
      "-5 s\n",
      "-6  \n",
      "-7 a\n",
      "-8 e\n",
      "-9 s\n",
      "-10  \n",
      "-11 e\n",
      "-12 h\n",
      "-13 t\n",
      "-14  \n",
      "-15 n\n",
      "-16 o\n",
      "-17  \n",
      "-18 s\n",
      "-19 l\n",
      "-20 l\n",
      "-21 e\n",
      "-22 h\n",
      "-23 s\n",
      "-24  \n",
      "-25 a\n",
      "-26 e\n",
      "-27 s\n",
      "-28  \n",
      "-29 s\n",
      "-30 l\n",
      "-31 l\n",
      "-32 e\n",
      "-33 s\n",
      "-34  \n",
      "-35 e\n",
      "-36 h\n",
      "-37 s\n"
     ]
    }
   ],
   "source": [
    "# WAP which give me the negative indexing\n",
    "\n",
    "for i in range(-1, -(len(a)+1), -1):\n",
    "    print(i, a[i])"
   ]
  },
  {
   "cell_type": "code",
   "execution_count": 67,
   "id": "52a6fd8b-df1f-431a-9f10-c6d95c114597",
   "metadata": {},
   "outputs": [
    {
     "data": {
      "text/plain": [
       "'she sells sea shells on the sea shore'"
      ]
     },
     "execution_count": 67,
     "metadata": {},
     "output_type": "execute_result"
    }
   ],
   "source": [
    "a"
   ]
  },
  {
   "cell_type": "code",
   "execution_count": 68,
   "id": "fbade377-b300-4cb6-85d4-92b7f5c3d3c2",
   "metadata": {},
   "outputs": [
    {
     "data": {
      "text/plain": [
       "8"
      ]
     },
     "execution_count": 68,
     "metadata": {},
     "output_type": "execute_result"
    }
   ],
   "source": [
    "a.count('s')"
   ]
  },
  {
   "cell_type": "code",
   "execution_count": 69,
   "id": "afad4c11-3991-4924-8692-18038007cdc8",
   "metadata": {},
   "outputs": [
    {
     "name": "stdout",
     "output_type": "stream",
     "text": [
      "8\n"
     ]
    }
   ],
   "source": [
    "# WAP which is going to mimic the functionality of the count method \n",
    "\n",
    "count = 0\n",
    "for i in a:\n",
    "    if i == 's':\n",
    "        count = count+1\n",
    "\n",
    "print(count)"
   ]
  },
  {
   "cell_type": "code",
   "execution_count": 70,
   "id": "c733328e-a536-4d90-ac21-3d90bec3657e",
   "metadata": {},
   "outputs": [
    {
     "name": "stdout",
     "output_type": "stream",
     "text": [
      "8\n"
     ]
    }
   ],
   "source": [
    "count = 0\n",
    "for i in range(len(a)):\n",
    "    if a[i] == 's':\n",
    "        count = count + 1\n",
    "\n",
    "print(count)"
   ]
  },
  {
   "cell_type": "code",
   "execution_count": 71,
   "id": "37860ae3-5b9e-43ea-8343-0a45c92c0312",
   "metadata": {},
   "outputs": [
    {
     "name": "stdout",
     "output_type": "stream",
     "text": [
      "0\n",
      "4\n",
      "8\n",
      "10\n",
      "14\n",
      "19\n",
      "28\n",
      "32\n"
     ]
    }
   ],
   "source": [
    "# WAP to give me the index of all the occurrence of s\n",
    "\n",
    "for i in range(len(a)):\n",
    "    if a[i] == 's':\n",
    "        print(i)"
   ]
  },
  {
   "cell_type": "code",
   "execution_count": 72,
   "id": "6c80cfa0-0d77-46b8-81a5-d1e8e8c6523f",
   "metadata": {},
   "outputs": [
    {
     "data": {
      "text/plain": [
       "'she sells sea shells on the sea shore'"
      ]
     },
     "execution_count": 72,
     "metadata": {},
     "output_type": "execute_result"
    }
   ],
   "source": [
    "a"
   ]
  },
  {
   "cell_type": "code",
   "execution_count": 73,
   "id": "9fa6fae2-2057-4ee4-acdc-bdf52e766967",
   "metadata": {},
   "outputs": [
    {
     "data": {
      "text/plain": [
       "['she', 'sells', 'sea', 'shells', 'on', 'the', 'sea', 'shore']"
      ]
     },
     "execution_count": 73,
     "metadata": {},
     "output_type": "execute_result"
    }
   ],
   "source": [
    "a.split()"
   ]
  },
  {
   "cell_type": "code",
   "execution_count": 76,
   "id": "890be371-6d4e-43bb-8180-f71c87e4d550",
   "metadata": {},
   "outputs": [
    {
     "name": "stdout",
     "output_type": "stream",
     "text": [
      "['she', 'sells', 'sea', 'shells', 'on', 'the', 'sea', 'shore']\n"
     ]
    }
   ],
   "source": [
    "a = 'she sells sea shells on the sea shore'\n",
    "\n",
    "output = [] # empty list \n",
    "word = ''\n",
    "\n",
    "for i in a:\n",
    "    if i != ' ':\n",
    "        word = word+i\n",
    "    else:\n",
    "        output = output+[word]\n",
    "        word = ''\n",
    "output = output+[word]\n",
    "print(output)"
   ]
  },
  {
   "cell_type": "code",
   "execution_count": null,
   "id": "1da51bed-6a18-4274-b59b-97205a849016",
   "metadata": {},
   "outputs": [],
   "source": [
    "w"
   ]
  }
 ],
 "metadata": {
  "kernelspec": {
   "display_name": "Python 3 (ipykernel)",
   "language": "python",
   "name": "python3"
  },
  "language_info": {
   "codemirror_mode": {
    "name": "ipython",
    "version": 3
   },
   "file_extension": ".py",
   "mimetype": "text/x-python",
   "name": "python",
   "nbconvert_exporter": "python",
   "pygments_lexer": "ipython3",
   "version": "3.12.4"
  }
 },
 "nbformat": 4,
 "nbformat_minor": 5
}
