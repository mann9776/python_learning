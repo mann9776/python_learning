{
 "cells": [
  {
   "cell_type": "markdown",
   "id": "cb6dc99b-a94c-4033-9c7d-c52505380616",
   "metadata": {},
   "source": [
    "### Defining our own constructor "
   ]
  },
  {
   "cell_type": "code",
   "execution_count": 8,
   "id": "fd220091-77e6-4662-a818-6b178d828371",
   "metadata": {},
   "outputs": [],
   "source": [
    "class Test:\n",
    "\n",
    "    def __init__(self):\n",
    "        print('Constructor Executed....')\n",
    "        self.a = 22\n",
    "        self.b = 44\n",
    "\n",
    "    def show(self):\n",
    "        print(self.a)\n",
    "        print(self.b)"
   ]
  },
  {
   "cell_type": "code",
   "execution_count": 9,
   "id": "ba29126f-a392-4509-87bc-bb120a3aeb31",
   "metadata": {},
   "outputs": [
    {
     "name": "stdout",
     "output_type": "stream",
     "text": [
      "Constructor Executed....\n"
     ]
    }
   ],
   "source": [
    "t1 = Test()"
   ]
  },
  {
   "cell_type": "code",
   "execution_count": 7,
   "id": "1d4984ad-0d1e-45c6-83c9-0b24445d9c81",
   "metadata": {},
   "outputs": [
    {
     "data": {
      "text/plain": [
       "{'a': 22, 'b': 44}"
      ]
     },
     "execution_count": 7,
     "metadata": {},
     "output_type": "execute_result"
    }
   ],
   "source": [
    "t1.__dict__"
   ]
  },
  {
   "cell_type": "code",
   "execution_count": 1,
   "id": "03160b11-b64f-4f52-ace7-557e6870536b",
   "metadata": {},
   "outputs": [],
   "source": [
    "class Test:\n",
    "\n",
    "    def my_constructor(self):\n",
    "        self.a = 22\n",
    "        self.b = 44\n",
    "\n",
    "    def show(self):\n",
    "        print(self.a)\n",
    "        print(self.b)"
   ]
  },
  {
   "cell_type": "code",
   "execution_count": 2,
   "id": "2c7a2ec4-3949-4aca-9477-c4d08815f188",
   "metadata": {},
   "outputs": [],
   "source": [
    "t = Test()"
   ]
  },
  {
   "cell_type": "code",
   "execution_count": 3,
   "id": "ec0f4768-4e54-4087-a82c-f920b53d1cfc",
   "metadata": {},
   "outputs": [
    {
     "data": {
      "text/plain": [
       "{}"
      ]
     },
     "execution_count": 3,
     "metadata": {},
     "output_type": "execute_result"
    }
   ],
   "source": [
    "t.__dict__"
   ]
  },
  {
   "cell_type": "code",
   "execution_count": 11,
   "id": "f297432d-2be9-4759-9d1a-b41e316437d5",
   "metadata": {},
   "outputs": [],
   "source": [
    "t.my_constructor()"
   ]
  },
  {
   "cell_type": "code",
   "execution_count": 12,
   "id": "b036efb5-891a-4d8a-afc5-edc906adab03",
   "metadata": {},
   "outputs": [
    {
     "data": {
      "text/plain": [
       "{'a': 22, 'b': 44}"
      ]
     },
     "execution_count": 12,
     "metadata": {},
     "output_type": "execute_result"
    }
   ],
   "source": [
    "t.__dict__"
   ]
  },
  {
   "cell_type": "code",
   "execution_count": 13,
   "id": "146320c2-08db-4649-9659-366e144d1742",
   "metadata": {},
   "outputs": [
    {
     "name": "stdout",
     "output_type": "stream",
     "text": [
      "22\n",
      "44\n"
     ]
    }
   ],
   "source": [
    "t.show()"
   ]
  },
  {
   "cell_type": "markdown",
   "id": "eddc59a6-faa3-4c52-b0e3-93afb6f91e43",
   "metadata": {},
   "source": [
    "### Count the number of objects created for a class \n"
   ]
  },
  {
   "cell_type": "code",
   "execution_count": 14,
   "id": "4e53ed4e-28b2-44b9-9585-3c42339e4a21",
   "metadata": {},
   "outputs": [],
   "source": [
    "class Test:\n",
    "    c = 0\n",
    "    def __init__(self):\n",
    "        Test.c += 1\n",
    "\n",
    "    @classmethod\n",
    "    def count(cls):\n",
    "        print(cls.c)"
   ]
  },
  {
   "cell_type": "code",
   "execution_count": 15,
   "id": "3e67c75a-3873-4f4f-96f7-c6234b7fb12e",
   "metadata": {},
   "outputs": [],
   "source": [
    "t = Test()\n",
    "t1 = Test()\n",
    "t2 = Test()\n",
    "t3 = Test()"
   ]
  },
  {
   "cell_type": "code",
   "execution_count": 17,
   "id": "619b6e30-8a14-4d79-8f5b-820d9558bf8a",
   "metadata": {},
   "outputs": [
    {
     "name": "stdout",
     "output_type": "stream",
     "text": [
      "4\n"
     ]
    }
   ],
   "source": [
    "Test.count()"
   ]
  },
  {
   "cell_type": "markdown",
   "id": "336ac4b3-98bd-4fe0-bc5a-75e37b76b69f",
   "metadata": {},
   "source": [
    "### Calling an object of one class inside another class "
   ]
  },
  {
   "cell_type": "code",
   "execution_count": 18,
   "id": "254901e1-569a-44b7-b537-cffc4da68f13",
   "metadata": {},
   "outputs": [],
   "source": [
    "class Employee:\n",
    "    def __init__(self, name, salary):\n",
    "        self.name = name\n",
    "        self.salary = salary\n",
    "\n",
    "    def display(self):\n",
    "        print(self.name)\n",
    "        print(self.salary)"
   ]
  },
  {
   "cell_type": "code",
   "execution_count": 19,
   "id": "e378d0d3-d898-4e62-9e80-d8d52e19da5e",
   "metadata": {},
   "outputs": [],
   "source": [
    "class Appraisal:\n",
    "    def increment(emp, inc):\n",
    "        emp.salary += inc"
   ]
  },
  {
   "cell_type": "code",
   "execution_count": 20,
   "id": "a9acc103-fe56-4336-904f-2a815783f075",
   "metadata": {},
   "outputs": [],
   "source": [
    "e = Employee('Kuldeep', 56000)"
   ]
  },
  {
   "cell_type": "code",
   "execution_count": 21,
   "id": "a0a2b94c-e79a-4934-9410-8343d992a72e",
   "metadata": {},
   "outputs": [
    {
     "name": "stdout",
     "output_type": "stream",
     "text": [
      "Kuldeep\n",
      "56000\n"
     ]
    }
   ],
   "source": [
    "e.display()"
   ]
  },
  {
   "cell_type": "code",
   "execution_count": 22,
   "id": "397a1c1e-c63b-467e-b8f9-9acdf79fbe38",
   "metadata": {},
   "outputs": [],
   "source": [
    "Appraisal.increment(e, 5000)"
   ]
  },
  {
   "cell_type": "code",
   "execution_count": 23,
   "id": "b0ff3fee-1ba2-44ac-9f60-73883445e003",
   "metadata": {},
   "outputs": [
    {
     "name": "stdout",
     "output_type": "stream",
     "text": [
      "Kuldeep\n",
      "61000\n"
     ]
    }
   ],
   "source": [
    "e.display()"
   ]
  },
  {
   "cell_type": "code",
   "execution_count": 25,
   "id": "d4ffaf48-d184-4871-80a8-16f0f204f96c",
   "metadata": {},
   "outputs": [],
   "source": [
    "class Customer:\n",
    "    def __init__(self):\n",
    "        pass\n",
    "\n",
    "    def show(self):\n",
    "        print(id(self))"
   ]
  },
  {
   "cell_type": "code",
   "execution_count": 26,
   "id": "f694df6d-7bd5-4c4c-a6b2-5923943311a5",
   "metadata": {},
   "outputs": [],
   "source": [
    "class Banking:\n",
    "    def deposit(cst, amt):\n",
    "        print(id(cst))"
   ]
  },
  {
   "cell_type": "code",
   "execution_count": 27,
   "id": "b620c8d1-bb9a-45b5-a493-b4b6f51b6686",
   "metadata": {},
   "outputs": [],
   "source": [
    "t = Customer()"
   ]
  },
  {
   "cell_type": "code",
   "execution_count": 28,
   "id": "680f0948-6cae-41f1-9bb8-afe6457efeea",
   "metadata": {},
   "outputs": [
    {
     "name": "stdout",
     "output_type": "stream",
     "text": [
      "1632970016720\n"
     ]
    }
   ],
   "source": [
    "t.show()"
   ]
  },
  {
   "cell_type": "code",
   "execution_count": 29,
   "id": "a567edd5-fe37-4491-beef-ad025d9c611c",
   "metadata": {},
   "outputs": [
    {
     "name": "stdout",
     "output_type": "stream",
     "text": [
      "1632970016720\n"
     ]
    }
   ],
   "source": [
    "Banking.deposit(t, 12000)"
   ]
  },
  {
   "cell_type": "code",
   "execution_count": 30,
   "id": "be867ed2-32c6-4369-aaf4-c5fb5df966ea",
   "metadata": {},
   "outputs": [],
   "source": [
    "class Customer:\n",
    "    def __init__(self,name, bal):\n",
    "        self.name = name\n",
    "        self.bal = bal\n",
    "\n",
    "    def show(self):\n",
    "        print(self.name)\n",
    "        print(self.bal)"
   ]
  },
  {
   "cell_type": "code",
   "execution_count": 31,
   "id": "ac2fb4f0-60d2-4100-b3ca-68c1305d8bc4",
   "metadata": {},
   "outputs": [],
   "source": [
    "class Banking:\n",
    "    def deposit(cst, amt):\n",
    "        cst.bal += amt\n",
    "    def withdrawl(cst, amt):\n",
    "        if amt>cst.bal:\n",
    "            print('Insufficient Amount')\n",
    "        else:\n",
    "            cst.bal -= amt"
   ]
  },
  {
   "cell_type": "code",
   "execution_count": 32,
   "id": "667eb6b4-2f63-4638-b450-abe2b292ab3d",
   "metadata": {},
   "outputs": [],
   "source": [
    "c = Customer('Pushpa', 5000)\n",
    "c2 = Customer('Atharv', 6000)"
   ]
  },
  {
   "cell_type": "code",
   "execution_count": 33,
   "id": "c97950e4-c47a-41af-8a87-3cc3d288ea4c",
   "metadata": {},
   "outputs": [
    {
     "name": "stdout",
     "output_type": "stream",
     "text": [
      "Pushpa\n",
      "5000\n"
     ]
    }
   ],
   "source": [
    "c.show()"
   ]
  },
  {
   "cell_type": "code",
   "execution_count": 35,
   "id": "f5e49a1c-20ed-4401-80c0-c65078225d25",
   "metadata": {},
   "outputs": [
    {
     "name": "stdout",
     "output_type": "stream",
     "text": [
      "Atharv\n",
      "6000\n"
     ]
    }
   ],
   "source": [
    "c2.show()"
   ]
  },
  {
   "cell_type": "code",
   "execution_count": 36,
   "id": "24b3fb16-c400-4766-a610-2b9f526adb34",
   "metadata": {},
   "outputs": [],
   "source": [
    "Banking.deposit(c, 7000)"
   ]
  },
  {
   "cell_type": "code",
   "execution_count": 37,
   "id": "dde613cd-6c53-4724-979c-fa507822af6e",
   "metadata": {},
   "outputs": [
    {
     "name": "stdout",
     "output_type": "stream",
     "text": [
      "Pushpa\n",
      "12000\n"
     ]
    }
   ],
   "source": [
    "c.show()"
   ]
  },
  {
   "cell_type": "code",
   "execution_count": 38,
   "id": "a2972f7a-5577-43da-a0e1-01ed65cb1fab",
   "metadata": {},
   "outputs": [
    {
     "name": "stdout",
     "output_type": "stream",
     "text": [
      "Insufficient Amount\n"
     ]
    }
   ],
   "source": [
    "Banking.withdrawl(c2, 7000)"
   ]
  },
  {
   "cell_type": "markdown",
   "id": "03d5264e-5b2e-4c88-bf3f-ec97456e28bf",
   "metadata": {},
   "source": [
    "### Nested Class \n",
    "\n",
    "- When we have a class inside another class then we call it as nested class "
   ]
  },
  {
   "cell_type": "markdown",
   "id": "ffbc186d-e3a0-4596-8cb2-364991a4d742",
   "metadata": {},
   "source": [
    "__General Idea__\n",
    "\n",
    "                class outer:\n",
    "                    class inner:\n",
    "                        code \n",
    "                        code\n",
    "\n",
    "- Inner class can only be created once the outer class has been created "
   ]
  },
  {
   "cell_type": "code",
   "execution_count": 40,
   "id": "0406ea00-0233-4528-aa77-74db666aeec1",
   "metadata": {},
   "outputs": [],
   "source": [
    "class Outer:\n",
    "    class Inner:\n",
    "        def __init__(self):\n",
    "            self.name = 'Inner class'\n",
    "            print(self.name)\n",
    "        "
   ]
  },
  {
   "cell_type": "code",
   "execution_count": 42,
   "id": "afdec201-37fa-4e5c-9cd6-338c03c4099e",
   "metadata": {},
   "outputs": [
    {
     "name": "stdout",
     "output_type": "stream",
     "text": [
      "Inner class\n"
     ]
    },
    {
     "data": {
      "text/plain": [
       "<__main__.Outer.Inner at 0x17c349ec110>"
      ]
     },
     "execution_count": 42,
     "metadata": {},
     "output_type": "execute_result"
    }
   ],
   "source": [
    "Outer().Inner()"
   ]
  },
  {
   "cell_type": "code",
   "execution_count": 41,
   "id": "5f32add0-0851-47a7-abe5-3ec873b83f88",
   "metadata": {},
   "outputs": [],
   "source": [
    "x = Outer()"
   ]
  },
  {
   "cell_type": "code",
   "execution_count": 43,
   "id": "0aa42682-c983-4106-8e8d-a46f08bd16a1",
   "metadata": {},
   "outputs": [
    {
     "name": "stdout",
     "output_type": "stream",
     "text": [
      "Inner class\n"
     ]
    }
   ],
   "source": [
    "y = x.Inner()"
   ]
  },
  {
   "cell_type": "code",
   "execution_count": 45,
   "id": "5f8c34ad-32b1-493a-9dcc-7a65c4a49995",
   "metadata": {},
   "outputs": [
    {
     "name": "stdout",
     "output_type": "stream",
     "text": [
      "<__main__.Outer.Inner object at 0x0000017C353052B0> <class '__main__.Outer.Inner'>\n"
     ]
    }
   ],
   "source": [
    "print(y, type(y))_main__.Outer.Inner "
   ]
  },
  {
   "cell_type": "code",
   "execution_count": 46,
   "id": "f0e0b24a-dbda-403c-84bb-897f1755aa58",
   "metadata": {},
   "outputs": [],
   "source": [
    "class University:\n",
    "    class Degree:\n",
    "        class Course:\n",
    "            def syllabus(self):\n",
    "                print('No data available')"
   ]
  },
  {
   "cell_type": "code",
   "execution_count": 47,
   "id": "3d9a1933-682b-4391-8d03-aad55efca02b",
   "metadata": {},
   "outputs": [
    {
     "name": "stdout",
     "output_type": "stream",
     "text": [
      "<__main__.University object at 0x0000017C35305700> <class '__main__.University'>\n"
     ]
    }
   ],
   "source": [
    "x = University()\n",
    "print(x, type(x))"
   ]
  },
  {
   "cell_type": "code",
   "execution_count": 48,
   "id": "9194815a-af6f-4197-b6e1-957a78ee3651",
   "metadata": {},
   "outputs": [
    {
     "name": "stdout",
     "output_type": "stream",
     "text": [
      "<__main__.University.Degree object at 0x0000017C35304200> <class '__main__.University.Degree'>\n"
     ]
    }
   ],
   "source": [
    "y = x.Degree()\n",
    "print(y, type(y))"
   ]
  },
  {
   "cell_type": "code",
   "execution_count": 49,
   "id": "9e872332-cb3c-411e-8bcb-588e8e371d6a",
   "metadata": {},
   "outputs": [
    {
     "name": "stdout",
     "output_type": "stream",
     "text": [
      "<__main__.University.Degree.Course object at 0x0000017C35306240> <class '__main__.University.Degree.Course'>\n"
     ]
    }
   ],
   "source": [
    "z = y.Course()\n",
    "print(z, type(z))"
   ]
  },
  {
   "cell_type": "markdown",
   "id": "aa3eb6eb-5156-4a12-a915-9d4f9d26cd9f",
   "metadata": {},
   "source": [
    "##### z ----> is a reference variable "
   ]
  },
  {
   "cell_type": "code",
   "execution_count": 50,
   "id": "82a6d36c-fa72-4e30-838d-8a1863540554",
   "metadata": {},
   "outputs": [
    {
     "name": "stdout",
     "output_type": "stream",
     "text": [
      "No data available\n"
     ]
    }
   ],
   "source": [
    "z.syllabus() # Instance method"
   ]
  },
  {
   "cell_type": "code",
   "execution_count": 53,
   "id": "8f1360c3-34be-498a-9089-dc853fef4bf7",
   "metadata": {},
   "outputs": [
    {
     "ename": "TypeError",
     "evalue": "University.Degree.Course.syllabus() missing 1 required positional argument: 'self'",
     "output_type": "error",
     "traceback": [
      "\u001b[1;31m---------------------------------------------------------------------------\u001b[0m",
      "\u001b[1;31mTypeError\u001b[0m                                 Traceback (most recent call last)",
      "Cell \u001b[1;32mIn[53], line 1\u001b[0m\n\u001b[1;32m----> 1\u001b[0m y\u001b[38;5;241m.\u001b[39mCourse\u001b[38;5;241m.\u001b[39msyllabus()\n",
      "\u001b[1;31mTypeError\u001b[0m: University.Degree.Course.syllabus() missing 1 required positional argument: 'self'"
     ]
    }
   ],
   "source": [
    "y.Course.syllabus() # Static method "
   ]
  },
  {
   "cell_type": "code",
   "execution_count": 54,
   "id": "30d3df5a-43ef-4b84-a6fe-838aed2f0e3a",
   "metadata": {},
   "outputs": [
    {
     "name": "stdout",
     "output_type": "stream",
     "text": [
      "No data available\n"
     ]
    }
   ],
   "source": [
    "y.Course.syllabus(2)"
   ]
  },
  {
   "cell_type": "code",
   "execution_count": 65,
   "id": "e459c8f2-e8f9-4910-afa8-98a764de2740",
   "metadata": {},
   "outputs": [],
   "source": [
    "class Human:\n",
    "\n",
    "    def __init__(self):\n",
    "        self.name = 'Arnab'\n",
    "        self.head = self.Head()\n",
    "        self.brain = self.head.Brain()\n",
    "\n",
    "    def display(self):\n",
    "        print(f'I am {self.name}')\n",
    "        self.head.talk()\n",
    "        self.brain.think()\n",
    "\n",
    "    class Head():\n",
    "        def talk(self):\n",
    "            print('I am talking')\n",
    "\n",
    "        class Brain():\n",
    "            def think(self):\n",
    "                print('I am thinking')"
   ]
  },
  {
   "cell_type": "code",
   "execution_count": 66,
   "id": "3612d129-d339-433a-a8bf-421e6948dbd1",
   "metadata": {},
   "outputs": [],
   "source": [
    "t = Human()"
   ]
  },
  {
   "cell_type": "code",
   "execution_count": 67,
   "id": "fba94d4b-07bb-429f-a52f-b5bc8b94fe8f",
   "metadata": {},
   "outputs": [
    {
     "name": "stdout",
     "output_type": "stream",
     "text": [
      "I am Arnab\n",
      "I am talking\n",
      "I am thinking\n"
     ]
    }
   ],
   "source": [
    "t.display()"
   ]
  },
  {
   "cell_type": "code",
   "execution_count": 68,
   "id": "ed8665ca-f163-411b-9859-94269c4632ac",
   "metadata": {},
   "outputs": [],
   "source": [
    "class Person:\n",
    "    def __init__(self, name, dd, mm, yyyy):\n",
    "        self.name = name\n",
    "        self.dob = self.Dob(dd, mm, yyyy)\n",
    "\n",
    "    def display(self):\n",
    "        print(f'I am {self.name}')\n",
    "        print(f'My DOB is {self.dob.dd}/{self.dob.mm}/{self.dob.yyyy}')\n",
    "\n",
    "\n",
    "    class Dob:\n",
    "        def __init__(self, dd, mm, yyyy):\n",
    "            self.dd = dd\n",
    "            self.mm = mm\n",
    "            self.yyyy = yyyy"
   ]
  },
  {
   "cell_type": "code",
   "execution_count": 70,
   "id": "0c763f39-6187-442b-9317-97bfaf3d1dea",
   "metadata": {},
   "outputs": [],
   "source": [
    "p = Person('Mayank', 1, 1, 1995)"
   ]
  },
  {
   "cell_type": "code",
   "execution_count": 71,
   "id": "c73f746d-f565-4e5e-b992-2c52b8f78dab",
   "metadata": {},
   "outputs": [
    {
     "name": "stdout",
     "output_type": "stream",
     "text": [
      "I am Mayank\n",
      "My DOB is 1/1/1995\n"
     ]
    }
   ],
   "source": [
    "p.display()"
   ]
  },
  {
   "cell_type": "markdown",
   "id": "5dfc538c-5c38-4c8d-a49e-d3045f7307b7",
   "metadata": {},
   "source": [
    "### Nested Methods \n",
    "\n",
    "- A method within another method is known as nested method\n",
    "- Whenever we want some functionality to be repeated then we use nested methods"
   ]
  },
  {
   "cell_type": "code",
   "execution_count": 72,
   "id": "75c1f119-3f2c-4745-9efe-e8e3c3a8da38",
   "metadata": {},
   "outputs": [],
   "source": [
    "class Test:\n",
    "\n",
    "    def m1(self):\n",
    "        a = 10\n",
    "        b = 20\n",
    "        print('The addition is -', a+b)\n",
    "        print('The subtraction is -', a-b)\n",
    "        print('The multiplication is -' , a*b)\n",
    "        print('The division is -', a/b)\n",
    "        print('-'*25)\n",
    "        print()\n",
    "\n",
    "        a = 100\n",
    "        b = 200        \n",
    "        print('The addition is -', a+b)\n",
    "        print('The subtraction is -', a-b)\n",
    "        print('The multiplication is -' , a*b)\n",
    "        print('The division is -', a/b)\n",
    "        print('-'*25)\n",
    "        print()\n",
    "\n",
    "        a = 1000\n",
    "        b = 2000\n",
    "        print('The addition is -', a+b)\n",
    "        print('The subtraction is -', a-b)\n",
    "        print('The multiplication is -' , a*b)\n",
    "        print('The division is -', a/b)\n",
    "        print('-'*25)\n",
    "        print()"
   ]
  },
  {
   "cell_type": "code",
   "execution_count": 74,
   "id": "03e6f821-1909-4e0f-a388-5f458bf0a13e",
   "metadata": {},
   "outputs": [
    {
     "name": "stdout",
     "output_type": "stream",
     "text": [
      "The addition is - 30\n",
      "The subtraction is - -10\n",
      "The multiplication is - 200\n",
      "The division is - 0.5\n",
      "-------------------------\n",
      "\n",
      "The addition is - 300\n",
      "The subtraction is - -100\n",
      "The multiplication is - 20000\n",
      "The division is - 0.5\n",
      "-------------------------\n",
      "\n",
      "The addition is - 3000\n",
      "The subtraction is - -1000\n",
      "The multiplication is - 2000000\n",
      "The division is - 0.5\n",
      "-------------------------\n",
      "\n"
     ]
    }
   ],
   "source": [
    "Test().m1()"
   ]
  },
  {
   "cell_type": "code",
   "execution_count": 76,
   "id": "9ec793c5-aea4-4879-adc8-e57f76bf39d9",
   "metadata": {},
   "outputs": [],
   "source": [
    "class Test1:\n",
    "    def m1(self):\n",
    "        def cal(a,b):\n",
    "            print('The addition is -', a+b)\n",
    "            print('The subtraction is -', a-b)\n",
    "            print('The multiplication is -' , a*b)\n",
    "            print('The division is -', a/b)\n",
    "            print('-'*25)\n",
    "            print()            \n",
    "        cal(10,20)\n",
    "        cal(100, 200)\n",
    "        cal(1000, 2000)"
   ]
  },
  {
   "cell_type": "code",
   "execution_count": 77,
   "id": "1f177c79-9eb2-41cd-9a3a-b1c87b2a8089",
   "metadata": {},
   "outputs": [
    {
     "name": "stdout",
     "output_type": "stream",
     "text": [
      "The addition is - 30\n",
      "The subtraction is - -10\n",
      "The multiplication is - 200\n",
      "The division is - 0.5\n",
      "-------------------------\n",
      "\n",
      "The addition is - 300\n",
      "The subtraction is - -100\n",
      "The multiplication is - 20000\n",
      "The division is - 0.5\n",
      "-------------------------\n",
      "\n",
      "The addition is - 3000\n",
      "The subtraction is - -1000\n",
      "The multiplication is - 2000000\n",
      "The division is - 0.5\n",
      "-------------------------\n",
      "\n"
     ]
    }
   ],
   "source": [
    "Test().m1()"
   ]
  },
  {
   "cell_type": "code",
   "execution_count": 78,
   "id": "9a17f9b2-5378-4448-a0e4-b8d6575617be",
   "metadata": {},
   "outputs": [],
   "source": [
    "names = ['Kuldeep', 'Atharav', 'Mayank', 'Rishabh']\n",
    "codes = [101,102,103,104]"
   ]
  },
  {
   "cell_type": "code",
   "execution_count": 81,
   "id": "d6f419a2-8080-4c42-8d97-71082ff221b4",
   "metadata": {},
   "outputs": [],
   "source": [
    "class Employee:\n",
    "    def details(self):\n",
    "        def emp(name, code):\n",
    "            print('Name-', name)\n",
    "            print('Code-', code)\n",
    "            print('-'*25)\n",
    "            print()\n",
    "        for i, j in zip(names, codes):\n",
    "            emp(i,j)"
   ]
  },
  {
   "cell_type": "code",
   "execution_count": 82,
   "id": "27effb63-627e-4e51-872b-4ecfbc82ecff",
   "metadata": {},
   "outputs": [
    {
     "name": "stdout",
     "output_type": "stream",
     "text": [
      "Name- Kuldeep\n",
      "Code- 101\n",
      "-------------------------\n",
      "\n",
      "Name- Atharav\n",
      "Code- 102\n",
      "-------------------------\n",
      "\n",
      "Name- Mayank\n",
      "Code- 103\n",
      "-------------------------\n",
      "\n",
      "Name- Rishabh\n",
      "Code- 104\n",
      "-------------------------\n",
      "\n"
     ]
    }
   ],
   "source": [
    "Employee().details()"
   ]
  },
  {
   "cell_type": "markdown",
   "id": "275a9f32-e169-4a9c-8a7a-106b35e56f63",
   "metadata": {},
   "source": [
    "### Garbage collection \n",
    "\n",
    "- Whenever we create some object they consume some memory\n",
    "- Any object that is of no use should be removed from the memory\n",
    "- Garbage collection is a way to destroy or remove these unwanted objects"
   ]
  },
  {
   "cell_type": "code",
   "execution_count": 83,
   "id": "f94a2bce-cf62-454f-ac71-9bdd7740b39b",
   "metadata": {},
   "outputs": [],
   "source": [
    "a = 10"
   ]
  },
  {
   "cell_type": "markdown",
   "id": "0cb38598-e35e-4cfc-9e43-4e9c62c23aa6",
   "metadata": {},
   "source": [
    "- create an object: The programmer or a developer we are responsible for creating an object\n",
    "- Destroy an object:- Garbage collector is responsible for destroying an object"
   ]
  },
  {
   "cell_type": "markdown",
   "id": "52a53b21-e51a-4068-9383-26da855c31dc",
   "metadata": {},
   "source": [
    "##### In python we can manage the garabage collection behaviour by uisng the gc module "
   ]
  },
  {
   "cell_type": "code",
   "execution_count": 84,
   "id": "de9567b3-335c-4255-b629-d2deb9db1772",
   "metadata": {},
   "outputs": [],
   "source": [
    "import gc"
   ]
  },
  {
   "cell_type": "code",
   "execution_count": 85,
   "id": "a8b8a518-72f6-4ade-87d9-05470212877f",
   "metadata": {},
   "outputs": [
    {
     "name": "stdout",
     "output_type": "stream",
     "text": [
      "True\n"
     ]
    }
   ],
   "source": [
    "print(gc.isenabled())"
   ]
  },
  {
   "cell_type": "markdown",
   "id": "ccc64136-5f8e-4ed0-b0f8-d9596942eef3",
   "metadata": {},
   "source": [
    "##### - By default, the gc is enabled "
   ]
  },
  {
   "cell_type": "code",
   "execution_count": 86,
   "id": "05a614ce-b97c-4634-ada5-4a4a6f33327c",
   "metadata": {},
   "outputs": [],
   "source": [
    "gc.disable()"
   ]
  },
  {
   "cell_type": "code",
   "execution_count": 87,
   "id": "220fa434-5c2a-4a90-a26b-20f7c29de741",
   "metadata": {},
   "outputs": [
    {
     "name": "stdout",
     "output_type": "stream",
     "text": [
      "False\n"
     ]
    }
   ],
   "source": [
    "print(gc.isenabled())"
   ]
  },
  {
   "cell_type": "markdown",
   "id": "589c2de9-ce38-4962-8134-448fce5c4342",
   "metadata": {},
   "source": [
    "##### The object that does not have any reference variable then we can say that such objects are eligible for GC\n",
    "\n",
    "                                                                                                   "
   ]
  },
  {
   "cell_type": "markdown",
   "id": "687f1915-1bd3-4a06-836d-a2f23895c591",
   "metadata": {},
   "source": [
    "- When an object is eligible for GC still it can't be deleted from the memory as it may have\n",
    "    - Database connections\n",
    "    - Network connections\n",
    "\n",
    "- A garbage collector has to release these resources first and this process is called cleaning up the resources \n",
    "\n",
    "- A garbage collector will call a destructor, this destructor will perform the cleaning activities on the object, the destructor will release the resources from the object after this the garbage collector can destroy the object\n",
    "\n",
    "- So, we can say that the garbage collector will call the Destructor\n",
    "\n",
    "- When GC calls the Destructor ?\n",
    "  - Just before destroying the object (when an object is eligibe to be collected)\n",
    " \n",
    "- When an object is eligible to be collected?\n",
    "  - as soon as the object has zero reference then it is eligible to be collected\n",
    "\n"
   ]
  },
  {
   "cell_type": "markdown",
   "id": "8d99097f-1b2d-4b54-bed3-fa8a2aaeb950",
   "metadata": {},
   "source": [
    "### Life cycle of an object \n",
    "\n",
    "- Create an object (Initialisation of an object)\n",
    "- Use the object\n",
    "- Destroy the object when it is useless"
   ]
  },
  {
   "cell_type": "code",
   "execution_count": 89,
   "id": "1891c861-8358-4487-9e65-642753481380",
   "metadata": {},
   "outputs": [],
   "source": [
    "class Test:\n",
    "    def __init__(self): # Constructor \n",
    "        print('Initialisation of an object')\n",
    "    def __del__(self): # Destructor \n",
    "        print('Cleaning up activities is going on')"
   ]
  },
  {
   "cell_type": "code",
   "execution_count": 91,
   "id": "9ece575d-4b5c-4e0e-8359-4fc504e686a5",
   "metadata": {},
   "outputs": [],
   "source": [
    "import time "
   ]
  },
  {
   "cell_type": "code",
   "execution_count": 95,
   "id": "cd0ccce1-01e1-4814-b9f0-7fc0635f9aa1",
   "metadata": {},
   "outputs": [
    {
     "name": "stdout",
     "output_type": "stream",
     "text": [
      "Initialisation of an object\n",
      "I am using the object as per my reqiurement\n",
      "End the application\n"
     ]
    }
   ],
   "source": [
    "t1 = Test()\n",
    "print('I am using the object as per my reqiurement')\n",
    "time.sleep(5)\n",
    "print('End the application')"
   ]
  },
  {
   "cell_type": "code",
   "execution_count": 97,
   "id": "4de6e280-8644-4601-b325-852bddc8772a",
   "metadata": {},
   "outputs": [
    {
     "name": "stdout",
     "output_type": "stream",
     "text": [
      "Initialisation of an object\n",
      "Cleaning up activities is going on\n",
      "I am using the object as per my reqiurement\n",
      "End the application\n"
     ]
    }
   ],
   "source": [
    "t1 = Test()\n",
    "print('I am using the object as per my reqiurement')\n",
    "time.sleep(5)\n",
    "print('End the application')"
   ]
  },
  {
   "cell_type": "code",
   "execution_count": 98,
   "id": "ea4dbc43-fc04-4a75-aed9-dabe83e2aba3",
   "metadata": {},
   "outputs": [
    {
     "name": "stdout",
     "output_type": "stream",
     "text": [
      "Initialisation of an object\n",
      "Cleaning up activities is going on\n",
      "I am using the object as per my reqiurement\n",
      "Cleaning up activities is going on\n",
      "End the application\n"
     ]
    }
   ],
   "source": [
    "t1 = Test()\n",
    "print('I am using the object as per my reqiurement')\n",
    "del t1\n",
    "print('End the application')"
   ]
  },
  {
   "cell_type": "markdown",
   "id": "e8869589-e605-4b5f-8281-f64bca040bbd",
   "metadata": {},
   "source": [
    "#### How to get the reference count "
   ]
  },
  {
   "cell_type": "code",
   "execution_count": 99,
   "id": "2f042ff7-34fb-4771-a3a6-5db70b5ca81e",
   "metadata": {},
   "outputs": [],
   "source": [
    "import sys"
   ]
  },
  {
   "cell_type": "code",
   "execution_count": 100,
   "id": "e8f763dc-5651-4dcd-aebd-26aa9ccb1bae",
   "metadata": {},
   "outputs": [],
   "source": [
    "class Test:\n",
    "    def __init__(self): # Constructor \n",
    "        print('Initialisation of an object')\n",
    "    def __del__(self): # Destructor \n",
    "        print('Cleaning up activities is going on')"
   ]
  },
  {
   "cell_type": "code",
   "execution_count": 101,
   "id": "47a4a5d7-d3eb-4199-981b-d181f4ef8e52",
   "metadata": {},
   "outputs": [
    {
     "name": "stdout",
     "output_type": "stream",
     "text": [
      "Initialisation of an object\n"
     ]
    }
   ],
   "source": [
    "t1 = Test()"
   ]
  },
  {
   "cell_type": "code",
   "execution_count": 102,
   "id": "fcb9d9f1-ff09-40b8-97e3-cc4ca56bbeef",
   "metadata": {},
   "outputs": [
    {
     "name": "stdout",
     "output_type": "stream",
     "text": [
      "2\n"
     ]
    }
   ],
   "source": [
    "print(sys.getrefcount(t1))"
   ]
  },
  {
   "cell_type": "code",
   "execution_count": 103,
   "id": "d3a245f6-22de-4c9b-a269-ee86fae946e0",
   "metadata": {},
   "outputs": [],
   "source": [
    "t2 = t1"
   ]
  },
  {
   "cell_type": "code",
   "execution_count": 104,
   "id": "70059d6e-3609-4f7e-aa05-0550e8ead509",
   "metadata": {},
   "outputs": [
    {
     "name": "stdout",
     "output_type": "stream",
     "text": [
      "3\n"
     ]
    }
   ],
   "source": [
    "print(sys.getrefcount(t1))"
   ]
  },
  {
   "cell_type": "code",
   "execution_count": 105,
   "id": "d3e4193a-8ac3-4534-8b3f-6d224046b7ac",
   "metadata": {},
   "outputs": [],
   "source": [
    "t3 = t1"
   ]
  },
  {
   "cell_type": "code",
   "execution_count": 106,
   "id": "fa940399-a495-4a4c-9a8c-0c512c616580",
   "metadata": {},
   "outputs": [
    {
     "name": "stdout",
     "output_type": "stream",
     "text": [
      "4\n"
     ]
    }
   ],
   "source": [
    "print(sys.getrefcount(t1))"
   ]
  },
  {
   "cell_type": "code",
   "execution_count": 107,
   "id": "dbe25a94-391c-4a23-9076-b4760a9f3b72",
   "metadata": {},
   "outputs": [],
   "source": [
    "t4 = t1"
   ]
  },
  {
   "cell_type": "code",
   "execution_count": 108,
   "id": "85490ab6-b27b-46cc-9583-5d1cf6587a8f",
   "metadata": {},
   "outputs": [
    {
     "name": "stdout",
     "output_type": "stream",
     "text": [
      "5\n"
     ]
    }
   ],
   "source": [
    "print(sys.getrefcount(t1))"
   ]
  },
  {
   "cell_type": "code",
   "execution_count": 109,
   "id": "a8f13371-fe87-43f4-b874-63d861d36b73",
   "metadata": {},
   "outputs": [
    {
     "name": "stdout",
     "output_type": "stream",
     "text": [
      "Deleting t1\n",
      "End of the application\n"
     ]
    }
   ],
   "source": [
    "del t1\n",
    "print('Deleting t1')\n",
    "time.sleep(5)\n",
    "print('End of the application')"
   ]
  },
  {
   "cell_type": "code",
   "execution_count": 110,
   "id": "2fa90e0e-0fae-44bb-b148-d407249dcb22",
   "metadata": {},
   "outputs": [
    {
     "ename": "NameError",
     "evalue": "name 't1' is not defined",
     "output_type": "error",
     "traceback": [
      "\u001b[1;31m---------------------------------------------------------------------------\u001b[0m",
      "\u001b[1;31mNameError\u001b[0m                                 Traceback (most recent call last)",
      "Cell \u001b[1;32mIn[110], line 1\u001b[0m\n\u001b[1;32m----> 1\u001b[0m \u001b[38;5;28mprint\u001b[39m(sys\u001b[38;5;241m.\u001b[39mgetrefcount(t1))\n",
      "\u001b[1;31mNameError\u001b[0m: name 't1' is not defined"
     ]
    }
   ],
   "source": [
    "print(sys.getrefcount(t1))"
   ]
  },
  {
   "cell_type": "code",
   "execution_count": null,
   "id": "084ed6b1-90b7-453c-99f7-82175ece7360",
   "metadata": {},
   "outputs": [],
   "source": [
    "Class\n",
    "Object\n",
    "Types of variables\n",
    "Types of methods\n",
    "Nested class\n",
    "Nested methods\n",
    "Accessing the object of one class into another \n",
    "Garbage collector "
   ]
  },
  {
   "cell_type": "markdown",
   "id": "ba8f69bc-f13e-4583-854a-e8e89b0b5a57",
   "metadata": {},
   "source": [
    "### Inheritance\n",
    "\n",
    "- When we can call the members(attributes and method) of one call into another class\n",
    "- We can achieve this by the following two ways-\n",
    "  - Composition ----> has relationship\n",
    "  - Inheritance ----> is relation "
   ]
  },
  {
   "cell_type": "code",
   "execution_count": 111,
   "id": "3d43d458-b2a8-458f-8f32-6a429a135fd1",
   "metadata": {},
   "outputs": [],
   "source": [
    "class Engine:\n",
    "    a = 10\n",
    "    def __init__(self):\n",
    "        self.b = 20\n",
    "\n",
    "    def m1(self):\n",
    "        print('I am a method from Engine class')"
   ]
  },
  {
   "cell_type": "code",
   "execution_count": 112,
   "id": "f5533181-b77c-4bc7-ac14-091b3192da79",
   "metadata": {},
   "outputs": [],
   "source": [
    "class Car:\n",
    "    def __init__(self):\n",
    "        self.engine = Engine() # self.engine will conatin Engine class object\n",
    "    def m2(self):\n",
    "        print('class car is using Engine class functionalities')\n",
    "        print(self.engine.a)\n",
    "        print(self.engine.b)\n",
    "        self.engine.m1()"
   ]
  },
  {
   "cell_type": "code",
   "execution_count": 113,
   "id": "f80a2f65-c99f-4ba4-9753-815c21314fc0",
   "metadata": {},
   "outputs": [],
   "source": [
    "c = Car()"
   ]
  },
  {
   "cell_type": "code",
   "execution_count": 114,
   "id": "af8823d9-05bb-45a6-bdec-4959535ed03c",
   "metadata": {},
   "outputs": [
    {
     "data": {
      "text/plain": [
       "{'engine': <__main__.Engine at 0x17c339aaba0>}"
      ]
     },
     "execution_count": 114,
     "metadata": {},
     "output_type": "execute_result"
    }
   ],
   "source": [
    "c.__dict__"
   ]
  },
  {
   "cell_type": "code",
   "execution_count": 115,
   "id": "f8e2cfd9-72ea-423e-a2cc-f06e0efea92e",
   "metadata": {},
   "outputs": [
    {
     "name": "stdout",
     "output_type": "stream",
     "text": [
      "class car is using Engine class functionalities\n",
      "10\n",
      "20\n",
      "I am a method from Engine class\n"
     ]
    }
   ],
   "source": [
    "c.m2()"
   ]
  },
  {
   "cell_type": "code",
   "execution_count": null,
   "id": "0bbea43c-f87c-45f6-bbd4-2fcce342789e",
   "metadata": {},
   "outputs": [],
   "source": [
    "# There is an employee \n",
    "# an employee may have a car\n",
    "# an employee may use class functionalities "
   ]
  },
  {
   "cell_type": "code",
   "execution_count": 116,
   "id": "6215bf02-a7f8-404b-84d4-c621d205f141",
   "metadata": {},
   "outputs": [],
   "source": [
    "class Employee:\n",
    "    def __init__(self, eno, ename, esal):\n",
    "        self.eno = eno\n",
    "        self.ename = ename\n",
    "        self.esal = esal\n",
    "\n",
    "    def empInfo(self):\n",
    "        print(f'Employee name is {self.ename}')\n",
    "        print(f'Employee ID is {self.eno}')\n",
    "        print(f'Employee salary is {self.esal}')"
   ]
  },
  {
   "cell_type": "code",
   "execution_count": 117,
   "id": "9f89b1a1-09bd-44e9-b3a5-ac266b85cf5b",
   "metadata": {},
   "outputs": [],
   "source": [
    "class Car:\n",
    "    def __init__(self, name, model, color):\n",
    "        self.name = name\n",
    "        self.model = model\n",
    "        self.color = color\n",
    "\n",
    "    def get_car_info(self):\n",
    "        print(f'The car name is {self.name}')\n",
    "        print(f'The car model is {self.model}')\n",
    "        print(f'The color of the car is {self.color}')"
   ]
  },
  {
   "cell_type": "code",
   "execution_count": 118,
   "id": "36a8bdff-2a83-4293-b698-5334aa71f55b",
   "metadata": {},
   "outputs": [],
   "source": [
    "e = Employee(101, 'Mayank', 95000)"
   ]
  },
  {
   "cell_type": "code",
   "execution_count": 119,
   "id": "39f7a695-77fd-47db-b257-43697ac2b012",
   "metadata": {},
   "outputs": [],
   "source": [
    "c = Car('Seltos', 'HTK plus', 'Cherry')"
   ]
  },
  {
   "cell_type": "code",
   "execution_count": 120,
   "id": "7f19cc82-dcab-4dae-a729-37e9eac499ae",
   "metadata": {},
   "outputs": [
    {
     "name": "stdout",
     "output_type": "stream",
     "text": [
      "The car name is Seltos\n",
      "The car model is HTK plus\n",
      "The color of the car is Cherry\n"
     ]
    }
   ],
   "source": [
    "c.get_car_info()"
   ]
  },
  {
   "cell_type": "code",
   "execution_count": 121,
   "id": "d3ce7ce8-dd68-48fe-989f-764c0edf68f8",
   "metadata": {},
   "outputs": [
    {
     "name": "stdout",
     "output_type": "stream",
     "text": [
      "Employee name is Mayank\n",
      "Employee ID is 101\n",
      "Employee salary is 95000\n"
     ]
    }
   ],
   "source": [
    "e.empInfo()"
   ]
  },
  {
   "cell_type": "code",
   "execution_count": 130,
   "id": "c48be121-c036-4aad-905c-59fb4eb5328f",
   "metadata": {},
   "outputs": [],
   "source": [
    "class Employee:\n",
    "    def __init__(self, eno, ename, esal):\n",
    "        self.eno = eno\n",
    "        self.ename = ename\n",
    "        self.esal = esal\n",
    "        self.car = c\n",
    "\n",
    "    def empInfo(self):\n",
    "        print(f'Employee name is {self.ename}')\n",
    "        print(f'Employee ID is {self.eno}')\n",
    "        print(f'Employee salary is {self.esal}')\n",
    "        print('-'*25)\n",
    "        print(f'Car Information of {self.ename} is -')\n",
    "        self.car.get_car_info()"
   ]
  },
  {
   "cell_type": "code",
   "execution_count": 131,
   "id": "0068c721-794f-4d31-89b9-dd7249855a5d",
   "metadata": {},
   "outputs": [],
   "source": [
    "c = Car('Vitara', 'ZX', 'Gray')"
   ]
  },
  {
   "cell_type": "code",
   "execution_count": 132,
   "id": "4cfd1efa-1e4f-460c-b299-4608ee34a762",
   "metadata": {},
   "outputs": [],
   "source": [
    "e = Employee(101, 'Mayank', 95000)"
   ]
  },
  {
   "cell_type": "code",
   "execution_count": 133,
   "id": "ac69099c-3258-4dea-9718-cc33c0949aef",
   "metadata": {},
   "outputs": [
    {
     "name": "stdout",
     "output_type": "stream",
     "text": [
      "Employee name is Mayank\n",
      "Employee ID is 101\n",
      "Employee salary is 95000\n",
      "-------------------------\n",
      "Car Information of Mayank is -\n",
      "The car name is Vitara\n",
      "The car model is ZX\n",
      "The color of the car is Gray\n"
     ]
    }
   ],
   "source": [
    "e.empInfo()"
   ]
  },
  {
   "cell_type": "markdown",
   "id": "3ba4d834-4e0f-400e-a02f-10bd0e5cab59",
   "metadata": {},
   "source": [
    "### When we access the object of one class into another class using the reference variable or class name, this process is called composition "
   ]
  },
  {
   "cell_type": "markdown",
   "id": "a947b794-bfda-4a7f-b18a-06889eb77f15",
   "metadata": {},
   "source": [
    "### Inheritance \n",
    "\n",
    "- IS ----> a relation "
   ]
  },
  {
   "cell_type": "markdown",
   "id": "f652fb93-7f81-4406-9a12-57adaebfd9b6",
   "metadata": {},
   "source": [
    "                Class P: # Parent class\n",
    "                    constructor|method|variables \n",
    "                \n",
    "                Class C(P): # child class \n",
    "                    pass\n",
    "\n",
    "- In this case, all the members(attributes or methods) of the parent class are available for the child class as well "
   ]
  },
  {
   "cell_type": "code",
   "execution_count": 135,
   "id": "71e07635-f818-419e-bc18-92fccc97f1fe",
   "metadata": {},
   "outputs": [],
   "source": [
    "class P: # Parent \n",
    "    a = 10\n",
    "    def m1(self):\n",
    "        print('I am m1 method of parent class')\n",
    "\n",
    "    @classmethod\n",
    "    def class_method(cls):\n",
    "        print('Class method of parent class')\n",
    "\n",
    "    @staticmethod\n",
    "    def stat_method():\n",
    "        print('I am the static method of the paret class')"
   ]
  },
  {
   "cell_type": "code",
   "execution_count": 136,
   "id": "4d1a2c74-08c4-439d-9a75-253b5a23b63a",
   "metadata": {},
   "outputs": [],
   "source": [
    "class C(P): # Child class inheriting the members of the Parent class\n",
    "    pass"
   ]
  },
  {
   "cell_type": "code",
   "execution_count": 137,
   "id": "536bb9f9-d56f-4774-abee-7297ec16590b",
   "metadata": {},
   "outputs": [],
   "source": [
    "c = C()"
   ]
  },
  {
   "cell_type": "code",
   "execution_count": 138,
   "id": "c4b7a27f-a137-4fd1-9e40-d87a397737a5",
   "metadata": {},
   "outputs": [
    {
     "data": {
      "text/plain": [
       "10"
      ]
     },
     "execution_count": 138,
     "metadata": {},
     "output_type": "execute_result"
    }
   ],
   "source": [
    "c.a"
   ]
  },
  {
   "cell_type": "code",
   "execution_count": 139,
   "id": "5a97dc17-ee51-491f-b978-12f81b79af03",
   "metadata": {},
   "outputs": [
    {
     "name": "stdout",
     "output_type": "stream",
     "text": [
      "I am m1 method of parent class\n"
     ]
    }
   ],
   "source": [
    "c.m1()"
   ]
  },
  {
   "cell_type": "code",
   "execution_count": 140,
   "id": "05009210-5d01-409b-a51e-87bc5a97d8cb",
   "metadata": {},
   "outputs": [
    {
     "name": "stdout",
     "output_type": "stream",
     "text": [
      "Class method of parent class\n"
     ]
    }
   ],
   "source": [
    "c.class_method()"
   ]
  },
  {
   "cell_type": "code",
   "execution_count": 141,
   "id": "5431f26d-03ed-4047-b417-bef4038a3113",
   "metadata": {},
   "outputs": [
    {
     "name": "stdout",
     "output_type": "stream",
     "text": [
      "I am the static method of the paret class\n"
     ]
    }
   ],
   "source": [
    "c.stat_method()"
   ]
  },
  {
   "cell_type": "code",
   "execution_count": 144,
   "id": "a6b931d8-18dd-4fdf-a7c9-dc2ddced80fe",
   "metadata": {},
   "outputs": [],
   "source": [
    "class C: # Child class which is not inheriting the members of the parent clas\n",
    "    pass"
   ]
  },
  {
   "cell_type": "code",
   "execution_count": 145,
   "id": "91d49d3b-b80a-42ce-9a5b-85d66400b441",
   "metadata": {},
   "outputs": [],
   "source": [
    "c = C()"
   ]
  },
  {
   "cell_type": "code",
   "execution_count": 146,
   "id": "1eee8cbc-4c3a-4433-990b-d40114fe41e4",
   "metadata": {},
   "outputs": [
    {
     "ename": "AttributeError",
     "evalue": "'C' object has no attribute 'a'",
     "output_type": "error",
     "traceback": [
      "\u001b[1;31m---------------------------------------------------------------------------\u001b[0m",
      "\u001b[1;31mAttributeError\u001b[0m                            Traceback (most recent call last)",
      "Cell \u001b[1;32mIn[146], line 1\u001b[0m\n\u001b[1;32m----> 1\u001b[0m c\u001b[38;5;241m.\u001b[39ma\n",
      "\u001b[1;31mAttributeError\u001b[0m: 'C' object has no attribute 'a'"
     ]
    }
   ],
   "source": [
    "c.a"
   ]
  },
  {
   "cell_type": "code",
   "execution_count": 147,
   "id": "97a6da9d-34c8-4750-91ba-e503794b8c4d",
   "metadata": {},
   "outputs": [],
   "source": [
    "class Person:\n",
    "\n",
    "    def __init__(self, name, age, address):\n",
    "        self.name = name\n",
    "        self.age = age\n",
    "        self.address = address\n",
    "\n",
    "    def walk(self):\n",
    "        print(f'{self.name} can walk')\n",
    "\n",
    "    def eat_n_drink(self):\n",
    "        print('I can eat and drink')"
   ]
  },
  {
   "cell_type": "code",
   "execution_count": 149,
   "id": "c53c319f-0621-4216-97c3-c54b3e8684f9",
   "metadata": {},
   "outputs": [],
   "source": [
    "class Employee(Person):\n",
    "    def __init__(self, name, age, eno, esal):\n",
    "        self.eno = eno\n",
    "        self.esal = esal\n",
    "\n",
    "    def emp_info(self):\n",
    "        print(f'The name of the employee is {self.name}')\n",
    "        print(f'The age of the employee is {self.age}')\n",
    "        print(f'The ID of the employee is {self.eno}')\n",
    "        print(f'The salary of the employee is {self.esal}')"
   ]
  },
  {
   "cell_type": "code",
   "execution_count": 151,
   "id": "0179f8f1-d478-4367-b6ef-a858269c45e5",
   "metadata": {},
   "outputs": [],
   "source": [
    "e = Employee('Arthav', 25, 11, 68000)"
   ]
  },
  {
   "cell_type": "code",
   "execution_count": 152,
   "id": "24de5d34-5a50-4ea5-ad4a-0889c583b6e8",
   "metadata": {},
   "outputs": [
    {
     "ename": "AttributeError",
     "evalue": "'Employee' object has no attribute 'name'",
     "output_type": "error",
     "traceback": [
      "\u001b[1;31m---------------------------------------------------------------------------\u001b[0m",
      "\u001b[1;31mAttributeError\u001b[0m                            Traceback (most recent call last)",
      "Cell \u001b[1;32mIn[152], line 1\u001b[0m\n\u001b[1;32m----> 1\u001b[0m e\u001b[38;5;241m.\u001b[39mwalk()\n",
      "Cell \u001b[1;32mIn[147], line 9\u001b[0m, in \u001b[0;36mPerson.walk\u001b[1;34m(self)\u001b[0m\n\u001b[0;32m      8\u001b[0m \u001b[38;5;28;01mdef\u001b[39;00m \u001b[38;5;21mwalk\u001b[39m(\u001b[38;5;28mself\u001b[39m):\n\u001b[1;32m----> 9\u001b[0m     \u001b[38;5;28mprint\u001b[39m(\u001b[38;5;124mf\u001b[39m\u001b[38;5;124m'\u001b[39m\u001b[38;5;132;01m{\u001b[39;00m\u001b[38;5;28mself\u001b[39m\u001b[38;5;241m.\u001b[39mname\u001b[38;5;132;01m}\u001b[39;00m\u001b[38;5;124m can walk\u001b[39m\u001b[38;5;124m'\u001b[39m)\n",
      "\u001b[1;31mAttributeError\u001b[0m: 'Employee' object has no attribute 'name'"
     ]
    }
   ],
   "source": [
    "e.walk()"
   ]
  },
  {
   "cell_type": "code",
   "execution_count": 153,
   "id": "07b16b77-576a-49e9-8cbb-20d746b3c9d4",
   "metadata": {},
   "outputs": [
    {
     "data": {
      "text/plain": [
       "11"
      ]
     },
     "execution_count": 153,
     "metadata": {},
     "output_type": "execute_result"
    }
   ],
   "source": [
    "e.eno"
   ]
  },
  {
   "cell_type": "code",
   "execution_count": 154,
   "id": "a6c7a29e-cea4-48a3-9362-ecb3ea29a255",
   "metadata": {},
   "outputs": [
    {
     "data": {
      "text/plain": [
       "68000"
      ]
     },
     "execution_count": 154,
     "metadata": {},
     "output_type": "execute_result"
    }
   ],
   "source": [
    "e.esal"
   ]
  },
  {
   "cell_type": "code",
   "execution_count": 155,
   "id": "a9df977c-8568-4d52-9e8d-71ade5d7fd27",
   "metadata": {},
   "outputs": [
    {
     "ename": "AttributeError",
     "evalue": "'Employee' object has no attribute 'name'",
     "output_type": "error",
     "traceback": [
      "\u001b[1;31m---------------------------------------------------------------------------\u001b[0m",
      "\u001b[1;31mAttributeError\u001b[0m                            Traceback (most recent call last)",
      "Cell \u001b[1;32mIn[155], line 1\u001b[0m\n\u001b[1;32m----> 1\u001b[0m e\u001b[38;5;241m.\u001b[39mname\n",
      "\u001b[1;31mAttributeError\u001b[0m: 'Employee' object has no attribute 'name'"
     ]
    }
   ],
   "source": [
    "e.name"
   ]
  },
  {
   "cell_type": "code",
   "execution_count": 156,
   "id": "e37260b5-ee39-45ea-b2c9-c363b027de27",
   "metadata": {},
   "outputs": [
    {
     "ename": "AttributeError",
     "evalue": "'Employee' object has no attribute 'age'",
     "output_type": "error",
     "traceback": [
      "\u001b[1;31m---------------------------------------------------------------------------\u001b[0m",
      "\u001b[1;31mAttributeError\u001b[0m                            Traceback (most recent call last)",
      "Cell \u001b[1;32mIn[156], line 1\u001b[0m\n\u001b[1;32m----> 1\u001b[0m e\u001b[38;5;241m.\u001b[39mage\n",
      "\u001b[1;31mAttributeError\u001b[0m: 'Employee' object has no attribute 'age'"
     ]
    }
   ],
   "source": [
    "e.age"
   ]
  },
  {
   "cell_type": "markdown",
   "id": "778cc3ca-8b8b-4b2e-b67d-a7f7d0a80fd0",
   "metadata": {},
   "source": [
    "#### If the child class has a constructor and the parent class also has a constructor, then only the child constructor gets executed "
   ]
  },
  {
   "cell_type": "code",
   "execution_count": 164,
   "id": "9f7eb715-6608-42b7-a96f-084fa5f78551",
   "metadata": {},
   "outputs": [],
   "source": [
    "class Person:\n",
    "\n",
    "    def __init__(self, name, age):\n",
    "        self.name = name\n",
    "        self.age = age\n",
    "    def walk(self):\n",
    "        print(f'{self.name} can walk')\n",
    "\n",
    "    def eat_n_drink(self):\n",
    "        print('I can eat and drink')"
   ]
  },
  {
   "cell_type": "code",
   "execution_count": 165,
   "id": "ec9fdfcf-541a-4709-a7f7-cee7d5643a36",
   "metadata": {},
   "outputs": [],
   "source": [
    "class Employee(Person):\n",
    "    def __init__(self, name, age, eno, esal):\n",
    "        super().__init__(name, age)\n",
    "        self.eno = eno\n",
    "        self.esal = esal\n",
    "\n",
    "    def emp_info(self):\n",
    "        print(f'The name of the employee is {self.name}')\n",
    "        print(f'The age of the employee is {self.age}')\n",
    "        print(f'The ID of the employee is {self.eno}')\n",
    "        print(f'The salary of the employee is {self.esal}')"
   ]
  },
  {
   "cell_type": "code",
   "execution_count": 166,
   "id": "764d8b53-6fb9-44ac-aa4b-af7389730d4e",
   "metadata": {},
   "outputs": [],
   "source": [
    "e = Employee('Arthav', 25, 11, 68000)"
   ]
  },
  {
   "cell_type": "code",
   "execution_count": 167,
   "id": "3c598d56-faaf-4ff0-bf1c-a655a6974d8b",
   "metadata": {},
   "outputs": [
    {
     "data": {
      "text/plain": [
       "'Arthav'"
      ]
     },
     "execution_count": 167,
     "metadata": {},
     "output_type": "execute_result"
    }
   ],
   "source": [
    "e.name"
   ]
  },
  {
   "cell_type": "code",
   "execution_count": 168,
   "id": "61f7a835-3217-48a9-a829-71a8d1f46a50",
   "metadata": {},
   "outputs": [
    {
     "data": {
      "text/plain": [
       "25"
      ]
     },
     "execution_count": 168,
     "metadata": {},
     "output_type": "execute_result"
    }
   ],
   "source": [
    "e.age"
   ]
  },
  {
   "cell_type": "code",
   "execution_count": 169,
   "id": "b1eb7ebd-ca9c-47fe-9e78-dd3f92ef328c",
   "metadata": {},
   "outputs": [
    {
     "data": {
      "text/plain": [
       "11"
      ]
     },
     "execution_count": 169,
     "metadata": {},
     "output_type": "execute_result"
    }
   ],
   "source": [
    "e.eno"
   ]
  },
  {
   "cell_type": "code",
   "execution_count": 170,
   "id": "6a4be7fd-1bbb-4998-800d-828fb388d97c",
   "metadata": {},
   "outputs": [
    {
     "data": {
      "text/plain": [
       "68000"
      ]
     },
     "execution_count": 170,
     "metadata": {},
     "output_type": "execute_result"
    }
   ],
   "source": [
    "e.esal"
   ]
  },
  {
   "cell_type": "markdown",
   "id": "0cfdd7d7-4f23-4535-8efe-1e3c3e639e05",
   "metadata": {},
   "source": [
    "##### When to use Inheritance \n",
    "\n",
    "- When we want to extend the functionality of a Child class with some more functionalities then we will go with inheritance\n",
    "\n",
    "##### When to use Composition\n",
    "\n",
    "- When we don't want to extend the functionality of a class but we just need the information then we go with the composition \n"
   ]
  },
  {
   "cell_type": "code",
   "execution_count": null,
   "id": "30f772a2-eab6-4604-bbc6-7aed1c276ba7",
   "metadata": {},
   "outputs": [],
   "source": []
  }
 ],
 "metadata": {
  "kernelspec": {
   "display_name": "Python 3 (ipykernel)",
   "language": "python",
   "name": "python3"
  },
  "language_info": {
   "codemirror_mode": {
    "name": "ipython",
    "version": 3
   },
   "file_extension": ".py",
   "mimetype": "text/x-python",
   "name": "python",
   "nbconvert_exporter": "python",
   "pygments_lexer": "ipython3",
   "version": "3.12.4"
  }
 },
 "nbformat": 4,
 "nbformat_minor": 5
}
