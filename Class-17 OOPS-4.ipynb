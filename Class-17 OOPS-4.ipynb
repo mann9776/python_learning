{
 "cells": [
  {
   "cell_type": "markdown",
   "id": "9093ed01-d9f5-47ab-a04e-1e61f23d4ccb",
   "metadata": {},
   "source": [
    "### Types of Inheritence\n",
    "\n",
    "- Single Inheritence\n",
    "- Muti-level Inheritence\n",
    "- Multiple Inheritence\n",
    "- Hierarchical Inheritence\n",
    "- Hybrid Inheritence\n",
    "- Cyclic Inheritence "
   ]
  },
  {
   "cell_type": "markdown",
   "id": "a8dd5f3f-7095-40fe-b7ee-6f87aef927b3",
   "metadata": {},
   "source": [
    "#### Single Inheritence \n",
    "\n",
    "- It will be used where we have one parent class and one child class "
   ]
  },
  {
   "cell_type": "code",
   "execution_count": 3,
   "id": "dc926c60-6637-417c-be07-7cffa572014e",
   "metadata": {},
   "outputs": [],
   "source": [
    "class P: # Parent class\n",
    "    def m1(self):\n",
    "        print('I am parent method')\n",
    "\n",
    "class C(P): # Child class\n",
    "    def m2(self):\n",
    "        print('I am child method')    "
   ]
  },
  {
   "cell_type": "code",
   "execution_count": 4,
   "id": "09013b20-3796-4bbd-aef0-1be0d6da5f88",
   "metadata": {},
   "outputs": [],
   "source": [
    "c = C()"
   ]
  },
  {
   "cell_type": "code",
   "execution_count": 5,
   "id": "0b4ac660-b986-4f1a-906c-87eb599d284f",
   "metadata": {},
   "outputs": [
    {
     "name": "stdout",
     "output_type": "stream",
     "text": [
      "I am parent method\n"
     ]
    }
   ],
   "source": [
    "c.m1()"
   ]
  },
  {
   "cell_type": "code",
   "execution_count": 6,
   "id": "13e1ce95-6d57-45fa-bfde-d51241caa55f",
   "metadata": {},
   "outputs": [
    {
     "name": "stdout",
     "output_type": "stream",
     "text": [
      "I am child method\n"
     ]
    }
   ],
   "source": [
    "c.m2()"
   ]
  },
  {
   "cell_type": "code",
   "execution_count": 7,
   "id": "1c7ec9f5-eebd-469f-9693-8d3089cdecf4",
   "metadata": {},
   "outputs": [],
   "source": [
    "p = P()"
   ]
  },
  {
   "cell_type": "code",
   "execution_count": 8,
   "id": "68092c48-a5e2-4bd1-bfa6-5f0553e5eabb",
   "metadata": {},
   "outputs": [
    {
     "name": "stdout",
     "output_type": "stream",
     "text": [
      "I am parent method\n"
     ]
    }
   ],
   "source": [
    "p.m1()"
   ]
  },
  {
   "cell_type": "code",
   "execution_count": 9,
   "id": "c507409d-48b5-4cd3-9534-69c18407fc2f",
   "metadata": {},
   "outputs": [
    {
     "ename": "AttributeError",
     "evalue": "'P' object has no attribute 'm2'",
     "output_type": "error",
     "traceback": [
      "\u001b[1;31m---------------------------------------------------------------------------\u001b[0m",
      "\u001b[1;31mAttributeError\u001b[0m                            Traceback (most recent call last)",
      "Cell \u001b[1;32mIn[9], line 1\u001b[0m\n\u001b[1;32m----> 1\u001b[0m p\u001b[38;5;241m.\u001b[39mm2()\n",
      "\u001b[1;31mAttributeError\u001b[0m: 'P' object has no attribute 'm2'"
     ]
    }
   ],
   "source": [
    "p.m2()"
   ]
  },
  {
   "cell_type": "markdown",
   "id": "1b7ea018-55b8-4014-b976-9e694caa6081",
   "metadata": {},
   "source": [
    "### Hierarchical Inheritence \n",
    "\n",
    "- When we have one parent class and multiple child classes then we call it as hierarchical inheritence\n",
    "- It is also called as one to many relationship "
   ]
  },
  {
   "cell_type": "code",
   "execution_count": 10,
   "id": "34308986-6ae9-4758-b29a-8b40f2a8049d",
   "metadata": {},
   "outputs": [],
   "source": [
    "class P:\n",
    "    def m1(self):\n",
    "        print('Parent class method')\n",
    "\n",
    "class C1(P):\n",
    "    def m2(self):\n",
    "        print('C1 class method ')\n",
    "\n",
    "class C2(P):\n",
    "    def m3(self):\n",
    "        print('C2 class method')\n",
    "\n",
    "class C3(P):\n",
    "    def m4(self):\n",
    "        print('C3 class method')"
   ]
  },
  {
   "cell_type": "code",
   "execution_count": 11,
   "id": "cf48aaa0-9de8-40b2-a582-1539d6c7fb25",
   "metadata": {},
   "outputs": [],
   "source": [
    "c = C1()"
   ]
  },
  {
   "cell_type": "code",
   "execution_count": 12,
   "id": "5dbbfa47-85e4-4aa7-9e6a-6490452938ba",
   "metadata": {},
   "outputs": [
    {
     "name": "stdout",
     "output_type": "stream",
     "text": [
      "Parent class method\n"
     ]
    }
   ],
   "source": [
    "c.m1()"
   ]
  },
  {
   "cell_type": "code",
   "execution_count": 13,
   "id": "7b3f9de7-330c-41cb-b90e-c924f2f6cf12",
   "metadata": {},
   "outputs": [
    {
     "name": "stdout",
     "output_type": "stream",
     "text": [
      "C1 class method \n"
     ]
    }
   ],
   "source": [
    "c.m2()"
   ]
  },
  {
   "cell_type": "code",
   "execution_count": 14,
   "id": "10d77979-6552-4edf-be5f-983d4e6c4137",
   "metadata": {},
   "outputs": [
    {
     "ename": "AttributeError",
     "evalue": "'C1' object has no attribute 'm3'",
     "output_type": "error",
     "traceback": [
      "\u001b[1;31m---------------------------------------------------------------------------\u001b[0m",
      "\u001b[1;31mAttributeError\u001b[0m                            Traceback (most recent call last)",
      "Cell \u001b[1;32mIn[14], line 1\u001b[0m\n\u001b[1;32m----> 1\u001b[0m c\u001b[38;5;241m.\u001b[39mm3()\n",
      "\u001b[1;31mAttributeError\u001b[0m: 'C1' object has no attribute 'm3'"
     ]
    }
   ],
   "source": [
    "c.m3()"
   ]
  },
  {
   "cell_type": "code",
   "execution_count": 15,
   "id": "d8cf8c28-6ef4-43d4-8240-02f702a66dfa",
   "metadata": {},
   "outputs": [],
   "source": [
    "c2 = C2()"
   ]
  },
  {
   "cell_type": "code",
   "execution_count": 16,
   "id": "96999b16-72ac-4c49-8f0d-e98639e01a90",
   "metadata": {},
   "outputs": [
    {
     "name": "stdout",
     "output_type": "stream",
     "text": [
      "Parent class method\n"
     ]
    }
   ],
   "source": [
    "c2.m1()"
   ]
  },
  {
   "cell_type": "code",
   "execution_count": 17,
   "id": "bcce71d5-27f5-49d0-b459-21ddc8524a16",
   "metadata": {},
   "outputs": [
    {
     "name": "stdout",
     "output_type": "stream",
     "text": [
      "C2 class method\n"
     ]
    }
   ],
   "source": [
    "c2.m3()"
   ]
  },
  {
   "cell_type": "code",
   "execution_count": 19,
   "id": "f3b4516e-52ad-4e3a-bf68-230b9e1a6bab",
   "metadata": {},
   "outputs": [
    {
     "ename": "AttributeError",
     "evalue": "'C2' object has no attribute 'm2'",
     "output_type": "error",
     "traceback": [
      "\u001b[1;31m---------------------------------------------------------------------------\u001b[0m",
      "\u001b[1;31mAttributeError\u001b[0m                            Traceback (most recent call last)",
      "Cell \u001b[1;32mIn[19], line 1\u001b[0m\n\u001b[1;32m----> 1\u001b[0m c2\u001b[38;5;241m.\u001b[39mm2()\n",
      "\u001b[1;31mAttributeError\u001b[0m: 'C2' object has no attribute 'm2'"
     ]
    }
   ],
   "source": [
    "c2.m2()"
   ]
  },
  {
   "cell_type": "markdown",
   "id": "f74bd448-36b5-428d-bece-9a74080af97a",
   "metadata": {},
   "source": [
    "### Multiple Inheritence \n",
    "\n",
    "- When we have mulyiple parent class and only one child class then it is known as Multiple inheritence \n",
    "- It is also known as many to one relationship "
   ]
  },
  {
   "cell_type": "code",
   "execution_count": 20,
   "id": "4bfe1e0a-80a6-4dc8-8a8d-f3eaee8222a7",
   "metadata": {},
   "outputs": [],
   "source": [
    "class P1:\n",
    "    def m1(self):\n",
    "        print('P1 class method')\n",
    "\n",
    "class P2:\n",
    "    def m2(self):\n",
    "        print('P2 class method')\n",
    "\n",
    "class C(P1, P2):\n",
    "    def m3(self):\n",
    "        print('Child Method')"
   ]
  },
  {
   "cell_type": "code",
   "execution_count": 21,
   "id": "2d32b8d9-cc34-4a26-8d5d-b3c6e748ad7e",
   "metadata": {},
   "outputs": [],
   "source": [
    "c = C()"
   ]
  },
  {
   "cell_type": "code",
   "execution_count": 22,
   "id": "28efff73-79cb-448d-8793-07f39808764f",
   "metadata": {},
   "outputs": [
    {
     "name": "stdout",
     "output_type": "stream",
     "text": [
      "Child Method\n"
     ]
    }
   ],
   "source": [
    "c.m3()"
   ]
  },
  {
   "cell_type": "code",
   "execution_count": 23,
   "id": "15dd66ea-8445-4a9e-9d73-94b54ce021dc",
   "metadata": {},
   "outputs": [
    {
     "name": "stdout",
     "output_type": "stream",
     "text": [
      "P1 class method\n"
     ]
    }
   ],
   "source": [
    "c.m1()"
   ]
  },
  {
   "cell_type": "code",
   "execution_count": 24,
   "id": "fdceb38f-5c60-4498-9f90-7bc488e8b8d4",
   "metadata": {},
   "outputs": [
    {
     "name": "stdout",
     "output_type": "stream",
     "text": [
      "P2 class method\n"
     ]
    }
   ],
   "source": [
    "c.m2()"
   ]
  },
  {
   "cell_type": "code",
   "execution_count": 25,
   "id": "b6ba4585-db01-436a-b1c6-d1f36ce3c03f",
   "metadata": {},
   "outputs": [],
   "source": [
    "class P1:\n",
    "    def m1(self):\n",
    "        print('P1 class method')\n",
    "\n",
    "class P2:\n",
    "    def m2(self):\n",
    "        print('P2 class method')\n",
    "\n",
    "class C(P1, P2):\n",
    "    pass"
   ]
  },
  {
   "cell_type": "code",
   "execution_count": 30,
   "id": "651212cb-fc1c-4b81-8f0f-dcb2ff01b345",
   "metadata": {},
   "outputs": [],
   "source": [
    "class Company_1:\n",
    "    def designation(self):\n",
    "        print('Data Scientist')\n",
    "\n",
    "class Company_2:\n",
    "    def post(self):\n",
    "        print('Trainer')\n",
    "\n",
    "class Employee(Company_1, Company_2):\n",
    "    def portfolio(self):\n",
    "        print('I am working')"
   ]
  },
  {
   "cell_type": "code",
   "execution_count": 31,
   "id": "bbc38ee8-e438-4a15-a432-bf3fc8930588",
   "metadata": {},
   "outputs": [],
   "source": [
    "e = Employee()"
   ]
  },
  {
   "cell_type": "code",
   "execution_count": 32,
   "id": "0bbe2493-cd4e-4023-ad39-ddbe6d7136ea",
   "metadata": {},
   "outputs": [
    {
     "name": "stdout",
     "output_type": "stream",
     "text": [
      "Data Scientist\n"
     ]
    }
   ],
   "source": [
    "e.designation()"
   ]
  },
  {
   "cell_type": "code",
   "execution_count": 33,
   "id": "2c736c41-f96e-48b8-886b-19dfe13dce51",
   "metadata": {},
   "outputs": [
    {
     "name": "stdout",
     "output_type": "stream",
     "text": [
      "Trainer\n"
     ]
    }
   ],
   "source": [
    "e.post()"
   ]
  },
  {
   "cell_type": "markdown",
   "id": "c4055142-fd21-423f-9317-718d1204c90d",
   "metadata": {},
   "source": [
    "### Multi-Level Inheritence\n",
    "\n",
    "- When a child class may be a parent class to some other child class then it is a multi-level inheritence "
   ]
  },
  {
   "cell_type": "code",
   "execution_count": 35,
   "id": "28e4612a-a3f1-41fc-b820-214a8e651040",
   "metadata": {},
   "outputs": [],
   "source": [
    "class P:\n",
    "    def m1(self):\n",
    "        print('Parent class')\n",
    "\n",
    "class C(P):\n",
    "    def m2(self):\n",
    "        print('I am child class')\n",
    "\n",
    "class CC(C):\n",
    "    def m3(self):\n",
    "        print('I am the sub class')"
   ]
  },
  {
   "cell_type": "code",
   "execution_count": 36,
   "id": "988bae58-e5f0-4f01-bbfd-1cce6905ca14",
   "metadata": {},
   "outputs": [],
   "source": [
    "c = CC()"
   ]
  },
  {
   "cell_type": "code",
   "execution_count": 37,
   "id": "6f9a3542-6d3d-4c2c-abc9-e042c170a15c",
   "metadata": {},
   "outputs": [
    {
     "name": "stdout",
     "output_type": "stream",
     "text": [
      "I am the sub class\n"
     ]
    }
   ],
   "source": [
    "c.m3()"
   ]
  },
  {
   "cell_type": "code",
   "execution_count": 38,
   "id": "3f381589-43fb-441e-899d-b2c3ded83647",
   "metadata": {},
   "outputs": [
    {
     "name": "stdout",
     "output_type": "stream",
     "text": [
      "I am child class\n"
     ]
    }
   ],
   "source": [
    "c.m2()"
   ]
  },
  {
   "cell_type": "code",
   "execution_count": 39,
   "id": "0603f507-3b26-4e57-8f92-5d127e24b033",
   "metadata": {},
   "outputs": [
    {
     "name": "stdout",
     "output_type": "stream",
     "text": [
      "Parent class\n"
     ]
    }
   ],
   "source": [
    "c.m1()"
   ]
  },
  {
   "cell_type": "code",
   "execution_count": 40,
   "id": "95b56b9b-f9fc-4984-8030-4a293d456a34",
   "metadata": {},
   "outputs": [],
   "source": [
    "class College:\n",
    "    def __init__(self, name, city, university):\n",
    "        self.name = name\n",
    "        self.city = city\n",
    "        self.university = university\n",
    "\n",
    "    def display(self):\n",
    "        print(f'The college name is {self.name}')\n",
    "        print(f'The college is in {self.city}')\n",
    "        print(f'The college is affliated to {self.univerity}')\n",
    "\n",
    "\n",
    "class Degree(College):\n",
    "    def __init__(self, specialisation, duration, fees):\n",
    "        self.specalisaton = specialisation\n",
    "        self.duration = duration\n",
    "        self.fees = fees\n",
    "\n",
    "    def degree_info(self):\n",
    "        print(f'The specialisation is {self.specalisaton}')\n",
    "        print(f'The duration of the degree is {self.duration}')\n",
    "        print(f'You have to pay {self.fees}')\n",
    "\n",
    "class Student(Degree):\n",
    "    def __init__(self, name, roll):\n",
    "        self.name = name\n",
    "        self.roll = roll\n",
    "\n",
    "    def student_info(self):\n",
    "        print(f'My name is {self.name}')\n",
    "        print(f'My roll no is {self.roll}')"
   ]
  },
  {
   "cell_type": "code",
   "execution_count": 41,
   "id": "e3107e96-2e71-47a2-858a-348144900c99",
   "metadata": {},
   "outputs": [],
   "source": [
    "s = Student('Amit', 11)"
   ]
  },
  {
   "cell_type": "code",
   "execution_count": 42,
   "id": "0025f47a-55e5-422b-9b77-4c2df454f9a0",
   "metadata": {},
   "outputs": [
    {
     "name": "stdout",
     "output_type": "stream",
     "text": [
      "My name is Amit\n",
      "My roll no is 11\n"
     ]
    }
   ],
   "source": [
    "s.student_info()"
   ]
  },
  {
   "cell_type": "code",
   "execution_count": 43,
   "id": "7ebb1568-2330-4574-9d4e-ac3fb7e86080",
   "metadata": {},
   "outputs": [
    {
     "ename": "AttributeError",
     "evalue": "'Student' object has no attribute 'specalisaton'",
     "output_type": "error",
     "traceback": [
      "\u001b[1;31m---------------------------------------------------------------------------\u001b[0m",
      "\u001b[1;31mAttributeError\u001b[0m                            Traceback (most recent call last)",
      "Cell \u001b[1;32mIn[43], line 1\u001b[0m\n\u001b[1;32m----> 1\u001b[0m s\u001b[38;5;241m.\u001b[39mdegree_info()\n",
      "Cell \u001b[1;32mIn[40], line 20\u001b[0m, in \u001b[0;36mDegree.degree_info\u001b[1;34m(self)\u001b[0m\n\u001b[0;32m     19\u001b[0m \u001b[38;5;28;01mdef\u001b[39;00m \u001b[38;5;21mdegree_info\u001b[39m(\u001b[38;5;28mself\u001b[39m):\n\u001b[1;32m---> 20\u001b[0m     \u001b[38;5;28mprint\u001b[39m(\u001b[38;5;124mf\u001b[39m\u001b[38;5;124m'\u001b[39m\u001b[38;5;124mThe specialisation is \u001b[39m\u001b[38;5;132;01m{\u001b[39;00m\u001b[38;5;28mself\u001b[39m\u001b[38;5;241m.\u001b[39mspecalisaton\u001b[38;5;132;01m}\u001b[39;00m\u001b[38;5;124m'\u001b[39m)\n\u001b[0;32m     21\u001b[0m     \u001b[38;5;28mprint\u001b[39m(\u001b[38;5;124mf\u001b[39m\u001b[38;5;124m'\u001b[39m\u001b[38;5;124mThe duration of the degree is \u001b[39m\u001b[38;5;132;01m{\u001b[39;00m\u001b[38;5;28mself\u001b[39m\u001b[38;5;241m.\u001b[39mduration\u001b[38;5;132;01m}\u001b[39;00m\u001b[38;5;124m'\u001b[39m)\n\u001b[0;32m     22\u001b[0m     \u001b[38;5;28mprint\u001b[39m(\u001b[38;5;124mf\u001b[39m\u001b[38;5;124m'\u001b[39m\u001b[38;5;124mYou have to pay \u001b[39m\u001b[38;5;132;01m{\u001b[39;00m\u001b[38;5;28mself\u001b[39m\u001b[38;5;241m.\u001b[39mfees\u001b[38;5;132;01m}\u001b[39;00m\u001b[38;5;124m'\u001b[39m)\n",
      "\u001b[1;31mAttributeError\u001b[0m: 'Student' object has no attribute 'specalisaton'"
     ]
    }
   ],
   "source": [
    "s.degree_info()"
   ]
  },
  {
   "cell_type": "code",
   "execution_count": 78,
   "id": "a156327c-5d7d-475c-835b-31d534e64b32",
   "metadata": {},
   "outputs": [],
   "source": [
    "class College:\n",
    "    name = 'University of Petroleum and Energy Studies'\n",
    "    city = 'Dehradun'\n",
    "    university = 'UPES'\n",
    "\n",
    "    def display(self):\n",
    "        print(f'The college name is {self.name}')\n",
    "        print(f'The college is in {self.city}')\n",
    "        print(f'The college is affliated to {self.university}')\n",
    "\n",
    "\n",
    "class Degree(College):\n",
    "    def __init__(self, specialisation, duration, fees):\n",
    "        self.specalisaton = specialisation\n",
    "        self.duration = duration\n",
    "        self.fees = fees\n",
    "\n",
    "    def degree_info(self):\n",
    "        print(f'The specialisation is {self.specalisaton}')\n",
    "        print(f'The duration of the degree is {self.duration}')\n",
    "        print(f'You have to pay {self.fees}')\n",
    "\n",
    "class Student(Degree):\n",
    "    def __init__(self, student_name, roll, specialisation, duration, fees):\n",
    "        super().__init__(specialisation, duration, fees,)\n",
    "        self.student_name = student_name\n",
    "        self.roll = roll\n",
    "\n",
    "    def student_info(self):\n",
    "        print(f'My name is {self.student_name}')\n",
    "        print(f'My roll no is {self.roll}')"
   ]
  },
  {
   "cell_type": "code",
   "execution_count": 79,
   "id": "376c4cf2-bc93-4f5e-ba4e-80dabbdf5251",
   "metadata": {},
   "outputs": [],
   "source": [
    "c = Student('Mayank', 41, 'Mechatronics', '4 yrs', '8lakhs')"
   ]
  },
  {
   "cell_type": "code",
   "execution_count": 80,
   "id": "6c944493-2e66-4b35-a29f-554c07cdfb91",
   "metadata": {},
   "outputs": [
    {
     "name": "stdout",
     "output_type": "stream",
     "text": [
      "My name is Mayank\n",
      "My roll no is 41\n"
     ]
    }
   ],
   "source": [
    "c.student_info()"
   ]
  },
  {
   "cell_type": "code",
   "execution_count": 81,
   "id": "ab099ad4-d165-4ae1-aeab-f3fb9bb11443",
   "metadata": {},
   "outputs": [
    {
     "name": "stdout",
     "output_type": "stream",
     "text": [
      "The specialisation is Mechatronics\n",
      "The duration of the degree is 4 yrs\n",
      "You have to pay 8lakhs\n"
     ]
    }
   ],
   "source": [
    "c.degree_info()"
   ]
  },
  {
   "cell_type": "code",
   "execution_count": 82,
   "id": "3d804cab-542d-44dd-a51c-1022b20df4bc",
   "metadata": {},
   "outputs": [
    {
     "name": "stdout",
     "output_type": "stream",
     "text": [
      "The college name is University of Petroleum and Energy Studies\n",
      "The college is in Dehradun\n",
      "The college is affliated to UPES\n"
     ]
    }
   ],
   "source": [
    "c.display()"
   ]
  },
  {
   "cell_type": "markdown",
   "id": "28ac13ab-9cff-4fc0-a03a-aab47933dd1a",
   "metadata": {},
   "source": [
    "#### Hybrid Inheritence \n",
    "\n",
    "- Where we will use more than one type of inheritence "
   ]
  },
  {
   "cell_type": "code",
   "execution_count": 85,
   "id": "86a6ea15-e834-406c-b51e-47776841d85e",
   "metadata": {},
   "outputs": [],
   "source": [
    "class Animal:\n",
    "    def eat(self):\n",
    "        print('Eating...')\n",
    "\n",
    "# Single inheritance\n",
    "class Mammal(Animal):\n",
    "    def walk(self):\n",
    "        print('Walking...')\n",
    "\n",
    "# Multiple inheritance\n",
    "class Flyer:\n",
    "    def fly(self):\n",
    "        print('Flying...')\n",
    "\n",
    "# Hybrid inheritance\n",
    "class Bat(Mammal, Flyer):\n",
    "    pass"
   ]
  },
  {
   "cell_type": "code",
   "execution_count": 86,
   "id": "0925d13e-58df-4e4d-b386-b7f420d148fb",
   "metadata": {},
   "outputs": [],
   "source": [
    "bat = Bat()"
   ]
  },
  {
   "cell_type": "code",
   "execution_count": 87,
   "id": "bd5dd6c0-69c2-4a81-a280-fa63cf160620",
   "metadata": {},
   "outputs": [
    {
     "name": "stdout",
     "output_type": "stream",
     "text": [
      "Eating...\n"
     ]
    }
   ],
   "source": [
    "bat.eat()"
   ]
  },
  {
   "cell_type": "code",
   "execution_count": 88,
   "id": "4c88b203-c333-411e-9f5b-0ae7c7c3371d",
   "metadata": {},
   "outputs": [
    {
     "name": "stdout",
     "output_type": "stream",
     "text": [
      "Walking...\n"
     ]
    }
   ],
   "source": [
    "bat.walk()"
   ]
  },
  {
   "cell_type": "code",
   "execution_count": 91,
   "id": "fcdf7156-9c69-4496-8842-adbca2d3b43b",
   "metadata": {},
   "outputs": [
    {
     "name": "stdout",
     "output_type": "stream",
     "text": [
      "Flying...\n"
     ]
    }
   ],
   "source": [
    "bat.fly()"
   ]
  },
  {
   "cell_type": "markdown",
   "id": "a2aa5b18-6a30-4aba-bafb-235ac6bd8825",
   "metadata": {},
   "source": [
    "### Cyclic Inheritence \n",
    "\n",
    "- It is also known as circular inheritance \n",
    "- It occurs when two or more classes are involved in a circular reference "
   ]
  },
  {
   "cell_type": "code",
   "execution_count": 3,
   "id": "675f2dc2-a5a8-495a-ab35-00568094b5a6",
   "metadata": {},
   "outputs": [],
   "source": [
    "class A(B):\n",
    "    def __init__(self):\n",
    "        print('A is a Constrcutor')\n",
    "        super().__init__()\n",
    "        \n",
    "class B(A):\n",
    "    def __init__(self):\n",
    "        print('B is a constructor')\n",
    "        super().__init__()"
   ]
  },
  {
   "cell_type": "markdown",
   "id": "ed970579-ce83-4f7f-8bfa-0048f0abb8ad",
   "metadata": {},
   "source": [
    "#### Method Resolution Order (MRO)"
   ]
  },
  {
   "cell_type": "code",
   "execution_count": 6,
   "id": "2a0ce4ff-9546-4a86-b1f5-993b9da7fbb3",
   "metadata": {},
   "outputs": [],
   "source": [
    "class A:\n",
    "    pass\n",
    "class B(A):\n",
    "    pass\n",
    "class C(A):\n",
    "    pass\n",
    "class D(B,C):\n",
    "    pass"
   ]
  },
  {
   "cell_type": "code",
   "execution_count": 7,
   "id": "6f00b680-a012-49e5-a0b8-790b8481e05a",
   "metadata": {},
   "outputs": [
    {
     "name": "stdout",
     "output_type": "stream",
     "text": [
      "[<class '__main__.D'>, <class '__main__.B'>, <class '__main__.C'>, <class '__main__.A'>, <class 'object'>]\n"
     ]
    }
   ],
   "source": [
    "print(D.mro())"
   ]
  },
  {
   "cell_type": "code",
   "execution_count": 8,
   "id": "016e504d-3a5e-4181-b348-3c178a004a1f",
   "metadata": {},
   "outputs": [
    {
     "name": "stdout",
     "output_type": "stream",
     "text": [
      "[<class '__main__.C'>, <class '__main__.A'>, <class 'object'>]\n"
     ]
    }
   ],
   "source": [
    "print(C.mro())"
   ]
  },
  {
   "cell_type": "code",
   "execution_count": 9,
   "id": "a1801d86-3b86-4cf9-ad5d-75850449eb93",
   "metadata": {},
   "outputs": [
    {
     "name": "stdout",
     "output_type": "stream",
     "text": [
      "[<class '__main__.B'>, <class '__main__.A'>, <class 'object'>]\n"
     ]
    }
   ],
   "source": [
    "print(B.mro())"
   ]
  },
  {
   "cell_type": "code",
   "execution_count": 10,
   "id": "7bfaff46-2ec6-4698-8e31-f8699a07fc96",
   "metadata": {},
   "outputs": [
    {
     "name": "stdout",
     "output_type": "stream",
     "text": [
      "[<class '__main__.A'>, <class 'object'>]\n"
     ]
    }
   ],
   "source": [
    "print(A.mro())"
   ]
  },
  {
   "cell_type": "code",
   "execution_count": 17,
   "id": "1271831e-9b38-4cbe-b858-a5c55d3952e1",
   "metadata": {},
   "outputs": [],
   "source": [
    "class A:\n",
    "    def m1(self):\n",
    "        print('Class A method')\n",
    "        \n",
    "class B(A):\n",
    "    def m2(self):\n",
    "        print('Class B method')\n",
    "class C(A):\n",
    "    def m3(self):\n",
    "        print('Class C method')\n",
    "class D(B,C):\n",
    "    def m4(self):\n",
    "        print('Class D method')"
   ]
  },
  {
   "cell_type": "code",
   "execution_count": 18,
   "id": "255e230b-2d52-4fa6-9721-843daa6aedbd",
   "metadata": {},
   "outputs": [],
   "source": [
    "d= D()"
   ]
  },
  {
   "cell_type": "code",
   "execution_count": 19,
   "id": "49daa68e-d562-44fc-8dc2-d6cbdfe3c52e",
   "metadata": {},
   "outputs": [
    {
     "name": "stdout",
     "output_type": "stream",
     "text": [
      "Class A method\n"
     ]
    }
   ],
   "source": [
    "d.m1()"
   ]
  },
  {
   "cell_type": "code",
   "execution_count": 21,
   "id": "7b6cc866-e4ee-4a23-b97c-bd0edfb10f00",
   "metadata": {},
   "outputs": [],
   "source": [
    "class A:\n",
    "    def m1(self):\n",
    "        print('Class A method')\n",
    "        \n",
    "class B(A):\n",
    "    def m1(self):\n",
    "        print('Class B method')\n",
    "class C(A):\n",
    "    def m1(self):\n",
    "        print('Class C method')\n",
    "class D(B,C):\n",
    "    def m1(self):\n",
    "        print('Class D method')"
   ]
  },
  {
   "cell_type": "code",
   "execution_count": 22,
   "id": "50fa1f86-e604-4245-887e-fa387296ae8a",
   "metadata": {},
   "outputs": [],
   "source": [
    "d = D()"
   ]
  },
  {
   "cell_type": "code",
   "execution_count": 23,
   "id": "fa5b59b6-7164-4b81-ac3b-c7b335e9ba77",
   "metadata": {},
   "outputs": [
    {
     "name": "stdout",
     "output_type": "stream",
     "text": [
      "Class D method\n"
     ]
    }
   ],
   "source": [
    "d.m1()"
   ]
  },
  {
   "cell_type": "markdown",
   "id": "d7e2fa5f-a132-4f06-a131-27c4b6f88c9e",
   "metadata": {},
   "source": [
    "#### super method \n",
    "\n",
    "- It is used to call the constructor, methods and variables of the parent class from the child class "
   ]
  },
  {
   "cell_type": "code",
   "execution_count": 30,
   "id": "fba6e874-403c-4f2a-8eb7-a8e9d8f7510d",
   "metadata": {},
   "outputs": [],
   "source": [
    "class Person:\n",
    "    def __init__(self,name,age):\n",
    "        self.name = name\n",
    "        self.age = age\n",
    "\n",
    "class Student(Person):\n",
    "    def __init__ (self,name, age, roll_no, marks):\n",
    "        super().__init__(name, age)\n",
    "        self.roll_no = roll_no\n",
    "        self.marks = marks"
   ]
  },
  {
   "cell_type": "code",
   "execution_count": 32,
   "id": "a4c7fe75-bb7d-4faa-9399-493bae3881c0",
   "metadata": {},
   "outputs": [],
   "source": [
    "s = Student('Mayank', 29, 41, 73)"
   ]
  },
  {
   "cell_type": "code",
   "execution_count": 33,
   "id": "dcae7137-ae2f-4de7-bba3-24cc7dc29262",
   "metadata": {},
   "outputs": [
    {
     "data": {
      "text/plain": [
       "41"
      ]
     },
     "execution_count": 33,
     "metadata": {},
     "output_type": "execute_result"
    }
   ],
   "source": [
    "s.roll_no"
   ]
  },
  {
   "cell_type": "code",
   "execution_count": 34,
   "id": "217c3d01-420d-4a1e-8d63-618b679e0254",
   "metadata": {},
   "outputs": [
    {
     "data": {
      "text/plain": [
       "73"
      ]
     },
     "execution_count": 34,
     "metadata": {},
     "output_type": "execute_result"
    }
   ],
   "source": [
    "s.marks"
   ]
  },
  {
   "cell_type": "code",
   "execution_count": 35,
   "id": "bf59e9f0-0743-4e77-9014-55aee43cc918",
   "metadata": {},
   "outputs": [
    {
     "data": {
      "text/plain": [
       "'Mayank'"
      ]
     },
     "execution_count": 35,
     "metadata": {},
     "output_type": "execute_result"
    }
   ],
   "source": [
    "s.name"
   ]
  },
  {
   "cell_type": "code",
   "execution_count": 36,
   "id": "2152c1e1-8183-4569-8895-38dde987e431",
   "metadata": {},
   "outputs": [
    {
     "data": {
      "text/plain": [
       "29"
      ]
     },
     "execution_count": 36,
     "metadata": {},
     "output_type": "execute_result"
    }
   ],
   "source": [
    "s.age"
   ]
  },
  {
   "cell_type": "code",
   "execution_count": 37,
   "id": "1742e67f-3b62-419c-8c57-07e19c61de54",
   "metadata": {},
   "outputs": [],
   "source": [
    "class Person:\n",
    "    def __init__(self,name,age):\n",
    "        self.name = name\n",
    "        self.age = age\n",
    "\n",
    "    def display(self):\n",
    "        print(f'Name is {self.name}')\n",
    "        print(f'Age is {self.age}')\n",
    "\n",
    "class Student(Person):\n",
    "    def __init__ (self,name, age, roll_no, marks):\n",
    "        self.roll_no = roll_no\n",
    "        self.marks = marks\n",
    "        super().__init__(name, age)\n",
    "\n",
    "    def display(self):\n",
    "        super().display()\n",
    "        print(f'The roll number is {self.roll_no}')\n",
    "        print(f'The marks are {self.marks}')"
   ]
  },
  {
   "cell_type": "code",
   "execution_count": 38,
   "id": "a85184b0-a643-41bd-9f91-25e397c11807",
   "metadata": {},
   "outputs": [],
   "source": [
    "s = Student('Atharv', 26, 5, 79)"
   ]
  },
  {
   "cell_type": "code",
   "execution_count": 40,
   "id": "6412c129-0bbf-42e9-9599-33dca3a3f9e5",
   "metadata": {},
   "outputs": [
    {
     "name": "stdout",
     "output_type": "stream",
     "text": [
      "Name is Atharv\n",
      "Age is 26\n",
      "The roll number is 5\n",
      "The marks are 79\n"
     ]
    }
   ],
   "source": [
    "s.display()"
   ]
  },
  {
   "cell_type": "markdown",
   "id": "20b010b8-0a80-461b-82a5-486945843532",
   "metadata": {},
   "source": [
    "#### How to access thr properties "
   ]
  },
  {
   "cell_type": "code",
   "execution_count": 41,
   "id": "02f1ecbc-d853-459c-9f9e-bfa4085cce92",
   "metadata": {},
   "outputs": [],
   "source": [
    "class P:\n",
    "    a = 10\n",
    "\n",
    "    def __init__(self):\n",
    "        self.b = 20\n",
    "\n",
    "    def m1(self):\n",
    "        print('Parent instance method')\n",
    "\n",
    "    @classmethod \n",
    "    def m2(cls):\n",
    "        print('Parent class method')\n",
    "\n",
    "    @staticmethod\n",
    "    def m3():\n",
    "        print('Parent static method')\n",
    "\n",
    "\n",
    "class C(P):\n",
    "    a = 888 # static variable \n",
    "\n",
    "    def __init__(self):\n",
    "        self.b = 999\n",
    "        print(self.a)\n",
    "        print(C.a)\n",
    "        print(super().a) \n",
    "        print(P.a)\n",
    "        print(self.b)\n",
    "        super().m1()\n",
    "        super().m2()\n",
    "        super().m3()"
   ]
  },
  {
   "cell_type": "code",
   "execution_count": 42,
   "id": "869b416b-59ca-4e4a-b901-148849470a57",
   "metadata": {},
   "outputs": [
    {
     "name": "stdout",
     "output_type": "stream",
     "text": [
      "888\n",
      "888\n",
      "10\n",
      "10\n",
      "999\n",
      "Parent instance method\n",
      "Parent class method\n",
      "Parent static method\n"
     ]
    }
   ],
   "source": [
    "c = C()"
   ]
  },
  {
   "cell_type": "code",
   "execution_count": null,
   "id": "76ba22b0-c708-4d10-8254-13b555dabaa3",
   "metadata": {},
   "outputs": [],
   "source": [
    "# Instance Variable ---> OBject level varibale \n",
    "# Static variable ---> class level variable \n",
    "\n",
    "# Static variables can be directly accessed by using the super() but \n",
    "# instance variables can not be accessed using super, we have to use self"
   ]
  },
  {
   "cell_type": "markdown",
   "id": "543bde1d-7e68-4bc2-ba63-33877acd45c6",
   "metadata": {},
   "source": [
    "### Polymorphism \n",
    "\n",
    "- Poly means many\n",
    "- morph means forms\n",
    "\n",
    "- So, polymorphism means many forms\n",
    "\n",
    "- Polymorphism enables the same method to behave differently based on the object that calls it "
   ]
  },
  {
   "cell_type": "code",
   "execution_count": null,
   "id": "7fba0107-7261-46c0-9ca7-0e4a8109e526",
   "metadata": {},
   "outputs": [],
   "source": [
    "+ ---> arithmetic addition operator \n",
    "+ ----> concatenation operator "
   ]
  },
  {
   "cell_type": "markdown",
   "id": "86833098-a93d-4434-b8da-fcb9dd8c9c0c",
   "metadata": {},
   "source": [
    "- Duck type philosophy\n",
    "- Overloading \n",
    "    - operator overloading \n",
    "    - method overloading \n",
    "    - constructor overloading \n",
    "- Overriding \n",
    "    - method overriding \n",
    "    - constructor overriding "
   ]
  },
  {
   "cell_type": "code",
   "execution_count": 43,
   "id": "0615a726-8d57-4a73-85dc-4e7c31c571ec",
   "metadata": {},
   "outputs": [],
   "source": [
    "class Student:\n",
    "    def m1(self):\n",
    "        print('Some method')"
   ]
  },
  {
   "cell_type": "markdown",
   "id": "9edeabff-a9aa-4f65-b954-57b199eefc2b",
   "metadata": {},
   "source": [
    "##### In python, there is no way to decide the type of the object"
   ]
  },
  {
   "cell_type": "code",
   "execution_count": 44,
   "id": "ee1e4692-f3b5-47d9-ab4b-ba168f31c95b",
   "metadata": {},
   "outputs": [],
   "source": [
    "c = Student()"
   ]
  },
  {
   "cell_type": "code",
   "execution_count": 45,
   "id": "34c6f8db-4cb4-4999-aef4-f64fc0fb73b5",
   "metadata": {},
   "outputs": [
    {
     "name": "stdout",
     "output_type": "stream",
     "text": [
      "Some method\n"
     ]
    }
   ],
   "source": [
    "c.m1()"
   ]
  },
  {
   "cell_type": "code",
   "execution_count": 46,
   "id": "2ecd7e13-41ee-4c7c-84a4-ab87da5f2ba9",
   "metadata": {},
   "outputs": [
    {
     "data": {
      "text/plain": [
       "__main__.Student"
      ]
     },
     "execution_count": 46,
     "metadata": {},
     "output_type": "execute_result"
    }
   ],
   "source": [
    "type(c)"
   ]
  },
  {
   "cell_type": "markdown",
   "id": "5b33c123-ff5a-4ace-ab33-3b79ed1188a5",
   "metadata": {},
   "source": [
    "### Duck type philosophy of Polymorphism \n",
    "\n",
    "- If it walks like a duck and if it talks like a duck then it is a duck, meaning we can decide the type of an object according to the behaviour"
   ]
  },
  {
   "cell_type": "code",
   "execution_count": 47,
   "id": "0b5f8eb3-b607-434e-b4a5-f175d73c6eda",
   "metadata": {},
   "outputs": [],
   "source": [
    "class Duck:\n",
    "    def talk(self):\n",
    "        print('Quack Quack')\n",
    "\n",
    "class Dog:\n",
    "    def talk(self):\n",
    "        print('Bow Bow')\n",
    "\n",
    "class Cat:\n",
    "    def talk(self):\n",
    "        print('Meow Meow')"
   ]
  },
  {
   "cell_type": "code",
   "execution_count": 48,
   "id": "649e3e42-d32f-4dfb-812c-3664c2b3b482",
   "metadata": {},
   "outputs": [],
   "source": [
    "def f1(obj):\n",
    "    obj.talk()"
   ]
  },
  {
   "cell_type": "code",
   "execution_count": 49,
   "id": "30a4b9db-8866-4af4-88e9-92bb9b3d1e65",
   "metadata": {},
   "outputs": [],
   "source": [
    "d = Duck()"
   ]
  },
  {
   "cell_type": "code",
   "execution_count": 50,
   "id": "01d8267c-9e50-4ac9-b47f-63f68c79c728",
   "metadata": {},
   "outputs": [
    {
     "name": "stdout",
     "output_type": "stream",
     "text": [
      "Quack Quack\n"
     ]
    }
   ],
   "source": [
    "f1(d)"
   ]
  },
  {
   "cell_type": "code",
   "execution_count": 51,
   "id": "c44b02a2-4b2b-4248-8bce-dab9a490eb8a",
   "metadata": {},
   "outputs": [],
   "source": [
    "d = Dog()"
   ]
  },
  {
   "cell_type": "code",
   "execution_count": 52,
   "id": "32faa16d-0dda-4024-9446-5082a11bb111",
   "metadata": {},
   "outputs": [
    {
     "name": "stdout",
     "output_type": "stream",
     "text": [
      "Bow Bow\n"
     ]
    }
   ],
   "source": [
    "f1(d)"
   ]
  },
  {
   "cell_type": "code",
   "execution_count": 53,
   "id": "2c2b567a-1d29-464f-ba3d-ff085eb92432",
   "metadata": {},
   "outputs": [
    {
     "name": "stdout",
     "output_type": "stream",
     "text": [
      "Quack Quack\n",
      "Bow Bow\n",
      "Meow Meow\n"
     ]
    }
   ],
   "source": [
    "lst = [Duck(), Dog(), Cat()]\n",
    "\n",
    "for i in lst:\n",
    "    f1(i)"
   ]
  },
  {
   "cell_type": "code",
   "execution_count": 63,
   "id": "565fd347-a2a2-449e-a30b-c527e08e7add",
   "metadata": {},
   "outputs": [],
   "source": [
    "class Duck:\n",
    "    def talk(self):\n",
    "        print('Quack Quack')\n",
    "\n",
    "class Dog:\n",
    "    def bark(self):\n",
    "        print('Bow Bow')"
   ]
  },
  {
   "cell_type": "code",
   "execution_count": 55,
   "id": "2a16ebf8-2e9a-4905-bb25-fb0b4a739f4c",
   "metadata": {},
   "outputs": [
    {
     "name": "stdout",
     "output_type": "stream",
     "text": [
      "Quack Quack\n"
     ]
    },
    {
     "ename": "AttributeError",
     "evalue": "'Dog' object has no attribute 'talk'",
     "output_type": "error",
     "traceback": [
      "\u001b[1;31m---------------------------------------------------------------------------\u001b[0m",
      "\u001b[1;31mAttributeError\u001b[0m                            Traceback (most recent call last)",
      "Cell \u001b[1;32mIn[55], line 4\u001b[0m\n\u001b[0;32m      1\u001b[0m lst \u001b[38;5;241m=\u001b[39m [Duck(), Dog()]\n\u001b[0;32m      3\u001b[0m \u001b[38;5;28;01mfor\u001b[39;00m i \u001b[38;5;129;01min\u001b[39;00m lst:\n\u001b[1;32m----> 4\u001b[0m     f1(i)\n",
      "Cell \u001b[1;32mIn[48], line 2\u001b[0m, in \u001b[0;36mf1\u001b[1;34m(obj)\u001b[0m\n\u001b[0;32m      1\u001b[0m \u001b[38;5;28;01mdef\u001b[39;00m \u001b[38;5;21mf1\u001b[39m(obj):\n\u001b[1;32m----> 2\u001b[0m     obj\u001b[38;5;241m.\u001b[39mtalk()\n",
      "\u001b[1;31mAttributeError\u001b[0m: 'Dog' object has no attribute 'talk'"
     ]
    }
   ],
   "source": [
    "lst = [Duck(), Dog()]\n",
    "\n",
    "for i in lst:\n",
    "    f1(i)"
   ]
  },
  {
   "cell_type": "markdown",
   "id": "33e303b9-a528-42ba-980f-8a474c458133",
   "metadata": {},
   "source": [
    "### hasattr Method \n",
    "\n",
    "- It is a python built-in method used to check of an object has a specific attribute or not\n",
    "- It returns __True__ if the object has the attribute and __False__ if it does not have the attribute\n",
    "\n",
    "__Syntax:__ \n",
    "\n",
    "            hasattr(object, 'attribute name')"
   ]
  },
  {
   "cell_type": "code",
   "execution_count": 64,
   "id": "689055ab-cbdc-4e31-871b-0a288bd21367",
   "metadata": {},
   "outputs": [],
   "source": [
    "def f1(obj):\n",
    "    if hasattr(obj, 'talk'):\n",
    "        obj.talk()\n",
    "    elif hasattr(obj, 'bark'):\n",
    "        obj.bark()"
   ]
  },
  {
   "cell_type": "code",
   "execution_count": 65,
   "id": "8d1702bd-38fa-413e-b488-6257b0828efe",
   "metadata": {},
   "outputs": [
    {
     "name": "stdout",
     "output_type": "stream",
     "text": [
      "Quack Quack\n",
      "Bow Bow\n"
     ]
    }
   ],
   "source": [
    "lst = [Duck(), Dog()]\n",
    "\n",
    "for i in lst:\n",
    "    f1(i)\n"
   ]
  },
  {
   "cell_type": "markdown",
   "id": "1ef8f7e9-af8a-4d88-9cba-325e3eb3abc9",
   "metadata": {},
   "source": [
    "### Overloading \n",
    "\n",
    "- It refers to the ability to define multiple methods with the same name but different signatures\n",
    "\n",
    "#### Types of Overloading \n",
    "\n",
    "    - Operator overloading \n",
    "    - Method overloading\n",
    "    - constructor overloading "
   ]
  },
  {
   "cell_type": "markdown",
   "id": "753f0b6d-c6b2-4858-bf57-a3871b8f095f",
   "metadata": {},
   "source": [
    "#### Operator Overloading \n",
    "\n",
    "- When we use the same operator for different operations then it is called as operator overloading "
   ]
  },
  {
   "cell_type": "code",
   "execution_count": null,
   "id": "c48bb23c-e18c-4dbb-b766-c9dcc571488a",
   "metadata": {},
   "outputs": [],
   "source": [
    "# + ----> Arithmetic addition\n",
    "# + ----> concatenation\n",
    "\n",
    "# * ----> Arithmetic multiplication\n",
    "# * ----> Repeatition "
   ]
  },
  {
   "cell_type": "code",
   "execution_count": 66,
   "id": "958580f1-c71e-4ba7-acff-fd57a30f2735",
   "metadata": {},
   "outputs": [],
   "source": [
    "class Book:\n",
    "    def __init__(self, pages):\n",
    "        self.pages = pages"
   ]
  },
  {
   "cell_type": "code",
   "execution_count": 67,
   "id": "c96df95e-a42b-482d-9121-7ea073f183d6",
   "metadata": {},
   "outputs": [],
   "source": [
    "b1 = Book(100)\n",
    "b2 = Book(200)"
   ]
  },
  {
   "cell_type": "code",
   "execution_count": 68,
   "id": "a89ced6b-ed25-476a-966b-04248b69c020",
   "metadata": {},
   "outputs": [
    {
     "ename": "TypeError",
     "evalue": "unsupported operand type(s) for +: 'Book' and 'Book'",
     "output_type": "error",
     "traceback": [
      "\u001b[1;31m---------------------------------------------------------------------------\u001b[0m",
      "\u001b[1;31mTypeError\u001b[0m                                 Traceback (most recent call last)",
      "Cell \u001b[1;32mIn[68], line 1\u001b[0m\n\u001b[1;32m----> 1\u001b[0m b1\u001b[38;5;241m+\u001b[39mb2\n",
      "\u001b[1;31mTypeError\u001b[0m: unsupported operand type(s) for +: 'Book' and 'Book'"
     ]
    }
   ],
   "source": [
    "b1+b2"
   ]
  },
  {
   "cell_type": "markdown",
   "id": "5d9c4a90-846d-452a-b806-bfb975dde276",
   "metadata": {},
   "source": [
    "#### Since the interpreter does not know what operation has to be performed with two books object using + operator"
   ]
  },
  {
   "cell_type": "markdown",
   "id": "a9ea9566-d6d7-40d8-b4cf-61b8f32447d0",
   "metadata": {},
   "source": [
    "##### In such a case, we have to tell what operation we want to be performed using + operator (addition/Concatenation) on the two books object "
   ]
  },
  {
   "cell_type": "code",
   "execution_count": 70,
   "id": "9d5c8104-3a9c-4f8c-94ee-3e92e1af8ce6",
   "metadata": {},
   "outputs": [],
   "source": [
    "class Book:\n",
    "    def __init__(self, pages):\n",
    "        self.pages = pages\n",
    "\n",
    "    def __add__(self, other):\n",
    "        return self.pages+other.pages"
   ]
  },
  {
   "cell_type": "code",
   "execution_count": 71,
   "id": "93d2d33c-b622-41cb-9aa3-faeac9d7c2b8",
   "metadata": {},
   "outputs": [],
   "source": [
    "b1 = Book(100)\n",
    "b2 = Book(200)"
   ]
  },
  {
   "cell_type": "code",
   "execution_count": 72,
   "id": "ef5f6ab1-734a-4797-bc14-c64b650c3690",
   "metadata": {},
   "outputs": [
    {
     "data": {
      "text/plain": [
       "300"
      ]
     },
     "execution_count": 72,
     "metadata": {},
     "output_type": "execute_result"
    }
   ],
   "source": [
    "b1.pages+b2.pages"
   ]
  },
  {
   "cell_type": "code",
   "execution_count": 74,
   "id": "342566c1-3fd3-43d4-8e1d-6e6442aac6fa",
   "metadata": {},
   "outputs": [],
   "source": [
    "x = Book(100)\n",
    "y = Book(200)"
   ]
  },
  {
   "cell_type": "code",
   "execution_count": 75,
   "id": "dbf01697-482f-418a-b66d-46328f63bd40",
   "metadata": {},
   "outputs": [
    {
     "data": {
      "text/plain": [
       "300"
      ]
     },
     "execution_count": 75,
     "metadata": {},
     "output_type": "execute_result"
    }
   ],
   "source": [
    "x+y"
   ]
  },
  {
   "cell_type": "code",
   "execution_count": null,
   "id": "13474f85-548e-4714-ac23-f80e73b488d8",
   "metadata": {},
   "outputs": [],
   "source": [
    "# - __add__() is a special method and it is called a magic method \n",
    "# - Magic method facilitates operator overloading \n",
    "# - for each operator, one magic method is available "
   ]
  },
  {
   "cell_type": "markdown",
   "id": "e9907cce-a4e0-497a-a660-81a2c755d976",
   "metadata": {},
   "source": [
    "#### Magic Methods "
   ]
  },
  {
   "cell_type": "code",
   "execution_count": null,
   "id": "493ea0ef-1155-4e3a-adaf-abc74b832386",
   "metadata": {},
   "outputs": [],
   "source": [
    "# + ---> __add__() ---> obj1+obj2\n",
    "# - ---> __sub__() ----> obj1-obj2\n",
    "# * ---> __mul__() ----> obj1*obj2\n",
    "# / ---> __truediv__() ---> obj1/obj2\n",
    "# // ----> floordiv__() ---> obj1//obj2\n",
    "# % ---> __mod__() ---> obj1%obj2\n",
    "#** -----> __pow__() ----> obj1**obj2\n",
    "# == ----> __eq__() ----> obj1 == obj2\n",
    "# != ---> __ne__() ---> obj1 != obj2\n",
    "# < ---> __lt__() ---> obj1 < obj2\n",
    "# > ----> __gt__() ----> obj1>obj2\n",
    "# <= ---> __le__() ----> obj1 <= obj2\n",
    "# >= ----> __ge__() ----> obj1 >= obj2\n",
    "# += ----> __iadd__() --> obj1 = obj1+obj2\n",
    "# -= ----> __isub__() ---> obj1 = obj1-obj2\n",
    "# *= ----> __imul__() ---> obj1 = obj1*obj2\n",
    "# /= ---> __idiv__() ---> obj1 = obj1/obj2\n",
    "# //= ---> __ifloordiv__() ---> obj1 = obj1//obj2\n",
    "# %= ----> __imod__(), ----> obj1 = obj1%obj2\n",
    "# **= ----> __ipow__(), ----> obj1 = obj1**obj2"
   ]
  },
  {
   "cell_type": "code",
   "execution_count": 83,
   "id": "90675a89-5b3f-40fc-a120-e5a2c68455d3",
   "metadata": {},
   "outputs": [],
   "source": [
    "class Point:\n",
    "    def __init__(self, x, y):\n",
    "        self.x = x\n",
    "        self.y = y\n",
    "\n",
    "    # Overloading the '+' operator \n",
    "    def __add__(self, other):\n",
    "        return Point(self.x+other.x, self.y+other.y)\n",
    "\n",
    "    # For printing the point\n",
    "    def __str__(self):\n",
    "        return f'Point({self.x}, {self.y})'\n",
    "\n"
   ]
  },
  {
   "cell_type": "code",
   "execution_count": 84,
   "id": "ce67d6ea-c33f-497f-bc83-77469d22fbb1",
   "metadata": {},
   "outputs": [],
   "source": [
    "p1 = Point(2,3)\n",
    "p2 = Point(4,5)"
   ]
  },
  {
   "cell_type": "code",
   "execution_count": 85,
   "id": "610ad303-4149-4198-b2fe-a87db7cf116e",
   "metadata": {},
   "outputs": [],
   "source": [
    "p3 = p2+p1"
   ]
  },
  {
   "cell_type": "code",
   "execution_count": 86,
   "id": "02a21cdf-9790-4877-ad1e-7280e75e50d5",
   "metadata": {},
   "outputs": [
    {
     "name": "stdout",
     "output_type": "stream",
     "text": [
      "Point(6, 8)\n"
     ]
    }
   ],
   "source": [
    "print(p3)"
   ]
  },
  {
   "cell_type": "code",
   "execution_count": 87,
   "id": "5f0dbe0f-d882-495a-92fa-2c930e021aa2",
   "metadata": {},
   "outputs": [],
   "source": [
    "class Point:\n",
    "    def __init__(self, x, y):\n",
    "        self.x = x\n",
    "        self.y = y\n",
    "\n",
    "    # # Overloading the '+' operator \n",
    "    # def __add__(self, other):\n",
    "    #     return Point(self.x+other.x, self.y+other.y)\n",
    "\n",
    "    # Overloading the '==' operator \n",
    "    def __eq__(self, other):\n",
    "        return self.x == other.x and self.y == other.y\n",
    "\n",
    "    # For printing the point\n",
    "    def __str__(self):\n",
    "        return f'Point({self.x}, {self.y})'\n"
   ]
  },
  {
   "cell_type": "code",
   "execution_count": 88,
   "id": "4be06c8b-1858-4f40-a003-60b7e4ab760f",
   "metadata": {},
   "outputs": [],
   "source": [
    "p1 = Point(2,3)\n",
    "p2 = Point(2,3)"
   ]
  },
  {
   "cell_type": "code",
   "execution_count": 89,
   "id": "daf0f4f5-0b40-4714-9014-c27a6df3e814",
   "metadata": {},
   "outputs": [
    {
     "data": {
      "text/plain": [
       "True"
      ]
     },
     "execution_count": 89,
     "metadata": {},
     "output_type": "execute_result"
    }
   ],
   "source": [
    "p1 == p2"
   ]
  },
  {
   "cell_type": "code",
   "execution_count": 90,
   "id": "2953bd39-e012-419e-b333-c349e13e7819",
   "metadata": {},
   "outputs": [],
   "source": [
    "p3 = Point(4,5)"
   ]
  },
  {
   "cell_type": "code",
   "execution_count": 91,
   "id": "80f776f7-449a-4194-8459-7d4630824d10",
   "metadata": {},
   "outputs": [
    {
     "data": {
      "text/plain": [
       "False"
      ]
     },
     "execution_count": 91,
     "metadata": {},
     "output_type": "execute_result"
    }
   ],
   "source": [
    "p1 == p3"
   ]
  },
  {
   "cell_type": "code",
   "execution_count": 92,
   "id": "0c856394-cc50-490f-9528-9cbaacd70043",
   "metadata": {},
   "outputs": [],
   "source": [
    "class Student:\n",
    "    def __init__(self, name, marks):\n",
    "        self.name = name\n",
    "        self.marks = marks\n",
    "\n",
    "    def __lt__(self, other):\n",
    "        return self.marks<other.marks \n",
    "\n",
    "    def __le__(self, other):\n",
    "        return self.marks<=other.marks\n",
    "\n",
    "    def __gt__(self, other):\n",
    "        return self.marks>other.marks"
   ]
  },
  {
   "cell_type": "code",
   "execution_count": 95,
   "id": "5d09f796-bdda-4e1b-a616-2c49b108e715",
   "metadata": {},
   "outputs": [],
   "source": [
    "s1 = Student('Kuldeep', 88)\n",
    "s2 = Student('Atharv', 82)"
   ]
  },
  {
   "cell_type": "code",
   "execution_count": 96,
   "id": "97030d5e-2296-4f66-bd70-c534928655ec",
   "metadata": {},
   "outputs": [
    {
     "data": {
      "text/plain": [
       "False"
      ]
     },
     "execution_count": 96,
     "metadata": {},
     "output_type": "execute_result"
    }
   ],
   "source": [
    "s1<s2"
   ]
  },
  {
   "cell_type": "code",
   "execution_count": 97,
   "id": "c4dce3ce-21c6-4069-995f-0283a656e9f6",
   "metadata": {},
   "outputs": [
    {
     "data": {
      "text/plain": [
       "False"
      ]
     },
     "execution_count": 97,
     "metadata": {},
     "output_type": "execute_result"
    }
   ],
   "source": [
    "s1<=s2"
   ]
  },
  {
   "cell_type": "code",
   "execution_count": 98,
   "id": "87e40f87-fbcf-438f-aa87-eb7cade84105",
   "metadata": {},
   "outputs": [
    {
     "data": {
      "text/plain": [
       "True"
      ]
     },
     "execution_count": 98,
     "metadata": {},
     "output_type": "execute_result"
    }
   ],
   "source": [
    "s1>s2"
   ]
  },
  {
   "cell_type": "code",
   "execution_count": null,
   "id": "f9157837-e600-4862-ab44-143eb94256ab",
   "metadata": {},
   "outputs": [],
   "source": [
    "__Str__()\n",
    "\n",
    "- Whenever we print an object then automatically __str__() method gets executed\n",
    "- First it will look for the __str__() inside the class\n",
    "- If it is not available inside the class then it will call it from the object and will print something like __main__.Class_name at address\n",
    "- If we don't want this information then we have to override the __str__() method "
   ]
  },
  {
   "cell_type": "code",
   "execution_count": 112,
   "id": "e4c0f2eb-7cca-4f33-a625-6df67954f70c",
   "metadata": {},
   "outputs": [],
   "source": [
    "class Book:\n",
    "    def __init__(self, pages):\n",
    "        self.pages = pages\n",
    "\n",
    "    def __add__(self, other):\n",
    "        total = self.pages+other.pages\n",
    "        return Book(total)\n",
    "        \n",
    "\n",
    "    def __str__(self):\n",
    "        return str(self.pages)"
   ]
  },
  {
   "cell_type": "code",
   "execution_count": 113,
   "id": "fd6a05a5-64f9-49f7-9256-5fe3f19449ee",
   "metadata": {},
   "outputs": [],
   "source": [
    "b1 = Book(50)\n",
    "b2 = Book(30)\n",
    "b3 = Book(45)\n",
    "b4 = Book(55)"
   ]
  },
  {
   "cell_type": "code",
   "execution_count": 114,
   "id": "4037c7b6-944a-43fa-bc8f-86b009e32ce3",
   "metadata": {},
   "outputs": [
    {
     "name": "stdout",
     "output_type": "stream",
     "text": [
      "180\n"
     ]
    }
   ],
   "source": [
    "print(b1+b2+b3+b4)"
   ]
  },
  {
   "cell_type": "code",
   "execution_count": 115,
   "id": "7daef69b-059d-48b1-9d7c-15f2b5c02441",
   "metadata": {},
   "outputs": [],
   "source": [
    "class Student:\n",
    "\n",
    "    def __init__(self, name, marks):\n",
    "        self.name = name\n",
    "        self.marks = marks\n",
    "\n",
    "    def __str__(self):\n",
    "        return f'I am {self.name} and my marks are {self.marks}'"
   ]
  },
  {
   "cell_type": "code",
   "execution_count": 116,
   "id": "79e2cb4f-21be-438a-8687-bd669a21bb65",
   "metadata": {},
   "outputs": [
    {
     "name": "stdout",
     "output_type": "stream",
     "text": [
      "I am Amit and my marks are 72\n"
     ]
    }
   ],
   "source": [
    "s1 = Student('Amit', 72)\n",
    "print(s1)"
   ]
  },
  {
   "cell_type": "code",
   "execution_count": null,
   "id": "619935ea-6091-4e25-894d-6481837ab491",
   "metadata": {},
   "outputs": [],
   "source": [
    "# When magic method __add__() gets executed\n",
    "# How many times __add__() will get executed? \n",
    "# When __str__() methods gets executed \n",
    "# What is the use of __str__() or when to use it "
   ]
  },
  {
   "cell_type": "code",
   "execution_count": null,
   "id": "292dfe66-59bb-4747-a2df-32d0736f1ece",
   "metadata": {},
   "outputs": [],
   "source": [
    "When we use + operator on two objects then __add__() will get executed \n",
    "The number of times + operator is called that many number of times __add__() will be used "
   ]
  }
 ],
 "metadata": {
  "kernelspec": {
   "display_name": "Python 3 (ipykernel)",
   "language": "python",
   "name": "python3"
  },
  "language_info": {
   "codemirror_mode": {
    "name": "ipython",
    "version": 3
   },
   "file_extension": ".py",
   "mimetype": "text/x-python",
   "name": "python",
   "nbconvert_exporter": "python",
   "pygments_lexer": "ipython3",
   "version": "3.12.4"
  }
 },
 "nbformat": 4,
 "nbformat_minor": 5
}
