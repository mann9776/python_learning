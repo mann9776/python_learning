{
 "cells": [
  {
   "cell_type": "markdown",
   "id": "10c75a92-8a2c-47c5-8edd-d7c32266a2e7",
   "metadata": {},
   "source": [
    "### Binary Operator\n",
    "\n",
    "- It is called binary operators because it will use two operands(values) in it\n",
    "- It is used to generate a result, based on some kind of condition\n",
    "\n",
    "    __Syntax:__\n",
    "    \n",
    "     expression_1 if condition_is_true else expression_2\n",
    "     \n",
    "     - When the condition is True it will return expression_1 as the result\n",
    "     - When the condition is False it will return expression_2 as the result"
   ]
  },
  {
   "cell_type": "code",
   "execution_count": 2,
   "id": "3716da1c-0d00-4722-a6ba-7db56e89af09",
   "metadata": {},
   "outputs": [
    {
     "name": "stdout",
     "output_type": "stream",
     "text": [
      "Even\n"
     ]
    }
   ],
   "source": [
    "# Take a number and store it in a variable\n",
    "a = 10\n",
    "\n",
    "# Using binay operator we need to find that whether the given number is even or not\n",
    "print('Even' if (a%2 == 0) else 'Odd')"
   ]
  },
  {
   "cell_type": "code",
   "execution_count": 3,
   "id": "a98669aa-a269-4a90-95ab-ee40ad983bf5",
   "metadata": {},
   "outputs": [
    {
     "name": "stdout",
     "output_type": "stream",
     "text": [
      "Odd\n"
     ]
    }
   ],
   "source": [
    "# Take a number and store it in a variable\n",
    "a = 27\n",
    "\n",
    "# Using binay operator we need to find that whether the given number is even or not\n",
    "print('Even' if (a%2 == 0) else 'Odd')"
   ]
  },
  {
   "cell_type": "markdown",
   "id": "2ed4c6d6-3672-432e-8f85-fd7af6dedf99",
   "metadata": {},
   "source": [
    "### Ternary Operator\n",
    "\n",
    "- It is called ternary operator because it will use 3 operands (values) in it\n",
    "- It is used to generate a result based on some conditions\n",
    "\n",
    "    Syntax:\n",
    "    \n",
    "     expression_1 if condition_1 else expression_2 if condition_2 else expression_3\n",
    "     \n",
    "     - When the condition_1 is True it will return expression_1 as the result\n",
    "     - When the condition_1 is False, then it will check the condition_2 if the condition is True, then expression_2 is the result\n",
    "     - When both the conditions are False, expression_3 is the answer"
   ]
  },
  {
   "cell_type": "code",
   "execution_count": 5,
   "id": "9ba716b2-5995-4cd6-8a9d-3b79dcb4cc91",
   "metadata": {},
   "outputs": [
    {
     "name": "stdout",
     "output_type": "stream",
     "text": [
      "250\n"
     ]
    }
   ],
   "source": [
    "# Find the maximum number among the three numbers\n",
    "a = 101\n",
    "b = 250\n",
    "c = 100\n",
    "\n",
    "print(a if (a>b and a>c) else b if (b>a and b>c) else c)"
   ]
  },
  {
   "cell_type": "markdown",
   "id": "ac711a08",
   "metadata": {
    "jp-MarkdownHeadingCollapsed": true
   },
   "source": [
    "### Bitwise Opertor \n",
    "\n",
    "- bit --> smallest unit of memory (0 or 1)\n",
    "- byte ---> combination of bits \n",
    "    \n",
    "    1 byte = 8 bits "
   ]
  },
  {
   "cell_type": "markdown",
   "id": "49c09828",
   "metadata": {},
   "source": [
    "### bin() function is used to convert an integer to a binary number "
   ]
  },
  {
   "cell_type": "code",
   "execution_count": 6,
   "id": "990fe336-cbe7-4b43-9bb3-d3f9fe2821d4",
   "metadata": {},
   "outputs": [
    {
     "data": {
      "text/plain": [
       "'0b1111111'"
      ]
     },
     "execution_count": 6,
     "metadata": {},
     "output_type": "execute_result"
    }
   ],
   "source": [
    "bin(127)"
   ]
  },
  {
   "cell_type": "code",
   "execution_count": null,
   "id": "23016e42-f400-4cda-98c0-0ec805a0eade",
   "metadata": {},
   "outputs": [],
   "source": [
    "127 \n",
    "63 ----> 1\n",
    "31 ----> 1\n",
    "15 ----> 1\n",
    "7 ----> 1\n",
    "3 ----> 1\n",
    "1 ----> 1\n",
    "\n",
    "0b1111111"
   ]
  },
  {
   "cell_type": "code",
   "execution_count": 7,
   "id": "e13337a7-d789-443e-98cd-7343be6c4a75",
   "metadata": {},
   "outputs": [
    {
     "data": {
      "text/plain": [
       "127"
      ]
     },
     "execution_count": 7,
     "metadata": {},
     "output_type": "execute_result"
    }
   ],
   "source": [
    "0b1111111"
   ]
  },
  {
   "cell_type": "code",
   "execution_count": 8,
   "id": "9b69db46-d5d7-4765-bb11-42534de9cbc7",
   "metadata": {},
   "outputs": [
    {
     "data": {
      "text/plain": [
       "127"
      ]
     },
     "execution_count": 8,
     "metadata": {},
     "output_type": "execute_result"
    }
   ],
   "source": [
    "int('0b1111111', base = 2)"
   ]
  },
  {
   "cell_type": "code",
   "execution_count": 9,
   "id": "3ea9f69e-196a-460f-bb4a-5aaf3ec87859",
   "metadata": {},
   "outputs": [
    {
     "data": {
      "text/plain": [
       "'0b10011101'"
      ]
     },
     "execution_count": 9,
     "metadata": {},
     "output_type": "execute_result"
    }
   ],
   "source": [
    "bin(157)"
   ]
  },
  {
   "cell_type": "code",
   "execution_count": 10,
   "id": "8ae08927-3bd2-422f-aeec-c0ea8ed23304",
   "metadata": {},
   "outputs": [
    {
     "data": {
      "text/plain": [
       "'0o177'"
      ]
     },
     "execution_count": 10,
     "metadata": {},
     "output_type": "execute_result"
    }
   ],
   "source": [
    "oct(127)"
   ]
  },
  {
   "cell_type": "code",
   "execution_count": 11,
   "id": "f078b0c4-48a3-440a-bf2e-286f95340ab6",
   "metadata": {},
   "outputs": [
    {
     "data": {
      "text/plain": [
       "'0x7f'"
      ]
     },
     "execution_count": 11,
     "metadata": {},
     "output_type": "execute_result"
    }
   ],
   "source": [
    "hex(127)"
   ]
  },
  {
   "cell_type": "markdown",
   "id": "179c9c5c",
   "metadata": {},
   "source": [
    "### Steps involved in Bitwise Operator \n",
    "\n",
    "- Convert the integer in the binary equivalent\n",
    "- Perform the operation bit by bit\n",
    "- Convert the result back to the integer"
   ]
  },
  {
   "cell_type": "markdown",
   "id": "6fd13a4c",
   "metadata": {},
   "source": [
    "### Types of Bitwise Operator \n",
    "\n",
    "- There are 6 types of Bitwise Operator\n",
    "    \n",
    "    - Bitwise AND operator (&)\n",
    "    - Bitwise OR operator (|)\n",
    "    - Bitwise Not Operator (~)\n",
    "    - Bitwise XOR operator (^)\n",
    "    - Bitwise left shift operator (<<)\n",
    "    - Bitwise Right shift operator (>>)"
   ]
  },
  {
   "cell_type": "markdown",
   "id": "a8bcf0a4",
   "metadata": {},
   "source": [
    "#### 1. Bitwise AND Operator (&)\n",
    "\n",
    "             A    B    Output\n",
    "             0    0      0 \n",
    "             0    1      0 \n",
    "             1    0      0 \n",
    "             1    1      1\n",
    "- 1 ---> True \n",
    "- 0 ---> False"
   ]
  },
  {
   "cell_type": "code",
   "execution_count": 15,
   "id": "c3239a27-64a3-41b0-bc98-4de412a46b75",
   "metadata": {},
   "outputs": [
    {
     "data": {
      "text/plain": [
       "8"
      ]
     },
     "execution_count": 15,
     "metadata": {},
     "output_type": "execute_result"
    }
   ],
   "source": [
    "25 & 72"
   ]
  },
  {
   "cell_type": "code",
   "execution_count": 12,
   "id": "bf23be79-fb90-4ceb-bb06-007a9e4c9e75",
   "metadata": {},
   "outputs": [
    {
     "data": {
      "text/plain": [
       "'0b11001'"
      ]
     },
     "execution_count": 12,
     "metadata": {},
     "output_type": "execute_result"
    }
   ],
   "source": [
    "bin(25)"
   ]
  },
  {
   "cell_type": "code",
   "execution_count": 13,
   "id": "17e67568-0427-4249-a56f-bb93a65fd6c5",
   "metadata": {},
   "outputs": [
    {
     "data": {
      "text/plain": [
       "'0b1001000'"
      ]
     },
     "execution_count": 13,
     "metadata": {},
     "output_type": "execute_result"
    }
   ],
   "source": [
    "bin(72)"
   ]
  },
  {
   "cell_type": "code",
   "execution_count": null,
   "id": "2788cde9-7f67-444f-93af-b75c4f7899f2",
   "metadata": {},
   "outputs": [],
   "source": [
    "0b0011001\n",
    "0b1001000\n",
    "\n",
    "0b0001000"
   ]
  },
  {
   "cell_type": "code",
   "execution_count": 14,
   "id": "b32b80bf-08b8-4057-8de3-2a3a5f729995",
   "metadata": {},
   "outputs": [
    {
     "data": {
      "text/plain": [
       "8"
      ]
     },
     "execution_count": 14,
     "metadata": {},
     "output_type": "execute_result"
    }
   ],
   "source": [
    "0b0001000"
   ]
  },
  {
   "cell_type": "markdown",
   "id": "2d7672d0",
   "metadata": {},
   "source": [
    "### Bitwise AND opertor on Negative numbers\n",
    "\n",
    "- Normal way that we apply on +ve numbers is not applicable on -ve number "
   ]
  },
  {
   "cell_type": "code",
   "execution_count": 19,
   "id": "ecf77400-5295-411e-a433-0a5266763b1e",
   "metadata": {},
   "outputs": [
    {
     "data": {
      "text/plain": [
       "5"
      ]
     },
     "execution_count": 19,
     "metadata": {},
     "output_type": "execute_result"
    }
   ],
   "source": [
    "-3 & 5"
   ]
  },
  {
   "cell_type": "code",
   "execution_count": 16,
   "id": "83b1a6d0-7437-4e8d-8410-2afc8319806f",
   "metadata": {},
   "outputs": [
    {
     "data": {
      "text/plain": [
       "'-0b11'"
      ]
     },
     "execution_count": 16,
     "metadata": {},
     "output_type": "execute_result"
    }
   ],
   "source": [
    "bin(-3)"
   ]
  },
  {
   "cell_type": "code",
   "execution_count": 17,
   "id": "78b8deaf-0f9c-43e5-bc6f-2744bbd86e66",
   "metadata": {},
   "outputs": [
    {
     "data": {
      "text/plain": [
       "'0b101'"
      ]
     },
     "execution_count": 17,
     "metadata": {},
     "output_type": "execute_result"
    }
   ],
   "source": [
    "bin(5)"
   ]
  },
  {
   "cell_type": "code",
   "execution_count": null,
   "id": "823d08d7-c249-41dd-a475-3ddf1ee9f4f8",
   "metadata": {},
   "outputs": [],
   "source": [
    "0b011\n",
    "0b101\n",
    "\n",
    "0b001"
   ]
  },
  {
   "cell_type": "code",
   "execution_count": 18,
   "id": "84ff2e8a-c399-4a53-b17b-6941be7d4f43",
   "metadata": {},
   "outputs": [
    {
     "data": {
      "text/plain": [
       "1"
      ]
     },
     "execution_count": 18,
     "metadata": {},
     "output_type": "execute_result"
    }
   ],
   "source": [
    "0b001"
   ]
  },
  {
   "cell_type": "code",
   "execution_count": null,
   "id": "b7d7c391-0bb6-48a9-a68a-7b6f3efc7f01",
   "metadata": {},
   "outputs": [],
   "source": [
    "# an integer in python takes 4 bytes of memory i.e 32 bits"
   ]
  },
  {
   "cell_type": "code",
   "execution_count": 21,
   "id": "1ce03bc7-8f07-41c6-9a90-56932db2ca41",
   "metadata": {},
   "outputs": [
    {
     "data": {
      "text/plain": [
       "'0b11'"
      ]
     },
     "execution_count": 21,
     "metadata": {},
     "output_type": "execute_result"
    }
   ],
   "source": [
    "bin(3)"
   ]
  },
  {
   "cell_type": "markdown",
   "id": "5a572f4f",
   "metadata": {},
   "source": [
    "### Take 2's complement \n",
    "\n",
    "Step :- 1's complement\n",
    "\n",
    "    # we have to take 1's complement of the number given to us, in 1's complemet we will replace 0 by 1 and 1 by 0 \n",
    "    \n",
    "    0000 0000 0000 0000 0000 0000 0000 0011 ---> Binary equivalent of 3 in a 32 bit format\n",
    "    1111 1111 1111 1111 1111 1111 1111 1100 ---> 1's complement of 3\n",
    "    \n",
    "    2. Is to take 2's complemt \n",
    "    # add 1 to the 1's complement \n",
    "\n",
    "        Binary Addition \n",
    "        \n",
    "        A   B    Ouput \n",
    "        0   0     0\n",
    "        0   1     1\n",
    "        1   0     1\n",
    "        1   1     0   and carry on 1 \n",
    "        \n",
    "            1111 1111 1111 1111 1111 1111 1111 1100 ---> 1's complement of 3 \n",
    "                                                  1\n",
    "            1111 1111 1111 1111 1111 1111 1111 1101 ---> 2's complement of 3 ( bit binary equivalent of -3)"
   ]
  },
  {
   "cell_type": "code",
   "execution_count": 20,
   "id": "60dd13cd-fc4d-42eb-8413-b16cf568b2b1",
   "metadata": {},
   "outputs": [
    {
     "data": {
      "text/plain": [
       "'0b10'"
      ]
     },
     "execution_count": 20,
     "metadata": {},
     "output_type": "execute_result"
    }
   ],
   "source": [
    "1111 1111 1111 1111 1111 1111 1111 1101\n",
    "0000 0000 0000 0000 0000 0000 0000 0101\n",
    "\n",
    "0000 0000 0000 0000 0000 0000 0000 0101"
   ]
  },
  {
   "cell_type": "code",
   "execution_count": 23,
   "id": "0253b2e8-d434-4dbc-8fab-6c39f567558c",
   "metadata": {
    "scrolled": true
   },
   "outputs": [
    {
     "data": {
      "text/plain": [
       "5"
      ]
     },
     "execution_count": 23,
     "metadata": {},
     "output_type": "execute_result"
    }
   ],
   "source": [
    "int('0b00000000000000000000000000000101', base = 2)"
   ]
  },
  {
   "cell_type": "code",
   "execution_count": null,
   "id": "75fcdcfe-1166-483a-9502-c0a078b5967d",
   "metadata": {},
   "outputs": [],
   "source": [
    "-12 & 16"
   ]
  },
  {
   "cell_type": "code",
   "execution_count": 24,
   "id": "c84428ca-074d-401e-8ab7-3624948cb441",
   "metadata": {},
   "outputs": [
    {
     "data": {
      "text/plain": [
       "'0b1100'"
      ]
     },
     "execution_count": 24,
     "metadata": {},
     "output_type": "execute_result"
    }
   ],
   "source": [
    "bin(12)"
   ]
  },
  {
   "cell_type": "code",
   "execution_count": 25,
   "id": "d50d3c7c-365d-44b8-9267-9dbd9880a4dc",
   "metadata": {},
   "outputs": [
    {
     "data": {
      "text/plain": [
       "'0b10000'"
      ]
     },
     "execution_count": 25,
     "metadata": {},
     "output_type": "execute_result"
    }
   ],
   "source": [
    "bin(16)"
   ]
  },
  {
   "cell_type": "code",
   "execution_count": null,
   "id": "6448a8ee-fd94-4c8a-9968-908434ff9b48",
   "metadata": {},
   "outputs": [],
   "source": [
    "Step-1: Write the bit bianry equivalent of 12 in 32 bit format\n",
    "0000 0000 0000 0000 0000 0000 0000 1100\n",
    "\n",
    "\n",
    "Step-2 Take 2's complement of bit binary equivalent of 12 \n",
    "\n",
    "a) First take the 1's complement of 12\n",
    "0000 0000 0000 0000 0000 0000 0000 1100\n",
    "1111 1111 1111 1111 1111 1111 1111 0011 -----> 1's complement of 12 \n",
    "\n",
    "b) add 1 to the 1's complement of 12 \n",
    "1111 1111 1111 1111 1111 1111 1111 0011\n",
    "                                      1\n",
    "                                    11  ---- carry \n",
    "1111 1111 1111 1111 1111 1111 1111 0100 - 2's complement of 12 or bit binary equivalent of -12"
   ]
  },
  {
   "cell_type": "code",
   "execution_count": null,
   "id": "f8b2eb42-7de9-42f1-89d5-f714d0e9e458",
   "metadata": {},
   "outputs": [],
   "source": [
    "Step:3 Convert 16 to a bit binary equivalent in 32 bit and do & operation\n",
    "1111 1111 1111 1111 1111 1111 1111 0100\n",
    "0000 0000 0000 0000 0000 0000 0001 0000\n",
    "\n",
    "0000 0000 0000 0000 0000 0000 0001 0000"
   ]
  },
  {
   "cell_type": "code",
   "execution_count": 26,
   "id": "9f6b9e90-1ea8-42ca-9e46-5a6a3cfe9f69",
   "metadata": {},
   "outputs": [
    {
     "data": {
      "text/plain": [
       "16"
      ]
     },
     "execution_count": 26,
     "metadata": {},
     "output_type": "execute_result"
    }
   ],
   "source": [
    "int('0b00000000000000000000000000010000', base = 2)"
   ]
  },
  {
   "cell_type": "markdown",
   "id": "ee96f3b4",
   "metadata": {},
   "source": [
    "### Bitwise OR operator (|)\n",
    "\n",
    "      A     B     Output \n",
    "      0     0      0\n",
    "      0     1      1\n",
    "      1     0      1\n",
    "      1     1      1"
   ]
  },
  {
   "cell_type": "code",
   "execution_count": null,
   "id": "7d2b2d87-22e1-449d-b86d-db3387ae103f",
   "metadata": {},
   "outputs": [],
   "source": [
    "45 | 78"
   ]
  },
  {
   "cell_type": "code",
   "execution_count": 27,
   "id": "3a46b3e2-4a2a-4cce-a75f-2d82826458d5",
   "metadata": {},
   "outputs": [
    {
     "data": {
      "text/plain": [
       "'0b101101'"
      ]
     },
     "execution_count": 27,
     "metadata": {},
     "output_type": "execute_result"
    }
   ],
   "source": [
    "bin(45)"
   ]
  },
  {
   "cell_type": "code",
   "execution_count": 28,
   "id": "d1f14620-0709-47d1-a313-72ee9bdec054",
   "metadata": {},
   "outputs": [
    {
     "data": {
      "text/plain": [
       "'0b1001110'"
      ]
     },
     "execution_count": 28,
     "metadata": {},
     "output_type": "execute_result"
    }
   ],
   "source": [
    "bin(78)"
   ]
  },
  {
   "cell_type": "code",
   "execution_count": null,
   "id": "bbb3028b-abcc-437e-b316-37d3273ea5f7",
   "metadata": {},
   "outputs": [],
   "source": [
    "0b0101101\n",
    "0b1001110\n",
    "\n",
    "0b1101111"
   ]
  },
  {
   "cell_type": "code",
   "execution_count": 29,
   "id": "20bc103b-2091-45b5-a27a-15e8212199f7",
   "metadata": {},
   "outputs": [
    {
     "data": {
      "text/plain": [
       "111"
      ]
     },
     "execution_count": 29,
     "metadata": {},
     "output_type": "execute_result"
    }
   ],
   "source": [
    "0b1101111"
   ]
  },
  {
   "cell_type": "code",
   "execution_count": 31,
   "id": "9791a384-eb25-4c3c-b23f-1b19cac4d2d6",
   "metadata": {},
   "outputs": [
    {
     "data": {
      "text/plain": [
       "-9"
      ]
     },
     "execution_count": 31,
     "metadata": {},
     "output_type": "execute_result"
    }
   ],
   "source": [
    "-14 | 23"
   ]
  },
  {
   "cell_type": "markdown",
   "id": "031b19e7",
   "metadata": {},
   "source": [
    "Binary equivalent of -14\n",
    "\n",
    " Step 1 : write the binary equivalent of 14 in 32 bit format\n",
    "         \n",
    "            0000 0000 0000 0000 0000 0000 0000 1110\n",
    " \n",
    " Step-2 : Take a 1's complement of 14\n",
    "           \n",
    "            1111 1111 1111 1111 1111 1111 1111 0001\n",
    "        \n",
    " Step-3 : Take a 2's complemet (add 1 in 1's complement of 14)\n",
    "      \n",
    "            1111 1111 1111 1111 1111 1111 1111 0001\n",
    "                                                 +1\n",
    "            1111 1111 1111 1111 1111 1111 1111 0010 --- 2's complement of 14 or binary equivalent of -14\n",
    "            \n",
    " Step:-4 Now we will do the Bitwise OR operation\n",
    "        \n",
    "         1111 1111 1111 1111 1111 1111 1111 0010 \n",
    "         0000 0000 0000 0000 0000 0000 0001 0111\n",
    "         1111 1111 1111 1111 1111 1111 1111 0111"
   ]
  },
  {
   "cell_type": "code",
   "execution_count": 32,
   "id": "257b8b18-5f1c-4609-89af-4b431f557661",
   "metadata": {},
   "outputs": [
    {
     "data": {
      "text/plain": [
       "4294967287"
      ]
     },
     "execution_count": 32,
     "metadata": {},
     "output_type": "execute_result"
    }
   ],
   "source": [
    "int('0b11111111111111111111111111110111', base = 2)"
   ]
  },
  {
   "cell_type": "markdown",
   "id": "84948f23",
   "metadata": {},
   "source": [
    "Step: 5 Take a 2's complement of the result\n",
    "    \n",
    "    1111 1111 1111 1111 1111 1111 1111 0111 ----> binary equivalent of a -ve number \n",
    "    \n",
    "    Take a 1's complement \n",
    "    \n",
    "    0000 0000 0000 00000 0000 0000 0000 1000\n",
    "    \n",
    "    Take a 2's complement (add 1 the 1's complement)\n",
    "    \n",
    "    0000 0000 0000 0000 0000 0000 0000 1000\n",
    "                                         +1\n",
    "    0000 0000 0000 0000 0000 0000 0000 1001"
   ]
  },
  {
   "cell_type": "code",
   "execution_count": 30,
   "id": "cd46d806-908f-455a-a605-a28d001d4a3d",
   "metadata": {},
   "outputs": [
    {
     "data": {
      "text/plain": [
       "-9"
      ]
     },
     "execution_count": 30,
     "metadata": {},
     "output_type": "execute_result"
    }
   ],
   "source": [
    "-int('0b00000000000000000000000000001001', base = 2)"
   ]
  },
  {
   "cell_type": "markdown",
   "id": "e8f3b286",
   "metadata": {},
   "source": [
    "### Bitwise Not Operator or Bitwise complementary operator (~)\n",
    "\n",
    "    A    Output \n",
    "    0      1\n",
    "    1      0 \n"
   ]
  },
  {
   "cell_type": "markdown",
   "id": "5778fccf",
   "metadata": {},
   "source": [
    "# Write the number in the 32 bit format \n",
    "\n",
    "4 ----> 0000 0000 0000 0000 0000 0000 0000 0100\n",
    "\n",
    "Step-1  Do the not operator on 4\n",
    "        \n",
    "        1111 1111 1111 1111 1111 1111 1111 1011\n",
    "\n",
    "Step-2 Take 2's complement\n",
    "    \n",
    "        1's complement of 1111 1111 1111 1111 1111 1111 1111 1011\n",
    "        \n",
    "        0000 0000 0000 0000 0000 0000 0000 0100\n",
    "                                             +1\n",
    "        0000 0000 0000 0000 0000 0000 0000 0101"
   ]
  },
  {
   "cell_type": "code",
   "execution_count": 33,
   "id": "ae57e0a7-7ce8-45fc-8403-5caeb54dd0ca",
   "metadata": {},
   "outputs": [
    {
     "data": {
      "text/plain": [
       "-5"
      ]
     },
     "execution_count": 33,
     "metadata": {},
     "output_type": "execute_result"
    }
   ],
   "source": [
    "-int('0b00000000000000000000000000000101', base = 2)"
   ]
  },
  {
   "cell_type": "markdown",
   "id": "49407a19",
   "metadata": {},
   "source": [
    "### Formula \n",
    "\n",
    "~ num = -(num+1)"
   ]
  },
  {
   "cell_type": "code",
   "execution_count": null,
   "id": "5cc7040c-d29f-4e07-866a-62b247a9d4ec",
   "metadata": {},
   "outputs": [],
   "source": []
  },
  {
   "cell_type": "markdown",
   "id": "d70b695b",
   "metadata": {},
   "source": [
    "### Biwtise XOR operator (^)\n",
    "\n",
    "    A    B    Output \n",
    "    0    0      0 \n",
    "    0    1      1\n",
    "    1    0      1\n",
    "    1    1      0 "
   ]
  },
  {
   "cell_type": "code",
   "execution_count": 55,
   "id": "4a13163f",
   "metadata": {},
   "outputs": [
    {
     "data": {
      "text/plain": [
       "0"
      ]
     },
     "execution_count": 55,
     "metadata": {},
     "output_type": "execute_result"
    }
   ],
   "source": [
    "99^99"
   ]
  },
  {
   "cell_type": "code",
   "execution_count": 58,
   "id": "9308872e",
   "metadata": {},
   "outputs": [
    {
     "data": {
      "text/plain": [
       "'0b1100011'"
      ]
     },
     "execution_count": 58,
     "metadata": {},
     "output_type": "execute_result"
    }
   ],
   "source": [
    "bin(99)"
   ]
  },
  {
   "cell_type": "code",
   "execution_count": null,
   "id": "5d200fcf",
   "metadata": {},
   "outputs": [],
   "source": [
    "0b1100011\n",
    "0b1100011\n",
    "\n",
    "0b0000000"
   ]
  },
  {
   "cell_type": "code",
   "execution_count": 59,
   "id": "517f9e38",
   "metadata": {},
   "outputs": [
    {
     "data": {
      "text/plain": [
       "0"
      ]
     },
     "execution_count": 59,
     "metadata": {},
     "output_type": "execute_result"
    }
   ],
   "source": [
    "int('0000000', base = 2)"
   ]
  },
  {
   "cell_type": "code",
   "execution_count": 60,
   "id": "87cf977e",
   "metadata": {},
   "outputs": [
    {
     "data": {
      "text/plain": [
       "-16"
      ]
     },
     "execution_count": 60,
     "metadata": {},
     "output_type": "execute_result"
    }
   ],
   "source": [
    "-4 ^ 12"
   ]
  },
  {
   "cell_type": "code",
   "execution_count": 61,
   "id": "714f1d2f",
   "metadata": {},
   "outputs": [
    {
     "data": {
      "text/plain": [
       "'0b100'"
      ]
     },
     "execution_count": 61,
     "metadata": {},
     "output_type": "execute_result"
    }
   ],
   "source": [
    "bin(4)"
   ]
  },
  {
   "cell_type": "code",
   "execution_count": 62,
   "id": "0c9be656",
   "metadata": {},
   "outputs": [
    {
     "data": {
      "text/plain": [
       "'0b1100'"
      ]
     },
     "execution_count": 62,
     "metadata": {},
     "output_type": "execute_result"
    }
   ],
   "source": [
    "bin(12)"
   ]
  },
  {
   "cell_type": "markdown",
   "id": "d0977542",
   "metadata": {},
   "source": [
    "Step-1 : Convert 4 in binary equivalent and write it in 32 bit format \n",
    "    \n",
    "      0000 0000 0000 0000 0000 0000 0000 0100\n",
    "        \n",
    "Step -2 Take 2's complement \n",
    "    \n",
    "          1's complement of 4\n",
    "        \n",
    "        1111 1111 1111 1111 1111 1111 1111 1011 ---1's complement of 4\n",
    "        \n",
    "           add 1 to 1's complement of 4\n",
    "            \n",
    "            1111 1111 1111 1111 1111 1111 1111 1011\n",
    "                                                 +1\n",
    "            1111 1111 1111 1111 1111 1111 1111 1100\n",
    "            \n",
    "Step -3 Perform XOR operator on binary equivalent of -4 and binary equivalent of 12\n",
    "\n",
    "            1111 1111 1111 1111 1111 1111 1111 1100\n",
    "            0000 0000 0000 0000 0000 0000 0000 1100\n",
    "            \n",
    "            1111 1111 1111 1111 1111 1111 1111 0000\n",
    "\n",
    "Step:4 Take 2's complement of the result\n",
    "    \n",
    "            1111 1111 1111 1111 1111 1111 1111 0000\n",
    "        \n",
    "        1's complement\n",
    "           \n",
    "            0000 0000 0000 0000 0000 0000 0000 1111\n",
    "        \n",
    "         add 1 \n",
    "            \n",
    "            0000 0000 0000 0000 0000 0000 0000 1111\n",
    "                                                 +1\n",
    "            0000 0000 0000 0000 0000 0000 0001 0000"
   ]
  },
  {
   "cell_type": "code",
   "execution_count": 66,
   "id": "eb3cd358",
   "metadata": {},
   "outputs": [
    {
     "data": {
      "text/plain": [
       "-16"
      ]
     },
     "execution_count": 66,
     "metadata": {},
     "output_type": "execute_result"
    }
   ],
   "source": [
    "-(int('00000000000000000000000000010000', base = 2))"
   ]
  },
  {
   "cell_type": "markdown",
   "id": "1e2d0e0c",
   "metadata": {},
   "source": [
    "### Bitwise Left shift operator (<<)\n",
    "\n",
    "- Steps for left shift operator \n",
    "\n",
    "    - Convert the number into a binary equivalent\n",
    "    - Expresss the binary number in the 32 bit format\n",
    "    - We have to remove the specific number fo bits from the left and we wil going to add the same number of 0's on the right \n",
    "    - Convert the number back to its decimal equivalent"
   ]
  },
  {
   "cell_type": "code",
   "execution_count": 36,
   "id": "de309fb1-c9e3-44ab-8556-7cb1f1249766",
   "metadata": {},
   "outputs": [
    {
     "data": {
      "text/plain": [
       "960"
      ]
     },
     "execution_count": 36,
     "metadata": {},
     "output_type": "execute_result"
    }
   ],
   "source": [
    "120<<3"
   ]
  },
  {
   "cell_type": "code",
   "execution_count": 34,
   "id": "de647e93-aaf3-48f1-87f0-b0352032033a",
   "metadata": {},
   "outputs": [
    {
     "data": {
      "text/plain": [
       "'0b1111000'"
      ]
     },
     "execution_count": 34,
     "metadata": {},
     "output_type": "execute_result"
    }
   ],
   "source": [
    "bin(120)"
   ]
  },
  {
   "cell_type": "code",
   "execution_count": null,
   "id": "d869afb3-d260-44e2-984a-d2b7bce5df81",
   "metadata": {},
   "outputs": [],
   "source": [
    "0 0000 0000 0000 0000 0000 0111 1000000"
   ]
  },
  {
   "cell_type": "code",
   "execution_count": 35,
   "id": "2dc598fb-94fb-49a1-a445-96a0ed32086e",
   "metadata": {},
   "outputs": [
    {
     "data": {
      "text/plain": [
       "960"
      ]
     },
     "execution_count": 35,
     "metadata": {},
     "output_type": "execute_result"
    }
   ],
   "source": [
    "int('00000000000000000000001111000000', base = 2)"
   ]
  },
  {
   "cell_type": "markdown",
   "id": "93019605-5cf8-44cb-b360-d9e7a8caa0c2",
   "metadata": {},
   "source": [
    "Formula:\n",
    "\n",
    "num*(2)**(num of bit)"
   ]
  },
  {
   "cell_type": "code",
   "execution_count": null,
   "id": "a540142a-656f-40a5-9f17-ca251fad3f94",
   "metadata": {},
   "outputs": [],
   "source": [
    "120*(2**3)\n",
    "120*8\n",
    "960"
   ]
  },
  {
   "cell_type": "code",
   "execution_count": 40,
   "id": "33203db9-8f34-4c25-9411-1cf25f992612",
   "metadata": {},
   "outputs": [
    {
     "data": {
      "text/plain": [
       "720"
      ]
     },
     "execution_count": 40,
     "metadata": {},
     "output_type": "execute_result"
    }
   ],
   "source": [
    "45<<4"
   ]
  },
  {
   "cell_type": "code",
   "execution_count": 37,
   "id": "7d9c78e9-6cd6-4dcb-a2f9-8bce337c27e5",
   "metadata": {},
   "outputs": [
    {
     "data": {
      "text/plain": [
       "'0b101101'"
      ]
     },
     "execution_count": 37,
     "metadata": {},
     "output_type": "execute_result"
    }
   ],
   "source": [
    "bin(45)"
   ]
  },
  {
   "cell_type": "code",
   "execution_count": 38,
   "id": "59edba47-4c69-4a12-b5f2-e074c282f3f8",
   "metadata": {},
   "outputs": [
    {
     "data": {
      "text/plain": [
       "720"
      ]
     },
     "execution_count": 38,
     "metadata": {},
     "output_type": "execute_result"
    }
   ],
   "source": [
    " int('00000000000000000000001011010000', base = 2)"
   ]
  },
  {
   "cell_type": "code",
   "execution_count": null,
   "id": "81e8c982-c67e-4634-9760-946059ce09e8",
   "metadata": {},
   "outputs": [],
   "source": [
    "45*(2**4)\n",
    "45*16"
   ]
  },
  {
   "cell_type": "code",
   "execution_count": 39,
   "id": "61ac187d-fdf4-4f5b-acd2-bc519f6d062c",
   "metadata": {},
   "outputs": [
    {
     "data": {
      "text/plain": [
       "720"
      ]
     },
     "execution_count": 39,
     "metadata": {},
     "output_type": "execute_result"
    }
   ],
   "source": [
    "45*16"
   ]
  },
  {
   "cell_type": "markdown",
   "id": "2cb84ace",
   "metadata": {},
   "source": [
    "### Bitwise Right shift operator (>>)\n",
    "\n",
    "- Steps for left shift operator \n",
    "\n",
    "    - Convert the number into a binary equivalent\n",
    "    - Expresss the binary number in the 32 bit format\n",
    "    - We have to remove the specific number fo bits(0 or 1) from the right and we wil going to add the same number of 0's on the left \n",
    "    - Convert the number back to its decimal equivalent"
   ]
  },
  {
   "cell_type": "code",
   "execution_count": 43,
   "id": "051cc087-000f-4f94-a81d-d84b4781e7ed",
   "metadata": {},
   "outputs": [
    {
     "data": {
      "text/plain": [
       "11"
      ]
     },
     "execution_count": 43,
     "metadata": {},
     "output_type": "execute_result"
    }
   ],
   "source": [
    "45>>2"
   ]
  },
  {
   "cell_type": "code",
   "execution_count": 41,
   "id": "94472741-f55d-4ddf-9944-6749de129464",
   "metadata": {},
   "outputs": [
    {
     "data": {
      "text/plain": [
       "11"
      ]
     },
     "execution_count": 41,
     "metadata": {},
     "output_type": "execute_result"
    }
   ],
   "source": [
    "int('00000000000000000000000000001011', base = 2)"
   ]
  },
  {
   "cell_type": "code",
   "execution_count": null,
   "id": "39e7d3ae-bccf-4acd-8339-ca9acfe46a04",
   "metadata": {},
   "outputs": [],
   "source": [
    "Formula:\n",
    "\n",
    "num//2**num of bits"
   ]
  },
  {
   "cell_type": "code",
   "execution_count": 42,
   "id": "86e57945-53e7-4892-b362-3bff4dbcd4aa",
   "metadata": {},
   "outputs": [
    {
     "data": {
      "text/plain": [
       "11"
      ]
     },
     "execution_count": 42,
     "metadata": {},
     "output_type": "execute_result"
    }
   ],
   "source": [
    "45//(2**2)"
   ]
  },
  {
   "cell_type": "markdown",
   "id": "220243c3",
   "metadata": {},
   "source": [
    "### Precedence of all the operator \n",
    "\n",
    "- Parentheses ()\n",
    "- Exponential (**)\n",
    "- Unary minus(-), bitwise complementary (~)\n",
    "- Multiplication(*), Float divison (/), floor division(//), modulus(%)\n",
    "- Addition(+), Subtraction(-)\n",
    "- Bitwise Left shift operator (<<), bitwise right shift operator (>>)\n",
    "- Bitwise AND operator (&)\n",
    "- Bitwise XOR operator (^)\n",
    "- Bitwise OR operator (|)\n",
    "- (>), (>=), (<), (<=), (==), (!=) ---> Comparision operators \n",
    "- Assignment operator (=), Compounding operators (%=, /=, //=, -=, +=, **= , *= )\n",
    "- Identity Operators ( is, is not)\n",
    "- Membership operator (in, not in)\n",
    "- Logical NOT\n",
    "- logical OR \n",
    "- Logical AND\n",
    "\n",
    "- Precedence is from top to bottom and from left to right"
   ]
  },
  {
   "cell_type": "code",
   "execution_count": null,
   "id": "302e9fdc",
   "metadata": {},
   "outputs": [],
   "source": [
    "1. Write the result of the expression `5 & 3` in binary.\n",
    "2. Calculate the result of `7 | 4` in binary.\n",
    "3. What is the output of `12 ^ 5` in binary?\n",
    "4. Find the binary representation of `-3` using two's complement.\n",
    "6. Why is the bitwise NOT of a number `x` (`~x`) equal to `-x - 1`?\n",
    "7. What happens when you left shift a negative number?\n",
    "8. Write the result of `10 & (-3)` in binary.\n",
    "9. Calculate the result of `-5 | 9` in binary.\n",
    "10. Find the binary representation of `-12` using two's complement.\n",
    "12. What is the output of `15 ^ (-6)` in binary?\n",
    "13. Calculate the result of `(-8) >> 2` in binary.\n",
    "14. Write the result of `(-7) | (-10)` in binary.\n",
    "15. Find the binary representation of `-25` using sign-magnitude representation.\n",
    "17. What is the binary representation of `-128` in two's complement?\n",
    "18. Calculate the result of `(-15) << 3` in binary.\n",
    "\n",
    "\n"
   ]
  },
  {
   "cell_type": "markdown",
   "id": "eb6323fb-d94e-4a1c-9bb5-fb58e2c6871f",
   "metadata": {},
   "source": [
    "### Strings \n",
    "\n",
    "- Anything written inside the single quotes ('....'), double quotes (\".....\"), single- triple quotes('''....''') or double triple quotes (\"\"\"....\"\"\")\n",
    "- Single quotes and Doubles quotes are used to write a single line statement whereas if we want to write a multi-line statement, then we will use single triple quotes or Double triple quotes\n",
    "- Thouh the single triple quotes or Double triples quotes are generally used to either write a docstring (documentational string) or to write multi-line comments "
   ]
  },
  {
   "cell_type": "markdown",
   "id": "750f590f-e069-458f-bf84-16c51319d415",
   "metadata": {},
   "source": [
    "### Operations that we can perform over the string Datatype \n",
    "\n",
    "- Length\n",
    "- Concatenate\n",
    "- Repetitions\n",
    "- Indexing and Slicing (important)"
   ]
  },
  {
   "cell_type": "markdown",
   "id": "ad69ab20-f094-4067-8e9e-e186485c671a",
   "metadata": {},
   "source": [
    "### Length \n",
    "\n",
    "- It helps us to get the number of elements (characters)  that are inside a string statement\n",
    "- __len()__ function will be used to find the length of the string\n",
    "- Length function will even count the spaces along with the character\n",
    "\n",
    "Syntax:\n",
    "\n",
    "        a = '.......'\n",
    "        len(a)\n",
    "\n",
    "        len(a) ---> checks the values stored in a ---> count the character or elements ---> return the length of the string"
   ]
  },
  {
   "cell_type": "markdown",
   "id": "6d6fd6f3-578b-4c8e-aea9-4fad55e9c769",
   "metadata": {},
   "source": [
    "### Concatenations \n",
    "\n",
    "- Joining two or more strings together, then this concept is used\n",
    "- we have to use + operator (here in string + operator will not work as arithmetic opeation)"
   ]
  },
  {
   "cell_type": "markdown",
   "id": "8cbdc731-3c4a-4db3-9e63-304f7eec36c1",
   "metadata": {},
   "source": [
    "### Repetition \n",
    "\n",
    "- (*) operator is used in strings it will not act as an arithmetic operator, instead it will repeat a string over and over again till the specified number of times\n",
    "\n",
    "  Syntax:\n",
    "\n",
    "      my_str*(number of times)"
   ]
  },
  {
   "cell_type": "markdown",
   "id": "a125338f-57a7-43fe-b377-af0a20f172c1",
   "metadata": {},
   "source": [
    "### Indexing and Slicing \n",
    "\n",
    "#### Indexing \n",
    "\n",
    "- A string is an ordered collection of data because it follows the indexing method\n",
    "- It is also called sequential data type because it follows indexing method\n",
    "- Each element or character of the string is stored at a particular index\n",
    "- A string will support both Positive indexing and Negative index"
   ]
  },
  {
   "cell_type": "markdown",
   "id": "6fe90f24-95cf-450a-8fc5-6cdab1b3a038",
   "metadata": {},
   "source": [
    "#### Positive Indexing \n",
    "\n",
    "- It will start from left to right\n",
    "- The indexing will start from 0 (by default)\n",
    "- The index of the last element is going to be len(string)-1\n",
    "\n",
    "                                               M A Y A N K\n",
    "                                               0 1 2 3 4 5 ---Positive Indexing"
   ]
  },
  {
   "cell_type": "markdown",
   "id": "1b0c84e8-ce53-49b1-922c-13c2c11fafa3",
   "metadata": {},
   "source": [
    "### Negative Indexing \n",
    "\n",
    "- It will start from right to left\n",
    "- It index of the negative indexing will start from -1\n",
    "- The index of the last element will going to be -len(string)\n",
    "\n",
    "                                                   M  A  Y  A  N  K\n",
    "                                              -6 -5 -4 -3 -2 -1 ----> Negative indexing"
   ]
  },
  {
   "cell_type": "markdown",
   "id": "593d43fe-93d9-4847-995a-a7d7ccc17fe9",
   "metadata": {},
   "source": [
    "                                               0  1  2  3  4  5 ----> Positive Indexing \n",
    "                                               M  A  Y  A  N  K\n",
    "                                              -6 -5 -4 -3 -2 -1 ----> Negative indexing"
   ]
  },
  {
   "cell_type": "markdown",
   "id": "85e3f59f-6037-4cfe-8c56-e63a0b7eadb5",
   "metadata": {},
   "source": [
    "                                       0  1  2  3  4  5  6  7  8  9  10----> Positive Indexing \n",
    "                                       M  A  Y  A  N  K     G  H  A  I \n",
    "                                     -11-10-9 -8 -7 -6 -5 -4 -3 -2 -1----> Negative indexing"
   ]
  },
  {
   "cell_type": "code",
   "execution_count": null,
   "id": "a6bb1ac2-5f5f-46be-bdb8-cf3a6ec1a4a5",
   "metadata": {},
   "outputs": [],
   "source": []
  }
 ],
 "metadata": {
  "kernelspec": {
   "display_name": "Python 3 (ipykernel)",
   "language": "python",
   "name": "python3"
  },
  "language_info": {
   "codemirror_mode": {
    "name": "ipython",
    "version": 3
   },
   "file_extension": ".py",
   "mimetype": "text/x-python",
   "name": "python",
   "nbconvert_exporter": "python",
   "pygments_lexer": "ipython3",
   "version": "3.12.4"
  }
 },
 "nbformat": 4,
 "nbformat_minor": 5
}
