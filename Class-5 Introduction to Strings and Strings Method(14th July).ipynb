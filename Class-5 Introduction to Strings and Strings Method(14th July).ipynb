{
 "cells": [
  {
   "cell_type": "markdown",
   "id": "1d31bd77-b48e-42d0-8a81-ee709410f6a3",
   "metadata": {},
   "source": [
    "### Strings \n",
    "\n",
    "- Anything written inside the single quotes ('....'), double quotes (\".....\"), single- triple quotes('''....''') or double triple quotes (\"\"\"....\"\"\")\n",
    "- Single quotes and Doubles quotes are used to write a single line statement whereas if we want to write a multi-line statement, then we will use single triple quotes or Double triple quotes\n",
    "- Thouh the single triple quotes or Double triples quotes are generally used to either write a docstring (documentational string) or to write multi-line comments "
   ]
  },
  {
   "cell_type": "code",
   "execution_count": 3,
   "id": "507cdf62-eb38-4f93-8bdf-291467dbb9e4",
   "metadata": {},
   "outputs": [
    {
     "name": "stdout",
     "output_type": "stream",
     "text": [
      "Hi, My name is Mayank Ghai <class 'str'>\n"
     ]
    }
   ],
   "source": [
    "my_str = 'Hi, My name is Mayank Ghai'\n",
    "print(my_str, type(my_str))"
   ]
  },
  {
   "cell_type": "code",
   "execution_count": 4,
   "id": "b00c90cb-3bb7-496a-8f30-74d084f7c081",
   "metadata": {},
   "outputs": [
    {
     "ename": "SyntaxError",
     "evalue": "unterminated string literal (detected at line 1) (3854327467.py, line 1)",
     "output_type": "error",
     "traceback": [
      "\u001b[1;36m  Cell \u001b[1;32mIn[4], line 1\u001b[1;36m\u001b[0m\n\u001b[1;33m    a = 'Hi, I am a python trainer here at learnbay\u001b[0m\n\u001b[1;37m        ^\u001b[0m\n\u001b[1;31mSyntaxError\u001b[0m\u001b[1;31m:\u001b[0m unterminated string literal (detected at line 1)\n"
     ]
    }
   ],
   "source": [
    "a = 'Hi, I am a python trainer here at learnbay \n",
    "and right now I am taking a class for Cloud and Devops batch'"
   ]
  },
  {
   "cell_type": "code",
   "execution_count": 6,
   "id": "f45700fd-4e22-4ffe-a0ab-5ad29a3cda2b",
   "metadata": {},
   "outputs": [
    {
     "name": "stdout",
     "output_type": "stream",
     "text": [
      "Hi, I am a python trainer here at learnbay \n",
      "and right now I am taking a class for Cloud and Devops batch\n"
     ]
    }
   ],
   "source": [
    "a = '''Hi, I am a python trainer here at learnbay \n",
    "and right now I am taking a class for Cloud and Devops batch'''\n",
    "print(a)"
   ]
  },
  {
   "cell_type": "markdown",
   "id": "fbd5e97b-00fa-44a4-9d2c-aaf134dd3ee1",
   "metadata": {},
   "source": [
    "### Operations that we can perform over the string Datatype \n",
    "\n",
    "- Length\n",
    "- Concatenate\n",
    "- Repetitions\n",
    "- Indexing and Slicing (important)"
   ]
  },
  {
   "cell_type": "code",
   "execution_count": null,
   "id": "9af7ff53-bce6-4b1d-9e2c-38e2121c0b8a",
   "metadata": {},
   "outputs": [],
   "source": [
    "a = 'python' # 'p'+'y'+'t'+'h'+'o'+'n'"
   ]
  },
  {
   "cell_type": "markdown",
   "id": "37712274-210e-40fe-9ace-627729bf4724",
   "metadata": {},
   "source": [
    "### Length \n",
    "\n",
    "- It helps us to get the number of elements (characters)  that are inside a string statement\n",
    "- __len()__ function will be used to find the length of the string\n",
    "- Length function will even count the spaces along with the character\n",
    "\n",
    "Syntax:\n",
    "\n",
    "        a = '.......'\n",
    "        len(a)\n",
    "\n",
    "        len(a) ---> checks the values stored in a ---> count the character or elements ---> return the length of the string"
   ]
  },
  {
   "cell_type": "code",
   "execution_count": 7,
   "id": "875f28e9-a69b-43ce-bdd6-7e7f0ab24196",
   "metadata": {},
   "outputs": [
    {
     "name": "stdout",
     "output_type": "stream",
     "text": [
      "26\n"
     ]
    }
   ],
   "source": [
    "my_str = 'Hi, My name is Mayank Ghai'\n",
    "print(len(my_str))"
   ]
  },
  {
   "cell_type": "markdown",
   "id": "03ec99a6-e37f-4dfb-afac-8299693c2ffd",
   "metadata": {},
   "source": [
    "### Concatenations \n",
    "\n",
    "- Joining two or more strings together, then this concept is used\n",
    "- we have to use + operator (here in string + operator will not work as arithmetic opeation)"
   ]
  },
  {
   "cell_type": "code",
   "execution_count": 8,
   "id": "1a0e5434-0fc8-4488-aaa2-1060ca43d8f0",
   "metadata": {},
   "outputs": [
    {
     "data": {
      "text/plain": [
       "'1050'"
      ]
     },
     "execution_count": 8,
     "metadata": {},
     "output_type": "execute_result"
    }
   ],
   "source": [
    "'10'+'50'"
   ]
  },
  {
   "cell_type": "code",
   "execution_count": 10,
   "id": "1c4ecea0-eab9-4879-a11b-c2be87ef5333",
   "metadata": {},
   "outputs": [
    {
     "name": "stdout",
     "output_type": "stream",
     "text": [
      "10+50\n"
     ]
    }
   ],
   "source": [
    "print('10'+'+'+'50')"
   ]
  },
  {
   "cell_type": "markdown",
   "id": "8285b225-df1b-40f0-b7fe-378544bc8b6c",
   "metadata": {},
   "source": [
    "### Repetition \n",
    "\n",
    "- (*) operator is used in strings it will not act as an arithmetic operator, instead it will repeat a string over and over again till the specified number of times\n",
    "\n",
    "  Syntax:\n",
    "\n",
    "      my_str*(number of times)"
   ]
  },
  {
   "cell_type": "code",
   "execution_count": 18,
   "id": "c39915bc-2b5a-40fe-ad38-1866605218c1",
   "metadata": {},
   "outputs": [],
   "source": [
    "a = 'python\\n'"
   ]
  },
  {
   "cell_type": "code",
   "execution_count": 19,
   "id": "2f0b8f76-b566-4276-a151-c20a3c8090a5",
   "metadata": {},
   "outputs": [
    {
     "name": "stdout",
     "output_type": "stream",
     "text": [
      "python\n",
      "python\n",
      "python\n",
      "python\n",
      "python\n",
      "python\n",
      "python\n",
      "python\n",
      "python\n",
      "python\n",
      "\n"
     ]
    }
   ],
   "source": [
    "print(a*10)"
   ]
  },
  {
   "cell_type": "markdown",
   "id": "7315caa7-d69c-4936-be0e-5447e59f132f",
   "metadata": {},
   "source": [
    "### Indexing and Slicing \n",
    "\n",
    "#### Indexing \n",
    "\n",
    "- A string is an ordered collection of data because it follows the indexing method\n",
    "- It is also called sequential data type because it follows indexing method\n",
    "- Each element or character of the string is stored at a particular index\n",
    "- A string will support both Positive indexing and Negative index"
   ]
  },
  {
   "cell_type": "markdown",
   "id": "ad29e446-a028-484b-a246-f4ed6f283043",
   "metadata": {},
   "source": [
    "#### Positive Indexing \n",
    "\n",
    "- It will start from left to right\n",
    "- The indexing will start from 0 (by default)\n",
    "- The index of the last element is going to be len(string)-1\n",
    "\n",
    "                                               M A Y A N K\n",
    "                                               0 1 2 3 4 5 ---Positive Indexing"
   ]
  },
  {
   "cell_type": "markdown",
   "id": "51360886-859f-476a-b0a9-0c8b58ffa2e4",
   "metadata": {},
   "source": [
    "### Negative Indexing \n",
    "\n",
    "- It will start from right to left\n",
    "- It index of the negative indexing will start from -1\n",
    "- The index of the last element will going to be -len(string)\n",
    "\n",
    "                                                   M  A  Y  A  N  K\n",
    "                                                  -6 -5 -4 -3 -2 -1 ----> Negative indexing"
   ]
  },
  {
   "cell_type": "markdown",
   "id": "05b53968-21df-463b-a836-7e10be9dc343",
   "metadata": {},
   "source": [
    "                                               0  1  2  3  4  5 ----> Positive Indexing \n",
    "                                               M  A  Y  A  N  K\n",
    "                                              -6 -5 -4 -3 -2 -1 ----> Negative indexing"
   ]
  },
  {
   "cell_type": "code",
   "execution_count": 20,
   "id": "644e0795-13ed-4ebb-8262-03e6aa8ea0bc",
   "metadata": {},
   "outputs": [
    {
     "name": "stdout",
     "output_type": "stream",
     "text": [
      "y\n",
      "y\n"
     ]
    }
   ],
   "source": []
  },
  {
   "cell_type": "markdown",
   "id": "d55cf07b-9a6b-4a9f-a449-abfc122b3fa4",
   "metadata": {},
   "source": [
    "                                       0  1  2  3  4  5  6  7  8  9  10----> Positive Indexing \n",
    "                                       M  A  Y  A  N  K     G  H  A  I \n",
    "                                     -11-10-9 -8 -7 -6 -5 -4 -3 -2 -1----> Negative indexing"
   ]
  },
  {
   "cell_type": "markdown",
   "id": "bc2629d6-be30-42f2-9ad4-7959eacacca8",
   "metadata": {},
   "source": [
    "__Syntax:__\n",
    "\n",
    "\n",
    "            variable_name[index_of_the_character_We_want_to_fetch]"
   ]
  },
  {
   "cell_type": "code",
   "execution_count": 21,
   "id": "03320af4-1417-43fc-a99b-bf817f65f23b",
   "metadata": {},
   "outputs": [
    {
     "name": "stdout",
     "output_type": "stream",
     "text": [
      "y\n",
      "y\n"
     ]
    }
   ],
   "source": [
    "a = 'Mayank'\n",
    "print(a[2]) # positive indexing\n",
    "print(a[-4]) # Negative indexing"
   ]
  },
  {
   "cell_type": "code",
   "execution_count": 23,
   "id": "d7ac10f1-3302-4cc2-8fd8-2ea5b706e8ba",
   "metadata": {},
   "outputs": [
    {
     "name": "stdout",
     "output_type": "stream",
     "text": [
      "u\n",
      "u\n"
     ]
    }
   ],
   "source": [
    "a = 'Mayank Atul Ghai'\n",
    "print(a[9]) # positive indexing\n",
    "print(a[-7]) # Negative indexing"
   ]
  },
  {
   "cell_type": "markdown",
   "id": "f336accf-4498-436f-b81f-d2bed84f0772",
   "metadata": {},
   "source": [
    "### Slicing \n",
    "\n",
    "- Fetching out a sub-string from the main string\n",
    "- Slicing supports both Positive Slicing and Negative Slicing "
   ]
  },
  {
   "cell_type": "code",
   "execution_count": 24,
   "id": "82c393f5-ff60-4b06-88f2-d744d6efcf55",
   "metadata": {},
   "outputs": [],
   "source": [
    "a = 'Mayank Atul Ghai'"
   ]
  },
  {
   "cell_type": "markdown",
   "id": "225c67cf-6b55-494a-b181-7869fb068571",
   "metadata": {},
   "source": [
    "### Positive Slicing \n",
    "\n",
    "- It uses Positive indexing to fetch out the sub-string from the main string\n",
    "\n",
    "__Syntax:__\n",
    "\n",
    "            variable_name[starting_index : ending_index : step-size]\n",
    "\n",
    "    where            \n",
    "    starting index: Index from where we want to start the slicing (by default, it will take the starting index as 0)\n",
    "    ending index (excluded): index till which we want the slicing to be executed (n+1) (by default, the ending index will go to the end of the string)\n",
    "    step-size or jump: how many jumps you want to make while slicing a sub-string (for positive indexing, by  default the step-size is 1]"
   ]
  },
  {
   "cell_type": "markdown",
   "id": "9f2a0bf2-87ea-437b-b1a0-d7a6501304e7",
   "metadata": {},
   "source": [
    "                                0   1   2  3   4   5  6  7  8  9  10 ----> Positive Indexing\n",
    "                                M   A   Y  A   N   K     G  H  A   I  \n",
    "                    `         -11 -10  -9 -8  -7  -6 -5 -4 -3 -2  -1 ----> Negative indexing"
   ]
  },
  {
   "cell_type": "code",
   "execution_count": 25,
   "id": "e7f704f9-6aa8-40da-a993-92c7b65bd78f",
   "metadata": {},
   "outputs": [
    {
     "data": {
      "text/plain": [
       "'Mayank Atul Ghai'"
      ]
     },
     "execution_count": 25,
     "metadata": {},
     "output_type": "execute_result"
    }
   ],
   "source": [
    "a"
   ]
  },
  {
   "cell_type": "code",
   "execution_count": 26,
   "id": "d210a113-b752-41de-b626-3589d7dbedf6",
   "metadata": {},
   "outputs": [
    {
     "data": {
      "text/plain": [
       "'Atul'"
      ]
     },
     "execution_count": 26,
     "metadata": {},
     "output_type": "execute_result"
    }
   ],
   "source": [
    "a[7:11]"
   ]
  },
  {
   "cell_type": "code",
   "execution_count": 30,
   "id": "6a11ea7d-7a3b-4296-bd62-1200743179a8",
   "metadata": {},
   "outputs": [
    {
     "data": {
      "text/plain": [
       "'Atul'"
      ]
     },
     "execution_count": 30,
     "metadata": {},
     "output_type": "execute_result"
    }
   ],
   "source": [
    "a[7]+a[8]+a[9]+a[10]"
   ]
  },
  {
   "cell_type": "code",
   "execution_count": 27,
   "id": "274c8a2d-ceb7-42b0-8a77-190ffd92c9d4",
   "metadata": {},
   "outputs": [
    {
     "data": {
      "text/plain": [
       "'Mayank Atul Ghai'"
      ]
     },
     "execution_count": 27,
     "metadata": {},
     "output_type": "execute_result"
    }
   ],
   "source": [
    "a[::] # a[0:16:1]\n",
    "# starting index = 0, ending index = len(a), step-size = 1"
   ]
  },
  {
   "cell_type": "code",
   "execution_count": 29,
   "id": "c2d8247c-3a9b-4d96-9960-10d9c6629c06",
   "metadata": {},
   "outputs": [
    {
     "data": {
      "text/plain": [
       "'Ghai'"
      ]
     },
     "execution_count": 29,
     "metadata": {},
     "output_type": "execute_result"
    }
   ],
   "source": [
    "a[12:]"
   ]
  },
  {
   "cell_type": "code",
   "execution_count": 33,
   "id": "e8fdf047-bd9c-45f4-99f0-1db2c39bfe04",
   "metadata": {},
   "outputs": [
    {
     "data": {
      "text/plain": [
       "'Myn tlGa'"
      ]
     },
     "execution_count": 33,
     "metadata": {},
     "output_type": "execute_result"
    }
   ],
   "source": [
    "a[::2]"
   ]
  },
  {
   "cell_type": "code",
   "execution_count": 32,
   "id": "a5b9a6e1-17eb-4963-a978-ccf9eee01bfa",
   "metadata": {},
   "outputs": [
    {
     "data": {
      "text/plain": [
       "'Myn tlGa'"
      ]
     },
     "execution_count": 32,
     "metadata": {},
     "output_type": "execute_result"
    }
   ],
   "source": [
    "a[0]+a[2]+a[4]+a[6]+a[8]+a[10]+a[12]+a[14]"
   ]
  },
  {
   "cell_type": "markdown",
   "id": "d4f31fcd-b9ce-41b1-be51-a802e842ec56",
   "metadata": {},
   "source": [
    "### Negative Slicing \n",
    "\n",
    "- It uses negative indexing to fetch out the sub-string from the main string\n",
    "\n",
    "__Syntax:__\n",
    "\n",
    "            variable_name[starting_index : ending_index : step-size]\n",
    "\n",
    "    where \n",
    "\n",
    "    step-size, we always have to -1\n",
    "    starting index --> -1\n",
    "    ending indexing ---> end of the string"
   ]
  },
  {
   "cell_type": "code",
   "execution_count": 34,
   "id": "e54e82e5-ed55-4470-aed2-168acc070155",
   "metadata": {},
   "outputs": [
    {
     "data": {
      "text/plain": [
       "'Mayank Atul Ghai'"
      ]
     },
     "execution_count": 34,
     "metadata": {},
     "output_type": "execute_result"
    }
   ],
   "source": [
    "a"
   ]
  },
  {
   "cell_type": "markdown",
   "id": "5bcedd6c-e049-4ac2-b969-7c2f95c22345",
   "metadata": {},
   "source": [
    "                                0   1   2  3   4   5  6  7  8  9  10 ----> Positive Indexing\n",
    "                                M   A   Y  A   N   K     G  H  A   I  \n",
    "                    `         -11 -10  -9 -8  -7  -6 -5 -4 -3 -2  -1 ----> Negative indexing"
   ]
  },
  {
   "cell_type": "code",
   "execution_count": 35,
   "id": "f6ff087d-7f28-4696-bd36-49c4d7b0440d",
   "metadata": {},
   "outputs": [
    {
     "data": {
      "text/plain": [
       "'iahG lutA knayaM'"
      ]
     },
     "execution_count": 35,
     "metadata": {},
     "output_type": "execute_result"
    }
   ],
   "source": [
    "a[::-1]"
   ]
  },
  {
   "cell_type": "code",
   "execution_count": 36,
   "id": "c4ed67c5-84a8-463e-81c6-6af1b658bdbd",
   "metadata": {},
   "outputs": [
    {
     "data": {
      "text/plain": [
       "'iahG lutA knayaM'"
      ]
     },
     "execution_count": 36,
     "metadata": {},
     "output_type": "execute_result"
    }
   ],
   "source": [
    "a[-1:-17:-1]"
   ]
  },
  {
   "cell_type": "code",
   "execution_count": 37,
   "id": "5aa3acdb-0cbf-4b1c-92fa-574de1f5f0dc",
   "metadata": {},
   "outputs": [
    {
     "data": {
      "text/plain": [
       "'iahG'"
      ]
     },
     "execution_count": 37,
     "metadata": {},
     "output_type": "execute_result"
    }
   ],
   "source": [
    "a[-1]+a[-2]+a[-3]+a[-4]"
   ]
  },
  {
   "cell_type": "code",
   "execution_count": 39,
   "id": "e5f48380-ddd8-4fe3-b5d7-3c2f6788d89c",
   "metadata": {},
   "outputs": [
    {
     "data": {
      "text/plain": [
       "'Ghai'"
      ]
     },
     "execution_count": 39,
     "metadata": {},
     "output_type": "execute_result"
    }
   ],
   "source": [
    "a[-4::1]"
   ]
  },
  {
   "cell_type": "code",
   "execution_count": 41,
   "id": "f57bef89-7518-42de-b416-108cb99ecad0",
   "metadata": {},
   "outputs": [
    {
     "data": {
      "text/plain": [
       "'Mayank'"
      ]
     },
     "execution_count": 41,
     "metadata": {},
     "output_type": "execute_result"
    }
   ],
   "source": [
    "a[-16:-10:1]\n",
    "#a[-16]+a[-15]+a[-14]+a[-13]+a[-12]+a[-11]"
   ]
  },
  {
   "cell_type": "code",
   "execution_count": 42,
   "id": "3a9ed096-a34c-4d29-bf74-93e571f506b2",
   "metadata": {},
   "outputs": [
    {
     "data": {
      "text/plain": [
       "'Mayank Atul Ghai'"
      ]
     },
     "execution_count": 42,
     "metadata": {},
     "output_type": "execute_result"
    }
   ],
   "source": [
    "a"
   ]
  },
  {
   "cell_type": "code",
   "execution_count": 44,
   "id": "4af326c9-adb0-4608-98fe-661176d6f7a6",
   "metadata": {},
   "outputs": [
    {
     "name": "stdout",
     "output_type": "stream",
     "text": [
      "0 M\n",
      "1 a\n",
      "2 y\n",
      "3 a\n",
      "4 n\n",
      "5 k\n",
      "6  \n",
      "7 A\n",
      "8 t\n",
      "9 u\n",
      "10 l\n",
      "11  \n",
      "12 G\n",
      "13 h\n",
      "14 a\n",
      "15 i\n"
     ]
    }
   ],
   "source": [
    "for i in range(len(a)):\n",
    "    print(i, a[i])"
   ]
  },
  {
   "cell_type": "code",
   "execution_count": 45,
   "id": "abefd658-cb9a-4ce2-8042-b4f293632fd0",
   "metadata": {},
   "outputs": [],
   "source": [
    "str1 = 'she sells sea shells on the sea shore'"
   ]
  },
  {
   "cell_type": "code",
   "execution_count": 48,
   "id": "89cae831-6ab8-4cdd-88e9-1134821c8a53",
   "metadata": {},
   "outputs": [
    {
     "name": "stdout",
     "output_type": "stream",
     "text": [
      "0 s\n",
      "1 h\n",
      "2 e\n",
      "3  \n",
      "4 s\n",
      "5 e\n",
      "6 l\n",
      "7 l\n",
      "8 s\n",
      "9  \n",
      "10 s\n",
      "11 e\n",
      "12 a\n",
      "13  \n",
      "14 s\n",
      "15 h\n",
      "16 e\n",
      "17 l\n",
      "18 l\n",
      "19 s\n",
      "20  \n",
      "21 o\n",
      "22 n\n",
      "23  \n",
      "24 t\n",
      "25 h\n",
      "26 e\n",
      "27  \n",
      "28 s\n",
      "29 e\n",
      "30 a\n",
      "31  \n",
      "32 s\n",
      "33 h\n",
      "34 o\n",
      "35 r\n",
      "36 e\n"
     ]
    }
   ],
   "source": [
    "# positive indexing\n",
    "for i in range(len(str1)):\n",
    "    print(i, str1[i])"
   ]
  },
  {
   "cell_type": "code",
   "execution_count": 51,
   "id": "ef1d4bbf-3a68-4eeb-bcd8-f8f3e55e2f92",
   "metadata": {},
   "outputs": [
    {
     "name": "stdout",
     "output_type": "stream",
     "text": [
      "-1 e\n",
      "-2 r\n",
      "-3 o\n",
      "-4 h\n",
      "-5 s\n",
      "-6  \n",
      "-7 a\n",
      "-8 e\n",
      "-9 s\n",
      "-10  \n",
      "-11 e\n",
      "-12 h\n",
      "-13 t\n",
      "-14  \n",
      "-15 n\n",
      "-16 o\n",
      "-17  \n",
      "-18 s\n",
      "-19 l\n",
      "-20 l\n",
      "-21 e\n",
      "-22 h\n",
      "-23 s\n",
      "-24  \n",
      "-25 a\n",
      "-26 e\n",
      "-27 s\n",
      "-28  \n",
      "-29 s\n",
      "-30 l\n",
      "-31 l\n",
      "-32 e\n",
      "-33 s\n",
      "-34  \n",
      "-35 e\n",
      "-36 h\n",
      "-37 s\n"
     ]
    }
   ],
   "source": [
    "for i in range(1, len(str1)+1):\n",
    "    print(-i, str1[-i])"
   ]
  },
  {
   "cell_type": "markdown",
   "id": "369059ec-d6bf-4d02-b8f4-cb026e2716c7",
   "metadata": {},
   "source": [
    "### String Methods\n",
    "\n",
    "- Methods are functions only but they are defined for a particular class (string, list, tuple, dictionary, sets or frozensets)\n",
    "- Functions are a block of code written to a task repeatedly when and if called\n",
    "\n",
    "  To get the methods associated with the string class :\n",
    "\n",
    "                    varibale_name+press dot(.)+press tab key"
   ]
  },
  {
   "cell_type": "code",
   "execution_count": 52,
   "id": "71d0d712-fc4c-4469-a22b-7604b13cd75c",
   "metadata": {},
   "outputs": [
    {
     "data": {
      "text/plain": [
       "'Mayank Atul Ghai'"
      ]
     },
     "execution_count": 52,
     "metadata": {},
     "output_type": "execute_result"
    }
   ],
   "source": [
    "a"
   ]
  },
  {
   "cell_type": "code",
   "execution_count": null,
   "id": "afdfaeee-5cee-41d2-9bbd-286f71a7da4d",
   "metadata": {},
   "outputs": [],
   "source": [
    "a.capitalize()"
   ]
  },
  {
   "cell_type": "markdown",
   "id": "dd40900a-a9b4-4be0-9e79-7789e7c55777",
   "metadata": {},
   "source": [
    "### capitalize()\n",
    "\n",
    "- It converts the first letter in any sentence into uppercase\n",
    "- It will return a new object, it will not going to make changes in the existing object (because strings are immutable)\n"
   ]
  },
  {
   "cell_type": "code",
   "execution_count": 53,
   "id": "dfcf8eac-4143-462f-af55-4f083f8c1c1a",
   "metadata": {},
   "outputs": [
    {
     "name": "stdout",
     "output_type": "stream",
     "text": [
      "python class 1737877996208\n"
     ]
    }
   ],
   "source": [
    "a = 'python class'\n",
    "print(a, id(a))"
   ]
  },
  {
   "cell_type": "code",
   "execution_count": 54,
   "id": "e3373ccc-ea63-4aa9-a803-1d444e6a4263",
   "metadata": {},
   "outputs": [
    {
     "name": "stdout",
     "output_type": "stream",
     "text": [
      "Python class 1737875181488\n"
     ]
    }
   ],
   "source": [
    "b = a.capitalize()\n",
    "print(b, id(b))"
   ]
  },
  {
   "cell_type": "markdown",
   "id": "7187aa87-97b7-44a3-8c44-f9042fb5a477",
   "metadata": {},
   "source": [
    "### title()\n",
    "\n",
    "- It converts the first letter of each word in any sentence to uppercase\n",
    "- It will return a new object, because the string are immutable"
   ]
  },
  {
   "cell_type": "code",
   "execution_count": 55,
   "id": "493e975a-afeb-43de-b5f3-6f75e6f1e9e8",
   "metadata": {},
   "outputs": [
    {
     "data": {
      "text/plain": [
       "'python class'"
      ]
     },
     "execution_count": 55,
     "metadata": {},
     "output_type": "execute_result"
    }
   ],
   "source": [
    "a"
   ]
  },
  {
   "cell_type": "code",
   "execution_count": 56,
   "id": "f9bcf0f9-d066-4995-a69b-3ddac74dee92",
   "metadata": {},
   "outputs": [
    {
     "name": "stdout",
     "output_type": "stream",
     "text": [
      "Python Class 1737878063728\n"
     ]
    }
   ],
   "source": [
    "b = a.title()\n",
    "print(b, id(b))"
   ]
  },
  {
   "cell_type": "markdown",
   "id": "863032a5-a6c2-4727-a0f4-0f0f9dfbd834",
   "metadata": {},
   "source": [
    "### upper()\n",
    "\n",
    "- It will convert all the characters in the string to uppercase\n",
    "- It will return a new object"
   ]
  },
  {
   "cell_type": "code",
   "execution_count": 57,
   "id": "2a140ab4-4aaa-43be-8d31-a2004b022801",
   "metadata": {},
   "outputs": [
    {
     "data": {
      "text/plain": [
       "'python class'"
      ]
     },
     "execution_count": 57,
     "metadata": {},
     "output_type": "execute_result"
    }
   ],
   "source": [
    "a"
   ]
  },
  {
   "cell_type": "code",
   "execution_count": 58,
   "id": "5a478aca-34dc-42af-87e3-937aefd984b5",
   "metadata": {},
   "outputs": [
    {
     "name": "stdout",
     "output_type": "stream",
     "text": [
      "PYTHON CLASS\n"
     ]
    }
   ],
   "source": [
    "b = a.upper()\n",
    "print(b)"
   ]
  },
  {
   "cell_type": "markdown",
   "id": "8c01e53b-e7ef-4e75-86e5-88f59ef9cd69",
   "metadata": {},
   "source": [
    "### lower()\n",
    "\n",
    "- It will convert all the character in the string to lowercase\n",
    "- It will return a new object"
   ]
  },
  {
   "cell_type": "code",
   "execution_count": 59,
   "id": "f65f35f5-ee59-4422-990c-d3c728c08971",
   "metadata": {},
   "outputs": [
    {
     "name": "stdout",
     "output_type": "stream",
     "text": [
      "python class\n"
     ]
    }
   ],
   "source": [
    "c = b.lower()\n",
    "print(c)"
   ]
  },
  {
   "cell_type": "markdown",
   "id": "57b3da31-6448-4428-8a15-9cccecd3c7c1",
   "metadata": {},
   "source": [
    "### swapcase()\n",
    "\n",
    "- It converts the uppercase letters to lowercase letters and vice-versa in a string\n",
    "- It will return a new object"
   ]
  },
  {
   "cell_type": "code",
   "execution_count": 60,
   "id": "c35e7d46-85bf-41f1-b7ac-293cf5cb7d3e",
   "metadata": {},
   "outputs": [
    {
     "name": "stdout",
     "output_type": "stream",
     "text": [
      "pYtHoN cLaSs\n"
     ]
    }
   ],
   "source": [
    "a = 'PyThOn ClAsS'\n",
    "print(a.swapcase())"
   ]
  },
  {
   "cell_type": "markdown",
   "id": "05d5fcc4-a516-404f-a2ad-8afc58d1ed43",
   "metadata": {},
   "source": [
    "### Count\n",
    "- It counts the occurrence of a particular character or a sub-string in a string\n",
    "\n",
    "__Syntax:__\n",
    "\n",
    "        my_str.count('character or 'sub_string')\n",
    "        my_str.count('character', starting index)\n",
    "        my_str.cout('character', starting index, ending index)"
   ]
  },
  {
   "cell_type": "code",
   "execution_count": 62,
   "id": "625fb1f9-5cd7-4958-9c1b-2339b32c63cd",
   "metadata": {},
   "outputs": [
    {
     "name": "stdout",
     "output_type": "stream",
     "text": [
      "4\n"
     ]
    }
   ],
   "source": [
    "a = 'Mayank atul ghai'\n",
    "print(a.count('a'))"
   ]
  },
  {
   "cell_type": "code",
   "execution_count": 63,
   "id": "31366f41-0c58-46ee-a7db-d56da961ead6",
   "metadata": {},
   "outputs": [
    {
     "name": "stdout",
     "output_type": "stream",
     "text": [
      "2\n"
     ]
    }
   ],
   "source": [
    "b = 'she sells sea shells on the sea shore'\n",
    "print(b.count('sea'))"
   ]
  },
  {
   "cell_type": "code",
   "execution_count": 64,
   "id": "c5c81bbd-dc98-45eb-8a02-c6b2614b9582",
   "metadata": {},
   "outputs": [
    {
     "data": {
      "text/plain": [
       "'Mayank atul ghai'"
      ]
     },
     "execution_count": 64,
     "metadata": {},
     "output_type": "execute_result"
    }
   ],
   "source": [
    "a"
   ]
  },
  {
   "cell_type": "code",
   "execution_count": 65,
   "id": "16e36d74-dee6-48da-8657-5f66c59d1353",
   "metadata": {},
   "outputs": [
    {
     "name": "stdout",
     "output_type": "stream",
     "text": [
      "3\n"
     ]
    }
   ],
   "source": [
    "print(a.count('a', 2))"
   ]
  },
  {
   "cell_type": "code",
   "execution_count": 67,
   "id": "efcc6ed5-f6f9-4d5e-b4a4-899cc63f9ae4",
   "metadata": {},
   "outputs": [
    {
     "name": "stdout",
     "output_type": "stream",
     "text": [
      "1\n"
     ]
    }
   ],
   "source": [
    "print(a.count('a', 2, 7))"
   ]
  },
  {
   "cell_type": "markdown",
   "id": "19104338-85d8-40c7-b345-d9383e10f27a",
   "metadata": {},
   "source": [
    "#### Index\n",
    "\n",
    "- It returns the index of the first occurrence of a character or a sub-string in a string\n",
    "- If the character is not found, then it will throw a value error\n",
    "\n",
    "__Syntax:__\n",
    "\n",
    "                my_str.index('character' or 'sub-string')\n",
    "                my_str.index('character', starting index)\n",
    "                my_str.index('character', starting index, ending index)"
   ]
  },
  {
   "cell_type": "code",
   "execution_count": 68,
   "id": "abbc00a3-1c84-48af-ae8e-e89114eb7a87",
   "metadata": {},
   "outputs": [
    {
     "data": {
      "text/plain": [
       "'Mayank atul ghai'"
      ]
     },
     "execution_count": 68,
     "metadata": {},
     "output_type": "execute_result"
    }
   ],
   "source": [
    "a"
   ]
  },
  {
   "cell_type": "code",
   "execution_count": 69,
   "id": "99c5223f-7e80-4eb1-b4a1-97c8ba1fac3c",
   "metadata": {},
   "outputs": [
    {
     "name": "stdout",
     "output_type": "stream",
     "text": [
      "1\n"
     ]
    }
   ],
   "source": [
    "print(a.index('a'))"
   ]
  },
  {
   "cell_type": "code",
   "execution_count": 71,
   "id": "77f84a8a-031a-415e-9c32-4fa323b10c47",
   "metadata": {},
   "outputs": [
    {
     "name": "stdout",
     "output_type": "stream",
     "text": [
      "3\n"
     ]
    }
   ],
   "source": [
    "print(a.index('a', 2))"
   ]
  },
  {
   "cell_type": "code",
   "execution_count": 72,
   "id": "af317e9d-763e-4bc7-bd97-104f6ee30d80",
   "metadata": {},
   "outputs": [
    {
     "name": "stdout",
     "output_type": "stream",
     "text": [
      "7\n"
     ]
    }
   ],
   "source": [
    "print(a.index('atul'))"
   ]
  },
  {
   "cell_type": "code",
   "execution_count": 75,
   "id": "835f1115-03c1-43ac-8394-264ae9c33626",
   "metadata": {},
   "outputs": [
    {
     "ename": "ValueError",
     "evalue": "substring not found",
     "output_type": "error",
     "traceback": [
      "\u001b[1;31m---------------------------------------------------------------------------\u001b[0m",
      "\u001b[1;31mValueError\u001b[0m                                Traceback (most recent call last)",
      "Cell \u001b[1;32mIn[75], line 1\u001b[0m\n\u001b[1;32m----> 1\u001b[0m \u001b[38;5;28mprint\u001b[39m(a\u001b[38;5;241m.\u001b[39mindex(\u001b[38;5;124m'\u001b[39m\u001b[38;5;124matul\u001b[39m\u001b[38;5;124m'\u001b[39m,\u001b[38;5;241m9\u001b[39m))\n",
      "\u001b[1;31mValueError\u001b[0m: substring not found"
     ]
    }
   ],
   "source": [
    "print(a.index('atul',9))"
   ]
  },
  {
   "cell_type": "markdown",
   "id": "4148f770-9ffa-4135-8348-70c9778d4584",
   "metadata": {},
   "source": [
    "### find\n",
    "\n",
    "- It returns the index of the first occurrence of a character or a sub-string in a string\n",
    "- If the character is not found, then it will give -1\n",
    "\n",
    "__Syntax:__\n",
    "\n",
    "                my_str.find('character' or 'sub-string')\n",
    "                my_str.find('character', starting index)\n",
    "                my_str.find('character', starting index, ending index)"
   ]
  },
  {
   "cell_type": "code",
   "execution_count": 76,
   "id": "56dc3640-45c3-4a38-9531-8a30192fbe02",
   "metadata": {},
   "outputs": [
    {
     "name": "stdout",
     "output_type": "stream",
     "text": [
      "-1\n"
     ]
    }
   ],
   "source": [
    "print(a.find('atul',9))"
   ]
  },
  {
   "cell_type": "markdown",
   "id": "10eb63ad-beed-4d0f-9efd-7a6778b6db03",
   "metadata": {},
   "source": [
    "### rfind()\n",
    "\n",
    "- It reads the string from right to left\n",
    "- It returns the index of the first occurrence from right to left of the specified character\n",
    "- If the character or sub-string is not found, then it will return - 1\n",
    "\n",
    "___Note:__ It only reads from right to left, but the index that it will return will follow the positive index\n",
    "\n",
    "__Syntax:__\n",
    "\n",
    "                my_str.rfind('character' or 'sub-string')\n",
    "                my_str.rfind('character', starting index)\n",
    "                my_str.rfind('character', starting index, ending index)"
   ]
  },
  {
   "cell_type": "code",
   "execution_count": 77,
   "id": "19aedfff-36ca-4919-8ee6-351e2ba358c6",
   "metadata": {},
   "outputs": [
    {
     "data": {
      "text/plain": [
       "'Mayank atul ghai'"
      ]
     },
     "execution_count": 77,
     "metadata": {},
     "output_type": "execute_result"
    }
   ],
   "source": [
    "a"
   ]
  },
  {
   "cell_type": "code",
   "execution_count": 80,
   "id": "37f9d3ce-b22d-4648-93bd-d728191459c5",
   "metadata": {},
   "outputs": [
    {
     "name": "stdout",
     "output_type": "stream",
     "text": [
      "-1\n"
     ]
    }
   ],
   "source": [
    "print(a.rfind('atulg'))"
   ]
  },
  {
   "cell_type": "markdown",
   "id": "24521d9d-4248-4088-a758-d11904bcdc91",
   "metadata": {},
   "source": [
    "### split()\n",
    "\n",
    "- It spilts the string from the specified character and returns a list\n",
    "- By default, space will be taken as the specified character and the spliting of the string will happen on the spaces"
   ]
  },
  {
   "cell_type": "code",
   "execution_count": 81,
   "id": "0a28c70e-6c51-49c3-a950-46e8ca12a116",
   "metadata": {},
   "outputs": [
    {
     "data": {
      "text/plain": [
       "'she sells sea shells on the sea shore'"
      ]
     },
     "execution_count": 81,
     "metadata": {},
     "output_type": "execute_result"
    }
   ],
   "source": [
    "b"
   ]
  },
  {
   "cell_type": "code",
   "execution_count": 83,
   "id": "cbd11ff4-6a65-44a6-b304-eb7e428763b5",
   "metadata": {},
   "outputs": [
    {
     "name": "stdout",
     "output_type": "stream",
     "text": [
      "['she', 'sells', 'sea', 'shells', 'on', 'the', 'sea', 'shore']\n"
     ]
    }
   ],
   "source": [
    "print(b.split())"
   ]
  },
  {
   "cell_type": "code",
   "execution_count": 89,
   "id": "e611cc0c-39d0-46de-9d3d-3d2cd4cb9206",
   "metadata": {},
   "outputs": [],
   "source": [
    "a = ['+91-8360984479', '+91-9050658383', '+91-9888403901']"
   ]
  },
  {
   "cell_type": "code",
   "execution_count": 92,
   "id": "60cf3507-5a26-4343-8933-39083ba95576",
   "metadata": {},
   "outputs": [
    {
     "name": "stdout",
     "output_type": "stream",
     "text": [
      "8360984479\n",
      "9050658383\n",
      "9888403901\n"
     ]
    }
   ],
   "source": [
    "for i in a:\n",
    "    print(i.split('-')[1])"
   ]
  },
  {
   "cell_type": "markdown",
   "id": "6a5ff5a0-74a2-49ee-b3c7-0ce18b87f06f",
   "metadata": {},
   "source": [
    "### join()\n",
    "\n",
    "- It combines the element of the list seperated by a specified character and will return a string back to us\n",
    "\n",
    "__Syntax:__\n",
    "\n",
    "        'specified_Character'.join(list)"
   ]
  },
  {
   "cell_type": "code",
   "execution_count": 93,
   "id": "c704d54d-2b06-40ab-adad-2a2b254d7a35",
   "metadata": {},
   "outputs": [
    {
     "name": "stdout",
     "output_type": "stream",
     "text": [
      "shesellsseashellsontheseashore\n"
     ]
    }
   ],
   "source": [
    "a = ['she', 'sells', 'sea', 'shells', 'on', 'the', 'sea', 'shore']\n",
    "print(''.join(a))"
   ]
  },
  {
   "cell_type": "code",
   "execution_count": 94,
   "id": "4b4b16f7-3fb8-4d42-9942-fd3637c63f80",
   "metadata": {},
   "outputs": [
    {
     "name": "stdout",
     "output_type": "stream",
     "text": [
      "she sells sea shells on the sea shore\n"
     ]
    }
   ],
   "source": [
    "print(' '.join(a))"
   ]
  },
  {
   "cell_type": "code",
   "execution_count": 95,
   "id": "38f742e5-4507-4f5b-9b6c-1ea74a5d2791",
   "metadata": {},
   "outputs": [
    {
     "name": "stdout",
     "output_type": "stream",
     "text": [
      "she-sells-sea-shells-on-the-sea-shore\n"
     ]
    }
   ],
   "source": [
    "print('-'.join(a))"
   ]
  },
  {
   "cell_type": "code",
   "execution_count": 96,
   "id": "dffa0dee-6672-47c6-915a-953868f42d18",
   "metadata": {},
   "outputs": [
    {
     "name": "stdout",
     "output_type": "stream",
     "text": [
      "she@sells@sea@shells@on@the@sea@shore\n"
     ]
    }
   ],
   "source": [
    "print('@'.join(a))"
   ]
  },
  {
   "cell_type": "markdown",
   "id": "afd58774-9ed3-4dd3-b3ad-7bab2bf51a2f",
   "metadata": {},
   "source": [
    "### strip()\n",
    "\n",
    "- It removes the specified character from the left and the right side of the string\n",
    "- By default, it removes space character from the left and the right side of the string\n",
    "\n",
    "__Note:__\n",
    "- It removes the boundary character and not the character inside the string\n",
    "\n",
    "__Syntax:__`\n",
    "\n",
    "            my_str.strip('character')"
   ]
  },
  {
   "cell_type": "code",
   "execution_count": 98,
   "id": "d3189186-f868-439c-8af3-9c1f5b03c463",
   "metadata": {},
   "outputs": [
    {
     "name": "stdout",
     "output_type": "stream",
     "text": [
      "150\n"
     ]
    }
   ],
   "source": [
    "a = '$150$'\n",
    "print(a.strip('$'))"
   ]
  },
  {
   "cell_type": "code",
   "execution_count": 100,
   "id": "5ddb86c9-0fd9-4535-b86a-7065f214dc0b",
   "metadata": {},
   "outputs": [
    {
     "name": "stdout",
     "output_type": "stream",
     "text": [
      "1$5$0\n"
     ]
    }
   ],
   "source": [
    "a = '$1$5$0$'\n",
    "print(a.strip('$'))"
   ]
  },
  {
   "cell_type": "code",
   "execution_count": 101,
   "id": "c3207684-e3f4-461d-9915-d88d449a257d",
   "metadata": {},
   "outputs": [
    {
     "name": "stdout",
     "output_type": "stream",
     "text": [
      "python\n"
     ]
    }
   ],
   "source": [
    "a = '                 python                         '\n",
    "print(a.strip())"
   ]
  },
  {
   "cell_type": "markdown",
   "id": "e7e9e65b-87d3-4188-906b-6e9fe9861958",
   "metadata": {},
   "source": [
    "### lstrip()\n",
    "\n",
    "- It removes the specified character from only the left side of the string\n",
    "- By default, it will remove space character"
   ]
  },
  {
   "cell_type": "code",
   "execution_count": 103,
   "id": "81ee5635-aae7-48c5-a3ee-4ea69da9f984",
   "metadata": {},
   "outputs": [
    {
     "name": "stdout",
     "output_type": "stream",
     "text": [
      "python*********\n"
     ]
    }
   ],
   "source": [
    "a = '                 python*********'\n",
    "print(a.lstrip())"
   ]
  },
  {
   "cell_type": "markdown",
   "id": "de0f0983-de3f-430d-8b0e-fc181519e0e3",
   "metadata": {},
   "source": [
    "### rstrip()\n",
    "\n",
    "- It removes the specified character from only the right side of the string\n",
    "- By default, it will remove space character"
   ]
  },
  {
   "cell_type": "code",
   "execution_count": 104,
   "id": "5fe36c5a-e57c-4abb-a396-7292a21ce9fb",
   "metadata": {},
   "outputs": [
    {
     "name": "stdout",
     "output_type": "stream",
     "text": [
      "******python\n"
     ]
    }
   ],
   "source": [
    "a = '******python*******'\n",
    "print(a.rstrip('*'))"
   ]
  },
  {
   "cell_type": "markdown",
   "id": "32735088-62fb-4921-a220-a61458c5d6cb",
   "metadata": {},
   "source": [
    "### ljust, rjust and Center\n",
    "\n",
    "- These are the justification methods\n",
    "- These methods are used to add a specific character either on the left side or on the right side or on both side of the string\n",
    "- By default, space if considered as the specified character"
   ]
  },
  {
   "cell_type": "markdown",
   "id": "f8fd0d7a-2a20-405b-818b-fcb2dac15254",
   "metadata": {},
   "source": [
    "#### ljust\n",
    "\n",
    "- This method are used to add a specific character\n",
    "\n",
    "__Syntax:__\n",
    "\n",
    "                my_str.ljust(len of the resultant string, 'character')\n",
    "                                    or\n",
    "                my_str.ljust(len(my_str)+number of the character, 'character')"
   ]
  },
  {
   "cell_type": "markdown",
   "id": "7f60804e-af3d-4a42-9cc0-318190e1a1e2",
   "metadata": {},
   "source": [
    "my_str = 'Python'\n",
    "\n",
    "Output = Python__\n",
    "\n",
    "\n",
    "                               P y t h o n _ _\n",
    "                               _ _ _ _ _ _ _ _"
   ]
  },
  {
   "cell_type": "code",
   "execution_count": 106,
   "id": "02068ac5-639b-4068-a002-be3186d2a545",
   "metadata": {},
   "outputs": [
    {
     "name": "stdout",
     "output_type": "stream",
     "text": [
      "python__\n"
     ]
    }
   ],
   "source": [
    "my_str = 'python'\n",
    "print(my_str.ljust(8, '_'))"
   ]
  },
  {
   "cell_type": "code",
   "execution_count": 107,
   "id": "256c78d6-edb1-4256-8334-e1795691a521",
   "metadata": {},
   "outputs": [
    {
     "name": "stdout",
     "output_type": "stream",
     "text": [
      "python\n"
     ]
    }
   ],
   "source": [
    "my_str = 'python'\n",
    "print(my_str.ljust(6, '_'))"
   ]
  },
  {
   "cell_type": "markdown",
   "id": "99b03806-b0dc-427a-b9d7-02b8e63abca7",
   "metadata": {},
   "source": [
    "### rjust\n",
    "my_str = 'Python'\n",
    "\n",
    "Output = +_Python\n",
    "\n",
    "\n",
    "                               _ _ P y t h o n\n",
    "                               _ _ _ _ _ _ _ _"
   ]
  },
  {
   "cell_type": "code",
   "execution_count": 108,
   "id": "c265dffb-7e4c-4ac3-a937-bd8ffadbb049",
   "metadata": {},
   "outputs": [
    {
     "data": {
      "text/plain": [
       "'python'"
      ]
     },
     "execution_count": 108,
     "metadata": {},
     "output_type": "execute_result"
    }
   ],
   "source": [
    "my_str"
   ]
  },
  {
   "cell_type": "code",
   "execution_count": 111,
   "id": "d7ef3b44-209f-40df-b403-7580cdeaf7f1",
   "metadata": {},
   "outputs": [
    {
     "name": "stdout",
     "output_type": "stream",
     "text": [
      "****python\n"
     ]
    }
   ],
   "source": [
    "print(my_str.rjust(10, '*'))"
   ]
  },
  {
   "cell_type": "markdown",
   "id": "10248ffe-fad7-4c86-9584-5f6a694d0b6b",
   "metadata": {},
   "source": [
    "### center\n",
    "\n",
    "- It adds a specified character on both the side of the strings\n",
    "\n",
    "__Syntax:__\n",
    "\n",
    "            my_str.center(len of the resultant string, 'character')\n",
    "                             or\n",
    "            my_str.center(len(my_str)+number of character, 'character')"
   ]
  },
  {
   "cell_type": "code",
   "execution_count": 112,
   "id": "812e5793-adf9-4db1-89e5-97f871f12b9d",
   "metadata": {},
   "outputs": [
    {
     "data": {
      "text/plain": [
       "'python'"
      ]
     },
     "execution_count": 112,
     "metadata": {},
     "output_type": "execute_result"
    }
   ],
   "source": [
    "my_str"
   ]
  },
  {
   "cell_type": "code",
   "execution_count": 113,
   "id": "3dd9b3a9-1e40-4df0-ab24-0938898bce84",
   "metadata": {},
   "outputs": [
    {
     "name": "stdout",
     "output_type": "stream",
     "text": [
      "**python**\n"
     ]
    }
   ],
   "source": [
    "print(my_str.center(10, '*'))"
   ]
  },
  {
   "cell_type": "markdown",
   "id": "4a7d9254-250f-43aa-8c13-9a7aa2e6e2dc",
   "metadata": {},
   "source": [
    "__Note:__\n",
    "\n",
    "- If the length of the string is odd, preference will be given to the right\n",
    "- If the length of the string is even, preference will be given to the left"
   ]
  },
  {
   "cell_type": "code",
   "execution_count": 119,
   "id": "f708c7a5-59eb-44b5-97e5-b879faf33beb",
   "metadata": {},
   "outputs": [
    {
     "name": "stdout",
     "output_type": "stream",
     "text": [
      "**python*\n"
     ]
    }
   ],
   "source": [
    "print(my_str.center(9, '*'))"
   ]
  },
  {
   "cell_type": "code",
   "execution_count": 120,
   "id": "52b8c156-a9c0-4436-88c4-44ba5c27bbdb",
   "metadata": {},
   "outputs": [
    {
     "name": "stdout",
     "output_type": "stream",
     "text": [
      "may*\n"
     ]
    }
   ],
   "source": [
    "a = 'may'\n",
    "print(a.center(4, '*'))"
   ]
  },
  {
   "cell_type": "markdown",
   "id": "c35d2a63-f357-4f4c-b6ab-6f4eafe9334f",
   "metadata": {},
   "source": [
    "#### To add a specfied character in the left hand side and another character on the right hand side"
   ]
  },
  {
   "cell_type": "code",
   "execution_count": null,
   "id": "d9438964-7c6a-4958-be1c-fa53459628e6",
   "metadata": {},
   "outputs": [],
   "source": [
    "a = data \n",
    "    output = ++data--"
   ]
  },
  {
   "cell_type": "code",
   "execution_count": 122,
   "id": "39359a86-dd7a-4339-8b8e-5773ee166615",
   "metadata": {},
   "outputs": [
    {
     "name": "stdout",
     "output_type": "stream",
     "text": [
      "++data--\n"
     ]
    }
   ],
   "source": [
    "a = 'data'\n",
    "b = a.rjust(6 , \"+\")\n",
    "print(b.ljust(8 , \"-\"))\n"
   ]
  },
  {
   "cell_type": "code",
   "execution_count": 123,
   "id": "6f907d30-c149-44cc-a252-0358ea60d17e",
   "metadata": {},
   "outputs": [
    {
     "name": "stdout",
     "output_type": "stream",
     "text": [
      "++data--\n"
     ]
    }
   ],
   "source": [
    "a = 'data'\n",
    "print(a.rjust(len(a)+2, '+').ljust(len(a)+4, '-'))"
   ]
  },
  {
   "cell_type": "markdown",
   "id": "3756f385-c43d-4fa6-8c17-9d834bd83911",
   "metadata": {},
   "source": [
    "#### isalnum()\n",
    "\n",
    "- It will return a True if all the characters of the string are alphanumeric else it will return a False\n",
    "- Alpha-numeric means it should have 'A-Z', 'a-z' or '0-9'\n",
    "- It can be any combination of the above-specified things\n",
    "- Special characters ,underscore and space are not allowed"
   ]
  },
  {
   "cell_type": "code",
   "execution_count": 124,
   "id": "63f11758-732c-4e32-a953-68a6b84eec70",
   "metadata": {},
   "outputs": [
    {
     "name": "stdout",
     "output_type": "stream",
     "text": [
      "True\n"
     ]
    }
   ],
   "source": [
    "a = 'mayank'\n",
    "print(a.isalnum())"
   ]
  },
  {
   "cell_type": "code",
   "execution_count": 125,
   "id": "df5f5a53-d5d1-4585-8e46-45025483add3",
   "metadata": {},
   "outputs": [
    {
     "name": "stdout",
     "output_type": "stream",
     "text": [
      "True\n"
     ]
    }
   ],
   "source": [
    "b = 'Mayankatulghai1095'\n",
    "print(b.isalnum())"
   ]
  },
  {
   "cell_type": "code",
   "execution_count": 126,
   "id": "756b5d2a-c15c-4d93-affe-80937215ae3a",
   "metadata": {},
   "outputs": [
    {
     "name": "stdout",
     "output_type": "stream",
     "text": [
      "False\n"
     ]
    }
   ],
   "source": [
    "b = 'mayankATulghai1095@'\n",
    "print(b.isalnum())"
   ]
  },
  {
   "cell_type": "markdown",
   "id": "3ed6c8d6-d571-4db6-82f4-2052137f164b",
   "metadata": {},
   "source": [
    "### isalpha()\n",
    "\n",
    "- It will return a True, if all the characters of the string are alphabets else it will return a False\n",
    "- Here, the string should be a combination of 'A-Z' or 'a-z'\n",
    "- No digits, no special character, no underscore and no spaces are allowed"
   ]
  },
  {
   "cell_type": "code",
   "execution_count": 128,
   "id": "0b1975bf-970d-4987-a308-3abb7fc41ec9",
   "metadata": {},
   "outputs": [
    {
     "name": "stdout",
     "output_type": "stream",
     "text": [
      "False\n"
     ]
    }
   ],
   "source": [
    "a = 'mayank1'\n",
    "print(a.isalpha())"
   ]
  },
  {
   "cell_type": "markdown",
   "id": "2590d1a9-c83d-45ef-bfd7-e174631805d1",
   "metadata": {},
   "source": [
    "### isupper()\n",
    "\n",
    "- It will return a True, if all the character of the string are in uppercase else it will return a False\n",
    "- It will not throw any error, if we include a special character, space, digit and even an underscore"
   ]
  },
  {
   "cell_type": "code",
   "execution_count": 129,
   "id": "ef1c7427-393b-4661-9fea-d53d093d84f8",
   "metadata": {},
   "outputs": [
    {
     "name": "stdout",
     "output_type": "stream",
     "text": [
      "False\n"
     ]
    }
   ],
   "source": [
    "a = 'mayank'\n",
    "print(a.isupper())"
   ]
  },
  {
   "cell_type": "code",
   "execution_count": 136,
   "id": "ade5899c-60ab-4d45-a913-739a51cf1f57",
   "metadata": {},
   "outputs": [
    {
     "name": "stdout",
     "output_type": "stream",
     "text": [
      "True\n"
     ]
    }
   ],
   "source": [
    "a = 'MAYANK_'\n",
    "print(a.isupper())"
   ]
  },
  {
   "cell_type": "markdown",
   "id": "fe28c4e2-64c2-4b7e-beaf-8ed2244af7f5",
   "metadata": {},
   "source": [
    "### islower()\n",
    "\n",
    "- It will return a True, if all the character of the string are in lowercase else it will return a False\n",
    "- It will not throw any error, if we include a special character, space, digit and even an underscore"
   ]
  },
  {
   "cell_type": "code",
   "execution_count": 138,
   "id": "d3557c90-0d85-4acc-97fa-f1217f650176",
   "metadata": {},
   "outputs": [
    {
     "name": "stdout",
     "output_type": "stream",
     "text": [
      "True\n"
     ]
    }
   ],
   "source": [
    "a = 'mayank1'\n",
    "print(a.islower())"
   ]
  },
  {
   "cell_type": "markdown",
   "id": "3c0d53fe-e18b-49de-aadf-03e906923e14",
   "metadata": {},
   "source": [
    "### istitle()\n",
    "\n",
    "- It returns a True if the string is in Title case means every first letter of a word in a sentence should be uppercase else it will return a False"
   ]
  },
  {
   "cell_type": "code",
   "execution_count": 140,
   "id": "88ec2141-4816-44b1-ba0d-7bb23b82c004",
   "metadata": {},
   "outputs": [
    {
     "name": "stdout",
     "output_type": "stream",
     "text": [
      "False\n"
     ]
    }
   ],
   "source": [
    "a = 'This Is a Python Class'\n",
    "print(a.istitle())"
   ]
  },
  {
   "cell_type": "markdown",
   "id": "949b8856-e5a8-4bcb-a507-0e7dd872014f",
   "metadata": {},
   "source": [
    "### isspace()\n",
    "\n",
    "- It will return a True if all the characters in the string are space characters\n",
    "- Space characters - \\n, \\t, \\v, \\r and space"
   ]
  },
  {
   "cell_type": "code",
   "execution_count": 145,
   "id": "2766e0a9-e1f3-437a-a5b3-dff0885599b5",
   "metadata": {},
   "outputs": [
    {
     "name": "stdout",
     "output_type": "stream",
     "text": [
      "False\n"
     ]
    }
   ],
   "source": [
    "a = '\\v32'\n",
    "print(a.isspace())"
   ]
  },
  {
   "cell_type": "markdown",
   "id": "e5cf2f9e-face-4a01-a1a4-1d25a6c46781",
   "metadata": {},
   "source": [
    "### startswith()\n",
    "\n",
    "- It will return a True if the string starts with a specified character or a specified sub-string else it will return a False"
   ]
  },
  {
   "cell_type": "code",
   "execution_count": 149,
   "id": "630a20ee-4429-408b-986c-9f5d2915fba2",
   "metadata": {},
   "outputs": [
    {
     "name": "stdout",
     "output_type": "stream",
     "text": [
      "False\n"
     ]
    }
   ],
   "source": [
    "a = 'cloud and devops'\n",
    "print(a.startswith('cloud'))"
   ]
  },
  {
   "cell_type": "markdown",
   "id": "ee690eaa-1816-4347-96e2-f81361753d6e",
   "metadata": {},
   "source": [
    "### endswith()\n",
    "\n",
    "- It will return a True if the string ends with a specified character or a specified sub-string else it will return a False"
   ]
  },
  {
   "cell_type": "code",
   "execution_count": 151,
   "id": "8dc447c5-5362-474d-b447-5080791a74fb",
   "metadata": {},
   "outputs": [
    {
     "name": "stdout",
     "output_type": "stream",
     "text": [
      "True\n"
     ]
    }
   ],
   "source": [
    "a = 'cloud and devops'\n",
    "print(a.endswith('ops'))"
   ]
  },
  {
   "cell_type": "markdown",
   "id": "6a10024b-cfcd-46de-a1bb-ae567fde2beb",
   "metadata": {},
   "source": [
    "### Identifiers\n",
    "\n",
    "- An identifier is a name in Python\n",
    "- Variable name, function name, object name, class name\n",
    "\n",
    "#### Properties of Identifiers\n",
    "\n",
    "- An identifier may have alphanumeric characters (A-Z, a-z or 0-9) and underscore (_)\n",
    "- An identifier may begin with an alphabet or an underscore, but it should never begin with a number\n",
    "- An identifier may have a number but after an alphabet or an underscore\n",
    "- No special characters are allowed\n",
    "- It is case sensitive i.e. Python and python are treated differently"
   ]
  },
  {
   "cell_type": "code",
   "execution_count": 159,
   "id": "822c6847-0659-47c6-8163-9a50cecc2538",
   "metadata": {},
   "outputs": [],
   "source": [
    "a = 'name1_@'"
   ]
  },
  {
   "cell_type": "markdown",
   "id": "a57232cb-4f9e-4f39-afca-993109231993",
   "metadata": {},
   "source": [
    "#### isidentifier()\n",
    "\n",
    "- It will return a True if the string is a valid identifier else it will return a False"
   ]
  },
  {
   "cell_type": "code",
   "execution_count": 160,
   "id": "60499505-d30c-46f4-8923-da9e4f377ae0",
   "metadata": {},
   "outputs": [
    {
     "name": "stdout",
     "output_type": "stream",
     "text": [
      "False\n"
     ]
    }
   ],
   "source": [
    "print(a.isidentifier())"
   ]
  },
  {
   "cell_type": "markdown",
   "id": "7f8a5036-ac6d-4537-a60e-7e382c4cb3d8",
   "metadata": {},
   "source": [
    "### replace\n",
    "\n",
    "- It replaces an existing character or an existing sub-string with a new character or a new sub-string\n",
    "- It does not make any changes in the existing string\n",
    "- It will create a new object\n",
    "\n",
    "__Syntax:__\n",
    "\n",
    "        my_str.replace('character', 'new-character')\n",
    "                    or\n",
    "        my_str.replace('sub-string', 'new-sub-string')\n",
    "        "
   ]
  },
  {
   "cell_type": "code",
   "execution_count": 161,
   "id": "21fb5c5e-7e12-47e8-a8f1-0ff563583dd3",
   "metadata": {},
   "outputs": [
    {
     "name": "stdout",
     "output_type": "stream",
     "text": [
      "Sohan 1737891156768\n"
     ]
    }
   ],
   "source": [
    "a = 'Sohan'\n",
    "print(a, id(a))"
   ]
  },
  {
   "cell_type": "code",
   "execution_count": 162,
   "id": "a2f761b0-f514-4980-8350-3da86e22f36d",
   "metadata": {},
   "outputs": [
    {
     "name": "stdout",
     "output_type": "stream",
     "text": [
      "Rohan 1737863355184\n"
     ]
    }
   ],
   "source": [
    "b = a.replace('S', 'R')\n",
    "print(b, id(b))"
   ]
  },
  {
   "cell_type": "code",
   "execution_count": 163,
   "id": "1338d689-2f6c-40ac-8852-64f176a211a3",
   "metadata": {},
   "outputs": [
    {
     "name": "stdout",
     "output_type": "stream",
     "text": [
      "Hello Sunday 1737884444656\n",
      "Hello Monday 1737884435120\n"
     ]
    }
   ],
   "source": [
    "a = 'Hello Sunday'\n",
    "print(a, id(a))\n",
    "b = a.replace('Sunday', 'Monday')\n",
    "print(b, id(b))"
   ]
  },
  {
   "cell_type": "markdown",
   "id": "0d6c56eb-6706-473e-8f80-010b278e3fb0",
   "metadata": {},
   "source": [
    "### isnumeric(), isdigit() and isdecimal()\n",
    "\n",
    "#### isnumeric()\n",
    "\n",
    "- It will return a True if all the elements in the string are either digits, superscript, subscript, vulgar fractions, or Roman numbers else it will return a False\n",
    "\n",
    "#### isdigit()\n",
    "\n",
    "- It will return a True if all the elements are digits, superscript and sub-script else it will return a False\n",
    "\n",
    "#### isdecimal()\n",
    "\n",
    "- It will return a True if all the elements of the string are only digits else it will return a False"
   ]
  },
  {
   "cell_type": "code",
   "execution_count": 164,
   "id": "f54f0c8f-0b2e-4334-958d-f4a9351c8db4",
   "metadata": {},
   "outputs": [
    {
     "name": "stdout",
     "output_type": "stream",
     "text": [
      "True\n",
      "True\n",
      "True\n"
     ]
    }
   ],
   "source": [
    "a = '10'\n",
    "print(a.isnumeric())\n",
    "print(a.isdigit())\n",
    "print(a.isdecimal())"
   ]
  },
  {
   "cell_type": "code",
   "execution_count": 165,
   "id": "b2ddebb0-d757-4d3c-95a7-d46361853605",
   "metadata": {},
   "outputs": [
    {
     "data": {
      "text/plain": [
       "'2₂'"
      ]
     },
     "execution_count": 165,
     "metadata": {},
     "output_type": "execute_result"
    }
   ],
   "source": [
    "a = '2\\u2082'\n",
    "a"
   ]
  },
  {
   "cell_type": "code",
   "execution_count": 166,
   "id": "69b7c693-3276-4d1d-a929-f360356833ed",
   "metadata": {},
   "outputs": [
    {
     "name": "stdout",
     "output_type": "stream",
     "text": [
      "True\n",
      "True\n",
      "False\n"
     ]
    }
   ],
   "source": [
    "print(a.isnumeric())\n",
    "print(a.isdigit())\n",
    "print(a.isdecimal())"
   ]
  },
  {
   "cell_type": "code",
   "execution_count": 169,
   "id": "c381d84b-61a6-4396-8518-1ec81dd69d7c",
   "metadata": {},
   "outputs": [],
   "source": [
    "a = '2\\u00B2'"
   ]
  },
  {
   "cell_type": "code",
   "execution_count": 170,
   "id": "3ae7ebf5-8991-494b-9c2b-326acc2c83f6",
   "metadata": {},
   "outputs": [
    {
     "data": {
      "text/plain": [
       "'2²'"
      ]
     },
     "execution_count": 170,
     "metadata": {},
     "output_type": "execute_result"
    }
   ],
   "source": [
    "a"
   ]
  },
  {
   "cell_type": "code",
   "execution_count": 171,
   "id": "352af13e-569e-43e1-a308-5f54360389b3",
   "metadata": {},
   "outputs": [
    {
     "name": "stdout",
     "output_type": "stream",
     "text": [
      "True\n",
      "True\n",
      "False\n"
     ]
    }
   ],
   "source": [
    "print(a.isnumeric())\n",
    "print(a.isdigit())\n",
    "print(a.isdecimal())"
   ]
  },
  {
   "cell_type": "code",
   "execution_count": 172,
   "id": "5e1cf2f1-824c-445c-b6b9-4b58cff6781b",
   "metadata": {},
   "outputs": [
    {
     "data": {
      "text/plain": [
       "'5½'"
      ]
     },
     "execution_count": 172,
     "metadata": {},
     "output_type": "execute_result"
    }
   ],
   "source": [
    "a = '5'+chr(189)\n",
    "a"
   ]
  },
  {
   "cell_type": "code",
   "execution_count": 173,
   "id": "69ec07ac-aea4-41d1-84e7-7b2b7869bf91",
   "metadata": {},
   "outputs": [
    {
     "name": "stdout",
     "output_type": "stream",
     "text": [
      "True\n",
      "False\n",
      "False\n"
     ]
    }
   ],
   "source": [
    "print(a.isnumeric())\n",
    "print(a.isdigit())\n",
    "print(a.isdecimal())"
   ]
  },
  {
   "cell_type": "code",
   "execution_count": 174,
   "id": "03e96b82-8e65-4f89-a504-e7384e551e88",
   "metadata": {},
   "outputs": [
    {
     "name": "stdout",
     "output_type": "stream",
     "text": [
      "['__add__', '__class__', '__contains__', '__delattr__', '__dir__', '__doc__', '__eq__', '__format__', '__ge__', '__getattribute__', '__getitem__', '__getnewargs__', '__getstate__', '__gt__', '__hash__', '__init__', '__init_subclass__', '__iter__', '__le__', '__len__', '__lt__', '__mod__', '__mul__', '__ne__', '__new__', '__reduce__', '__reduce_ex__', '__repr__', '__rmod__', '__rmul__', '__setattr__', '__sizeof__', '__str__', '__subclasshook__', 'capitalize', 'casefold', 'center', 'count', 'encode', 'endswith', 'expandtabs', 'find', 'format', 'format_map', 'index', 'isalnum', 'isalpha', 'isascii', 'isdecimal', 'isdigit', 'isidentifier', 'islower', 'isnumeric', 'isprintable', 'isspace', 'istitle', 'isupper', 'join', 'ljust', 'lower', 'lstrip', 'maketrans', 'partition', 'removeprefix', 'removesuffix', 'replace', 'rfind', 'rindex', 'rjust', 'rpartition', 'rsplit', 'rstrip', 'split', 'splitlines', 'startswith', 'strip', 'swapcase', 'title', 'translate', 'upper', 'zfill']\n"
     ]
    }
   ],
   "source": [
    "print(dir(str))"
   ]
  },
  {
   "cell_type": "code",
   "execution_count": null,
   "id": "3b30cde9-b96b-4a83-8585-03f4261e71b9",
   "metadata": {},
   "outputs": [],
   "source": []
  }
 ],
 "metadata": {
  "kernelspec": {
   "display_name": "Python 3 (ipykernel)",
   "language": "python",
   "name": "python3"
  },
  "language_info": {
   "codemirror_mode": {
    "name": "ipython",
    "version": 3
   },
   "file_extension": ".py",
   "mimetype": "text/x-python",
   "name": "python",
   "nbconvert_exporter": "python",
   "pygments_lexer": "ipython3",
   "version": "3.12.4"
  }
 },
 "nbformat": 4,
 "nbformat_minor": 5
}
