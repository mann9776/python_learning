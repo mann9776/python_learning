{
 "cells": [
  {
   "cell_type": "markdown",
   "id": "51b8d403-607e-44e5-be91-c1f4fc368719",
   "metadata": {
    "id": "51b8d403-607e-44e5-be91-c1f4fc368719"
   },
   "source": [
    "### List Methods"
   ]
  },
  {
   "cell_type": "code",
   "execution_count": 10,
   "id": "f8bb7c60-1a56-44c5-aa8d-08de6044aa37",
   "metadata": {},
   "outputs": [
    {
     "name": "stdout",
     "output_type": "stream",
     "text": [
      "['__add__', '__class__', '__class_getitem__', '__contains__', '__delattr__', '__delitem__', '__dir__', '__doc__', '__eq__', '__format__', '__ge__', '__getattribute__', '__getitem__', '__getstate__', '__gt__', '__hash__', '__iadd__', '__imul__', '__init__', '__init_subclass__', '__iter__', '__le__', '__len__', '__lt__', '__mul__', '__ne__', '__new__', '__reduce__', '__reduce_ex__', '__repr__', '__reversed__', '__rmul__', '__setattr__', '__setitem__', '__sizeof__', '__str__', '__subclasshook__', 'append', 'clear', 'copy', 'count', 'extend', 'index', 'insert', 'pop', 'remove', 'reverse', 'sort']\n"
     ]
    }
   ],
   "source": [
    "print(dir(list))"
   ]
  },
  {
   "cell_type": "markdown",
   "id": "cc657655-cc91-4d8e-951f-23b4e5c6cc1f",
   "metadata": {
    "id": "cc657655-cc91-4d8e-951f-23b4e5c6cc1f"
   },
   "source": [
    "### 1. append()\n",
    "\n",
    "- It adds the element at the end of the list\n",
    "- The addition of an element inside the list will not create a new object"
   ]
  },
  {
   "cell_type": "code",
   "execution_count": 16,
   "id": "577ef37a-75c7-4178-9e18-59ade234aeeb",
   "metadata": {},
   "outputs": [
    {
     "name": "stdout",
     "output_type": "stream",
     "text": [
      "[1, 2, 3, 4, 5, 6, 7] 2222600722880\n"
     ]
    }
   ],
   "source": [
    "lst = [1,2,3,4,5,6,7]\n",
    "print(lst, id(lst))"
   ]
  },
  {
   "cell_type": "code",
   "execution_count": 18,
   "id": "9fa3fb7b-dd9f-4d31-8dc6-c89973464972",
   "metadata": {},
   "outputs": [
    {
     "name": "stdout",
     "output_type": "stream",
     "text": [
      "[1, 2, 3, 4, 5, 6, 7, 10] 2222600722880\n"
     ]
    }
   ],
   "source": [
    "lst.append(10)\n",
    "print(lst, id(lst))"
   ]
  },
  {
   "cell_type": "code",
   "execution_count": 20,
   "id": "30a9b90d-9b47-49ab-a5b4-ce09cdc82403",
   "metadata": {},
   "outputs": [
    {
     "name": "stdout",
     "output_type": "stream",
     "text": [
      "[1, 2, 3, 4, 5, 6, 7, 10, 19.876] 2222600722880\n"
     ]
    }
   ],
   "source": [
    "lst.append(19.876)\n",
    "print(lst, id(lst))"
   ]
  },
  {
   "cell_type": "code",
   "execution_count": 22,
   "id": "81fc0810-a3cb-47da-aa45-70387cd2ca27",
   "metadata": {},
   "outputs": [
    {
     "name": "stdout",
     "output_type": "stream",
     "text": [
      "[1, 2, 3, 4, 5, 6, 7, 10, 19.876, 'python'] 2222600722880\n"
     ]
    }
   ],
   "source": [
    "lst.append('python')\n",
    "print(lst, id(lst))"
   ]
  },
  {
   "cell_type": "code",
   "execution_count": 24,
   "id": "c2415206-16d3-489d-926c-3a5cf23947f4",
   "metadata": {},
   "outputs": [
    {
     "name": "stdout",
     "output_type": "stream",
     "text": [
      "[1, 2, 3, 4, 5, 6, 7, 10, 19.876, 'python', [1, 2, 3, 4]] 2222600722880\n"
     ]
    }
   ],
   "source": [
    "lst.append([1,2,3,4])\n",
    "print(lst, id(lst))"
   ]
  },
  {
   "cell_type": "code",
   "execution_count": 26,
   "id": "8c6989f3-3149-4893-9b6b-8d761ed7cbc4",
   "metadata": {},
   "outputs": [
    {
     "ename": "TypeError",
     "evalue": "list.append() takes exactly one argument (5 given)",
     "output_type": "error",
     "traceback": [
      "\u001b[1;31m---------------------------------------------------------------------------\u001b[0m",
      "\u001b[1;31mTypeError\u001b[0m                                 Traceback (most recent call last)",
      "Cell \u001b[1;32mIn[26], line 1\u001b[0m\n\u001b[1;32m----> 1\u001b[0m lst\u001b[38;5;241m.\u001b[39mappend(\u001b[38;5;241m1\u001b[39m,\u001b[38;5;241m2\u001b[39m,\u001b[38;5;241m3\u001b[39m,\u001b[38;5;241m4\u001b[39m,\u001b[38;5;241m5\u001b[39m)\n",
      "\u001b[1;31mTypeError\u001b[0m: list.append() takes exactly one argument (5 given)"
     ]
    }
   ],
   "source": [
    "lst.append(1,2,3,4,5)"
   ]
  },
  {
   "cell_type": "markdown",
   "id": "5b13a257-34a9-4f1a-877b-984988cf8c38",
   "metadata": {
    "id": "5b13a257-34a9-4f1a-877b-984988cf8c38"
   },
   "source": [
    "### 2. extend()\n",
    "\n",
    "- Unlike append() method, extend() method can take an iterable object as an argumnet\n",
    "- It adds the elements of the iterable object to a list one by one"
   ]
  },
  {
   "cell_type": "code",
   "execution_count": 28,
   "id": "672798cf-9018-49bd-828f-7071310f5b9b",
   "metadata": {},
   "outputs": [
    {
     "data": {
      "text/plain": [
       "[1, 2, 3, 4, 5, 6, 7, 10, 19.876, 'python', [1, 2, 3, 4]]"
      ]
     },
     "execution_count": 28,
     "metadata": {},
     "output_type": "execute_result"
    }
   ],
   "source": [
    "lst"
   ]
  },
  {
   "cell_type": "code",
   "execution_count": 30,
   "id": "e891281f-3f98-4db9-a94c-109e91c800da",
   "metadata": {
    "id": "e891281f-3f98-4db9-a94c-109e91c800da"
   },
   "outputs": [],
   "source": [
    "lst.extend('mayank')\n"
   ]
  },
  {
   "cell_type": "code",
   "execution_count": 32,
   "id": "07e3be33-f5ff-4f59-81fb-e225dc34ae13",
   "metadata": {},
   "outputs": [
    {
     "name": "stdout",
     "output_type": "stream",
     "text": [
      "[1, 2, 3, 4, 5, 6, 7, 10, 19.876, 'python', [1, 2, 3, 4], 'm', 'a', 'y', 'a', 'n', 'k'] 2222600722880\n"
     ]
    }
   ],
   "source": [
    "print(lst, id(lst))"
   ]
  },
  {
   "cell_type": "code",
   "execution_count": 34,
   "id": "cce52098-489c-43be-8eaa-40f19554f785",
   "metadata": {},
   "outputs": [
    {
     "name": "stdout",
     "output_type": "stream",
     "text": [
      "[1, 2, 3, 4, 5, 6, 7, 10, 19.876, 'python', [1, 2, 3, 4], 'm', 'a', 'y', 'a', 'n', 'k', 1, True, False, range(0, 5)] 2222600722880\n"
     ]
    }
   ],
   "source": [
    "lst.extend([1, True, False, range(5)])\n",
    "print(lst, id(lst))"
   ]
  },
  {
   "cell_type": "code",
   "execution_count": 36,
   "id": "f2b7abf2-b82b-4f63-b0d1-fd8d1e6e5321",
   "metadata": {},
   "outputs": [
    {
     "name": "stdout",
     "output_type": "stream",
     "text": [
      "[1, 2, 3, 4, 1, 2, 3, 4] 2220747622784\n"
     ]
    }
   ],
   "source": [
    "lst = [1,2,3,4]\n",
    "lst.extend(lst)\n",
    "print(lst, id(lst))"
   ]
  },
  {
   "cell_type": "code",
   "execution_count": null,
   "id": "416cf482-cf61-49c4-ad58-4a025c60691e",
   "metadata": {},
   "outputs": [],
   "source": []
  },
  {
   "cell_type": "markdown",
   "id": "fe18216d-409e-46f3-a3c1-0843bd19d013",
   "metadata": {
    "id": "fe18216d-409e-46f3-a3c1-0843bd19d013"
   },
   "source": [
    "### 3. index()\n",
    "\n",
    "- It returns the index of the first occurrence of an element from left to right\n",
    "- If the element is not found, then it will return a __value error__\n",
    "\n",
    "__Syntax:__\n",
    "\n",
    "        lst.index(element)\n",
    "        lst.index(element, starting index)\n",
    "        lst.index(element, starting index, ending index)"
   ]
  },
  {
   "cell_type": "code",
   "execution_count": 44,
   "id": "016b31ba-2ca9-4b65-be09-2b70ca395df2",
   "metadata": {},
   "outputs": [],
   "source": [
    "import numpy as np"
   ]
  },
  {
   "cell_type": "code",
   "execution_count": 50,
   "id": "d1b495b5-34f0-4697-9dd0-23a8ac405dc2",
   "metadata": {},
   "outputs": [
    {
     "data": {
      "text/plain": [
       "[10, 5, 1, 2, 10, 1, 2, 9, 10, 1, 9, 7]"
      ]
     },
     "execution_count": 50,
     "metadata": {},
     "output_type": "execute_result"
    }
   ],
   "source": [
    "np.random.seed(10)\n",
    "arr = list(np.random.randint(1,11,12))\n",
    "arr"
   ]
  },
  {
   "cell_type": "code",
   "execution_count": 52,
   "id": "3e726f3c-0034-461b-8e72-8e571162da60",
   "metadata": {},
   "outputs": [
    {
     "data": {
      "text/plain": [
       "1"
      ]
     },
     "execution_count": 52,
     "metadata": {},
     "output_type": "execute_result"
    }
   ],
   "source": [
    "arr.index(5)"
   ]
  },
  {
   "cell_type": "code",
   "execution_count": 54,
   "id": "d1487205-a639-4751-b09c-18da2051c1c1",
   "metadata": {},
   "outputs": [
    {
     "data": {
      "text/plain": [
       "0"
      ]
     },
     "execution_count": 54,
     "metadata": {},
     "output_type": "execute_result"
    }
   ],
   "source": [
    "arr.index(10)"
   ]
  },
  {
   "cell_type": "code",
   "execution_count": 56,
   "id": "9f442b55-7b27-4e6f-afa6-16ed78e8b684",
   "metadata": {},
   "outputs": [
    {
     "data": {
      "text/plain": [
       "4"
      ]
     },
     "execution_count": 56,
     "metadata": {},
     "output_type": "execute_result"
    }
   ],
   "source": [
    "arr.index(10, 1)"
   ]
  },
  {
   "cell_type": "code",
   "execution_count": 58,
   "id": "889383d4-75b3-4c8d-873d-538674348d5a",
   "metadata": {},
   "outputs": [
    {
     "data": {
      "text/plain": [
       "2"
      ]
     },
     "execution_count": 58,
     "metadata": {},
     "output_type": "execute_result"
    }
   ],
   "source": [
    "arr.index(1, 1, 3)"
   ]
  },
  {
   "cell_type": "code",
   "execution_count": 60,
   "id": "5ffe242a-c179-4101-9e71-9c8cccaa4b59",
   "metadata": {},
   "outputs": [],
   "source": [
    "lst = [True, 'python', 0 , range(10), 1.0, 'a', 1+0j, False]"
   ]
  },
  {
   "cell_type": "code",
   "execution_count": 62,
   "id": "31217f23-c6e8-4e92-af61-81fc0f24046a",
   "metadata": {},
   "outputs": [
    {
     "data": {
      "text/plain": [
       "0"
      ]
     },
     "execution_count": 62,
     "metadata": {},
     "output_type": "execute_result"
    }
   ],
   "source": [
    "lst.index(1)"
   ]
  },
  {
   "cell_type": "code",
   "execution_count": 64,
   "id": "d3d0414e-38b0-4233-ac6d-6fb4516c4f52",
   "metadata": {},
   "outputs": [
    {
     "data": {
      "text/plain": [
       "True"
      ]
     },
     "execution_count": 64,
     "metadata": {},
     "output_type": "execute_result"
    }
   ],
   "source": [
    "1 == True == 1.0 == 1+0j == 1"
   ]
  },
  {
   "cell_type": "code",
   "execution_count": 70,
   "id": "2cab3825-a9d8-4007-b8d0-8da4c2f31a59",
   "metadata": {},
   "outputs": [
    {
     "data": {
      "text/plain": [
       "1"
      ]
     },
     "execution_count": 70,
     "metadata": {},
     "output_type": "execute_result"
    }
   ],
   "source": [
    "int(True)"
   ]
  },
  {
   "cell_type": "code",
   "execution_count": null,
   "id": "0089ae96-53b7-4727-a91e-c73f3f024a32",
   "metadata": {},
   "outputs": [],
   "source": [
    "0 == False == 0.0 == 0+0j == 0"
   ]
  },
  {
   "cell_type": "code",
   "execution_count": 72,
   "id": "2c284d7e-7e42-47a5-97e4-293ea6361f01",
   "metadata": {},
   "outputs": [
    {
     "data": {
      "text/plain": [
       "4"
      ]
     },
     "execution_count": 72,
     "metadata": {},
     "output_type": "execute_result"
    }
   ],
   "source": [
    "lst.index(True, 1)"
   ]
  },
  {
   "cell_type": "code",
   "execution_count": 74,
   "id": "7ce5635e-a1d0-435d-8840-23896e08162f",
   "metadata": {},
   "outputs": [
    {
     "data": {
      "text/plain": [
       "2"
      ]
     },
     "execution_count": 74,
     "metadata": {},
     "output_type": "execute_result"
    }
   ],
   "source": [
    "lst.index(False)"
   ]
  },
  {
   "cell_type": "markdown",
   "id": "e67c4ad9-7fad-4a58-b4bc-66df278a8d94",
   "metadata": {
    "id": "e67c4ad9-7fad-4a58-b4bc-66df278a8d94"
   },
   "source": [
    "### 4. Count()\n",
    "\n",
    "- It will count the number of occurrence of the element inside a list"
   ]
  },
  {
   "cell_type": "code",
   "execution_count": 78,
   "id": "88efe12a-1800-4806-895a-299d4b9a7805",
   "metadata": {},
   "outputs": [
    {
     "name": "stdout",
     "output_type": "stream",
     "text": [
      "[10, 5, 1, 2, 10, 1, 2, 9, 10, 1, 9, 7, 5, 4, 1, 5, 7, 9, 2, 9, 5, 2, 4, 7, 6, 4, 10, 7, 10, 2, 10, 5, 3, 7, 8, 9]\n"
     ]
    }
   ],
   "source": [
    "np.random.seed(10)\n",
    "arr = list(np.random.randint(1,11,36))\n",
    "print(arr)"
   ]
  },
  {
   "cell_type": "code",
   "execution_count": 80,
   "id": "5df7ba7c-5026-4457-9728-3f4194ae024b",
   "metadata": {},
   "outputs": [
    {
     "data": {
      "text/plain": [
       "6"
      ]
     },
     "execution_count": 80,
     "metadata": {},
     "output_type": "execute_result"
    }
   ],
   "source": [
    "arr.count(10)"
   ]
  },
  {
   "cell_type": "code",
   "execution_count": 82,
   "id": "46eaf805-90db-406c-91be-47103af6ca97",
   "metadata": {},
   "outputs": [],
   "source": [
    "lst = [True, 'python', 0 , range(10), 1.0, 'a', 1+0j, False]"
   ]
  },
  {
   "cell_type": "code",
   "execution_count": 84,
   "id": "5a9666ea-1076-48d3-b3df-2ea9f1e476b6",
   "metadata": {},
   "outputs": [
    {
     "data": {
      "text/plain": [
       "3"
      ]
     },
     "execution_count": 84,
     "metadata": {},
     "output_type": "execute_result"
    }
   ],
   "source": [
    "lst.count(1)"
   ]
  },
  {
   "cell_type": "code",
   "execution_count": 86,
   "id": "16801445-2364-4f38-adb9-6239d960f0e9",
   "metadata": {},
   "outputs": [
    {
     "data": {
      "text/plain": [
       "2"
      ]
     },
     "execution_count": 86,
     "metadata": {},
     "output_type": "execute_result"
    }
   ],
   "source": [
    "lst.count(0)"
   ]
  },
  {
   "cell_type": "code",
   "execution_count": 88,
   "id": "d3677f18-aa57-4248-a29b-bfa00cd01d1c",
   "metadata": {},
   "outputs": [
    {
     "data": {
      "text/plain": [
       "3"
      ]
     },
     "execution_count": 88,
     "metadata": {},
     "output_type": "execute_result"
    }
   ],
   "source": [
    "lst = [True, 2+0j,  'python', 0 , range(10), 2.0, 'a', 1+0j, False, 2]\n",
    "lst.count(2)"
   ]
  },
  {
   "cell_type": "markdown",
   "id": "e545e607-e7e6-4785-a71a-70a3fbcd3e6b",
   "metadata": {
    "id": "e545e607-e7e6-4785-a71a-70a3fbcd3e6b"
   },
   "source": [
    "### 5. pop()\n",
    "\n",
    "- It returns the element available at a particular index and removes the element from the list\n",
    "- By default, it returns and removes the last element of the list\n",
    "- For an invalid index, it returns an index error\n",
    "\n",
    "__Syntax:__\n",
    "\n",
    "            lst.pop(index)"
   ]
  },
  {
   "cell_type": "code",
   "execution_count": 90,
   "id": "1ff5a7ed-52b8-44d4-ac93-5cc20e10d134",
   "metadata": {},
   "outputs": [],
   "source": [
    "lst = [1,2.0, 3+7j, True, 'python', None, range(0), [1,2,3], (1,2,3), {1:100, 2:200}]\n"
   ]
  },
  {
   "cell_type": "code",
   "execution_count": 92,
   "id": "b9fd7da2-8618-4692-ae6c-21e2a72b0ec0",
   "metadata": {},
   "outputs": [
    {
     "name": "stdout",
     "output_type": "stream",
     "text": [
      "(3+7j)\n"
     ]
    }
   ],
   "source": [
    "y = lst.pop(2)\n",
    "print(y)"
   ]
  },
  {
   "cell_type": "code",
   "execution_count": 94,
   "id": "d25c537a-bfaa-4bf2-98f1-40d28654287e",
   "metadata": {},
   "outputs": [
    {
     "name": "stdout",
     "output_type": "stream",
     "text": [
      "[1, 2.0, True, 'python', None, range(0, 0), [1, 2, 3], (1, 2, 3), {1: 100, 2: 200}]\n"
     ]
    }
   ],
   "source": [
    "print(lst)"
   ]
  },
  {
   "cell_type": "code",
   "execution_count": 96,
   "id": "0754c835-e558-49dc-9c64-9d06372e6bc8",
   "metadata": {},
   "outputs": [
    {
     "name": "stdout",
     "output_type": "stream",
     "text": [
      "[(2+0j), 'python', 0, range(0, 10), 2.0, 'a', (1+0j), False, 2]\n"
     ]
    }
   ],
   "source": [
    "lst = [True, 2+0j,  'python', 0 , range(10), 2.0, 'a', 1+0j, False, 2]\n",
    "x = lst.pop(0)\n",
    "print(lst)"
   ]
  },
  {
   "cell_type": "code",
   "execution_count": 99,
   "id": "277a5292-dead-4551-83e1-3f9e4026c0bb",
   "metadata": {},
   "outputs": [
    {
     "data": {
      "text/plain": [
       "True"
      ]
     },
     "execution_count": 99,
     "metadata": {},
     "output_type": "execute_result"
    }
   ],
   "source": [
    "x"
   ]
  },
  {
   "cell_type": "code",
   "execution_count": 101,
   "id": "66bc1449-ef36-4137-a421-60f92c43c4e5",
   "metadata": {},
   "outputs": [
    {
     "data": {
      "text/plain": [
       "(3+7j)"
      ]
     },
     "execution_count": 101,
     "metadata": {},
     "output_type": "execute_result"
    }
   ],
   "source": [
    "y"
   ]
  },
  {
   "cell_type": "markdown",
   "id": "0d3e00ef-e8c2-4ed8-ba9c-31d69875b237",
   "metadata": {
    "id": "0d3e00ef-e8c2-4ed8-ba9c-31d69875b237"
   },
   "source": [
    "#### remove()\n",
    "\n",
    "- It removes the first occurrence of the specified element from list in the direction from left to right\n",
    "- If the element is not found, then it will throw an __value error__"
   ]
  },
  {
   "cell_type": "code",
   "execution_count": 103,
   "id": "6751a067-44a4-440a-9d1c-26048e1e4dc0",
   "metadata": {},
   "outputs": [
    {
     "name": "stdout",
     "output_type": "stream",
     "text": [
      "[10, 5, 1, 2, 10, 1, 2, 9, 10, 1, 9, 7, 5, 4, 1, 5, 7, 9, 2, 9, 5, 2, 4, 7, 6, 4, 10, 7, 10, 2, 10, 5, 3, 7, 8, 9]\n"
     ]
    }
   ],
   "source": [
    "np.random.seed(10)\n",
    "arr = list(np.random.randint(1,11,36))\n",
    "print(arr)"
   ]
  },
  {
   "cell_type": "code",
   "execution_count": 107,
   "id": "acbf2b49-63e1-4e53-b575-2658134c582a",
   "metadata": {},
   "outputs": [
    {
     "name": "stdout",
     "output_type": "stream",
     "text": [
      "[5, 1, 2, 10, 1, 2, 9, 10, 1, 9, 7, 5, 4, 1, 5, 7, 9, 2, 9, 5, 2, 4, 7, 6, 4, 10, 7, 10, 2, 10, 5, 3, 7, 8, 9]\n"
     ]
    }
   ],
   "source": [
    "arr.remove(10)\n",
    "print(arr)"
   ]
  },
  {
   "cell_type": "code",
   "execution_count": 109,
   "id": "350cd2b0-324c-4690-a360-b125ce3ebc04",
   "metadata": {},
   "outputs": [
    {
     "name": "stdout",
     "output_type": "stream",
     "text": [
      "[(2+0j), 'python', 0, range(0, 10), 2.0, 'a', (1+0j), False, 2, 1, 1.0]\n"
     ]
    }
   ],
   "source": [
    "lst = [True, 2+0j,  'python', 0 , range(10), 2.0, 'a', 1+0j, False, 2, 1, 1.0]\n",
    "lst.remove(1)\n",
    "print(lst)"
   ]
  },
  {
   "cell_type": "code",
   "execution_count": 111,
   "id": "6119a879-cff0-4662-a784-068ca7b961f5",
   "metadata": {},
   "outputs": [
    {
     "name": "stdout",
     "output_type": "stream",
     "text": [
      "[5, 1, 2, 1, 2, 9, 1, 9, 7, 5, 4, 1, 5, 7, 9, 2, 9, 5, 2, 4, 7, 6, 4, 7, 2, 5, 3, 7, 8, 9]\n"
     ]
    }
   ],
   "source": [
    "lst1 = []\n",
    "for i in arr:\n",
    "    if i != 10:\n",
    "        lst1.append(i)\n",
    "\n",
    "print(lst1)"
   ]
  },
  {
   "cell_type": "markdown",
   "id": "202cc08c-5741-4b73-bdc7-9daeb60fa497",
   "metadata": {
    "id": "202cc08c-5741-4b73-bdc7-9daeb60fa497"
   },
   "source": [
    "### reverse()\n",
    "\n",
    "- It will reverse the list\n",
    "- It makes the changes in the existing list"
   ]
  },
  {
   "cell_type": "code",
   "execution_count": 117,
   "id": "0e341c39-a63a-4485-937c-af7c0de4ec7e",
   "metadata": {},
   "outputs": [
    {
     "name": "stdout",
     "output_type": "stream",
     "text": [
      "[5, 1, 2, 1, 2, 9, 1, 9, 7, 5, 4, 1, 5, 7, 9, 2, 9, 5, 2, 4, 7, 6, 4, 7, 2, 5, 3, 7, 8, 9]\n"
     ]
    }
   ],
   "source": [
    "print(lst1)"
   ]
  },
  {
   "cell_type": "code",
   "execution_count": 123,
   "id": "698f6427-7cc8-4162-b4b8-29780a98e65f",
   "metadata": {},
   "outputs": [],
   "source": [
    "lst1.reverse()"
   ]
  },
  {
   "cell_type": "code",
   "execution_count": 125,
   "id": "2200ea64-3690-40c1-845a-f75d66dcbbc5",
   "metadata": {},
   "outputs": [
    {
     "name": "stdout",
     "output_type": "stream",
     "text": [
      "[9, 8, 7, 3, 5, 2, 7, 4, 6, 7, 4, 2, 5, 9, 2, 9, 7, 5, 1, 4, 5, 7, 9, 1, 9, 2, 1, 2, 1, 5]\n"
     ]
    }
   ],
   "source": [
    "print(lst1)"
   ]
  },
  {
   "cell_type": "markdown",
   "id": "d740f09c-9a40-4bb6-8150-f7a773cc8e4c",
   "metadata": {
    "id": "d740f09c-9a40-4bb6-8150-f7a773cc8e4c"
   },
   "source": [
    "### sort()\n",
    "\n",
    "- It will sort the list in the ascending order or descending order\n",
    "- By default, it will sort the list in the ascending order\n",
    "- It will make the changes in the existing list only"
   ]
  },
  {
   "cell_type": "code",
   "execution_count": 131,
   "id": "cf3e6035-ee1e-4691-86f5-4be48e615f0a",
   "metadata": {},
   "outputs": [
    {
     "name": "stdout",
     "output_type": "stream",
     "text": [
      "[9, 8, 7, 3, 5, 2, 7, 4, 6, 7, 4, 2, 5, 9, 2, 9, 7, 5, 1, 4, 5, 7, 9, 1, 9, 2, 1, 2, 1, 5]\n"
     ]
    }
   ],
   "source": [
    "print(lst1)"
   ]
  },
  {
   "cell_type": "code",
   "execution_count": 135,
   "id": "54485382-b2ad-448b-a3df-7d66d56c012b",
   "metadata": {},
   "outputs": [
    {
     "name": "stdout",
     "output_type": "stream",
     "text": [
      "[1, 1, 1, 1, 2, 2, 2, 2, 2, 3, 4, 4, 4, 5, 5, 5, 5, 5, 6, 7, 7, 7, 7, 7, 8, 9, 9, 9, 9, 9]\n"
     ]
    }
   ],
   "source": [
    "lst1.sort()\n",
    "print(lst1)"
   ]
  },
  {
   "cell_type": "code",
   "execution_count": 137,
   "id": "3ce35c81-1e1d-4019-88b6-69cb75cffc45",
   "metadata": {},
   "outputs": [
    {
     "name": "stdout",
     "output_type": "stream",
     "text": [
      "[9, 9, 9, 9, 9, 8, 7, 7, 7, 7, 7, 6, 5, 5, 5, 5, 5, 4, 4, 4, 3, 2, 2, 2, 2, 2, 1, 1, 1, 1]\n"
     ]
    }
   ],
   "source": [
    "# Descending order \n",
    "\n",
    "lst1.sort(reverse = True)\n",
    "print(lst1)"
   ]
  },
  {
   "cell_type": "markdown",
   "id": "0a35b5f1-941e-42cc-b6ba-7e6d6967db5c",
   "metadata": {
    "id": "0a35b5f1-941e-42cc-b6ba-7e6d6967db5c"
   },
   "source": [
    "##### If the list contains duplicated values in it"
   ]
  },
  {
   "cell_type": "markdown",
   "id": "862d6791-52b9-4188-ac93-f43cff68c4a6",
   "metadata": {
    "id": "862d6791-52b9-4188-ac93-f43cff68c4a6"
   },
   "source": [
    "### insert()\n",
    "\n",
    "- It is used to insert an element at a particular index\n",
    "- The previous element at that particular index will be shifted to the right hand side\n",
    "\n",
    "__Syntax:__\n",
    "\n",
    "        lst.insert(index, element)"
   ]
  },
  {
   "cell_type": "code",
   "execution_count": 143,
   "id": "04f53143-0950-466c-b479-520a52a174b8",
   "metadata": {},
   "outputs": [
    {
     "name": "stdout",
     "output_type": "stream",
     "text": [
      "[True, (2+0j), 'python', 0, range(0, 10), 2.0, 'a', (1+0j), False, 2, 1, 1.0]\n"
     ]
    }
   ],
   "source": [
    "lst = [True, 2+0j,  'python', 0 , range(10), 2.0, 'a', 1+0j, False, 2, 1, 1.0]\n",
    "print(lst)"
   ]
  },
  {
   "cell_type": "code",
   "execution_count": 145,
   "id": "bbc0b526-66c1-4562-ad46-1e2f4acd75ce",
   "metadata": {},
   "outputs": [
    {
     "name": "stdout",
     "output_type": "stream",
     "text": [
      "[True, 100, (2+0j), 'python', 0, range(0, 10), 2.0, 'a', (1+0j), False, 2, 1, 1.0]\n"
     ]
    }
   ],
   "source": [
    "lst.insert(1, 100)\n",
    "print(lst)"
   ]
  },
  {
   "cell_type": "code",
   "execution_count": 149,
   "id": "bf3766b5-59d9-467e-86ad-be4825fb34bc",
   "metadata": {},
   "outputs": [
    {
     "name": "stdout",
     "output_type": "stream",
     "text": [
      "[True, 100, (2+0j), 'python', 0, range(0, 10), 2.0, 'a', (1+0j), False, 2, 1, 'mayank', 1.0]\n"
     ]
    }
   ],
   "source": [
    "lst.insert(len(lst)-1, 'mayank')\n",
    "print(lst)"
   ]
  },
  {
   "cell_type": "code",
   "execution_count": 151,
   "id": "5f60c532-6de8-446a-adae-150695332452",
   "metadata": {},
   "outputs": [
    {
     "name": "stdout",
     "output_type": "stream",
     "text": [
      "[True, 100, (2+0j), 'python', 0, range(0, 10), 2.0, 'a', (1+0j), False, 2, 1, 'mayank', 1.0, 9999]\n"
     ]
    }
   ],
   "source": [
    "lst.insert(len(lst), 9999)\n",
    "print(lst)"
   ]
  },
  {
   "cell_type": "code",
   "execution_count": 153,
   "id": "e00b07fe-9565-4f83-8c8b-cf1af277fed7",
   "metadata": {},
   "outputs": [
    {
     "name": "stdout",
     "output_type": "stream",
     "text": [
      "[True, 100, (2+0j), 'python', 0, range(0, 10), 2.0, 'a', (1+0j), False, 2, 1, 'mayank', 1.0, 9999, 'Data', 'Science']\n"
     ]
    }
   ],
   "source": [
    "lst.insert(50, 'Data')\n",
    "lst.insert(20, 'Science')\n",
    "print(lst)"
   ]
  },
  {
   "cell_type": "code",
   "execution_count": 155,
   "id": "9963ef32-5388-475e-9b57-fabd13999526",
   "metadata": {},
   "outputs": [
    {
     "name": "stdout",
     "output_type": "stream",
     "text": [
      "[True, 100, (2+0j), 'python', 0, range(0, 10), 2.0, 'a', (1+0j), False, 2, 1, 'mayank', 1.0, 9999, 'Data', 'Science', 'Jobs', 'DS']\n"
     ]
    }
   ],
   "source": [
    "lst.insert(50, 'DS')\n",
    "lst.insert(17, 'Jobs')\n",
    "print(lst)"
   ]
  },
  {
   "cell_type": "code",
   "execution_count": 157,
   "id": "2188073c-2f99-48ce-9a81-ce95210245b0",
   "metadata": {},
   "outputs": [
    {
     "name": "stdout",
     "output_type": "stream",
     "text": [
      "[True, 100, (2+0j), 'python', 0, range(0, 10), 2.0, 'a', (1+0j), False, 2, 1, 'mayank', 1.0, 9999, 'Data', 'Science', 'Jobs', 'India', 'DS']\n"
     ]
    }
   ],
   "source": [
    "lst.insert(-1, 'India')\n",
    "print(lst)"
   ]
  },
  {
   "cell_type": "code",
   "execution_count": 159,
   "id": "0021b249-4cb4-4d34-ac49-f79633f1fc43",
   "metadata": {},
   "outputs": [
    {
     "name": "stdout",
     "output_type": "stream",
     "text": [
      "['Bengaluru', True, 100, (2+0j), 'python', 0, range(0, 10), 2.0, 'a', (1+0j), False, 2, 1, 'mayank', 1.0, 9999, 'Data', 'Science', 'Jobs', 'India', 'DS']\n"
     ]
    }
   ],
   "source": [
    "lst.insert(-len(lst), 'Bengaluru')\n",
    "print(lst)"
   ]
  },
  {
   "cell_type": "markdown",
   "id": "98216630-5ff4-4ff0-ac9f-fa001d3180d0",
   "metadata": {
    "id": "98216630-5ff4-4ff0-ac9f-fa001d3180d0"
   },
   "source": [
    "### copy()\n",
    "\n",
    "- It copies all the element from the list and return a new lisr with all the same elements of the previous list"
   ]
  },
  {
   "cell_type": "code",
   "execution_count": 161,
   "id": "62b35324-72f0-46d4-bfa9-cd07b8ad3961",
   "metadata": {},
   "outputs": [
    {
     "name": "stdout",
     "output_type": "stream",
     "text": [
      "2220747869568 2220747869504\n"
     ]
    }
   ],
   "source": [
    "lst = [1,2,3,4]\n",
    "lst1 = lst.copy()\n",
    "print(id(lst), id(lst1))"
   ]
  },
  {
   "cell_type": "code",
   "execution_count": 163,
   "id": "b9c47ad4-3bb2-42be-a6a8-44546f3387c4",
   "metadata": {},
   "outputs": [
    {
     "name": "stdout",
     "output_type": "stream",
     "text": [
      "[1, 2, 3, 4]\n"
     ]
    }
   ],
   "source": [
    "print(lst)"
   ]
  },
  {
   "cell_type": "code",
   "execution_count": 165,
   "id": "e1df17dc-de23-4a15-8167-16ceb541590f",
   "metadata": {},
   "outputs": [
    {
     "name": "stdout",
     "output_type": "stream",
     "text": [
      "[1, 2, 3, 4]\n"
     ]
    }
   ],
   "source": [
    "print(lst1)"
   ]
  },
  {
   "cell_type": "code",
   "execution_count": 167,
   "id": "44c18878-83f3-4768-a495-88d57fc72b5e",
   "metadata": {},
   "outputs": [],
   "source": [
    "lst[1] = 25"
   ]
  },
  {
   "cell_type": "code",
   "execution_count": 169,
   "id": "79cb18b9-67d0-4d58-8491-75a28f118c62",
   "metadata": {},
   "outputs": [
    {
     "name": "stdout",
     "output_type": "stream",
     "text": [
      "[1, 25, 3, 4] [1, 2, 3, 4]\n"
     ]
    }
   ],
   "source": [
    "print(lst, lst1)"
   ]
  },
  {
   "cell_type": "markdown",
   "id": "c2ce34cc-5cf9-42aa-b667-7a79413d5371",
   "metadata": {
    "id": "c2ce34cc-5cf9-42aa-b667-7a79413d5371"
   },
   "source": [
    "### Aliasing"
   ]
  },
  {
   "cell_type": "code",
   "execution_count": 171,
   "id": "43bc4c6a-9052-4497-b079-008f06c0b931",
   "metadata": {},
   "outputs": [],
   "source": [
    "x = lst"
   ]
  },
  {
   "cell_type": "code",
   "execution_count": 173,
   "id": "7f53f341-b2ab-4c4d-b2f2-3e137a0632d5",
   "metadata": {},
   "outputs": [],
   "source": [
    "lst[3] = 100"
   ]
  },
  {
   "cell_type": "code",
   "execution_count": 175,
   "id": "26779e0b-233c-4ce7-9658-645b5e38ab71",
   "metadata": {},
   "outputs": [
    {
     "data": {
      "text/plain": [
       "[1, 25, 3, 100]"
      ]
     },
     "execution_count": 175,
     "metadata": {},
     "output_type": "execute_result"
    }
   ],
   "source": [
    "x"
   ]
  },
  {
   "cell_type": "code",
   "execution_count": 177,
   "id": "780ff083-cb7f-4859-b76d-5ba772bd7bc2",
   "metadata": {},
   "outputs": [
    {
     "data": {
      "text/plain": [
       "[1, 2, 3, 4]"
      ]
     },
     "execution_count": 177,
     "metadata": {},
     "output_type": "execute_result"
    }
   ],
   "source": [
    "lst1"
   ]
  },
  {
   "cell_type": "code",
   "execution_count": 179,
   "id": "ea124e43-a713-4b30-83f1-f2c950f1e4fe",
   "metadata": {},
   "outputs": [
    {
     "name": "stdout",
     "output_type": "stream",
     "text": [
      "2220747869568 2220747869568\n"
     ]
    }
   ],
   "source": [
    "print(id(lst), id(x))"
   ]
  },
  {
   "cell_type": "code",
   "execution_count": 181,
   "id": "eb551d95-af3e-4fa9-9eab-925581465e6c",
   "metadata": {},
   "outputs": [
    {
     "name": "stdout",
     "output_type": "stream",
     "text": [
      "5\n"
     ]
    }
   ],
   "source": [
    "lst = [9, 8, 7, 3, 5, 2, 7, 4, 6, 7, 4, 2, 5, 9, 2, 9, 7, 5, 1, 4, 5, 7, 9, 1, 9, 2, 1, 2, 1, 5]\n",
    "\n",
    "count = 0\n",
    "\n",
    "for i in lst:\n",
    "    if i == 7:\n",
    "        count = count+1\n",
    "\n",
    "print(count)"
   ]
  },
  {
   "cell_type": "code",
   "execution_count": 183,
   "id": "73b1ecc3-3411-4174-ad39-982a6cea7acb",
   "metadata": {},
   "outputs": [
    {
     "data": {
      "text/plain": [
       "5"
      ]
     },
     "execution_count": 183,
     "metadata": {},
     "output_type": "execute_result"
    }
   ],
   "source": [
    "lst.count(7)"
   ]
  },
  {
   "cell_type": "markdown",
   "id": "25fcdb05-dd38-4bc2-b3a9-4c0f82389484",
   "metadata": {
    "id": "25fcdb05-dd38-4bc2-b3a9-4c0f82389484"
   },
   "source": [
    "### List are Mutable in nature\n",
    "\n",
    "- We can modify the values after the declaration of the object\n",
    "- Item re-assignment is also possible here\n",
    "- The address remains the same before and after the modification"
   ]
  },
  {
   "cell_type": "markdown",
   "id": "c82d48a8-0060-40a7-ae6a-9ae47bc34ced",
   "metadata": {
    "id": "c82d48a8-0060-40a7-ae6a-9ae47bc34ced"
   },
   "source": [
    "### Tuples\n",
    "\n",
    "- Anything written inside the round paranthese or round brackets() is a tuple\n",
    "- Just like the list, here the elements are seperated by a comma from each other\n",
    "- A tuple is also container datatype, that means it can have multiple elements in it\n",
    "- A tuple can contain hetergenous (different types) element in it\n",
    "- A tuple can contain duplicated element as well\n",
    "- The only exception here is that tuples are immutable, i.e. we cannot modify them i.e. we cannot remove an element, insert and element and we cannot do item re-assign at any index"
   ]
  },
  {
   "cell_type": "code",
   "execution_count": 185,
   "id": "b6fdd4cf-55ea-4603-ad0e-106563e52d7d",
   "metadata": {},
   "outputs": [
    {
     "name": "stdout",
     "output_type": "stream",
     "text": [
      "(1, 2, 3, 4) <class 'tuple'>\n"
     ]
    }
   ],
   "source": [
    "t = (1,2,3,4)\n",
    "print(t, type(t))"
   ]
  },
  {
   "cell_type": "code",
   "execution_count": 189,
   "id": "5922c542-c8cb-40ca-9bd0-6226ff765906",
   "metadata": {},
   "outputs": [
    {
     "name": "stdout",
     "output_type": "stream",
     "text": [
      "1 <class 'int'>\n"
     ]
    }
   ],
   "source": [
    "t = (1)\n",
    "print(t, type(t))"
   ]
  },
  {
   "cell_type": "code",
   "execution_count": 191,
   "id": "cde2e1a0-f113-461d-b754-f58ff6f7600a",
   "metadata": {},
   "outputs": [
    {
     "name": "stdout",
     "output_type": "stream",
     "text": [
      "(1,) <class 'tuple'>\n"
     ]
    }
   ],
   "source": [
    "t = (1,)\n",
    "print(t, type(t))"
   ]
  },
  {
   "cell_type": "code",
   "execution_count": 193,
   "id": "01a24820-d065-4d40-a6ca-6349dbc2693c",
   "metadata": {},
   "outputs": [
    {
     "name": "stdout",
     "output_type": "stream",
     "text": [
      "() <class 'tuple'>\n"
     ]
    }
   ],
   "source": [
    "t = ()\n",
    "print(t, type(t))"
   ]
  },
  {
   "cell_type": "code",
   "execution_count": 195,
   "id": "5af920fa-91c6-492c-af7d-8992a9a64a3b",
   "metadata": {},
   "outputs": [
    {
     "name": "stdout",
     "output_type": "stream",
     "text": [
      "1 <class 'int'>\n",
      "2 <class 'int'>\n",
      "3 <class 'int'>\n",
      "4 <class 'int'>\n",
      "5 <class 'int'>\n",
      "6 <class 'int'>\n",
      "7 <class 'int'>\n"
     ]
    }
   ],
   "source": [
    "t = (1,2,3,4,5,6,7)\n",
    "\n",
    "for i in t:\n",
    "    print(i, type(i))"
   ]
  },
  {
   "cell_type": "code",
   "execution_count": 197,
   "id": "a2438074-fe2e-4844-a767-72893392a5ff",
   "metadata": {},
   "outputs": [
    {
     "name": "stdout",
     "output_type": "stream",
     "text": [
      "1 <class 'int'>\n",
      "2.0 <class 'float'>\n",
      "(3+7j) <class 'complex'>\n",
      "True <class 'bool'>\n",
      "python <class 'str'>\n",
      "None <class 'NoneType'>\n",
      "range(0, 0) <class 'range'>\n",
      "[1, 2, 3] <class 'list'>\n",
      "(1, 2, 3) <class 'tuple'>\n",
      "{1: 100, 2: 200} <class 'dict'>\n",
      "{1, 2, 3, 4} <class 'set'>\n"
     ]
    }
   ],
   "source": [
    "t = (1, 2.0, 3+7j, True, 'python', None, range(0), [1,2,3], (1,2,3), {1:100, 2:200}, {1,2,3,4})\n",
    "\n",
    "for i in t:\n",
    "    print(i, type(i))"
   ]
  },
  {
   "cell_type": "code",
   "execution_count": 199,
   "id": "654e13a0-e619-4689-82c8-c439e6e201e3",
   "metadata": {},
   "outputs": [],
   "source": [
    "t = (1,2,3)"
   ]
  },
  {
   "cell_type": "code",
   "execution_count": 201,
   "id": "ea9c73d5-956c-4d3a-b6a5-5dce684e0cf8",
   "metadata": {},
   "outputs": [
    {
     "ename": "AttributeError",
     "evalue": "'tuple' object has no attribute 'append'",
     "output_type": "error",
     "traceback": [
      "\u001b[1;31m---------------------------------------------------------------------------\u001b[0m",
      "\u001b[1;31mAttributeError\u001b[0m                            Traceback (most recent call last)",
      "Cell \u001b[1;32mIn[201], line 1\u001b[0m\n\u001b[1;32m----> 1\u001b[0m t\u001b[38;5;241m.\u001b[39mappend(\u001b[38;5;241m1\u001b[39m)\n",
      "\u001b[1;31mAttributeError\u001b[0m: 'tuple' object has no attribute 'append'"
     ]
    }
   ],
   "source": [
    "t.append(1)"
   ]
  },
  {
   "cell_type": "code",
   "execution_count": 203,
   "id": "8e9f7aa8-48a5-4e0e-94aa-a94ddd2b036c",
   "metadata": {},
   "outputs": [
    {
     "ename": "AttributeError",
     "evalue": "'tuple' object has no attribute 'remove'",
     "output_type": "error",
     "traceback": [
      "\u001b[1;31m---------------------------------------------------------------------------\u001b[0m",
      "\u001b[1;31mAttributeError\u001b[0m                            Traceback (most recent call last)",
      "Cell \u001b[1;32mIn[203], line 1\u001b[0m\n\u001b[1;32m----> 1\u001b[0m t\u001b[38;5;241m.\u001b[39mremove(\u001b[38;5;241m3\u001b[39m)\n",
      "\u001b[1;31mAttributeError\u001b[0m: 'tuple' object has no attribute 'remove'"
     ]
    }
   ],
   "source": [
    "t.remove(3)"
   ]
  },
  {
   "cell_type": "code",
   "execution_count": 205,
   "id": "1d93d295-5071-4c5d-be5f-50b04c04cde7",
   "metadata": {},
   "outputs": [
    {
     "ename": "AttributeError",
     "evalue": "'tuple' object has no attribute 'extend'",
     "output_type": "error",
     "traceback": [
      "\u001b[1;31m---------------------------------------------------------------------------\u001b[0m",
      "\u001b[1;31mAttributeError\u001b[0m                            Traceback (most recent call last)",
      "Cell \u001b[1;32mIn[205], line 1\u001b[0m\n\u001b[1;32m----> 1\u001b[0m t\u001b[38;5;241m.\u001b[39mextend(\u001b[38;5;124m'\u001b[39m\u001b[38;5;124mmayank\u001b[39m\u001b[38;5;124m'\u001b[39m)\n",
      "\u001b[1;31mAttributeError\u001b[0m: 'tuple' object has no attribute 'extend'"
     ]
    }
   ],
   "source": [
    "t.extend('mayank')"
   ]
  },
  {
   "cell_type": "code",
   "execution_count": 207,
   "id": "e5ab7fd4-4530-42b5-91b3-b268b9413525",
   "metadata": {},
   "outputs": [
    {
     "ename": "AttributeError",
     "evalue": "'tuple' object has no attribute 'insert'",
     "output_type": "error",
     "traceback": [
      "\u001b[1;31m---------------------------------------------------------------------------\u001b[0m",
      "\u001b[1;31mAttributeError\u001b[0m                            Traceback (most recent call last)",
      "Cell \u001b[1;32mIn[207], line 1\u001b[0m\n\u001b[1;32m----> 1\u001b[0m t\u001b[38;5;241m.\u001b[39minsert(\u001b[38;5;241m1\u001b[39m, \u001b[38;5;124m'\u001b[39m\u001b[38;5;124mpython\u001b[39m\u001b[38;5;124m'\u001b[39m)\n",
      "\u001b[1;31mAttributeError\u001b[0m: 'tuple' object has no attribute 'insert'"
     ]
    }
   ],
   "source": [
    "t.insert(1, 'python')"
   ]
  },
  {
   "cell_type": "code",
   "execution_count": 209,
   "id": "533f26a7-c18e-43d0-9a92-976468af9801",
   "metadata": {},
   "outputs": [
    {
     "ename": "AttributeError",
     "evalue": "'tuple' object has no attribute 'pop'",
     "output_type": "error",
     "traceback": [
      "\u001b[1;31m---------------------------------------------------------------------------\u001b[0m",
      "\u001b[1;31mAttributeError\u001b[0m                            Traceback (most recent call last)",
      "Cell \u001b[1;32mIn[209], line 1\u001b[0m\n\u001b[1;32m----> 1\u001b[0m t\u001b[38;5;241m.\u001b[39mpop(\u001b[38;5;241m1\u001b[39m)\n",
      "\u001b[1;31mAttributeError\u001b[0m: 'tuple' object has no attribute 'pop'"
     ]
    }
   ],
   "source": [
    "t.pop(1)"
   ]
  },
  {
   "cell_type": "code",
   "execution_count": 211,
   "id": "67eab391-4434-4b4b-ba3b-0980f26f508f",
   "metadata": {},
   "outputs": [
    {
     "name": "stdout",
     "output_type": "stream",
     "text": [
      "(1, 2, 3) 2220747870080\n"
     ]
    }
   ],
   "source": [
    "print(t, id(t))"
   ]
  },
  {
   "cell_type": "code",
   "execution_count": 213,
   "id": "71c13d8f-45aa-4892-b855-3296bfa36c0c",
   "metadata": {},
   "outputs": [
    {
     "name": "stdout",
     "output_type": "stream",
     "text": [
      "(1, 2, 3, 18) 2220748318464\n"
     ]
    }
   ],
   "source": [
    "t = t+(18,)\n",
    "print(t, id(t))"
   ]
  },
  {
   "cell_type": "markdown",
   "id": "7e6b10b5-e480-4880-a573-07b07a6be511",
   "metadata": {
    "id": "7e6b10b5-e480-4880-a573-07b07a6be511"
   },
   "source": [
    "### Tuples are immutable\n",
    "\n",
    "- We cannot modify the values one declared\n",
    "- Item reassignment is not possible\n",
    "- Addresses are going to be different after modification"
   ]
  },
  {
   "cell_type": "code",
   "execution_count": 215,
   "id": "c0b8eba1-9b65-4115-a6ed-20c9bfd1d32f",
   "metadata": {},
   "outputs": [
    {
     "data": {
      "text/plain": [
       "(1, 2, 3, 18)"
      ]
     },
     "execution_count": 215,
     "metadata": {},
     "output_type": "execute_result"
    }
   ],
   "source": [
    "t"
   ]
  },
  {
   "cell_type": "code",
   "execution_count": 217,
   "id": "d672ce56-c1fd-4ebb-a34d-b4075786ac9e",
   "metadata": {},
   "outputs": [
    {
     "ename": "TypeError",
     "evalue": "'tuple' object does not support item assignment",
     "output_type": "error",
     "traceback": [
      "\u001b[1;31m---------------------------------------------------------------------------\u001b[0m",
      "\u001b[1;31mTypeError\u001b[0m                                 Traceback (most recent call last)",
      "Cell \u001b[1;32mIn[217], line 1\u001b[0m\n\u001b[1;32m----> 1\u001b[0m t[\u001b[38;5;241m1\u001b[39m] \u001b[38;5;241m=\u001b[39m \u001b[38;5;241m100\u001b[39m\n",
      "\u001b[1;31mTypeError\u001b[0m: 'tuple' object does not support item assignment"
     ]
    }
   ],
   "source": [
    "t[1] = 100"
   ]
  },
  {
   "cell_type": "markdown",
   "id": "70659e20-a519-4cbd-ba82-b71e203472ec",
   "metadata": {
    "id": "70659e20-a519-4cbd-ba82-b71e203472ec"
   },
   "source": [
    "### Operations on the Tuple\n",
    "\n",
    "- length\n",
    "- conatenation\n",
    "- repeitition\n",
    "- Indexing and Slicing"
   ]
  },
  {
   "cell_type": "code",
   "execution_count": 219,
   "id": "82060d0b-7ad4-458e-b1bb-0fb109de4b21",
   "metadata": {},
   "outputs": [],
   "source": [
    "t = (1, 2.0, 3+7j, True, 'python', None, range(0), [1,2,3], (1,2,3), {1:100, 2:200}, {1,2,3,4})"
   ]
  },
  {
   "cell_type": "markdown",
   "id": "57b1ab75-d911-4734-ade8-5ea0a7aed720",
   "metadata": {
    "id": "57b1ab75-d911-4734-ade8-5ea0a7aed720"
   },
   "source": [
    "#### Length\n",
    "\n",
    "- It tells us about the number of elements a tuple contains\n",
    "- __len()__ function is used"
   ]
  },
  {
   "cell_type": "code",
   "execution_count": 221,
   "id": "202c8261-9407-4ceb-a4b1-ce808009dec7",
   "metadata": {},
   "outputs": [
    {
     "name": "stdout",
     "output_type": "stream",
     "text": [
      "11\n"
     ]
    }
   ],
   "source": [
    "print(len(t))"
   ]
  },
  {
   "cell_type": "markdown",
   "id": "49e71c0a-3122-42d9-b342-f0c51b0fcea9",
   "metadata": {
    "id": "49e71c0a-3122-42d9-b342-f0c51b0fcea9"
   },
   "source": [
    "### Concatenation\n",
    "\n",
    "- Joining or adding  two or more tuple together is known as concatenation"
   ]
  },
  {
   "cell_type": "code",
   "execution_count": 223,
   "id": "c02c130f-48ea-460b-8209-5fe5427faabe",
   "metadata": {},
   "outputs": [
    {
     "ename": "TypeError",
     "evalue": "can only concatenate tuple (not \"int\") to tuple",
     "output_type": "error",
     "traceback": [
      "\u001b[1;31m---------------------------------------------------------------------------\u001b[0m",
      "\u001b[1;31mTypeError\u001b[0m                                 Traceback (most recent call last)",
      "Cell \u001b[1;32mIn[223], line 4\u001b[0m\n\u001b[0;32m      1\u001b[0m t \u001b[38;5;241m=\u001b[39m (\u001b[38;5;241m1\u001b[39m,\u001b[38;5;241m2\u001b[39m,\u001b[38;5;241m3\u001b[39m,\u001b[38;5;241m4\u001b[39m,\u001b[38;5;241m5\u001b[39m,\u001b[38;5;241m6\u001b[39m)\n\u001b[0;32m      2\u001b[0m t2 \u001b[38;5;241m=\u001b[39m (\u001b[38;5;241m19\u001b[39m)\n\u001b[1;32m----> 4\u001b[0m \u001b[38;5;28mprint\u001b[39m(t\u001b[38;5;241m+\u001b[39mt2)\n",
      "\u001b[1;31mTypeError\u001b[0m: can only concatenate tuple (not \"int\") to tuple"
     ]
    }
   ],
   "source": [
    "t = (1,2,3,4,5,6)\n",
    "t2 = (19)\n",
    "\n",
    "print(t+t2)"
   ]
  },
  {
   "cell_type": "code",
   "execution_count": 225,
   "id": "50d6d2b2-9a2e-4750-b6b0-4e6c15a17b3d",
   "metadata": {},
   "outputs": [
    {
     "name": "stdout",
     "output_type": "stream",
     "text": [
      "(1, 2, 3, 4, 5, 6, 19)\n"
     ]
    }
   ],
   "source": [
    "t = (1,2,3,4,5,6)\n",
    "t2 = (19,)\n",
    "\n",
    "print(t+t2)"
   ]
  },
  {
   "cell_type": "markdown",
   "id": "99120f7b-72d5-427d-84b7-972189e33c7e",
   "metadata": {
    "id": "99120f7b-72d5-427d-84b7-972189e33c7e"
   },
   "source": [
    "### Repetition\n",
    "\n",
    "- (*) operator is used to perform the repetition on a tuple"
   ]
  },
  {
   "cell_type": "code",
   "execution_count": 227,
   "id": "f627e07a-8ea2-4e59-b67b-c2504be5b29a",
   "metadata": {},
   "outputs": [
    {
     "name": "stdout",
     "output_type": "stream",
     "text": [
      "(1, 2, 3, 4, 1, 2, 3, 4, 1, 2, 3, 4, 1, 2, 3, 4, 1, 2, 3, 4)\n"
     ]
    }
   ],
   "source": [
    "print((1,2,3,4)*5)"
   ]
  },
  {
   "cell_type": "markdown",
   "id": "891785b6-e88f-45d5-bbec-83c2b20f25af",
   "metadata": {
    "id": "891785b6-e88f-45d5-bbec-83c2b20f25af"
   },
   "source": [
    "### Indexing and Slicing\n",
    "\n",
    "- A tuple is an container datatype because it can have multiple element in it\n",
    "- A tuple is a sequential datatype because it retains the index of each element in the order we have pass them means it follows indexing\n",
    "- A tuple supports both positive indexing and negative indexing"
   ]
  },
  {
   "cell_type": "code",
   "execution_count": 229,
   "id": "666f5583-3bc1-4d01-af0d-b38d406d5c47",
   "metadata": {},
   "outputs": [
    {
     "name": "stdout",
     "output_type": "stream",
     "text": [
      "(19, 25, 74, 38, 99, 39, 18, 83, 10, 50, 46, 26)\n"
     ]
    }
   ],
   "source": [
    "np.random.seed(10)\n",
    "t = tuple(np.random.randint(10,100, 12))\n",
    "print(t)"
   ]
  },
  {
   "cell_type": "markdown",
   "id": "29797ad2-6657-49e5-9d6d-71b4ba742abb",
   "metadata": {
    "id": "29797ad2-6657-49e5-9d6d-71b4ba742abb"
   },
   "source": [
    "#### Positive indexing\n",
    "\n",
    "- The direction in which it moves is from left to right\n",
    "- By default, the indexing starts from 0\n",
    "- The index of the last element is len(tuple)-1\n",
    "\n",
    "#### Negative Indexing\n",
    "\n",
    "- The direction in which it moves is from right to left\n",
    "- By default, the indexing will start from -1\n",
    "- The index of the last element is -len(tuple)"
   ]
  },
  {
   "cell_type": "markdown",
   "id": "471d5ef1-e847-4af3-96df-18e3ccb0c4d4",
   "metadata": {
    "id": "471d5ef1-e847-4af3-96df-18e3ccb0c4d4"
   },
   "source": [
    "                                             0  1  2  3  4 ----> Positive indexing\n",
    "                                            (1, 2, 3, 4, 5)\n",
    "                                            -5 -4 -3 -2 -1 ----> Negative indexing"
   ]
  },
  {
   "cell_type": "markdown",
   "id": "0285662f-37c8-4a55-af8a-0564d8c15f1f",
   "metadata": {
    "id": "0285662f-37c8-4a55-af8a-0564d8c15f1f"
   },
   "source": [
    "### Slicing\n",
    "\n",
    "\n",
    "__Syntax:__\n",
    "\n",
    "                tuple_variable[starting_index : ending_index : step-size]\n",
    "                "
   ]
  },
  {
   "cell_type": "code",
   "execution_count": 232,
   "id": "bc0132e0-53ff-4a0b-9c9a-1bfeeb1b3092",
   "metadata": {},
   "outputs": [
    {
     "data": {
      "text/plain": [
       "(19, 25, 74, 38, 99, 39, 18, 83, 10, 50, 46, 26)"
      ]
     },
     "execution_count": 232,
     "metadata": {},
     "output_type": "execute_result"
    }
   ],
   "source": [
    "t"
   ]
  },
  {
   "cell_type": "code",
   "execution_count": 234,
   "id": "d6283a3b-c3ea-49fa-81f8-03a9056bf21a",
   "metadata": {},
   "outputs": [
    {
     "data": {
      "text/plain": [
       "(19, 74, 99, 18, 10, 46)"
      ]
     },
     "execution_count": 234,
     "metadata": {},
     "output_type": "execute_result"
    }
   ],
   "source": [
    "t[::2]"
   ]
  },
  {
   "cell_type": "code",
   "execution_count": 236,
   "id": "59fe3a4b-1995-403f-884c-9f77d1edb6a3",
   "metadata": {},
   "outputs": [
    {
     "data": {
      "text/plain": [
       "(26, 10, 39, 74)"
      ]
     },
     "execution_count": 236,
     "metadata": {},
     "output_type": "execute_result"
    }
   ],
   "source": [
    "t[::-3]"
   ]
  },
  {
   "cell_type": "markdown",
   "id": "feb951b2-3d3a-41da-906f-2c06a4928977",
   "metadata": {
    "id": "feb951b2-3d3a-41da-906f-2c06a4928977"
   },
   "source": [
    "### How to create a tuple"
   ]
  },
  {
   "cell_type": "markdown",
   "id": "6dcd968e-d811-40d4-8b0e-db47ca79ef8b",
   "metadata": {
    "id": "6dcd968e-d811-40d4-8b0e-db47ca79ef8b"
   },
   "source": [
    "#### Case-1\n",
    "\n",
    "- When we already know the element"
   ]
  },
  {
   "cell_type": "code",
   "execution_count": 238,
   "id": "8985e7b2-2932-44cf-b8f8-cf8414427aaa",
   "metadata": {},
   "outputs": [
    {
     "name": "stdout",
     "output_type": "stream",
     "text": [
      "(1, 'python', True, None, range(0, 10))\n"
     ]
    }
   ],
   "source": [
    "t = (1, 'python', True, None, range(10))\n",
    "print(t)"
   ]
  },
  {
   "cell_type": "markdown",
   "id": "87db329b-48b2-4ddc-8f1b-94ed53fda12d",
   "metadata": {
    "id": "87db329b-48b2-4ddc-8f1b-94ed53fda12d"
   },
   "source": [
    "#### Case-2\n",
    "\n",
    "- We can use typcasting to create a tuple\n",
    "- We can typecast any iterable object (range, string, list, dictionary, set and frozenset)"
   ]
  },
  {
   "cell_type": "code",
   "execution_count": 240,
   "id": "c70aab5b-d8de-4afe-beda-5f6faedcf177",
   "metadata": {},
   "outputs": [
    {
     "name": "stdout",
     "output_type": "stream",
     "text": [
      "('p', 'y', 't', 'h', 'o', 'n')\n"
     ]
    }
   ],
   "source": [
    "s = 'python'\n",
    "t = tuple(s)\n",
    "print(t)"
   ]
  },
  {
   "cell_type": "code",
   "execution_count": 242,
   "id": "98d03937-0d5e-494f-82aa-3500c4cba0bf",
   "metadata": {},
   "outputs": [
    {
     "ename": "TypeError",
     "evalue": "'int' object is not iterable",
     "output_type": "error",
     "traceback": [
      "\u001b[1;31m---------------------------------------------------------------------------\u001b[0m",
      "\u001b[1;31mTypeError\u001b[0m                                 Traceback (most recent call last)",
      "Cell \u001b[1;32mIn[242], line 2\u001b[0m\n\u001b[0;32m      1\u001b[0m a \u001b[38;5;241m=\u001b[39m \u001b[38;5;241m11\u001b[39m\n\u001b[1;32m----> 2\u001b[0m t \u001b[38;5;241m=\u001b[39m \u001b[38;5;28mtuple\u001b[39m(a)\n\u001b[0;32m      3\u001b[0m \u001b[38;5;28mprint\u001b[39m(t)\n",
      "\u001b[1;31mTypeError\u001b[0m: 'int' object is not iterable"
     ]
    }
   ],
   "source": [
    "a = 11\n",
    "t = tuple(a)\n",
    "print(t)"
   ]
  },
  {
   "cell_type": "markdown",
   "id": "2cea0504-0664-481c-9e5a-3016f2f38b91",
   "metadata": {
    "id": "2cea0504-0664-481c-9e5a-3016f2f38b91"
   },
   "source": [
    "### Case-3\n",
    "\n",
    "- Using loops"
   ]
  },
  {
   "cell_type": "code",
   "execution_count": 244,
   "id": "8f6c6c48-f422-4ad0-8530-7a13f9605d6b",
   "metadata": {},
   "outputs": [
    {
     "name": "stdin",
     "output_type": "stream",
     "text": [
      "Enter the number of elements you want to have in the tuple:  4\n",
      "Enter the element you want to add in the tuple:  1\n",
      "Enter the element you want to add in the tuple:  2.0\n",
      "Enter the element you want to add in the tuple:  3+6j\n",
      "Enter the element you want to add in the tuple:  True\n"
     ]
    },
    {
     "name": "stdout",
     "output_type": "stream",
     "text": [
      "(1, 2.0, (3+6j), True)\n"
     ]
    }
   ],
   "source": [
    "n = int(input('Enter the number of elements you want to have in the tuple: '))\n",
    "t = ()\n",
    "for i in range(n):\n",
    "    a = eval(input('Enter the element you want to add in the tuple: '))\n",
    "    t = t+ (a,)\n",
    "\n",
    "print(t)"
   ]
  },
  {
   "cell_type": "markdown",
   "id": "86ea03b7-d22f-47cf-a4c3-8b0770a433a1",
   "metadata": {
    "id": "86ea03b7-d22f-47cf-a4c3-8b0770a433a1"
   },
   "source": [
    "### Case-4\n",
    "\n",
    "- we can create a tuple using round bracket ()"
   ]
  },
  {
   "cell_type": "code",
   "execution_count": 248,
   "id": "1a9ff1a0-9d79-453c-98d9-fbabcce26c97",
   "metadata": {},
   "outputs": [
    {
     "name": "stdout",
     "output_type": "stream",
     "text": [
      "(1, 2, 3) <class 'tuple'>\n"
     ]
    }
   ],
   "source": [
    "t = (1,2,3)\n",
    "print(t, type(t))"
   ]
  },
  {
   "cell_type": "markdown",
   "id": "70818e19-aec4-4e47-b93b-1dc684f63b8b",
   "metadata": {
    "id": "70818e19-aec4-4e47-b93b-1dc684f63b8b"
   },
   "source": [
    "### Case-5\n",
    "\n",
    "- Packing: We are assigning multiple values to a single variable, by default, python will store them as tuples"
   ]
  },
  {
   "cell_type": "code",
   "execution_count": 250,
   "id": "70cde508-80a9-4562-bd99-c45a96c4ae04",
   "metadata": {},
   "outputs": [
    {
     "name": "stdout",
     "output_type": "stream",
     "text": [
      "(1, 2, 3, 4, 5, 6, 7, 8, 9) <class 'tuple'>\n"
     ]
    }
   ],
   "source": [
    "a = 1,2,3,4,5,6,7,8,9\n",
    "print(a, type(a))"
   ]
  },
  {
   "cell_type": "markdown",
   "id": "1a1d94c1-575a-4f0d-8617-ab7357f53c4a",
   "metadata": {
    "id": "1a1d94c1-575a-4f0d-8617-ab7357f53c4a"
   },
   "source": [
    "- unpacking: Assigning values to multiple variable from a single variable is knowns as unpacking"
   ]
  },
  {
   "cell_type": "code",
   "execution_count": 252,
   "id": "1586bf99-01dc-4cd0-a856-2a189ee5ecef",
   "metadata": {},
   "outputs": [],
   "source": [
    "num_1, num_2, num_3, num_4, num_5, num_6, num_7, num_8, num_9 = a"
   ]
  },
  {
   "cell_type": "code",
   "execution_count": 254,
   "id": "4114e8cb-834f-4042-a592-bb3819a1466d",
   "metadata": {},
   "outputs": [
    {
     "data": {
      "text/plain": [
       "1"
      ]
     },
     "execution_count": 254,
     "metadata": {},
     "output_type": "execute_result"
    }
   ],
   "source": [
    "num_1"
   ]
  },
  {
   "cell_type": "code",
   "execution_count": 258,
   "id": "0b65f4bf-845b-4515-9d4c-f12326109565",
   "metadata": {},
   "outputs": [
    {
     "data": {
      "text/plain": [
       "2"
      ]
     },
     "execution_count": 258,
     "metadata": {},
     "output_type": "execute_result"
    }
   ],
   "source": [
    "num_2"
   ]
  },
  {
   "cell_type": "code",
   "execution_count": 260,
   "id": "f22a2e49-a4a3-4282-930c-dfa2b6d82936",
   "metadata": {},
   "outputs": [
    {
     "data": {
      "text/plain": [
       "3"
      ]
     },
     "execution_count": 260,
     "metadata": {},
     "output_type": "execute_result"
    }
   ],
   "source": [
    "num_3"
   ]
  },
  {
   "cell_type": "code",
   "execution_count": 262,
   "id": "54e8a06c-0fc9-4c19-915c-4f0fbee3dfff",
   "metadata": {},
   "outputs": [
    {
     "name": "stdout",
     "output_type": "stream",
     "text": [
      "('Mayank', 29, '89000', 'benagluru') <class 'tuple'>\n"
     ]
    }
   ],
   "source": [
    "a = 'Mayank', 29, '89000', 'benagluru'\n",
    "print(a, type(a))"
   ]
  },
  {
   "cell_type": "code",
   "execution_count": 264,
   "id": "56645e83-bad3-4d4f-9244-281a46c65b32",
   "metadata": {},
   "outputs": [],
   "source": [
    "name, age, salary, city = a"
   ]
  },
  {
   "cell_type": "code",
   "execution_count": 266,
   "id": "54fa7c62-c0c4-4802-b4e5-b214ddef4b9f",
   "metadata": {},
   "outputs": [
    {
     "data": {
      "text/plain": [
       "'Mayank'"
      ]
     },
     "execution_count": 266,
     "metadata": {},
     "output_type": "execute_result"
    }
   ],
   "source": [
    "name"
   ]
  },
  {
   "cell_type": "code",
   "execution_count": 268,
   "id": "7b11418c-9eee-4905-98ae-8ff03583abef",
   "metadata": {},
   "outputs": [],
   "source": [
    "name, salary, age,  city = a"
   ]
  },
  {
   "cell_type": "code",
   "execution_count": 270,
   "id": "db683a9f-89e0-4006-908c-35033987d2a0",
   "metadata": {},
   "outputs": [
    {
     "data": {
      "text/plain": [
       "29"
      ]
     },
     "execution_count": 270,
     "metadata": {},
     "output_type": "execute_result"
    }
   ],
   "source": [
    "salary"
   ]
  },
  {
   "cell_type": "code",
   "execution_count": 272,
   "id": "f40c28f9-1f77-4509-8062-8c22d8615eb1",
   "metadata": {},
   "outputs": [
    {
     "data": {
      "text/plain": [
       "'89000'"
      ]
     },
     "execution_count": 272,
     "metadata": {},
     "output_type": "execute_result"
    }
   ],
   "source": [
    "age"
   ]
  },
  {
   "cell_type": "markdown",
   "id": "e350414b-3244-441a-811c-9fe21e6eafac",
   "metadata": {
    "id": "e350414b-3244-441a-811c-9fe21e6eafac"
   },
   "source": [
    "### Methods"
   ]
  },
  {
   "cell_type": "code",
   "execution_count": 274,
   "id": "5e8ddc1d-0aac-45e9-bf7a-6ed767334346",
   "metadata": {},
   "outputs": [
    {
     "name": "stdout",
     "output_type": "stream",
     "text": [
      "['__add__', '__class__', '__class_getitem__', '__contains__', '__delattr__', '__dir__', '__doc__', '__eq__', '__format__', '__ge__', '__getattribute__', '__getitem__', '__getnewargs__', '__getstate__', '__gt__', '__hash__', '__init__', '__init_subclass__', '__iter__', '__le__', '__len__', '__lt__', '__mul__', '__ne__', '__new__', '__reduce__', '__reduce_ex__', '__repr__', '__rmul__', '__setattr__', '__sizeof__', '__str__', '__subclasshook__', 'count', 'index']\n"
     ]
    }
   ],
   "source": [
    "print(dir(tuple))"
   ]
  },
  {
   "cell_type": "markdown",
   "id": "284119dd-a710-46c2-8774-2a8175dc3725",
   "metadata": {
    "id": "284119dd-a710-46c2-8774-2a8175dc3725"
   },
   "source": [
    "### Count\n",
    "\n",
    "- It counts the number of occurrences of an element inside a tuple\n",
    "- By default, if the element is not found, it will return a zero"
   ]
  },
  {
   "cell_type": "code",
   "execution_count": 276,
   "id": "b27533a3-3477-40e0-b74e-e09feff75a42",
   "metadata": {},
   "outputs": [
    {
     "name": "stdout",
     "output_type": "stream",
     "text": [
      "(5, 1, 2, 1, 2, 9, 1, 9, 7, 5, 4, 1)\n"
     ]
    }
   ],
   "source": [
    "np.random.seed(10)\n",
    "t = tuple(np.random.randint(1, 10, 12))\n",
    "print(t)"
   ]
  },
  {
   "cell_type": "code",
   "execution_count": 278,
   "id": "6f69dad2-1030-42ca-b5b1-2f3d4f9e7bc4",
   "metadata": {},
   "outputs": [
    {
     "data": {
      "text/plain": [
       "4"
      ]
     },
     "execution_count": 278,
     "metadata": {},
     "output_type": "execute_result"
    }
   ],
   "source": [
    "t.count(1)"
   ]
  },
  {
   "cell_type": "markdown",
   "id": "3e6e1d0f-9062-42d8-a3c3-1499eaccf3a7",
   "metadata": {
    "id": "3e6e1d0f-9062-42d8-a3c3-1499eaccf3a7"
   },
   "source": [
    "### index()\n",
    "\n",
    "- It returns the index of the first occurrence of an element from left to right\n",
    "- if the element is not found inside the tuple, it will throw a __value error__"
   ]
  },
  {
   "cell_type": "code",
   "execution_count": 280,
   "id": "a0d18bf3-edcf-49dc-a26f-dac7e50eaae4",
   "metadata": {},
   "outputs": [
    {
     "data": {
      "text/plain": [
       "(5, 1, 2, 1, 2, 9, 1, 9, 7, 5, 4, 1)"
      ]
     },
     "execution_count": 280,
     "metadata": {},
     "output_type": "execute_result"
    }
   ],
   "source": [
    "t"
   ]
  },
  {
   "cell_type": "code",
   "execution_count": 282,
   "id": "b23cab08-212f-4295-a037-e91f843e4840",
   "metadata": {},
   "outputs": [
    {
     "ename": "ValueError",
     "evalue": "tuple.index(x): x not in tuple",
     "output_type": "error",
     "traceback": [
      "\u001b[1;31m---------------------------------------------------------------------------\u001b[0m",
      "\u001b[1;31mValueError\u001b[0m                                Traceback (most recent call last)",
      "Cell \u001b[1;32mIn[282], line 1\u001b[0m\n\u001b[1;32m----> 1\u001b[0m t\u001b[38;5;241m.\u001b[39mindex(\u001b[38;5;241m10\u001b[39m)\n",
      "\u001b[1;31mValueError\u001b[0m: tuple.index(x): x not in tuple"
     ]
    }
   ],
   "source": [
    "t.index(10)"
   ]
  },
  {
   "cell_type": "code",
   "execution_count": 284,
   "id": "0866117f-7a3b-44a8-be79-0d0cf7bd6d46",
   "metadata": {},
   "outputs": [
    {
     "data": {
      "text/plain": [
       "1"
      ]
     },
     "execution_count": 284,
     "metadata": {},
     "output_type": "execute_result"
    }
   ],
   "source": [
    "t.index(1)"
   ]
  },
  {
   "cell_type": "code",
   "execution_count": 286,
   "id": "51765bfb-de1e-461b-bc4a-a24df39b5029",
   "metadata": {},
   "outputs": [
    {
     "data": {
      "text/plain": [
       "5"
      ]
     },
     "execution_count": 286,
     "metadata": {},
     "output_type": "execute_result"
    }
   ],
   "source": [
    "t.index(9)"
   ]
  },
  {
   "cell_type": "code",
   "execution_count": 288,
   "id": "ee32f80e-8d95-46d3-8007-dbcedd2af58d",
   "metadata": {},
   "outputs": [
    {
     "ename": "SyntaxError",
     "evalue": "invalid syntax (3318162140.py, line 5)",
     "output_type": "error",
     "traceback": [
      "\u001b[1;36m  Cell \u001b[1;32mIn[288], line 5\u001b[1;36m\u001b[0m\n\u001b[1;33m    file handling and exception handling\u001b[0m\n\u001b[1;37m         ^\u001b[0m\n\u001b[1;31mSyntaxError\u001b[0m\u001b[1;31m:\u001b[0m invalid syntax\n"
     ]
    }
   ],
   "source": [
    "Dictionary - 1.5\n",
    "set and frozenset 0.5\n",
    "functions - 1.5\n",
    "modules - 0.5\n",
    "file handling and exception handling - 2\n",
    "OOPS - 3,4"
   ]
  },
  {
   "cell_type": "code",
   "execution_count": null,
   "id": "b41a4f3a-0625-4464-ad3b-109c38181e3f",
   "metadata": {},
   "outputs": [],
   "source": []
  }
 ],
 "metadata": {
  "colab": {
   "provenance": []
  },
  "kernelspec": {
   "display_name": "Python 3 (ipykernel)",
   "language": "python",
   "name": "python3"
  },
  "language_info": {
   "codemirror_mode": {
    "name": "ipython",
    "version": 3
   },
   "file_extension": ".py",
   "mimetype": "text/x-python",
   "name": "python",
   "nbconvert_exporter": "python",
   "pygments_lexer": "ipython3",
   "version": "3.12.4"
  }
 },
 "nbformat": 4,
 "nbformat_minor": 5
}
