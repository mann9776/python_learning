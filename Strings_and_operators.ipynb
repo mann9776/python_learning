{
 "cells": [
  {
   "cell_type": "code",
   "execution_count": 9,
   "id": "801907d5-a6f8-47f0-86a0-2b3b75cbf3a9",
   "metadata": {},
   "outputs": [
    {
     "name": "stdout",
     "output_type": "stream",
     "text": [
      "Hello Python\n",
      "Hello Python\n",
      "10+20\n",
      "12\n"
     ]
    }
   ],
   "source": [
    "a=\"Hello Python\"\n",
    "print(a)\n",
    "print('Hello'+' Python')\n",
    "print('10'+'+'+'20')\n",
    "print(len(a))"
   ]
  },
  {
   "cell_type": "code",
   "execution_count": 29,
   "id": "02b0d838-c24f-4d42-8673-afefcc4c9c34",
   "metadata": {},
   "outputs": [
    {
     "name": "stdout",
     "output_type": "stream",
     "text": [
      "PyPyPyPy\n",
      "t\n",
      "n\n",
      "P\n",
      "Hello\n",
      "Hloyhn\n",
      "nohtyPolleH\n",
      "HelloPython\n",
      "HelloPython\n",
      "nohtyPolleH\n",
      "oPytho\n"
     ]
    }
   ],
   "source": [
    "a='Py'\n",
    "print(a*4)\n",
    "#Slicing\n",
    "a='Python'\n",
    "print(a[2])\n",
    "print(a[-1])\n",
    "print(a[0])\n",
    "b='HelloPython'\n",
    "print(b[0:5])\n",
    "print(b[0::2])\n",
    "print(b[-1::-1])\n",
    "print(b)\n",
    "print(b[::])\n",
    "print(b[::-1])\n",
    "print(b[4:10])"
   ]
  },
  {
   "cell_type": "code",
   "execution_count": 50,
   "id": "7bb93bd8-c3aa-4495-b574-d4829c1333f5",
   "metadata": {},
   "outputs": [
    {
     "name": "stdout",
     "output_type": "stream",
     "text": [
      "hello python 1921723182512\n",
      "Hello python 1921736616624\n",
      "Hello Python 1921736617904\n",
      "HELLO PYTHON 1921736671728\n",
      "hello python 1921736834928\n",
      "hELLO pYTHON 1921723132848\n",
      "2\n",
      "2\n",
      "3\n"
     ]
    },
    {
     "ename": "ValueError",
     "evalue": "substring not found",
     "output_type": "error",
     "traceback": [
      "\u001b[1;31m---------------------------------------------------------------------------\u001b[0m",
      "\u001b[1;31mValueError\u001b[0m                                Traceback (most recent call last)",
      "Cell \u001b[1;32mIn[50], line 17\u001b[0m\n\u001b[0;32m     15\u001b[0m \u001b[38;5;28mprint\u001b[39m(sw\u001b[38;5;241m.\u001b[39mcount(\u001b[38;5;124m'\u001b[39m\u001b[38;5;124mL\u001b[39m\u001b[38;5;124m'\u001b[39m))\n\u001b[0;32m     16\u001b[0m \u001b[38;5;28mprint\u001b[39m(sw\u001b[38;5;241m.\u001b[39mindex(\u001b[38;5;124m'\u001b[39m\u001b[38;5;124mL\u001b[39m\u001b[38;5;124m'\u001b[39m,\u001b[38;5;241m3\u001b[39m))\n\u001b[1;32m---> 17\u001b[0m \u001b[38;5;28mprint\u001b[39m(sw\u001b[38;5;241m.\u001b[39mindex(\u001b[38;5;124m'\u001b[39m\u001b[38;5;124mL\u001b[39m\u001b[38;5;124m'\u001b[39m,\u001b[38;5;241m4\u001b[39m))\n",
      "\u001b[1;31mValueError\u001b[0m: substring not found"
     ]
    }
   ],
   "source": [
    "#Methods\n",
    "a='hello python'\n",
    "print(a,id(a))\n",
    "b = a.capitalize()\n",
    "print(b,id(b))\n",
    "c = a.title()\n",
    "print(c,id(c))\n",
    "u = a.upper()\n",
    "print(u,id(u))\n",
    "l = u.lower()\n",
    "print(l,id(l))\n",
    "sw = c.swapcase()\n",
    "print(sw,id(sw))\n",
    "print(sw.count('O'))\n",
    "print(sw.count('L'))\n",
    "print(sw.index('L',3))\n",
    "print(sw.index('L',4))"
   ]
  },
  {
   "cell_type": "code",
   "execution_count": 66,
   "id": "f9a8ec23-e337-4901-9906-b23fdc59321e",
   "metadata": {},
   "outputs": [
    {
     "name": "stdout",
     "output_type": "stream",
     "text": [
      "9\n",
      "-1\n",
      "9\n",
      "10\n",
      "4\n"
     ]
    }
   ],
   "source": [
    "print(a.find('h',1))\n",
    "print(a.find('h',1,5))\n",
    "print(a.rfind('h'))\n",
    "print(a.rfind('o'))\n",
    "print(a.find('o'))"
   ]
  },
  {
   "cell_type": "code",
   "execution_count": 72,
   "id": "72302586-dff4-43c5-aac4-55f24fb9e27b",
   "metadata": {},
   "outputs": [
    {
     "name": "stdout",
     "output_type": "stream",
     "text": [
      "['she', 'sells', 'sea', 'shells', 'on', 'the', 'sea', 'shore']\n",
      "['', 'he ', 'ell', ' ', 'ea ', 'hell', ' on the ', 'ea ', 'hore']\n",
      "8048344739\n",
      "9823496743\n",
      "7823465442\n",
      "8048344739\n",
      "9823496743\n",
      "7823465442\n"
     ]
    }
   ],
   "source": [
    "s = 'she sells sea shells on the sea shore'\n",
    "print(s.split(' '))\n",
    "print(s.split('s'))\n",
    "a = ['+91-8048344739', '+91-9823496743', '+91-7823465442']\n",
    "for i in a:\n",
    "    b = i.split('-')\n",
    "    print(b[1])\n",
    "\n",
    "for i in a:\n",
    "    print(i.split('-')[1])"
   ]
  },
  {
   "cell_type": "code",
   "execution_count": 84,
   "id": "94dc59e7-d10d-4fb6-a768-f91d81892c35",
   "metadata": {},
   "outputs": [
    {
     "name": "stdout",
     "output_type": "stream",
     "text": [
      "['she', 'sells', 'sea', 'shells', 'on', 'the', 'sea', 'shore']\n",
      "shesellsseashellsontheseashore\n",
      "she sells sea shells on the sea shore\n",
      "she-sells-sea-shells-on-the-sea-shore\n",
      "150\n",
      "150$\n",
      "$150\n",
      "$150$$$\n",
      "$$$150$\n",
      "$$$150$$$\n"
     ]
    }
   ],
   "source": [
    "a = s.split(' ')\n",
    "print(a)\n",
    "print(''.join(a))\n",
    "print(' '.join(a))\n",
    "print('-'.join(a))\n",
    "a = '$150$'\n",
    "print(a.strip('$'))\n",
    "print(a.lstrip('$'))\n",
    "print(a.rstrip('$'))\n",
    "print(a.ljust(7,'$'))\n",
    "print(a.rjust(7,'$'))\n",
    "print(a.center(9,'$'))"
   ]
  },
  {
   "cell_type": "code",
   "execution_count": 90,
   "id": "53f55622-0b6b-4fe7-9384-a3e2c61ca699",
   "metadata": {},
   "outputs": [
    {
     "name": "stdout",
     "output_type": "stream",
     "text": [
      "False\n",
      "True\n",
      "True\n",
      "True\n",
      "False\n",
      "False\n"
     ]
    }
   ],
   "source": [
    "print(a.isalnum())\n",
    "b = '10'\n",
    "print(b.isalnum())\n",
    "b='fejodjo'\n",
    "print(b.isalnum())\n",
    "b='43rfv'\n",
    "print(b.isalnum())\n",
    "b='fdcd_234'\n",
    "print(b.isalnum())\n",
    "b='Hello Python'\n",
    "print(b.isalnum())"
   ]
  },
  {
   "cell_type": "code",
   "execution_count": 117,
   "id": "ec9e2e33-9717-445e-8103-654564c30a89",
   "metadata": {},
   "outputs": [
    {
     "name": "stdout",
     "output_type": "stream",
     "text": [
      "True\n",
      "False\n",
      "False\n",
      "False\n",
      "True\n",
      "True\n",
      "True\n",
      "False\n",
      "False\n",
      "False\n",
      "True\n",
      "True\n",
      "False\n",
      "True\n",
      "True\n",
      "False\n",
      "True\n",
      "False\n"
     ]
    }
   ],
   "source": [
    "a = 'manmohan'\n",
    "print(a.isalpha())\n",
    "b = 'manmohan10'\n",
    "print(b.isalpha())\n",
    "print('manmohan_'.isalpha())\n",
    "print('manmohan'.isupper())\n",
    "print('MANMOHAN'.isupper())\n",
    "print(a.islower())\n",
    "print('Hello Python'.istitle())\n",
    "print('a'.istitle())\n",
    "print('Hello Python'.isspace())\n",
    "print('Hello\\nPython'.isspace())\n",
    "print('\\r'.isspace())\n",
    "print('Hello Python'.startswith('He'))\n",
    "print('Hello Python'.endswith('He'))\n",
    "print('Hello Python'.endswith('on'))\n",
    "a = 'lime'\n",
    "b = '75fvdg'\n",
    "c = 'd3d_43cd'\n",
    "d = 'cdfc@df_'\n",
    "print(a.isidentifier())\n",
    "print(b.isidentifier())\n",
    "print(c.isidentifier())\n",
    "print(d.isidentifier())"
   ]
  },
  {
   "cell_type": "code",
   "execution_count": 120,
   "id": "01ce6b3d-e12f-4b28-865f-58c7cfcfae56",
   "metadata": {},
   "outputs": [
    {
     "name": "stdout",
     "output_type": "stream",
     "text": [
      "rice\n",
      "Hello Monday\n"
     ]
    }
   ],
   "source": [
    "a = 'Nice'\n",
    "print(a.replace('N','r'))\n",
    "print('Hello Sunday'.replace('Sunday','Monday'))"
   ]
  },
  {
   "cell_type": "code",
   "execution_count": 133,
   "id": "23513aa4-5487-4d00-9194-f975ea59245c",
   "metadata": {},
   "outputs": [
    {
     "name": "stdout",
     "output_type": "stream",
     "text": [
      "False\n",
      "True\n",
      "True\n",
      "True\n",
      "True\n",
      "False\n",
      "False\n",
      "False\n",
      "½\n",
      "['__add__', '__class__', '__contains__', '__delattr__', '__dir__', '__doc__', '__eq__', '__format__', '__ge__', '__getattribute__', '__getitem__', '__getnewargs__', '__getstate__', '__gt__', '__hash__', '__init__', '__init_subclass__', '__iter__', '__le__', '__len__', '__lt__', '__mod__', '__mul__', '__ne__', '__new__', '__reduce__', '__reduce_ex__', '__repr__', '__rmod__', '__rmul__', '__setattr__', '__sizeof__', '__str__', '__subclasshook__', 'capitalize', 'casefold', 'center', 'count', 'encode', 'endswith', 'expandtabs', 'find', 'format', 'format_map', 'index', 'isalnum', 'isalpha', 'isascii', 'isdecimal', 'isdigit', 'isidentifier', 'islower', 'isnumeric', 'isprintable', 'isspace', 'istitle', 'isupper', 'join', 'ljust', 'lower', 'lstrip', 'maketrans', 'partition', 'removeprefix', 'removesuffix', 'replace', 'rfind', 'rindex', 'rjust', 'rpartition', 'rsplit', 'rstrip', 'split', 'splitlines', 'startswith', 'strip', 'swapcase', 'title', 'translate', 'upper', 'zfill']\n"
     ]
    }
   ],
   "source": [
    "print('IV'.isnumeric())\n",
    "print('432'.isnumeric())\n",
    "print('432'.isdigit())\n",
    "print('432'.isdecimal())\n",
    "print('2\\u00B2'.isdigit())\n",
    "print('2\\u00B2'.isdecimal())\n",
    "print(\"'5'+chr(189)\".isdigit())\n",
    "print('chr(189)'.isnumeric())\n",
    "print(chr(189))\n",
    "print(dir(str))"
   ]
  },
  {
   "cell_type": "code",
   "execution_count": 141,
   "id": "b5af72dc-c01f-43b1-bccd-62092cbdd26c",
   "metadata": {},
   "outputs": [
    {
     "name": "stdout",
     "output_type": "stream",
     "text": [
      "2.0\n",
      "0.5\n",
      "50\n",
      "100\n",
      "1\n",
      "1\n",
      "4\n"
     ]
    }
   ],
   "source": [
    "# Operations with data types\n",
    "a=10\n",
    "b=5\n",
    "print(a/b)\n",
    "print(b/a)\n",
    "print(a*b)\n",
    "print(a**2)\n",
    "print(a%3)\n",
    "print(b//3)\n",
    "print((9+3)**3//2%5)"
   ]
  },
  {
   "cell_type": "code",
   "execution_count": 147,
   "id": "6772ed50-af32-4076-817b-1fbe9b72d1da",
   "metadata": {},
   "outputs": [
    {
     "name": "stdout",
     "output_type": "stream",
     "text": [
      "[1, 2, 3, 4, 100]\n"
     ]
    }
   ],
   "source": [
    "lst = [1,2,3,4]\n",
    "lst.append(100)\n",
    "print(lst)"
   ]
  },
  {
   "cell_type": "code",
   "execution_count": 157,
   "id": "e3b48d65-711e-4f80-8aa7-fd0e328a0758",
   "metadata": {},
   "outputs": [
    {
     "name": "stdout",
     "output_type": "stream",
     "text": [
      "4\n",
      "[100, 4, 3, 2, 1]\n",
      "[3, 4, 100]\n",
      "[100, 4, 3]\n",
      "[4, 3]\n"
     ]
    }
   ],
   "source": [
    "print(lst[3])\n",
    "print(lst[::-1])\n",
    "print(lst[2:5])\n",
    "print(lst[5:1:-1])\n",
    "print(lst[-2:-4:-1])"
   ]
  },
  {
   "cell_type": "code",
   "execution_count": 162,
   "id": "952e12e8-3025-433b-9300-ac3cb5ddc9a0",
   "metadata": {},
   "outputs": [
    {
     "name": "stdout",
     "output_type": "stream",
     "text": [
      "[0, 1, 2, 3, 4, 5, 6, 7, 8, 9]\n",
      "[10, 8, 6, 4]\n",
      "[('Name', 'Mike'), ('City', 'New York'), ('Age', 33)]\n"
     ]
    }
   ],
   "source": [
    "lst = list(range(10))\n",
    "print(lst)\n",
    "print(list(range(10,2,-2)))\n",
    "d={'Name':'Mike','City':'New York','Age':33}\n",
    "lst1 = list(d.items())\n",
    "print(lst1)"
   ]
  },
  {
   "cell_type": "code",
   "execution_count": 163,
   "id": "c83ae1c3-055d-4065-90fa-b1fc387697e2",
   "metadata": {},
   "outputs": [
    {
     "name": "stdin",
     "output_type": "stream",
     "text": [
      "Enter values of the list: 12 34 56 2 3 10\n"
     ]
    },
    {
     "name": "stdout",
     "output_type": "stream",
     "text": [
      "['1', '2', ' ', '3', '4', ' ', '5', '6', ' ', '2', ' ', '3', ' ', '1', '0'] <class 'list'>\n"
     ]
    }
   ],
   "source": [
    "lst = list(input('Enter values of the list:'))\n",
    "print(lst,type(lst))"
   ]
  },
  {
   "cell_type": "code",
   "execution_count": 165,
   "id": "f12ed791-8103-4ca2-97c7-da075bb9d217",
   "metadata": {},
   "outputs": [
    {
     "name": "stdin",
     "output_type": "stream",
     "text": [
      "Enter number of elements of the list:  4\n",
      "Enter a elementof the list 12\n",
      "Enter a elementof the list 2\n",
      "Enter a elementof the list 34\n",
      "Enter a elementof the list 435\n"
     ]
    },
    {
     "name": "stdout",
     "output_type": "stream",
     "text": [
      "[12, 2, 34, 435] <class 'list'>\n"
     ]
    }
   ],
   "source": [
    "lst = []\n",
    "n = int(input('Enter number of elements of the list: '))\n",
    "for i in range(n):\n",
    "    a = int(input('Enter a elementof the list'))\n",
    "    lst.append(a)\n",
    "print(lst,type(lst))\n"
   ]
  },
  {
   "cell_type": "code",
   "execution_count": 167,
   "id": "4670f432-7976-4950-88e7-05fbafc55651",
   "metadata": {},
   "outputs": [
    {
     "name": "stdin",
     "output_type": "stream",
     "text": [
      "Enter number of elements of the list: 4\n",
      "Enter the element of the list: 12324\n",
      "Enter the element of the list: 'Python'\n",
      "Enter the element of the list: range(10)\n",
      "Enter the element of the list: [1,2,3,4]\n"
     ]
    },
    {
     "name": "stdout",
     "output_type": "stream",
     "text": [
      "[12324, 'Python', range(0, 10), [1, 2, 3, 4]] <class 'list'>\n"
     ]
    }
   ],
   "source": [
    "lst = []\n",
    "n = int(input('Enter number of elements of the list:'))\n",
    "for i in range(n):\n",
    "    a = eval(input('Enter the element of the list:'))\n",
    "    lst.append(a)\n",
    "print(lst,type(lst))"
   ]
  },
  {
   "cell_type": "code",
   "execution_count": 168,
   "id": "114e0fa3-e00a-495c-8bf0-47f72ff8f620",
   "metadata": {},
   "outputs": [
    {
     "name": "stdout",
     "output_type": "stream",
     "text": [
      "(1, 2, 3, 5, 6, 7) <class 'tuple'>\n"
     ]
    }
   ],
   "source": [
    "a=1,2,3,5,6,7\n",
    "print(a,type(a))"
   ]
  },
  {
   "cell_type": "code",
   "execution_count": 170,
   "id": "28821d9f-5345-433f-ac52-273dff399127",
   "metadata": {},
   "outputs": [
    {
     "name": "stdout",
     "output_type": "stream",
     "text": [
      "[1, 2, 3, 3, 5, 5, 6, 9]\n"
     ]
    }
   ],
   "source": [
    "lst1 = [2,1,3,5,3,9,5,6]\n",
    "lst1.sort()\n",
    "print(lst1)"
   ]
  },
  {
   "cell_type": "code",
   "execution_count": 172,
   "id": "5982fe7b-6206-4a3b-aca9-1153234f5774",
   "metadata": {},
   "outputs": [
    {
     "name": "stdout",
     "output_type": "stream",
     "text": [
      "[1, 2, 3, 3, 5, 5, 6, 9]\n",
      "[1, 2, 3, 5, 5, 6, 9]\n"
     ]
    }
   ],
   "source": [
    "lst1.reverse()\n",
    "print(lst1)\n",
    "lst1.pop(2)\n",
    "print(lst1)"
   ]
  },
  {
   "cell_type": "code",
   "execution_count": 181,
   "id": "caf9fe31-c105-4784-a4c4-bcdeb0ea9f92",
   "metadata": {},
   "outputs": [
    {
     "name": "stdout",
     "output_type": "stream",
     "text": [
      "[10, 5, 1, 2, 10, 1, 2, 9, 10, 1, 9, 7, 5, 4, 1, 5, 7, 9, 2, 9, 5, 2, 4, 7, 6, 4, 10, 7, 10, 2, 10, 5, 3, 7, 8, 9]\n",
      "6\n",
      "[5, 1, 2, 10, 1, 2, 9, 10, 1, 9, 7, 5, 4, 1, 5, 7, 9, 2, 9, 5, 2, 4, 7, 6, 4, 10, 7, 10, 2, 10, 5, 3, 7, 8, 9]\n"
     ]
    }
   ],
   "source": [
    "import numpy as np\n",
    "np.random.seed(10)\n",
    "arr = list(np.random.randint(1,11,36))\n",
    "print(arr)\n",
    "print(arr.count(10))\n",
    "arr.remove(10)\n",
    "print(arr)"
   ]
  },
  {
   "cell_type": "code",
   "execution_count": null,
   "id": "795b524c-5eb1-4e0b-b3af-e3a8eacf4298",
   "metadata": {},
   "outputs": [],
   "source": []
  }
 ],
 "metadata": {
  "kernelspec": {
   "display_name": "Python 3 (ipykernel)",
   "language": "python",
   "name": "python3"
  },
  "language_info": {
   "codemirror_mode": {
    "name": "ipython",
    "version": 3
   },
   "file_extension": ".py",
   "mimetype": "text/x-python",
   "name": "python",
   "nbconvert_exporter": "python",
   "pygments_lexer": "ipython3",
   "version": "3.11.7"
  }
 },
 "nbformat": 4,
 "nbformat_minor": 5
}
