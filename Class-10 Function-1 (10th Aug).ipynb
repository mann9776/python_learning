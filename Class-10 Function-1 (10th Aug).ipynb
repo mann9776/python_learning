{
 "cells": [
  {
   "cell_type": "markdown",
   "id": "dfc0b54a-c8d9-4131-8dc3-34af6d1faf9d",
   "metadata": {},
   "source": [
    "### Functions\n",
    "\n",
    "- A function is a block of code that gets executed as and when it is called\n",
    "- A function is used to reuse a code\n",
    "- By using function, we write the code once and we use it n number of times in the same program\n",
    "- A function helps us to reduce the lines of the code in a program\n",
    "\n",
    "\n",
    "__Syntax:__\n",
    "                \n",
    "                # Function declaration  \n",
    "            \n",
    "                          def function_name():\n",
    "                              code\n",
    "                              code\n",
    "                              return some value\n",
    "                              \n",
    "                # Function calling\n",
    "                            \n",
    "                            function_name()"
   ]
  },
  {
   "cell_type": "code",
   "execution_count": 5,
   "id": "2cc2c3d4-2dd7-4fdf-a7a5-2ec2d2f41693",
   "metadata": {},
   "outputs": [
    {
     "name": "stdin",
     "output_type": "stream",
     "text": [
      "Enter a number:  10\n",
      "Enter a number:  20\n"
     ]
    },
    {
     "name": "stdout",
     "output_type": "stream",
     "text": [
      "30\n"
     ]
    }
   ],
   "source": [
    "a = int(input('Enter a number: '))\n",
    "b = int(input('Enter a number: '))\n",
    "\n",
    "c = a+b\n",
    "print(c)"
   ]
  },
  {
   "cell_type": "markdown",
   "id": "cb7e966b-d800-4a78-abb5-1d1ccf6783d7",
   "metadata": {},
   "source": [
    "### Type of Functions\n",
    "\n",
    "- Built-in function or In-built functions\n",
    "- User-defined Functions (functions created by us )\n",
    "\n",
    "\n",
    "#### Built-in Functions or In-built Functions\n",
    "    \n",
    "- Those functions that are already defined in Python are Known as in-built functions or predefined functions\n",
    "- As a user, we have not created them we will just use them\n",
    "- Examples: print(), len(), help(), id(), ord(), chr(), type() etc\n",
    "  \n",
    "#### User-defined Functions\n",
    "\n",
    "- The functions that are defined or created by the user are known as user-defined functions\n",
    "- In user-defined functions, the programmer has to write their logic on how the function should work\n",
    "- We create functions to solve a particular problem\n",
    "- A user-defined function is defined by using a def keyword amd a lambda keyword"
   ]
  },
  {
   "cell_type": "markdown",
   "id": "a5c0ea77-23d5-4289-971b-d6b8b6c370af",
   "metadata": {},
   "source": [
    "### Components of a User-defined functions\n",
    "\n",
    "- Function definition or function declaration\n",
    "- Function call\n",
    "\n",
    "#### Function Declaration or Definition:\n",
    "\n",
    "    - This is the place where we define a function with a name, writes a logic (code) on what will be the functionality of the function we have craeted\n",
    "    \n",
    "    Syntax:\n",
    "        \n",
    "        def function_name():\n",
    "            \n",
    "            # function body\n",
    "            code\n",
    "            code\n",
    "            code\n",
    "            code\n",
    "            code"
   ]
  },
  {
   "cell_type": "code",
   "execution_count": 15,
   "id": "2b18592c-a301-43be-ae39-2b2b6a29055b",
   "metadata": {},
   "outputs": [],
   "source": [
    "def add():\n",
    "    a = int(input('Enter a number: '))\n",
    "    b = int(input('Enter a number: '))\n",
    "\n",
    "    c = a+b\n",
    "    return c"
   ]
  },
  {
   "cell_type": "markdown",
   "id": "9c1d0851-d6c2-48a9-ab52-3fcd0dbd7e96",
   "metadata": {},
   "source": [
    "#### Function Call\n",
    "\n",
    "- A function call is a kind of a trigger\n",
    "- As and when called the defined function will be executed and we will get the desired result there only\n",
    "\n",
    "__Syntax:__\n",
    "        \n",
    "        function_name()"
   ]
  },
  {
   "cell_type": "code",
   "execution_count": 18,
   "id": "8e9862ba-31e7-4292-83fa-ceb10d907be4",
   "metadata": {},
   "outputs": [
    {
     "name": "stdin",
     "output_type": "stream",
     "text": [
      "Enter a number:  1\n",
      "Enter a number:  2\n"
     ]
    },
    {
     "data": {
      "text/plain": [
       "3"
      ]
     },
     "execution_count": 18,
     "metadata": {},
     "output_type": "execute_result"
    }
   ],
   "source": [
    "add()"
   ]
  },
  {
   "cell_type": "code",
   "execution_count": 22,
   "id": "14f2305a-99e7-4d0f-8263-27a4bf2f6617",
   "metadata": {},
   "outputs": [],
   "source": [
    "def add_1(a,b):\n",
    "    return a+b"
   ]
  },
  {
   "cell_type": "code",
   "execution_count": 24,
   "id": "6d0227eb-de38-4031-983e-2257f0b6417d",
   "metadata": {},
   "outputs": [
    {
     "data": {
      "text/plain": [
       "15"
      ]
     },
     "execution_count": 24,
     "metadata": {},
     "output_type": "execute_result"
    }
   ],
   "source": [
    "add_1(7,8) # a = 7, b = 8"
   ]
  },
  {
   "cell_type": "code",
   "execution_count": 29,
   "id": "9a896387-4aec-4f37-b82f-3181d7094f92",
   "metadata": {},
   "outputs": [
    {
     "data": {
      "text/plain": [
       "15"
      ]
     },
     "execution_count": 29,
     "metadata": {},
     "output_type": "execute_result"
    }
   ],
   "source": [
    "x = 10\n",
    "y = 5\n",
    "\n",
    "add_1(x,y)"
   ]
  },
  {
   "cell_type": "markdown",
   "id": "04e5ff6b-e3c4-4818-9e2c-797dd9dba271",
   "metadata": {},
   "source": [
    "### Types of User-Defined function\n",
    "\n",
    "- Parameterised functions\n",
    "- Non-Parameterised functions\n",
    "\n",
    "#### Parameterised functions\n",
    "    \n",
    "- When we pass parameters inside a function declaration then it is called as parameterized function\n",
    "\n",
    "#### Non-Parameterised functions\n",
    "    \n",
    "- When we are not passing any parameters inside a function they are called non-parameterised functions\n",
    "    \n",
    "#### Parameter\n",
    "\n",
    "- When we pass variables inside a function declaration then those variables are called as parameters\n",
    "  \n",
    "#### Arguments\n",
    "    \n",
    "- When we pass variables inside the function call then those variables are called arguments"
   ]
  },
  {
   "cell_type": "markdown",
   "id": "e25bfd07-6e9e-415b-981f-0ea7fce09b0d",
   "metadata": {},
   "source": [
    "### Global and Local variable\n",
    "\n",
    "#### Global Variables\n",
    "    \n",
    "- The variables that are defined outside the function are known as global variables\n",
    "- The Global variable has a scope both outside as well as inside the function\n",
    "    \n",
    "#### Local Variable\n",
    "\n",
    "- The variables that are defined inside a function are known as local variables\n",
    "- The local variables have the scope only inside the function\n",
    "- We cannot use the local variable outside the function"
   ]
  },
  {
   "cell_type": "code",
   "execution_count": 32,
   "id": "c97af641-e30f-43aa-a7f4-542beefa440c",
   "metadata": {},
   "outputs": [
    {
     "name": "stdout",
     "output_type": "stream",
     "text": [
      "10\n"
     ]
    }
   ],
   "source": [
    "a = 10 # global \n",
    "\n",
    "def test():\n",
    "    k = a+1 # k = 10+1 ---> k = 11\n",
    "    print(k)\n",
    "\n",
    "print(a)"
   ]
  },
  {
   "cell_type": "code",
   "execution_count": 36,
   "id": "b21a7105-70a8-4eb6-8744-207383f2ee69",
   "metadata": {},
   "outputs": [
    {
     "ename": "NameError",
     "evalue": "name 'k' is not defined",
     "output_type": "error",
     "traceback": [
      "\u001b[1;31m---------------------------------------------------------------------------\u001b[0m",
      "\u001b[1;31mNameError\u001b[0m                                 Traceback (most recent call last)",
      "Cell \u001b[1;32mIn[36], line 1\u001b[0m\n\u001b[1;32m----> 1\u001b[0m \u001b[38;5;28mprint\u001b[39m(k)\n",
      "\u001b[1;31mNameError\u001b[0m: name 'k' is not defined"
     ]
    }
   ],
   "source": [
    "print(k)"
   ]
  },
  {
   "cell_type": "code",
   "execution_count": 38,
   "id": "af1413e2-51e1-40ef-a1e2-5ee81bd9a073",
   "metadata": {},
   "outputs": [
    {
     "name": "stdout",
     "output_type": "stream",
     "text": [
      "11\n"
     ]
    }
   ],
   "source": [
    "test()"
   ]
  },
  {
   "cell_type": "markdown",
   "id": "5bf24906-6113-45a0-bf23-0b09b601874a",
   "metadata": {},
   "source": [
    "### Return vs Print\n",
    "\n",
    "#### Print\n",
    "     \n",
    "- when we use print statement in a program, we are essentially asking the interpretor to display something, typically for the benefit of the user or for debugging purposes.\n",
    "- It does not affects the flow of the program or provide any data that can be manipulated further\n",
    "- if we are going to store this print statement in a variable and check the type of it, it will return a __None__ datattype\n",
    "\n",
    "#### Return\n",
    "\n",
    "- It is used within functions to send a value or data back to the caller\n",
    "- So that it can be manipulated further\n",
    "- if we are going to store this print statement in a variable and check the type of it, it will return a value\n",
    "- It terminates the function declaration   "
   ]
  },
  {
   "cell_type": "code",
   "execution_count": 41,
   "id": "26fb363b-e4c3-4991-b38b-6e86bb4ec7f6",
   "metadata": {},
   "outputs": [
    {
     "name": "stdout",
     "output_type": "stream",
     "text": [
      "10\n"
     ]
    }
   ],
   "source": [
    "print(a)"
   ]
  },
  {
   "cell_type": "code",
   "execution_count": 43,
   "id": "9b6eca81-4fb3-49b5-a314-8d289a7f8f96",
   "metadata": {},
   "outputs": [],
   "source": [
    "def add(x,y):\n",
    "    print(x+y)"
   ]
  },
  {
   "cell_type": "code",
   "execution_count": 45,
   "id": "2fa3ad80-abce-4c90-8f82-8e1a5a3eea85",
   "metadata": {},
   "outputs": [
    {
     "name": "stdout",
     "output_type": "stream",
     "text": [
      "17\n",
      "None\n"
     ]
    }
   ],
   "source": [
    "x = add(8,9)\n",
    "print(x)"
   ]
  },
  {
   "cell_type": "code",
   "execution_count": 47,
   "id": "1e54b9e3-7af3-4e26-8c34-bf6a606da072",
   "metadata": {},
   "outputs": [],
   "source": [
    "def add_1(x,y):\n",
    "    return x+y\n"
   ]
  },
  {
   "cell_type": "code",
   "execution_count": 51,
   "id": "c40c9c13-fe82-46d3-b380-e38a3f55d59d",
   "metadata": {},
   "outputs": [
    {
     "name": "stdout",
     "output_type": "stream",
     "text": [
      "9\n"
     ]
    }
   ],
   "source": [
    "y = add_1(8,1) # x = 8, y = 1\n",
    "print(y)"
   ]
  },
  {
   "cell_type": "code",
   "execution_count": 53,
   "id": "0ee1bb01-df62-4748-94ad-fc60341a65e3",
   "metadata": {},
   "outputs": [
    {
     "ename": "TypeError",
     "evalue": "unsupported operand type(s) for +: 'NoneType' and 'int'",
     "output_type": "error",
     "traceback": [
      "\u001b[1;31m---------------------------------------------------------------------------\u001b[0m",
      "\u001b[1;31mTypeError\u001b[0m                                 Traceback (most recent call last)",
      "Cell \u001b[1;32mIn[53], line 1\u001b[0m\n\u001b[1;32m----> 1\u001b[0m x\u001b[38;5;241m+\u001b[39m\u001b[38;5;241m1\u001b[39m\n",
      "\u001b[1;31mTypeError\u001b[0m: unsupported operand type(s) for +: 'NoneType' and 'int'"
     ]
    }
   ],
   "source": [
    "x+1"
   ]
  },
  {
   "cell_type": "code",
   "execution_count": 55,
   "id": "788770dc-81bc-4c25-adc4-956fbb179c71",
   "metadata": {},
   "outputs": [
    {
     "data": {
      "text/plain": [
       "10"
      ]
     },
     "execution_count": 55,
     "metadata": {},
     "output_type": "execute_result"
    }
   ],
   "source": [
    "y+1"
   ]
  },
  {
   "cell_type": "code",
   "execution_count": 58,
   "id": "1e29e00c-47be-4d39-a507-a7f8f85e012b",
   "metadata": {},
   "outputs": [],
   "source": [
    "def mul(x,y):\n",
    "    return x*y\n",
    "    print(x)\n",
    "    print(y)"
   ]
  },
  {
   "cell_type": "code",
   "execution_count": 60,
   "id": "ff0195d0-2346-4989-9b4f-df347239da4c",
   "metadata": {},
   "outputs": [
    {
     "data": {
      "text/plain": [
       "12"
      ]
     },
     "execution_count": 60,
     "metadata": {},
     "output_type": "execute_result"
    }
   ],
   "source": [
    "mul(4,3)"
   ]
  },
  {
   "cell_type": "markdown",
   "id": "74c0a62c-164a-478e-bcd6-ee7fa5c16db6",
   "metadata": {},
   "source": [
    "- A function may or may not return a value\n",
    "- return statement is used to return a value from the function\n",
    "- return statement returns the value back to the function call\n",
    "- we assign the function to a variable, so that we can handle the return value for further processing\n",
    "- If we want to use the result, we have to assign the function call to a variable\n",
    "- return statement will terminate the function declaration\n",
    "\n",
    "__Note:__ print() statement does not return anything, it returns a None Datatype"
   ]
  },
  {
   "cell_type": "code",
   "execution_count": null,
   "id": "736540c9-128b-46e5-8d7e-6c1699958a92",
   "metadata": {},
   "outputs": [],
   "source": [
    "# # I want create function for adding two numbers, \n",
    "# subtracting two number\n",
    "# muktiplying two number\n",
    "# dividing two numbers\n",
    "# floor_division\n",
    "# exponential"
   ]
  },
  {
   "cell_type": "code",
   "execution_count": 64,
   "id": "167658c8-f0d6-4e91-b7a1-61b15559ee75",
   "metadata": {},
   "outputs": [],
   "source": [
    "def add(m,n):\n",
    "    return m+n"
   ]
  },
  {
   "cell_type": "code",
   "execution_count": 80,
   "id": "fb60a62e-5fd1-49e3-8f79-322fb82f4dcd",
   "metadata": {},
   "outputs": [
    {
     "data": {
      "text/plain": [
       "4"
      ]
     },
     "execution_count": 80,
     "metadata": {},
     "output_type": "execute_result"
    }
   ],
   "source": [
    "add(1,3)"
   ]
  },
  {
   "cell_type": "code",
   "execution_count": 82,
   "id": "8f245f17-30a2-4a41-ae5f-caa2defdee13",
   "metadata": {},
   "outputs": [
    {
     "data": {
      "text/plain": [
       "300"
      ]
     },
     "execution_count": 82,
     "metadata": {},
     "output_type": "execute_result"
    }
   ],
   "source": [
    "add(100,200)"
   ]
  },
  {
   "cell_type": "code",
   "execution_count": 66,
   "id": "546194be-5b33-427d-bbe0-0096fa0e2fc3",
   "metadata": {},
   "outputs": [],
   "source": [
    "def sub(m,n):\n",
    "    return m-n"
   ]
  },
  {
   "cell_type": "code",
   "execution_count": 84,
   "id": "794b5f74-fa0a-4e34-a4e4-78474aeca697",
   "metadata": {},
   "outputs": [
    {
     "data": {
      "text/plain": [
       "1"
      ]
     },
     "execution_count": 84,
     "metadata": {},
     "output_type": "execute_result"
    }
   ],
   "source": [
    "sub(9,8)"
   ]
  },
  {
   "cell_type": "code",
   "execution_count": 86,
   "id": "d75ae7ab-4d02-4cb5-90cb-ae615b30584b",
   "metadata": {},
   "outputs": [
    {
     "data": {
      "text/plain": [
       "-300"
      ]
     },
     "execution_count": 86,
     "metadata": {},
     "output_type": "execute_result"
    }
   ],
   "source": [
    "sub(-100, 200)# m = -100, n = 200\n",
    "# m-n --> -100-200 ---> -300"
   ]
  },
  {
   "cell_type": "code",
   "execution_count": 70,
   "id": "e4c1930a-7b80-4eb6-96c1-d6403449c1de",
   "metadata": {},
   "outputs": [],
   "source": [
    "def mul(a,b):\n",
    "    return a*b\n"
   ]
  },
  {
   "cell_type": "code",
   "execution_count": 88,
   "id": "89870b41-fc60-45c9-b08a-1fbb904c5e0b",
   "metadata": {},
   "outputs": [
    {
     "data": {
      "text/plain": [
       "42"
      ]
     },
     "execution_count": 88,
     "metadata": {},
     "output_type": "execute_result"
    }
   ],
   "source": [
    "mul(7,6)\n",
    "# a = 7, b = 6\n",
    "# a*b = 7*6 = 42"
   ]
  },
  {
   "cell_type": "code",
   "execution_count": 76,
   "id": "e65595e1-c253-44ae-b51d-5c54b9855751",
   "metadata": {},
   "outputs": [],
   "source": [
    "def div(m,n):\n",
    "    return m/n"
   ]
  },
  {
   "cell_type": "code",
   "execution_count": 90,
   "id": "2801c75d-c95a-4928-a151-101078aa2aaf",
   "metadata": {},
   "outputs": [
    {
     "data": {
      "text/plain": [
       "5.0"
      ]
     },
     "execution_count": 90,
     "metadata": {},
     "output_type": "execute_result"
    }
   ],
   "source": [
    "div(10,2)"
   ]
  },
  {
   "cell_type": "code",
   "execution_count": null,
   "id": "cae9dcc2-d070-4cbb-9f9f-ca6fc647105d",
   "metadata": {},
   "outputs": [],
   "source": []
  },
  {
   "cell_type": "code",
   "execution_count": 74,
   "id": "002274a5-8b21-474d-9d1e-dd648780fedc",
   "metadata": {},
   "outputs": [],
   "source": [
    "def floor_div(m,n):\n",
    "    return m//n"
   ]
  },
  {
   "cell_type": "code",
   "execution_count": null,
   "id": "bfd4ff18-4307-4c8f-afa6-19e09fd9f623",
   "metadata": {},
   "outputs": [],
   "source": []
  },
  {
   "cell_type": "code",
   "execution_count": 78,
   "id": "79803066-34f3-4cc6-b468-83d1c7adc55d",
   "metadata": {},
   "outputs": [],
   "source": [
    "def exponential(m,n):\n",
    "    return m**n"
   ]
  },
  {
   "cell_type": "code",
   "execution_count": 92,
   "id": "e8474c39-8ec4-4de7-ac55-eb2471d0004c",
   "metadata": {},
   "outputs": [
    {
     "data": {
      "text/plain": [
       "['she', 'sells', 'sea', 'shells', 'on', 'the', 'sea', 'shore']"
      ]
     },
     "execution_count": 92,
     "metadata": {},
     "output_type": "execute_result"
    }
   ],
   "source": [
    "a = 'she sells sea shells on the sea shore'\n",
    "a.split()"
   ]
  },
  {
   "cell_type": "code",
   "execution_count": 94,
   "id": "024c77d0-d0c5-4388-ac1a-d08625bf44ae",
   "metadata": {},
   "outputs": [],
   "source": [
    "def mimic_split(n):\n",
    "    lst = []\n",
    "    word = ''\n",
    "\n",
    "    for i in n:\n",
    "        if i != ' ':\n",
    "            word = word +i\n",
    "\n",
    "        else:\n",
    "            lst = lst+[word]\n",
    "            word = ''\n",
    "    lst = lst+[word]\n",
    "    return lst"
   ]
  },
  {
   "cell_type": "code",
   "execution_count": 96,
   "id": "da35d459-f738-4014-a0b4-7ebb78d36847",
   "metadata": {},
   "outputs": [
    {
     "data": {
      "text/plain": [
       "['she', 'sells', 'sea', 'shells', 'on', 'the', 'sea', 'shore']"
      ]
     },
     "execution_count": 96,
     "metadata": {},
     "output_type": "execute_result"
    }
   ],
   "source": [
    "mimic_split('she sells sea shells on the sea shore')"
   ]
  },
  {
   "cell_type": "code",
   "execution_count": 98,
   "id": "df83f2a5-2a04-4ac0-bb17-413b2c128d64",
   "metadata": {},
   "outputs": [
    {
     "data": {
      "text/plain": [
       "['Mayank', 'Atul', 'Ghai']"
      ]
     },
     "execution_count": 98,
     "metadata": {},
     "output_type": "execute_result"
    }
   ],
   "source": [
    "mimic_split('Mayank Atul Ghai')"
   ]
  },
  {
   "cell_type": "code",
   "execution_count": null,
   "id": "60555912-65ed-40f0-9510-0b9a30dfa556",
   "metadata": {},
   "outputs": [],
   "source": [
    "Function which are defined in a class is known as method of that class"
   ]
  },
  {
   "cell_type": "code",
   "execution_count": 100,
   "id": "672dee9c-bdeb-457c-9e9a-282f244af735",
   "metadata": {},
   "outputs": [],
   "source": [
    "a = 'Mayank'"
   ]
  },
  {
   "cell_type": "code",
   "execution_count": null,
   "id": "a14cf19b-2031-4849-8be7-91b135e6181e",
   "metadata": {},
   "outputs": [],
   "source": [
    "a."
   ]
  },
  {
   "cell_type": "code",
   "execution_count": 102,
   "id": "74bbe63d-ae39-4a1a-8401-7654c25fc4c1",
   "metadata": {},
   "outputs": [
    {
     "ename": "NameError",
     "evalue": "name 'split' is not defined",
     "output_type": "error",
     "traceback": [
      "\u001b[1;31m---------------------------------------------------------------------------\u001b[0m",
      "\u001b[1;31mNameError\u001b[0m                                 Traceback (most recent call last)",
      "Cell \u001b[1;32mIn[102], line 1\u001b[0m\n\u001b[1;32m----> 1\u001b[0m split()\n",
      "\u001b[1;31mNameError\u001b[0m: name 'split' is not defined"
     ]
    }
   ],
   "source": [
    "split()"
   ]
  },
  {
   "cell_type": "code",
   "execution_count": 104,
   "id": "ccdb635c-d007-4d85-ba83-5d605d639a36",
   "metadata": {},
   "outputs": [
    {
     "ename": "AttributeError",
     "evalue": "'int' object has no attribute 'split'",
     "output_type": "error",
     "traceback": [
      "\u001b[1;31m---------------------------------------------------------------------------\u001b[0m",
      "\u001b[1;31mAttributeError\u001b[0m                            Traceback (most recent call last)",
      "Cell \u001b[1;32mIn[104], line 2\u001b[0m\n\u001b[0;32m      1\u001b[0m a \u001b[38;5;241m=\u001b[39m \u001b[38;5;241m1\u001b[39m\n\u001b[1;32m----> 2\u001b[0m a\u001b[38;5;241m.\u001b[39msplit()\n",
      "\u001b[1;31mAttributeError\u001b[0m: 'int' object has no attribute 'split'"
     ]
    }
   ],
   "source": [
    "a = 1\n",
    "a.split()"
   ]
  },
  {
   "cell_type": "markdown",
   "id": "3a8e64e0-9bac-4f77-91fd-83f903b1aaa6",
   "metadata": {},
   "source": [
    "### Types of Argument\n",
    "\n",
    "1. Required positional argument\n",
    "2. Default arguments\n",
    "3. Keyworded arguments\n",
    "4. Variable length arguments (*args)\n",
    "5. Keyworded variable length arguments (*kwargs)"
   ]
  },
  {
   "cell_type": "markdown",
   "id": "2d97afbf-6522-466d-af62-3b5de2ec3555",
   "metadata": {},
   "source": [
    "### 1. Required Positional Argument\n",
    "\n",
    "- The number of variable inside the function declaration and the function call should be the same (Important rule)\n",
    "- The value passed from the arguments to parameters should be in a sequence as they are positioned\n",
    "- The variable in function call and in function declaration may be same or different, it doesn't matter"
   ]
  },
  {
   "cell_type": "code",
   "execution_count": 108,
   "id": "e9ed741b-5ebe-4ef7-8cf7-2aca77a4f6ed",
   "metadata": {},
   "outputs": [
    {
     "name": "stdout",
     "output_type": "stream",
     "text": [
      "1\n",
      "2\n"
     ]
    },
    {
     "data": {
      "text/plain": [
       "3"
      ]
     },
     "execution_count": 108,
     "metadata": {},
     "output_type": "execute_result"
    }
   ],
   "source": [
    "def add(x,y):\n",
    "    print(x)\n",
    "    print(y)\n",
    "    return x+y\n",
    "\n",
    "add(1,2) # x = 1 y = 2"
   ]
  },
  {
   "cell_type": "code",
   "execution_count": 110,
   "id": "5137c85d-c7b1-4adf-aab6-6655fbc3ed9e",
   "metadata": {},
   "outputs": [
    {
     "name": "stdout",
     "output_type": "stream",
     "text": [
      "3\n",
      "2\n"
     ]
    },
    {
     "data": {
      "text/plain": [
       "5"
      ]
     },
     "execution_count": 110,
     "metadata": {},
     "output_type": "execute_result"
    }
   ],
   "source": [
    "add(3,2)\n"
   ]
  },
  {
   "cell_type": "code",
   "execution_count": 112,
   "id": "31d1f9ea-d7d7-417d-82f2-52d0714b242e",
   "metadata": {},
   "outputs": [
    {
     "name": "stdout",
     "output_type": "stream",
     "text": [
      "1\n",
      "10\n"
     ]
    },
    {
     "data": {
      "text/plain": [
       "11"
      ]
     },
     "execution_count": 112,
     "metadata": {},
     "output_type": "execute_result"
    }
   ],
   "source": [
    "a = 1\n",
    "b = 10\n",
    "\n",
    "add(a,b) # x = a = 1, y = b = 10"
   ]
  },
  {
   "cell_type": "markdown",
   "id": "52c7d9ae-7a0d-483c-b464-3cea61779ac2",
   "metadata": {},
   "source": [
    "### 2. Default argument\n",
    "\n",
    "- When we assign some value to a variable in a function declaration itself the it becomes a default argument\n",
    "- If we dont pass any value for the default argument, then it will take the default value that we have already declared while declaring the function\n",
    "- if we pass some value  to the default argument, then it will take the passed value in it\n",
    "- Default argument should always be placed after the positional argument\n",
    "- The variable name in the function and the function call maybe same or different, it doesn't matter"
   ]
  },
  {
   "cell_type": "code",
   "execution_count": 115,
   "id": "2f69138e-4631-42e9-b238-9bb133ab764f",
   "metadata": {},
   "outputs": [],
   "source": [
    "def add(a,b, c = 10):\n",
    "    return a+b+c"
   ]
  },
  {
   "cell_type": "code",
   "execution_count": 119,
   "id": "51187eee-9a98-4ef8-8d01-806ffdba40fb",
   "metadata": {},
   "outputs": [
    {
     "data": {
      "text/plain": [
       "13"
      ]
     },
     "execution_count": 119,
     "metadata": {},
     "output_type": "execute_result"
    }
   ],
   "source": [
    "add(1,2) # a = 1, b = 2, c = 10"
   ]
  },
  {
   "cell_type": "code",
   "execution_count": 121,
   "id": "ffde55f9-7f44-46d0-a7c8-fab2e7de4160",
   "metadata": {},
   "outputs": [
    {
     "data": {
      "text/plain": [
       "6"
      ]
     },
     "execution_count": 121,
     "metadata": {},
     "output_type": "execute_result"
    }
   ],
   "source": [
    "add(1,2,3) # a = 1, b = 2, c = 3"
   ]
  },
  {
   "cell_type": "code",
   "execution_count": 123,
   "id": "0f466caa-1ea0-4ebc-bafe-8f0f8c65e91a",
   "metadata": {},
   "outputs": [
    {
     "name": "stdout",
     "output_type": "stream",
     "text": [
      "1\n",
      "2\n",
      "3\n",
      "4\n",
      "5\n",
      "6\n",
      "7\n",
      "8\n",
      "9\n",
      "10\n"
     ]
    }
   ],
   "source": [
    "for i in range(1,11):\n",
    "    print(i)"
   ]
  },
  {
   "cell_type": "code",
   "execution_count": null,
   "id": "e8f4f27d-0406-4cd3-af3b-b1ee14441e12",
   "metadata": {},
   "outputs": [],
   "source": [
    "print()"
   ]
  },
  {
   "cell_type": "code",
   "execution_count": 128,
   "id": "74e5e384-8911-4c66-86c3-f983f435af13",
   "metadata": {},
   "outputs": [
    {
     "ename": "SyntaxError",
     "evalue": "parameter without a default follows parameter with a default (4219975114.py, line 1)",
     "output_type": "error",
     "traceback": [
      "\u001b[1;36m  Cell \u001b[1;32mIn[128], line 1\u001b[1;36m\u001b[0m\n\u001b[1;33m    def add(a = 10,b, c):\u001b[0m\n\u001b[1;37m                   ^\u001b[0m\n\u001b[1;31mSyntaxError\u001b[0m\u001b[1;31m:\u001b[0m parameter without a default follows parameter with a default\n"
     ]
    }
   ],
   "source": [
    "def add(a = 10,b, c):\n",
    "    return a+b+c"
   ]
  },
  {
   "cell_type": "markdown",
   "id": "fe2e5ab9-2c3e-4578-b810-cd57ccf6a36a",
   "metadata": {},
   "source": [
    "### 3. Keyworded Argument\n",
    "\n",
    "- When we assign some value to a variable in the function call, then it is known as keyworded argument\n",
    "- The variable name for the keyworded argument should be the same in both the function declaration as well as in the function call\n",
    "- for keyworded argument the position or the order does not matter\n",
    "- Keyworded argument should be placed after the positional argument"
   ]
  },
  {
   "cell_type": "code",
   "execution_count": 130,
   "id": "9c36923e-594e-4a93-bc1d-b985c65519cc",
   "metadata": {},
   "outputs": [],
   "source": [
    "def course(x,y):\n",
    "    print(x)\n",
    "    print(y)"
   ]
  },
  {
   "cell_type": "code",
   "execution_count": 132,
   "id": "f42a8dee-46a5-4fba-bfdf-bacec6b07249",
   "metadata": {},
   "outputs": [
    {
     "name": "stdout",
     "output_type": "stream",
     "text": [
      "Mtech\n",
      "MBA\n"
     ]
    }
   ],
   "source": [
    "x = 'Mtech'\n",
    "course(x, y = 'MBA') # y = keyworded argument"
   ]
  },
  {
   "cell_type": "code",
   "execution_count": 134,
   "id": "da1cf58b-5cf7-4f6b-8bde-26877508af75",
   "metadata": {},
   "outputs": [
    {
     "ename": "TypeError",
     "evalue": "course() got an unexpected keyword argument 'b'",
     "output_type": "error",
     "traceback": [
      "\u001b[1;31m---------------------------------------------------------------------------\u001b[0m",
      "\u001b[1;31mTypeError\u001b[0m                                 Traceback (most recent call last)",
      "Cell \u001b[1;32mIn[134], line 2\u001b[0m\n\u001b[0;32m      1\u001b[0m a \u001b[38;5;241m=\u001b[39m \u001b[38;5;124m'\u001b[39m\u001b[38;5;124mMtech\u001b[39m\u001b[38;5;124m'\u001b[39m\n\u001b[1;32m----> 2\u001b[0m course(a, b \u001b[38;5;241m=\u001b[39m \u001b[38;5;124m'\u001b[39m\u001b[38;5;124mMBA\u001b[39m\u001b[38;5;124m'\u001b[39m)\n",
      "\u001b[1;31mTypeError\u001b[0m: course() got an unexpected keyword argument 'b'"
     ]
    }
   ],
   "source": [
    "a = 'Mtech'\n",
    "course(a, b = 'MBA')"
   ]
  },
  {
   "cell_type": "code",
   "execution_count": 140,
   "id": "34c80d21-7c85-48e4-a0e9-365b51f09662",
   "metadata": {},
   "outputs": [
    {
     "name": "stdout",
     "output_type": "stream",
     "text": [
      "1-2-3-4-5-6-7-8-9-10-"
     ]
    }
   ],
   "source": [
    "for i in range(1,11):\n",
    "    print(i, end = '-') # end = '\\n'\n",
    "# In print function, end parameter is acting both as a default argument and a keywrorded argument"
   ]
  },
  {
   "cell_type": "code",
   "execution_count": 136,
   "id": "3155b39f-22a1-4658-b2e0-d2543e79d1fc",
   "metadata": {},
   "outputs": [
    {
     "name": "stdout",
     "output_type": "stream",
     "text": [
      "10-"
     ]
    }
   ],
   "source": []
  },
  {
   "cell_type": "markdown",
   "id": "913e8a25-c166-478f-ab23-5dfd7113e0c1",
   "metadata": {},
   "source": [
    "### 4. Variable Length Argument\n",
    "\n",
    "- If we don't know the number of arguments to be passed, then we will use a variable length argument\n",
    "- It will going to store all the values inside a tuple\n",
    "\n",
    "__Syntax:__\n",
    "    \n",
    "    \n",
    "        def function_name(*variable_name):\n",
    "            code\n",
    "            code\n",
    "            code"
   ]
  },
  {
   "cell_type": "code",
   "execution_count": 143,
   "id": "984c4a1b-a917-4b7d-b89e-7f185abe794f",
   "metadata": {},
   "outputs": [],
   "source": [
    "# suppose you want to declare a function to give you the cummilative sum of n values \n",
    "\n",
    "def cummilative_sum(*a):\n",
    "    sum = 0\n",
    "    for i in a:\n",
    "        sum = sum+i\n",
    "\n",
    "    return sum"
   ]
  },
  {
   "cell_type": "code",
   "execution_count": 145,
   "id": "caa2e672-eb78-43e7-9d7b-dcb454b5149e",
   "metadata": {},
   "outputs": [
    {
     "data": {
      "text/plain": [
       "55"
      ]
     },
     "execution_count": 145,
     "metadata": {},
     "output_type": "execute_result"
    }
   ],
   "source": [
    "cummilative_sum(1,2,3,4,5,6,7,8,9,10)"
   ]
  },
  {
   "cell_type": "code",
   "execution_count": 147,
   "id": "9573e95f-c100-4bfb-9b10-3c096bec0233",
   "metadata": {},
   "outputs": [
    {
     "data": {
      "text/plain": [
       "49"
      ]
     },
     "execution_count": 147,
     "metadata": {},
     "output_type": "execute_result"
    }
   ],
   "source": [
    "cummilative_sum(1,3,5,7,9,11,13)"
   ]
  },
  {
   "cell_type": "code",
   "execution_count": 153,
   "id": "31a144b5-1b3b-4013-b7e8-db7681f94764",
   "metadata": {},
   "outputs": [],
   "source": [
    "def cummilative_sum(a,b,*c): # a = 1, b = 2, c = (3,4,5,6,7,8,9,10)\n",
    "    sum = a+b\n",
    "    for i in c:\n",
    "        sum = sum+i\n",
    "\n",
    "    return sum"
   ]
  },
  {
   "cell_type": "code",
   "execution_count": 155,
   "id": "a6630c99-933c-43fd-9010-cad864c75b2b",
   "metadata": {},
   "outputs": [
    {
     "data": {
      "text/plain": [
       "55"
      ]
     },
     "execution_count": 155,
     "metadata": {},
     "output_type": "execute_result"
    }
   ],
   "source": [
    "cummilative_sum(1,2,3,4,5,6,7,8,9,10)"
   ]
  },
  {
   "cell_type": "markdown",
   "id": "dad23a7c-0093-4ca6-a200-d1a2d085a366",
   "metadata": {},
   "source": [
    "### 5. Keyworded Variable length argument\n",
    "- When we don't know how many keyworded arguments are there then we will use a keyworded variable length argument\n",
    "- It stores the values as a dictionary\n",
    "- The variable becomes the keys and the values associated with the variable become the values for the keys\n",
    "\n",
    "__Syntax:__\n",
    "\n",
    "\n",
    "            def function_name(**a):\n",
    "                code\n",
    "                code\n",
    "\n",
    "                function_nmae(key1 = value1, key2 = value2, key3 = value3..........)"
   ]
  },
  {
   "cell_type": "code",
   "execution_count": 157,
   "id": "cb66bc51-b8eb-423a-a21e-3c4d51d6e933",
   "metadata": {},
   "outputs": [],
   "source": [
    "def course(**a):\n",
    "    print(a, type(a))"
   ]
  },
  {
   "cell_type": "code",
   "execution_count": 159,
   "id": "6e4e80c9-fe09-4f4f-a91a-116cbc60ae28",
   "metadata": {},
   "outputs": [
    {
     "name": "stdout",
     "output_type": "stream",
     "text": [
      "{'a': 'MTech', 'b': 'Btech', 'c': 'MBA', 'd': 'BBA', 'e': 'BCOM'} <class 'dict'>\n"
     ]
    }
   ],
   "source": [
    "course( a= 'MTech', b = 'Btech', c = 'MBA', d = 'BBA', e = 'BCOM')"
   ]
  },
  {
   "cell_type": "markdown",
   "id": "b899f8ab-4d9f-46b4-8642-28e8ca42a48d",
   "metadata": {},
   "source": [
    "### Anonymous Function or Lambda function\n",
    "\n",
    "- the function where we don't give any name, are called as anonymous function or lambda function\n",
    "- __lambda__ keyword is used to declare an anonymous function\n",
    "\n",
    "__Syntax:__\n",
    "    \n",
    "        (lambda parameters:operation) (call)"
   ]
  },
  {
   "cell_type": "code",
   "execution_count": 162,
   "id": "a0c8320c-58b1-4adf-903a-5451730f8d46",
   "metadata": {},
   "outputs": [
    {
     "data": {
      "text/plain": [
       "3"
      ]
     },
     "execution_count": 162,
     "metadata": {},
     "output_type": "execute_result"
    }
   ],
   "source": [
    "# Create a lambda function that is going to add two numbers in it \n",
    "\n",
    "(lambda x,y: x+y) (1,2)"
   ]
  },
  {
   "cell_type": "code",
   "execution_count": 164,
   "id": "7d76a23d-e7df-419e-90b2-24dd72ddd1f2",
   "metadata": {},
   "outputs": [],
   "source": [
    "x = (lambda x,y: x+y)"
   ]
  },
  {
   "cell_type": "code",
   "execution_count": 170,
   "id": "a6a41676-6355-47e3-b9a8-ae7837d64c32",
   "metadata": {},
   "outputs": [
    {
     "data": {
      "text/plain": [
       "3"
      ]
     },
     "execution_count": 170,
     "metadata": {},
     "output_type": "execute_result"
    }
   ],
   "source": [
    "x(1,2)"
   ]
  },
  {
   "cell_type": "code",
   "execution_count": 172,
   "id": "15f7fad8-7d2f-4896-b500-7a5869efffa4",
   "metadata": {},
   "outputs": [
    {
     "data": {
      "text/plain": [
       "20"
      ]
     },
     "execution_count": 172,
     "metadata": {},
     "output_type": "execute_result"
    }
   ],
   "source": [
    "# create a function to tell that which number is maximum among the two numbers\n",
    "\n",
    "(lambda x,y: x if x>y else y) (10,20)"
   ]
  },
  {
   "cell_type": "code",
   "execution_count": 174,
   "id": "c715821c-a11a-4f1d-a50e-0694e414ab01",
   "metadata": {},
   "outputs": [
    {
     "data": {
      "text/plain": [
       "-10"
      ]
     },
     "execution_count": 174,
     "metadata": {},
     "output_type": "execute_result"
    }
   ],
   "source": [
    "# create a function to tell which is minimum among the three numbers\n",
    "\n",
    "(lambda x,y,z: x if (x<y and x<z) else y if (y<z and y<x) else z) (100,-10, 5)"
   ]
  },
  {
   "cell_type": "markdown",
   "id": "882c7cb6-5be5-4348-a253-2cf117f3bb95",
   "metadata": {},
   "source": [
    "#### we can assign the lambda() function to a variable and then we can call the variable n number of time"
   ]
  },
  {
   "cell_type": "code",
   "execution_count": 176,
   "id": "ac4fd01e-9e0c-4973-985f-17fb34c3758f",
   "metadata": {},
   "outputs": [],
   "source": [
    "min = (lambda x,y,z: x if (x<y and x<z) else y if (y<z and y<x) else z)"
   ]
  },
  {
   "cell_type": "code",
   "execution_count": 178,
   "id": "30fe32e4-3265-4a6e-9dcc-ce012c3ad30b",
   "metadata": {},
   "outputs": [
    {
     "data": {
      "text/plain": [
       "17"
      ]
     },
     "execution_count": 178,
     "metadata": {},
     "output_type": "execute_result"
    }
   ],
   "source": [
    "min(19,18,17)"
   ]
  },
  {
   "cell_type": "code",
   "execution_count": 182,
   "id": "feeb7e74-d071-4d64-b654-63f53a2ee05d",
   "metadata": {},
   "outputs": [
    {
     "data": {
      "text/plain": [
       "-30"
      ]
     },
     "execution_count": 182,
     "metadata": {},
     "output_type": "execute_result"
    }
   ],
   "source": [
    "min(-10, -20, -30)"
   ]
  },
  {
   "cell_type": "code",
   "execution_count": 8,
   "id": "e0ed2738-f41b-4a83-9833-b4dc8c156ef7",
   "metadata": {},
   "outputs": [],
   "source": [
    "import seaborn as sns"
   ]
  },
  {
   "cell_type": "code",
   "execution_count": 9,
   "id": "0689d1c5-1d3f-4812-9cdf-9adea5a8d4e7",
   "metadata": {},
   "outputs": [
    {
     "data": {
      "text/plain": [
       "['anagrams',\n",
       " 'anscombe',\n",
       " 'attention',\n",
       " 'brain_networks',\n",
       " 'car_crashes',\n",
       " 'diamonds',\n",
       " 'dots',\n",
       " 'dowjones',\n",
       " 'exercise',\n",
       " 'flights',\n",
       " 'fmri',\n",
       " 'geyser',\n",
       " 'glue',\n",
       " 'healthexp',\n",
       " 'iris',\n",
       " 'mpg',\n",
       " 'penguins',\n",
       " 'planets',\n",
       " 'seaice',\n",
       " 'taxis',\n",
       " 'tips',\n",
       " 'titanic',\n",
       " 'anagrams',\n",
       " 'anagrams',\n",
       " 'anscombe',\n",
       " 'anscombe',\n",
       " 'attention',\n",
       " 'attention',\n",
       " 'brain_networks',\n",
       " 'brain_networks',\n",
       " 'car_crashes',\n",
       " 'car_crashes',\n",
       " 'diamonds',\n",
       " 'diamonds',\n",
       " 'dots',\n",
       " 'dots',\n",
       " 'dowjones',\n",
       " 'dowjones',\n",
       " 'exercise',\n",
       " 'exercise',\n",
       " 'flights',\n",
       " 'flights',\n",
       " 'fmri',\n",
       " 'fmri',\n",
       " 'geyser',\n",
       " 'geyser',\n",
       " 'glue',\n",
       " 'glue',\n",
       " 'healthexp',\n",
       " 'healthexp',\n",
       " 'iris',\n",
       " 'iris',\n",
       " 'mpg',\n",
       " 'mpg',\n",
       " 'penguins',\n",
       " 'penguins',\n",
       " 'planets',\n",
       " 'planets',\n",
       " 'seaice',\n",
       " 'seaice',\n",
       " 'taxis',\n",
       " 'taxis',\n",
       " 'tips',\n",
       " 'tips',\n",
       " 'titanic',\n",
       " 'titanic',\n",
       " 'anagrams',\n",
       " 'anscombe',\n",
       " 'attention',\n",
       " 'brain_networks',\n",
       " 'car_crashes',\n",
       " 'diamonds',\n",
       " 'dots',\n",
       " 'dowjones',\n",
       " 'exercise',\n",
       " 'flights',\n",
       " 'fmri',\n",
       " 'geyser',\n",
       " 'glue',\n",
       " 'healthexp',\n",
       " 'iris',\n",
       " 'mpg',\n",
       " 'penguins',\n",
       " 'planets',\n",
       " 'seaice',\n",
       " 'taxis',\n",
       " 'tips',\n",
       " 'titanic']"
      ]
     },
     "execution_count": 9,
     "metadata": {},
     "output_type": "execute_result"
    }
   ],
   "source": [
    "sns.get_dataset_names()"
   ]
  },
  {
   "cell_type": "code",
   "execution_count": 10,
   "id": "544a41ff-5af4-402c-b9fa-2336600963f6",
   "metadata": {},
   "outputs": [
    {
     "data": {
      "text/html": [
       "<div>\n",
       "<style scoped>\n",
       "    .dataframe tbody tr th:only-of-type {\n",
       "        vertical-align: middle;\n",
       "    }\n",
       "\n",
       "    .dataframe tbody tr th {\n",
       "        vertical-align: top;\n",
       "    }\n",
       "\n",
       "    .dataframe thead th {\n",
       "        text-align: right;\n",
       "    }\n",
       "</style>\n",
       "<table border=\"1\" class=\"dataframe\">\n",
       "  <thead>\n",
       "    <tr style=\"text-align: right;\">\n",
       "      <th></th>\n",
       "      <th>survived</th>\n",
       "      <th>pclass</th>\n",
       "      <th>sex</th>\n",
       "      <th>age</th>\n",
       "      <th>sibsp</th>\n",
       "      <th>parch</th>\n",
       "      <th>fare</th>\n",
       "      <th>embarked</th>\n",
       "      <th>class</th>\n",
       "      <th>who</th>\n",
       "      <th>adult_male</th>\n",
       "      <th>deck</th>\n",
       "      <th>embark_town</th>\n",
       "      <th>alive</th>\n",
       "      <th>alone</th>\n",
       "    </tr>\n",
       "  </thead>\n",
       "  <tbody>\n",
       "    <tr>\n",
       "      <th>0</th>\n",
       "      <td>0</td>\n",
       "      <td>3</td>\n",
       "      <td>male</td>\n",
       "      <td>22.0</td>\n",
       "      <td>1</td>\n",
       "      <td>0</td>\n",
       "      <td>7.2500</td>\n",
       "      <td>S</td>\n",
       "      <td>Third</td>\n",
       "      <td>man</td>\n",
       "      <td>True</td>\n",
       "      <td>NaN</td>\n",
       "      <td>Southampton</td>\n",
       "      <td>no</td>\n",
       "      <td>False</td>\n",
       "    </tr>\n",
       "    <tr>\n",
       "      <th>1</th>\n",
       "      <td>1</td>\n",
       "      <td>1</td>\n",
       "      <td>female</td>\n",
       "      <td>38.0</td>\n",
       "      <td>1</td>\n",
       "      <td>0</td>\n",
       "      <td>71.2833</td>\n",
       "      <td>C</td>\n",
       "      <td>First</td>\n",
       "      <td>woman</td>\n",
       "      <td>False</td>\n",
       "      <td>C</td>\n",
       "      <td>Cherbourg</td>\n",
       "      <td>yes</td>\n",
       "      <td>False</td>\n",
       "    </tr>\n",
       "    <tr>\n",
       "      <th>2</th>\n",
       "      <td>1</td>\n",
       "      <td>3</td>\n",
       "      <td>female</td>\n",
       "      <td>26.0</td>\n",
       "      <td>0</td>\n",
       "      <td>0</td>\n",
       "      <td>7.9250</td>\n",
       "      <td>S</td>\n",
       "      <td>Third</td>\n",
       "      <td>woman</td>\n",
       "      <td>False</td>\n",
       "      <td>NaN</td>\n",
       "      <td>Southampton</td>\n",
       "      <td>yes</td>\n",
       "      <td>True</td>\n",
       "    </tr>\n",
       "    <tr>\n",
       "      <th>3</th>\n",
       "      <td>1</td>\n",
       "      <td>1</td>\n",
       "      <td>female</td>\n",
       "      <td>35.0</td>\n",
       "      <td>1</td>\n",
       "      <td>0</td>\n",
       "      <td>53.1000</td>\n",
       "      <td>S</td>\n",
       "      <td>First</td>\n",
       "      <td>woman</td>\n",
       "      <td>False</td>\n",
       "      <td>C</td>\n",
       "      <td>Southampton</td>\n",
       "      <td>yes</td>\n",
       "      <td>False</td>\n",
       "    </tr>\n",
       "    <tr>\n",
       "      <th>4</th>\n",
       "      <td>0</td>\n",
       "      <td>3</td>\n",
       "      <td>male</td>\n",
       "      <td>35.0</td>\n",
       "      <td>0</td>\n",
       "      <td>0</td>\n",
       "      <td>8.0500</td>\n",
       "      <td>S</td>\n",
       "      <td>Third</td>\n",
       "      <td>man</td>\n",
       "      <td>True</td>\n",
       "      <td>NaN</td>\n",
       "      <td>Southampton</td>\n",
       "      <td>no</td>\n",
       "      <td>True</td>\n",
       "    </tr>\n",
       "  </tbody>\n",
       "</table>\n",
       "</div>"
      ],
      "text/plain": [
       "   survived  pclass     sex   age  sibsp  parch     fare embarked  class  \\\n",
       "0         0       3    male  22.0      1      0   7.2500        S  Third   \n",
       "1         1       1  female  38.0      1      0  71.2833        C  First   \n",
       "2         1       3  female  26.0      0      0   7.9250        S  Third   \n",
       "3         1       1  female  35.0      1      0  53.1000        S  First   \n",
       "4         0       3    male  35.0      0      0   8.0500        S  Third   \n",
       "\n",
       "     who  adult_male deck  embark_town alive  alone  \n",
       "0    man        True  NaN  Southampton    no  False  \n",
       "1  woman       False    C    Cherbourg   yes  False  \n",
       "2  woman       False  NaN  Southampton   yes   True  \n",
       "3  woman       False    C  Southampton   yes  False  \n",
       "4    man        True  NaN  Southampton    no   True  "
      ]
     },
     "execution_count": 10,
     "metadata": {},
     "output_type": "execute_result"
    }
   ],
   "source": [
    "data = sns.load_dataset('titanic')\n",
    "data.head() # data.head give you the first five rows of the dataset"
   ]
  },
  {
   "cell_type": "code",
   "execution_count": 11,
   "id": "bf5d7bf8-3a3b-4da1-bf82-4c4778b3068a",
   "metadata": {},
   "outputs": [
    {
     "data": {
      "text/plain": [
       "(891, 15)"
      ]
     },
     "execution_count": 11,
     "metadata": {},
     "output_type": "execute_result"
    }
   ],
   "source": [
    "data.shape # This tells that our dataset has how many rows and columns"
   ]
  },
  {
   "cell_type": "code",
   "execution_count": null,
   "id": "762a333c-ce0c-45a2-9060-898e38d95c3e",
   "metadata": {},
   "outputs": [],
   "source": [
    "# I want to convert the sex column in the dataset in such a way that male -1 and female - 0"
   ]
  },
  {
   "cell_type": "code",
   "execution_count": 14,
   "id": "e18aced3-dd58-4a00-9bfa-51c06b1bfa34",
   "metadata": {},
   "outputs": [
    {
     "data": {
      "text/plain": [
       "0"
      ]
     },
     "execution_count": 14,
     "metadata": {},
     "output_type": "execute_result"
    }
   ],
   "source": [
    "a = (lambda x: 1 if x == 'male' else 0)\n",
    "a('female')"
   ]
  },
  {
   "cell_type": "code",
   "execution_count": 15,
   "id": "02fe8e44-b5f8-45d8-9c9f-038dd41d1f03",
   "metadata": {},
   "outputs": [
    {
     "data": {
      "text/html": [
       "<div>\n",
       "<style scoped>\n",
       "    .dataframe tbody tr th:only-of-type {\n",
       "        vertical-align: middle;\n",
       "    }\n",
       "\n",
       "    .dataframe tbody tr th {\n",
       "        vertical-align: top;\n",
       "    }\n",
       "\n",
       "    .dataframe thead th {\n",
       "        text-align: right;\n",
       "    }\n",
       "</style>\n",
       "<table border=\"1\" class=\"dataframe\">\n",
       "  <thead>\n",
       "    <tr style=\"text-align: right;\">\n",
       "      <th></th>\n",
       "      <th>survived</th>\n",
       "      <th>pclass</th>\n",
       "      <th>sex</th>\n",
       "      <th>age</th>\n",
       "      <th>sibsp</th>\n",
       "      <th>parch</th>\n",
       "      <th>fare</th>\n",
       "      <th>embarked</th>\n",
       "      <th>class</th>\n",
       "      <th>who</th>\n",
       "      <th>adult_male</th>\n",
       "      <th>deck</th>\n",
       "      <th>embark_town</th>\n",
       "      <th>alive</th>\n",
       "      <th>alone</th>\n",
       "    </tr>\n",
       "  </thead>\n",
       "  <tbody>\n",
       "    <tr>\n",
       "      <th>0</th>\n",
       "      <td>0</td>\n",
       "      <td>3</td>\n",
       "      <td>male</td>\n",
       "      <td>22.0</td>\n",
       "      <td>1</td>\n",
       "      <td>0</td>\n",
       "      <td>7.2500</td>\n",
       "      <td>S</td>\n",
       "      <td>Third</td>\n",
       "      <td>man</td>\n",
       "      <td>True</td>\n",
       "      <td>NaN</td>\n",
       "      <td>Southampton</td>\n",
       "      <td>no</td>\n",
       "      <td>False</td>\n",
       "    </tr>\n",
       "    <tr>\n",
       "      <th>1</th>\n",
       "      <td>1</td>\n",
       "      <td>1</td>\n",
       "      <td>female</td>\n",
       "      <td>38.0</td>\n",
       "      <td>1</td>\n",
       "      <td>0</td>\n",
       "      <td>71.2833</td>\n",
       "      <td>C</td>\n",
       "      <td>First</td>\n",
       "      <td>woman</td>\n",
       "      <td>False</td>\n",
       "      <td>C</td>\n",
       "      <td>Cherbourg</td>\n",
       "      <td>yes</td>\n",
       "      <td>False</td>\n",
       "    </tr>\n",
       "    <tr>\n",
       "      <th>2</th>\n",
       "      <td>1</td>\n",
       "      <td>3</td>\n",
       "      <td>female</td>\n",
       "      <td>26.0</td>\n",
       "      <td>0</td>\n",
       "      <td>0</td>\n",
       "      <td>7.9250</td>\n",
       "      <td>S</td>\n",
       "      <td>Third</td>\n",
       "      <td>woman</td>\n",
       "      <td>False</td>\n",
       "      <td>NaN</td>\n",
       "      <td>Southampton</td>\n",
       "      <td>yes</td>\n",
       "      <td>True</td>\n",
       "    </tr>\n",
       "    <tr>\n",
       "      <th>3</th>\n",
       "      <td>1</td>\n",
       "      <td>1</td>\n",
       "      <td>female</td>\n",
       "      <td>35.0</td>\n",
       "      <td>1</td>\n",
       "      <td>0</td>\n",
       "      <td>53.1000</td>\n",
       "      <td>S</td>\n",
       "      <td>First</td>\n",
       "      <td>woman</td>\n",
       "      <td>False</td>\n",
       "      <td>C</td>\n",
       "      <td>Southampton</td>\n",
       "      <td>yes</td>\n",
       "      <td>False</td>\n",
       "    </tr>\n",
       "    <tr>\n",
       "      <th>4</th>\n",
       "      <td>0</td>\n",
       "      <td>3</td>\n",
       "      <td>male</td>\n",
       "      <td>35.0</td>\n",
       "      <td>0</td>\n",
       "      <td>0</td>\n",
       "      <td>8.0500</td>\n",
       "      <td>S</td>\n",
       "      <td>Third</td>\n",
       "      <td>man</td>\n",
       "      <td>True</td>\n",
       "      <td>NaN</td>\n",
       "      <td>Southampton</td>\n",
       "      <td>no</td>\n",
       "      <td>True</td>\n",
       "    </tr>\n",
       "  </tbody>\n",
       "</table>\n",
       "</div>"
      ],
      "text/plain": [
       "   survived  pclass     sex   age  sibsp  parch     fare embarked  class  \\\n",
       "0         0       3    male  22.0      1      0   7.2500        S  Third   \n",
       "1         1       1  female  38.0      1      0  71.2833        C  First   \n",
       "2         1       3  female  26.0      0      0   7.9250        S  Third   \n",
       "3         1       1  female  35.0      1      0  53.1000        S  First   \n",
       "4         0       3    male  35.0      0      0   8.0500        S  Third   \n",
       "\n",
       "     who  adult_male deck  embark_town alive  alone  \n",
       "0    man        True  NaN  Southampton    no  False  \n",
       "1  woman       False    C    Cherbourg   yes  False  \n",
       "2  woman       False  NaN  Southampton   yes   True  \n",
       "3  woman       False    C  Southampton   yes  False  \n",
       "4    man        True  NaN  Southampton    no   True  "
      ]
     },
     "execution_count": 15,
     "metadata": {},
     "output_type": "execute_result"
    }
   ],
   "source": [
    "data.head()"
   ]
  },
  {
   "cell_type": "code",
   "execution_count": 16,
   "id": "ef347366-8896-4f25-964e-1b1029872755",
   "metadata": {},
   "outputs": [],
   "source": [
    "data['Gender'] = data['sex'].apply(lambda x: 1 if x == 'male' else 0)"
   ]
  },
  {
   "cell_type": "code",
   "execution_count": 17,
   "id": "3eb583a2-0f67-4ee8-b012-7cbf2fcb8bb1",
   "metadata": {},
   "outputs": [
    {
     "data": {
      "text/html": [
       "<div>\n",
       "<style scoped>\n",
       "    .dataframe tbody tr th:only-of-type {\n",
       "        vertical-align: middle;\n",
       "    }\n",
       "\n",
       "    .dataframe tbody tr th {\n",
       "        vertical-align: top;\n",
       "    }\n",
       "\n",
       "    .dataframe thead th {\n",
       "        text-align: right;\n",
       "    }\n",
       "</style>\n",
       "<table border=\"1\" class=\"dataframe\">\n",
       "  <thead>\n",
       "    <tr style=\"text-align: right;\">\n",
       "      <th></th>\n",
       "      <th>survived</th>\n",
       "      <th>pclass</th>\n",
       "      <th>sex</th>\n",
       "      <th>age</th>\n",
       "      <th>sibsp</th>\n",
       "      <th>parch</th>\n",
       "      <th>fare</th>\n",
       "      <th>embarked</th>\n",
       "      <th>class</th>\n",
       "      <th>who</th>\n",
       "      <th>adult_male</th>\n",
       "      <th>deck</th>\n",
       "      <th>embark_town</th>\n",
       "      <th>alive</th>\n",
       "      <th>alone</th>\n",
       "      <th>Gender</th>\n",
       "    </tr>\n",
       "  </thead>\n",
       "  <tbody>\n",
       "    <tr>\n",
       "      <th>0</th>\n",
       "      <td>0</td>\n",
       "      <td>3</td>\n",
       "      <td>male</td>\n",
       "      <td>22.0</td>\n",
       "      <td>1</td>\n",
       "      <td>0</td>\n",
       "      <td>7.2500</td>\n",
       "      <td>S</td>\n",
       "      <td>Third</td>\n",
       "      <td>man</td>\n",
       "      <td>True</td>\n",
       "      <td>NaN</td>\n",
       "      <td>Southampton</td>\n",
       "      <td>no</td>\n",
       "      <td>False</td>\n",
       "      <td>1</td>\n",
       "    </tr>\n",
       "    <tr>\n",
       "      <th>1</th>\n",
       "      <td>1</td>\n",
       "      <td>1</td>\n",
       "      <td>female</td>\n",
       "      <td>38.0</td>\n",
       "      <td>1</td>\n",
       "      <td>0</td>\n",
       "      <td>71.2833</td>\n",
       "      <td>C</td>\n",
       "      <td>First</td>\n",
       "      <td>woman</td>\n",
       "      <td>False</td>\n",
       "      <td>C</td>\n",
       "      <td>Cherbourg</td>\n",
       "      <td>yes</td>\n",
       "      <td>False</td>\n",
       "      <td>0</td>\n",
       "    </tr>\n",
       "    <tr>\n",
       "      <th>2</th>\n",
       "      <td>1</td>\n",
       "      <td>3</td>\n",
       "      <td>female</td>\n",
       "      <td>26.0</td>\n",
       "      <td>0</td>\n",
       "      <td>0</td>\n",
       "      <td>7.9250</td>\n",
       "      <td>S</td>\n",
       "      <td>Third</td>\n",
       "      <td>woman</td>\n",
       "      <td>False</td>\n",
       "      <td>NaN</td>\n",
       "      <td>Southampton</td>\n",
       "      <td>yes</td>\n",
       "      <td>True</td>\n",
       "      <td>0</td>\n",
       "    </tr>\n",
       "    <tr>\n",
       "      <th>3</th>\n",
       "      <td>1</td>\n",
       "      <td>1</td>\n",
       "      <td>female</td>\n",
       "      <td>35.0</td>\n",
       "      <td>1</td>\n",
       "      <td>0</td>\n",
       "      <td>53.1000</td>\n",
       "      <td>S</td>\n",
       "      <td>First</td>\n",
       "      <td>woman</td>\n",
       "      <td>False</td>\n",
       "      <td>C</td>\n",
       "      <td>Southampton</td>\n",
       "      <td>yes</td>\n",
       "      <td>False</td>\n",
       "      <td>0</td>\n",
       "    </tr>\n",
       "    <tr>\n",
       "      <th>4</th>\n",
       "      <td>0</td>\n",
       "      <td>3</td>\n",
       "      <td>male</td>\n",
       "      <td>35.0</td>\n",
       "      <td>0</td>\n",
       "      <td>0</td>\n",
       "      <td>8.0500</td>\n",
       "      <td>S</td>\n",
       "      <td>Third</td>\n",
       "      <td>man</td>\n",
       "      <td>True</td>\n",
       "      <td>NaN</td>\n",
       "      <td>Southampton</td>\n",
       "      <td>no</td>\n",
       "      <td>True</td>\n",
       "      <td>1</td>\n",
       "    </tr>\n",
       "  </tbody>\n",
       "</table>\n",
       "</div>"
      ],
      "text/plain": [
       "   survived  pclass     sex   age  sibsp  parch     fare embarked  class  \\\n",
       "0         0       3    male  22.0      1      0   7.2500        S  Third   \n",
       "1         1       1  female  38.0      1      0  71.2833        C  First   \n",
       "2         1       3  female  26.0      0      0   7.9250        S  Third   \n",
       "3         1       1  female  35.0      1      0  53.1000        S  First   \n",
       "4         0       3    male  35.0      0      0   8.0500        S  Third   \n",
       "\n",
       "     who  adult_male deck  embark_town alive  alone  Gender  \n",
       "0    man        True  NaN  Southampton    no  False       1  \n",
       "1  woman       False    C    Cherbourg   yes  False       0  \n",
       "2  woman       False  NaN  Southampton   yes   True       0  \n",
       "3  woman       False    C  Southampton   yes  False       0  \n",
       "4    man        True  NaN  Southampton    no   True       1  "
      ]
     },
     "execution_count": 17,
     "metadata": {},
     "output_type": "execute_result"
    }
   ],
   "source": [
    "data.head()"
   ]
  },
  {
   "cell_type": "code",
   "execution_count": 18,
   "id": "5c999752-494a-4345-a673-6267563c7594",
   "metadata": {},
   "outputs": [
    {
     "data": {
      "text/plain": [
       "class\n",
       "Third     491\n",
       "First     216\n",
       "Second    184\n",
       "Name: count, dtype: int64"
      ]
     },
     "execution_count": 18,
     "metadata": {},
     "output_type": "execute_result"
    }
   ],
   "source": [
    "data['class'].value_counts()"
   ]
  },
  {
   "cell_type": "code",
   "execution_count": 20,
   "id": "08374e9b-fcae-4e63-8490-1607d93c658e",
   "metadata": {},
   "outputs": [],
   "source": [
    "data['class']=data['class'].apply(lambda x: 1 if x=='First' else 2 if x=='Second' else 3)\n"
   ]
  },
  {
   "cell_type": "code",
   "execution_count": 21,
   "id": "7f1e9801-3fba-4bcf-a6d3-39ac0128acbb",
   "metadata": {},
   "outputs": [
    {
     "data": {
      "text/html": [
       "<div>\n",
       "<style scoped>\n",
       "    .dataframe tbody tr th:only-of-type {\n",
       "        vertical-align: middle;\n",
       "    }\n",
       "\n",
       "    .dataframe tbody tr th {\n",
       "        vertical-align: top;\n",
       "    }\n",
       "\n",
       "    .dataframe thead th {\n",
       "        text-align: right;\n",
       "    }\n",
       "</style>\n",
       "<table border=\"1\" class=\"dataframe\">\n",
       "  <thead>\n",
       "    <tr style=\"text-align: right;\">\n",
       "      <th></th>\n",
       "      <th>survived</th>\n",
       "      <th>pclass</th>\n",
       "      <th>sex</th>\n",
       "      <th>age</th>\n",
       "      <th>sibsp</th>\n",
       "      <th>parch</th>\n",
       "      <th>fare</th>\n",
       "      <th>embarked</th>\n",
       "      <th>class</th>\n",
       "      <th>who</th>\n",
       "      <th>adult_male</th>\n",
       "      <th>deck</th>\n",
       "      <th>embark_town</th>\n",
       "      <th>alive</th>\n",
       "      <th>alone</th>\n",
       "      <th>Gender</th>\n",
       "    </tr>\n",
       "  </thead>\n",
       "  <tbody>\n",
       "    <tr>\n",
       "      <th>0</th>\n",
       "      <td>0</td>\n",
       "      <td>3</td>\n",
       "      <td>male</td>\n",
       "      <td>22.0</td>\n",
       "      <td>1</td>\n",
       "      <td>0</td>\n",
       "      <td>7.2500</td>\n",
       "      <td>S</td>\n",
       "      <td>3</td>\n",
       "      <td>man</td>\n",
       "      <td>True</td>\n",
       "      <td>NaN</td>\n",
       "      <td>Southampton</td>\n",
       "      <td>no</td>\n",
       "      <td>False</td>\n",
       "      <td>1</td>\n",
       "    </tr>\n",
       "    <tr>\n",
       "      <th>1</th>\n",
       "      <td>1</td>\n",
       "      <td>1</td>\n",
       "      <td>female</td>\n",
       "      <td>38.0</td>\n",
       "      <td>1</td>\n",
       "      <td>0</td>\n",
       "      <td>71.2833</td>\n",
       "      <td>C</td>\n",
       "      <td>1</td>\n",
       "      <td>woman</td>\n",
       "      <td>False</td>\n",
       "      <td>C</td>\n",
       "      <td>Cherbourg</td>\n",
       "      <td>yes</td>\n",
       "      <td>False</td>\n",
       "      <td>0</td>\n",
       "    </tr>\n",
       "    <tr>\n",
       "      <th>2</th>\n",
       "      <td>1</td>\n",
       "      <td>3</td>\n",
       "      <td>female</td>\n",
       "      <td>26.0</td>\n",
       "      <td>0</td>\n",
       "      <td>0</td>\n",
       "      <td>7.9250</td>\n",
       "      <td>S</td>\n",
       "      <td>3</td>\n",
       "      <td>woman</td>\n",
       "      <td>False</td>\n",
       "      <td>NaN</td>\n",
       "      <td>Southampton</td>\n",
       "      <td>yes</td>\n",
       "      <td>True</td>\n",
       "      <td>0</td>\n",
       "    </tr>\n",
       "    <tr>\n",
       "      <th>3</th>\n",
       "      <td>1</td>\n",
       "      <td>1</td>\n",
       "      <td>female</td>\n",
       "      <td>35.0</td>\n",
       "      <td>1</td>\n",
       "      <td>0</td>\n",
       "      <td>53.1000</td>\n",
       "      <td>S</td>\n",
       "      <td>1</td>\n",
       "      <td>woman</td>\n",
       "      <td>False</td>\n",
       "      <td>C</td>\n",
       "      <td>Southampton</td>\n",
       "      <td>yes</td>\n",
       "      <td>False</td>\n",
       "      <td>0</td>\n",
       "    </tr>\n",
       "    <tr>\n",
       "      <th>4</th>\n",
       "      <td>0</td>\n",
       "      <td>3</td>\n",
       "      <td>male</td>\n",
       "      <td>35.0</td>\n",
       "      <td>0</td>\n",
       "      <td>0</td>\n",
       "      <td>8.0500</td>\n",
       "      <td>S</td>\n",
       "      <td>3</td>\n",
       "      <td>man</td>\n",
       "      <td>True</td>\n",
       "      <td>NaN</td>\n",
       "      <td>Southampton</td>\n",
       "      <td>no</td>\n",
       "      <td>True</td>\n",
       "      <td>1</td>\n",
       "    </tr>\n",
       "  </tbody>\n",
       "</table>\n",
       "</div>"
      ],
      "text/plain": [
       "   survived  pclass     sex   age  sibsp  parch     fare embarked class  \\\n",
       "0         0       3    male  22.0      1      0   7.2500        S     3   \n",
       "1         1       1  female  38.0      1      0  71.2833        C     1   \n",
       "2         1       3  female  26.0      0      0   7.9250        S     3   \n",
       "3         1       1  female  35.0      1      0  53.1000        S     1   \n",
       "4         0       3    male  35.0      0      0   8.0500        S     3   \n",
       "\n",
       "     who  adult_male deck  embark_town alive  alone  Gender  \n",
       "0    man        True  NaN  Southampton    no  False       1  \n",
       "1  woman       False    C    Cherbourg   yes  False       0  \n",
       "2  woman       False  NaN  Southampton   yes   True       0  \n",
       "3  woman       False    C  Southampton   yes  False       0  \n",
       "4    man        True  NaN  Southampton    no   True       1  "
      ]
     },
     "execution_count": 21,
     "metadata": {},
     "output_type": "execute_result"
    }
   ],
   "source": [
    "data.head()"
   ]
  },
  {
   "cell_type": "markdown",
   "id": "63ce89cb-c6b0-4490-b42a-e906a4e1ee4a",
   "metadata": {},
   "source": [
    "### filter(), map() and Reduce()"
   ]
  },
  {
   "cell_type": "markdown",
   "id": "6e51206d-fb55-4275-9e56-38c7a3038b45",
   "metadata": {},
   "source": [
    "#### filter()\n",
    "\n",
    "- It takes two arguments, the first argument is a function (named function or lambda function) and the second argument is going to be an iterable object\n",
    "- It filters the values from the iterable\n",
    "- It will return a filter object\n",
    "- To fetch out the value from this object, we have to typecast it to either a list or a tuple"
   ]
  },
  {
   "cell_type": "code",
   "execution_count": 185,
   "id": "1f8745e0-5fa3-4b63-aa9b-4a8a4318fef2",
   "metadata": {},
   "outputs": [],
   "source": [
    "lst = [1,2,3,4,5,6,7,8,9,10]"
   ]
  },
  {
   "cell_type": "code",
   "execution_count": 193,
   "id": "9862f937-dac6-49fe-87e4-033de2c16b46",
   "metadata": {},
   "outputs": [
    {
     "data": {
      "text/plain": [
       "<filter at 0x2b1b1f353f0>"
      ]
     },
     "execution_count": 193,
     "metadata": {},
     "output_type": "execute_result"
    }
   ],
   "source": [
    "f = filter((lambda x: x%2 == 0), lst)\n",
    "f"
   ]
  },
  {
   "cell_type": "code",
   "execution_count": 195,
   "id": "0f8b8a33-de7c-44a8-b235-12b54c8c91fc",
   "metadata": {},
   "outputs": [
    {
     "data": {
      "text/plain": [
       "[2, 4, 6, 8, 10]"
      ]
     },
     "execution_count": 195,
     "metadata": {},
     "output_type": "execute_result"
    }
   ],
   "source": [
    "f = list(filter((lambda x: x%2 == 0), lst))\n",
    "f"
   ]
  },
  {
   "cell_type": "code",
   "execution_count": 197,
   "id": "78879c6c-30c3-43cb-b511-c5863d9f6db5",
   "metadata": {},
   "outputs": [],
   "source": [
    "def even(n):\n",
    "    if n%2 == 0:\n",
    "        return n"
   ]
  },
  {
   "cell_type": "code",
   "execution_count": 199,
   "id": "c4bd47ea-7e35-4abf-b90b-abe0ee797e89",
   "metadata": {},
   "outputs": [
    {
     "data": {
      "text/plain": [
       "[2, 4, 6, 8, 10]"
      ]
     },
     "execution_count": 199,
     "metadata": {},
     "output_type": "execute_result"
    }
   ],
   "source": [
    "f1 = list(filter(even,lst))\n",
    "f1"
   ]
  },
  {
   "cell_type": "markdown",
   "id": "9f1fe473-fa05-466e-8194-630e392c4c4f",
   "metadata": {},
   "source": [
    "#### map()\n",
    "\n",
    "- It also takes two argument, where the first argument is a function (named function or anonymous function) and the second element will be an iterable\n",
    "- The function that we pass in map() that should take 1 argument only]\n",
    "- It performs specified operation on each element of an iterable and return us a map object\n",
    "- to fetch the values from the map object, we have to typecast them to a list or a tuple\n",
    "\n",
    "__Syntax:__\n",
    "    \n",
    "        map(function, iterable)\n",
    "        map(lambda argument: operation, iterable)"
   ]
  },
  {
   "cell_type": "code",
   "execution_count": 201,
   "id": "08dd35ba-8b11-4bff-ac38-2e8825fa7751",
   "metadata": {},
   "outputs": [
    {
     "data": {
      "text/plain": [
       "[1, 2, 3, 4, 5, 6, 7, 8, 9, 10]"
      ]
     },
     "execution_count": 201,
     "metadata": {},
     "output_type": "execute_result"
    }
   ],
   "source": [
    "lst"
   ]
  },
  {
   "cell_type": "code",
   "execution_count": 203,
   "id": "9dda6cc0-ed34-453a-aa38-f066701d86b6",
   "metadata": {},
   "outputs": [
    {
     "name": "stdout",
     "output_type": "stream",
     "text": [
      "[0.5, 1.0, 1.5, 2.0, 2.5, 3.0, 3.5, 4.0, 4.5, 5.0]\n"
     ]
    }
   ],
   "source": [
    "lst1 = []\n",
    "\n",
    "for i in lst:\n",
    "    lst1.append(i*0.5)\n",
    "\n",
    "print(lst1)"
   ]
  },
  {
   "cell_type": "code",
   "execution_count": 205,
   "id": "639a5b6a-cfca-47d6-a2cb-f1b9eec8ef21",
   "metadata": {},
   "outputs": [
    {
     "data": {
      "text/plain": [
       "<map at 0x2b1b1f36560>"
      ]
     },
     "execution_count": 205,
     "metadata": {},
     "output_type": "execute_result"
    }
   ],
   "source": [
    "m = map(lambda x: x*0.5, lst)\n",
    "m"
   ]
  },
  {
   "cell_type": "code",
   "execution_count": 207,
   "id": "f03d75fb-88fb-4c04-9443-4abdd5bad818",
   "metadata": {},
   "outputs": [
    {
     "data": {
      "text/plain": [
       "[0.5, 1.0, 1.5, 2.0, 2.5, 3.0, 3.5, 4.0, 4.5, 5.0]"
      ]
     },
     "execution_count": 207,
     "metadata": {},
     "output_type": "execute_result"
    }
   ],
   "source": [
    "m = list(map(lambda x: x*0.5, lst))\n",
    "m"
   ]
  },
  {
   "cell_type": "code",
   "execution_count": 209,
   "id": "5ab32379-93f4-4127-b598-50a716dec75c",
   "metadata": {},
   "outputs": [
    {
     "data": {
      "text/plain": [
       "[]"
      ]
     },
     "execution_count": 209,
     "metadata": {},
     "output_type": "execute_result"
    }
   ],
   "source": [
    "m = list(map(lambda x: x*0.5, []))\n",
    "m"
   ]
  },
  {
   "cell_type": "markdown",
   "id": "fa8acc70-4092-4b6a-ba80-6a4410111c2b",
   "metadata": {},
   "source": [
    "### Reduce() function\n",
    "\n",
    "- It is available in the functools module in Python\n",
    "- It is used to perform aggregation operation on the values of an iterabe\n",
    "- __Aggregation Operation:__ sum, multiplication, divsion, max, min, average etc\n",
    "- It also takes two arguments, where the first argument is a function and the second argument is an iterable object\n",
    "- The function that we pass in the reduce function should have two arguments in it\n",
    "- It is going to return 1 value at the end\n",
    "- To use reduce() we first have to import functool module to our jupyter notebook first"
   ]
  },
  {
   "cell_type": "code",
   "execution_count": 211,
   "id": "bd4d2747-2f05-40e9-bdc2-91a0576aba84",
   "metadata": {},
   "outputs": [],
   "source": [
    "from functools import reduce"
   ]
  },
  {
   "cell_type": "code",
   "execution_count": 213,
   "id": "f60a42ea-d598-4061-9b14-cd4f75fa89cf",
   "metadata": {},
   "outputs": [
    {
     "data": {
      "text/plain": [
       "[1, 2, 3, 4, 5, 6, 7, 8, 9, 10]"
      ]
     },
     "execution_count": 213,
     "metadata": {},
     "output_type": "execute_result"
    }
   ],
   "source": [
    "lst"
   ]
  },
  {
   "cell_type": "code",
   "execution_count": 215,
   "id": "80927811-8c0a-4b5d-a51e-bd64518d1621",
   "metadata": {},
   "outputs": [
    {
     "data": {
      "text/plain": [
       "55"
      ]
     },
     "execution_count": 215,
     "metadata": {},
     "output_type": "execute_result"
    }
   ],
   "source": [
    "r = reduce((lambda x,y: x+y), lst)\n",
    "r"
   ]
  },
  {
   "cell_type": "code",
   "execution_count": null,
   "id": "fbc27e7a-b672-4b7c-bdfb-420b7a846b76",
   "metadata": {},
   "outputs": [],
   "source": [
    "x = 1, y = 2, x+y = 3\n",
    "x = 3, y = 3, x+y = 6\n",
    "x = 6, y = 4, x+y = 10\n",
    "x = 10, y = 5, x+y = 15\n",
    "x = 15, y = 6, x+y = 21\n",
    "x = 21, y = 7, x+y = 28\n",
    "x = 28, y = 8, x+y = 36\n",
    "x = 36, y = 9, x+y = 45\n",
    "x = 45, y = 10, x+y = 55"
   ]
  },
  {
   "cell_type": "code",
   "execution_count": 217,
   "id": "a563aaa0-a0ae-4ed4-b9cc-5c33ac22bcd4",
   "metadata": {},
   "outputs": [
    {
     "data": {
      "text/plain": [
       "9.001953125"
      ]
     },
     "execution_count": 217,
     "metadata": {},
     "output_type": "execute_result"
    }
   ],
   "source": [
    "r = reduce((lambda x,y: (x+y)/2), lst)\n",
    "r"
   ]
  },
  {
   "cell_type": "code",
   "execution_count": null,
   "id": "fb131b1d-9606-4963-93fc-bec1c62b0185",
   "metadata": {},
   "outputs": [],
   "source": [
    "x = 1, y = 2, x+y = 3, x+y/2 = 1.5\n",
    "x = 1.5, y = 3, x+y = 4.5/2 = 2.25\n",
    "x = 2.25, y = 4, x+y = 6.25/2 = 3.125\n",
    "x = 3.125, y = 5, x+y = 8.125/2 = 4.062\n",
    "x = 15, y = 6, x+y = 21\n",
    "x = 21, y = 7, x+y = 28\n",
    "x = 28, y = 8, x+y = 36\n",
    "x = 36, y = 9, x+y = 45\n",
    "x = 45, y = 10, x+y = 55"
   ]
  },
  {
   "cell_type": "code",
   "execution_count": 223,
   "id": "f1598bfd-3d44-4c74-8a46-2fcb3d3d72f9",
   "metadata": {},
   "outputs": [
    {
     "data": {
      "text/plain": [
       "10"
      ]
     },
     "execution_count": 223,
     "metadata": {},
     "output_type": "execute_result"
    }
   ],
   "source": [
    "r = reduce((lambda x,y: x if x>y else y), lst)\n",
    "r"
   ]
  },
  {
   "cell_type": "code",
   "execution_count": null,
   "id": "2969320e-ac15-4f96-ba7a-d5bd0b291b3f",
   "metadata": {},
   "outputs": [],
   "source": [
    "x = 1, y = 2, x+y = 3\n",
    "x = 3, y = 3, x+y = 6\n",
    "x = 6, y = 4, x+y = 10\n",
    "x = 10, y = 5, x+y = 15\n",
    "x = 15, y = 6, x+y = 21\n",
    "x = 21, y = 7, x+y = 28\n",
    "x = 28, y = 8, x+y = 36\n",
    "x = 36, y = 9, x+y = 45\n",
    "x = 45, y = 10, x+y = 55"
   ]
  },
  {
   "cell_type": "markdown",
   "id": "cd7cf0aa-4526-4eb9-b132-eb192b86d4ea",
   "metadata": {},
   "source": [
    "### map vs reduce-\n",
    "\n",
    "- __map()__ will operate on each element of the iterable separately.\n",
    "- __reduce()__ performs the aggregation on all elements. (Not one by one separately)"
   ]
  },
  {
   "cell_type": "markdown",
   "id": "e8be7af6-6c76-4417-93a2-85e9d49b68b5",
   "metadata": {},
   "source": [
    "### Recursive function\n",
    "\n",
    "- When the function calls itself then they are called a recursive function\n",
    "- Once the process is initiated, it will execute the code an infinite number of times, if we don't terminate the code\n",
    "\n",
    "__Syntax:__\n",
    "    \n",
    "        def recursive_func():\n",
    "            code\n",
    "            code\n",
    "            recursive func()"
   ]
  },
  {
   "cell_type": "markdown",
   "id": "b9012b35-94b1-40bc-a129-35f6e53207ad",
   "metadata": {},
   "source": [
    "#### Factorial \n",
    "\n",
    "n! = n*n-1*n-2*n-1......3,2,1\n",
    "0! = 1"
   ]
  },
  {
   "cell_type": "markdown",
   "id": "4661e2d1-63ec-42e8-9ac6-a47ea2b09e03",
   "metadata": {},
   "source": [
    "### Function Properties\n",
    "\n",
    "- Function aliasing\n",
    "- A function can be passed as an argument to another function\n",
    "- A fuction can be defined or declared (Can be rewritten) in another function (nested function)\n",
    "- A function can be called inside another function\n",
    "- A function may return another function"
   ]
  },
  {
   "cell_type": "markdown",
   "id": "8c22ddbf-99a5-4594-891f-88ea83db2d1a",
   "metadata": {},
   "source": [
    "### Function aliasing\n",
    "\n",
    "- Assigning a function to a variable is known as function aliasing\n",
    "- Giving some other name to an existing function is also known as function aliasing"
   ]
  },
  {
   "cell_type": "markdown",
   "id": "e9690cae-c620-4e80-af8d-e243f804af1e",
   "metadata": {},
   "source": [
    "### A function can be passed as an argument to another function\n",
    "\n",
    "\n",
    "#### Create a function that takes two arguments and returns the sum of those two numbers, Create another function that is going to take 3 arguments, the first argument is a function and the other arguments are the numbers that you want to pass in the first function that we have created, this function will return the squared of the result from the first function. This function should return the squared value of the result from the first function"
   ]
  },
  {
   "cell_type": "markdown",
   "id": "e6997b58-9c84-47db-8f55-fb82f6de9386",
   "metadata": {},
   "source": [
    "#### A function can be written inside a function (nested function) and it can also return an another function"
   ]
  },
  {
   "cell_type": "markdown",
   "id": "fce7502e-a6e3-4776-9f18-70dedb0070fe",
   "metadata": {},
   "source": [
    "### Decorator\n",
    "\n",
    "- A decorator is a design pattern that allows modify or extend the behaviour of a function or a method without modifying their underlying code."
   ]
  },
  {
   "cell_type": "markdown",
   "id": "083ae8ef-9b4a-4f44-87f7-8e6955a38ea7",
   "metadata": {},
   "source": [
    "### Modules\n",
    "\n",
    "- A module is a collection of functions\n",
    "- Once we put the functions in a module, we can use them in any program\n",
    "- Since modules are not the part of core python we cannot use them direct. We have to import the module, in order to use a particular function from that module\n",
    "- .(dot) operator will be used to access any function available in a module"
   ]
  },
  {
   "cell_type": "markdown",
   "id": "f285d9f2-d057-4d50-8d14-546f040eb6ec",
   "metadata": {},
   "source": [
    "### Types of Modules\n",
    "\n",
    "1. In-built modules\n",
    "2. User-defined modules"
   ]
  },
  {
   "cell_type": "markdown",
   "id": "15bf0f3d-4faa-4df9-a167-2e4a68c7a9ac",
   "metadata": {},
   "source": [
    "### In-built Modules\n",
    "\n",
    "- These modules that are pre-defined in python are known as your in-built modules\n",
    "- __Example:__ math, sys, functools, os, builtin etc"
   ]
  },
  {
   "cell_type": "markdown",
   "id": "0f834a47-dae4-49ff-8df2-1a54bfa114eb",
   "metadata": {},
   "source": [
    "### How to access a function from a modules?"
   ]
  },
  {
   "cell_type": "code",
   "execution_count": null,
   "id": "62b05f2c-a2b7-4d74-8a6d-ca7ddaeb2ea2",
   "metadata": {},
   "outputs": [],
   "source": []
  },
  {
   "cell_type": "markdown",
   "id": "00d250e7-abf7-4274-a368-e85706bdb21b",
   "metadata": {},
   "source": [
    "### Different ways of importing a module\n",
    "\n",
    "#### Case-1 Importing the whole module"
   ]
  },
  {
   "cell_type": "code",
   "execution_count": null,
   "id": "8dfe6057-7eaa-4eaf-b4e9-7be2ffe0beb2",
   "metadata": {},
   "outputs": [],
   "source": []
  },
  {
   "cell_type": "markdown",
   "id": "38ced2ff-1b74-4365-aff7-418961fc7642",
   "metadata": {},
   "source": [
    "#### Case-2 Importing a particular function from a module\n",
    "\n",
    "__Note:__ Restart you kernel for this"
   ]
  },
  {
   "cell_type": "code",
   "execution_count": null,
   "id": "4ea01f11-7e23-4a0b-a3c4-f67f8fcc4c99",
   "metadata": {},
   "outputs": [],
   "source": []
  },
  {
   "cell_type": "markdown",
   "id": "a73054e2-08a5-4d5e-9315-34d4b910d2bc",
   "metadata": {},
   "source": [
    "#### Case-3 Importing all the functions from a module"
   ]
  },
  {
   "cell_type": "code",
   "execution_count": null,
   "id": "b80f7532-b6d7-4559-8a13-467aad593982",
   "metadata": {},
   "outputs": [],
   "source": []
  },
  {
   "cell_type": "markdown",
   "id": "df23676f-ddc1-44db-8820-079e4fd4b599",
   "metadata": {},
   "source": [
    "### Renaming a module (aliasing)"
   ]
  },
  {
   "cell_type": "code",
   "execution_count": null,
   "id": "24c77f44-e1ad-40b3-9f45-18393997a919",
   "metadata": {},
   "outputs": [],
   "source": []
  },
  {
   "cell_type": "markdown",
   "id": "821bed5a-6528-4311-ad8d-c49cd477eef5",
   "metadata": {},
   "source": [
    "### Library\n",
    "\n",
    "- A collectiom of modules"
   ]
  },
  {
   "cell_type": "code",
   "execution_count": null,
   "id": "375e2c3f-044f-4bbf-8e74-77148bdf2192",
   "metadata": {},
   "outputs": [],
   "source": []
  },
  {
   "cell_type": "code",
   "execution_count": null,
   "id": "1405d71f-d1d2-4472-8fe4-5a74100fe435",
   "metadata": {},
   "outputs": [],
   "source": [
    "### User-defined modules\n",
    "\n",
    "- A user-defined module is going to be saved with an extension of .py\n",
    "- The files in the module contains function declaration"
   ]
  },
  {
   "cell_type": "code",
   "execution_count": null,
   "id": "9421a082-344a-484f-9f32-4ea5698934b8",
   "metadata": {},
   "outputs": [],
   "source": []
  },
  {
   "cell_type": "markdown",
   "id": "646f898c-f1e5-4913-822b-94fe9a0998b0",
   "metadata": {},
   "source": [
    "#### Assignmnet\n",
    "\n",
    "Create a module .py extension\n",
    "\n",
    "math_operation.py\n",
    "\n",
    " - add\n",
    " - sub\n",
    " - factorial\n",
    " - mul\n",
    " - div\n",
    " - power\n",
    " - floor_div\n",
    " - sqrt\n",
    " - average\n",
    " - max\n",
    " - min\n",
    " - cumulative sum"
   ]
  },
  {
   "cell_type": "markdown",
   "id": "3bc7b806-0115-49df-a9bb-762c5230c2db",
   "metadata": {},
   "source": [
    "### Namespace\n",
    "\n",
    "- A namespace is a mapping from names (identifiers) to object, variable, functions\n",
    "\n",
    "#### Types of Namespaces\n",
    "    - Built-in Namespace\n",
    "    - Global namespace\n",
    "    - Local Namespace"
   ]
  },
  {
   "cell_type": "markdown",
   "id": "17856f2f-6506-4037-8f37-38e949b563e6",
   "metadata": {},
   "source": [
    "### Built-in Namespace  \n",
    "\n",
    "- It refers to the namespace that contains the name of all the built-in functions, exception that are available to us without the need of explicit import statement"
   ]
  },
  {
   "cell_type": "markdown",
   "id": "778a8935-c8bb-4ef6-9371-e7530c6c47ab",
   "metadata": {},
   "source": [
    "### Global Namespace\n",
    "\n",
    "- This namespace is going to contain the names defined at the top level script or module\n",
    "- This namespace included variable, function, class, and other object"
   ]
  },
  {
   "cell_type": "markdown",
   "id": "3f52a604-db3f-4c7f-9206-753200eca242",
   "metadata": {},
   "source": [
    "### Local namespace\n",
    "\n",
    "- This namespace is going to contain names defined within a particular function or code\n",
    "- Everytime a function is being called, a new local namespace is created for the future scope"
   ]
  },
  {
   "cell_type": "markdown",
   "id": "8f870569-f90c-46b1-92e9-cba0576aef29",
   "metadata": {},
   "source": [
    "if __name__ == \"__main__\"\n",
    "\n",
    "- This is also called a construct in Python and is used to determine whether the Python script are being run as a main file or if it is being imported as a module into another script\n",
    "- When a Python script is executed, Python sets the special variable __name__ to \"__main__\" if the script is the main program being run. If the script is imported as a module into another script, then __name__ is set to the name of the module (i.e., the filename without the .py extension)."
   ]
  }
 ],
 "metadata": {
  "kernelspec": {
   "display_name": "Python 3 (ipykernel)",
   "language": "python",
   "name": "python3"
  },
  "language_info": {
   "codemirror_mode": {
    "name": "ipython",
    "version": 3
   },
   "file_extension": ".py",
   "mimetype": "text/x-python",
   "name": "python",
   "nbconvert_exporter": "python",
   "pygments_lexer": "ipython3",
   "version": "3.12.4"
  }
 },
 "nbformat": 4,
 "nbformat_minor": 5
}
