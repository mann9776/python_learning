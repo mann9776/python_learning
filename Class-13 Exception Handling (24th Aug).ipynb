{
 "cells": [
  {
   "cell_type": "code",
   "execution_count": 4,
   "id": "05d25b89-0e70-4b15-b34e-0b13f9c9dfe5",
   "metadata": {},
   "outputs": [
    {
     "data": {
      "text/plain": [
       "1"
      ]
     },
     "execution_count": 4,
     "metadata": {},
     "output_type": "execute_result"
    }
   ],
   "source": [
    "next(a)"
   ]
  },
  {
   "cell_type": "code",
   "execution_count": 5,
   "id": "28036a7d-7d27-4c2c-81d1-63efbad6133a",
   "metadata": {},
   "outputs": [
    {
     "data": {
      "text/plain": [
       "2"
      ]
     },
     "execution_count": 5,
     "metadata": {},
     "output_type": "execute_result"
    }
   ],
   "source": [
    "next(a)"
   ]
  },
  {
   "cell_type": "code",
   "execution_count": 6,
   "id": "d6b89c37-c21a-46a4-868d-8f6aebafd899",
   "metadata": {},
   "outputs": [
    {
     "data": {
      "text/plain": [
       "3"
      ]
     },
     "execution_count": 6,
     "metadata": {},
     "output_type": "execute_result"
    }
   ],
   "source": [
    "next(a)"
   ]
  },
  {
   "cell_type": "code",
   "execution_count": 7,
   "id": "1d1dd9e4-414f-42e4-87e6-baeb444e63ee",
   "metadata": {},
   "outputs": [
    {
     "data": {
      "text/plain": [
       "4"
      ]
     },
     "execution_count": 7,
     "metadata": {},
     "output_type": "execute_result"
    }
   ],
   "source": [
    "next(a)"
   ]
  },
  {
   "cell_type": "code",
   "execution_count": 8,
   "id": "4b68f488-0997-4934-9d8d-82b0571afe9c",
   "metadata": {},
   "outputs": [
    {
     "data": {
      "text/plain": [
       "5"
      ]
     },
     "execution_count": 8,
     "metadata": {},
     "output_type": "execute_result"
    }
   ],
   "source": [
    "next(a)"
   ]
  },
  {
   "cell_type": "code",
   "execution_count": 9,
   "id": "b3878d28-de54-4abe-ba6f-0285beec41ad",
   "metadata": {},
   "outputs": [
    {
     "data": {
      "text/plain": [
       "6"
      ]
     },
     "execution_count": 9,
     "metadata": {},
     "output_type": "execute_result"
    }
   ],
   "source": [
    "next(a)"
   ]
  },
  {
   "cell_type": "code",
   "execution_count": 10,
   "id": "90312ab3-90a8-4447-b540-e5012b70b926",
   "metadata": {
    "scrolled": true
   },
   "outputs": [
    {
     "ename": "StopIteration",
     "evalue": "",
     "output_type": "error",
     "traceback": [
      "\u001b[1;31m---------------------------------------------------------------------------\u001b[0m",
      "\u001b[1;31mStopIteration\u001b[0m                             Traceback (most recent call last)",
      "Cell \u001b[1;32mIn[10], line 1\u001b[0m\n\u001b[1;32m----> 1\u001b[0m \u001b[38;5;28mnext\u001b[39m(a)\n",
      "\u001b[1;31mStopIteration\u001b[0m: "
     ]
    }
   ],
   "source": [
    "next(a)"
   ]
  },
  {
   "cell_type": "code",
   "execution_count": 12,
   "id": "98f8aea7-f625-4d48-9354-cda7ce5ae6a0",
   "metadata": {},
   "outputs": [
    {
     "name": "stdout",
     "output_type": "stream",
     "text": [
      "p\n",
      "y\n",
      "t\n",
      "h\n",
      "o\n",
      "n\n"
     ]
    }
   ],
   "source": [
    "for i in 'python':\n",
    "    print(i)"
   ]
  },
  {
   "cell_type": "code",
   "execution_count": 13,
   "id": "51bf73ad-5601-4ae0-afa8-4f36fbb0cd2b",
   "metadata": {},
   "outputs": [
    {
     "name": "stdout",
     "output_type": "stream",
     "text": [
      "2187612349024\n"
     ]
    }
   ],
   "source": [
    "a  = 'python'\n",
    "b = iter(a)\n",
    "print(id(b))"
   ]
  },
  {
   "cell_type": "code",
   "execution_count": 22,
   "id": "0f76427f-394c-489e-be04-9420fbe6e42c",
   "metadata": {},
   "outputs": [
    {
     "ename": "StopIteration",
     "evalue": "",
     "output_type": "error",
     "traceback": [
      "\u001b[1;31m---------------------------------------------------------------------------\u001b[0m",
      "\u001b[1;31mStopIteration\u001b[0m                             Traceback (most recent call last)",
      "Cell \u001b[1;32mIn[22], line 1\u001b[0m\n\u001b[1;32m----> 1\u001b[0m \u001b[38;5;28mnext\u001b[39m(b)\n",
      "\u001b[1;31mStopIteration\u001b[0m: "
     ]
    }
   ],
   "source": [
    "next(b)"
   ]
  },
  {
   "cell_type": "code",
   "execution_count": 28,
   "id": "a9bc6781-8c5a-4610-8646-7ff00b4f5c52",
   "metadata": {},
   "outputs": [
    {
     "name": "stdout",
     "output_type": "stream",
     "text": [
      "2187627060272\n"
     ]
    }
   ],
   "source": [
    "b1 = iter(a)\n",
    "print(id(b1))"
   ]
  },
  {
   "cell_type": "code",
   "execution_count": 29,
   "id": "7504b12f-75a7-4c7a-ad1d-e0a2d2c19353",
   "metadata": {},
   "outputs": [
    {
     "data": {
      "text/plain": [
       "<str_ascii_iterator at 0x1fd58bbdc30>"
      ]
     },
     "execution_count": 29,
     "metadata": {},
     "output_type": "execute_result"
    }
   ],
   "source": [
    "b1"
   ]
  },
  {
   "cell_type": "code",
   "execution_count": 30,
   "id": "b828ecc7-e7fd-4d14-8626-50bc5fa86435",
   "metadata": {},
   "outputs": [
    {
     "data": {
      "text/plain": [
       "'p'"
      ]
     },
     "execution_count": 30,
     "metadata": {},
     "output_type": "execute_result"
    }
   ],
   "source": [
    "next(b1)"
   ]
  },
  {
   "cell_type": "code",
   "execution_count": 31,
   "id": "3125cc7f-eba5-4681-a510-9e76382186b3",
   "metadata": {},
   "outputs": [
    {
     "name": "stdout",
     "output_type": "stream",
     "text": [
      "<str_ascii_iterator object at 0x000001FD58BBC0D0> <class 'str_ascii_iterator'> 2187627053264\n"
     ]
    }
   ],
   "source": [
    "a = 'Mayank Atul Ghai'\n",
    "b1 = iter(a)\n",
    "print(b1, type(b1), id(b1))"
   ]
  },
  {
   "cell_type": "code",
   "execution_count": 49,
   "id": "489f990f-574a-4f7c-b17d-d08cd68610e4",
   "metadata": {},
   "outputs": [
    {
     "ename": "StopIteration",
     "evalue": "",
     "output_type": "error",
     "traceback": [
      "\u001b[1;31m---------------------------------------------------------------------------\u001b[0m",
      "\u001b[1;31mStopIteration\u001b[0m                             Traceback (most recent call last)",
      "Cell \u001b[1;32mIn[49], line 1\u001b[0m\n\u001b[1;32m----> 1\u001b[0m \u001b[38;5;28mnext\u001b[39m(b1)\n",
      "\u001b[1;31mStopIteration\u001b[0m: "
     ]
    }
   ],
   "source": [
    "next(b1)\n"
   ]
  },
  {
   "cell_type": "code",
   "execution_count": 51,
   "id": "3e546f0b-eae2-484b-bac3-aa81fd3342de",
   "metadata": {},
   "outputs": [
    {
     "name": "stdout",
     "output_type": "stream",
     "text": [
      "a\n",
      "a\n"
     ]
    }
   ],
   "source": [
    "for i in 'Mayank':\n",
    "    if i == 'a':\n",
    "        print(i)"
   ]
  },
  {
   "cell_type": "code",
   "execution_count": 52,
   "id": "f5d94aa9-d711-45f2-a5f1-62ea6d002e47",
   "metadata": {},
   "outputs": [
    {
     "data": {
      "text/plain": [
       "'y'"
      ]
     },
     "execution_count": 52,
     "metadata": {},
     "output_type": "execute_result"
    }
   ],
   "source": [
    "next(a)"
   ]
  },
  {
   "cell_type": "code",
   "execution_count": 54,
   "id": "3b48a5e7-0241-4345-8442-0d6d48b641e4",
   "metadata": {},
   "outputs": [
    {
     "data": {
      "text/plain": [
       "[1, 2]"
      ]
     },
     "execution_count": 54,
     "metadata": {},
     "output_type": "execute_result"
    }
   ],
   "source": [
    "a = iter()\n"
   ]
  },
  {
   "cell_type": "code",
   "execution_count": 58,
   "id": "5e7a05b0-8561-4fc7-b430-729615b7c31f",
   "metadata": {},
   "outputs": [
    {
     "ename": "StopIteration",
     "evalue": "",
     "output_type": "error",
     "traceback": [
      "\u001b[1;31m---------------------------------------------------------------------------\u001b[0m",
      "\u001b[1;31mStopIteration\u001b[0m                             Traceback (most recent call last)",
      "Cell \u001b[1;32mIn[58], line 1\u001b[0m\n\u001b[1;32m----> 1\u001b[0m \u001b[38;5;28mnext\u001b[39m(a)\n",
      "\u001b[1;31mStopIteration\u001b[0m: "
     ]
    }
   ],
   "source": [
    "next(a)"
   ]
  },
  {
   "cell_type": "code",
   "execution_count": null,
   "id": "a44665d3-f577-4ada-b1d8-494eacf76e88",
   "metadata": {},
   "outputs": [],
   "source": [
    "a = [[1,2], [2,3], [4,5], [6,7]]\n",
    "\n",
    "for i in a:\n",
    "    for j in i:"
   ]
  },
  {
   "cell_type": "markdown",
   "id": "4b8b4f48-5ecf-4dd1-b210-7c8a26d78826",
   "metadata": {},
   "source": [
    "### Exception Handling"
   ]
  },
  {
   "cell_type": "markdown",
   "id": "d69991d8-6657-49f8-8bbc-127b83bfe9fb",
   "metadata": {},
   "source": [
    "### Errors\n",
    "\n",
    "- Compile Time Error (Syntax Error and Indentation Error)\n",
    "- Runtime Error\n",
    "\n",
    "__Note:__- Whenever an error occurs, it disrupts the normal flow of execution "
   ]
  },
  {
   "cell_type": "markdown",
   "id": "6bc5449d-73dc-4496-980b-c30ccb63f14c",
   "metadata": {
    "id": "6bc5449d-73dc-4496-980b-c30ccb63f14c"
   },
   "source": [
    "#### What is Exception Handling\n",
    "\n",
    "Exception handling in Python is a crucial mechanism for managing errors that occur during program execution. Instead of allowing the entire program to crash when an error happens, exception handling allows you to catch these errors, handle them gracefully, and continue the program or terminate it cleanly."
   ]
  },
  {
   "cell_type": "markdown",
   "id": "724c6ec3-c929-47d3-b87c-9292f3be0b27",
   "metadata": {
    "id": "724c6ec3-c929-47d3-b87c-9292f3be0b27"
   },
   "source": [
    "#### Key Components of Exception Handling\n",
    "\n",
    "- **try:** This block lets you test a block of code for errors.\n",
    "- **except:** This block lets you handle the error.\n",
    "- **else:** If no errors were raised, this block will be executed.\n",
    "- **finally:** This block lets you execute code, regardless of the result of the try- and except blocks."
   ]
  },
  {
   "cell_type": "markdown",
   "id": "4c86319f-7765-4b32-b26b-a3734a1f0f6a",
   "metadata": {
    "id": "4c86319f-7765-4b32-b26b-a3734a1f0f6a"
   },
   "source": [
    "### try and except statement"
   ]
  },
  {
   "cell_type": "markdown",
   "id": "ea2690e3-ea02-4ca0-bdb3-ce896e07621a",
   "metadata": {
    "id": "ea2690e3-ea02-4ca0-bdb3-ce896e07621a"
   },
   "source": [
    "The `try` and `except` statement in Python is a fundamental structure for handling exceptions. This construct allows programmers to deal with errors in a flexible and robust manner, enabling the program to continue execution even when an error occurs.\n",
    "\n",
    "### Detailed Explanation of `try` and `except` Statement\n",
    "\n",
    "- **`try` Block**: This is where you place the code that you think might cause an error during execution. The purpose of the `try` block is to catch any exceptions that might be thrown as the program runs. By placing potentially error-prone code within a `try` block, you prepare to handle any problems that might cause the code to crash.\n",
    "\n",
    "- **`except` Block**: This block lets you handle the error. When an exception is raised in the `try` block, the rest of the `try` block's code is skipped, and the code in the `except` block runs. If the exception matches the exception named in the `except` clause, it is handled here. If no specific exception is named, the `except` block will catch all exceptions, which is not generally recommended because it can hide errors you might not be aware of.\n",
    "\n",
    "### Syntax\n",
    "\n",
    "Here’s the basic syntax of the `try` and `except` statement:\n",
    "\n",
    "```python\n",
    "try:\n",
    "    # Code that might throw an exception\n",
    "    code_1\n",
    "    code_2\n",
    "except SomeException:\n",
    "    # Code that runs if an exception occurs\n",
    "    response\n",
    "```"
   ]
  },
  {
   "cell_type": "code",
   "execution_count": 1,
   "id": "c09fabce-adef-40c6-bfa6-aa35eff7c32e",
   "metadata": {},
   "outputs": [
    {
     "name": "stdout",
     "output_type": "stream",
     "text": [
      "Hello\n",
      "Python\n"
     ]
    },
    {
     "ename": "NameError",
     "evalue": "name 'y' is not defined",
     "output_type": "error",
     "traceback": [
      "\u001b[1;31m---------------------------------------------------------------------------\u001b[0m",
      "\u001b[1;31mNameError\u001b[0m                                 Traceback (most recent call last)",
      "Cell \u001b[1;32mIn[1], line 3\u001b[0m\n\u001b[0;32m      1\u001b[0m \u001b[38;5;28mprint\u001b[39m(\u001b[38;5;124m'\u001b[39m\u001b[38;5;124mHello\u001b[39m\u001b[38;5;124m'\u001b[39m)\n\u001b[0;32m      2\u001b[0m \u001b[38;5;28mprint\u001b[39m(\u001b[38;5;124m'\u001b[39m\u001b[38;5;124mPython\u001b[39m\u001b[38;5;124m'\u001b[39m)\n\u001b[1;32m----> 3\u001b[0m \u001b[38;5;28mprint\u001b[39m(y)\n\u001b[0;32m      4\u001b[0m \u001b[38;5;28mprint\u001b[39m(\u001b[38;5;124m'\u001b[39m\u001b[38;5;124mThanks\u001b[39m\u001b[38;5;124m'\u001b[39m)\n",
      "\u001b[1;31mNameError\u001b[0m: name 'y' is not defined"
     ]
    }
   ],
   "source": [
    "print('Hello')\n",
    "print('Python')\n",
    "print(y)\n",
    "print('Thanks')\n",
    "\n",
    "\n"
   ]
  },
  {
   "cell_type": "code",
   "execution_count": 2,
   "id": "0f3f29d6-af5a-40e0-ab46-265ab96201b0",
   "metadata": {},
   "outputs": [
    {
     "name": "stdout",
     "output_type": "stream",
     "text": [
      "Hello\n",
      "Python\n",
      "Check your code\n",
      "Thankyou\n"
     ]
    }
   ],
   "source": [
    "try:\n",
    "    print('Hello')\n",
    "    print('Python')\n",
    "    print(y)\n",
    "    print('Thanks')\n",
    "\n",
    "except:\n",
    "    print('Check your code')\n",
    "\n",
    "print('Thankyou')"
   ]
  },
  {
   "cell_type": "markdown",
   "id": "58c4faef-8606-4171-891b-559a872e0563",
   "metadata": {
    "id": "58c4faef-8606-4171-891b-559a872e0563"
   },
   "source": [
    "### How to get a proper error message in exceptional handling\n",
    "\n",
    "In Python, when handling exceptions, you can capture and display more detailed information about an exception using the exception object itself. This approach provides insights into the nature of the error, helping you to understand and debug issues more effectively. Here’s how you can get detailed error messages during exception handling:\n",
    "\n",
    "### Basic Exception Handling with Error Messages\n",
    "\n",
    "1. **Use the Exception Object**: When an exception occurs, Python creates an exception object that can be used to obtain information about the error that has been raised. You can catch this object in the `except` block.\n",
    "\n",
    "2. **Accessing the Message**: The exception object typically has an attribute or a way to convert it to a string that represents the error messn quickly pinpoint the source of issues in your Python applications."
   ]
  },
  {
   "cell_type": "code",
   "execution_count": 3,
   "id": "60fa49af-6efb-4bfb-8384-fb95a658000b",
   "metadata": {},
   "outputs": [
    {
     "name": "stdout",
     "output_type": "stream",
     "text": [
      "Hello\n",
      "Python\n",
      "name 'y' is not defined\n",
      "Thankyou\n"
     ]
    }
   ],
   "source": [
    "try:\n",
    "    print('Hello')\n",
    "    print('Python')\n",
    "    print(y)\n",
    "    print('Thanks')\n",
    "\n",
    "except Exception as e:\n",
    "    print(e)\n",
    "\n",
    "print('Thankyou')"
   ]
  },
  {
   "cell_type": "code",
   "execution_count": 4,
   "id": "8d679d6e-b4d3-45ff-873a-db36c6c668a9",
   "metadata": {},
   "outputs": [
    {
     "name": "stdout",
     "output_type": "stream",
     "text": [
      "['ArithmeticError', 'AssertionError', 'AttributeError', 'BaseException', 'BaseExceptionGroup', 'BlockingIOError', 'BrokenPipeError', 'BufferError', 'BytesWarning', 'ChildProcessError', 'ConnectionAbortedError', 'ConnectionError', 'ConnectionRefusedError', 'ConnectionResetError', 'DeprecationWarning', 'EOFError', 'Ellipsis', 'EncodingWarning', 'EnvironmentError', 'Exception', 'ExceptionGroup', 'False', 'FileExistsError', 'FileNotFoundError', 'FloatingPointError', 'FutureWarning', 'GeneratorExit', 'IOError', 'ImportError', 'ImportWarning', 'IndentationError', 'IndexError', 'InterruptedError', 'IsADirectoryError', 'KeyError', 'KeyboardInterrupt', 'LookupError', 'MemoryError', 'ModuleNotFoundError', 'NameError', 'None', 'NotADirectoryError', 'NotImplemented', 'NotImplementedError', 'OSError', 'OverflowError', 'PendingDeprecationWarning', 'PermissionError', 'ProcessLookupError', 'RecursionError', 'ReferenceError', 'ResourceWarning', 'RuntimeError', 'RuntimeWarning', 'StopAsyncIteration', 'StopIteration', 'SyntaxError', 'SyntaxWarning', 'SystemError', 'SystemExit', 'TabError', 'TimeoutError', 'True', 'TypeError', 'UnboundLocalError', 'UnicodeDecodeError', 'UnicodeEncodeError', 'UnicodeError', 'UnicodeTranslateError', 'UnicodeWarning', 'UserWarning', 'ValueError', 'Warning', 'WindowsError', 'ZeroDivisionError', '__IPYTHON__', '__build_class__', '__debug__', '__doc__', '__import__', '__loader__', '__name__', '__package__', '__spec__', 'abs', 'aiter', 'all', 'anext', 'any', 'ascii', 'bin', 'bool', 'breakpoint', 'bytearray', 'bytes', 'callable', 'chr', 'classmethod', 'compile', 'complex', 'copyright', 'credits', 'delattr', 'dict', 'dir', 'display', 'divmod', 'enumerate', 'eval', 'exec', 'execfile', 'filter', 'float', 'format', 'frozenset', 'get_ipython', 'getattr', 'globals', 'hasattr', 'hash', 'help', 'hex', 'id', 'input', 'int', 'isinstance', 'issubclass', 'iter', 'len', 'license', 'list', 'locals', 'map', 'max', 'memoryview', 'min', 'next', 'object', 'oct', 'open', 'ord', 'pow', 'print', 'property', 'range', 'repr', 'reversed', 'round', 'runfile', 'set', 'setattr', 'slice', 'sorted', 'staticmethod', 'str', 'sum', 'super', 'tuple', 'type', 'vars', 'zip']\n"
     ]
    }
   ],
   "source": [
    "print(dir(__builtins__))"
   ]
  },
  {
   "cell_type": "code",
   "execution_count": 5,
   "id": "a6cef6da-3101-4b2d-9094-e14a6ca535d8",
   "metadata": {},
   "outputs": [
    {
     "name": "stdout",
     "output_type": "stream",
     "text": [
      "75\n"
     ]
    }
   ],
   "source": [
    "lst = ['ArithmeticError', 'AssertionError', 'AttributeError', 'BaseException', 'BaseExceptionGroup', 'BlockingIOError', 'BrokenPipeError', 'BufferError', 'BytesWarning', 'ChildProcessError', 'ConnectionAbortedError', 'ConnectionError', 'ConnectionRefusedError', 'ConnectionResetError', 'DeprecationWarning', 'EOFError', 'Ellipsis', 'EncodingWarning', 'EnvironmentError', 'Exception', 'ExceptionGroup', 'False', 'FileExistsError', 'FileNotFoundError', 'FloatingPointError', 'FutureWarning', 'GeneratorExit', 'IOError', 'ImportError', 'ImportWarning', 'IndentationError', 'IndexError', 'InterruptedError', 'IsADirectoryError', 'KeyError', 'KeyboardInterrupt', 'LookupError', 'MemoryError', 'ModuleNotFoundError', 'NameError', 'None', 'NotADirectoryError', 'NotImplemented', 'NotImplementedError', 'OSError', 'OverflowError', 'PendingDeprecationWarning', 'PermissionError', 'ProcessLookupError', 'RecursionError', 'ReferenceError', 'ResourceWarning', 'RuntimeError', 'RuntimeWarning', 'StopAsyncIteration', 'StopIteration', 'SyntaxError', 'SyntaxWarning', 'SystemError', 'SystemExit', 'TabError', 'TimeoutError', 'True', 'TypeError', 'UnboundLocalError', 'UnicodeDecodeError', 'UnicodeEncodeError', 'UnicodeError', 'UnicodeTranslateError', 'UnicodeWarning', 'UserWarning', 'ValueError', 'Warning', 'WindowsError', 'ZeroDivisionError',]\n",
    "print(len(lst))"
   ]
  },
  {
   "cell_type": "markdown",
   "id": "7fdb2fde-7977-41f4-ba7e-16a749afe007",
   "metadata": {
    "id": "7fdb2fde-7977-41f4-ba7e-16a749afe007"
   },
   "source": [
    "### Example: Catching and Printing the Exception Message\n",
    "\n",
    "Here’s a simple example of how to catch and print an error message:\n",
    "\n",
    "\n",
    "\n",
    "\n",
    "\n"
   ]
  },
  {
   "cell_type": "code",
   "execution_count": null,
   "id": "b16c678f-72d2-46ab-ad1d-e691586a6d5f",
   "metadata": {},
   "outputs": [],
   "source": [
    "try:\n",
    "    # Attempt to open a non-existing file:\n",
    "    with open('nonexistingfile.txt', mode = 'r') as f:\n",
    "        content = f.read()\n",
    "\n",
    "except FileNotFoundError as e:\n",
    "    print(e)"
   ]
  },
  {
   "cell_type": "code",
   "execution_count": 7,
   "id": "1c08c186-c5a6-4dcf-9cd7-9f607f8be70c",
   "metadata": {},
   "outputs": [
    {
     "name": "stdout",
     "output_type": "stream",
     "text": [
      "division by zero\n"
     ]
    }
   ],
   "source": [
    "try:\n",
    "    result = 10/0\n",
    "\n",
    "except ZeroDivisionError as e:\n",
    "    print(e)"
   ]
  },
  {
   "cell_type": "markdown",
   "id": "8cb3a25c-10e3-4473-9212-1a85ffc99024",
   "metadata": {
    "id": "8cb3a25c-10e3-4473-9212-1a85ffc99024"
   },
   "source": [
    "### Using Exception Attributes\n",
    "\n",
    "Some exceptions have specific attributes that provide additional information about the error. For example, the exceptions related to file operations often include a filename attribute:\n",
    "\n",
    "\n",
    "\n"
   ]
  },
  {
   "cell_type": "code",
   "execution_count": 9,
   "id": "78bca204-3951-4c97-86c0-24bf33ea6c06",
   "metadata": {},
   "outputs": [
    {
     "name": "stdout",
     "output_type": "stream",
     "text": [
      "An error occured\n"
     ]
    },
    {
     "name": "stderr",
     "output_type": "stream",
     "text": [
      "Traceback (most recent call last):\n",
      "  File \"C:\\Users\\Mayank\\AppData\\Local\\Temp\\ipykernel_14028\\1363159887.py\", line 4, in <module>\n",
      "    result = 10/0\n",
      "             ~~^~\n",
      "ZeroDivisionError: division by zero\n"
     ]
    }
   ],
   "source": [
    "import traceback\n",
    "\n",
    "try:\n",
    "    result = 10/0\n",
    "\n",
    "except ZeroDivisionError as e:\n",
    "    print('An error occured')\n",
    "    traceback.print_exc()"
   ]
  },
  {
   "cell_type": "markdown",
   "id": "2ddb6f42-bea4-4fda-969b-1b3da0c681b1",
   "metadata": {
    "id": "2ddb6f42-bea4-4fda-969b-1b3da0c681b1"
   },
   "source": [
    "### How to get a customed message for different error\n",
    "\n",
    "In Python, you can customize the error messages for different exceptions by catching each specific type of exception individually and providing custom messages for each. This approach allows you to handle different errors with tailored responses, making your application's error handling more informative and user-friendly.\n",
    "\n",
    "### Basic Example with Custom Messages for Different Errors\n",
    "\n",
    "Here's an example that demonstrates how to provide custom messages for different types of exceptions:\n",
    "\n",
    "\n"
   ]
  },
  {
   "cell_type": "code",
   "execution_count": 10,
   "id": "d1895deb-ec7d-486d-ad6f-99904c44cde1",
   "metadata": {},
   "outputs": [
    {
     "name": "stdin",
     "output_type": "stream",
     "text": [
      "Enter a number:  10.0\n"
     ]
    },
    {
     "ename": "ValueError",
     "evalue": "invalid literal for int() with base 10: '10.0'",
     "output_type": "error",
     "traceback": [
      "\u001b[1;31m---------------------------------------------------------------------------\u001b[0m",
      "\u001b[1;31mValueError\u001b[0m                                Traceback (most recent call last)",
      "Cell \u001b[1;32mIn[10], line 1\u001b[0m\n\u001b[1;32m----> 1\u001b[0m x \u001b[38;5;241m=\u001b[39m \u001b[38;5;28mint\u001b[39m(\u001b[38;5;28minput\u001b[39m(\u001b[38;5;124m'\u001b[39m\u001b[38;5;124mEnter a number: \u001b[39m\u001b[38;5;124m'\u001b[39m))\n\u001b[0;32m      2\u001b[0m y \u001b[38;5;241m=\u001b[39m \u001b[38;5;28mint\u001b[39m(\u001b[38;5;28minput\u001b[39m(\u001b[38;5;124m'\u001b[39m\u001b[38;5;124mEnter a second number: \u001b[39m\u001b[38;5;124m'\u001b[39m))\n\u001b[0;32m      4\u001b[0m result \u001b[38;5;241m=\u001b[39m x\u001b[38;5;241m/\u001b[39my\n",
      "\u001b[1;31mValueError\u001b[0m: invalid literal for int() with base 10: '10.0'"
     ]
    }
   ],
   "source": [
    "x = int(input('Enter a number: '))\n",
    "y = int(input('Enter a second number: '))\n",
    "\n",
    "result = x/y"
   ]
  },
  {
   "cell_type": "code",
   "execution_count": 11,
   "id": "bdfaa3cd-b4b2-44fc-ab1d-33963ce1833b",
   "metadata": {},
   "outputs": [
    {
     "name": "stdin",
     "output_type": "stream",
     "text": [
      "Enter a number:  l\n"
     ]
    },
    {
     "name": "stdout",
     "output_type": "stream",
     "text": [
      "Error: One of the input is not an integer\n"
     ]
    }
   ],
   "source": [
    "try:\n",
    "    # Some operation that can generate multiple types of error \n",
    "\n",
    "    x = int(input('Enter a number: '))\n",
    "    y = int(input('Enter a second number: '))\n",
    "\n",
    "    result = x/y\n",
    "\n",
    "    with open('example.txt', mode = 'r') as f:\n",
    "        content = f.read()\n",
    "\n",
    "except ValueError:\n",
    "    print('Error: One of the input is not an integer')\n",
    "\n",
    "except ZeroDivisionError:\n",
    "    print('Error: Division by zero is not possible')\n",
    "\n",
    "except FileNotFoundError:\n",
    "    print('Error: Unable to detect the file that you want to open')\n",
    "\n",
    "except Exception as e:\n",
    "    print(e)"
   ]
  },
  {
   "cell_type": "code",
   "execution_count": 12,
   "id": "317c7d9d-3450-4639-b002-a6293d24ce94",
   "metadata": {},
   "outputs": [
    {
     "name": "stdin",
     "output_type": "stream",
     "text": [
      "Enter a number:  10\n",
      "Enter a second number:  0\n"
     ]
    },
    {
     "name": "stdout",
     "output_type": "stream",
     "text": [
      "Error: Division by zero is not possible\n"
     ]
    }
   ],
   "source": [
    "try:\n",
    "    # Some operation that can generate multiple types of error \n",
    "\n",
    "    x = int(input('Enter a number: '))\n",
    "    y = int(input('Enter a second number: '))\n",
    "\n",
    "    result = x/y\n",
    "\n",
    "    with open('example.txt', mode = 'r') as f:\n",
    "        content = f.read()\n",
    "\n",
    "except ValueError:\n",
    "    print('Error: One of the input is not an integer')\n",
    "\n",
    "except ZeroDivisionError:\n",
    "    print('Error: Division by zero is not possible')\n",
    "\n",
    "except FileNotFoundError:\n",
    "    print('Error: Unable to detect the file that you want to open')\n",
    "\n",
    "except Exception as e:\n",
    "    print(e)"
   ]
  },
  {
   "cell_type": "code",
   "execution_count": 14,
   "id": "1cfba429-51bd-43a9-80c4-5aba77bf74de",
   "metadata": {},
   "outputs": [
    {
     "name": "stdin",
     "output_type": "stream",
     "text": [
      "Enter a number:  10\n",
      "Enter a second number:  20\n"
     ]
    },
    {
     "name": "stdout",
     "output_type": "stream",
     "text": [
      "Error: Unable to detect the file that you want to open\n",
      "Thankyou\n"
     ]
    }
   ],
   "source": [
    "try:\n",
    "    # Some operation that can generate multiple types of error \n",
    "\n",
    "    x = int(input('Enter a number: '))\n",
    "    y = int(input('Enter a second number: '))\n",
    "\n",
    "    result = x/y\n",
    "\n",
    "    with open('example.txt', mode = 'r') as f:\n",
    "        content = f.read()\n",
    "\n",
    "except ValueError:\n",
    "    print('Error: One of the input is not an integer')\n",
    "\n",
    "except ZeroDivisionError:\n",
    "    print('Error: Division by zero is not possible')\n",
    "\n",
    "except FileNotFoundError:\n",
    "    print('Error: Unable to detect the file that you want to open')\n",
    "\n",
    "except Exception as e:\n",
    "    print(e)\n",
    "\n",
    "print('Thankyou')"
   ]
  },
  {
   "cell_type": "markdown",
   "id": "946b54c2-ad4a-4cfb-b3db-42fc4992407d",
   "metadata": {
    "id": "946b54c2-ad4a-4cfb-b3db-42fc4992407d"
   },
   "source": [
    "### Explanation of the Code:\n",
    "\n",
    "1. **`try` Block**: This block contains the code that might throw several types of exceptions. It tries to convert user inputs to integers, performs a division, and attempts to open and read a file.\n",
    "\n",
    "2. **`except` Blocks**:\n",
    "   - **ValueError**: Catches errors related to invalid input (e.g., if the user enters a non-numeric string where a number is expected).\n",
    "   - **ZeroDivisionError**: Catches errors that occur when attempting to divide by zero.\n",
    "   - **FileNotFoundError**: Handles cases where the specified file does not exist.\n"
   ]
  },
  {
   "cell_type": "markdown",
   "id": "7129d2c8-53b6-42a2-b19d-d8de6dcbf42d",
   "metadata": {
    "id": "7129d2c8-53b6-42a2-b19d-d8de6dcbf42d"
   },
   "source": [
    "### Nested try and except statement\n",
    "\n",
    "In Python, you can nest `try` blocks within other `try` blocks or even within `except` and `else` blocks. This nesting is useful when you want to handle exceptions that may occur in different parts of a sequence of operations where each operation might throw different kinds of exceptions. Additionally, using `else` blocks in conjunction with `try` blocks can help in scenarios where you want to execute certain code only if no exceptions were raised in the `try` block.\n",
    "\n"
   ]
  },
  {
   "cell_type": "code",
   "execution_count": null,
   "id": "ccba70d6-316f-40e9-b7a6-3e36498f11b2",
   "metadata": {},
   "outputs": [],
   "source": [
    "outer try:\n",
    "    inner try:\n",
    "        # code \n",
    "    inner except:\n",
    "        # code \n",
    "outer except"
   ]
  },
  {
   "cell_type": "code",
   "execution_count": 18,
   "id": "5f1fea97-6a68-4f5f-af48-2fe10c42b87b",
   "metadata": {},
   "outputs": [
    {
     "name": "stdout",
     "output_type": "stream",
     "text": [
      "name 'z' is not defined\n"
     ]
    }
   ],
   "source": [
    "try:\n",
    "    print(z)\n",
    "    try:\n",
    "        a = 10\n",
    "        b = 20\n",
    "        \n",
    "    except ValueError as e:\n",
    "        print(e)\n",
    "        \n",
    "except NameError as e:\n",
    "    print(e)"
   ]
  },
  {
   "cell_type": "code",
   "execution_count": 19,
   "id": "3bc0fa96-a7d1-4a13-8164-3be8f0c62778",
   "metadata": {},
   "outputs": [
    {
     "name": "stdout",
     "output_type": "stream",
     "text": [
      "Error: unable to detect the file\n"
     ]
    }
   ],
   "source": [
    "try:\n",
    "    # Main operation that could fail\n",
    "    with open('file.txt', mode = 'r') as f:\n",
    "        content = f.read()\n",
    "\n",
    "        try:\n",
    "            # Nested operation that could also fail\n",
    "            num = int(content)\n",
    "            result = 10/num\n",
    "        except ValueError:\n",
    "            print('Error: The content you want to typecast to integer is a not an integer string')\n",
    "        except ZeroDivisionError:\n",
    "            print('Error: Division by zero is not possible')\n",
    "        except Exception as e:\n",
    "            print(e)\n",
    "except FileNotFoundError :\n",
    "    print('Error: unable to detect the file')\n",
    "\n",
    "except Exception as e:\n",
    "    print(e)\n",
    "\n"
   ]
  },
  {
   "cell_type": "markdown",
   "id": "ad02b736-0b76-4d98-b0fb-22bf92638a0e",
   "metadata": {
    "id": "ad02b736-0b76-4d98-b0fb-22bf92638a0e",
    "jp-MarkdownHeadingCollapsed": true
   },
   "source": [
    "### Explanation\n",
    "\n",
    "1. **Outer `try` Block**: This block attempts to take an input, convert it to an integer, and then perform division. If any of these operations fail, it will be caught by the corresponding `except` blocks.\n",
    "\n",
    "2. **Nested `try` Block**: Inside the outer `try`, there is another `try` block dedicated to file operations. This nesting allows handling file-related errors independently of the number input and division errors.\n",
    "\n",
    "3. **Outer `except` Blocks**: These handle errors specific to the operations in the outer `try` block, like `ValueError` for invalid input and `ZeroDivisionError` for division by zero.\n"
   ]
  },
  {
   "cell_type": "markdown",
   "id": "bc4e1e62-0d81-4664-85b2-c725bf7d4659",
   "metadata": {
    "id": "bc4e1e62-0d81-4664-85b2-c725bf7d4659"
   },
   "source": [
    "### Multiple try and excpt statement\n",
    "\n",
    "When you have multiple operations in your program that could fail independently of each other, it might be beneficial to use separate `try` and `except` blocks for each operation. This setup allows you to handle errors in a very specific and isolated manner, providing a clear response and recovery strategy for each distinct error condition.\n",
    "\n",
    "##### Syntax of Multiple `try` and `except` Statements\n",
    "\n",
    "Here's a basic example to demonstrate the syntax for using multiple `try` and `except` blocks:\n",
    "\n",
    "```python\n",
    "try:\n",
    "    # First block of code that might throw an exception\n",
    "    code_1\n",
    "    code_2\n",
    "except:\n",
    "    # Response if an exception occurs in the first try block\n",
    "    response_1\n",
    "            \n",
    "try:\n",
    "    # Second block of code that might throw another exception\n",
    "    code_3\n",
    "    code_4\n",
    "except:\n",
    "    # Response if an exception occurs in the second try blocvariety of error conditions gracefully and independently."
   ]
  },
  {
   "cell_type": "code",
   "execution_count": 23,
   "id": "543afc4d-ee31-4f72-be8e-24e04f72ca46",
   "metadata": {},
   "outputs": [
    {
     "name": "stdin",
     "output_type": "stream",
     "text": [
      "Enter a number:  0\n"
     ]
    },
    {
     "name": "stdout",
     "output_type": "stream",
     "text": [
      "division by zero\n",
      "[Errno 2] No such file or directory: 'file_1.txt'\n"
     ]
    }
   ],
   "source": [
    "try:\n",
    "    num = int(input('Enter a number: '))\n",
    "    result = 10/num\n",
    "    print(result)\n",
    "except Exception as e:\n",
    "    print(e)\n",
    "\n",
    "try:\n",
    "    with open('file_1.txt', mode = 'r') as f:\n",
    "        content = f.read()\n",
    "        print(content)\n",
    "except FileNotFoundError as e:\n",
    "    print(e)"
   ]
  },
  {
   "cell_type": "markdown",
   "id": "a2ae0813-7717-4d0b-a4d4-03d1ffce15e8",
   "metadata": {
    "id": "a2ae0813-7717-4d0b-a4d4-03d1ffce15e8"
   },
   "source": [
    "### Explanation\n",
    "\n",
    "1. **First `try` Block**: Attempts to convert user input to an integer. If the input is not a valid integer, a `ValueError` is raised, and the corresponding `except` block catches this exception and prints a message.\n",
    "\n",
    "2. **Second `try` Block**: Tries to open a file and read its contents. If the file does not exist, a `FileNotFoundError` is raised. The `except` block for this error then handles the exception by notifying the user that the file was not found.\n",
    "\n",
    "### Benefits of Using Multiple `try` and `except` Blocks\n",
    "\n",
    "- **Isolation of Error Handling**: By using multiple `try` blocks, you can isolate error handling for different sections of code. This isolation makes the code easier to debug and maintain since you know exactly which block of code a particular `except` is handling.\n",
    "\n",
    "- **Specificity in Error Responses**: Each `except` block can provide a very specific response to the error it handles. This specificity can improve the user's experience by providing clearer, more informative error messages.\n",
    "\n",
    "- **Prevent Unnecessary Code Execution**: If an error occurs in the first `try` block, the corresponding `except` will handle it, and the program will continue executing normally, potentially running subsequent `try` blocks. This prevents the entire program from stopping due to a single error, which is especially useful in applications where not all operations are interdependent.\n",
    "\n",
    "Using multiple `try` and `except` blocks like this can enhance the robustness of your Python applications, allowing them to handle a variety of error conditions gracefully and independently."
   ]
  },
  {
   "cell_type": "code",
   "execution_count": 29,
   "id": "f00bbbc4-ceac-419d-b0ff-d3951fb579df",
   "metadata": {},
   "outputs": [
    {
     "name": "stdin",
     "output_type": "stream",
     "text": [
      "Enter a number:  5\n"
     ]
    },
    {
     "name": "stdout",
     "output_type": "stream",
     "text": [
      "2.0\n",
      "This line is going to happen irrespective the things goes wrong or right\n"
     ]
    }
   ],
   "source": [
    "try:\n",
    "    # Main operation that could fail\n",
    "    num = int(input('Enter a number: '))\n",
    "    result = 10/num\n",
    "    print(result)\n",
    "    try:\n",
    "        # Nested operation that could also fail\n",
    "        with open('file.txt', mode = 'w') as f:\n",
    "            f.write(str(result))\n",
    "           \n",
    "    except TypeError:\n",
    "        print('Error: write will take a string element as an argument')\n",
    "    except Exception as e:\n",
    "        print(e)\n",
    "\n",
    "except ValueError:\n",
    "    print('Error: Invalid Input!\\nPlease enter a valid number')\n",
    "\n",
    "except ZeroDivisionError:\n",
    "    print('Division by zero is not possible')\n",
    "\n",
    "except Exception as e:\n",
    "    print(e)\n",
    "\n",
    "finally:\n",
    "    print('This line is going to happen irrespective the things goes wrong or right')\n",
    "    del(num)"
   ]
  },
  {
   "cell_type": "code",
   "execution_count": 27,
   "id": "681e926b-f49e-405f-be2b-37579dacb142",
   "metadata": {},
   "outputs": [
    {
     "ename": "NameError",
     "evalue": "name 'num' is not defined",
     "output_type": "error",
     "traceback": [
      "\u001b[1;31m---------------------------------------------------------------------------\u001b[0m",
      "\u001b[1;31mNameError\u001b[0m                                 Traceback (most recent call last)",
      "Cell \u001b[1;32mIn[27], line 1\u001b[0m\n\u001b[1;32m----> 1\u001b[0m num\n",
      "\u001b[1;31mNameError\u001b[0m: name 'num' is not defined"
     ]
    }
   ],
   "source": [
    "num"
   ]
  },
  {
   "cell_type": "code",
   "execution_count": null,
   "id": "ee11f446-62a1-4a0f-a269-c5cf5d73086c",
   "metadata": {},
   "outputs": [],
   "source": [
    "POP (procedure oriented Programming)\n",
    "\n",
    "- It a programming paradigm that centered around procedures, \n",
    "\n",
    "Key factore \n",
    "- Function as the primary building block\n",
    "- Top-Down appraoch\n",
    "- Global data sharing \n",
    "- Focus on sequence"
   ]
  },
  {
   "cell_type": "code",
   "execution_count": 30,
   "id": "c9c5d97a-e1dd-44a4-8c91-286d8ae760e8",
   "metadata": {},
   "outputs": [
    {
     "name": "stdin",
     "output_type": "stream",
     "text": [
      "Enter the length of the rectange 27\n",
      "Enter the width of the rectange 28\n"
     ]
    },
    {
     "name": "stdout",
     "output_type": "stream",
     "text": [
      "The area of the rectangle is: 756.0 square unit\n"
     ]
    }
   ],
   "source": [
    "# Function to calculate the area of a rectangle\n",
    "def cal_area(length, width):\n",
    "    return length*width\n",
    "\n",
    "# function to display the area\n",
    "def display_area(area):\n",
    "    print(f'The area of the rectangle is: {area} square unit')\n",
    "\n",
    "# Main procedure:\n",
    "def main():\n",
    "    len = float(input('Enter the length of the rectange'))\n",
    "    wid = float(input('Enter the width of the rectange'))\n",
    "\n",
    "    # call the functuin to calculate area\n",
    "    area = cal_area(len, wid)\n",
    "\n",
    "    #call the function to display the area\n",
    "    display_area(area)\n",
    "\n",
    "# Start the progarm\n",
    "if __name__ == '__main__':\n",
    "    main()"
   ]
  },
  {
   "cell_type": "code",
   "execution_count": null,
   "id": "70bb11ac-6ac3-43f2-9cae-8401d866ad96",
   "metadata": {},
   "outputs": [],
   "source": [
    "Properties of POP\n",
    "- modularity \n",
    "- simple to understand\n",
    "- less emphasis on the data \n",
    "\n",
    "Drawbrack of pop \n",
    "- Difficult to manage for large programs \n",
    "- Global data issue"
   ]
  },
  {
   "cell_type": "code",
   "execution_count": null,
   "id": "0a3ecabd-e588-486c-9543-817dffa8bddf",
   "metadata": {},
   "outputs": [],
   "source": [
    "OOPs (object oriented programming)\n",
    "\n",
    "- It is a programming paradigm that organize the software design around data or object (real time entities) rather than functiona nd logic\n",
    "- OOPS in python, allows to create classes that defined the properties or attributes and behavior or functionality of the object\n",
    "\n",
    "Class and Object \n",
    "Encaspulation\n",
    "Inheritence\n",
    "polymorphism \n",
    "abstraction "
   ]
  },
  {
   "cell_type": "code",
   "execution_count": null,
   "id": "f21e1888-2ab3-4c79-a952-279f6b8d4155",
   "metadata": {},
   "outputs": [],
   "source": [
    "class Student:\n",
    "\n",
    "    # attribute \n",
    "    def __init__(self):\n",
    "        self.name = 'mayank'\n",
    "        self.rollno = 10122\n",
    "        self.marks \n",
    "\n",
    "    def talk(self):\n",
    "        print(f'Hello my name is {self.name'"
   ]
  },
  {
   "cell_type": "code",
   "execution_count": 31,
   "id": "fd19bad1-9b91-45dd-8ecc-181d9ee25bfc",
   "metadata": {},
   "outputs": [
    {
     "data": {
      "text/plain": [
       "1"
      ]
     },
     "execution_count": 31,
     "metadata": {},
     "output_type": "execute_result"
    }
   ],
   "source": [
    "a = 'Hi, I am Mayank Ghai'\n",
    "\n",
    "a.count('a', 8, 12)"
   ]
  },
  {
   "cell_type": "code",
   "execution_count": 32,
   "id": "42da5346-8fa7-47e6-99a2-2428d438d050",
   "metadata": {},
   "outputs": [
    {
     "ename": "TypeError",
     "evalue": "list.count() takes exactly one argument (3 given)",
     "output_type": "error",
     "traceback": [
      "\u001b[1;31m---------------------------------------------------------------------------\u001b[0m",
      "\u001b[1;31mTypeError\u001b[0m                                 Traceback (most recent call last)",
      "Cell \u001b[1;32mIn[32], line 2\u001b[0m\n\u001b[0;32m      1\u001b[0m lst \u001b[38;5;241m=\u001b[39m [\u001b[38;5;241m1\u001b[39m,\u001b[38;5;241m2\u001b[39m,\u001b[38;5;241m3\u001b[39m,\u001b[38;5;241m4\u001b[39m,\u001b[38;5;241m1\u001b[39m,\u001b[38;5;241m2\u001b[39m,\u001b[38;5;241m4\u001b[39m,\u001b[38;5;241m1\u001b[39m,\u001b[38;5;241m1\u001b[39m,\u001b[38;5;241m4\u001b[39m]\n\u001b[1;32m----> 2\u001b[0m lst\u001b[38;5;241m.\u001b[39mcount(\u001b[38;5;241m1\u001b[39m, \u001b[38;5;241m2\u001b[39m,\u001b[38;5;241m8\u001b[39m)\n",
      "\u001b[1;31mTypeError\u001b[0m: list.count() takes exactly one argument (3 given)"
     ]
    }
   ],
   "source": [
    "lst = [1,2,3,4,1,2,4,1,1,4]\n",
    "lst.count(1, 2,8)"
   ]
  },
  {
   "cell_type": "code",
   "execution_count": null,
   "id": "2dea96f8-5fd5-445f-9e59-d5232f3ed5ba",
   "metadata": {},
   "outputs": [],
   "source": []
  }
 ],
 "metadata": {
  "colab": {
   "provenance": []
  },
  "kernelspec": {
   "display_name": "Python 3 (ipykernel)",
   "language": "python",
   "name": "python3"
  },
  "language_info": {
   "codemirror_mode": {
    "name": "ipython",
    "version": 3
   },
   "file_extension": ".py",
   "mimetype": "text/x-python",
   "name": "python",
   "nbconvert_exporter": "python",
   "pygments_lexer": "ipython3",
   "version": "3.12.4"
  }
 },
 "nbformat": 4,
 "nbformat_minor": 5
}
