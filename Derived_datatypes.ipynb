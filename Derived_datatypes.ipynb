{
 "cells": [
  {
   "cell_type": "code",
   "execution_count": 41,
   "id": "f094d826-0a1d-48ad-9fbb-714c1ce80902",
   "metadata": {},
   "outputs": [
    {
     "name": "stdout",
     "output_type": "stream",
     "text": [
      "[1] <class 'list'>\n",
      "[1, 2, 3, 4, 10] <class 'list'>\n",
      "[1, 2.0, 0.75, range(0, 5), None, 'Hello', (4+5j)] <class 'list'>\n",
      "[1, 1, 1, 0, True, range(1, 10), 'Python', [2, 3, 4, 0], 5.5] <class 'list'> 2058672219328\n",
      "['P', 'y', 't', 'h', 'o', 'n'] <class 'list'>\n"
     ]
    }
   ],
   "source": [
    "## Derived data types\n",
    "# List, tuple, dictionary, set and frozenset\n",
    "\n",
    "#Lists .. []\n",
    "a = [1]\n",
    "print(a, type(a))\n",
    "a=[1,2,3,4,10]\n",
    "print(a, type(a))\n",
    "a=[1,2.0,3/4,range(5),None,'Hello',4+5j]\n",
    "print(a,type(a))\n",
    "a=[1,1,1,0,True,range(1,10),'Python',[2,3,4,0],5.5]\n",
    "print(a,type(a),id(a))\n",
    "a='Python'\n",
    "b=list(a)\n",
    "print(b,type(b))"
   ]
  },
  {
   "cell_type": "code",
   "execution_count": 20,
   "id": "8702db84-01ef-4223-8c8f-9b2761d43ae2",
   "metadata": {},
   "outputs": [
    {
     "name": "stdout",
     "output_type": "stream",
     "text": [
      "[1, 1, 2, 3, 4] 2058671800960\n",
      "1 140707688727336\n",
      "1 140707688727336\n",
      "2 140707688727368\n",
      "3 140707688727400\n",
      "4 140707688727432\n",
      "None <class 'NoneType'> 140707687336720\n",
      "None 140707687336720\n",
      "[1, 1, 2, 3, 4] 2058657991872\n",
      "[1, 1, 2, 3, 4, 100] 2058657991872\n",
      "[1, 1, 2, 3, 4, 100, 0, 1, 2, 3, 4] 2058657991872\n"
     ]
    }
   ],
   "source": [
    "a=[1,1,2,3,4]\n",
    "print(a,id(a))\n",
    "for i in a:\n",
    "    print(i, id(i))\n",
    "a = a.append(10)\n",
    "print(a, type(a), id(a))\n",
    "a=[1,1,2,3,4]\n",
    "b = a.append(10)\n",
    "print(b, id(b))\n",
    "\n",
    "a=[1,1,2,3,4]\n",
    "print(a,id(a))\n",
    "a.append(100)\n",
    "print(a,id(a))\n",
    "for i in range(5):\n",
    "    a.append(i)\n",
    "print(a,id(a))"
   ]
  },
  {
   "cell_type": "code",
   "execution_count": 42,
   "id": "90460b41-8d62-4d4d-9267-12f9ea72b988",
   "metadata": {},
   "outputs": [
    {
     "name": "stdout",
     "output_type": "stream",
     "text": [
      "1 <class 'int'> 140707688727336\n",
      "(1,) <class 'tuple'> 2058659304480\n",
      "(1, 2.3, (4+0j), 'Hello', range(0, 5), None, True, (2, 3, 4)) <class 'tuple'> 2058672270144\n"
     ]
    },
    {
     "ename": "AttributeError",
     "evalue": "'tuple' object has no attribute 'append'",
     "output_type": "error",
     "traceback": [
      "\u001b[1;31m---------------------------------------------------------------------------\u001b[0m",
      "\u001b[1;31mAttributeError\u001b[0m                            Traceback (most recent call last)",
      "Cell \u001b[1;32mIn[42], line 8\u001b[0m\n\u001b[0;32m      6\u001b[0m b\u001b[38;5;241m=\u001b[39m(\u001b[38;5;241m1\u001b[39m,\u001b[38;5;241m2.3\u001b[39m,\u001b[38;5;241m4\u001b[39m\u001b[38;5;241m+\u001b[39m\u001b[38;5;241m0\u001b[39mj,\u001b[38;5;124m'\u001b[39m\u001b[38;5;124mHello\u001b[39m\u001b[38;5;124m'\u001b[39m,\u001b[38;5;28mrange\u001b[39m(\u001b[38;5;241m5\u001b[39m),\u001b[38;5;28;01mNone\u001b[39;00m,\u001b[38;5;28;01mTrue\u001b[39;00m,(\u001b[38;5;241m2\u001b[39m,\u001b[38;5;241m3\u001b[39m,\u001b[38;5;241m4\u001b[39m))\n\u001b[0;32m      7\u001b[0m \u001b[38;5;28mprint\u001b[39m(b,\u001b[38;5;28mtype\u001b[39m(b),\u001b[38;5;28mid\u001b[39m(b))\n\u001b[1;32m----> 8\u001b[0m b\u001b[38;5;241m.\u001b[39mappend(\u001b[38;5;241m5\u001b[39m)\n\u001b[0;32m      9\u001b[0m \u001b[38;5;28mprint\u001b[39m(b)\n\u001b[0;32m     10\u001b[0m a\u001b[38;5;241m=\u001b[39m\u001b[38;5;124m'\u001b[39m\u001b[38;5;124mPython\u001b[39m\u001b[38;5;124m'\u001b[39m\n",
      "\u001b[1;31mAttributeError\u001b[0m: 'tuple' object has no attribute 'append'"
     ]
    }
   ],
   "source": [
    "#Tuples ... ()\n",
    "a=(1)\n",
    "print(a,type(a),id(a))\n",
    "a=(1,)\n",
    "print(a,type(a),id(a))\n",
    "b=(1,2.3,4+0j,'Hello',range(5),None,True,(2,3,4))\n",
    "print(b,type(b),id(b))\n",
    "b.append(5)\n",
    "print(b)\n",
    "a='Python'\n",
    "b=tuple(a)\n",
    "print(b,type(b))"
   ]
  },
  {
   "cell_type": "code",
   "execution_count": 43,
   "id": "e83f4752-0f1c-4673-8e7d-13e82978be2c",
   "metadata": {},
   "outputs": [
    {
     "name": "stdout",
     "output_type": "stream",
     "text": [
      "(1, 2, 3) 2058671763776\n",
      "(1, 2, 3, 5) 2058672029296\n",
      "[1, 2, 3] 2058672120576\n",
      "[1, 2, 3, 5] 2058672120576\n",
      "[1, 3, 5] 2058672120576\n",
      "('P', 'y', 't', 'h', 'o', 'n') <class 'tuple'>\n"
     ]
    }
   ],
   "source": [
    "t=(1,2,3)\n",
    "print(t,id(t))\n",
    "t=t+(5,)\n",
    "print(t,id(t))\n",
    "\n",
    "a= [1,2,3]\n",
    "print(a,id(a))\n",
    "a.append(5)\n",
    "print(a,id(a))\n",
    "a.remove(2)\n",
    "print(a,id(a))\n",
    "a='Python'\n",
    "b=tuple(a)\n",
    "print(b,type(b))"
   ]
  },
  {
   "cell_type": "code",
   "execution_count": 34,
   "id": "a05a5a31-8f80-4761-a01a-5a9a6b314873",
   "metadata": {},
   "outputs": [
    {
     "name": "stdout",
     "output_type": "stream",
     "text": [
      "{1: 100, 2: 200, 3: 300} <class 'dict'> 2058671507008\n"
     ]
    }
   ],
   "source": [
    "# Dictionary {keys:values}\n",
    "d={1:100,2:200,3:300}\n",
    "print(d,type(d),id(d))"
   ]
  },
  {
   "cell_type": "code",
   "execution_count": 72,
   "id": "a5eba656-ee12-4bfe-8b9c-ce852ab91135",
   "metadata": {},
   "outputs": [
    {
     "name": "stdout",
     "output_type": "stream",
     "text": [
      "{'Name': 'Adam', 'City': 'Jaipur', 'Age': 30, 'DOB': '27.10.1993'}\n",
      "{'Name': 'Adam', 'Age': 30, 'DOB': '27.10.1993'}\n",
      "{'Name': 'Adam', 'Age': 30, 'DOB': '27.10.1993', 'City': 'Pune'}\n"
     ]
    }
   ],
   "source": [
    "data={'Name':'Adam','City':'Jaipur','Age':30,'DOB':'27.10.1993'}\n",
    "print(data)\n",
    "data.pop('City')\n",
    "print(data)\n",
    "data['City']='Pune'\n",
    "print(data)"
   ]
  },
  {
   "cell_type": "code",
   "execution_count": 36,
   "id": "af9b4c35-b049-4c67-bfe1-34af2482abfa",
   "metadata": {},
   "outputs": [
    {
     "ename": "TypeError",
     "evalue": "unhashable type: 'list'",
     "output_type": "error",
     "traceback": [
      "\u001b[1;31m---------------------------------------------------------------------------\u001b[0m",
      "\u001b[1;31mTypeError\u001b[0m                                 Traceback (most recent call last)",
      "Cell \u001b[1;32mIn[36], line 1\u001b[0m\n\u001b[1;32m----> 1\u001b[0m a\u001b[38;5;241m=\u001b[39m{[\u001b[38;5;241m1\u001b[39m,\u001b[38;5;241m2\u001b[39m,\u001b[38;5;241m3\u001b[39m]:\u001b[38;5;241m44\u001b[39m,\u001b[38;5;241m1\u001b[39m:\u001b[38;5;241m100\u001b[39m}\n\u001b[0;32m      2\u001b[0m \u001b[38;5;28mprint\u001b[39m(a)\n",
      "\u001b[1;31mTypeError\u001b[0m: unhashable type: 'list'"
     ]
    }
   ],
   "source": [
    "a={[1,2,3]:44,1:100}\n",
    "print(a)"
   ]
  },
  {
   "cell_type": "code",
   "execution_count": 53,
   "id": "0d7232d9-0e4f-4e7e-a4ee-395773bfd810",
   "metadata": {},
   "outputs": [
    {
     "name": "stdout",
     "output_type": "stream",
     "text": [
      "{1: [1, 2, 3], 5: 100}\n"
     ]
    },
    {
     "ename": "ValueError",
     "evalue": "dictionary update sequence element #0 has length 1; 2 is required",
     "output_type": "error",
     "traceback": [
      "\u001b[1;31m---------------------------------------------------------------------------\u001b[0m",
      "\u001b[1;31mValueError\u001b[0m                                Traceback (most recent call last)",
      "Cell \u001b[1;32mIn[53], line 4\u001b[0m\n\u001b[0;32m      2\u001b[0m \u001b[38;5;28mprint\u001b[39m(a)\n\u001b[0;32m      3\u001b[0m a\u001b[38;5;241m=\u001b[39m\u001b[38;5;124m'\u001b[39m\u001b[38;5;124mPython\u001b[39m\u001b[38;5;124m'\u001b[39m\n\u001b[1;32m----> 4\u001b[0m b\u001b[38;5;241m=\u001b[39m\u001b[38;5;28mdict\u001b[39m(a)\n\u001b[0;32m      5\u001b[0m \u001b[38;5;28mprint\u001b[39m(b,\u001b[38;5;28mtype\u001b[39m(b))\n",
      "\u001b[1;31mValueError\u001b[0m: dictionary update sequence element #0 has length 1; 2 is required"
     ]
    }
   ],
   "source": [
    "a={1:[1,2,3],5:100}\n",
    "print(a)\n",
    "a='Python'\n",
    "b=dict(a)\n",
    "print(b,type(b))"
   ]
  },
  {
   "cell_type": "code",
   "execution_count": 88,
   "id": "7560da64-c286-4dee-913e-d1543360b938",
   "metadata": {},
   "outputs": [
    {
     "name": "stdout",
     "output_type": "stream",
     "text": [
      "{1, 2, 3, 4} <class 'set'>\n",
      "{1, 2, 3, 4, 5} <class 'set'>\n",
      "{'P', 'o', 'y', 'n', 't', 'h'} <class 'set'>\n",
      "4\n",
      "{1, 2, 3, 4, 5, 6}\n",
      "{1, 2, 3, 4, 5}\n",
      "{'apple', 'mango', 'papaya', 'guava', 'banana'}\n",
      "{'apple', 'mango', 'papaya', 'grapes', 'guava', 'banana'}\n",
      "{'mango', 'papaya', 'grapes', 'guava', 'banana'}\n",
      "set()\n",
      "{1, 2, 3, 4, 5, 7}\n",
      "{2, 3, 4}\n",
      "{5, 7}\n",
      "{1}\n",
      "{1}\n",
      "{5, 7}\n",
      "{1, 5, 7}\n"
     ]
    }
   ],
   "source": [
    "#Sets {} #mutable datatypes\n",
    "\n",
    "a={1,2,3,4}\n",
    "print(a,type(a))\n",
    "a={1,2,3,4,5,2,1,3,2,1,5}\n",
    "print(a,type(a))\n",
    "a=set('Python')\n",
    "print(a,type(a))\n",
    "\n",
    "a = {1,2,3,4,2,3}\n",
    "b = {2,4,5,7,8}\n",
    "print(len(a))\n",
    "\n",
    "ab = set((1,2,3,4,2,1,5,6))\n",
    "print(ab)\n",
    "ab = set([1,2,3,3,4,2,5])\n",
    "print(ab)\n",
    "fruits = {'apple','banana','papaya'}\n",
    "seasoned = ['mango', 'guava']\n",
    "fruits.update(seasoned)\n",
    "print(fruits)\n",
    "fruits.add('grapes')\n",
    "print(fruits)\n",
    "fruits.pop()\n",
    "print(fruits)\n",
    "fruits.clear()\n",
    "print(fruits)\n",
    "fruits = {'apple','banana','papaya'}\n",
    "del fruits\n",
    "#print(fruits)\n",
    "set1 = {1,2,3,4,1,2,3}\n",
    "set2 = {2,5,3,4,7}\n",
    "print(set2.union(set1))\n",
    "print(set2.intersection(set1))\n",
    "print(set2 - set1)\n",
    "print(set1 - set2)\n",
    "print(set1.difference(set2))\n",
    "print(set2.difference(set1))\n",
    "print(set2.symmetric_difference(set1))"
   ]
  },
  {
   "cell_type": "code",
   "execution_count": 55,
   "id": "efc930ac-b217-4263-b849-30866bb2dfa7",
   "metadata": {},
   "outputs": [
    {
     "name": "stdout",
     "output_type": "stream",
     "text": [
      "frozenset({'P', 'o', 'y', 'n', 't', 'h'}) <class 'frozenset'>\n"
     ]
    }
   ],
   "source": [
    "a=frozenset('Python') #immutable datatypes\n",
    "print(a,type(a))"
   ]
  },
  {
   "cell_type": "code",
   "execution_count": 57,
   "id": "008897db-fd35-4d86-b34c-6b706a69c1ab",
   "metadata": {},
   "outputs": [
    {
     "name": "stdout",
     "output_type": "stream",
     "text": [
      "{1: 10, 2: 20, 3: 30, 4: 40}\n"
     ]
    }
   ],
   "source": [
    "a = [1,2,3,4]\n",
    "b = [10,20,30,40]\n",
    "c = zip(a,b)\n",
    "d = dict(c)\n",
    "print(d)"
   ]
  },
  {
   "cell_type": "code",
   "execution_count": null,
   "id": "4dceb338-9558-4fbf-9689-523badbfb55b",
   "metadata": {},
   "outputs": [],
   "source": []
  }
 ],
 "metadata": {
  "kernelspec": {
   "display_name": "Python 3 (ipykernel)",
   "language": "python",
   "name": "python3"
  },
  "language_info": {
   "codemirror_mode": {
    "name": "ipython",
    "version": 3
   },
   "file_extension": ".py",
   "mimetype": "text/x-python",
   "name": "python",
   "nbconvert_exporter": "python",
   "pygments_lexer": "ipython3",
   "version": "3.11.7"
  }
 },
 "nbformat": 4,
 "nbformat_minor": 5
}
