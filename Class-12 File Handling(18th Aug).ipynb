{
 "cells": [
  {
   "cell_type": "markdown",
   "id": "0888083c-48a3-4222-93c7-487b8bead198",
   "metadata": {},
   "source": [
    "### File Handling\n",
    "\n",
    "#### File\n",
    "- It is a disk space where we will keep a code or any kind of information that we want to reuse\n",
    "- It is like some container which is going to hold the data in it a in it\n",
    "\n",
    "##### Type of files in Python\n",
    "    \n",
    "  1. Text File\n",
    "      - .py file (python execution file)\n",
    "      - .txt file (text file)\n",
    "      - .csv file (comma seperated file)\n",
    "   \n",
    "  2. Binary file\n",
    "      - Any file other than the text file\n",
    "          - Image file\n",
    "          - Audio file\n",
    "          - Video File\n",
    "          - .dat  file\n",
    "          - .bin files"
   ]
  },
  {
   "cell_type": "markdown",
   "id": "ec06257a-fccd-43bf-8a0a-a8438634648b",
   "metadata": {},
   "source": [
    "### File Operations\n",
    "\n",
    "- We are going to perform CRUD operation over the file in file handling\n",
    "\n",
    "    - C: Create\n",
    "    - R: Read\n",
    "    - U: Update\n",
    "    - D: Delete"
   ]
  },
  {
   "cell_type": "markdown",
   "id": "216a78cd-539b-4ce2-8c34-f4c8355fd784",
   "metadata": {},
   "source": [
    "### Text file\n",
    "\n",
    "- In Python, a file has to opened first to perform any of the above mentioned Operations\n",
    "\n",
    "#### Operations on a File in Python\n",
    "\n",
    "- Open a file\n",
    "- Read from a file\n",
    "- Write in a file\n",
    "- Close a file\n",
    "- Delete file"
   ]
  },
  {
   "cell_type": "markdown",
   "id": "30652bd3-a90c-434d-9022-a3efb4042b5a",
   "metadata": {},
   "source": [
    "### How to Open a file\n",
    "\n",
    "- __open()__ function is used to open a file\n",
    "\n",
    "    Syntax:\n",
    "        \n",
    "        file_object = open('file_name', mode = )\n",
    "\n",
    "- By default, if we don't specify the mode, it will open in the read mode"
   ]
  },
  {
   "cell_type": "code",
   "execution_count": 31,
   "id": "e4d19b24-0ccd-45ab-b5ea-2532f7ac0435",
   "metadata": {},
   "outputs": [
    {
     "name": "stdout",
     "output_type": "stream",
     "text": [
      "Hi, My name is Mayank Ghai\n",
      "I am working as a Sr. Data Analyst at IZMO pvt ltd, Bengaluru\n",
      "I am also working as a Trainer at Learnbay and looks after different modules\n",
      "I did my bachlor's in Mechatronics from UPES, Dehradun\n",
      "I worked under a scientist as a project assistant for three years, we use to deal with making rehabilitation robots \n",
      "I am a big foodie, I love to cook \n",
      "I am certified choreographer and a certified pianoist\n"
     ]
    }
   ],
   "source": [
    "f = open('intro.txt')\n",
    "print(f.read())"
   ]
  },
  {
   "cell_type": "code",
   "execution_count": 33,
   "id": "efe4bc4e-623e-4d16-8fff-9fd9971140f1",
   "metadata": {},
   "outputs": [],
   "source": [
    "f = open('intro.txt', mode = 'w')"
   ]
  },
  {
   "cell_type": "markdown",
   "id": "3f2d0cf8-828e-43d8-be6d-40b07b88de83",
   "metadata": {},
   "source": [
    "### How to Close a file\n",
    "\n",
    "- close() function is used to close a file\n",
    "- In python, a file has to be closed once the operatmion is done\n",
    "\n",
    "__Syntax:__\n",
    "    \n",
    "        file_object.close()"
   ]
  },
  {
   "cell_type": "code",
   "execution_count": 35,
   "id": "639472be-cab0-4dfb-836e-c94b0791ee39",
   "metadata": {},
   "outputs": [],
   "source": [
    "f.close()"
   ]
  },
  {
   "cell_type": "code",
   "execution_count": 37,
   "id": "5ca91665-48f3-4390-a97b-d42f20c15e97",
   "metadata": {},
   "outputs": [
    {
     "ename": "ValueError",
     "evalue": "I/O operation on closed file.",
     "output_type": "error",
     "traceback": [
      "\u001b[1;31m---------------------------------------------------------------------------\u001b[0m",
      "\u001b[1;31mValueError\u001b[0m                                Traceback (most recent call last)",
      "Cell \u001b[1;32mIn[37], line 1\u001b[0m\n\u001b[1;32m----> 1\u001b[0m f\u001b[38;5;241m.\u001b[39mwrite(\u001b[38;5;124m'\u001b[39m\u001b[38;5;124mHi, this is an empty file\u001b[39m\u001b[38;5;124m'\u001b[39m)\n",
      "\u001b[1;31mValueError\u001b[0m: I/O operation on closed file."
     ]
    }
   ],
   "source": [
    "f.write('Hi, this is an empty file')"
   ]
  },
  {
   "cell_type": "markdown",
   "id": "0ee67962-31c8-4f74-ada7-8962f3498663",
   "metadata": {},
   "source": [
    "### Mode\n",
    "\n",
    "#### read mode - 'r'\n",
    "   - It reads the data from the file and returns a string\n",
    "   - It reads the data from the cursor's current position to the end of the file\n",
    "   - After reading the cursor's position is at the end of the file\n",
    "   - If the file exist, then it will open the file in read mode and place the cursor at the beginning of the file\n",
    "   - If the file doesn't exist, then it will raise an error by the name __FileNotFound error__\n",
    "   - We can read the data ferom the file the file but we cannot write into the file\n",
    "   - The default mode is the read mode"
   ]
  },
  {
   "cell_type": "markdown",
   "id": "019b46d5-f822-41b3-b159-f81336b908a2",
   "metadata": {},
   "source": [
    "### Seek and Tell\n",
    "\n",
    "#### Seek\n",
    "   - this is used to move the cursor's position to a particular index\n",
    "\n",
    "#### Tell\n",
    "   - It returns the index where the cursor is currently placed"
   ]
  },
  {
   "cell_type": "code",
   "execution_count": 45,
   "id": "ab89da25-d343-437f-9ec2-5af768504b28",
   "metadata": {},
   "outputs": [
    {
     "name": "stdout",
     "output_type": "stream",
     "text": [
      "0\n",
      "Hi, My name is Mayank Ghai\n",
      "I am working as a Sr. Data Analyst at IZMO pvt ltd, Bengaluru\n",
      "I am also working as a Trainer at Learnbay and looks after different modules\n",
      "I did my bachlor's in Mechatronics from UPES, Dehradun\n",
      "I worked under a scientist as a project assistant for three years, we use to deal with making rehabilitation robots \n",
      "I am a big foodie, I love to cook \n",
      "I am certified choreographer and a certified pianoist\n",
      "426\n",
      "10\n",
      "e is Mayank Ghai\n",
      "I am working as a Sr. Data Analyst at IZMO pvt ltd, Bengaluru\n",
      "I am also working as a Trainer at Learnbay and looks after different modules\n",
      "I did my bachlor's in Mechatronics from UPES, Dehradun\n",
      "I worked under a scientist as a project assistant for three years, we use to deal with making rehabilitation robots \n",
      "I am a big foodie, I love to cook \n",
      "I am certified choreographer and a certified pianoist\n"
     ]
    }
   ],
   "source": [
    "f = open('intro.txt', mode = 'r') \n",
    "print(f.tell())\n",
    "print(f.read())\n",
    "print(f.tell())\n",
    "f.seek(10) # with seek command i can move the index position from the end index to the 10th index value \n",
    "print(f.tell())\n",
    "print(f.read())\n",
    "f.close()"
   ]
  },
  {
   "cell_type": "code",
   "execution_count": 47,
   "id": "0e9cb4e8-d94f-4208-8883-abc29d34e255",
   "metadata": {},
   "outputs": [
    {
     "ename": "FileNotFoundError",
     "evalue": "[Errno 2] No such file or directory: 'mayank.txt'",
     "output_type": "error",
     "traceback": [
      "\u001b[1;31m---------------------------------------------------------------------------\u001b[0m",
      "\u001b[1;31mFileNotFoundError\u001b[0m                         Traceback (most recent call last)",
      "Cell \u001b[1;32mIn[47], line 1\u001b[0m\n\u001b[1;32m----> 1\u001b[0m f \u001b[38;5;241m=\u001b[39m \u001b[38;5;28mopen\u001b[39m(\u001b[38;5;124m'\u001b[39m\u001b[38;5;124mmayank.txt\u001b[39m\u001b[38;5;124m'\u001b[39m, mode \u001b[38;5;241m=\u001b[39m \u001b[38;5;124m'\u001b[39m\u001b[38;5;124mr\u001b[39m\u001b[38;5;124m'\u001b[39m) \n\u001b[0;32m      2\u001b[0m \u001b[38;5;28mprint\u001b[39m(f\u001b[38;5;241m.\u001b[39mtell())\n\u001b[0;32m      3\u001b[0m \u001b[38;5;28mprint\u001b[39m(f\u001b[38;5;241m.\u001b[39mread())\n",
      "File \u001b[1;32m~\\anaconda3\\Lib\\site-packages\\IPython\\core\\interactiveshell.py:324\u001b[0m, in \u001b[0;36m_modified_open\u001b[1;34m(file, *args, **kwargs)\u001b[0m\n\u001b[0;32m    317\u001b[0m \u001b[38;5;28;01mif\u001b[39;00m file \u001b[38;5;129;01min\u001b[39;00m {\u001b[38;5;241m0\u001b[39m, \u001b[38;5;241m1\u001b[39m, \u001b[38;5;241m2\u001b[39m}:\n\u001b[0;32m    318\u001b[0m     \u001b[38;5;28;01mraise\u001b[39;00m \u001b[38;5;167;01mValueError\u001b[39;00m(\n\u001b[0;32m    319\u001b[0m         \u001b[38;5;124mf\u001b[39m\u001b[38;5;124m\"\u001b[39m\u001b[38;5;124mIPython won\u001b[39m\u001b[38;5;124m'\u001b[39m\u001b[38;5;124mt let you open fd=\u001b[39m\u001b[38;5;132;01m{\u001b[39;00mfile\u001b[38;5;132;01m}\u001b[39;00m\u001b[38;5;124m by default \u001b[39m\u001b[38;5;124m\"\u001b[39m\n\u001b[0;32m    320\u001b[0m         \u001b[38;5;124m\"\u001b[39m\u001b[38;5;124mas it is likely to crash IPython. If you know what you are doing, \u001b[39m\u001b[38;5;124m\"\u001b[39m\n\u001b[0;32m    321\u001b[0m         \u001b[38;5;124m\"\u001b[39m\u001b[38;5;124myou can use builtins\u001b[39m\u001b[38;5;124m'\u001b[39m\u001b[38;5;124m open.\u001b[39m\u001b[38;5;124m\"\u001b[39m\n\u001b[0;32m    322\u001b[0m     )\n\u001b[1;32m--> 324\u001b[0m \u001b[38;5;28;01mreturn\u001b[39;00m io_open(file, \u001b[38;5;241m*\u001b[39margs, \u001b[38;5;241m*\u001b[39m\u001b[38;5;241m*\u001b[39mkwargs)\n",
      "\u001b[1;31mFileNotFoundError\u001b[0m: [Errno 2] No such file or directory: 'mayank.txt'"
     ]
    }
   ],
   "source": [
    "f = open('mayank.txt', mode = 'r') \n",
    "print(f.tell())\n",
    "print(f.read())\n",
    "f.close()"
   ]
  },
  {
   "cell_type": "markdown",
   "id": "a51df312-ed64-4c7c-8ea1-7b0fb0098b33",
   "metadata": {},
   "source": [
    "#### Write Mode - 'w'\n",
    "\n",
    "   - If the file already exist, then it will open the file in write mode and it will erase the previous data in the file\n",
    "   - If the file doesn't exist, then it will create one with the given name and extension and it will open the file in the write mode\n",
    "   - In the write mode, we are allowed to write into the file, but we are not allowed to read from a file"
   ]
  },
  {
   "cell_type": "code",
   "execution_count": 49,
   "id": "83332bff-5b35-4a34-86a8-a5c5f9bcf8a8",
   "metadata": {},
   "outputs": [
    {
     "ename": "UnsupportedOperation",
     "evalue": "not readable",
     "output_type": "error",
     "traceback": [
      "\u001b[1;31m---------------------------------------------------------------------------\u001b[0m",
      "\u001b[1;31mUnsupportedOperation\u001b[0m                      Traceback (most recent call last)",
      "Cell \u001b[1;32mIn[49], line 2\u001b[0m\n\u001b[0;32m      1\u001b[0m f \u001b[38;5;241m=\u001b[39m \u001b[38;5;28mopen\u001b[39m(\u001b[38;5;124m'\u001b[39m\u001b[38;5;124mintro.txt\u001b[39m\u001b[38;5;124m'\u001b[39m, mode \u001b[38;5;241m=\u001b[39m \u001b[38;5;124m'\u001b[39m\u001b[38;5;124mw\u001b[39m\u001b[38;5;124m'\u001b[39m)\n\u001b[1;32m----> 2\u001b[0m \u001b[38;5;28mprint\u001b[39m(f\u001b[38;5;241m.\u001b[39mread())\n\u001b[0;32m      3\u001b[0m f\u001b[38;5;241m.\u001b[39mclose()\n",
      "\u001b[1;31mUnsupportedOperation\u001b[0m: not readable"
     ]
    }
   ],
   "source": [
    "f = open('intro.txt', mode = 'w')\n",
    "print(f.read())\n",
    "f.close()"
   ]
  },
  {
   "cell_type": "code",
   "execution_count": 51,
   "id": "dc10f2ca-0cef-4587-8119-9f912b01fb41",
   "metadata": {},
   "outputs": [],
   "source": [
    "f = open('mayank.txt', mode = 'w') \n",
    "f.write(\"Hi, this is an example of the write mode of file handling, that if the file doesn't exist it will create a file for you\")\n",
    "f.close()"
   ]
  },
  {
   "cell_type": "code",
   "execution_count": 53,
   "id": "f3d60e4d-f105-4525-a2ed-606727d78367",
   "metadata": {},
   "outputs": [
    {
     "name": "stdout",
     "output_type": "stream",
     "text": [
      "Hi, this is an example of the write mode of file handling, that if the file doesn't exist it will create a file for you\n"
     ]
    }
   ],
   "source": [
    "f = open('mayank.txt', mode = 'r') \n",
    "print(f.read())\n",
    "f.close()"
   ]
  },
  {
   "cell_type": "markdown",
   "id": "53929408-5eae-4905-a40f-696141636b52",
   "metadata": {},
   "source": [
    "#### append mode - 'a'\n",
    "\n",
    "   - If the file alraedy exist, then it opens the file in append mode and place the cursor at then end of the file\n",
    "   - If the file doesn't exits, them it will create a file with the given name and the extension provided\n",
    "   - In the append mode, we are allowed to write in a file but we are not allowed to read the file\n",
    "   - Whatever we write will be appended at the end of the file\n",
    "   - we cannot use seek() command"
   ]
  },
  {
   "cell_type": "code",
   "execution_count": 55,
   "id": "39941448-a41c-40c9-ab1e-4a276716b3f9",
   "metadata": {},
   "outputs": [
    {
     "name": "stdout",
     "output_type": "stream",
     "text": [
      "0\n"
     ]
    }
   ],
   "source": [
    "f = open('add.py', mode = 'a') \n",
    "print(f.tell())\n",
    "f.write('''\n",
    "a = int(input('Enter a number: '))\n",
    "b = int(input('Enter another number: '))\n",
    "c = a+b\n",
    "print(c)''')\n",
    "f.close()"
   ]
  },
  {
   "cell_type": "code",
   "execution_count": 57,
   "id": "e53aebfd-8381-4964-bc71-0f0a1ab722d4",
   "metadata": {},
   "outputs": [
    {
     "name": "stdout",
     "output_type": "stream",
     "text": [
      "119\n"
     ]
    },
    {
     "ename": "UnsupportedOperation",
     "evalue": "not readable",
     "output_type": "error",
     "traceback": [
      "\u001b[1;31m---------------------------------------------------------------------------\u001b[0m",
      "\u001b[1;31mUnsupportedOperation\u001b[0m                      Traceback (most recent call last)",
      "Cell \u001b[1;32mIn[57], line 3\u001b[0m\n\u001b[0;32m      1\u001b[0m f \u001b[38;5;241m=\u001b[39m \u001b[38;5;28mopen\u001b[39m(\u001b[38;5;124m'\u001b[39m\u001b[38;5;124mmayank.txt\u001b[39m\u001b[38;5;124m'\u001b[39m, mode \u001b[38;5;241m=\u001b[39m \u001b[38;5;124m'\u001b[39m\u001b[38;5;124ma\u001b[39m\u001b[38;5;124m'\u001b[39m) \n\u001b[0;32m      2\u001b[0m \u001b[38;5;28mprint\u001b[39m(f\u001b[38;5;241m.\u001b[39mtell())\n\u001b[1;32m----> 3\u001b[0m \u001b[38;5;28mprint\u001b[39m(f\u001b[38;5;241m.\u001b[39mread())\n\u001b[0;32m      4\u001b[0m f\u001b[38;5;241m.\u001b[39mclose()\n",
      "\u001b[1;31mUnsupportedOperation\u001b[0m: not readable"
     ]
    }
   ],
   "source": [
    "f = open('mayank.txt', mode = 'a') \n",
    "print(f.tell())\n",
    "print(f.read())\n",
    "f.close()"
   ]
  },
  {
   "cell_type": "markdown",
   "id": "a232f009-8765-4307-b850-be857a5dc8a3",
   "metadata": {},
   "source": [
    "### read and append mode - 'r+'\n",
    "\n",
    "   - If the file alraedy exist, then it will open the file in the read mode and place the cursor at the beginning at the file\n",
    "   - if file doesn't exist, then it will rasie an error __FileNotFound erorr__\n",
    "   - We are allowed to read the file as well as to write in the file\n",
    "   - seek() is applicable while reading and writing"
   ]
  },
  {
   "cell_type": "code",
   "execution_count": 60,
   "id": "4e60843e-fed1-4238-a42b-b9b73f8aa90f",
   "metadata": {},
   "outputs": [
    {
     "name": "stdout",
     "output_type": "stream",
     "text": [
      "0\n",
      "\n",
      "a = int(input('Enter a number: '))\n",
      "b = int(input('Enter another number: '))\n",
      "c = a+b\n",
      "print(c)\n",
      "118\n",
      "\n",
      "a = int(input('Enter a number: '))\n",
      "b = int(input('Enter another number: '))\n",
      "c = a+b\n",
      "print(c)\n",
      "\n",
      "d = a-b\n",
      "print(d)\n"
     ]
    }
   ],
   "source": [
    "f = open('add.py', mode = 'r+') \n",
    "print(f.tell())\n",
    "print(f.read())\n",
    "f.write('''\\n\n",
    "d = a-b\n",
    "print(d)''')\n",
    "print(f.tell())\n",
    "f.seek(0)\n",
    "print(f.read())\n",
    "f.close()"
   ]
  },
  {
   "cell_type": "code",
   "execution_count": 76,
   "id": "6a925657-9b69-4b50-9334-70a7c603aae5",
   "metadata": {},
   "outputs": [
    {
     "name": "stdout",
     "output_type": "stream",
     "text": [
      "0\n",
      "0\n",
      "\n",
      "and now this is an example for append and the read mode in file handlingthis is an example for append and the read mode in file handling\n"
     ]
    }
   ],
   "source": [
    "f = open('mayank.txt', mode = 'r+') \n",
    "print(f.tell())\n",
    "f.seek(0)\n",
    "print(f.tell())\n",
    "f.write('\\nand now this is an example for append and the read mode in file handling')\n",
    "f.seek(0)\n",
    "print(f.read())\n",
    "f.close()"
   ]
  },
  {
   "cell_type": "markdown",
   "id": "bf3e2ccf-c64a-4059-954e-003a17519ce5",
   "metadata": {},
   "source": [
    "#### write and read mode - 'w+'\n",
    "   \n",
    "   - if the file already exist, then it will open the file in the write mode and erase all the previous data\n",
    "   - if the file doesn't exist, then it will create a new one with the given name and given extension\n",
    "   - We are allowed to write into the file as well as we  are allowed to read from the file"
   ]
  },
  {
   "cell_type": "code",
   "execution_count": 64,
   "id": "2157327a-836b-4e66-bceb-6e9928146528",
   "metadata": {},
   "outputs": [
    {
     "name": "stdout",
     "output_type": "stream",
     "text": [
      "Hi, this is an example of the write mode of file handling, that if the file doesn't exist it will create a file for you\n"
     ]
    }
   ],
   "source": [
    "f = open('mayank.txt', mode = 'r') \n",
    "print(f.read())\n",
    "f.close()"
   ]
  },
  {
   "cell_type": "code",
   "execution_count": 66,
   "id": "7f417c73-0dc6-4a72-bcd3-39c11114c6d3",
   "metadata": {},
   "outputs": [
    {
     "name": "stdout",
     "output_type": "stream",
     "text": [
      "This is an example of write and the read mode in file handling\n"
     ]
    }
   ],
   "source": [
    "f = open('mayank.txt', mode = 'w+') \n",
    "f.write('This is an example of write and the read mode in file handling')\n",
    "f.seek(0)\n",
    "print(f.read())\n",
    "f.close()"
   ]
  },
  {
   "cell_type": "markdown",
   "id": "db3197d7-f048-4b12-86d6-6957884052c6",
   "metadata": {},
   "source": [
    "### append and read mode - 'a+'\n",
    "\n",
    "- If the file already exist, then it will open the file in the append mode and place the cursor at the end of the file\n",
    "- If the file doesn't exist, then it will create one with the given name and extension and the current position of the cursor at the start of the file\n",
    "- We are allowed to write in the file as well as read the file\n",
    "- seek() function is not applicable while writing in the file but for reading it will be applicable"
   ]
  },
  {
   "cell_type": "code",
   "execution_count": 74,
   "id": "50842cc9-2fc0-4afc-8ca3-627c90ed0da7",
   "metadata": {},
   "outputs": [
    {
     "name": "stdout",
     "output_type": "stream",
     "text": [
      "64\n",
      "0\n",
      "This is an example of write and the read mode in file handling\n",
      "\n",
      "and now this is an example for append and the read mode in file handling\n"
     ]
    }
   ],
   "source": [
    "f = open('mayank.txt', mode = 'a+') \n",
    "print(f.tell())\n",
    "f.seek(0)\n",
    "print(f.tell())\n",
    "f.write('\\nand now this is an example for append and the read mode in file handling')\n",
    "f.seek(0)\n",
    "print(f.read())\n",
    "f.close()"
   ]
  },
  {
   "cell_type": "markdown",
   "id": "d86905df-aea3-402d-bf2b-713e9b845552",
   "metadata": {},
   "source": [
    "### With open\n",
    "\n",
    "- The file is automatically closed when we have finsihed the operations\n",
    "\n",
    "    Syntax:\n",
    "        \n",
    "        with open('file_name.extension', mode = ) as file_object:\n",
    "            code\n",
    "            code"
   ]
  },
  {
   "cell_type": "code",
   "execution_count": 78,
   "id": "079bcf7d-3b01-468b-b319-e7acaa4e558a",
   "metadata": {},
   "outputs": [
    {
     "name": "stdout",
     "output_type": "stream",
     "text": [
      "0\n",
      "\n",
      "a = int(input('Enter a number: '))\n",
      "b = int(input('Enter another number: '))\n",
      "c = a+b\n",
      "print(c)\n",
      "\n",
      "d = a-b\n",
      "print(d)\n"
     ]
    }
   ],
   "source": [
    "with open('add.py', mode = 'r') as f:\n",
    "    print(f.tell())\n",
    "    print(f.read())"
   ]
  },
  {
   "cell_type": "code",
   "execution_count": 80,
   "id": "2a5a17e3-9fe9-4c1a-ae8d-e882b48fdad2",
   "metadata": {},
   "outputs": [
    {
     "ename": "ValueError",
     "evalue": "I/O operation on closed file.",
     "output_type": "error",
     "traceback": [
      "\u001b[1;31m---------------------------------------------------------------------------\u001b[0m",
      "\u001b[1;31mValueError\u001b[0m                                Traceback (most recent call last)",
      "Cell \u001b[1;32mIn[80], line 1\u001b[0m\n\u001b[1;32m----> 1\u001b[0m f\u001b[38;5;241m.\u001b[39mwrite(\u001b[38;5;124m'\u001b[39m\u001b[38;5;124mHi\u001b[39m\u001b[38;5;124m'\u001b[39m)\n",
      "\u001b[1;31mValueError\u001b[0m: I/O operation on closed file."
     ]
    }
   ],
   "source": [
    "f.write('Hi')"
   ]
  },
  {
   "cell_type": "markdown",
   "id": "d9d1a0be-baf0-4e05-a66f-2cd6c3de45eb",
   "metadata": {
    "id": "d9d1a0be-baf0-4e05-a66f-2cd6c3de45eb"
   },
   "source": [
    "### Functions\n",
    "\n",
    "- read()\n",
    "- readline()\n",
    "- readlines()\n",
    "- write()\n",
    "- writelines()"
   ]
  },
  {
   "cell_type": "markdown",
   "id": "e8feb993-240a-4ba5-a6a3-a68fd9194526",
   "metadata": {
    "id": "e8feb993-240a-4ba5-a6a3-a68fd9194526"
   },
   "source": [
    "#### read()\n",
    "\n",
    "- It reads the data from the cursor's current position\n",
    "- It returns a string value\n",
    "\n",
    "##### read(number of character)\n",
    "\n",
    "   - It reads the specifed number of character from the cursor's current position"
   ]
  },
  {
   "cell_type": "code",
   "execution_count": 86,
   "id": "e8271701-4956-455e-832d-3a9eeb6579f0",
   "metadata": {},
   "outputs": [
    {
     "name": "stdout",
     "output_type": "stream",
     "text": [
      "\n",
      "and now this is an example for append and the read mode in file handlingthis is an example for append and the read mode in file handling\n"
     ]
    }
   ],
   "source": [
    "f = open('mayank.txt', mode = 'r') \n",
    "x = f.read()\n",
    "print(x)\n",
    "f.close()"
   ]
  },
  {
   "cell_type": "code",
   "execution_count": 84,
   "id": "d6d87ffe-c6df-48fd-bdc0-b2c406e2a2b1",
   "metadata": {},
   "outputs": [
    {
     "data": {
      "text/plain": [
       "str"
      ]
     },
     "execution_count": 84,
     "metadata": {},
     "output_type": "execute_result"
    }
   ],
   "source": [
    "type(x)"
   ]
  },
  {
   "cell_type": "code",
   "execution_count": 90,
   "id": "81e6a5eb-1439-4d10-a2c1-18d98c6a727d",
   "metadata": {},
   "outputs": [
    {
     "name": "stdout",
     "output_type": "stream",
     "text": [
      "\n",
      "and now t\n"
     ]
    }
   ],
   "source": [
    "with open('mayank.txt', mode = 'r') as f:\n",
    "    print(f.read(10))\n",
    "    "
   ]
  },
  {
   "cell_type": "markdown",
   "id": "a544dcce-c597-4499-be48-b13aa9f20970",
   "metadata": {
    "id": "a544dcce-c597-4499-be48-b13aa9f20970"
   },
   "source": [
    "### readline()\n",
    "\n",
    "- It reads one line at a time\n",
    "- It reads from the cursor's current position and read upto the end of the line"
   ]
  },
  {
   "cell_type": "code",
   "execution_count": 94,
   "id": "45beb309-1363-47c2-b8fe-3b9a53164b3f",
   "metadata": {},
   "outputs": [
    {
     "name": "stdout",
     "output_type": "stream",
     "text": [
      "Hi, My name is Mayank Ghai\n",
      "\n",
      "I am working as a Sr. Data Analyst at IZMO pvt ltd, Bengaluru\n",
      "\n"
     ]
    }
   ],
   "source": [
    "with open('intro.txt', mode = 'r') as f:\n",
    "    print(f.readline())\n",
    "    print(f.readline())"
   ]
  },
  {
   "cell_type": "markdown",
   "id": "21a8c4b0-fdc7-45f2-8ac2-2e7e8c3e4cd9",
   "metadata": {
    "id": "21a8c4b0-fdc7-45f2-8ac2-2e7e8c3e4cd9"
   },
   "source": [
    "#### readlines()\n",
    "\n",
    "- It reads the file line by line\n",
    "- It reads all the lines from the file and return a list\n",
    "- In the list each line is an element in the list"
   ]
  },
  {
   "cell_type": "code",
   "execution_count": 96,
   "id": "6c3d66ee-5a2f-42b0-8132-161f79fe843b",
   "metadata": {},
   "outputs": [
    {
     "name": "stdout",
     "output_type": "stream",
     "text": [
      "['Hi, My name is Mayank Ghai\\n', 'I am working as a Sr. Data Analyst at IZMO pvt ltd, Bengaluru\\n', 'I am also working as a Trainer at Learnbay and looks after different modules\\n', \"I did my bachlor's in Mechatronics from UPES, Dehradun\\n\", 'I worked under a scientist as a project assistant for three years, we use to deal with making rehabilitation robots \\n', 'I am a big foodie, I love to cook \\n', 'I am certified choreographer and a certified pianoist']\n"
     ]
    }
   ],
   "source": [
    "with open('intro.txt', mode = 'r') as f:\n",
    "    print(f.readlines())"
   ]
  },
  {
   "cell_type": "markdown",
   "id": "669578df-0d6e-4c93-a616-ebdc066d1036",
   "metadata": {
    "id": "669578df-0d6e-4c93-a616-ebdc066d1036"
   },
   "source": [
    "#### Count the number of words in a file\n"
   ]
  },
  {
   "cell_type": "code",
   "execution_count": 112,
   "id": "97bb3667-b622-4fbb-bd3e-e418be4c54c3",
   "metadata": {},
   "outputs": [
    {
     "name": "stdout",
     "output_type": "stream",
     "text": [
      "Hi, My name is Mayank Ghai\n",
      "I am working as a Sr. Data Analyst at IZMO pvt ltd, Bengaluru\n",
      "I am also working as a Trainer at Learnbay and looks after different modules\n",
      "I did my bachlor's in Mechatronics from UPES, Dehradun\n",
      "I worked under a scientist as a project assistant for three years, we use to deal with making rehabilitation robots \n",
      "I am a big foodie, I love to cook \n",
      "I am certified choreographer and a certified pianoist\n"
     ]
    }
   ],
   "source": [
    "with open('intro.txt', mode = 'r') as f:\n",
    "    text = f.read()\n",
    "    print(text)\n",
    "\n"
   ]
  },
  {
   "cell_type": "code",
   "execution_count": 114,
   "id": "ad363744-7f1e-4ad0-947b-2e81d0327783",
   "metadata": {},
   "outputs": [
    {
     "name": "stdout",
     "output_type": "stream",
     "text": [
      "['Hi,', 'My', 'name', 'is', 'Mayank', 'Ghai', 'I', 'am', 'working', 'as', 'a', 'Sr.', 'Data', 'Analyst', 'at', 'IZMO', 'pvt', 'ltd,', 'Bengaluru', 'I', 'am', 'also', 'working', 'as', 'a', 'Trainer', 'at', 'Learnbay', 'and', 'looks', 'after', 'different', 'modules', 'I', 'did', 'my', \"bachlor's\", 'in', 'Mechatronics', 'from', 'UPES,', 'Dehradun', 'I', 'worked', 'under', 'a', 'scientist', 'as', 'a', 'project', 'assistant', 'for', 'three', 'years,', 'we', 'use', 'to', 'deal', 'with', 'making', 'rehabilitation', 'robots', 'I', 'am', 'a', 'big', 'foodie,', 'I', 'love', 'to', 'cook', 'I', 'am', 'certified', 'choreographer', 'and', 'a', 'certified', 'pianoist']\n",
      "79\n"
     ]
    }
   ],
   "source": [
    "\n",
    "words = text.split()\n",
    "print(words)\n",
    "word_count = len(words)\n",
    "print(word_count)\n"
   ]
  },
  {
   "cell_type": "markdown",
   "id": "283c9051-02e9-4d90-8f92-5e23d9fdaa50",
   "metadata": {
    "id": "283c9051-02e9-4d90-8f92-5e23d9fdaa50"
   },
   "source": [
    "#### Count the number of characters in a file"
   ]
  },
  {
   "cell_type": "code",
   "execution_count": 124,
   "id": "d351c8b2-512c-44ba-a76e-f90757fd51eb",
   "metadata": {},
   "outputs": [
    {
     "data": {
      "text/plain": [
       "\"Hi, My name is Mayank Ghai\\nI am working as a Sr. Data Analyst at IZMO pvt ltd, Bengaluru\\nI am also working as a Trainer at Learnbay and looks after different modules\\nI did my bachlor's in Mechatronics from UPES, Dehradun\\nI worked under a scientist as a project assistant for three years, we use to deal with making rehabilitation robots \\nI am a big foodie, I love to cook \\nI am certified choreographer and a certified pianoist\""
      ]
     },
     "execution_count": 124,
     "metadata": {},
     "output_type": "execute_result"
    }
   ],
   "source": [
    "text"
   ]
  },
  {
   "cell_type": "code",
   "execution_count": 118,
   "id": "fe823954-8a5e-4b72-952c-1ca9e47cab81",
   "metadata": {},
   "outputs": [
    {
     "data": {
      "text/plain": [
       "426"
      ]
     },
     "execution_count": 118,
     "metadata": {},
     "output_type": "execute_result"
    }
   ],
   "source": [
    "len(text)"
   ]
  },
  {
   "cell_type": "code",
   "execution_count": 128,
   "id": "406196d2-b00b-409e-b03c-1ec3dc13b68a",
   "metadata": {},
   "outputs": [
    {
     "name": "stdout",
     "output_type": "stream",
     "text": [
      "339\n"
     ]
    }
   ],
   "source": [
    "# count the number of characters without the space and the new line characters \n",
    "with open('intro.txt', mode = 'r') as f:\n",
    "    text = f.read()\n",
    "    c = 0\n",
    "    for i in text:\n",
    "        if i.isalnum(): # \n",
    "            c += 1\n",
    "print(c)"
   ]
  },
  {
   "cell_type": "markdown",
   "id": "efbdeba4-ac63-4c27-8fd2-d19f1ea3e7f1",
   "metadata": {
    "id": "efbdeba4-ac63-4c27-8fd2-d19f1ea3e7f1"
   },
   "source": [
    "#### write()\n",
    "\n",
    "- It takes a string as an argument and writes that to a file\n",
    "- We can write multiple lines using a single write() or we can use multiple write()"
   ]
  },
  {
   "cell_type": "code",
   "execution_count": 132,
   "id": "d78096ef-6184-4b80-92ee-bc196625d515",
   "metadata": {},
   "outputs": [],
   "source": [
    "with open('learn.txt', mode = 'w') as f:\n",
    "    f.write('''Hello Python,\\nThis is a python class for cloud and devops.\\nWe are doing file handling''')"
   ]
  },
  {
   "cell_type": "code",
   "execution_count": 134,
   "id": "64284dd7-fa22-426c-a915-c8bb76672bc3",
   "metadata": {},
   "outputs": [],
   "source": [
    "with open('learn.txt', mode = 'w') as f:\n",
    "    f.write('Hello Python')\n",
    "    f.write('\\nThis is a python class by Maynak')\n",
    "    f.write('\\nWe are bored of python')"
   ]
  },
  {
   "cell_type": "markdown",
   "id": "8868163d-d1a4-49ad-b208-09f089da4197",
   "metadata": {
    "id": "8868163d-d1a4-49ad-b208-09f089da4197"
   },
   "source": [
    "#### writelines()\n",
    "\n",
    "- It is going to take a list as an argument\n",
    "- It write the data to file"
   ]
  },
  {
   "cell_type": "code",
   "execution_count": 138,
   "id": "48fb2e97-1a2a-459e-9a7b-3eee96ce7f19",
   "metadata": {},
   "outputs": [
    {
     "name": "stdout",
     "output_type": "stream",
     "text": [
      "Hello everyone\n",
      "How are you?\n",
      "I am doing fine\n",
      "\n"
     ]
    }
   ],
   "source": [
    "lst = ['Hello everyone\\n', 'How are you?\\n', 'I am doing fine\\n']\n",
    "\n",
    "with open('host.txt', mode = 'w+') as f:\n",
    "    f.writelines(lst)\n",
    "    f.seek(0)\n",
    "    print(f.read())"
   ]
  },
  {
   "cell_type": "markdown",
   "id": "307d549f-b983-4adf-a767-828edcc693b7",
   "metadata": {},
   "source": [
    "### Insert a Data to a file"
   ]
  },
  {
   "cell_type": "code",
   "execution_count": 141,
   "id": "2be5bbc4-5230-429e-85a1-65234f558d0d",
   "metadata": {},
   "outputs": [],
   "source": [
    "with open('host.txt', mode = 'r+') as f:\n",
    "    x = f.readlines()"
   ]
  },
  {
   "cell_type": "code",
   "execution_count": 143,
   "id": "b7102031-c132-4d7d-a279-c514de3ed4d2",
   "metadata": {},
   "outputs": [
    {
     "data": {
      "text/plain": [
       "['Hello everyone\\n', 'How are you?\\n', 'I am doing fine\\n']"
      ]
     },
     "execution_count": 143,
     "metadata": {},
     "output_type": "execute_result"
    }
   ],
   "source": [
    "x"
   ]
  },
  {
   "cell_type": "markdown",
   "id": "0ecfaa7c-5c66-4d69-aa9f-c9f03dcce54e",
   "metadata": {},
   "source": [
    "### Insert 'I am from learnbay' after Hello everyone"
   ]
  },
  {
   "cell_type": "code",
   "execution_count": 145,
   "id": "164d9218-5a0f-4b64-a371-9a008b1acd64",
   "metadata": {},
   "outputs": [
    {
     "data": {
      "text/plain": [
       "['Hello everyone\\n',\n",
       " 'I am from learnbay\\n',\n",
       " 'How are you?\\n',\n",
       " 'I am doing fine\\n']"
      ]
     },
     "execution_count": 145,
     "metadata": {},
     "output_type": "execute_result"
    }
   ],
   "source": [
    "lst.insert(1, 'I am from learnbay\\n')\n",
    "lst"
   ]
  },
  {
   "cell_type": "code",
   "execution_count": 147,
   "id": "3e2b4c44-90a8-4939-bbb7-542492b04757",
   "metadata": {},
   "outputs": [
    {
     "name": "stdout",
     "output_type": "stream",
     "text": [
      "Hello everyone\n",
      "I am from learnbay\n",
      "How are you?\n",
      "I am doing fine\n",
      "\n"
     ]
    }
   ],
   "source": [
    "with open('host.txt', mode = 'r+') as f:\n",
    "    f.writelines(lst)\n",
    "    f.seek(0)\n",
    "    print(f.read())"
   ]
  },
  {
   "cell_type": "code",
   "execution_count": 151,
   "id": "893537ab-83f1-4a15-982e-7c5524ca50da",
   "metadata": {},
   "outputs": [],
   "source": [
    "with open(r\"C:\\Users\\Mayank\\Downloads\\python_module1.py\", mode = 'w') as f:\n",
    "    f.write('''Hello everyone\n",
    "I am from learnbay\n",
    "How are you?\n",
    "I am doing fine''')"
   ]
  },
  {
   "cell_type": "markdown",
   "id": "0bf6ca15-3b38-4350-a4bb-b351d3266d95",
   "metadata": {
    "id": "0bf6ca15-3b38-4350-a4bb-b351d3266d95"
   },
   "source": [
    "#### create a python script with a add.py extensnsion and the python script should take two numbers from the users and it will return the sum of it, do it using file handling"
   ]
  },
  {
   "cell_type": "code",
   "execution_count": 155,
   "id": "d2dfbcec-cfd2-4897-b0d8-c4818c69d57d",
   "metadata": {},
   "outputs": [
    {
     "name": "stdin",
     "output_type": "stream",
     "text": [
      "Enter a number:  1\n",
      "Enter another number:  2\n"
     ]
    },
    {
     "name": "stdout",
     "output_type": "stream",
     "text": [
      "3\n",
      "-1\n"
     ]
    }
   ],
   "source": [
    "%run add.py"
   ]
  },
  {
   "cell_type": "markdown",
   "id": "55fabacf-90a3-4520-9027-e724685a10fe",
   "metadata": {
    "id": "55fabacf-90a3-4520-9027-e724685a10fe"
   },
   "source": [
    "#### Create a loop.py file which is having a loop from 0 to n, where n is the number till which the loop will run and create it using file handling take the value of n form the user"
   ]
  },
  {
   "cell_type": "markdown",
   "id": "a105cba1-c702-45b3-9deb-e221b91e0469",
   "metadata": {
    "id": "a105cba1-c702-45b3-9deb-e221b91e0469"
   },
   "source": [
    "### Binary Files\n",
    "\n",
    "- A binary files store the data in bytes format\n",
    "- The data has to be converted in bytes than only we can store it in a binary file\n",
    "- A binary file is generally save with __.bin__ and __.dat__ extension"
   ]
  },
  {
   "cell_type": "code",
   "execution_count": 159,
   "id": "356b1c0d-90bd-4025-889e-c2336fae96f9",
   "metadata": {},
   "outputs": [
    {
     "name": "stdout",
     "output_type": "stream",
     "text": [
      "[1, 2, 3, 4, 5, 6, 7]\n"
     ]
    }
   ],
   "source": [
    "lst = [1,2,3,4,5,6,7]\n",
    "print(lst)"
   ]
  },
  {
   "cell_type": "markdown",
   "id": "f800b5a4-9a19-4011-b7b5-f63e2e3aacbb",
   "metadata": {
    "id": "f800b5a4-9a19-4011-b7b5-f63e2e3aacbb"
   },
   "source": [
    "#### Mode\n",
    "\n",
    "- read mode - 'rb'\n",
    "- write mode - 'wb'\n",
    "- append mode - 'ab'\n",
    "- read and write mode - 'rb+'\n",
    "- write and read mode - 'wb+'\n",
    "- append and read mode - 'ab+'"
   ]
  },
  {
   "cell_type": "code",
   "execution_count": 163,
   "id": "05a703ae-3c06-4eaf-b5a2-932fe8c89c38",
   "metadata": {},
   "outputs": [
    {
     "ename": "TypeError",
     "evalue": "a bytes-like object is required, not 'list'",
     "output_type": "error",
     "traceback": [
      "\u001b[1;31m---------------------------------------------------------------------------\u001b[0m",
      "\u001b[1;31mTypeError\u001b[0m                                 Traceback (most recent call last)",
      "Cell \u001b[1;32mIn[163], line 2\u001b[0m\n\u001b[0;32m      1\u001b[0m \u001b[38;5;28;01mwith\u001b[39;00m \u001b[38;5;28mopen\u001b[39m(\u001b[38;5;124m'\u001b[39m\u001b[38;5;124mlst.bin\u001b[39m\u001b[38;5;124m'\u001b[39m, mode \u001b[38;5;241m=\u001b[39m \u001b[38;5;124m'\u001b[39m\u001b[38;5;124mwb\u001b[39m\u001b[38;5;124m'\u001b[39m) \u001b[38;5;28;01mas\u001b[39;00m f:\n\u001b[1;32m----> 2\u001b[0m     f\u001b[38;5;241m.\u001b[39mwrite(lst)\n",
      "\u001b[1;31mTypeError\u001b[0m: a bytes-like object is required, not 'list'"
     ]
    }
   ],
   "source": [
    "with open('lst.bin', mode = 'wb') as f:\n",
    "    f.write(lst)"
   ]
  },
  {
   "cell_type": "markdown",
   "id": "2876b64b-9823-4ce8-9343-acfddbf8d71d",
   "metadata": {
    "id": "2876b64b-9823-4ce8-9343-acfddbf8d71d"
   },
   "source": [
    "### bytes() and bytearray()\n",
    "\n",
    "#### bytes()\n",
    "__bytes()__ is used to create an immutable sequence of bytes\n",
    "- It can take an iterable of integers in the range 0 to 255(inclusive) and convert them into a bytes object\n",
    "- __bytes()__ objects are immutable, meaning their contents cannot be changed after creation. You can access elements but not modify them directly."
   ]
  },
  {
   "cell_type": "code",
   "execution_count": 169,
   "id": "89cae361-3d53-4733-b1c4-a379d38f7262",
   "metadata": {},
   "outputs": [
    {
     "name": "stdout",
     "output_type": "stream",
     "text": [
      "[10, 20, 30, 40, 50, 60, 70]\n"
     ]
    }
   ],
   "source": [
    "lst = [10,20,30,40,50,60,70]\n",
    "print(lst)"
   ]
  },
  {
   "cell_type": "code",
   "execution_count": 171,
   "id": "79cbe0fe-3986-4884-aac3-88a5a8b0c684",
   "metadata": {},
   "outputs": [
    {
     "data": {
      "text/plain": [
       "[10, 20, 30, 40, 50, 60, 70]"
      ]
     },
     "execution_count": 171,
     "metadata": {},
     "output_type": "execute_result"
    }
   ],
   "source": [
    "lst"
   ]
  },
  {
   "cell_type": "code",
   "execution_count": 173,
   "id": "f37e9605-c712-4be2-9429-e6a9eda481d1",
   "metadata": {},
   "outputs": [
    {
     "name": "stdout",
     "output_type": "stream",
     "text": [
      "b'\\n\\x14\\x1e(2<F'\n"
     ]
    }
   ],
   "source": [
    "x = bytes(lst)\n",
    "print(x)"
   ]
  },
  {
   "cell_type": "code",
   "execution_count": 175,
   "id": "8a89339e-f40e-4aa8-b7de-4fd41530bce9",
   "metadata": {},
   "outputs": [],
   "source": [
    "with open('lst.bin', mode = 'wb') as f:\n",
    "    f.write(x)"
   ]
  },
  {
   "cell_type": "code",
   "execution_count": 177,
   "id": "2fff2c10-c0dd-4bb7-92e0-50d028ab13a2",
   "metadata": {},
   "outputs": [
    {
     "name": "stdout",
     "output_type": "stream",
     "text": [
      "[1, 2, 3, 4, 5, 6, 7]\n"
     ]
    }
   ],
   "source": [
    "lst = [1,2,3,4,5,6,7]\n",
    "print(lst)"
   ]
  },
  {
   "cell_type": "code",
   "execution_count": 179,
   "id": "5d4153e0-d6a6-4068-8015-e8f936bfe713",
   "metadata": {},
   "outputs": [
    {
     "name": "stdout",
     "output_type": "stream",
     "text": [
      "b'\\x01\\x02\\x03\\x04\\x05\\x06\\x07'\n"
     ]
    }
   ],
   "source": [
    "x = bytes(lst)\n",
    "print(x)"
   ]
  },
  {
   "cell_type": "code",
   "execution_count": 181,
   "id": "8a58c9f8-4037-4c9b-89aa-8db03627248f",
   "metadata": {},
   "outputs": [
    {
     "ename": "TypeError",
     "evalue": "'bytes' object does not support item assignment",
     "output_type": "error",
     "traceback": [
      "\u001b[1;31m---------------------------------------------------------------------------\u001b[0m",
      "\u001b[1;31mTypeError\u001b[0m                                 Traceback (most recent call last)",
      "Cell \u001b[1;32mIn[181], line 1\u001b[0m\n\u001b[1;32m----> 1\u001b[0m x[\u001b[38;5;241m1\u001b[39m] \u001b[38;5;241m=\u001b[39m \u001b[38;5;241m15\u001b[39m\n",
      "\u001b[1;31mTypeError\u001b[0m: 'bytes' object does not support item assignment"
     ]
    }
   ],
   "source": [
    "x[1] = 15"
   ]
  },
  {
   "cell_type": "markdown",
   "id": "87c40a9a-d1da-4341-ad22-41ff8bc5fb4c",
   "metadata": {
    "id": "87c40a9a-d1da-4341-ad22-41ff8bc5fb4c"
   },
   "source": [
    "##### bytearray()\n",
    "\n",
    "- __bytearray()__ is used to create a mutable sequence of bytes\n",
    "- It can also take an iterable of integers in the range 0 to 255 (inclusive) and convert them into a bytearray object.\n",
    "- __bytearray()__ objects are mutable, which means you can modify their contents after creation. This makes them useful for situations where you need to modify byte data in-place."
   ]
  },
  {
   "cell_type": "code",
   "execution_count": 183,
   "id": "bf57b51a-73fb-4684-976b-79a98a88dd0a",
   "metadata": {},
   "outputs": [
    {
     "name": "stdout",
     "output_type": "stream",
     "text": [
      "bytearray(b'\\x01\\x02\\x03\\x04\\x05\\x06\\x07')\n"
     ]
    }
   ],
   "source": [
    "y = bytearray(lst)\n",
    "print(y)"
   ]
  },
  {
   "cell_type": "code",
   "execution_count": 185,
   "id": "ea8ef3a8-4ca2-40d6-abc2-6e68982ba821",
   "metadata": {},
   "outputs": [],
   "source": [
    "y[1] = 15"
   ]
  },
  {
   "cell_type": "code",
   "execution_count": 187,
   "id": "7bb161eb-aa39-4626-90a2-2c85ce932eaf",
   "metadata": {},
   "outputs": [
    {
     "data": {
      "text/plain": [
       "bytearray(b'\\x01\\x0f\\x03\\x04\\x05\\x06\\x07')"
      ]
     },
     "execution_count": 187,
     "metadata": {},
     "output_type": "execute_result"
    }
   ],
   "source": [
    "y"
   ]
  },
  {
   "cell_type": "markdown",
   "id": "24e29aae-cbd9-4b4e-96be-29e349e5f952",
   "metadata": {
    "id": "24e29aae-cbd9-4b4e-96be-29e349e5f952"
   },
   "source": [
    "- we have seen the bytes and bytearry() has a lot of limitations\n",
    "- To overcome these limitations, we are using the concept of pickling and unpickling also known as seralization and deseralization"
   ]
  },
  {
   "cell_type": "code",
   "execution_count": 189,
   "id": "1320817b-016a-499f-bd83-a3cdadb8319e",
   "metadata": {},
   "outputs": [
    {
     "ename": "TypeError",
     "evalue": "'str' object cannot be interpreted as an integer",
     "output_type": "error",
     "traceback": [
      "\u001b[1;31m---------------------------------------------------------------------------\u001b[0m",
      "\u001b[1;31mTypeError\u001b[0m                                 Traceback (most recent call last)",
      "Cell \u001b[1;32mIn[189], line 4\u001b[0m\n\u001b[0;32m      1\u001b[0m name \u001b[38;5;241m=\u001b[39m [\u001b[38;5;124m'\u001b[39m\u001b[38;5;124mmayank\u001b[39m\u001b[38;5;124m'\u001b[39m, \u001b[38;5;124m'\u001b[39m\u001b[38;5;124mrevathi\u001b[39m\u001b[38;5;124m'\u001b[39m, \u001b[38;5;124m'\u001b[39m\u001b[38;5;124marun\u001b[39m\u001b[38;5;124m'\u001b[39m, \u001b[38;5;124m'\u001b[39m\u001b[38;5;124mbandish\u001b[39m\u001b[38;5;124m'\u001b[39m]\n\u001b[0;32m      3\u001b[0m \u001b[38;5;28;01mwith\u001b[39;00m \u001b[38;5;28mopen\u001b[39m(\u001b[38;5;124m'\u001b[39m\u001b[38;5;124mnames.bin\u001b[39m\u001b[38;5;124m'\u001b[39m, mode \u001b[38;5;241m=\u001b[39m \u001b[38;5;124m'\u001b[39m\u001b[38;5;124mwb\u001b[39m\u001b[38;5;124m'\u001b[39m) \u001b[38;5;28;01mas\u001b[39;00m f:\n\u001b[1;32m----> 4\u001b[0m     x \u001b[38;5;241m=\u001b[39m \u001b[38;5;28mbytes\u001b[39m(name)\n\u001b[0;32m      5\u001b[0m     f\u001b[38;5;241m.\u001b[39mwrite(name)\n",
      "\u001b[1;31mTypeError\u001b[0m: 'str' object cannot be interpreted as an integer"
     ]
    }
   ],
   "source": [
    "name = ['mayank', 'revathi', 'arun', 'bandish']\n",
    "\n",
    "with open('names.bin', mode = 'wb') as f:\n",
    "    x = bytes(name)\n",
    "    f.write(name)"
   ]
  },
  {
   "cell_type": "markdown",
   "id": "278b4252-e0f2-4b86-89ff-5946837d1b19",
   "metadata": {
    "id": "278b4252-e0f2-4b86-89ff-5946837d1b19"
   },
   "source": [
    "### Pickling and Unpickling"
   ]
  },
  {
   "cell_type": "markdown",
   "id": "21c1dc67-ec2f-4c09-8714-3d5b24fb4d03",
   "metadata": {
    "id": "21c1dc67-ec2f-4c09-8714-3d5b24fb4d03"
   },
   "source": [
    "#### Pickling\n",
    "\n",
    "- It is also known as serialization, it is a process of converting any datatype into the bytes format and storing it in a binary file\n",
    "\n",
    "\n",
    "#### Unpickling\n",
    "\n",
    "- It is also known as deserialization, it is a process of reading the data from the binary file and converting it into their actual format"
   ]
  },
  {
   "cell_type": "markdown",
   "id": "b3d578d7-1462-46bd-a26d-65283934943d",
   "metadata": {
    "id": "b3d578d7-1462-46bd-a26d-65283934943d"
   },
   "source": [
    "__Note:__ We are going to use the pickle module to achieve the pickling and unpickling"
   ]
  },
  {
   "cell_type": "code",
   "execution_count": 191,
   "id": "458bb1eb-e6e6-41c8-ab56-f53670dab474",
   "metadata": {},
   "outputs": [],
   "source": [
    "import pickle"
   ]
  },
  {
   "cell_type": "markdown",
   "id": "8bbfefe2-8b72-43f2-ab38-2ff482792eb7",
   "metadata": {
    "id": "8bbfefe2-8b72-43f2-ab38-2ff482792eb7"
   },
   "source": [
    "#### dump()\n",
    "\n",
    "- It is used to pickle the data\n",
    "\n",
    "__Syntax:__\n",
    "        \n",
    "        pickle.dump(data, file_object)"
   ]
  },
  {
   "cell_type": "code",
   "execution_count": 193,
   "id": "c981e31d-23ef-40c2-85ae-d4aa8d924851",
   "metadata": {},
   "outputs": [
    {
     "data": {
      "text/plain": [
       "[1, 2, 3, 4, 5, 6, 7]"
      ]
     },
     "execution_count": 193,
     "metadata": {},
     "output_type": "execute_result"
    }
   ],
   "source": [
    "lst"
   ]
  },
  {
   "cell_type": "code",
   "execution_count": 203,
   "id": "f94ce090-ff4e-4c6b-957b-305134e46f60",
   "metadata": {},
   "outputs": [],
   "source": [
    "with open('lst1.dat', mode = 'wb') as f:\n",
    "    pickle.dump(lst, f)"
   ]
  },
  {
   "cell_type": "markdown",
   "id": "63f6a96a-9a01-42b7-8b5d-21049ef76f3d",
   "metadata": {
    "id": "63f6a96a-9a01-42b7-8b5d-21049ef76f3d"
   },
   "source": [
    "#### load()\n",
    "\n",
    "- It is used to unpickle the data"
   ]
  },
  {
   "cell_type": "code",
   "execution_count": 205,
   "id": "c7d50e20-5e06-4a78-8f56-f37c12f79b82",
   "metadata": {},
   "outputs": [
    {
     "name": "stdout",
     "output_type": "stream",
     "text": [
      "[1, 2, 3, 4, 5, 6, 7]\n"
     ]
    }
   ],
   "source": [
    "with open('lst1.dat', mode = 'rb') as f:\n",
    "    print(pickle.load(f))"
   ]
  },
  {
   "cell_type": "code",
   "execution_count": 207,
   "id": "0f620f7d-a807-403f-91c6-b11095bd9452",
   "metadata": {},
   "outputs": [],
   "source": [
    "emp_1 = {'Name':'Rajesh', 'Age':29, 'ID':101, 'salary':45000}\n",
    "emp_2 = {'Name':'Priya', 'Age':27, 'ID':102, 'salary':50000}\n",
    "emp_3 = {'Name':'Abha', 'Age':28, 'ID':103, 'salary':55000}"
   ]
  },
  {
   "cell_type": "code",
   "execution_count": 209,
   "id": "daa100fa-f7f3-4d4c-9099-a9469ffa99ca",
   "metadata": {},
   "outputs": [
    {
     "name": "stdout",
     "output_type": "stream",
     "text": [
      "{'emp1_detail': {'Name': 'Rajesh', 'Age': 29, 'ID': 101, 'salary': 45000}, 'emp2_detail': {'Name': 'Priya', 'Age': 27, 'ID': 102, 'salary': 50000}, 'emp3_detail': {'Name': 'Abha', 'Age': 28, 'ID': 103, 'salary': 55000}}\n"
     ]
    }
   ],
   "source": [
    "emp_details = {'emp1_detail':emp_1, 'emp2_detail':emp_2, 'emp3_detail':emp_3}\n",
    "print(emp_details)"
   ]
  },
  {
   "cell_type": "code",
   "execution_count": 213,
   "id": "482d942e-cfae-4cb0-8b87-deefad8779a0",
   "metadata": {},
   "outputs": [
    {
     "name": "stdout",
     "output_type": "stream",
     "text": [
      "b'\\x80\\x04\\x95\\x93\\x00\\x00\\x00\\x00\\x00\\x00\\x00}\\x94(\\x8c\\x0bemp1_detail\\x94}\\x94(\\x8c\\x04Name\\x94\\x8c\\x06Rajesh\\x94\\x8c\\x03Age\\x94K\\x1d\\x8c\\x02ID\\x94Ke\\x8c\\x06salary\\x94M\\xc8\\xafu\\x8c\\x0bemp2_detail\\x94}\\x94(h\\x03\\x8c\\x05Priya\\x94h\\x05K\\x1bh\\x06Kfh\\x07MP\\xc3u\\x8c\\x0bemp3_detail\\x94}\\x94(h\\x03\\x8c\\x04Abha\\x94h\\x05K\\x1ch\\x06Kgh\\x07M\\xd8\\xd6uu.'\n"
     ]
    }
   ],
   "source": [
    "with open('employee.dat', mode = 'wb+') as f:\n",
    "    pickle.dump(emp_details, f)\n",
    "    f.seek(0)\n",
    "    print(f.read())"
   ]
  },
  {
   "cell_type": "code",
   "execution_count": 217,
   "id": "a160cd24-93b6-413c-b39b-da0c350ad90f",
   "metadata": {},
   "outputs": [],
   "source": [
    "import pickle"
   ]
  },
  {
   "cell_type": "code",
   "execution_count": 219,
   "id": "18fd1585-a522-4b13-8294-cb318228705f",
   "metadata": {},
   "outputs": [
    {
     "name": "stdout",
     "output_type": "stream",
     "text": [
      "{'emp1_detail': {'Name': 'Rajesh', 'Age': 29, 'ID': 101, 'salary': 45000}, 'emp2_detail': {'Name': 'Priya', 'Age': 27, 'ID': 102, 'salary': 50000}, 'emp3_detail': {'Name': 'Abha', 'Age': 28, 'ID': 103, 'salary': 55000}}\n"
     ]
    }
   ],
   "source": [
    "with open(r\"C:\\Users\\Mayank\\Downloads\\employee (1).dat\", mode = 'rb') as f:\n",
    "    print(pickle.load(f))"
   ]
  },
  {
   "cell_type": "code",
   "execution_count": 221,
   "id": "dacae44e-49dc-4875-b8a6-0640949ad60f",
   "metadata": {},
   "outputs": [],
   "source": [
    "import pickle \n",
    "from PIL import Image\n",
    "\n",
    "# open and load image\n",
    "image_path = r\"C:\\Users\\Mayank\\OneDrive\\Pictures\\133542958900176502.jpg\"\n",
    "image = Image.open(image_path)\n",
    "\n",
    "#pickle the image\n",
    "with open('image.pkl', mode = 'wb') as f:\n",
    "    pickle.dump(image, f)"
   ]
  },
  {
   "cell_type": "code",
   "execution_count": 223,
   "id": "267bbed5-1bab-4f7a-9574-ec59843fad85",
   "metadata": {},
   "outputs": [],
   "source": [
    "# upickle \n",
    "with open(r\"C:\\Users\\Mayank\\Downloads\\image.pkl\", mode = 'rb') as f:\n",
    "    unpickled_image = pickle.load(f)\n",
    "\n",
    "# Display the file\n",
    "unpickled_image.show()"
   ]
  },
  {
   "cell_type": "code",
   "execution_count": null,
   "id": "13f1daad-5f6e-49b1-9b42-844a4c66b11e",
   "metadata": {},
   "outputs": [],
   "source": []
  },
  {
   "cell_type": "code",
   "execution_count": null,
   "id": "18dd439d-aead-4ff4-871e-fbbfc59a7c7c",
   "metadata": {},
   "outputs": [],
   "source": []
  },
  {
   "cell_type": "markdown",
   "id": "314cd81b-5bda-4186-a0a5-1b48cde6c9f4",
   "metadata": {},
   "source": [
    "### Exception Handling"
   ]
  },
  {
   "cell_type": "markdown",
   "id": "b907d2db-f43e-41b2-b6ec-12e05ccaa386",
   "metadata": {},
   "source": [
    "### Errors\n",
    "\n",
    "- Compile Time Error (Syntax Error and Indentation Error)\n",
    "- Run time Error (Exceptions)\n",
    "\n",
    "__Note:__ Whenever an error occurs, it disrupts the normal flow of the execution"
   ]
  },
  {
   "cell_type": "markdown",
   "id": "cc0ea019-7147-4a3b-af3e-26c732dc4256",
   "metadata": {},
   "source": [
    "#### What is Exception Handling\n",
    "\n",
    "Exception handling in Python is a crucial mechanism for managing errors that occur during program execution. Instead of allowing the entire program to crash when an error happens, exception handling allows you to catch these errors, handle them gracefully, and continue the program or terminate it cleanly."
   ]
  },
  {
   "cell_type": "markdown",
   "id": "f6d6504d-2de4-45d1-b5a3-e81c03bdc9f7",
   "metadata": {},
   "source": [
    "#### Key Components of Exception Handling\n",
    "\n",
    "- **try:** This block lets you test a block of code for errors.\n",
    "- **except:** This block lets you handle the error.\n",
    "- **else:** If no errors were raised, this block will be executed.\n",
    "- **finally:** This block lets you execute code, regardless of the result of the try- and except blocks."
   ]
  },
  {
   "cell_type": "markdown",
   "id": "e9bf3d2e-0402-4604-ba1c-4d169c028039",
   "metadata": {},
   "source": [
    "### try and except statement\n",
    "\n",
    "The `try` and `except` statement in Python is a fundamental structure for handling exceptions. This construct allows programmers to deal with errors in a flexible and robust manner, enabling the program to continue execution even when an error occurs.\n",
    "\n",
    "### Detailed Explanation of `try` and `except` Statement\n",
    "\n",
    "- **`try` Block**: This is where you place the code that you think might cause an error during execution. The purpose of the `try` block is to catch any exceptions that might be thrown as the program runs. By placing potentially error-prone code within a `try` block, you prepare to handle any problems that might cause the code to crash.\n",
    "\n",
    "- **`except` Block**: This block lets you handle the error. When an exception is raised in the `try` block, the rest of the `try` block's code is skipped, and the code in the `except` block runs. If the exception matches the exception named in the `except` clause, it is handled here. If no specific exception is named, the `except` block will catch all exceptions, which is not generally recommended because it can hide errors you might not be aware of.\n",
    "\n",
    "### Syntax\n",
    "\n",
    "Here’s the basic syntax of the `try` and `except` statement:\n",
    "\n",
    "```python\n",
    "try:\n",
    "    # Code that might throw an exception\n",
    "    code_1\n",
    "    code_2\n",
    "except SomeException:\n",
    "    # Code that runs if an exception occurs\n",
    "    response\n",
    "```"
   ]
  },
  {
   "cell_type": "markdown",
   "id": "671bbf93-c8bf-48f0-9ada-24bf360aba76",
   "metadata": {},
   "source": [
    "### How to get a proper error message in exceptional handling\n",
    "\n",
    "In Python, when handling exceptions, you can capture and display more detailed information about an exception using the exception object itself. This approach provides insights into the nature of the error, helping you to understand and debug issues more effectively. Here’s how you can get detailed error messages during exception handling:\n",
    "\n",
    "### Basic Exception Handling with Error Messages\n",
    "\n",
    "1. **Use the Exception Object**: When an exception occurs, Python creates an exception object that can be used to obtain information about the error that has been raised. You can catch this object in the `except` block.\n",
    "\n",
    "2. **Accessing the Message**: The exception object typically has an attribute or a way to convert it to a string that represents the error messn quickly pinpoint the source of issues in your Python applications."
   ]
  },
  {
   "cell_type": "markdown",
   "id": "f59537a1-2bc0-49fd-8a86-200b8800b0cb",
   "metadata": {},
   "source": [
    "### Example: Catching and Printing the Exception Message\n",
    "\n",
    "Here’s a simple example of how to catch and print an error message:\n",
    "\n",
    "### Using Exception Attributes\n",
    "\n",
    "Some exceptions have specific attributes that provide additional information about the error. For example, the exceptions related to file operations often include a filename attribute"
   ]
  },
  {
   "cell_type": "markdown",
   "id": "0d90350d-2a99-4ca7-8175-e31cce9a0d61",
   "metadata": {},
   "source": [
    "### How to get a customed message for different error\n",
    "\n",
    "In Python, you can customize the error messages for different exceptions by catching each specific type of exception individually and providing custom messages for each. This approach allows you to handle different errors with tailored responses, making your application's error handling more informative and user-friendly.\n",
    "\n",
    "### Basic Example with Custom Messages for Different Errors\n",
    "\n",
    "Here's an example that demonstrates how to provide custom messages for different types of exceptions:\n"
   ]
  },
  {
   "cell_type": "markdown",
   "id": "c99349d7-0dc0-4f18-b66d-6529b2df3dda",
   "metadata": {},
   "source": [
    "### Explanation of the Code:\n",
    "\n",
    "1. **`try` Block**: This block contains the code that might throw several types of exceptions. It tries to convert user inputs to integers, performs a division, and attempts to open and read a file.\n",
    "\n",
    "2. **`except` Blocks**:\n",
    "   - **ValueError**: Catches errors related to invalid input (e.g., if the user enters a non-numeric string where a number is expected).\n",
    "   - **ZeroDivisionError**: Catches errors that occur when attempting to divide by zero.\n",
    "   - **FileNotFoundError**: Handles cases where the specified file does not exist."
   ]
  },
  {
   "cell_type": "markdown",
   "id": "eedd541c-d7c6-47f8-b34c-057cb9746213",
   "metadata": {},
   "source": [
    "### Nested try and except statement\n",
    "\n",
    "In Python, you can nest `try` blocks within other `try` blocks or even within `except` and `else` blocks. This nesting is useful when you want to handle exceptions that may occur in different parts of a sequence of operations where each operation might throw different kinds of exceptions. Additionally, using `else` blocks in conjunction with `try` blocks can help in scenarios where you want to execute certain code only if no exceptions were raised in the `try` block.\n"
   ]
  },
  {
   "cell_type": "markdown",
   "id": "f0a03f99-8ad9-4bba-98db-c6af83bf3e5b",
   "metadata": {},
   "source": [
    "### Explanation\n",
    "\n",
    "1. **Outer `try` Block**: This block attempts to take an input, convert it to an integer, and then perform division. If any of these operations fail, it will be caught by the corresponding `except` blocks.\n",
    "\n",
    "2. **Nested `try` Block**: Inside the outer `try`, there is another `try` block dedicated to file operations. This nesting allows handling file-related errors independently of the number input and division errors.\n",
    "\n",
    "3. **Outer `except` Blocks**: These handle errors specific to the operations in the outer `try` block, like `ValueError` for invalid input and `ZeroDivisionError` for division by zero."
   ]
  },
  {
   "cell_type": "markdown",
   "id": "ff1c5773-eac8-4339-a8ff-b1c7abc08d03",
   "metadata": {},
   "source": [
    "### Multiple try and excpt statement\n",
    "\n",
    "When you have multiple operations in your program that could fail independently of each other, it might be beneficial to use separate `try` and `except` blocks for each operation. This setup allows you to handle errors in a very specific and isolated manner, providing a clear response and recovery strategy for each distinct error condition.\n",
    "\n",
    "##### Syntax of Multiple `try` and `except` Statements\n",
    "\n",
    "Here's a basic example to demonstrate the syntax for using multiple `try` and `except` blocks:\n",
    "\n",
    "```python\n",
    "try:\n",
    "    # First block of code that might throw an exception\n",
    "    code_1\n",
    "    code_2\n",
    "except:\n",
    "    # Response if an exception occurs in the first try block\n",
    "    response_1\n",
    "            \n",
    "try:\n",
    "    # Second block of code that might throw another exception\n",
    "    code_3\n",
    "    code_4\n",
    "except:\n",
    "    # Response if an exception occurs in the second try blocvariety of error conditions gracefully and independently."
   ]
  },
  {
   "cell_type": "markdown",
   "id": "2e409399-4a44-460f-8f2d-b01824214c1d",
   "metadata": {},
   "source": [
    "### Explanation\n",
    "\n",
    "1. **First `try` Block**: Attempts to convert user input to an integer. If the input is not a valid integer, a `ValueError` is raised, and the corresponding `except` block catches this exception and prints a message.\n",
    "\n",
    "2. **Second `try` Block**: Tries to open a file and read its contents. If the file does not exist, a `FileNotFoundError` is raised. The `except` block for this error then handles the exception by notifying the user that the file was not found.\n",
    "\n",
    "### Benefits of Using Multiple `try` and `except` Blocks\n",
    "\n",
    "- **Isolation of Error Handling**: By using multiple `try` blocks, you can isolate error handling for different sections of code. This isolation makes the code easier to debug and maintain since you know exactly which block of code a particular `except` is handling.\n",
    "\n",
    "- **Specificity in Error Responses**: Each `except` block can provide a very specific response to the error it handles. This specificity can improve the user's experience by providing clearer, more informative error messages.\n",
    "\n",
    "- **Prevent Unnecessary Code Execution**: If an error occurs in the first `try` block, the corresponding `except` will handle it, and the program will continue executing normally, potentially running subsequent `try` blocks. This prevents the entire program from stopping due to a single error, which is especially useful in applications where not all operations are interdependent.\n",
    "\n",
    "Using multiple `try` and `except` blocks like this can enhance the robustness of your Python applications, allowing them to handle a variety of error conditions gracefully and independently."
   ]
  },
  {
   "cell_type": "code",
   "execution_count": null,
   "id": "c8fd0b40-6a5f-4243-b557-bfc28d0c15cd",
   "metadata": {},
   "outputs": [],
   "source": []
  }
 ],
 "metadata": {
  "colab": {
   "provenance": []
  },
  "kernelspec": {
   "display_name": "Python 3 (ipykernel)",
   "language": "python",
   "name": "python3"
  },
  "language_info": {
   "codemirror_mode": {
    "name": "ipython",
    "version": 3
   },
   "file_extension": ".py",
   "mimetype": "text/x-python",
   "name": "python",
   "nbconvert_exporter": "python",
   "pygments_lexer": "ipython3",
   "version": "3.12.4"
  }
 },
 "nbformat": 4,
 "nbformat_minor": 5
}
